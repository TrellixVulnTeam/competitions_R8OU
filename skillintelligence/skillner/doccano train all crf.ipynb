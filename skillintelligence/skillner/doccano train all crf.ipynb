{
 "cells": [
  {
   "cell_type": "code",
   "execution_count": 1,
   "metadata": {
    "ExecuteTime": {
     "end_time": "2021-07-15T15:13:24.486279Z",
     "start_time": "2021-07-15T15:13:24.479873Z"
    },
    "colab": {
     "base_uri": "https://localhost:8080/"
    },
    "executionInfo": {
     "elapsed": 7489,
     "status": "ok",
     "timestamp": 1617762989532,
     "user": {
      "displayName": "Shiqi Liang",
      "photoUrl": "",
      "userId": "07861028925154326261"
     },
     "user_tz": -480
    },
    "id": "LAJFvUCyb1i7",
    "outputId": "b3b32c36-835a-4b30-d6ac-360f34f39b94"
   },
   "outputs": [],
   "source": [
    "# !pip install transformers"
   ]
  },
  {
   "cell_type": "code",
   "execution_count": 2,
   "metadata": {
    "ExecuteTime": {
     "end_time": "2021-07-15T15:13:29.335086Z",
     "start_time": "2021-07-15T15:13:24.488832Z"
    },
    "id": "C2DvgqUh_RfM"
   },
   "outputs": [],
   "source": [
    "import argparse\n",
    "import logging\n",
    "import os\n",
    "import random\n",
    "import sys\n",
    "import pandas as pd\n",
    "import numpy as np\n",
    "from collections import defaultdict\n",
    "from seqeval.metrics import classification_report\n",
    "\n",
    "import torch\n",
    "from torch.nn import CrossEntropyLoss\n",
    "from torch.utils.data import DataLoader, RandomSampler, SequentialSampler, TensorDataset\n",
    "from torch.utils.data.distributed import DistributedSampler\n",
    "from tqdm.notebook import tqdm, trange\n",
    "\n",
    "from transformers import (\n",
    "    AdamW,\n",
    "    AutoConfig,\n",
    "    AutoTokenizer,\n",
    "    get_linear_schedule_with_warmup,\n",
    ")\n",
    "\n",
    "try:\n",
    "    from torch.utils.tensorboard import SummaryWriter\n",
    "except ImportError:\n",
    "    from tensorboardX import SummaryWriter"
   ]
  },
  {
   "cell_type": "code",
   "execution_count": 3,
   "metadata": {
    "ExecuteTime": {
     "end_time": "2021-07-15T15:13:29.350183Z",
     "start_time": "2021-07-15T15:13:29.339256Z"
    },
    "id": "AGmAD2tqeSy7"
   },
   "outputs": [],
   "source": [
    "from collections import OrderedDict\n",
    "\n",
    "from transformers import BertConfig\n",
    "from transformers import RobertaConfig\n",
    "from transformers import AlbertConfig, ElectraConfig\n",
    "from transformers import XLMConfig, DistilBertConfig, CamembertConfig, XLMRobertaConfig\n",
    "from transformers import AutoConfig, PretrainedConfig"
   ]
  },
  {
   "cell_type": "code",
   "execution_count": 4,
   "metadata": {
    "ExecuteTime": {
     "end_time": "2021-07-15T15:13:29.486518Z",
     "start_time": "2021-07-15T15:13:29.352269Z"
    },
    "id": "xLPz5HV4eS2F"
   },
   "outputs": [],
   "source": [
    "import torch\n",
    "import torch.nn as nn\n",
    "import torch.nn.functional as F\n",
    "from torch.nn import CrossEntropyLoss\n",
    "from transformers import BertModel, RobertaModel # DistilBertModel, XLMModel, AlbertModel\n",
    "from transformers import BertPreTrainedModel # AlbertPreTrainedModel, DistilBertPreTrainedModel, XLMPreTrainedModel, ElectraPreTrainedModel\n",
    "\n",
    "from typing import List, Optional"
   ]
  },
  {
   "cell_type": "code",
   "execution_count": 5,
   "metadata": {
    "ExecuteTime": {
     "end_time": "2021-07-15T15:13:29.586564Z",
     "start_time": "2021-07-15T15:13:29.489380Z"
    },
    "id": "Lgq04Hq_eS9E"
   },
   "outputs": [],
   "source": [
    "def set_seed(args):\n",
    "    random.seed(args.seed)\n",
    "    np.random.seed(args.seed)\n",
    "    torch.manual_seed(args.seed)\n",
    "    if args.n_gpu > 0:\n",
    "        torch.cuda.manual_seed_all(args.seed)"
   ]
  },
  {
   "cell_type": "markdown",
   "metadata": {
    "id": "KeHiC3NefMVC"
   },
   "source": [
    "## Input related functions"
   ]
  },
  {
   "cell_type": "code",
   "execution_count": 6,
   "metadata": {
    "ExecuteTime": {
     "end_time": "2021-07-15T15:13:29.720480Z",
     "start_time": "2021-07-15T15:13:29.589861Z"
    },
    "id": "A7sp2NNueS_i"
   },
   "outputs": [],
   "source": [
    "class InputExample(object):\n",
    "    \"\"\"A single training/test example for token classification.\"\"\"\n",
    "\n",
    "    def __init__(self, guid, words, labels):\n",
    "        \"\"\"Constructs a InputExample.\n",
    "        Args:\n",
    "            guid: Unique id for the example.\n",
    "            words: list. The words of the sequence.\n",
    "            labels: (Optional) list. The labels for each word of the sequence. This should be\n",
    "            specified for train and dev examples, but not for test examples.\n",
    "        \"\"\"\n",
    "        self.guid = guid\n",
    "        self.words = words\n",
    "        self.labels = labels\n",
    "\n",
    "\n",
    "class InputFeatures(object):\n",
    "    \"\"\"A single set of features of data.\"\"\"\n",
    "\n",
    "    def __init__(self, input_ids, input_mask, valid_mask, segment_ids, label_ids, start_ids, end_ids):\n",
    "        self.input_ids = input_ids\n",
    "        self.input_mask = input_mask\n",
    "        self.valid_mask = valid_mask\n",
    "        self.segment_ids = segment_ids\n",
    "        self.label_ids = label_ids\n",
    "        self.start_ids = start_ids\n",
    "        self.end_ids = end_ids"
   ]
  },
  {
   "cell_type": "code",
   "execution_count": 7,
   "metadata": {
    "ExecuteTime": {
     "end_time": "2021-07-15T15:13:29.829440Z",
     "start_time": "2021-07-15T15:13:29.722839Z"
    },
    "id": "F79pVdQ-eTCM"
   },
   "outputs": [],
   "source": [
    "def get_labels(path):\n",
    "    if path:\n",
    "        with open(path, \"r\") as f:\n",
    "            labels = f.read().splitlines()\n",
    "        if \"O\" not in labels:\n",
    "            labels = [\"O\"] + labels\n",
    "        return labels\n",
    "    else:\n",
    "#         return ['O','B-TECH','I-TECH']\n",
    "        return ['O','B-FUNC','I-FUNC','B-POWER','I-POWER','B-SAP','I-SAP','B-TECH','I-TECH','B-QUALIFICATION','I-QUALIFICATION']"
   ]
  },
  {
   "cell_type": "code",
   "execution_count": 8,
   "metadata": {
    "ExecuteTime": {
     "end_time": "2021-07-15T15:13:29.908666Z",
     "start_time": "2021-07-15T15:13:29.833104Z"
    },
    "id": "X5u09l4ofIK0"
   },
   "outputs": [],
   "source": [
    "def get_entities(seq):\n",
    "    \"\"\"Gets entities from sequence.\n",
    "    note: BIO\n",
    "    Args:\n",
    "        seq (list): sequence of labels.\n",
    "    Returns:\n",
    "        list: list of (chunk_type, chunk_start, chunk_end).\n",
    "    Example:\n",
    "        seq = ['B-PER', 'I-PER', 'O', 'B-LOC', 'I-PER']\n",
    "        get_entity_bio(seq)\n",
    "        #output\n",
    "        [['PER', 0,1], ['LOC', 3, 3], ['PER', 4, 4]]\n",
    "    \"\"\"\n",
    "    if any(isinstance(s, list) for s in seq):\n",
    "        seq = [item for sublist in seq for item in sublist + ['O']]\n",
    "\n",
    "    prev_tag = 'O'\n",
    "    prev_type = ''\n",
    "    begin_offset = 0\n",
    "    chunks = []\n",
    "    for i, chunk in enumerate(seq + ['O']):\n",
    "        tag = chunk[0]\n",
    "        type_ = chunk.split('-')[-1]\n",
    "\n",
    "        if end_of_chunk(prev_tag, tag, prev_type, type_):\n",
    "            chunks.append((prev_type, begin_offset, i - 1))\n",
    "        if start_of_chunk(prev_tag, tag, prev_type, type_):\n",
    "            begin_offset = i\n",
    "        prev_tag = tag\n",
    "        prev_type = type_\n",
    "\n",
    "    return set(chunks)"
   ]
  },
  {
   "cell_type": "code",
   "execution_count": 9,
   "metadata": {
    "ExecuteTime": {
     "end_time": "2021-07-15T15:13:30.064952Z",
     "start_time": "2021-07-15T15:13:29.914463Z"
    }
   },
   "outputs": [],
   "source": [
    "def end_of_chunk(prev_tag, tag, prev_type, type_):\n",
    "    \"\"\"Checks if a chunk ended between the previous and current word.\n",
    "    Args:\n",
    "        prev_tag: previous chunk tag.\n",
    "        tag: current chunk tag.\n",
    "        prev_type: previous type.\n",
    "        type_: current type.\n",
    "    Returns:\n",
    "        chunk_end: boolean.\n",
    "    \"\"\"\n",
    "    chunk_end = False\n",
    "\n",
    "    if prev_tag == 'E': chunk_end = True\n",
    "    if prev_tag == 'S': chunk_end = True\n",
    "\n",
    "    if prev_tag == 'B' and tag == 'B': chunk_end = True\n",
    "    if prev_tag == 'B' and tag == 'S': chunk_end = True\n",
    "    if prev_tag == 'B' and tag == 'O': chunk_end = True\n",
    "    if prev_tag == 'I' and tag == 'B': chunk_end = True\n",
    "    if prev_tag == 'I' and tag == 'S': chunk_end = True\n",
    "    if prev_tag == 'I' and tag == 'O': chunk_end = True\n",
    "\n",
    "    if prev_tag != 'O' and prev_tag != '.' and prev_type != type_:\n",
    "        chunk_end = True\n",
    "\n",
    "    return chunk_end\n",
    "\n",
    "\n",
    "def start_of_chunk(prev_tag, tag, prev_type, type_):\n",
    "    \"\"\"Checks if a chunk started between the previous and current word.\n",
    "    Args:\n",
    "        prev_tag: previous chunk tag.\n",
    "        tag: current chunk tag.\n",
    "        prev_type: previous type.\n",
    "        type_: current type.\n",
    "    Returns:\n",
    "        chunk_start: boolean.\n",
    "    \"\"\"\n",
    "    chunk_start = False\n",
    "\n",
    "    if tag == 'B': chunk_start = True\n",
    "    if tag == 'S': chunk_start = True\n",
    "\n",
    "    if prev_tag == 'E' and tag == 'E': chunk_start = True\n",
    "    if prev_tag == 'E' and tag == 'I': chunk_start = True\n",
    "    if prev_tag == 'S' and tag == 'E': chunk_start = True\n",
    "    if prev_tag == 'S' and tag == 'I': chunk_start = True\n",
    "    if prev_tag == 'O' and tag == 'E': chunk_start = True\n",
    "    if prev_tag == 'O' and tag == 'I': chunk_start = True\n",
    "\n",
    "    if tag != 'O' and tag != '.' and prev_type != type_:\n",
    "        chunk_start = True\n",
    "\n",
    "    return chunk_start"
   ]
  },
  {
   "cell_type": "code",
   "execution_count": 10,
   "metadata": {
    "ExecuteTime": {
     "end_time": "2021-07-15T15:13:30.165504Z",
     "start_time": "2021-07-15T15:13:30.067976Z"
    }
   },
   "outputs": [],
   "source": [
    "def get_entities_bio(seq):\n",
    "    \"\"\"Gets entities from sequence.\n",
    "    note: BIO\n",
    "    Args:\n",
    "        seq (list): sequence of labels.\n",
    "    Returns:\n",
    "        list: list of (chunk_type, chunk_start, chunk_end).\n",
    "    Example:\n",
    "        seq = ['B-PER', 'I-PER', 'O', 'B-LOC', 'I-PER']\n",
    "        get_entity_bio(seq)\n",
    "        #output\n",
    "        [['PER', 0,1], ['LOC', 3, 3]]\n",
    "    \"\"\"\n",
    "    if any(isinstance(s, list) for s in seq):\n",
    "        seq = [item for sublist in seq for item in sublist + ['O']]\n",
    "    chunks = []\n",
    "    chunk = [-1, -1, -1]\n",
    "    for indx, tag in enumerate(seq):\n",
    "        if tag.startswith(\"B-\"):\n",
    "            if chunk[2] != -1:\n",
    "                chunks.append(chunk)\n",
    "            chunk = [-1, -1, -1]\n",
    "            chunk[1] = indx\n",
    "            chunk[0] = tag.split('-')[1]\n",
    "            chunk[2] = indx\n",
    "            if indx == len(seq) - 1:\n",
    "                chunks.append(chunk)\n",
    "        elif tag.startswith('I-') and chunk[1] != -1:\n",
    "            _type = tag.split('-')[1]\n",
    "            if _type == chunk[0]:\n",
    "                chunk[2] = indx\n",
    "\n",
    "            if indx == len(seq) - 1:\n",
    "                chunks.append(chunk)\n",
    "        else:\n",
    "            if chunk[2] != -1:\n",
    "                chunks.append(chunk)\n",
    "            chunk = [-1, -1, -1]\n",
    "    return set([tuple(chunk) for chunk in chunks])"
   ]
  },
  {
   "cell_type": "code",
   "execution_count": 11,
   "metadata": {
    "ExecuteTime": {
     "end_time": "2021-07-15T15:13:30.325853Z",
     "start_time": "2021-07-15T15:13:30.169383Z"
    },
    "id": "OkFL11eKfC04"
   },
   "outputs": [],
   "source": [
    "def convert_examples_to_features(\n",
    "        examples,\n",
    "        label_list,\n",
    "        max_seq_length,\n",
    "        tokenizer,\n",
    "        cls_token_at_end=False,\n",
    "        cls_token=\"[CLS]\",\n",
    "        cls_token_segment_id=1,\n",
    "        sep_token=\"[SEP]\",\n",
    "        sep_token_extra=False,\n",
    "        pad_on_left=False,\n",
    "        pad_token=0,\n",
    "        pad_token_segment_id=0,\n",
    "        pad_token_label_id=-100,\n",
    "        sequence_a_segment_id=0,\n",
    "        mask_padding_with_zero=True,\n",
    "):\n",
    "    \"\"\" Loads a data file into a list of `InputBatch`s\n",
    "        `cls_token_at_end` define the location of the CLS token:\n",
    "            - False (Default, BERT/XLM pattern): [CLS] + A + [SEP] + B + [SEP]\n",
    "            - True (XLNet/GPT pattern): A + [SEP] + B + [SEP] + [CLS]\n",
    "        `cls_token_segment_id` define the segment id associated to the CLS token (0 for BERT, 2 for XLNet)\n",
    "    \"\"\"\n",
    "    label_map = {label: i for i, label in enumerate(label_list)}\n",
    "    span_labels = []\n",
    "    for label in label_list:\n",
    "        label = label.split('-')[-1]\n",
    "        if label not in span_labels:\n",
    "            span_labels.append(label)\n",
    "    span_map = {label: i for i, label in enumerate(span_labels)}\n",
    "    features = []\n",
    "    for (ex_index, example) in enumerate(examples):\n",
    "        if ex_index % 10000 == 0:\n",
    "            logger.info(\"Writing example %d of %d\", ex_index, len(examples))\n",
    "\n",
    "        tokens = []\n",
    "        valid_mask = []\n",
    "        for word in example.words:\n",
    "            word_tokens = tokenizer.tokenize(word)\n",
    "            # bert-base-multilingual-cased sometimes output \"nothing ([]) when calling tokenize with just a space.\n",
    "            for i, word_token in enumerate(word_tokens):\n",
    "                if i == 0:\n",
    "                    valid_mask.append(1)\n",
    "                else:\n",
    "                    valid_mask.append(0)\n",
    "                tokens.append(word_token)\n",
    "        label_ids = [label_map[label] for label in example.labels]\n",
    "        entities = get_entities(example.labels)\n",
    "        start_ids = [span_map['O']] * len(label_ids)\n",
    "        end_ids = [span_map['O']] * len(label_ids)\n",
    "        for entity in entities:\n",
    "            start_ids[entity[1]] = span_map[entity[0]]\n",
    "            end_ids[entity[-1]] = span_map[entity[0]]\n",
    "        # Account for [CLS] and [SEP] with \"- 2\" and with \"- 3\" for RoBERTa.\n",
    "        special_tokens_count = 3 if sep_token_extra else 2\n",
    "        if len(tokens) > max_seq_length - special_tokens_count:\n",
    "            tokens = tokens[: (max_seq_length - special_tokens_count)]\n",
    "            label_ids = label_ids[: (max_seq_length - special_tokens_count)]\n",
    "            valid_mask = valid_mask[: (max_seq_length - special_tokens_count)]\n",
    "            start_ids = start_ids[: (max_seq_length - special_tokens_count)]\n",
    "            end_ids = end_ids[: (max_seq_length - special_tokens_count)]\n",
    "\n",
    "        tokens += [sep_token]\n",
    "        label_ids += [pad_token_label_id]\n",
    "        start_ids += [pad_token_label_id]\n",
    "        end_ids += [pad_token_label_id]\n",
    "        valid_mask.append(1)\n",
    "        if sep_token_extra:\n",
    "            # roberta uses an extra separator b/w pairs of sentences\n",
    "            tokens += [sep_token]\n",
    "            label_ids += [pad_token_label_id]\n",
    "            start_ids += [pad_token_label_id]\n",
    "            end_ids += [pad_token_label_id]\n",
    "            valid_mask.append(1)\n",
    "        segment_ids = [sequence_a_segment_id] * len(tokens)\n",
    "\n",
    "        if cls_token_at_end:\n",
    "            tokens += [cls_token]\n",
    "            label_ids += [pad_token_label_id]\n",
    "            start_ids += [pad_token_label_id]\n",
    "            end_ids += [pad_token_label_id]\n",
    "            segment_ids += [cls_token_segment_id]\n",
    "            valid_mask.append(1)\n",
    "        else:\n",
    "            tokens = [cls_token] + tokens\n",
    "            label_ids = [pad_token_label_id] + label_ids\n",
    "            start_ids = [pad_token_label_id] + start_ids\n",
    "            end_ids = [pad_token_label_id] + end_ids\n",
    "            segment_ids = [cls_token_segment_id] + segment_ids\n",
    "            valid_mask.insert(0, 1)\n",
    "\n",
    "        input_ids = tokenizer.convert_tokens_to_ids(tokens)\n",
    "\n",
    "        # The mask has 1 for real tokens and 0 for padding tokens. Only real\n",
    "        # tokens are attended to.\n",
    "        input_mask = [1 if mask_padding_with_zero else 0] * len(input_ids)\n",
    "\n",
    "        # Zero-pad up to the sequence length.\n",
    "        padding_length = max_seq_length - len(input_ids)\n",
    "        if pad_on_left:\n",
    "            input_ids = ([pad_token] * padding_length) + input_ids\n",
    "            input_mask = ([0 if mask_padding_with_zero else 1] * padding_length) + input_mask\n",
    "            segment_ids = ([pad_token_segment_id] * padding_length) + segment_ids\n",
    "            label_ids = ([pad_token_label_id] * padding_length) + label_ids\n",
    "            start_ids = ([pad_token_label_id] * padding_length) + start_ids\n",
    "            end_ids = ([pad_token_label_id] * padding_length) + end_ids\n",
    "            valid_mask = ([0] * padding_length) + valid_mask\n",
    "        else:\n",
    "            input_ids += [pad_token] * padding_length\n",
    "            input_mask += [0 if mask_padding_with_zero else 1] * padding_length\n",
    "            segment_ids += [pad_token_segment_id] * padding_length\n",
    "            label_ids += [pad_token_label_id] * padding_length\n",
    "            start_ids += [pad_token_label_id] * padding_length\n",
    "            end_ids += [pad_token_label_id] * padding_length\n",
    "            valid_mask += [0] * padding_length\n",
    "        while (len(label_ids) < max_seq_length):\n",
    "            label_ids.append(pad_token_label_id)\n",
    "            start_ids.append(pad_token_label_id)\n",
    "            end_ids.append(pad_token_label_id)\n",
    "\n",
    "        assert len(input_ids) == max_seq_length\n",
    "        assert len(input_mask) == max_seq_length\n",
    "        assert len(segment_ids) == max_seq_length\n",
    "        assert len(label_ids) == max_seq_length\n",
    "        assert len(start_ids) == max_seq_length\n",
    "        assert len(end_ids) == max_seq_length\n",
    "        assert len(valid_mask) == max_seq_length\n",
    "\n",
    "        if ex_index < 5:\n",
    "            logger.info(\"*** Example ***\")\n",
    "            logger.info(\"guid: %s\", example.guid)\n",
    "            logger.info(\"tokens: %s\", \" \".join([str(x) for x in tokens]))\n",
    "            logger.info(\"valid_mask: %s\", \" \".join([str(x) for x in valid_mask]))\n",
    "            logger.info(\"input_ids: %s\", \" \".join([str(x) for x in input_ids]))\n",
    "            logger.info(\"input_mask: %s\", \" \".join([str(x) for x in input_mask]))\n",
    "            logger.info(\"segment_ids: %s\", \" \".join([str(x) for x in segment_ids]))\n",
    "            logger.info(\"label_ids: %s\", \" \".join([str(x) for x in label_ids]))\n",
    "            logger.info(\"start_ids: %s\", \" \".join([str(x) for x in start_ids]))\n",
    "            logger.info(\"end_ids: %s\", \" \".join([str(x) for x in end_ids]))\n",
    "\n",
    "        features.append(\n",
    "            InputFeatures(input_ids=input_ids,\n",
    "                          input_mask=input_mask,\n",
    "                          valid_mask=valid_mask,\n",
    "                          segment_ids=segment_ids,\n",
    "                          label_ids=label_ids,\n",
    "                          start_ids=start_ids,\n",
    "                          end_ids=end_ids)\n",
    "        )\n",
    "    return features"
   ]
  },
  {
   "cell_type": "code",
   "execution_count": 12,
   "metadata": {
    "ExecuteTime": {
     "end_time": "2021-07-15T15:13:30.410315Z",
     "start_time": "2021-07-15T15:13:30.329147Z"
    },
    "id": "VSd598bSeTJ8"
   },
   "outputs": [],
   "source": [
    "def read_examples_from_file(data_dir, mode):\n",
    "    file_path = os.path.join(data_dir, \"{}.txt\".format(mode))\n",
    "    guid_index = 1\n",
    "    examples = []\n",
    "    with open(file_path, encoding=\"utf-8\") as f:\n",
    "        words = []\n",
    "        labels = []\n",
    "        for line in f:\n",
    "            if line.startswith(\"-DOCSTART-\") or line == \"\" or line == \"\\n\":\n",
    "                if words:\n",
    "                    examples.append(InputExample(guid=\"{}-{}\".format(mode, guid_index), words=words, labels=labels))\n",
    "                    guid_index += 1\n",
    "                    words = []\n",
    "                    labels = []\n",
    "            else:\n",
    "                splits = line.split(\" \")\n",
    "                words.append(splits[0])\n",
    "                if len(splits) > 1:\n",
    "                    labels.append(splits[-1].replace(\"\\n\", \"\"))\n",
    "                else:\n",
    "                    # Examples could have no label for mode = \"test\"\n",
    "                    labels.append(\"O\")\n",
    "        if words:\n",
    "            examples.append(InputExample(guid=\"{}-{}\".format(mode, guid_index), words=words, labels=labels))\n",
    "    return examples"
   ]
  },
  {
   "cell_type": "code",
   "execution_count": 13,
   "metadata": {
    "ExecuteTime": {
     "end_time": "2021-07-15T15:13:30.557194Z",
     "start_time": "2021-07-15T15:13:30.413110Z"
    },
    "id": "bHsTyAOVeTHH"
   },
   "outputs": [],
   "source": [
    "def load_and_cache_examples(args, tokenizer, labels, pad_token_label_id, mode):\n",
    "    if args.local_rank not in [-1, 0] and not evaluate:\n",
    "        torch.distributed.barrier()  # Make sure only the first process in distributed training process the dataset, and the others will use the cache\n",
    "\n",
    "    # Load data features from cache or dataset file\n",
    "    cached_features_file = os.path.join(\n",
    "        args.data_dir,\n",
    "        \"cached_{}_{}_{}\".format(\n",
    "            mode, list(filter(None, args.model_name_or_path.split(\"/\"))).pop(), str(args.max_seq_length)\n",
    "        ),\n",
    "    )\n",
    "    if os.path.exists(cached_features_file) and not args.overwrite_cache:\n",
    "        logger.info(\"Loading features from cached file %s\", cached_features_file)\n",
    "        features = torch.load(cached_features_file)\n",
    "    else:\n",
    "        logger.info(\"Creating features from dataset file at %s\", args.data_dir)\n",
    "        examples = read_examples_from_file(args.data_dir, mode)\n",
    "        features = convert_examples_to_features(\n",
    "            examples,\n",
    "            labels,\n",
    "            args.max_seq_length,\n",
    "            tokenizer,\n",
    "            cls_token_at_end=bool(args.model_type in [\"xlnet\"]),\n",
    "            # xlnet has a cls token at the end\n",
    "            cls_token=tokenizer.cls_token,\n",
    "            cls_token_segment_id=2 if args.model_type in [\"xlnet\"] else 0,\n",
    "            sep_token=tokenizer.sep_token,\n",
    "            sep_token_extra=bool(args.model_type in [\"roberta\"]),\n",
    "            # roberta uses an extra separator b/w pairs of sentences, cf. github.com/pytorch/fairseq/commit/1684e166e3da03f5b600dbb7855cb98ddfcd0805\n",
    "            pad_on_left=bool(args.model_type in [\"xlnet\"]),\n",
    "            # pad on the left for xlnet\n",
    "            pad_token=tokenizer.pad_token_id,\n",
    "            pad_token_segment_id=tokenizer.pad_token_type_id,\n",
    "            pad_token_label_id=pad_token_label_id,\n",
    "        )\n",
    "        if args.local_rank in [-1, 0]:\n",
    "            logger.info(\"Saving features into cached file %s\", cached_features_file)\n",
    "            torch.save(features, cached_features_file)\n",
    "\n",
    "    if args.local_rank == 0 and not evaluate:\n",
    "        torch.distributed.barrier()  # Make sure only the first process in distributed training process the dataset, and the others will use the cache\n",
    "\n",
    "    # Convert to Tensors and build dataset\n",
    "    all_input_ids = torch.tensor([f.input_ids for f in features], dtype=torch.long)\n",
    "    all_input_mask = torch.tensor([f.input_mask for f in features], dtype=torch.long)\n",
    "    all_valid_mask = torch.tensor([f.valid_mask for f in features], dtype=torch.long)\n",
    "    all_segment_ids = torch.tensor([f.segment_ids for f in features], dtype=torch.long)\n",
    "    all_label_ids = torch.tensor([f.label_ids for f in features], dtype=torch.long)\n",
    "\n",
    "    dataset = TensorDataset(all_input_ids, all_input_mask, all_valid_mask, all_segment_ids, all_label_ids)\n",
    "    return dataset\n"
   ]
  },
  {
   "cell_type": "markdown",
   "metadata": {
    "id": "_vUsQi9Gg8vo"
   },
   "source": [
    "## Training related functions"
   ]
  },
  {
   "cell_type": "code",
   "execution_count": 14,
   "metadata": {
    "ExecuteTime": {
     "end_time": "2021-07-15T15:13:30.712690Z",
     "start_time": "2021-07-15T15:13:30.560533Z"
    },
    "id": "gm7jXtJIfIIi"
   },
   "outputs": [],
   "source": [
    "class FocalLoss(nn.Module):\n",
    "    '''Multi-class Focal loss implementation'''\n",
    "\n",
    "    def __init__(self, gamma=2, weight=None, ignore_index=-100):\n",
    "        super(FocalLoss, self).__init__()\n",
    "        self.gamma = gamma\n",
    "        self.weight = weight\n",
    "        self.ignore_index = ignore_index\n",
    "\n",
    "    def forward(self, input, target):\n",
    "        \"\"\"\n",
    "        input: [N, C]\n",
    "        target: [N, ]\n",
    "        \"\"\"\n",
    "        logpt = F.log_softmax(input, dim=1)\n",
    "        pt = torch.exp(logpt)\n",
    "        logpt = (1 - pt) ** self.gamma * logpt\n",
    "        loss = F.nll_loss(logpt, target, self.weight, ignore_index=self.ignore_index)\n",
    "        return loss"
   ]
  },
  {
   "cell_type": "code",
   "execution_count": 15,
   "metadata": {
    "ExecuteTime": {
     "end_time": "2021-07-15T15:13:30.814098Z",
     "start_time": "2021-07-15T15:13:30.716568Z"
    },
    "id": "YROCRva8fIFt"
   },
   "outputs": [],
   "source": [
    "class LabelSmoothingCrossEntropy(nn.Module):\n",
    "    def __init__(self, eps=0.1, reduction='mean', ignore_index=-100):\n",
    "        super(LabelSmoothingCrossEntropy, self).__init__()\n",
    "        self.eps = eps\n",
    "        self.reduction = reduction\n",
    "        self.ignore_index = ignore_index\n",
    "\n",
    "    def forward(self, output, target):\n",
    "        c = output.size()[-1]\n",
    "        log_preds = F.log_softmax(output, dim=-1)\n",
    "        if self.reduction == 'sum':\n",
    "            loss = -log_preds.sum()\n",
    "        else:\n",
    "            loss = -log_preds.sum(dim=-1)\n",
    "            if self.reduction == 'mean':\n",
    "                loss = loss.mean()\n",
    "        return loss * self.eps / c + (1 - self.eps) * F.nll_loss(log_preds, target, reduction=self.reduction,\n",
    "                                                                 ignore_index=self.ignore_index)"
   ]
  },
  {
   "cell_type": "code",
   "execution_count": 16,
   "metadata": {
    "ExecuteTime": {
     "end_time": "2021-07-15T15:13:30.920215Z",
     "start_time": "2021-07-15T15:13:30.817211Z"
    },
    "id": "nzcUfne-fICg"
   },
   "outputs": [],
   "source": [
    "def valid_sequence_output(sequence_output, valid_mask, attention_mask):\n",
    "    batch_size, max_len, feat_dim = sequence_output.shape\n",
    "    valid_output = torch.zeros(batch_size, max_len, feat_dim, dtype=torch.float32,\n",
    "                               device='cuda' if torch.cuda.is_available() else 'cpu')\n",
    "    valid_attention_mask = torch.zeros(batch_size, max_len, dtype=torch.long,\n",
    "                                       device='cuda' if torch.cuda.is_available() else 'cpu')\n",
    "    for i in range(batch_size):\n",
    "        jj = -1\n",
    "        for j in range(max_len):\n",
    "            if valid_mask[i][j].item() == 1:\n",
    "                jj += 1\n",
    "                valid_output[i][jj] = sequence_output[i][j]\n",
    "                valid_attention_mask[i][jj] = attention_mask[i][j]\n",
    "    return valid_output, valid_attention_mask"
   ]
  },
  {
   "cell_type": "code",
   "execution_count": 17,
   "metadata": {
    "ExecuteTime": {
     "end_time": "2021-07-15T15:13:31.088321Z",
     "start_time": "2021-07-15T15:13:30.924138Z"
    },
    "id": "257cosgFDlIz"
   },
   "outputs": [],
   "source": [
    "class CRF(nn.Module):\n",
    "    def __init__(self, num_tags: int, batch_first: bool = False) -> None:\n",
    "        if num_tags <= 0:\n",
    "            raise ValueError(f'invalid number of tags: {num_tags}')\n",
    "        super().__init__()\n",
    "        self.num_tags = num_tags\n",
    "        self.batch_first = batch_first\n",
    "        self.start_transitions = nn.Parameter(torch.empty(num_tags))\n",
    "        self.end_transitions = nn.Parameter(torch.empty(num_tags))\n",
    "        self.transitions = nn.Parameter(torch.empty(num_tags, num_tags))\n",
    "\n",
    "        self.reset_parameters()\n",
    "\n",
    "    def reset_parameters(self) -> None:\n",
    "        \"\"\"Initialize the transition parameters.\n",
    "        The parameters will be initialized randomly from a uniform distribution\n",
    "        between -0.1 and 0.1.\n",
    "        \"\"\"\n",
    "        nn.init.uniform_(self.start_transitions, -0.1, 0.1)\n",
    "        nn.init.uniform_(self.end_transitions, -0.1, 0.1)\n",
    "        nn.init.uniform_(self.transitions, -0.1, 0.1)\n",
    "\n",
    "    def __repr__(self) -> str:\n",
    "        return f'{self.__class__.__name__}(num_tags={self.num_tags})'\n",
    "\n",
    "    def forward(\n",
    "            self,\n",
    "            emissions: torch.Tensor,\n",
    "            tags: Optional[torch.LongTensor] = None,\n",
    "            mask: Optional[torch.ByteTensor] = None,\n",
    "            reduction: str = 'sum'):\n",
    "        \"\"\"Compute the conditional log likelihood of a sequence of tags given emission scores.\n",
    "        Args:\n",
    "            emissions (`~torch.Tensor`): Emission score tensor of size\n",
    "                ``(seq_length, batch_size, num_tags)`` if ``batch_first`` is ``False``,\n",
    "                ``(batch_size, seq_length, num_tags)`` otherwise.\n",
    "            tags (`~torch.LongTensor`): Sequence of tags tensor of size\n",
    "                ``(seq_length, batch_size)`` if ``batch_first`` is ``False``,\n",
    "                ``(batch_size, seq_length)`` otherwise.\n",
    "            mask (`~torch.ByteTensor`): Mask tensor of size ``(seq_length, batch_size)``\n",
    "                if ``batch_first`` is ``False``, ``(batch_size, seq_length)`` otherwise.\n",
    "            reduction: Specifies  the reduction to apply to the output:\n",
    "                ``none|sum|mean|token_mean``. ``none``: no reduction will be applied.\n",
    "                ``sum``: the output will be summed over batches. ``mean``: the output will be\n",
    "                averaged over batches. ``token_mean``: the output will be averaged over tokens.\n",
    "        Returns:\n",
    "            `~torch.Tensor`: The log likelihood. This will have size ``(batch_size,)`` if\n",
    "            reduction is ``none``, ``()`` otherwise.\n",
    "        \"\"\"\n",
    "        return self._forward_alg(emissions, tags, mask, reduction)\n",
    "\n",
    "    def _forward_alg(self,\n",
    "                     emissions: torch.Tensor,\n",
    "                     tags: torch.LongTensor,\n",
    "                     mask: Optional[torch.ByteTensor] = None,\n",
    "                     reduction: str = 'sum',\n",
    "                     ) -> torch.Tensor:\n",
    "        self._validate(emissions, tags=tags, mask=mask)\n",
    "        if reduction not in ('none', 'sum', 'mean', 'token_mean'):\n",
    "            raise ValueError(f'invalid reduction: {reduction}')\n",
    "        if mask is None:\n",
    "            mask = torch.ones_like(tags, dtype=torch.uint8)\n",
    "\n",
    "        if self.batch_first:\n",
    "            emissions = emissions.transpose(0, 1)\n",
    "            tags = tags.transpose(0, 1)\n",
    "            mask = mask.transpose(0, 1)\n",
    "\n",
    "        # shape: (batch_size,)\n",
    "        numerator = self._compute_score(emissions, tags, mask)\n",
    "        # shape: (batch_size,)\n",
    "        denominator = self._compute_normalizer(emissions, mask)\n",
    "        # shape: (batch_size,)\n",
    "        llh = numerator - denominator\n",
    "\n",
    "        if reduction == 'none':\n",
    "            return llh\n",
    "        if reduction == 'sum':\n",
    "            return llh.sum()\n",
    "        if reduction == 'mean':\n",
    "            return llh.mean()\n",
    "        assert reduction == 'token_mean'\n",
    "        return llh.sum() / mask.float().sum()\n",
    "\n",
    "    def decode(self, emissions: torch.Tensor,\n",
    "               mask: Optional[torch.ByteTensor] = None) -> List[List[int]]:\n",
    "        \"\"\"Find the most likely tag sequence using Viterbi algorithm.\n",
    "        Args:\n",
    "            emissions (`~torch.Tensor`): Emission score tensor of size\n",
    "                ``(seq_length, batch_size, num_tags)`` if ``batch_first`` is ``False``,\n",
    "                ``(batch_size, seq_length, num_tags)`` otherwise.\n",
    "            mask (`~torch.ByteTensor`): Mask tensor of size ``(seq_length, batch_size)``\n",
    "                if ``batch_first`` is ``False``, ``(batch_size, seq_length)`` otherwise.\n",
    "        Returns:\n",
    "            List of list containing the best tag sequence for each batch.\n",
    "        \"\"\"\n",
    "        self._validate(emissions, mask=mask)\n",
    "        if mask is None:\n",
    "            mask = emissions.new_ones(emissions.shape[:2], dtype=torch.uint8)\n",
    "\n",
    "        if self.batch_first:\n",
    "            emissions = emissions.transpose(0, 1)\n",
    "            mask = mask.transpose(0, 1)\n",
    "\n",
    "        return self._viterbi_decode(emissions, mask)\n",
    "\n",
    "    def _validate(\n",
    "            self,\n",
    "            emissions: torch.Tensor,\n",
    "            tags: Optional[torch.LongTensor] = None,\n",
    "            mask: Optional[torch.ByteTensor] = None) -> None:\n",
    "        if emissions.dim() != 3:\n",
    "            raise ValueError(f'emissions must have dimension of 3, got {emissions.dim()}')\n",
    "        if emissions.size(2) != self.num_tags:\n",
    "            raise ValueError(\n",
    "                f'expected last dimension of emissions is {self.num_tags}, '\n",
    "                f'got {emissions.size(2)}')\n",
    "\n",
    "        if tags is not None:\n",
    "            if emissions.shape[:2] != tags.shape:\n",
    "                raise ValueError(\n",
    "                    'the first two dimensions of emissions and tags must match, '\n",
    "                    f'got {tuple(emissions.shape[:2])} and {tuple(tags.shape)}')\n",
    "\n",
    "        if mask is not None:\n",
    "            if emissions.shape[:2] != mask.shape:\n",
    "                raise ValueError(\n",
    "                    'the first two dimensions of emissions and mask must match, '\n",
    "                    f'got {tuple(emissions.shape[:2])} and {tuple(mask.shape)}')\n",
    "            no_empty_seq = not self.batch_first and mask[0].bool().all()\n",
    "            no_empty_seq_bf = self.batch_first and mask[:, 0].bool().all()\n",
    "            if not no_empty_seq and not no_empty_seq_bf:\n",
    "                raise ValueError('mask of the first timestep must all be on')\n",
    "\n",
    "    def _compute_score(\n",
    "            self, emissions: torch.Tensor, tags: torch.LongTensor,\n",
    "            mask: torch.ByteTensor) -> torch.Tensor:\n",
    "        # emissions: (seq_length, batch_size, num_tags)\n",
    "        # tags: (seq_length, batch_size)\n",
    "        # mask: (seq_length, batch_size)\n",
    "        assert emissions.dim() == 3 and tags.dim() == 2\n",
    "        assert emissions.shape[:2] == tags.shape\n",
    "        assert emissions.size(2) == self.num_tags\n",
    "        assert mask.shape == tags.shape\n",
    "        assert mask[0].bool().all()\n",
    "\n",
    "        seq_length, batch_size = tags.shape\n",
    "        mask = mask.float()\n",
    "\n",
    "        # Start transition score and first emission\n",
    "        # shape: (batch_size,)\n",
    "        score = self.start_transitions[tags[0]]\n",
    "        score += emissions[0, torch.arange(batch_size), tags[0]]\n",
    "\n",
    "        for i in range(1, seq_length):\n",
    "            # Transition score to next tag, only added if next timestep is valid (mask == 1)\n",
    "            # shape: (batch_size,)\n",
    "            score += self.transitions[tags[i - 1], tags[i]] * mask[i]\n",
    "\n",
    "            # Emission score for next tag, only added if next timestep is valid (mask == 1)\n",
    "            # shape: (batch_size,)\n",
    "            score += emissions[i, torch.arange(batch_size), tags[i]] * mask[i]\n",
    "\n",
    "        # End transition score\n",
    "        # shape: (batch_size,)\n",
    "        seq_ends = mask.long().sum(dim=0) - 1\n",
    "        # shape: (batch_size,)\n",
    "        last_tags = tags[seq_ends, torch.arange(batch_size)]\n",
    "        # shape: (batch_size,)\n",
    "        score += self.end_transitions[last_tags]\n",
    "\n",
    "        return score\n",
    "\n",
    "    def _compute_normalizer(\n",
    "            self, emissions: torch.Tensor, mask: torch.ByteTensor) -> torch.Tensor:\n",
    "        # emissions: (seq_length, batch_size, num_tags)\n",
    "        # mask: (seq_length, batch_size)\n",
    "        assert emissions.dim() == 3 and mask.dim() == 2\n",
    "        assert emissions.shape[:2] == mask.shape\n",
    "        assert emissions.size(2) == self.num_tags\n",
    "        assert mask[0].bool().all()\n",
    "        mask = mask.bool()\n",
    "\n",
    "        seq_length = emissions.size(0)\n",
    "\n",
    "        # Start transition score and first emission; score has size of\n",
    "        # (batch_size, num_tags) where for each batch, the j-th column stores\n",
    "        # the score that the first timestep has tag j\n",
    "        # shape: (batch_size, num_tags)\n",
    "        score = self.start_transitions + emissions[0]\n",
    "\n",
    "        for i in range(1, seq_length):\n",
    "            # Broadcast score for every possible next tag\n",
    "            # shape: (batch_size, num_tags, 1)\n",
    "            broadcast_score = score.unsqueeze(2)\n",
    "\n",
    "            # Broadcast emission score for every possible current tag\n",
    "            # shape: (batch_size, 1, num_tags)\n",
    "            broadcast_emissions = emissions[i].unsqueeze(1)\n",
    "\n",
    "            # Compute the score tensor of size (batch_size, num_tags, num_tags) where\n",
    "            # for each sample, entry at row i and column j stores the sum of scores of all\n",
    "            # possible tag sequences so far that end with transitioning from tag i to tag j\n",
    "            # and emitting\n",
    "            # shape: (batch_size, num_tags, num_tags)\n",
    "            next_score = broadcast_score + self.transitions + broadcast_emissions\n",
    "\n",
    "            # Sum over all possible current tags, but we're in score space, so a sum\n",
    "            # becomes a log-sum-exp: for each sample, entry i stores the sum of scores of\n",
    "            # all possible tag sequences so far, that end in tag i\n",
    "            # shape: (batch_size, num_tags)\n",
    "            next_score = torch.logsumexp(next_score, dim=1)\n",
    "\n",
    "            # Set score to the next score if this timestep is valid (mask == 1)\n",
    "            # shape: (batch_size, num_tags)\n",
    "            score = torch.where(mask[i].unsqueeze(1), next_score, score)\n",
    "\n",
    "        # End transition score\n",
    "        # shape: (batch_size, num_tags)\n",
    "        score += self.end_transitions\n",
    "\n",
    "        # Sum (log-sum-exp) over all possible tags\n",
    "        # shape: (batch_size,)\n",
    "        return torch.logsumexp(score, dim=1)\n",
    "\n",
    "    def _viterbi_decode(self, emissions: torch.FloatTensor,\n",
    "                        mask: torch.ByteTensor) -> List[List[int]]:\n",
    "        # emissions: (seq_length, batch_size, num_tags)\n",
    "        # mask: (seq_length, batch_size)\n",
    "        assert emissions.dim() == 3 and mask.dim() == 2\n",
    "        assert emissions.shape[:2] == mask.shape\n",
    "        assert emissions.size(2) == self.num_tags\n",
    "        assert mask[0].bool().all()\n",
    "        mask = mask.bool()\n",
    "\n",
    "        seq_length, batch_size = mask.shape\n",
    "\n",
    "        # Start transition and first emission\n",
    "        # shape: (batch_size, num_tags)\n",
    "        score = self.start_transitions + emissions[0]\n",
    "        history = []\n",
    "\n",
    "        # score is a tensor of size (batch_size, num_tags) where for every batch,\n",
    "        # value at column j stores the score of the best tag sequence so far that ends\n",
    "        # with tag j\n",
    "        # history saves where the best tags candidate transitioned from; this is used\n",
    "        # when we trace back the best tag sequence\n",
    "\n",
    "        # Viterbi algorithm recursive case: we compute the score of the best tag sequence\n",
    "        # for every possible next tag\n",
    "        for i in range(1, seq_length):\n",
    "            # Broadcast viterbi score for every possible next tag\n",
    "            # shape: (batch_size, num_tags, 1)\n",
    "            broadcast_score = score.unsqueeze(2)\n",
    "\n",
    "            # Broadcast emission score for every possible current tag\n",
    "            # shape: (batch_size, 1, num_tags)\n",
    "            broadcast_emission = emissions[i].unsqueeze(1)\n",
    "\n",
    "            # Compute the score tensor of size (batch_size, num_tags, num_tags) where\n",
    "            # for each sample, entry at row i and column j stores the score of the best\n",
    "            # tag sequence so far that ends with transitioning from tag i to tag j and emitting\n",
    "            # shape: (batch_size, num_tags, num_tags)\n",
    "            next_score = broadcast_score + self.transitions + broadcast_emission\n",
    "\n",
    "            # Find the maximum score over all possible current tag\n",
    "            # shape: (batch_size, num_tags)\n",
    "            next_score, indices = next_score.max(dim=1)\n",
    "\n",
    "            # Set score to the next score if this timestep is valid (mask == 1)\n",
    "            # and save the index that produces the next score\n",
    "            # shape: (batch_size, num_tags)\n",
    "            score = torch.where(mask[i].unsqueeze(1), next_score, score)\n",
    "            history.append(indices)\n",
    "\n",
    "        # End transition score\n",
    "        # shape: (batch_size, num_tags)\n",
    "        score += self.end_transitions\n",
    "\n",
    "        # Now, compute the best path for each sample\n",
    "\n",
    "        # shape: (batch_size,)\n",
    "        seq_ends = mask.long().sum(dim=0) - 1\n",
    "        best_tags_list = []\n",
    "\n",
    "        for idx in range(batch_size):\n",
    "            # Find the tag which maximizes the score at the last timestep; this is our best tag\n",
    "            # for the last timestep\n",
    "            _, best_last_tag = score[idx].max(dim=0)\n",
    "            best_tags = [best_last_tag.item()]\n",
    "\n",
    "            # We trace back where the best last tag comes from, append that to our best tag\n",
    "            # sequence, and trace it back again, and so on\n",
    "            for hist in reversed(history[:seq_ends[idx]]):\n",
    "                best_last_tag = hist[idx][best_tags[-1]]\n",
    "                best_tags.append(best_last_tag.item())\n",
    "\n",
    "            # Reverse the order because we start from the last timestep\n",
    "            best_tags.reverse()\n",
    "            best_tags_list.append(best_tags)\n",
    "        best_tags_list = [item + [-1] * (seq_length - len(item)) for item in best_tags_list]\n",
    "        best_tags_list = torch.from_numpy(np.array(best_tags_list))\n",
    "        return torch.LongTensor(best_tags_list).cuda()"
   ]
  },
  {
   "cell_type": "code",
   "execution_count": 18,
   "metadata": {
    "ExecuteTime": {
     "end_time": "2021-07-15T15:13:31.183269Z",
     "start_time": "2021-07-15T15:13:31.091574Z"
    },
    "id": "bh17xgjxfH-p"
   },
   "outputs": [],
   "source": [
    "class BertCrfForNer(BertPreTrainedModel):\n",
    "    def __init__(self, config):\n",
    "        super(BertCrfForNer, self).__init__(config)\n",
    "        self.bert = BertModel(config)\n",
    "        self.dropout = nn.Dropout(config.hidden_dropout_prob)\n",
    "        self.classifier = nn.Linear(config.hidden_size, config.num_labels)\n",
    "        self.crf = CRF(num_tags=config.num_labels, batch_first=True)\n",
    "        self.init_weights()\n",
    "\n",
    "    def forward(\n",
    "            self,\n",
    "            input_ids,\n",
    "            attention_mask=None,\n",
    "            token_type_ids=None,\n",
    "            position_ids=None,\n",
    "            head_mask=None,\n",
    "            inputs_embeds=None,\n",
    "            valid_mask=None,\n",
    "            labels=None,\n",
    "            decode=False,\n",
    "    ):\n",
    "        outputs = self.bert(\n",
    "            input_ids=input_ids,\n",
    "            attention_mask=attention_mask,\n",
    "            token_type_ids=token_type_ids,\n",
    "            position_ids=position_ids,\n",
    "            head_mask=head_mask,\n",
    "            inputs_embeds=inputs_embeds\n",
    "        )\n",
    "        sequence_output = outputs[0]\n",
    "        sequence_output, attention_mask = valid_sequence_output(sequence_output, valid_mask, attention_mask)\n",
    "        sequence_output = self.dropout(sequence_output)\n",
    "        logits = self.classifier(sequence_output)\n",
    "        if decode:\n",
    "            tags = self.crf.decode(logits, attention_mask)\n",
    "            outputs = (tags,)\n",
    "        else:\n",
    "            outputs = (logits,)\n",
    "\n",
    "        if labels is not None:\n",
    "            labels = torch.where(labels >= 0, labels, torch.zeros_like(labels))\n",
    "            loss = self.crf(emissions=logits, tags=labels, mask=attention_mask)\n",
    "            outputs = (-1 * loss,) + outputs\n",
    "\n",
    "        return outputs  # (loss), scores\n"
   ]
  },
  {
   "cell_type": "code",
   "execution_count": 19,
   "metadata": {
    "ExecuteTime": {
     "end_time": "2021-07-15T15:13:31.328287Z",
     "start_time": "2021-07-15T15:13:31.186736Z"
    },
    "id": "L2n_anqEhPVW"
   },
   "outputs": [],
   "source": [
    "class AutoModelForCrfNer:\n",
    "    def __init__(self):\n",
    "        raise EnvironmentError(\n",
    "            \"AutoModelForTokenClassification is designed to be instantiated \"\n",
    "            \"using the `AutoModelForTokenClassification.from_pretrained(pretrained_model_name_or_path)` or \"\n",
    "            \"`AutoModelForTokenClassification.from_config(config)` methods.\"\n",
    "        )\n",
    "\n",
    "    @classmethod\n",
    "    def from_config(cls, config):\n",
    "        for config_class, model_class in MODEL_FOR_CRF_NER_MAPPING.items():\n",
    "            if isinstance(config, config_class):\n",
    "                return model_class(config)\n",
    "\n",
    "        raise ValueError(\n",
    "            \"Unrecognized configuration class {} for this kind of AutoModel: {}.\\n\"\n",
    "            \"Model type should be one of {}.\".format(\n",
    "                config.__class__,\n",
    "                cls.__name__,\n",
    "                \", \".join(c.__name__ for c in MODEL_FOR_CRF_NER_MAPPING.keys()),\n",
    "            )\n",
    "        )\n",
    "\n",
    "    @classmethod\n",
    "    def from_pretrained(cls, pretrained_model_name_or_path, *model_args, **kwargs):\n",
    "        config = kwargs.pop(\"config\", None)\n",
    "        if not isinstance(config, PretrainedConfig):\n",
    "            config = AutoConfig.from_pretrained(pretrained_model_name_or_path, **kwargs)\n",
    "\n",
    "        for config_class, model_class in MODEL_FOR_CRF_NER_MAPPING.items():\n",
    "            if isinstance(config, config_class):\n",
    "                return model_class.from_pretrained(pretrained_model_name_or_path, *model_args, config=config, **kwargs)\n",
    "\n",
    "        raise ValueError(\n",
    "            \"Unrecognized configuration class {} for this kind of AutoModel: {}.\\n\"\n",
    "            \"Model type should be one of {}.\".format(\n",
    "                config.__class__,\n",
    "                cls.__name__,\n",
    "                \", \".join(c.__name__ for c in MODEL_FOR_CRF_NER_MAPPING.keys()),\n",
    "            )\n",
    "        )\n"
   ]
  },
  {
   "cell_type": "code",
   "execution_count": 20,
   "metadata": {
    "ExecuteTime": {
     "end_time": "2021-07-15T15:13:31.417441Z",
     "start_time": "2021-07-15T15:13:31.331955Z"
    },
    "id": "zbBzjLkXhPPu"
   },
   "outputs": [],
   "source": [
    "MODEL_FOR_CRF_NER_MAPPING = OrderedDict(\n",
    "    [\n",
    "        # (XLMConfig, XLMCrfForNer),\n",
    "        # (DistilBertConfig, DistilBertCrfForNer),\n",
    "        # (RobertaConfig, RobertaCrfForNer),\n",
    "        # (CamembertConfig, RobertaCrfForNer),\n",
    "        # (XLMRobertaConfig, RobertaCrfForNer),\n",
    "        (BertConfig, BertCrfForNer),\n",
    "        # (AlbertConfig, AlbertCrfForNer),\n",
    "        # (ElectraConfig, ElectraCrfForNer),\n",
    "    ]\n",
    ")"
   ]
  },
  {
   "cell_type": "code",
   "execution_count": 21,
   "metadata": {
    "ExecuteTime": {
     "end_time": "2021-07-15T15:13:31.552073Z",
     "start_time": "2021-07-15T15:13:31.421255Z"
    },
    "id": "8zW44ifBhPSW"
   },
   "outputs": [],
   "source": [
    "logger = logging.getLogger(__name__)\n",
    "\n",
    "MODEL_CONFIG_CLASSES = list(MODEL_FOR_CRF_NER_MAPPING.keys())\n",
    "MODEL_TYPES = tuple(conf.model_type for conf in MODEL_CONFIG_CLASSES)\n",
    "ALL_MODELS = sum((tuple(conf.pretrained_config_archive_map.keys()) for conf in MODEL_CONFIG_CLASSES), ())\n",
    "TOKENIZER_ARGS = [\"do_lower_case\", \"strip_accents\", \"keep_accents\", \"use_fast\"]"
   ]
  },
  {
   "cell_type": "code",
   "execution_count": 22,
   "metadata": {
    "ExecuteTime": {
     "end_time": "2021-07-15T15:13:31.696997Z",
     "start_time": "2021-07-15T15:13:31.555319Z"
    },
    "id": "Xl4d8F9lDAMi"
   },
   "outputs": [],
   "source": [
    "# classifier_parameters = [(n,p) for (n,p) in model.named_parameters() if args.model_type not in n]"
   ]
  },
  {
   "cell_type": "code",
   "execution_count": 23,
   "metadata": {
    "ExecuteTime": {
     "end_time": "2021-07-15T15:13:31.769749Z",
     "start_time": "2021-07-15T15:13:31.700844Z"
    },
    "id": "i3oDCcivhPM5"
   },
   "outputs": [],
   "source": [
    "def train(args, train_dataset, model, tokenizer, labels, pad_token_label_id):\n",
    "    \"\"\" Train the model \"\"\"\n",
    "    if args.local_rank in [-1, 0]:\n",
    "        tb_writer = SummaryWriter(args.output_dir)\n",
    "\n",
    "    args.train_batch_size = args.per_gpu_train_batch_size * max(1, args.n_gpu)\n",
    "    train_sampler = RandomSampler(train_dataset) if args.local_rank == -1 else DistributedSampler(train_dataset)\n",
    "    train_dataloader = DataLoader(train_dataset,\n",
    "                                  sampler=train_sampler,\n",
    "                                  batch_size=args.train_batch_size,\n",
    "                                  collate_fn=collate_fn)\n",
    "\n",
    "    if args.max_steps > 0:\n",
    "        t_total = args.max_steps\n",
    "        args.num_train_epochs = args.max_steps // (len(train_dataloader) // args.gradient_accumulation_steps) + 1\n",
    "    else:\n",
    "        t_total = len(train_dataloader) // args.gradient_accumulation_steps * args.num_train_epochs\n",
    "\n",
    "    args.logging_steps = eval(args.logging_steps)\n",
    "    if isinstance(args.logging_steps, float):\n",
    "        args.logging_steps = int(args.logging_steps * len(train_dataloader)) // args.gradient_accumulation_steps\n",
    "\n",
    "    # Prepare optimizer and schedule (linear warmup and decay)\n",
    "    no_decay = [\"bias\", \"LayerNorm.weight\"]\n",
    "    bert_parameters = eval('model.{}'.format(args.model_type)).named_parameters()\n",
    "    classifier_parameters = model.classifier.named_parameters()\n",
    "    crf_parameters = model.crf.named_parameters()\n",
    "    args.bert_lr = args.bert_lr if args.bert_lr else args.learning_rate\n",
    "    args.classifier_lr = args.classifier_lr if args.classifier_lr else args.learning_rate\n",
    "    args.crf_lr = args.crf_lr if args.crf_lr else args.learning_rate\n",
    "    optimizer_grouped_parameters = [\n",
    "        {\"params\": [p for n, p in bert_parameters if not any(nd in n for nd in no_decay)],\n",
    "         \"weight_decay\": args.weight_decay,\n",
    "         \"lr\": args.bert_lr},\n",
    "        {\"params\": [p for n, p in bert_parameters if any(nd in n for nd in no_decay)],\n",
    "         \"weight_decay\": 0.0,\n",
    "         \"lr\": args.bert_lr},\n",
    "\n",
    "        {\"params\": [p for n, p in classifier_parameters if not any(nd in n for nd in no_decay)],\n",
    "         \"weight_decay\": args.weight_decay,\n",
    "         \"lr\": args.classifier_lr},\n",
    "        {\"params\": [p for n, p in classifier_parameters if any(nd in n for nd in no_decay)],\n",
    "         \"weight_decay\": 0.0,\n",
    "         \"lr\": args.classifier_lr},\n",
    "\n",
    "        {\"params\": [p for n, p in crf_parameters if not any(nd in n for nd in no_decay)],\n",
    "         \"weight_decay\": args.weight_decay,\n",
    "         \"lr\": args.crf_lr},\n",
    "        {\"params\": [p for n, p in crf_parameters if any(nd in n for nd in no_decay)],\n",
    "         \"weight_decay\": 0.0,\n",
    "         \"lr\": args.crf_lr},\n",
    "    ]\n",
    "    optimizer = AdamW(optimizer_grouped_parameters, lr=args.learning_rate, eps=args.adam_epsilon)\n",
    "    scheduler = get_linear_schedule_with_warmup(\n",
    "        optimizer, num_warmup_steps=args.warmup_steps, num_training_steps=t_total\n",
    "    )\n",
    "\n",
    "    # Check if saved optimizer or scheduler states exist\n",
    "    if os.path.isfile(os.path.join(args.model_name_or_path, \"optimizer.pt\")) and os.path.isfile(\n",
    "            os.path.join(args.model_name_or_path, \"scheduler.pt\")\n",
    "    ):\n",
    "        # Load in optimizer and scheduler states\n",
    "        optimizer.load_state_dict(torch.load(os.path.join(args.model_name_or_path, \"optimizer.pt\")))\n",
    "        scheduler.load_state_dict(torch.load(os.path.join(args.model_name_or_path, \"scheduler.pt\")))\n",
    "\n",
    "    # multi-gpu training (should be after apex fp16 initialization)\n",
    "    if args.n_gpu > 1:\n",
    "        model = torch.nn.DataParallel(model)\n",
    "\n",
    "    # Distributed training (should be after apex fp16 initialization)\n",
    "    if args.local_rank != -1:\n",
    "        model = torch.nn.parallel.DistributedDataParallel(\n",
    "            model, device_ids=[args.local_rank], output_device=args.local_rank, find_unused_parameters=True\n",
    "        )\n",
    "\n",
    "    # adversarial_training\n",
    "    if args.adv_training == 'fgm':\n",
    "        adv = FGM(model=model, param_name='word_embeddings')\n",
    "    elif args.adv_training == 'pgd':\n",
    "        adv = PGD(model=model, param_name='word_embeddings')\n",
    "\n",
    "    # Train!\n",
    "    logger.info(\"***** Running training *****\")\n",
    "    logger.info(\"  Num examples = %d\", len(train_dataset))\n",
    "    logger.info(\"  Num Epochs = %d\", args.num_train_epochs)\n",
    "    logger.info(\"  Instantaneous batch size per GPU = %d\", args.per_gpu_train_batch_size)\n",
    "    logger.info(\n",
    "        \"  Total train batch size (w. parallel, distributed & accumulation) = %d\",\n",
    "        args.train_batch_size\n",
    "        * args.gradient_accumulation_steps\n",
    "        * (torch.distributed.get_world_size() if args.local_rank != -1 else 1),\n",
    "    )\n",
    "    logger.info(\"  Gradient Accumulation steps = %d\", args.gradient_accumulation_steps)\n",
    "    logger.info(\"  Total optimization steps = %d\", t_total)\n",
    "\n",
    "    global_step = 0\n",
    "    epochs_trained = 0\n",
    "    best_score = 0.0\n",
    "    steps_trained_in_current_epoch = 0\n",
    "    # Check if continuing training from a checkpoint\n",
    "    if os.path.exists(args.model_name_or_path):\n",
    "        # set global_step to gobal_step of last saved checkpoint from model path\n",
    "        try:\n",
    "            global_step = int(args.model_name_or_path.split(\"-\")[-1].split(\"/\")[0])\n",
    "        except ValueError:\n",
    "            global_step = 0\n",
    "        epochs_trained = global_step // (len(train_dataloader) // args.gradient_accumulation_steps)\n",
    "        steps_trained_in_current_epoch = global_step % (len(train_dataloader) // args.gradient_accumulation_steps)\n",
    "\n",
    "        logger.info(\"  Continuing training from checkpoint, will skip to saved global_step\")\n",
    "        logger.info(\"  Continuing training from epoch %d\", epochs_trained)\n",
    "        logger.info(\"  Continuing training from global step %d\", global_step)\n",
    "        logger.info(\"  Will skip the first %d steps in the first epoch\", steps_trained_in_current_epoch)\n",
    "\n",
    "    tr_loss, logging_loss = 0.0, 0.0\n",
    "    model.zero_grad()\n",
    "    train_iterator = trange(\n",
    "        epochs_trained, int(args.num_train_epochs), desc=\"Epoch\", disable=args.local_rank not in [-1, 0]\n",
    "    )\n",
    "    set_seed(args)  # Added here for reproductibility\n",
    "    for _ in train_iterator:\n",
    "        epoch_iterator = tqdm(train_dataloader, desc=\"Iteration\", disable=args.local_rank not in [-1, 0])\n",
    "        for step, batch in enumerate(epoch_iterator):\n",
    "\n",
    "            # Skip past any already trained steps if resuming training\n",
    "            if steps_trained_in_current_epoch > 0:\n",
    "                steps_trained_in_current_epoch -= 1\n",
    "                continue\n",
    "\n",
    "            model.train()\n",
    "            batch = tuple(t.to(args.device) for t in batch)\n",
    "            inputs = {\"input_ids\": batch[0],\n",
    "                      \"attention_mask\": batch[1],\n",
    "                      \"valid_mask\": batch[2],\n",
    "                      \"labels\": batch[4], }\n",
    "            if args.model_type != \"distilbert\":\n",
    "                inputs[\"token_type_ids\"] = (\n",
    "                    batch[3] if args.model_type in [\"bert\", \"xlnet\"] else None\n",
    "                )  # XLM and RoBERTa don\"t use segment_ids\n",
    "\n",
    "            outputs = model(**inputs)\n",
    "            loss = outputs[0]  # model outputs are always tuple in pytorch-transformers (see doc)\n",
    "\n",
    "            if args.n_gpu > 1:\n",
    "                loss = loss.mean()  # mean() to average on multi-gpu parallel training\n",
    "            if args.gradient_accumulation_steps > 1:\n",
    "                loss = loss / args.gradient_accumulation_steps\n",
    "\n",
    "            loss.backward()\n",
    "\n",
    "            if args.adv_training:\n",
    "                adv.adversarial_training(args, inputs, optimizer)\n",
    "\n",
    "            tr_loss += loss.item()\n",
    "            epoch_iterator.set_description('Loss: {}'.format(round(loss.item(), 6)))\n",
    "            if (step + 1) % args.gradient_accumulation_steps == 0:\n",
    "                torch.nn.utils.clip_grad_norm_(model.parameters(), args.max_grad_norm)\n",
    "\n",
    "                optimizer.step()\n",
    "                scheduler.step()  # Update learning rate schedule\n",
    "                model.zero_grad()\n",
    "                global_step += 1\n",
    "\n",
    "                if args.local_rank in [-1, 0] and args.logging_steps > 0 and global_step % args.logging_steps == 0:\n",
    "                    # Log metrics\n",
    "                    if (\n",
    "                            args.local_rank == -1 and args.evaluate_during_training\n",
    "                    ):  # Only evaluate when single GPU otherwise metrics may not average well\n",
    "                        results, _ = evaluate(args, model, tokenizer, labels, pad_token_label_id, mode=\"dev\",\n",
    "                                              prefix=global_step)\n",
    "                        for key, value in results.items():\n",
    "                            if isinstance(value, float) or isinstance(value, int):\n",
    "                                tb_writer.add_scalar(\"eval_{}\".format(key), value, global_step)\n",
    "                    tb_writer.add_scalar(\"lr\", scheduler.get_lr()[0], global_step)\n",
    "                    tb_writer.add_scalar(\"loss\", (tr_loss - logging_loss) / args.logging_steps, global_step)\n",
    "                    logging_loss = tr_loss\n",
    "\n",
    "                    if best_score < results['tech_f1']:\n",
    "                        best_score = results['tech_f1']\n",
    "                        output_dir = os.path.join(args.output_dir, \"best_checkpoint\")\n",
    "                        if not os.path.exists(output_dir):\n",
    "                            os.makedirs(output_dir)\n",
    "                        model_to_save = (\n",
    "                            model.module if hasattr(model, \"module\") else model\n",
    "                        )  # Take care of distributed/parallel training\n",
    "                        model_to_save.save_pretrained(output_dir)\n",
    "                        tokenizer.save_pretrained(output_dir)\n",
    "\n",
    "                        torch.save(args, os.path.join(output_dir, \"training_args.bin\"))\n",
    "                        logger.info(\"Saving model checkpoint to %s\", output_dir)\n",
    "\n",
    "                        torch.save(optimizer.state_dict(), os.path.join(output_dir, \"optimizer.pt\"))\n",
    "                        torch.save(scheduler.state_dict(), os.path.join(output_dir, \"scheduler.pt\"))\n",
    "                        logger.info(\"Saving optimizer and scheduler states to %s\", output_dir)\n",
    "\n",
    "            if args.max_steps > 0 and global_step > args.max_steps:\n",
    "                epoch_iterator.close()\n",
    "                break\n",
    "        if args.max_steps > 0 and global_step > args.max_steps:\n",
    "            train_iterator.close()\n",
    "            break\n",
    "\n",
    "    if args.local_rank in [-1, 0]:\n",
    "        tb_writer.close()\n",
    "\n",
    "    return global_step, tr_loss / global_step"
   ]
  },
  {
   "cell_type": "code",
   "execution_count": 24,
   "metadata": {
    "ExecuteTime": {
     "end_time": "2021-07-15T15:13:31.934270Z",
     "start_time": "2021-07-15T15:13:31.772250Z"
    }
   },
   "outputs": [],
   "source": [
    "def f1_score(true_entities, pred_entities):\n",
    "    \"\"\"Compute the F1 score.\"\"\"\n",
    "    nb_correct = len(true_entities & pred_entities)\n",
    "    nb_pred = len(pred_entities)\n",
    "    nb_true = len(true_entities)\n",
    "\n",
    "    p = nb_correct / nb_pred if nb_pred > 0 else 0\n",
    "    r = nb_correct / nb_true if nb_true > 0 else 0\n",
    "    score = 2 * p * r / (p + r) if p + r > 0 else 0\n",
    "\n",
    "    return score\n",
    "\n",
    "\n",
    "def precision_score(true_entities, pred_entities):\n",
    "    \"\"\"Compute the precision.\"\"\"\n",
    "    nb_correct = len(true_entities & pred_entities)\n",
    "    nb_pred = len(pred_entities)\n",
    "\n",
    "    score = nb_correct / nb_pred if nb_pred > 0 else 0\n",
    "\n",
    "    return score\n",
    "\n",
    "\n",
    "def recall_score(true_entities, pred_entities):\n",
    "    \"\"\"Compute the recall.\"\"\"\n",
    "    nb_correct = len(true_entities & pred_entities)\n",
    "    nb_true = len(true_entities)\n",
    "\n",
    "    score = nb_correct / nb_true if nb_true > 0 else 0\n",
    "\n",
    "    return score\n",
    "\n",
    "\n",
    "def classification_report(true_entities, pred_entities, digits=5):\n",
    "    \"\"\"Build a text report showing the main classification metrics.\"\"\"\n",
    "    name_width = 0\n",
    "    d1 = defaultdict(set)\n",
    "    d2 = defaultdict(set)\n",
    "    for e in true_entities:\n",
    "        d1[e[0]].add((e[1], e[2]))\n",
    "        name_width = max(name_width, len(e[0]))\n",
    "    for e in pred_entities:\n",
    "        d2[e[0]].add((e[1], e[2]))\n",
    "\n",
    "    last_line_heading = 'macro avg'\n",
    "    width = max(name_width, len(last_line_heading), digits)\n",
    "\n",
    "    headers = [\"precision\", \"recall\", \"f1-score\", \"support\"]\n",
    "    head_fmt = u'{:>{width}s} ' + u' {:>9}' * len(headers)\n",
    "    report = head_fmt.format(u'', *headers, width=width)\n",
    "    report += u'\\n\\n'\n",
    "\n",
    "    row_fmt = u'{:>{width}s} ' + u' {:>9.{digits}f}' * 3 + u' {:>9}\\n'\n",
    "\n",
    "    ps, rs, f1s, s = [], [], [], []\n",
    "    tech_f1=0.0\n",
    "    for type_name, type_true_entities in d1.items():\n",
    "        type_pred_entities = d2[type_name]\n",
    "        nb_correct = len(type_true_entities & type_pred_entities)\n",
    "        nb_pred = len(type_pred_entities)\n",
    "        nb_true = len(type_true_entities)\n",
    "\n",
    "        p = nb_correct / nb_pred if nb_pred > 0 else 0\n",
    "        r = nb_correct / nb_true if nb_true > 0 else 0\n",
    "        f1 = 2 * p * r / (p + r) if p + r > 0 else 0\n",
    "        \n",
    "        if type_name=='TECH':\n",
    "            tech_f1 = f1\n",
    "\n",
    "        report += row_fmt.format(*[type_name, p, r, f1, nb_true], width=width, digits=digits)\n",
    "\n",
    "        ps.append(p)\n",
    "        rs.append(r)\n",
    "        f1s.append(f1)\n",
    "        s.append(nb_true)\n",
    "\n",
    "    report += u'\\n'\n",
    "\n",
    "    # compute averages\n",
    "    report += row_fmt.format('micro avg',\n",
    "                             precision_score(true_entities, pred_entities),\n",
    "                             recall_score(true_entities, pred_entities),\n",
    "                             f1_score(true_entities, pred_entities),\n",
    "                             np.sum(s),\n",
    "                             width=width, digits=digits)\n",
    "    report += row_fmt.format(last_line_heading,\n",
    "                             np.average(ps, weights=s),\n",
    "                             np.average(rs, weights=s),\n",
    "                             np.average(f1s, weights=s),\n",
    "                             np.sum(s),\n",
    "                             width=width, digits=digits)\n",
    "\n",
    "    return report, tech_f1\n"
   ]
  },
  {
   "cell_type": "code",
   "execution_count": 25,
   "metadata": {
    "ExecuteTime": {
     "end_time": "2021-07-15T15:13:32.078206Z",
     "start_time": "2021-07-15T15:13:31.936971Z"
    },
    "id": "ryPRvbqBhPKN"
   },
   "outputs": [],
   "source": [
    "# def custom_metric(true_entities, pred_entities):\n",
    "#     nb_correct = len(true_entities & pred_entities)\n",
    "#     nb_pred = len(pred_entities)\n",
    "#     nb_true = len(true_entities)\n",
    "\n",
    "#     p = nb_correct / nb_pred if nb_pred > 0 else 0\n",
    "#     r = nb_correct / nb_true if nb_true > 0 else 0\n",
    "#     score = 2 * p * r / (p + r) if p + r > 0 else 0\n",
    "\n",
    "#     return p, r, score"
   ]
  },
  {
   "cell_type": "code",
   "execution_count": 26,
   "metadata": {
    "ExecuteTime": {
     "end_time": "2021-07-15T15:13:32.178112Z",
     "start_time": "2021-07-15T15:13:32.081094Z"
    },
    "id": "fTYb2ksohhY8"
   },
   "outputs": [],
   "source": [
    "def evaluate(args, model, tokenizer, labels, pad_token_label_id, mode, prefix=\"\"):\n",
    "    eval_dataset = load_and_cache_examples(args, tokenizer, labels, pad_token_label_id, mode=mode)\n",
    "\n",
    "    args.eval_batch_size = args.per_gpu_eval_batch_size * max(1, args.n_gpu)\n",
    "    # Note that DistributedSampler samples randomly\n",
    "    eval_sampler = SequentialSampler(eval_dataset) if args.local_rank == -1 else DistributedSampler(eval_dataset)\n",
    "    eval_dataloader = DataLoader(eval_dataset,\n",
    "                                 sampler=eval_sampler,\n",
    "                                 batch_size=args.eval_batch_size)\n",
    "\n",
    "    # multi-gpu evaluate\n",
    "    if args.n_gpu > 1 and not isinstance(model, torch.nn.DataParallel):\n",
    "        model = torch.nn.DataParallel(model)\n",
    "\n",
    "    # Eval!\n",
    "    logger.info(\"***** Running evaluation %s *****\", prefix)\n",
    "    logger.info(\"  Num examples = %d\", len(eval_dataset))\n",
    "    logger.info(\"  Batch size = %d\", args.eval_batch_size)\n",
    "    eval_loss = 0.0\n",
    "    nb_eval_steps = 0\n",
    "    preds = None\n",
    "    trues = None\n",
    "    model.eval()\n",
    "    for batch in tqdm(eval_dataloader, desc=\"Evaluating\"):\n",
    "        batch = tuple(t.to(args.device) for t in batch)\n",
    "\n",
    "        with torch.no_grad():\n",
    "            inputs = {\"input_ids\": batch[0],\n",
    "                      \"attention_mask\": batch[1],\n",
    "                      \"valid_mask\": batch[2],\n",
    "                      \"labels\": batch[4],\n",
    "                      \"decode\": True}\n",
    "            if args.model_type != \"distilbert\":\n",
    "                inputs[\"token_type_ids\"] = (\n",
    "                    batch[2] if args.model_type in [\"bert\", \"xlnet\"] else None\n",
    "                )  # XLM and RoBERTa don\"t use segment_ids\n",
    "            outputs = model(**inputs)\n",
    "            tmp_eval_loss, tags = outputs[:2]\n",
    "            if args.n_gpu > 1:\n",
    "                tmp_eval_loss = tmp_eval_loss.mean()  # mean() to average on multi-gpu parallel evaluating\n",
    "            eval_loss += tmp_eval_loss.item()\n",
    "        nb_eval_steps += 1\n",
    "        if preds is None:\n",
    "            preds = tags.detach().cpu().numpy()\n",
    "            trues = inputs[\"labels\"].detach().cpu().numpy()\n",
    "        else:\n",
    "            preds = np.append(preds, tags.detach().cpu().numpy(), axis=0)\n",
    "            trues = np.append(trues, inputs[\"labels\"].detach().cpu().numpy(), axis=0)\n",
    "\n",
    "    eval_loss = eval_loss / nb_eval_steps\n",
    "    label_map = {i: label for i, label in enumerate(labels)}\n",
    "\n",
    "    trues_list = [[] for _ in range(trues.shape[0])]\n",
    "    preds_list = [[] for _ in range(preds.shape[0])]\n",
    "\n",
    "    for i in range(trues.shape[0]):\n",
    "        for j in range(trues.shape[1]):\n",
    "            if trues[i, j] != pad_token_label_id:\n",
    "                trues_list[i].append(label_map[trues[i][j]])\n",
    "                preds_list[i].append(label_map[preds[i][j]])\n",
    "\n",
    "    true_entities = get_entities_bio(trues_list)\n",
    "    pred_entities = get_entities_bio(preds_list)\n",
    "    class_report, tech_f1 = classification_report(true_entities, pred_entities)\n",
    "    results = {\n",
    "        \"loss\": eval_loss,\n",
    "        \"f1\": f1_score(true_entities, pred_entities),\n",
    "        'report': class_report,\n",
    "        'tech_f1': tech_f1\n",
    "    }\n",
    "\n",
    "    output_eval_file = os.path.join(args.output_dir, \"eval_results.txt\")\n",
    "    if not os.path.exists(args.output_dir):\n",
    "        os.makedirs(args.output_dir)\n",
    "    with open(output_eval_file, \"a\") as writer:\n",
    "        logger.info(\"***** Eval results {} *****\".format(prefix))\n",
    "        writer.write(\"***** Eval results {} *****\\n\".format(prefix))\n",
    "        writer.write(\"***** Eval loss : {} *****\\n\".format(eval_loss))\n",
    "        for key in sorted(results.keys()):\n",
    "            if key == 'report_dict':\n",
    "                continue\n",
    "            logger.info(\"{} = {}\".format(key, str(results[key])))\n",
    "            writer.write(\"{} = {}\\n\".format(key, str(results[key])))\n",
    "    return results, preds_list"
   ]
  },
  {
   "cell_type": "code",
   "execution_count": 27,
   "metadata": {
    "ExecuteTime": {
     "end_time": "2021-07-15T15:13:32.323148Z",
     "start_time": "2021-07-15T15:13:32.188603Z"
    },
    "id": "W4qWqkQydENR"
   },
   "outputs": [],
   "source": [
    "# def test_metric(label, pred, beta=2):\n",
    "#     match_label = set()\n",
    "#     manual_only = set()\n",
    "#     pred_only = set()\n",
    "\n",
    "#     match_label = set(label).intersection(pred)\n",
    "\n",
    "#     pred_only = set(pred) - match_label\n",
    "#     manual_only = set(label) - match_label\n",
    "\n",
    "#     precision = len(match_label)/len(set(pred)) if len(set(pred)) else 0\n",
    "#     recall = len(match_label)/len(set(label))\n",
    "#     f1 = (1+beta**2)*precision*recall/((beta**2)*precision+recall) if ((beta**2)*precision+recall) else 0\n",
    "\n",
    "#     return [list(match_label), list(manual_only), list(pred_only), precision, recall, f1]"
   ]
  },
  {
   "cell_type": "code",
   "execution_count": 28,
   "metadata": {
    "ExecuteTime": {
     "end_time": "2021-07-15T15:13:32.424333Z",
     "start_time": "2021-07-15T15:13:32.329865Z"
    },
    "id": "gOLbvN0rcagx"
   },
   "outputs": [],
   "source": [
    "# def test_evaluation(args, model, tokenizer, labels, pad_token_label_id, mode=\"test\", prefix='test'):\n",
    "#     eval_dataset = load_and_cache_examples(args, tokenizer, labels, pad_token_label_id, mode=mode)\n",
    "\n",
    "#     args.eval_batch_size = args.per_gpu_eval_batch_size * max(1, args.n_gpu)\n",
    "#     # Note that DistributedSampler samples randomly\n",
    "#     eval_sampler = SequentialSampler(eval_dataset)\n",
    "#     eval_dataloader = DataLoader(eval_dataset,\n",
    "#                                  sampler=eval_sampler,\n",
    "#                                  batch_size=args.eval_batch_size)\n",
    "\n",
    "#     # multi-gpu evaluate\n",
    "#     if args.n_gpu > 1 and not isinstance(model, torch.nn.DataParallel):\n",
    "#         model = torch.nn.DataParallel(model)\n",
    "\n",
    "#     # Eval!\n",
    "#     logger.info(\"***** Running evaluation %s *****\", prefix)\n",
    "#     logger.info(\"  Num examples = %d\", len(eval_dataset))\n",
    "#     logger.info(\"  Batch size = %d\", args.eval_batch_size)\n",
    "#     eval_loss = 0.0\n",
    "#     nb_eval_steps = 0\n",
    "#     preds = None\n",
    "#     trues = None\n",
    "#     model.eval()\n",
    "#     for batch in tqdm(eval_dataloader, desc=\"Evaluating\"):\n",
    "#         batch = tuple(t.to(args.device) for t in batch)\n",
    "\n",
    "#         with torch.no_grad():\n",
    "#             inputs = {\"input_ids\": batch[0],\n",
    "#                       \"attention_mask\": batch[1],\n",
    "#                       \"valid_mask\": batch[2],\n",
    "#                       \"labels\": batch[4], }\n",
    "#             if args.model_type != \"distilbert\":\n",
    "#                 inputs[\"token_type_ids\"] = (\n",
    "#                     batch[2] if args.model_type in [\"bert\", \"xlnet\"] else None\n",
    "#                 )  # XLM and RoBERTa don\"t use segment_ids\n",
    "#             outputs = model(**inputs)\n",
    "#             tmp_eval_loss, logits = outputs[:2]\n",
    "#             if args.n_gpu > 1:\n",
    "#                 tmp_eval_loss = tmp_eval_loss.mean()  # mean() to average on multi-gpu parallel evaluating\n",
    "#             eval_loss += tmp_eval_loss.item()\n",
    "#         nb_eval_steps += 1\n",
    "#         if preds is None:\n",
    "#             preds = logits.detach().cpu().numpy()\n",
    "#             trues = inputs[\"labels\"].detach().cpu().numpy()\n",
    "#         else:\n",
    "#             preds = np.append(preds, logits.detach().cpu().numpy(), axis=0)\n",
    "#             trues = np.append(trues, inputs[\"labels\"].detach().cpu().numpy(), axis=0)\n",
    "\n",
    "#     eval_loss = eval_loss / nb_eval_steps\n",
    "#     preds = np.argmax(preds, axis=2)\n",
    "#     label_map = {i: label for i, label in enumerate(labels)}\n",
    "\n",
    "#     trues_list = [[] for _ in range(trues.shape[0])]\n",
    "#     preds_list = [[] for _ in range(preds.shape[0])]\n",
    "\n",
    "#     for i in range(trues.shape[0]):\n",
    "#         for j in range(trues.shape[1]):\n",
    "#             if trues[i, j] != pad_token_label_id:\n",
    "#                 trues_list[i].append(label_map[trues[i][j]])\n",
    "#                 preds_list[i].append(label_map[preds[i][j]])\n",
    "                \n",
    "#     # Save predictions\n",
    "#     output_test_predictions_file = os.path.join(args.output_dir, \"test_predictions.txt\")\n",
    "#     with open(output_test_predictions_file, \"w\") as writer:\n",
    "#         with open(os.path.join(args.data_dir, \"test.txt\"), \"r\") as f:\n",
    "#             example_id = 0\n",
    "#             for line in f:\n",
    "#                 if line.startswith(\"-DOCSTART-\") or line == \"\" or line == \"\\n\":\n",
    "#                     writer.write(line)\n",
    "#                     if not preds_list[example_id]:\n",
    "#                         example_id += 1\n",
    "#                 elif preds_list[example_id]:\n",
    "#                     output_line = line.split()[0] + \" \" + preds_list[example_id].pop(0) + \"\\n\"\n",
    "#                     writer.write(output_line)\n",
    "#                 else:\n",
    "#                     logger.warning(\"Maximum sequence length exceeded: No prediction for '%s'.\", line.split()[0])\n",
    "    \n",
    "#     test = pd.read_csv('/content/drive/MyDrive/skill scraper/datasets/test_df.csv', index_col=0)\n",
    "#     test['original_index'] = test['original_index'].str.lower()\n",
    "\n",
    "#     test['end_idx'] = test['start_idx']+test['token'].apply(lambda x: len(x))\n",
    "\n",
    "#     pred=[]\n",
    "#     with open('/content/drive/MyDrive/skill scraper/model_crf/test_predictions.txt', 'r') as f:\n",
    "#         for line in f:\n",
    "#             if line=='\\n':\n",
    "#                 pass\n",
    "#             else:\n",
    "#                 pred.append([line.split()[0], line.split()[1]])\n",
    "\n",
    "#     pred = pd.DataFrame(pred, columns=['pred_token', 'pred_tag'])\n",
    "\n",
    "#     test['space']=False\n",
    "#     for i in test.index:\n",
    "#         if len(tokenizer.tokenize(test.loc[i, 'token']))==0:\n",
    "#             test.loc[i, 'space']=True\n",
    "#     test = test[test['space']==False]\n",
    "\n",
    "#     test['pred_token'] = pred['pred_token'].values\n",
    "#     test['pred_tag'] = pred['pred_tag'].values\n",
    "#     pred['original_index'] = test['original_index'].values\n",
    "#     pred['original_index'] = pred['original_index'].str.lower()\n",
    "\n",
    "#     pred_tags = {}\n",
    "#     for name_i, group_i in test.groupby('original_index'):\n",
    "#         pred_tag = []\n",
    "#         if group_i['pred_tag'].iloc[0] in ['SAP','TECH','SOFT']:\n",
    "#             pred_tag.append(group_i['pred_token'].iloc[0])\n",
    "#         for idx in range(1, len(group_i)):\n",
    "#             if group_i['pred_tag'].iloc[idx] in ['SAP','TECH','SOFT']:\n",
    "#                 if group_i['pred_tag'].iloc[idx] != group_i['pred_tag'].iloc[idx-1]:\n",
    "#                     pred_tag.append(group_i['pred_token'].iloc[idx])\n",
    "#                 elif group_i['pred_tag'].iloc[idx] == group_i['pred_tag'].iloc[idx-1]:\n",
    "#                     pred_tag[-1] = pred_tag[-1]+(' ')*(group_i['start_idx'].iloc[idx]-group_i['end_idx'].iloc[idx-1])+group_i['pred_token'].iloc[idx]\n",
    "#         pred_tags[name_i] = set(pred_tag)\n",
    "\n",
    "#     labels = pd.read_csv('/content/drive/MyDrive/skill scraper/total_ground_truth.csv', index_col=0)\n",
    "#     # labels = labels[(labels['company']=='sap')&(labels['work_area'].isin(['Consulting','Customer Support']))]\n",
    "#     # print('labels shape: ', labels.shape)\n",
    "\n",
    "#     model_pred_list = []\n",
    "#     match_label_list = []\n",
    "#     manual_only_list = []\n",
    "#     pred_only_list = []\n",
    "#     precision_list = []\n",
    "#     recall_list = []\n",
    "#     f1_list = []\n",
    "\n",
    "#     for idx in labels.index:\n",
    "#         label = labels.loc[idx, 'Skills']\n",
    "#         label = label.split(',')\n",
    "#         label = [i.lower().strip() for i in label]\n",
    "#         label = [i for i in label if len(i)>0]\n",
    "#         pred = list(pred_tags[labels.loc[idx, 'original_index']])\n",
    "#         pred = [i.lower().strip() for i in pred]\n",
    "#         match_label,manual_only,pred_only,precision,recall,f1 = test_metric(label, pred, beta=2)\n",
    "#         model_pred_list.append(pred)\n",
    "#         match_label_list.append(match_label)\n",
    "#         manual_only_list.append(manual_only)\n",
    "#         pred_only_list.append(pred_only)\n",
    "#         precision_list.append(precision)\n",
    "#         recall_list.append(recall)\n",
    "#         f1_list.append(f1)\n",
    "\n",
    "#     labels['pred_label'] = model_pred_list\n",
    "#     labels['match_label'] = match_label_list\n",
    "#     labels['manual_only'] = manual_only_list\n",
    "#     labels['pred_only'] = pred_only_list\n",
    "#     labels['precision'] = precision_list\n",
    "#     labels['recall'] = recall_list\n",
    "#     labels['f1'] = f1_list\n",
    "\n",
    "#     # print(labels[['pred_label','match_label']])\n",
    "\n",
    "#     return labels\n"
   ]
  },
  {
   "cell_type": "code",
   "execution_count": 29,
   "metadata": {
    "ExecuteTime": {
     "end_time": "2021-07-15T15:13:32.570209Z",
     "start_time": "2021-07-15T15:13:32.427141Z"
    },
    "id": "0ZGDdIophhVT"
   },
   "outputs": [],
   "source": [
    "def collate_fn(batch):\n",
    "    \"\"\"\n",
    "    batch should be a list of (sequence, target, length) tuples...\n",
    "    Returns a padded tensor of sequences sorted from longest to shortest,\n",
    "    \"\"\"\n",
    "    batch_tuple = tuple(map(torch.stack, zip(*batch)))\n",
    "    batch_lens = torch.sum(batch_tuple[1], dim=-1, keepdim=False)\n",
    "    max_len = batch_lens.max().item()\n",
    "    results = ()\n",
    "    for item in batch_tuple:\n",
    "        if item.dim() >= 2:\n",
    "            results += (item[:, :max_len],)\n",
    "        else:\n",
    "            results += (item,)\n",
    "    return results"
   ]
  },
  {
   "cell_type": "code",
   "execution_count": 30,
   "metadata": {
    "ExecuteTime": {
     "end_time": "2021-07-15T15:13:32.703181Z",
     "start_time": "2021-07-15T15:13:32.573644Z"
    },
    "id": "5IwGJ3OuhhR2"
   },
   "outputs": [],
   "source": [
    "def loss_backward(args, loss, optimizer):\n",
    "    if args.n_gpu > 1:\n",
    "        loss = loss.mean()  # mean() to average on multi-gpu parallel training\n",
    "    loss.backward()\n",
    "\n",
    "class FGM():\n",
    "    def __init__(self, model, param_name, alpha=1.0):\n",
    "        self.model = model\n",
    "        self.param_name = param_name\n",
    "        self.alpha = alpha\n",
    "\n",
    "    def adversarial(self):\n",
    "        for name, param in self.model.named_parameters():\n",
    "            if param.requires_grad and self.param_name in name:\n",
    "                norm = torch.norm(param.grad)\n",
    "                if norm != 0 and not torch.isnan(norm):\n",
    "                    perturbation = self.alpha * param.grad / norm\n",
    "                    param.data.add_(perturbation)\n",
    "\n",
    "    def backup_param_data(self):\n",
    "        self.data = {}\n",
    "        for name, param in self.model.named_parameters():\n",
    "            if param.requires_grad and self.param_name in name:\n",
    "                self.data[name] = param.data.clone()\n",
    "\n",
    "    def restore_param_data(self):\n",
    "        for name, param in self.model.named_parameters():\n",
    "            if param.requires_grad and self.param_name in name:\n",
    "                assert name in self.data\n",
    "                param.data = self.data[name]\n",
    "        self.data = {}\n",
    "\n",
    "    def adversarial_training(self, args, inputs, optimizer):\n",
    "        self.backup_param_data()\n",
    "        self.adversarial()\n",
    "        loss = self.model(**inputs)[0]\n",
    "        loss_backward(args, loss, optimizer)\n",
    "        self.restore_param_data()\n",
    "\n",
    "\n",
    "class PGD():\n",
    "    def __init__(self, model, param_name, alpha=0.3, epsilon=1.0, K=3):\n",
    "        self.model = model\n",
    "        self.param_name = param_name\n",
    "        self.alpha = alpha\n",
    "        self.epsilon = epsilon\n",
    "        self.K = K\n",
    "\n",
    "    def backup_param_data(self):\n",
    "        self.data = {}\n",
    "        for name, param in self.model.named_parameters():\n",
    "            if param.requires_grad and self.param_name in name:\n",
    "                self.data[name] = param.data.clone()\n",
    "\n",
    "    def restore_param_data(self):\n",
    "        for name, param in self.model.named_parameters():\n",
    "            if param.requires_grad and self.param_name in name:\n",
    "                param.data = self.data[name]\n",
    "\n",
    "    def backup_param_grad(self):\n",
    "        self.grad = {}\n",
    "        for name, param in self.model.named_parameters():\n",
    "            if param.requires_grad and self.param_name in name:\n",
    "                self.grad[name] = param.grad.clone()\n",
    "\n",
    "    def restore_param_grad(self):\n",
    "        for name, param in self.model.named_parameters():\n",
    "            if param.requires_grad and self.param_name in name:\n",
    "                param.grad = self.grad[name]\n",
    "\n",
    "\n",
    "    def adversarial(self):\n",
    "        for name, param in self.model.named_parameters():\n",
    "            if param.requires_grad and self.param_name in name:\n",
    "                norm = torch.norm(param.grad)\n",
    "                if norm != 0 and not torch.isnan(norm):\n",
    "                    perturbation = self.alpha * param.grad / norm\n",
    "                    param.data.add_(perturbation)\n",
    "                    param.data = self.project(name, param.data)\n",
    "\n",
    "    def project(self, param_name, param_data):\n",
    "        eta = torch.clamp(param_data - self.data[param_name])\n",
    "        norm = torch.norm(eta)\n",
    "        if norm > self.epsilon:\n",
    "            eta = self.epsilon * eta / norm\n",
    "        return self.data[param_name] + eta\n",
    "\n",
    "    def adversarial_training(self, args, inputs, optimizer):\n",
    "        self.backup_param_data()\n",
    "        self.backup_param_grad()\n",
    "        for k in range(self.K):\n",
    "            self.adversarial()\n",
    "            if k != self.K - 1:\n",
    "                self.model.zero_grad()\n",
    "            else:\n",
    "                self.restore_param_grad()\n",
    "            loss = self.model(**inputs)[0]\n",
    "            loss_backward(args, loss, optimizer)\n",
    "        self.restore_param_data()\n",
    "\n",
    "\n",
    "class FreeAT():\n",
    "    def __init__(self, model, param_name, alpha=0.3, epsilon=1.0, K=3):\n",
    "        self.model = model\n",
    "        self.param_name = param_name\n",
    "        self.alpha = alpha\n",
    "        self.epsilon = epsilon\n",
    "        self.K = K"
   ]
  },
  {
   "cell_type": "code",
   "execution_count": 31,
   "metadata": {
    "ExecuteTime": {
     "end_time": "2021-07-15T15:13:32.807537Z",
     "start_time": "2021-07-15T15:13:32.707217Z"
    },
    "id": "ECglkKOGhg2R"
   },
   "outputs": [],
   "source": [
    "class args:\n",
    "    data_dir = None\n",
    "    model_type = None\n",
    "    model_name_or_path = None\n",
    "    output_dir = None\n",
    "    labels = None\n",
    "    config_name = \"\"\n",
    "    tokenizer_name = \"\"\n",
    "    cache_dir = \"\"\n",
    "    max_seq_length = 128\n",
    "    do_train = True\n",
    "    do_eval = True\n",
    "    do_predict = True\n",
    "    evaluate_during_training = True\n",
    "    do_lower_case = True\n",
    "    per_gpu_train_batch_size = 8\n",
    "    per_gpu_eval_batch_size = 8\n",
    "    gradient_accumulation_steps = 1\n",
    "    loss_type = 'ce'\n",
    "    learning_rate = 5e-5\n",
    "    bert_lr = 5e-5\n",
    "    classifier_lr = 5e-5\n",
    "    crf_lr = 1e-3\n",
    "    adv_training = None\n",
    "    weight_decay = 0.0\n",
    "    adam_epsilon = 1e-8\n",
    "    max_grad_norm = 1.0\n",
    "    num_train_epochs = 3.0\n",
    "    max_steps = -1\n",
    "    warmup_steps = 0\n",
    "    logging_steps = '0.1'\n",
    "    overwrite_output_dir = True\n",
    "    no_cuda = False\n",
    "    seed = 42\n",
    "    overwrite_cache = False\n",
    "    local_rank = -1\n",
    "\n",
    "args.data_dir = './datasets'\n",
    "args.model_type = 'bert'\n",
    "args.model_name_or_path = './mlm_model_uncased_tech_line_by_line'\n",
    "args.output_dir = './model_crf_uncased_tech'\n",
    "args.do_lower_case = True\n",
    "args.labels = ''\n",
    "args.overwrite_output_dir = True\n",
    "args.do_train = True\n",
    "args.do_eval = True\n",
    "args.do_predict = True\n",
    "args.evaluate_during_training = True\n",
    "args.num_train_epochs = 100\n",
    "args.max_seq_length = 512\n",
    "args.logging_steps = '0.5'\n",
    "args.per_gpu_train_batch_size = 8\n",
    "args.per_gpu_eval_batch_size = 16\n",
    "args.learning_rate = 5e-5\n",
    "args.bert_lr = 5e-5\n",
    "args.classifier_lr = 5e-5\n",
    "args.crf_lr = 1e-3\n"
   ]
  },
  {
   "cell_type": "code",
   "execution_count": 32,
   "metadata": {
    "ExecuteTime": {
     "end_time": "2021-07-15T15:13:32.929679Z",
     "start_time": "2021-07-15T15:13:32.811457Z"
    },
    "id": "kKaipSjsi8LW"
   },
   "outputs": [],
   "source": [
    "def main():\n",
    "\n",
    "    if (\n",
    "            os.path.exists(args.output_dir)\n",
    "            and os.listdir(args.output_dir)\n",
    "            and args.do_train\n",
    "            and not args.overwrite_output_dir\n",
    "    ):\n",
    "        raise ValueError(\n",
    "            \"Output directory ({}) already exists and is not empty. Use --overwrite_output_dir to overcome.\".format(\n",
    "                args.output_dir\n",
    "            )\n",
    "        )\n",
    "\n",
    "    device = torch.device(\"cuda\" if torch.cuda.is_available() and not args.no_cuda else \"cpu\")\n",
    "    args.n_gpu = 0 if args.no_cuda else torch.cuda.device_count()\n",
    "    args.device = device\n",
    "\n",
    "    # Setup logging\n",
    "    logging.basicConfig(\n",
    "        format=\"%(asctime)s - %(levelname)s - %(name)s -   %(message)s\",\n",
    "        datefmt=\"%m/%d/%Y %H:%M:%S\",\n",
    "        level=logging.INFO \n",
    "    )\n",
    "    logger.warning(\n",
    "        \"device: %s, n_gpu: %s\",\n",
    "        device,\n",
    "        args.n_gpu,\n",
    "    )\n",
    "\n",
    "    # Set seed\n",
    "    set_seed(args)\n",
    "\n",
    "    # Prepare CONLL-2003 task\n",
    "    labels = get_labels(args.labels)\n",
    "    num_labels = len(labels)\n",
    "    # Use cross entropy ignore index as padding label id so that only real label ids contribute to the loss later\n",
    "    pad_token_label_id = CrossEntropyLoss().ignore_index\n",
    "    print('labels: ', labels)\n",
    "    print('pad_token_label_id: ', pad_token_label_id)\n",
    "\n",
    "    args.model_type = args.model_type.lower()\n",
    "    config = AutoConfig.from_pretrained(\n",
    "        args.config_name if args.config_name else args.model_name_or_path,\n",
    "        num_labels=num_labels,\n",
    "        id2label={str(i): label for i, label in enumerate(labels)},\n",
    "        label2id={label: i for i, label in enumerate(labels)},\n",
    "        cache_dir=args.cache_dir if args.cache_dir else None,\n",
    "    )\n",
    "    #####\n",
    "    setattr(config, 'loss_type', args.loss_type)\n",
    "    # setattr(config, 'output_hidden_states', True)\n",
    "    #####\n",
    "    tokenizer_args = {k: v for k, v in vars(args).items() if v is not None and k in TOKENIZER_ARGS}\n",
    "    print(\"Tokenizer arguments: %s\", tokenizer_args)\n",
    "    logger.info(\"Tokenizer arguments: %s\", tokenizer_args)\n",
    "    tokenizer = AutoTokenizer.from_pretrained(\n",
    "        args.tokenizer_name if args.tokenizer_name else args.model_name_or_path,\n",
    "        cache_dir=args.cache_dir if args.cache_dir else None,\n",
    "        **tokenizer_args,\n",
    "    )\n",
    "    model = AutoModelForCrfNer.from_pretrained(\n",
    "        args.model_name_or_path,\n",
    "        from_tf=bool(\".ckpt\" in args.model_name_or_path),\n",
    "        config=config,\n",
    "        cache_dir=args.cache_dir if args.cache_dir else None,\n",
    "    )\n",
    "\n",
    "    model.to(args.device)\n",
    "\n",
    "    logger.info(\"Training/evaluation parameters %s\", args)\n",
    "    print(\"Training/evaluation parameters %s\", args)\n",
    "\n",
    "    # Training\n",
    "    if args.do_train:\n",
    "        train_dataset = load_and_cache_examples(args, tokenizer, labels, pad_token_label_id, mode=\"train\")\n",
    "        global_step, tr_loss = train(args, train_dataset, model, tokenizer, labels, pad_token_label_id)\n",
    "        logger.info(\" global_step = %s, average loss = %s\", global_step, tr_loss)\n",
    "\n",
    "        # Saving best-practices: if you use defaults names for the model, you can reload it using from_pretrained()\n",
    "        # Create output directory if needed\n",
    "        if not os.path.exists(args.output_dir):\n",
    "            os.makedirs(args.output_dir)\n",
    "\n",
    "        logger.info(\"Saving model checkpoint to %s\", args.output_dir)\n",
    "        # Save a trained model, configuration and tokenizer using `save_pretrained()`.\n",
    "        # They can then be reloaded using `from_pretrained()`\n",
    "        model_to_save = (\n",
    "            model.module if hasattr(model, \"module\") else model)  # Take care of distributed/parallel training\n",
    "        model_to_save.save_pretrained(args.output_dir)\n",
    "        tokenizer.save_pretrained(args.output_dir)\n",
    "\n",
    "        # Good practice: save your training arguments together with the trained model\n",
    "        torch.save(args, os.path.join(args.output_dir, \"training_args.bin\"))\n",
    "\n",
    "    # # Evaluation\n",
    "    # if args.do_eval:\n",
    "    #     tokenizer = AutoTokenizer.from_pretrained(args.output_dir, **tokenizer_args)\n",
    "    #     checkpoint = os.path.join(args.output_dir, 'best_checkpoint')\n",
    "    #     model = AutoModelForSoftmaxNer.from_pretrained(checkpoint)\n",
    "    #     model.to(args.device)\n",
    "    #     results, predictions = evaluate(args, model, tokenizer, labels, pad_token_label_id, mode=\"test\", prefix='test')\n",
    "    #     # Save predictions\n",
    "    #     output_test_predictions_file = os.path.join(args.output_dir, \"test_predictions.txt\")\n",
    "    #     with open(output_test_predictions_file, \"w\") as writer:\n",
    "    #         with open(os.path.join(args.data_dir, \"test.txt\"), \"r\") as f:\n",
    "    #             example_id = 0\n",
    "    #             for line in f:\n",
    "    #                 if line.startswith(\"-DOCSTART-\") or line == \"\" or line == \"\\n\":\n",
    "    #                     writer.write(line)\n",
    "    #                     if not predictions[example_id]:\n",
    "    #                         example_id += 1\n",
    "    #                 elif predictions[example_id]:\n",
    "    #                     output_line = line.split()[0] + \" \" + predictions[example_id].pop(0) + \"\\n\"\n",
    "    #                     writer.write(output_line)\n",
    "    #                 else:\n",
    "    #                     logger.warning(\"Maximum sequence length exceeded: No prediction for '%s'.\", line.split()[0])\n",
    "                        \n",
    "    #     output_eval_file = os.path.join(args.output_dir, \"eval_results.txt\")\n",
    "    #     with open(output_eval_file, \"a\") as writer:\n",
    "    #         writer.write('***** Predict in dev dataset *****')\n",
    "    #         writer.write(\"{} = {}\\n\".format('loss', str(results['loss'])))\n",
    "    #         writer.write(\"{} = {}\\n\".format('precision', str(results['precision'])))\n",
    "    #         writer.write(\"{} = {}\\n\".format('recall', str(results['recall'])))\n",
    "    #         writer.write(\"{} = {}\\n\".format('f1', str(results['f1'])))\n",
    "    #         # writer.write(\"{} = {}\\n\".format('report', str(results['report'])))\n",
    "\n",
    "    # if args.do_predict:\n",
    "    #     tokenizer = AutoTokenizer.from_pretrained(args.output_dir, **tokenizer_args)\n",
    "    #     checkpoint = os.path.join(args.output_dir, 'best_checkpoint')\n",
    "    #     model = AutoModelForSoftmaxNer.from_pretrained(checkpoint)\n",
    "    #     model.to(args.device)\n",
    "    #     results, predictions = evaluate(args, model, tokenizer, labels, pad_token_label_id, mode=\"test\", prefix='test')\n",
    "    #     # # Save results\n",
    "    #     # output_test_results_file = os.path.join(args.output_dir, \"test_results.txt\")\n",
    "    #     # with open(output_test_results_file, \"w\") as writer:\n",
    "    #     #     writer.write('***** Predict in dev dataset *****')\n",
    "    #     #     writer.write(\"{} = {}\\n\".format('report', str(results['report'])))\n",
    "\n",
    "        "
   ]
  },
  {
   "cell_type": "code",
   "execution_count": 33,
   "metadata": {
    "ExecuteTime": {
     "end_time": "2021-07-15T18:04:12.171620Z",
     "start_time": "2021-07-15T15:13:32.932472Z"
    },
    "colab": {
     "background_save": true,
     "base_uri": "https://localhost:8080/",
     "height": 1000,
     "referenced_widgets": [
      "07c6257a1a684a70a5f908bfed85e151",
      "567f5318a39045b4a631336251074b0c",
      "730a101e0d934ee1a8d6f59fdc5591af",
      "23ca656200bc44d2ad3a3f54ccad23b0",
      "e3654e211b554a429a4bd682091baef7",
      "53fc50e2dd144370b2949a07960a3639",
      "cfe65173cf22446cb8e7fcbc590cdc4e",
      "3ed5458b2ecc4776bf72aee22ea5b95f",
      "e625426205f94ca09b225f531d2d13ef",
      "48658241ead44816bf7b373473c4eb67",
      "ca51306da2a04486b35cd4e08d7918b6",
      "f21abba49c7a41ee912293699be72372",
      "79f9c1ebbd804fc78c902eb402f924e6",
      "ac364ae850714cefad6f05d90fc2bad2",
      "4ef5fb14f62242908ae17526459081e4",
      "48ece5df98a5432f8cc52c1d468e73bc",
      "81aec320465b42af9e1f574f715b1a48",
      "5eb7244064bb401c972a15cc582bf231",
      "b42ca923967b4152a06e1074c2087690",
      "6bbbf02d28124c7c851355aa3eed87d0",
      "e4918b46010948c78ddcbbff794015e1",
      "ae8427aee6ee44228b88e56b35b49ed4",
      "1896eaa685304690b0caf3556a5e8cd7",
      "0a37fb1556f644628f436af5f1cbf143",
      "b332e35bdc8a4928b90ca1822e2b5d9d",
      "5067513286af423bbe55ac2311951d4a",
      "4983da4302b84d6189af39a1d4a6241d",
      "ef0bc0c72ee446fd8ca54da7f5e2449c",
      "885c959c58e64c36b9a6cb35a86ca611",
      "7351191476ef441f94a2dc6d8f4be40e",
      "f64e33ade7834a89ac1d9be801a51e78",
      "4fb0ab09d7894b44961bee7306e31053",
      "a87cb7a61d6e44af906bf2843b193c06",
      "ae356230c29b4585b2bd07a5b9359c50",
      "e713517e4e8d4140b643d9cd50187b75",
      "da6175ae962444d1ba2621325ecc2a9b",
      "31fa267934ae49849d47a03e2421f8bd",
      "324766d98e7e45ba9c4e7578025a4918",
      "19085fa2804b440a9ab4b648f9244381",
      "e7786e7873d14a9abdf9ea65f9aaf0aa"
     ]
    },
    "id": "J9tKGUDj19jF",
    "outputId": "c691e9b2-0479-44c3-a09b-d38159bd77bb"
   },
   "outputs": [
    {
     "name": "stderr",
     "output_type": "stream",
     "text": [
      "07/15/2021 15:13:33 - WARNING - __main__ -   device: cuda, n_gpu: 1\n",
      "07/15/2021 15:13:33 - INFO - transformers.configuration_utils -   loading configuration file ./mlm_model_uncased_tech_line_by_line/config.json\n",
      "07/15/2021 15:13:33 - INFO - transformers.configuration_utils -   Model config BertConfig {\n",
      "  \"_num_labels\": 11,\n",
      "  \"architectures\": [\n",
      "    \"BertForMaskedLM\"\n",
      "  ],\n",
      "  \"attention_probs_dropout_prob\": 0.1,\n",
      "  \"bad_words_ids\": null,\n",
      "  \"bos_token_id\": null,\n",
      "  \"decoder_start_token_id\": null,\n",
      "  \"do_sample\": false,\n",
      "  \"early_stopping\": false,\n",
      "  \"eos_token_id\": null,\n",
      "  \"finetuning_task\": null,\n",
      "  \"hidden_act\": \"gelu\",\n",
      "  \"hidden_dropout_prob\": 0.1,\n",
      "  \"hidden_size\": 768,\n",
      "  \"id2label\": {\n",
      "    \"0\": \"O\",\n",
      "    \"1\": \"B-FUNC\",\n",
      "    \"10\": \"I-QUALIFICATION\",\n",
      "    \"2\": \"I-FUNC\",\n",
      "    \"3\": \"B-POWER\",\n",
      "    \"4\": \"I-POWER\",\n",
      "    \"5\": \"B-SAP\",\n",
      "    \"6\": \"I-SAP\",\n",
      "    \"7\": \"B-TECH\",\n",
      "    \"8\": \"I-TECH\",\n",
      "    \"9\": \"B-QUALIFICATION\"\n",
      "  },\n",
      "  \"initializer_range\": 0.02,\n",
      "  \"intermediate_size\": 3072,\n",
      "  \"is_decoder\": false,\n",
      "  \"is_encoder_decoder\": false,\n",
      "  \"label2id\": {\n",
      "    \"B-FUNC\": 1,\n",
      "    \"B-POWER\": 3,\n",
      "    \"B-QUALIFICATION\": 9,\n",
      "    \"B-SAP\": 5,\n",
      "    \"B-TECH\": 7,\n",
      "    \"I-FUNC\": 2,\n",
      "    \"I-POWER\": 4,\n",
      "    \"I-QUALIFICATION\": 10,\n",
      "    \"I-SAP\": 6,\n",
      "    \"I-TECH\": 8,\n",
      "    \"O\": 0\n",
      "  },\n",
      "  \"layer_norm_eps\": 1e-12,\n",
      "  \"length_penalty\": 1.0,\n",
      "  \"max_length\": 20,\n",
      "  \"max_position_embeddings\": 512,\n",
      "  \"min_length\": 0,\n",
      "  \"model_type\": \"bert\",\n",
      "  \"no_repeat_ngram_size\": 0,\n",
      "  \"num_attention_heads\": 12,\n",
      "  \"num_beams\": 1,\n",
      "  \"num_hidden_layers\": 12,\n",
      "  \"num_return_sequences\": 1,\n",
      "  \"output_attentions\": false,\n",
      "  \"output_hidden_states\": false,\n",
      "  \"output_past\": true,\n",
      "  \"pad_token_id\": 0,\n",
      "  \"prefix\": null,\n",
      "  \"pruned_heads\": {},\n",
      "  \"repetition_penalty\": 1.0,\n",
      "  \"task_specific_params\": null,\n",
      "  \"temperature\": 1.0,\n",
      "  \"top_k\": 50,\n",
      "  \"top_p\": 1.0,\n",
      "  \"torchscript\": false,\n",
      "  \"type_vocab_size\": 2,\n",
      "  \"use_bfloat16\": false,\n",
      "  \"vocab_size\": 30522\n",
      "}\n",
      "\n",
      "07/15/2021 15:13:33 - INFO - __main__ -   Tokenizer arguments: {'do_lower_case': True}\n",
      "07/15/2021 15:13:33 - INFO - transformers.configuration_utils -   loading configuration file ./mlm_model_uncased_tech_line_by_line/config.json\n",
      "07/15/2021 15:13:33 - INFO - transformers.configuration_utils -   Model config BertConfig {\n",
      "  \"_num_labels\": 2,\n",
      "  \"architectures\": [\n",
      "    \"BertForMaskedLM\"\n",
      "  ],\n",
      "  \"attention_probs_dropout_prob\": 0.1,\n",
      "  \"bad_words_ids\": null,\n",
      "  \"bos_token_id\": null,\n",
      "  \"decoder_start_token_id\": null,\n",
      "  \"do_sample\": false,\n",
      "  \"early_stopping\": false,\n",
      "  \"eos_token_id\": null,\n",
      "  \"finetuning_task\": null,\n",
      "  \"hidden_act\": \"gelu\",\n",
      "  \"hidden_dropout_prob\": 0.1,\n",
      "  \"hidden_size\": 768,\n",
      "  \"id2label\": {\n",
      "    \"0\": \"LABEL_0\",\n",
      "    \"1\": \"LABEL_1\"\n",
      "  },\n",
      "  \"initializer_range\": 0.02,\n",
      "  \"intermediate_size\": 3072,\n",
      "  \"is_decoder\": false,\n",
      "  \"is_encoder_decoder\": false,\n",
      "  \"label2id\": {\n",
      "    \"LABEL_0\": 0,\n",
      "    \"LABEL_1\": 1\n",
      "  },\n",
      "  \"layer_norm_eps\": 1e-12,\n",
      "  \"length_penalty\": 1.0,\n",
      "  \"max_length\": 20,\n",
      "  \"max_position_embeddings\": 512,\n",
      "  \"min_length\": 0,\n",
      "  \"model_type\": \"bert\",\n",
      "  \"no_repeat_ngram_size\": 0,\n",
      "  \"num_attention_heads\": 12,\n",
      "  \"num_beams\": 1,\n",
      "  \"num_hidden_layers\": 12,\n",
      "  \"num_return_sequences\": 1,\n",
      "  \"output_attentions\": false,\n",
      "  \"output_hidden_states\": false,\n",
      "  \"output_past\": true,\n",
      "  \"pad_token_id\": 0,\n",
      "  \"prefix\": null,\n",
      "  \"pruned_heads\": {},\n",
      "  \"repetition_penalty\": 1.0,\n",
      "  \"task_specific_params\": null,\n",
      "  \"temperature\": 1.0,\n",
      "  \"top_k\": 50,\n",
      "  \"top_p\": 1.0,\n",
      "  \"torchscript\": false,\n",
      "  \"type_vocab_size\": 2,\n",
      "  \"use_bfloat16\": false,\n",
      "  \"vocab_size\": 30522\n",
      "}\n",
      "\n",
      "07/15/2021 15:13:33 - INFO - transformers.tokenization_utils -   Model name './mlm_model_uncased_tech_line_by_line' not found in model shortcut name list (bert-base-uncased, bert-large-uncased, bert-base-cased, bert-large-cased, bert-base-multilingual-uncased, bert-base-multilingual-cased, bert-base-chinese, bert-base-german-cased, bert-large-uncased-whole-word-masking, bert-large-cased-whole-word-masking, bert-large-uncased-whole-word-masking-finetuned-squad, bert-large-cased-whole-word-masking-finetuned-squad, bert-base-cased-finetuned-mrpc, bert-base-german-dbmdz-cased, bert-base-german-dbmdz-uncased, bert-base-finnish-cased-v1, bert-base-finnish-uncased-v1, bert-base-dutch-cased). Assuming './mlm_model_uncased_tech_line_by_line' is a path, a model identifier, or url to a directory containing tokenizer files.\n",
      "07/15/2021 15:13:33 - INFO - transformers.tokenization_utils -   Didn't find file ./mlm_model_uncased_tech_line_by_line/added_tokens.json. We won't load it.\n",
      "07/15/2021 15:13:33 - INFO - transformers.tokenization_utils -   loading file ./mlm_model_uncased_tech_line_by_line/vocab.txt\n",
      "07/15/2021 15:13:33 - INFO - transformers.tokenization_utils -   loading file None\n",
      "07/15/2021 15:13:33 - INFO - transformers.tokenization_utils -   loading file ./mlm_model_uncased_tech_line_by_line/special_tokens_map.json\n",
      "07/15/2021 15:13:33 - INFO - transformers.tokenization_utils -   loading file ./mlm_model_uncased_tech_line_by_line/tokenizer_config.json\n",
      "07/15/2021 15:13:33 - INFO - transformers.modeling_utils -   loading weights file ./mlm_model_uncased_tech_line_by_line/pytorch_model.bin\n"
     ]
    },
    {
     "name": "stdout",
     "output_type": "stream",
     "text": [
      "labels:  ['O', 'B-FUNC', 'I-FUNC', 'B-POWER', 'I-POWER', 'B-SAP', 'I-SAP', 'B-TECH', 'I-TECH', 'B-QUALIFICATION', 'I-QUALIFICATION']\n",
      "pad_token_label_id:  -100\n",
      "Tokenizer arguments: %s {'do_lower_case': True}\n"
     ]
    },
    {
     "name": "stderr",
     "output_type": "stream",
     "text": [
      "07/15/2021 15:13:35 - INFO - transformers.modeling_utils -   Weights of BertCrfForNer not initialized from pretrained model: ['classifier.weight', 'classifier.bias', 'crf.start_transitions', 'crf.end_transitions', 'crf.transitions']\n",
      "07/15/2021 15:13:35 - INFO - transformers.modeling_utils -   Weights from pretrained model not used in BertCrfForNer: ['cls.predictions.bias', 'cls.predictions.transform.dense.weight', 'cls.predictions.transform.dense.bias', 'cls.predictions.transform.LayerNorm.weight', 'cls.predictions.transform.LayerNorm.bias', 'cls.predictions.decoder.weight', 'cls.predictions.decoder.bias']\n",
      "07/15/2021 15:14:01 - INFO - __main__ -   Training/evaluation parameters <class '__main__.args'>\n",
      "07/15/2021 15:14:01 - INFO - __main__ -   Creating features from dataset file at ./datasets\n",
      "07/15/2021 15:14:02 - INFO - __main__ -   Writing example 0 of 394\n",
      "07/15/2021 15:14:02 - INFO - __main__ -   *** Example ***\n"
     ]
    },
    {
     "name": "stdout",
     "output_type": "stream",
     "text": [
      "Training/evaluation parameters %s <class '__main__.args'>\n"
     ]
    },
    {
     "name": "stderr",
     "output_type": "stream",
     "text": [
      "07/15/2021 15:14:02 - INFO - __main__ -   guid: train-1\n",
      "07/15/2021 15:14:02 - INFO - __main__ -   tokens: [CLS] re ##qui ##sit ##ion id : 247 ##0 ##23 work area : software - design and development expected travel : 0 - 10 % career status : professional employment type : regular full time company description sap started in 1972 as a team of five colleagues with a desire to do something new . together , they changed enterprise software and rein ##vent ##ed how business was done . today , as a market leader in enterprise application software , we remain true to our roots . that s why we engineer solutions to fuel innovation , foster equality and spread opportunity for our employees and customers across borders and cultures . sap values the entrepreneur ##ial spirit , foster ##ing creativity and building lasting relationships with our employees . we know that a diverse and inclusive workforce keeps us competitive and provides opportunities for all . we believe that together we can transform industries , grow economics , lift up societies and sustain our environment . because it s the best - run businesses that make the world run better and improve people s lives . purpose and objectives our key objectives are the delivery of premium sap consulting services implementing projects for our clients in the em ##ea and around the world . sap is deeply committed to helping young professionals pursue higher education and career goals . to make this vision a reality , sap near shore centre portugal offers the opportunity to join a team of consulting professionals , to learn new technologies , to showcase and re - enforce organic innovation . we offer a full time permanent role in a great team with accelerated growth , opportunities to learn and build up expertise , exposure to international projects . bring your energy and passion and we will give you the tools to develop your knowledge ! key res ##pon ##sa ##bilities and tasks as aba ##p on hana developer in our team , you will be working with a group of exceptionally talented and motivated colleagues . in our team you will develop and improve our products , to deliver the best user experience for our customers . in this fast - growing environment , this role must fulfill the following responsibilities : design and implement appealing and sustainable solutions using latest tools and framework . perform detailed analysis of business processes and requirements . assure high quality and stability with automated and manual tests . [SEP]\n",
      "07/15/2021 15:14:02 - INFO - __main__ -   valid_mask: 1 1 0 0 0 1 1 1 0 0 1 1 1 1 1 1 1 1 1 1 1 1 1 1 1 1 1 1 1 1 1 1 1 1 1 1 1 1 1 1 1 1 1 1 1 1 1 1 1 1 1 1 1 1 1 1 1 1 1 1 1 1 1 0 0 1 1 1 1 1 1 1 1 1 1 1 1 1 1 1 1 1 1 1 1 1 1 1 1 1 1 1 1 1 1 1 1 1 1 1 1 1 1 1 1 1 1 1 1 1 1 1 1 1 1 1 1 0 1 1 1 0 1 1 1 1 1 1 1 1 1 1 1 1 1 1 1 1 1 1 1 1 1 1 1 1 1 1 1 1 1 1 1 1 1 1 1 1 1 1 1 1 1 1 1 1 1 1 1 1 1 1 1 1 1 1 1 1 1 1 1 1 1 1 1 1 1 1 1 1 1 1 1 1 1 1 1 1 1 1 1 1 1 1 1 1 1 1 1 1 0 1 1 1 1 1 1 1 1 1 1 1 1 1 1 1 1 1 1 1 1 1 1 1 1 1 1 1 1 1 1 1 1 1 1 1 1 1 1 1 1 1 1 1 1 1 1 1 1 1 1 1 1 1 1 1 1 1 1 1 1 1 1 1 1 1 1 1 1 1 1 1 1 1 1 1 1 1 1 1 1 1 1 1 1 1 1 1 1 1 1 1 1 1 1 1 1 1 1 1 1 1 1 1 1 0 0 0 1 1 1 1 0 1 1 1 1 1 1 1 1 1 1 1 1 1 1 1 1 1 1 1 1 1 1 1 1 1 1 1 1 1 1 1 1 1 1 1 1 1 1 1 1 1 1 1 1 1 1 1 1 1 1 1 1 1 1 1 1 1 1 1 1 1 1 1 1 1 1 1 1 1 1 1 1 1 1 1 1 1 1 1 1 1 1 1 1 1 1 1 1 1 1 1 0 0 0 0 0 0 0 0 0 0 0 0 0 0 0 0 0 0 0 0 0 0 0 0 0 0 0 0 0 0 0 0 0 0 0 0 0 0 0 0 0 0 0 0 0 0 0 0 0 0 0 0 0 0 0 0 0 0 0 0 0 0 0 0 0 0 0 0 0 0 0 0 0 0 0 0 0 0 0 0 0 0 0 0 0 0 0 0 0 0 0 0 0 0 0 0 0 0\n",
      "07/15/2021 15:14:02 - INFO - __main__ -   input_ids: 101 2128 15549 28032 3258 8909 1024 23380 2692 21926 2147 2181 1024 4007 1011 2640 1998 2458 3517 3604 1024 1014 1011 2184 1003 2476 3570 1024 2658 6107 2828 1024 3180 2440 2051 2194 6412 20066 2318 1999 3285 2004 1037 2136 1997 2274 8628 2007 1037 4792 2000 2079 2242 2047 1012 2362 1010 2027 2904 6960 4007 1998 27788 15338 2098 2129 2449 2001 2589 1012 2651 1010 2004 1037 3006 3003 1999 6960 4646 4007 1010 2057 3961 2995 2000 2256 6147 1012 2008 1055 2339 2057 3992 7300 2000 4762 8144 1010 6469 9945 1998 3659 4495 2005 2256 5126 1998 6304 2408 6645 1998 8578 1012 20066 5300 1996 10670 4818 4382 1010 6469 2075 14842 1998 2311 9879 6550 2007 2256 5126 1012 2057 2113 2008 1037 7578 1998 18678 14877 7906 2149 6975 1998 3640 6695 2005 2035 1012 2057 2903 2008 2362 2057 2064 10938 6088 1010 4982 5543 1010 6336 2039 8384 1998 15770 2256 4044 1012 2138 2009 1055 1996 2190 1011 2448 5661 2008 2191 1996 2088 2448 2488 1998 5335 2111 1055 3268 1012 3800 1998 11100 2256 3145 11100 2024 1996 6959 1997 12882 20066 10552 2578 14972 3934 2005 2256 7846 1999 1996 7861 5243 1998 2105 1996 2088 1012 20066 2003 6171 5462 2000 5094 2402 8390 7323 3020 2495 1998 2476 3289 1012 2000 2191 2023 4432 1037 4507 1010 20066 2379 5370 2803 5978 4107 1996 4495 2000 3693 1037 2136 1997 10552 8390 1010 2000 4553 2047 6786 1010 2000 13398 1998 2128 1011 16306 7554 8144 1012 2057 3749 1037 2440 2051 4568 2535 1999 1037 2307 2136 2007 14613 3930 1010 6695 2000 4553 1998 3857 2039 11532 1010 7524 2000 2248 3934 1012 3288 2115 2943 1998 6896 1998 2057 2097 2507 2017 1996 5906 2000 4503 2115 3716 999 3145 24501 26029 3736 14680 1998 8518 2004 19557 2361 2006 26048 9722 1999 2256 2136 1010 2017 2097 2022 2551 2007 1037 2177 1997 17077 10904 1998 12774 8628 1012 1999 2256 2136 2017 2097 4503 1998 5335 2256 3688 1010 2000 8116 1996 2190 5310 3325 2005 2256 6304 1012 1999 2023 3435 1011 3652 4044 1010 2023 2535 2442 13883 1996 2206 10198 1024 2640 1998 10408 16004 1998 9084 7300 2478 6745 5906 1998 7705 1012 4685 6851 4106 1997 2449 6194 1998 5918 1012 14306 2152 3737 1998 9211 2007 12978 1998 6410 5852 1012 102 0 0 0 0 0 0 0 0 0 0 0 0 0 0 0 0 0 0 0 0 0 0 0 0 0 0 0 0 0 0 0 0 0 0 0 0 0 0 0 0 0 0 0 0 0 0 0 0 0 0 0 0 0 0 0 0 0 0 0 0 0 0 0 0 0 0 0 0 0 0 0 0 0 0 0 0 0 0 0 0 0 0 0 0 0 0 0 0 0 0 0 0 0 0 0 0 0 0\n",
      "07/15/2021 15:14:02 - INFO - __main__ -   input_mask: 1 1 1 1 1 1 1 1 1 1 1 1 1 1 1 1 1 1 1 1 1 1 1 1 1 1 1 1 1 1 1 1 1 1 1 1 1 1 1 1 1 1 1 1 1 1 1 1 1 1 1 1 1 1 1 1 1 1 1 1 1 1 1 1 1 1 1 1 1 1 1 1 1 1 1 1 1 1 1 1 1 1 1 1 1 1 1 1 1 1 1 1 1 1 1 1 1 1 1 1 1 1 1 1 1 1 1 1 1 1 1 1 1 1 1 1 1 1 1 1 1 1 1 1 1 1 1 1 1 1 1 1 1 1 1 1 1 1 1 1 1 1 1 1 1 1 1 1 1 1 1 1 1 1 1 1 1 1 1 1 1 1 1 1 1 1 1 1 1 1 1 1 1 1 1 1 1 1 1 1 1 1 1 1 1 1 1 1 1 1 1 1 1 1 1 1 1 1 1 1 1 1 1 1 1 1 1 1 1 1 1 1 1 1 1 1 1 1 1 1 1 1 1 1 1 1 1 1 1 1 1 1 1 1 1 1 1 1 1 1 1 1 1 1 1 1 1 1 1 1 1 1 1 1 1 1 1 1 1 1 1 1 1 1 1 1 1 1 1 1 1 1 1 1 1 1 1 1 1 1 1 1 1 1 1 1 1 1 1 1 1 1 1 1 1 1 1 1 1 1 1 1 1 1 1 1 1 1 1 1 1 1 1 1 1 1 1 1 1 1 1 1 1 1 1 1 1 1 1 1 1 1 1 1 1 1 1 1 1 1 1 1 1 1 1 1 1 1 1 1 1 1 1 1 1 1 1 1 1 1 1 1 1 1 1 1 1 1 1 1 1 1 1 1 1 1 1 1 1 1 1 1 1 1 1 1 1 1 1 1 1 1 1 1 1 1 1 1 1 1 1 1 1 1 1 1 1 1 1 1 1 1 1 1 0 0 0 0 0 0 0 0 0 0 0 0 0 0 0 0 0 0 0 0 0 0 0 0 0 0 0 0 0 0 0 0 0 0 0 0 0 0 0 0 0 0 0 0 0 0 0 0 0 0 0 0 0 0 0 0 0 0 0 0 0 0 0 0 0 0 0 0 0 0 0 0 0 0 0 0 0 0 0 0 0 0 0 0 0 0 0 0 0 0 0 0 0 0 0 0 0 0\n",
      "07/15/2021 15:14:02 - INFO - __main__ -   segment_ids: 0 0 0 0 0 0 0 0 0 0 0 0 0 0 0 0 0 0 0 0 0 0 0 0 0 0 0 0 0 0 0 0 0 0 0 0 0 0 0 0 0 0 0 0 0 0 0 0 0 0 0 0 0 0 0 0 0 0 0 0 0 0 0 0 0 0 0 0 0 0 0 0 0 0 0 0 0 0 0 0 0 0 0 0 0 0 0 0 0 0 0 0 0 0 0 0 0 0 0 0 0 0 0 0 0 0 0 0 0 0 0 0 0 0 0 0 0 0 0 0 0 0 0 0 0 0 0 0 0 0 0 0 0 0 0 0 0 0 0 0 0 0 0 0 0 0 0 0 0 0 0 0 0 0 0 0 0 0 0 0 0 0 0 0 0 0 0 0 0 0 0 0 0 0 0 0 0 0 0 0 0 0 0 0 0 0 0 0 0 0 0 0 0 0 0 0 0 0 0 0 0 0 0 0 0 0 0 0 0 0 0 0 0 0 0 0 0 0 0 0 0 0 0 0 0 0 0 0 0 0 0 0 0 0 0 0 0 0 0 0 0 0 0 0 0 0 0 0 0 0 0 0 0 0 0 0 0 0 0 0 0 0 0 0 0 0 0 0 0 0 0 0 0 0 0 0 0 0 0 0 0 0 0 0 0 0 0 0 0 0 0 0 0 0 0 0 0 0 0 0 0 0 0 0 0 0 0 0 0 0 0 0 0 0 0 0 0 0 0 0 0 0 0 0 0 0 0 0 0 0 0 0 0 0 0 0 0 0 0 0 0 0 0 0 0 0 0 0 0 0 0 0 0 0 0 0 0 0 0 0 0 0 0 0 0 0 0 0 0 0 0 0 0 0 0 0 0 0 0 0 0 0 0 0 0 0 0 0 0 0 0 0 0 0 0 0 0 0 0 0 0 0 0 0 0 0 0 0 0 0 0 0 0 0 0 0 0 0 0 0 0 0 0 0 0 0 0 0 0 0 0 0 0 0 0 0 0 0 0 0 0 0 0 0 0 0 0 0 0 0 0 0 0 0 0 0 0 0 0 0 0 0 0 0 0 0 0 0 0 0 0 0 0 0 0 0 0 0 0 0 0 0 0 0 0 0 0 0 0 0 0 0 0 0 0 0 0 0 0 0 0 0 0 0 0 0 0 0 0 0 0 0\n",
      "07/15/2021 15:14:02 - INFO - __main__ -   label_ids: -100 0 0 0 0 0 0 0 0 0 0 0 0 0 0 0 0 0 0 0 0 0 0 0 0 0 0 0 0 0 0 0 0 0 0 0 0 0 0 0 0 0 0 0 0 0 0 0 0 0 0 0 0 0 0 0 0 0 0 0 0 0 0 0 0 0 0 0 0 0 0 0 0 0 0 0 0 0 0 0 0 0 0 0 0 0 0 0 0 0 0 0 0 0 0 0 0 0 0 0 0 0 0 0 0 0 0 0 0 0 0 0 0 0 0 0 0 0 0 0 0 0 0 0 0 0 0 0 0 0 0 0 0 0 0 0 0 0 0 0 0 0 0 0 0 0 0 0 0 0 0 0 0 0 0 0 0 0 0 0 0 0 0 0 0 0 0 0 0 0 0 0 0 0 0 0 0 0 0 0 0 0 0 0 0 0 0 0 0 0 0 0 0 0 0 0 0 0 0 0 0 0 0 0 0 0 0 0 0 0 0 0 0 0 0 0 0 0 0 0 0 0 0 0 0 0 0 0 0 0 0 0 0 0 0 0 0 0 0 0 0 0 0 0 0 0 0 0 0 0 0 0 0 0 0 0 0 0 0 0 0 0 0 0 0 0 0 0 0 0 0 0 0 0 0 0 0 0 0 0 0 0 0 0 0 0 0 0 0 0 0 0 0 0 0 0 0 0 0 0 0 0 0 0 0 0 0 0 7 0 5 0 0 0 0 0 0 0 0 0 0 0 0 0 0 0 0 0 0 0 0 0 0 0 0 7 0 0 0 0 0 0 0 0 0 0 0 0 0 0 0 0 0 0 0 0 0 0 0 0 0 0 0 0 0 0 7 0 7 0 0 0 0 0 0 0 0 0 0 0 0 3 0 3 4 0 0 0 0 0 0 0 0 0 7 0 7 8 0 -100 -100 -100 -100 -100 -100 -100 -100 -100 -100 -100 -100 -100 -100 -100 -100 -100 -100 -100 -100 -100 -100 -100 -100 -100 -100 -100 -100 -100 -100 -100 -100 -100 -100 -100 -100 -100 -100 -100 -100 -100 -100 -100 -100 -100 -100 -100 -100 -100 -100 -100 -100 -100 -100 -100 -100 -100 -100 -100 -100 -100 -100 -100 -100 -100 -100 -100 -100 -100 -100 -100 -100 -100 -100 -100 -100 -100 -100 -100 -100 -100 -100 -100 -100 -100 -100 -100 -100 -100 -100 -100 -100 -100 -100 -100 -100 -100 -100 -100 -100 -100 -100 -100 -100 -100 -100 -100 -100 -100 -100 -100 -100 -100\n"
     ]
    },
    {
     "name": "stderr",
     "output_type": "stream",
     "text": [
      "07/15/2021 15:14:02 - INFO - __main__ -   start_ids: -100 0 0 0 0 0 0 0 0 0 0 0 0 0 0 0 0 0 0 0 0 0 0 0 0 0 0 0 0 0 0 0 0 0 0 0 0 0 0 0 0 0 0 0 0 0 0 0 0 0 0 0 0 0 0 0 0 0 0 0 0 0 0 0 0 0 0 0 0 0 0 0 0 0 0 0 0 0 0 0 0 0 0 0 0 0 0 0 0 0 0 0 0 0 0 0 0 0 0 0 0 0 0 0 0 0 0 0 0 0 0 0 0 0 0 0 0 0 0 0 0 0 0 0 0 0 0 0 0 0 0 0 0 0 0 0 0 0 0 0 0 0 0 0 0 0 0 0 0 0 0 0 0 0 0 0 0 0 0 0 0 0 0 0 0 0 0 0 0 0 0 0 0 0 0 0 0 0 0 0 0 0 0 0 0 0 0 0 0 0 0 0 0 0 0 0 0 0 0 0 0 0 0 0 0 0 0 0 0 0 0 0 0 0 0 0 0 0 0 0 0 0 0 0 0 0 0 0 0 0 0 0 0 0 0 0 0 0 0 0 0 0 0 0 0 0 0 0 0 0 0 0 0 0 0 0 0 0 0 0 0 0 0 0 0 0 0 0 0 0 0 0 0 0 0 0 0 0 0 0 0 0 0 0 0 0 0 0 0 0 0 0 0 0 0 0 0 0 0 0 0 0 0 0 0 0 0 0 4 0 3 0 0 0 0 0 0 0 0 0 0 0 0 0 0 0 0 0 0 0 0 0 0 0 0 4 0 0 0 0 0 0 0 0 0 0 0 0 0 0 0 0 0 0 0 0 0 0 0 0 0 0 0 0 0 0 4 0 4 0 0 0 0 0 0 0 0 0 0 0 0 2 0 2 0 0 0 0 0 0 0 0 0 0 4 0 4 0 0 -100 -100 -100 -100 -100 -100 -100 -100 -100 -100 -100 -100 -100 -100 -100 -100 -100 -100 -100 -100 -100 -100 -100 -100 -100 -100 -100 -100 -100 -100 -100 -100 -100 -100 -100 -100 -100 -100 -100 -100 -100 -100 -100 -100 -100 -100 -100 -100 -100 -100 -100 -100 -100 -100 -100 -100 -100 -100 -100 -100 -100 -100 -100 -100 -100 -100 -100 -100 -100 -100 -100 -100 -100 -100 -100 -100 -100 -100 -100 -100 -100 -100 -100 -100 -100 -100 -100 -100 -100 -100 -100 -100 -100 -100 -100 -100 -100 -100 -100 -100 -100 -100 -100 -100 -100 -100 -100 -100 -100 -100 -100 -100 -100\n",
      "07/15/2021 15:14:02 - INFO - __main__ -   end_ids: -100 0 0 0 0 0 0 0 0 0 0 0 0 0 0 0 0 0 0 0 0 0 0 0 0 0 0 0 0 0 0 0 0 0 0 0 0 0 0 0 0 0 0 0 0 0 0 0 0 0 0 0 0 0 0 0 0 0 0 0 0 0 0 0 0 0 0 0 0 0 0 0 0 0 0 0 0 0 0 0 0 0 0 0 0 0 0 0 0 0 0 0 0 0 0 0 0 0 0 0 0 0 0 0 0 0 0 0 0 0 0 0 0 0 0 0 0 0 0 0 0 0 0 0 0 0 0 0 0 0 0 0 0 0 0 0 0 0 0 0 0 0 0 0 0 0 0 0 0 0 0 0 0 0 0 0 0 0 0 0 0 0 0 0 0 0 0 0 0 0 0 0 0 0 0 0 0 0 0 0 0 0 0 0 0 0 0 0 0 0 0 0 0 0 0 0 0 0 0 0 0 0 0 0 0 0 0 0 0 0 0 0 0 0 0 0 0 0 0 0 0 0 0 0 0 0 0 0 0 0 0 0 0 0 0 0 0 0 0 0 0 0 0 0 0 0 0 0 0 0 0 0 0 0 0 0 0 0 0 0 0 0 0 0 0 0 0 0 0 0 0 0 0 0 0 0 0 0 0 0 0 0 0 0 0 0 0 0 0 0 0 0 0 0 0 0 0 0 0 0 0 0 0 0 0 0 0 0 4 0 3 0 0 0 0 0 0 0 0 0 0 0 0 0 0 0 0 0 0 0 0 0 0 0 0 4 0 0 0 0 0 0 0 0 0 0 0 0 0 0 0 0 0 0 0 0 0 0 0 0 0 0 0 0 0 0 4 0 4 0 0 0 0 0 0 0 0 0 0 0 0 2 0 0 2 0 0 0 0 0 0 0 0 0 4 0 0 4 0 -100 -100 -100 -100 -100 -100 -100 -100 -100 -100 -100 -100 -100 -100 -100 -100 -100 -100 -100 -100 -100 -100 -100 -100 -100 -100 -100 -100 -100 -100 -100 -100 -100 -100 -100 -100 -100 -100 -100 -100 -100 -100 -100 -100 -100 -100 -100 -100 -100 -100 -100 -100 -100 -100 -100 -100 -100 -100 -100 -100 -100 -100 -100 -100 -100 -100 -100 -100 -100 -100 -100 -100 -100 -100 -100 -100 -100 -100 -100 -100 -100 -100 -100 -100 -100 -100 -100 -100 -100 -100 -100 -100 -100 -100 -100 -100 -100 -100 -100 -100 -100 -100 -100 -100 -100 -100 -100 -100 -100 -100 -100 -100 -100\n",
      "07/15/2021 15:14:02 - INFO - __main__ -   *** Example ***\n",
      "07/15/2021 15:14:02 - INFO - __main__ -   guid: train-2\n",
      "07/15/2021 15:14:02 - INFO - __main__ -   tokens: [CLS] work in a cross - functional team employing an it ##erative , inc ##rem ##ental approach education and qualifications / skills and compete ##ncies graduate in computer science , information systems , software engineering or equivalent . between 3 and 5 years of experience in aba ##p back ##end application development experience in developing applications in aba ##p including o ##o , also using cds ; o ##da ##ta know - how is welcome know - how of hana is beneficial as well . know - how in logistics , finance and hc ##m processes experience in agile and test - driven development as well as in sc ##rum methodology strong customer focus strong analytical and conceptual skills . excellent communication skills , able to art ##iculate complex ideas in a structured way . flexibility and open ##ness for new challenges and tasks ability to work with virtual and distributed teams . quick learn ##er , open and ready to be cross skilled to any technologies as per the need of the business . to harness the power of innovation , sap invest ##s in the development of its diverse employees . we as ##pire to leverage the qualities and appreciate the unique compete ##ncies that each person brings to the company . preferred skills strong customer and quality focus team work logical thinking capability to handle multiple tasks in parallel fluent in english : written and spoken location sap is not offering international relocation benefits for this role currently . only candidates who have legal authorization to work in portugal and are currently based in portugal will be considered . what you get from us success is what you make it . at sap , we help you make it your own . a career at sap can open many doors for you . if you re searching for a company that s dedicated to your ideas and individual growth , recognizes you for your unique contributions , fills you with a strong sense of purpose , and provides a fun , flexible and inclusive work environment apply now . sap ' s diversity commitment to harness the power of innovation , sap invest ##s in the development of its diverse employees . we as ##pire to leverage the qualities and appreciate the unique compete ##ncies that each person brings to the company . sap is committed to the principles of equal employment opportunity and to providing reasonable accommodations to applicants with physical and / or mental disabilities . [SEP]\n",
      "07/15/2021 15:14:02 - INFO - __main__ -   valid_mask: 1 1 1 1 1 1 1 1 1 1 1 0 1 1 0 0 1 1 1 1 1 1 1 1 0 1 1 1 1 1 1 1 1 1 1 1 1 1 1 1 1 1 1 1 1 1 1 0 1 0 1 1 1 1 1 1 1 1 0 1 1 0 1 1 1 1 1 1 0 0 1 1 1 1 1 1 1 1 1 1 1 1 1 1 1 1 1 1 1 1 1 1 1 1 0 1 1 1 1 1 1 1 1 1 1 1 1 1 1 0 1 1 1 1 1 1 1 1 1 1 1 1 1 1 1 1 1 0 1 1 1 1 1 1 1 1 1 1 0 1 1 1 1 1 1 1 1 1 1 1 1 1 1 1 1 0 1 1 1 1 1 1 1 1 1 1 1 1 1 1 1 1 1 1 1 1 1 1 1 1 1 1 1 1 0 1 1 1 1 1 1 1 1 1 1 0 1 1 1 1 1 1 1 1 1 0 1 1 1 1 1 1 1 1 1 1 1 1 1 1 1 1 1 1 1 1 1 1 1 1 1 1 1 1 1 1 1 1 1 1 1 1 1 1 1 1 1 1 1 1 1 1 1 1 1 1 1 1 1 1 1 1 1 1 1 1 1 1 1 1 1 1 1 1 1 1 1 1 1 1 1 1 1 1 1 1 1 1 1 1 1 1 1 1 1 1 1 1 1 1 1 1 1 1 1 1 1 1 1 1 1 1 1 1 1 1 1 1 1 1 1 1 1 1 1 1 1 1 1 1 1 1 1 1 1 1 1 1 1 1 1 1 1 1 1 1 1 1 1 1 1 1 1 1 0 1 1 1 1 1 1 1 1 1 1 1 0 1 1 1 1 1 1 1 1 1 1 0 1 1 1 1 1 1 1 1 1 0 1 1 1 1 1 1 1 1 1 1 1 1 1 1 1 1 1 1 1 1 1 1 1 1 1 1 1 1 0 0 1 1 1 1 0 0 0 0 0 0 0 0 0 0 0 0 0 0 0 0 0 0 0 0 0 0 0 0 0 0 0 0 0 0 0 0 0 0 0 0 0 0 0 0 0 0 0 0 0 0 0 0 0 0 0 0 0 0 0 0 0 0 0 0 0 0 0 0 0 0 0 0 0 0 0 0 0 0 0 0 0 0 0 0 0 0 0 0 0 0 0 0 0 0\n",
      "07/15/2021 15:14:02 - INFO - __main__ -   input_ids: 101 2147 1999 1037 2892 1011 8360 2136 15440 2019 2009 25284 1010 4297 28578 21050 3921 2495 1998 15644 1013 4813 1998 5566 14767 4619 1999 3274 2671 1010 2592 3001 1010 4007 3330 2030 5662 1012 2090 1017 1998 1019 2086 1997 3325 1999 19557 2361 2067 10497 4646 2458 3325 1999 4975 5097 1999 19557 2361 2164 1051 2080 1010 2036 2478 14340 1025 1051 2850 2696 2113 1011 2129 2003 6160 2113 1011 2129 1997 26048 2003 15189 2004 2092 1012 2113 1011 2129 1999 12708 1010 5446 1998 16731 2213 6194 3325 1999 29003 1998 3231 1011 5533 2458 2004 2092 2004 1999 8040 6824 16134 2844 8013 3579 2844 17826 1998 17158 4813 1012 6581 4807 4813 1010 2583 2000 2396 24153 3375 4784 1999 1037 14336 2126 1012 16991 1998 2330 2791 2005 2047 7860 1998 8518 3754 2000 2147 2007 7484 1998 5500 2780 1012 4248 4553 2121 1010 2330 1998 3201 2000 2022 2892 10571 2000 2151 6786 2004 2566 1996 2342 1997 1996 2449 1012 2000 17445 1996 2373 1997 8144 1010 20066 15697 2015 1999 1996 2458 1997 2049 7578 5126 1012 2057 2004 20781 2000 21155 1996 11647 1998 9120 1996 4310 5566 14767 2008 2169 2711 7545 2000 1996 2194 1012 6871 4813 2844 8013 1998 3737 3579 2136 2147 11177 3241 10673 2000 5047 3674 8518 1999 5903 19376 1999 2394 1024 2517 1998 5287 3295 20066 2003 2025 5378 2248 18344 6666 2005 2023 2535 2747 1012 2069 5347 2040 2031 3423 20104 2000 2147 1999 5978 1998 2024 2747 2241 1999 5978 2097 2022 2641 1012 2054 2017 2131 2013 2149 3112 2003 2054 2017 2191 2009 1012 2012 20066 1010 2057 2393 2017 2191 2009 2115 2219 1012 1037 2476 2012 20066 2064 2330 2116 4303 2005 2017 1012 2065 2017 2128 6575 2005 1037 2194 2008 1055 4056 2000 2115 4784 1998 3265 3930 1010 14600 2017 2005 2115 4310 5857 1010 17469 2017 2007 1037 2844 3168 1997 3800 1010 1998 3640 1037 4569 1010 12379 1998 18678 2147 4044 6611 2085 1012 20066 1005 1055 8906 8426 2000 17445 1996 2373 1997 8144 1010 20066 15697 2015 1999 1996 2458 1997 2049 7578 5126 1012 2057 2004 20781 2000 21155 1996 11647 1998 9120 1996 4310 5566 14767 2008 2169 2711 7545 2000 1996 2194 1012 20066 2003 5462 2000 1996 6481 1997 5020 6107 4495 1998 2000 4346 9608 26167 2000 17362 2007 3558 1998 1013 2030 5177 13597 1012 102 0 0 0 0 0 0 0 0 0 0 0 0 0 0 0 0 0 0 0 0 0 0 0 0 0 0 0 0 0 0 0 0 0 0 0 0 0 0 0 0 0 0 0 0 0 0 0 0 0 0 0 0 0 0 0 0 0 0 0 0 0 0 0 0 0 0 0 0 0 0 0 0 0 0 0 0 0 0 0 0 0 0 0 0 0 0 0 0 0 0\n"
     ]
    },
    {
     "name": "stderr",
     "output_type": "stream",
     "text": [
      "07/15/2021 15:14:02 - INFO - __main__ -   input_mask: 1 1 1 1 1 1 1 1 1 1 1 1 1 1 1 1 1 1 1 1 1 1 1 1 1 1 1 1 1 1 1 1 1 1 1 1 1 1 1 1 1 1 1 1 1 1 1 1 1 1 1 1 1 1 1 1 1 1 1 1 1 1 1 1 1 1 1 1 1 1 1 1 1 1 1 1 1 1 1 1 1 1 1 1 1 1 1 1 1 1 1 1 1 1 1 1 1 1 1 1 1 1 1 1 1 1 1 1 1 1 1 1 1 1 1 1 1 1 1 1 1 1 1 1 1 1 1 1 1 1 1 1 1 1 1 1 1 1 1 1 1 1 1 1 1 1 1 1 1 1 1 1 1 1 1 1 1 1 1 1 1 1 1 1 1 1 1 1 1 1 1 1 1 1 1 1 1 1 1 1 1 1 1 1 1 1 1 1 1 1 1 1 1 1 1 1 1 1 1 1 1 1 1 1 1 1 1 1 1 1 1 1 1 1 1 1 1 1 1 1 1 1 1 1 1 1 1 1 1 1 1 1 1 1 1 1 1 1 1 1 1 1 1 1 1 1 1 1 1 1 1 1 1 1 1 1 1 1 1 1 1 1 1 1 1 1 1 1 1 1 1 1 1 1 1 1 1 1 1 1 1 1 1 1 1 1 1 1 1 1 1 1 1 1 1 1 1 1 1 1 1 1 1 1 1 1 1 1 1 1 1 1 1 1 1 1 1 1 1 1 1 1 1 1 1 1 1 1 1 1 1 1 1 1 1 1 1 1 1 1 1 1 1 1 1 1 1 1 1 1 1 1 1 1 1 1 1 1 1 1 1 1 1 1 1 1 1 1 1 1 1 1 1 1 1 1 1 1 1 1 1 1 1 1 1 1 1 1 1 1 1 1 1 1 1 1 1 1 1 1 1 1 1 1 1 1 1 1 1 1 1 1 1 1 1 1 1 1 1 1 1 1 0 0 0 0 0 0 0 0 0 0 0 0 0 0 0 0 0 0 0 0 0 0 0 0 0 0 0 0 0 0 0 0 0 0 0 0 0 0 0 0 0 0 0 0 0 0 0 0 0 0 0 0 0 0 0 0 0 0 0 0 0 0 0 0 0 0 0 0 0 0 0 0 0 0 0 0 0 0 0 0 0 0 0 0 0 0 0 0 0 0\n",
      "07/15/2021 15:14:02 - INFO - __main__ -   segment_ids: 0 0 0 0 0 0 0 0 0 0 0 0 0 0 0 0 0 0 0 0 0 0 0 0 0 0 0 0 0 0 0 0 0 0 0 0 0 0 0 0 0 0 0 0 0 0 0 0 0 0 0 0 0 0 0 0 0 0 0 0 0 0 0 0 0 0 0 0 0 0 0 0 0 0 0 0 0 0 0 0 0 0 0 0 0 0 0 0 0 0 0 0 0 0 0 0 0 0 0 0 0 0 0 0 0 0 0 0 0 0 0 0 0 0 0 0 0 0 0 0 0 0 0 0 0 0 0 0 0 0 0 0 0 0 0 0 0 0 0 0 0 0 0 0 0 0 0 0 0 0 0 0 0 0 0 0 0 0 0 0 0 0 0 0 0 0 0 0 0 0 0 0 0 0 0 0 0 0 0 0 0 0 0 0 0 0 0 0 0 0 0 0 0 0 0 0 0 0 0 0 0 0 0 0 0 0 0 0 0 0 0 0 0 0 0 0 0 0 0 0 0 0 0 0 0 0 0 0 0 0 0 0 0 0 0 0 0 0 0 0 0 0 0 0 0 0 0 0 0 0 0 0 0 0 0 0 0 0 0 0 0 0 0 0 0 0 0 0 0 0 0 0 0 0 0 0 0 0 0 0 0 0 0 0 0 0 0 0 0 0 0 0 0 0 0 0 0 0 0 0 0 0 0 0 0 0 0 0 0 0 0 0 0 0 0 0 0 0 0 0 0 0 0 0 0 0 0 0 0 0 0 0 0 0 0 0 0 0 0 0 0 0 0 0 0 0 0 0 0 0 0 0 0 0 0 0 0 0 0 0 0 0 0 0 0 0 0 0 0 0 0 0 0 0 0 0 0 0 0 0 0 0 0 0 0 0 0 0 0 0 0 0 0 0 0 0 0 0 0 0 0 0 0 0 0 0 0 0 0 0 0 0 0 0 0 0 0 0 0 0 0 0 0 0 0 0 0 0 0 0 0 0 0 0 0 0 0 0 0 0 0 0 0 0 0 0 0 0 0 0 0 0 0 0 0 0 0 0 0 0 0 0 0 0 0 0 0 0 0 0 0 0 0 0 0 0 0 0 0 0 0 0 0 0 0 0 0 0 0 0 0 0 0 0 0 0 0 0 0 0 0 0 0 0 0 0 0 0 0 0 0 0\n",
      "07/15/2021 15:14:02 - INFO - __main__ -   label_ids: -100 0 0 0 0 0 0 0 0 0 0 0 0 0 0 0 0 0 0 0 0 9 0 0 0 0 0 0 0 0 0 0 0 0 0 0 0 0 0 0 0 0 5 0 7 8 0 0 7 0 0 5 0 7 0 0 0 7 0 7 0 0 0 0 0 0 0 0 0 5 0 0 0 0 0 0 0 0 0 1 0 1 0 1 0 0 0 7 0 7 8 8 8 0 0 0 0 7 0 0 3 4 0 3 0 3 0 0 0 3 0 0 0 0 0 0 0 0 0 0 0 0 3 0 3 0 0 0 0 0 0 0 0 0 0 0 0 0 0 3 4 0 3 0 0 0 0 0 0 0 0 0 0 0 0 0 0 0 0 0 0 0 0 0 0 0 0 0 0 0 0 0 0 0 0 0 0 0 0 0 0 0 0 0 0 0 0 0 0 0 0 0 0 0 0 0 0 0 0 3 0 0 3 4 0 3 4 0 0 3 4 4 0 0 0 0 0 0 0 0 0 0 0 0 0 0 0 0 0 0 0 0 0 0 0 0 0 0 0 0 0 0 0 0 0 0 0 0 0 0 0 0 0 0 0 0 0 0 0 0 0 0 0 0 0 0 0 0 0 0 0 0 0 0 0 0 0 0 0 0 0 0 0 0 0 0 0 0 0 0 0 0 0 0 0 0 0 0 0 0 0 0 0 0 0 0 0 0 0 0 0 0 0 0 0 0 0 0 0 0 0 0 0 0 0 0 0 0 0 0 0 0 0 0 0 0 0 0 0 0 0 0 0 0 0 0 0 0 0 0 0 0 0 0 0 0 0 0 0 0 0 0 0 0 0 0 0 0 0 0 0 0 0 0 0 0 0 0 0 0 0 0 0 0 0 0 0 0 0 0 0 0 0 0 0 0 0 -100 -100 -100 -100 -100 -100 -100 -100 -100 -100 -100 -100 -100 -100 -100 -100 -100 -100 -100 -100 -100 -100 -100 -100 -100 -100 -100 -100 -100 -100 -100 -100 -100 -100 -100 -100 -100 -100 -100 -100 -100 -100 -100 -100 -100 -100 -100 -100 -100 -100 -100 -100 -100 -100 -100 -100 -100 -100 -100 -100 -100 -100 -100 -100 -100 -100 -100 -100 -100 -100 -100 -100 -100 -100 -100 -100 -100 -100 -100 -100 -100 -100 -100 -100 -100 -100 -100 -100 -100 -100 -100 -100 -100 -100 -100 -100 -100 -100 -100 -100 -100 -100 -100 -100 -100 -100 -100 -100 -100 -100 -100 -100 -100 -100 -100\n",
      "07/15/2021 15:14:02 - INFO - __main__ -   start_ids: -100 0 0 0 0 0 0 0 0 0 0 0 0 0 0 0 0 0 0 0 0 5 0 0 0 0 0 0 0 0 0 0 0 0 0 0 0 0 0 0 0 0 3 0 4 0 0 0 4 0 0 3 0 4 0 0 0 4 0 4 0 0 0 0 0 0 0 0 0 3 0 0 0 0 0 0 0 0 0 1 0 1 0 1 0 0 0 4 0 4 0 0 0 0 0 0 0 4 0 0 2 0 0 2 0 2 0 0 0 2 0 0 0 0 0 0 0 0 0 0 0 0 2 0 2 0 0 0 0 0 0 0 0 0 0 0 0 0 0 2 0 0 2 0 0 0 0 0 0 0 0 0 0 0 0 0 0 0 0 0 0 0 0 0 0 0 0 0 0 0 0 0 0 0 0 0 0 0 0 0 0 0 0 0 0 0 0 0 0 0 0 0 0 0 0 0 0 0 0 2 0 0 2 0 0 2 0 0 0 2 0 0 0 0 0 0 0 0 0 0 0 0 0 0 0 0 0 0 0 0 0 0 0 0 0 0 0 0 0 0 0 0 0 0 0 0 0 0 0 0 0 0 0 0 0 0 0 0 0 0 0 0 0 0 0 0 0 0 0 0 0 0 0 0 0 0 0 0 0 0 0 0 0 0 0 0 0 0 0 0 0 0 0 0 0 0 0 0 0 0 0 0 0 0 0 0 0 0 0 0 0 0 0 0 0 0 0 0 0 0 0 0 0 0 0 0 0 0 0 0 0 0 0 0 0 0 0 0 0 0 0 0 0 0 0 0 0 0 0 0 0 0 0 0 0 0 0 0 0 0 0 0 0 0 0 0 0 0 0 0 0 0 0 0 0 0 0 0 0 0 0 0 0 0 0 0 0 0 0 0 0 0 0 0 0 0 0 -100 -100 -100 -100 -100 -100 -100 -100 -100 -100 -100 -100 -100 -100 -100 -100 -100 -100 -100 -100 -100 -100 -100 -100 -100 -100 -100 -100 -100 -100 -100 -100 -100 -100 -100 -100 -100 -100 -100 -100 -100 -100 -100 -100 -100 -100 -100 -100 -100 -100 -100 -100 -100 -100 -100 -100 -100 -100 -100 -100 -100 -100 -100 -100 -100 -100 -100 -100 -100 -100 -100 -100 -100 -100 -100 -100 -100 -100 -100 -100 -100 -100 -100 -100 -100 -100 -100 -100 -100 -100 -100 -100 -100 -100 -100 -100 -100 -100 -100 -100 -100 -100 -100 -100 -100 -100 -100 -100 -100 -100 -100 -100 -100 -100 -100\n",
      "07/15/2021 15:14:02 - INFO - __main__ -   end_ids: -100 0 0 0 0 0 0 0 0 0 0 0 0 0 0 0 0 0 0 0 0 5 0 0 0 0 0 0 0 0 0 0 0 0 0 0 0 0 0 0 0 0 3 0 0 4 0 0 4 0 0 3 0 4 0 0 0 4 0 4 0 0 0 0 0 0 0 0 0 3 0 0 0 0 0 0 0 0 0 1 0 1 0 1 0 0 0 4 0 0 0 0 4 0 0 0 0 4 0 0 0 2 0 2 0 2 0 0 0 2 0 0 0 0 0 0 0 0 0 0 0 0 2 0 2 0 0 0 0 0 0 0 0 0 0 0 0 0 0 0 2 0 2 0 0 0 0 0 0 0 0 0 0 0 0 0 0 0 0 0 0 0 0 0 0 0 0 0 0 0 0 0 0 0 0 0 0 0 0 0 0 0 0 0 0 0 0 0 0 0 0 0 0 0 0 0 0 0 0 2 0 0 0 2 0 0 2 0 0 0 0 2 0 0 0 0 0 0 0 0 0 0 0 0 0 0 0 0 0 0 0 0 0 0 0 0 0 0 0 0 0 0 0 0 0 0 0 0 0 0 0 0 0 0 0 0 0 0 0 0 0 0 0 0 0 0 0 0 0 0 0 0 0 0 0 0 0 0 0 0 0 0 0 0 0 0 0 0 0 0 0 0 0 0 0 0 0 0 0 0 0 0 0 0 0 0 0 0 0 0 0 0 0 0 0 0 0 0 0 0 0 0 0 0 0 0 0 0 0 0 0 0 0 0 0 0 0 0 0 0 0 0 0 0 0 0 0 0 0 0 0 0 0 0 0 0 0 0 0 0 0 0 0 0 0 0 0 0 0 0 0 0 0 0 0 0 0 0 0 0 0 0 0 0 0 0 0 0 0 0 0 0 0 0 0 0 0 -100 -100 -100 -100 -100 -100 -100 -100 -100 -100 -100 -100 -100 -100 -100 -100 -100 -100 -100 -100 -100 -100 -100 -100 -100 -100 -100 -100 -100 -100 -100 -100 -100 -100 -100 -100 -100 -100 -100 -100 -100 -100 -100 -100 -100 -100 -100 -100 -100 -100 -100 -100 -100 -100 -100 -100 -100 -100 -100 -100 -100 -100 -100 -100 -100 -100 -100 -100 -100 -100 -100 -100 -100 -100 -100 -100 -100 -100 -100 -100 -100 -100 -100 -100 -100 -100 -100 -100 -100 -100 -100 -100 -100 -100 -100 -100 -100 -100 -100 -100 -100 -100 -100 -100 -100 -100 -100 -100 -100 -100 -100 -100 -100 -100 -100\n",
      "07/15/2021 15:14:02 - INFO - __main__ -   *** Example ***\n",
      "07/15/2021 15:14:02 - INFO - __main__ -   guid: train-3\n",
      "07/15/2021 15:14:02 - INFO - __main__ -   tokens: [CLS] if you are in need of accommodation or special assistance to navigate our website or to complete your application , please send an e - mail with your request to recruiting operations team ( americas : careers . north ##ame ##rica @ sap . com or careers . latin ##ame ##rica @ sap . com , ap ##j : careers . ap ##j @ sap . com , em ##ea : careers @ sap . com ) . successful candidates might be required to undergo a background verification with an external vendor . additional locations : [SEP]\n",
      "07/15/2021 15:14:02 - INFO - __main__ -   valid_mask: 1 1 1 1 1 1 1 1 1 1 1 1 1 1 1 1 1 1 1 1 1 1 1 1 1 1 1 1 1 1 1 1 1 1 1 1 1 1 0 0 0 0 0 0 0 0 1 1 0 0 0 0 0 0 0 0 1 1 0 1 1 0 0 0 0 0 0 0 1 1 0 1 1 0 0 0 0 1 1 1 1 1 1 1 1 1 1 1 1 1 1 1 1 1 1 1 1 1 0 0 0 0 0 0 0 0 0 0 0 0 0 0 0 0 0 0 0 0 0 0 0 0 0 0 0 0 0 0 0 0 0 0 0 0 0 0 0 0 0 0 0 0 0 0 0 0 0 0 0 0 0 0 0 0 0 0 0 0 0 0 0 0 0 0 0 0 0 0 0 0 0 0 0 0 0 0 0 0 0 0 0 0 0 0 0 0 0 0 0 0 0 0 0 0 0 0 0 0 0 0 0 0 0 0 0 0 0 0 0 0 0 0 0 0 0 0 0 0 0 0 0 0 0 0 0 0 0 0 0 0 0 0 0 0 0 0 0 0 0 0 0 0 0 0 0 0 0 0 0 0 0 0 0 0 0 0 0 0 0 0 0 0 0 0 0 0 0 0 0 0 0 0 0 0 0 0 0 0 0 0 0 0 0 0 0 0 0 0 0 0 0 0 0 0 0 0 0 0 0 0 0 0 0 0 0 0 0 0 0 0 0 0 0 0 0 0 0 0 0 0 0 0 0 0 0 0 0 0 0 0 0 0 0 0 0 0 0 0 0 0 0 0 0 0 0 0 0 0 0 0 0 0 0 0 0 0 0 0 0 0 0 0 0 0 0 0 0 0 0 0 0 0 0 0 0 0 0 0 0 0 0 0 0 0 0 0 0 0 0 0 0 0 0 0 0 0 0 0 0 0 0 0 0 0 0 0 0 0 0 0 0 0 0 0 0 0 0 0 0 0 0 0 0 0 0 0 0 0 0 0 0 0 0 0 0 0 0 0 0 0 0 0 0 0 0 0 0 0 0 0 0 0 0 0 0 0 0 0 0 0 0 0 0 0 0 0 0 0 0 0 0 0 0 0 0 0 0 0 0 0 0 0 0 0 0 0 0 0 0 0 0 0 0 0 0 0 0 0 0 0 0 0 0 0 0 0 0 0 0 0 0 0\n",
      "07/15/2021 15:14:02 - INFO - __main__ -   input_ids: 101 2065 2017 2024 1999 2342 1997 11366 2030 2569 5375 2000 22149 2256 4037 2030 2000 3143 2115 4646 1010 3531 4604 2019 1041 1011 5653 2007 2115 5227 2000 14357 3136 2136 1006 10925 1024 10922 1012 2167 14074 14735 1030 20066 1012 4012 2030 10922 1012 3763 14074 14735 1030 20066 1012 4012 1010 9706 3501 1024 10922 1012 9706 3501 1030 20066 1012 4012 1010 7861 5243 1024 10922 1030 20066 1012 4012 1007 1012 3144 5347 2453 2022 3223 2000 13595 1037 4281 22616 2007 2019 6327 21431 1012 3176 5269 1024 102 0 0 0 0 0 0 0 0 0 0 0 0 0 0 0 0 0 0 0 0 0 0 0 0 0 0 0 0 0 0 0 0 0 0 0 0 0 0 0 0 0 0 0 0 0 0 0 0 0 0 0 0 0 0 0 0 0 0 0 0 0 0 0 0 0 0 0 0 0 0 0 0 0 0 0 0 0 0 0 0 0 0 0 0 0 0 0 0 0 0 0 0 0 0 0 0 0 0 0 0 0 0 0 0 0 0 0 0 0 0 0 0 0 0 0 0 0 0 0 0 0 0 0 0 0 0 0 0 0 0 0 0 0 0 0 0 0 0 0 0 0 0 0 0 0 0 0 0 0 0 0 0 0 0 0 0 0 0 0 0 0 0 0 0 0 0 0 0 0 0 0 0 0 0 0 0 0 0 0 0 0 0 0 0 0 0 0 0 0 0 0 0 0 0 0 0 0 0 0 0 0 0 0 0 0 0 0 0 0 0 0 0 0 0 0 0 0 0 0 0 0 0 0 0 0 0 0 0 0 0 0 0 0 0 0 0 0 0 0 0 0 0 0 0 0 0 0 0 0 0 0 0 0 0 0 0 0 0 0 0 0 0 0 0 0 0 0 0 0 0 0 0 0 0 0 0 0 0 0 0 0 0 0 0 0 0 0 0 0 0 0 0 0 0 0 0 0 0 0 0 0 0 0 0 0 0 0 0 0 0 0 0 0 0 0 0 0 0 0 0 0 0 0 0 0 0 0 0 0 0 0 0 0 0 0 0 0 0 0 0 0 0 0 0 0 0 0 0 0 0 0 0 0 0 0 0 0 0 0 0 0 0 0 0 0 0 0 0 0 0 0 0 0 0 0 0 0 0 0 0 0 0 0 0 0 0 0 0 0 0 0 0 0 0 0 0 0 0 0 0 0 0 0 0 0 0 0 0 0 0 0 0 0 0\n"
     ]
    },
    {
     "name": "stderr",
     "output_type": "stream",
     "text": [
      "07/15/2021 15:14:02 - INFO - __main__ -   input_mask: 1 1 1 1 1 1 1 1 1 1 1 1 1 1 1 1 1 1 1 1 1 1 1 1 1 1 1 1 1 1 1 1 1 1 1 1 1 1 1 1 1 1 1 1 1 1 1 1 1 1 1 1 1 1 1 1 1 1 1 1 1 1 1 1 1 1 1 1 1 1 1 1 1 1 1 1 1 1 1 1 1 1 1 1 1 1 1 1 1 1 1 1 1 1 1 1 1 1 0 0 0 0 0 0 0 0 0 0 0 0 0 0 0 0 0 0 0 0 0 0 0 0 0 0 0 0 0 0 0 0 0 0 0 0 0 0 0 0 0 0 0 0 0 0 0 0 0 0 0 0 0 0 0 0 0 0 0 0 0 0 0 0 0 0 0 0 0 0 0 0 0 0 0 0 0 0 0 0 0 0 0 0 0 0 0 0 0 0 0 0 0 0 0 0 0 0 0 0 0 0 0 0 0 0 0 0 0 0 0 0 0 0 0 0 0 0 0 0 0 0 0 0 0 0 0 0 0 0 0 0 0 0 0 0 0 0 0 0 0 0 0 0 0 0 0 0 0 0 0 0 0 0 0 0 0 0 0 0 0 0 0 0 0 0 0 0 0 0 0 0 0 0 0 0 0 0 0 0 0 0 0 0 0 0 0 0 0 0 0 0 0 0 0 0 0 0 0 0 0 0 0 0 0 0 0 0 0 0 0 0 0 0 0 0 0 0 0 0 0 0 0 0 0 0 0 0 0 0 0 0 0 0 0 0 0 0 0 0 0 0 0 0 0 0 0 0 0 0 0 0 0 0 0 0 0 0 0 0 0 0 0 0 0 0 0 0 0 0 0 0 0 0 0 0 0 0 0 0 0 0 0 0 0 0 0 0 0 0 0 0 0 0 0 0 0 0 0 0 0 0 0 0 0 0 0 0 0 0 0 0 0 0 0 0 0 0 0 0 0 0 0 0 0 0 0 0 0 0 0 0 0 0 0 0 0 0 0 0 0 0 0 0 0 0 0 0 0 0 0 0 0 0 0 0 0 0 0 0 0 0 0 0 0 0 0 0 0 0 0 0 0 0 0 0 0 0 0 0 0 0 0 0 0 0 0 0 0 0 0 0 0 0 0 0 0 0 0 0 0 0 0 0 0 0 0 0 0 0 0 0 0 0\n",
      "07/15/2021 15:14:02 - INFO - __main__ -   segment_ids: 0 0 0 0 0 0 0 0 0 0 0 0 0 0 0 0 0 0 0 0 0 0 0 0 0 0 0 0 0 0 0 0 0 0 0 0 0 0 0 0 0 0 0 0 0 0 0 0 0 0 0 0 0 0 0 0 0 0 0 0 0 0 0 0 0 0 0 0 0 0 0 0 0 0 0 0 0 0 0 0 0 0 0 0 0 0 0 0 0 0 0 0 0 0 0 0 0 0 0 0 0 0 0 0 0 0 0 0 0 0 0 0 0 0 0 0 0 0 0 0 0 0 0 0 0 0 0 0 0 0 0 0 0 0 0 0 0 0 0 0 0 0 0 0 0 0 0 0 0 0 0 0 0 0 0 0 0 0 0 0 0 0 0 0 0 0 0 0 0 0 0 0 0 0 0 0 0 0 0 0 0 0 0 0 0 0 0 0 0 0 0 0 0 0 0 0 0 0 0 0 0 0 0 0 0 0 0 0 0 0 0 0 0 0 0 0 0 0 0 0 0 0 0 0 0 0 0 0 0 0 0 0 0 0 0 0 0 0 0 0 0 0 0 0 0 0 0 0 0 0 0 0 0 0 0 0 0 0 0 0 0 0 0 0 0 0 0 0 0 0 0 0 0 0 0 0 0 0 0 0 0 0 0 0 0 0 0 0 0 0 0 0 0 0 0 0 0 0 0 0 0 0 0 0 0 0 0 0 0 0 0 0 0 0 0 0 0 0 0 0 0 0 0 0 0 0 0 0 0 0 0 0 0 0 0 0 0 0 0 0 0 0 0 0 0 0 0 0 0 0 0 0 0 0 0 0 0 0 0 0 0 0 0 0 0 0 0 0 0 0 0 0 0 0 0 0 0 0 0 0 0 0 0 0 0 0 0 0 0 0 0 0 0 0 0 0 0 0 0 0 0 0 0 0 0 0 0 0 0 0 0 0 0 0 0 0 0 0 0 0 0 0 0 0 0 0 0 0 0 0 0 0 0 0 0 0 0 0 0 0 0 0 0 0 0 0 0 0 0 0 0 0 0 0 0 0 0 0 0 0 0 0 0 0 0 0 0 0 0 0 0 0 0 0 0 0 0 0 0 0 0 0 0 0 0 0 0 0 0 0 0 0 0 0 0 0 0 0 0 0 0 0 0 0 0 0 0 0 0 0 0 0\n",
      "07/15/2021 15:14:02 - INFO - __main__ -   label_ids: -100 0 0 0 0 0 0 0 0 0 0 0 0 0 0 0 0 0 0 0 0 0 0 0 0 0 0 0 0 0 0 0 0 0 0 0 0 0 0 0 0 0 0 0 0 0 0 0 0 0 0 0 0 0 0 0 0 0 0 0 0 0 0 0 0 0 0 0 -100 -100 -100 -100 -100 -100 -100 -100 -100 -100 -100 -100 -100 -100 -100 -100 -100 -100 -100 -100 -100 -100 -100 -100 -100 -100 -100 -100 -100 -100 -100 -100 -100 -100 -100 -100 -100 -100 -100 -100 -100 -100 -100 -100 -100 -100 -100 -100 -100 -100 -100 -100 -100 -100 -100 -100 -100 -100 -100 -100 -100 -100 -100 -100 -100 -100 -100 -100 -100 -100 -100 -100 -100 -100 -100 -100 -100 -100 -100 -100 -100 -100 -100 -100 -100 -100 -100 -100 -100 -100 -100 -100 -100 -100 -100 -100 -100 -100 -100 -100 -100 -100 -100 -100 -100 -100 -100 -100 -100 -100 -100 -100 -100 -100 -100 -100 -100 -100 -100 -100 -100 -100 -100 -100 -100 -100 -100 -100 -100 -100 -100 -100 -100 -100 -100 -100 -100 -100 -100 -100 -100 -100 -100 -100 -100 -100 -100 -100 -100 -100 -100 -100 -100 -100 -100 -100 -100 -100 -100 -100 -100 -100 -100 -100 -100 -100 -100 -100 -100 -100 -100 -100 -100 -100 -100 -100 -100 -100 -100 -100 -100 -100 -100 -100 -100 -100 -100 -100 -100 -100 -100 -100 -100 -100 -100 -100 -100 -100 -100 -100 -100 -100 -100 -100 -100 -100 -100 -100 -100 -100 -100 -100 -100 -100 -100 -100 -100 -100 -100 -100 -100 -100 -100 -100 -100 -100 -100 -100 -100 -100 -100 -100 -100 -100 -100 -100 -100 -100 -100 -100 -100 -100 -100 -100 -100 -100 -100 -100 -100 -100 -100 -100 -100 -100 -100 -100 -100 -100 -100 -100 -100 -100 -100 -100 -100 -100 -100 -100 -100 -100 -100 -100 -100 -100 -100 -100 -100 -100 -100 -100 -100 -100 -100 -100 -100 -100 -100 -100 -100 -100 -100 -100 -100 -100 -100 -100 -100 -100 -100 -100 -100 -100 -100 -100 -100 -100 -100 -100 -100 -100 -100 -100 -100 -100 -100 -100 -100 -100 -100 -100 -100 -100 -100 -100 -100 -100 -100 -100 -100 -100 -100 -100 -100 -100 -100 -100 -100 -100 -100 -100 -100 -100 -100 -100 -100 -100 -100 -100 -100 -100 -100 -100 -100 -100 -100 -100 -100 -100 -100 -100 -100 -100 -100 -100 -100 -100 -100 -100 -100 -100 -100 -100 -100 -100 -100 -100 -100 -100 -100 -100 -100 -100 -100 -100 -100 -100 -100 -100 -100 -100 -100 -100 -100 -100 -100 -100 -100 -100 -100 -100 -100 -100 -100 -100 -100 -100 -100 -100 -100 -100 -100 -100 -100 -100 -100 -100 -100 -100 -100 -100 -100 -100 -100 -100 -100 -100 -100 -100 -100 -100 -100 -100 -100 -100 -100 -100 -100 -100 -100 -100 -100 -100 -100 -100\n",
      "07/15/2021 15:14:02 - INFO - __main__ -   start_ids: -100 0 0 0 0 0 0 0 0 0 0 0 0 0 0 0 0 0 0 0 0 0 0 0 0 0 0 0 0 0 0 0 0 0 0 0 0 0 0 0 0 0 0 0 0 0 0 0 0 0 0 0 0 0 0 0 0 0 0 0 0 0 0 0 0 0 0 0 -100 -100 -100 -100 -100 -100 -100 -100 -100 -100 -100 -100 -100 -100 -100 -100 -100 -100 -100 -100 -100 -100 -100 -100 -100 -100 -100 -100 -100 -100 -100 -100 -100 -100 -100 -100 -100 -100 -100 -100 -100 -100 -100 -100 -100 -100 -100 -100 -100 -100 -100 -100 -100 -100 -100 -100 -100 -100 -100 -100 -100 -100 -100 -100 -100 -100 -100 -100 -100 -100 -100 -100 -100 -100 -100 -100 -100 -100 -100 -100 -100 -100 -100 -100 -100 -100 -100 -100 -100 -100 -100 -100 -100 -100 -100 -100 -100 -100 -100 -100 -100 -100 -100 -100 -100 -100 -100 -100 -100 -100 -100 -100 -100 -100 -100 -100 -100 -100 -100 -100 -100 -100 -100 -100 -100 -100 -100 -100 -100 -100 -100 -100 -100 -100 -100 -100 -100 -100 -100 -100 -100 -100 -100 -100 -100 -100 -100 -100 -100 -100 -100 -100 -100 -100 -100 -100 -100 -100 -100 -100 -100 -100 -100 -100 -100 -100 -100 -100 -100 -100 -100 -100 -100 -100 -100 -100 -100 -100 -100 -100 -100 -100 -100 -100 -100 -100 -100 -100 -100 -100 -100 -100 -100 -100 -100 -100 -100 -100 -100 -100 -100 -100 -100 -100 -100 -100 -100 -100 -100 -100 -100 -100 -100 -100 -100 -100 -100 -100 -100 -100 -100 -100 -100 -100 -100 -100 -100 -100 -100 -100 -100 -100 -100 -100 -100 -100 -100 -100 -100 -100 -100 -100 -100 -100 -100 -100 -100 -100 -100 -100 -100 -100 -100 -100 -100 -100 -100 -100 -100 -100 -100 -100 -100 -100 -100 -100 -100 -100 -100 -100 -100 -100 -100 -100 -100 -100 -100 -100 -100 -100 -100 -100 -100 -100 -100 -100 -100 -100 -100 -100 -100 -100 -100 -100 -100 -100 -100 -100 -100 -100 -100 -100 -100 -100 -100 -100 -100 -100 -100 -100 -100 -100 -100 -100 -100 -100 -100 -100 -100 -100 -100 -100 -100 -100 -100 -100 -100 -100 -100 -100 -100 -100 -100 -100 -100 -100 -100 -100 -100 -100 -100 -100 -100 -100 -100 -100 -100 -100 -100 -100 -100 -100 -100 -100 -100 -100 -100 -100 -100 -100 -100 -100 -100 -100 -100 -100 -100 -100 -100 -100 -100 -100 -100 -100 -100 -100 -100 -100 -100 -100 -100 -100 -100 -100 -100 -100 -100 -100 -100 -100 -100 -100 -100 -100 -100 -100 -100 -100 -100 -100 -100 -100 -100 -100 -100 -100 -100 -100 -100 -100 -100 -100 -100 -100 -100 -100 -100 -100 -100 -100 -100 -100 -100 -100 -100 -100 -100 -100 -100 -100 -100 -100 -100 -100 -100 -100 -100 -100 -100 -100 -100 -100 -100 -100\n",
      "07/15/2021 15:14:02 - INFO - __main__ -   end_ids: -100 0 0 0 0 0 0 0 0 0 0 0 0 0 0 0 0 0 0 0 0 0 0 0 0 0 0 0 0 0 0 0 0 0 0 0 0 0 0 0 0 0 0 0 0 0 0 0 0 0 0 0 0 0 0 0 0 0 0 0 0 0 0 0 0 0 0 0 -100 -100 -100 -100 -100 -100 -100 -100 -100 -100 -100 -100 -100 -100 -100 -100 -100 -100 -100 -100 -100 -100 -100 -100 -100 -100 -100 -100 -100 -100 -100 -100 -100 -100 -100 -100 -100 -100 -100 -100 -100 -100 -100 -100 -100 -100 -100 -100 -100 -100 -100 -100 -100 -100 -100 -100 -100 -100 -100 -100 -100 -100 -100 -100 -100 -100 -100 -100 -100 -100 -100 -100 -100 -100 -100 -100 -100 -100 -100 -100 -100 -100 -100 -100 -100 -100 -100 -100 -100 -100 -100 -100 -100 -100 -100 -100 -100 -100 -100 -100 -100 -100 -100 -100 -100 -100 -100 -100 -100 -100 -100 -100 -100 -100 -100 -100 -100 -100 -100 -100 -100 -100 -100 -100 -100 -100 -100 -100 -100 -100 -100 -100 -100 -100 -100 -100 -100 -100 -100 -100 -100 -100 -100 -100 -100 -100 -100 -100 -100 -100 -100 -100 -100 -100 -100 -100 -100 -100 -100 -100 -100 -100 -100 -100 -100 -100 -100 -100 -100 -100 -100 -100 -100 -100 -100 -100 -100 -100 -100 -100 -100 -100 -100 -100 -100 -100 -100 -100 -100 -100 -100 -100 -100 -100 -100 -100 -100 -100 -100 -100 -100 -100 -100 -100 -100 -100 -100 -100 -100 -100 -100 -100 -100 -100 -100 -100 -100 -100 -100 -100 -100 -100 -100 -100 -100 -100 -100 -100 -100 -100 -100 -100 -100 -100 -100 -100 -100 -100 -100 -100 -100 -100 -100 -100 -100 -100 -100 -100 -100 -100 -100 -100 -100 -100 -100 -100 -100 -100 -100 -100 -100 -100 -100 -100 -100 -100 -100 -100 -100 -100 -100 -100 -100 -100 -100 -100 -100 -100 -100 -100 -100 -100 -100 -100 -100 -100 -100 -100 -100 -100 -100 -100 -100 -100 -100 -100 -100 -100 -100 -100 -100 -100 -100 -100 -100 -100 -100 -100 -100 -100 -100 -100 -100 -100 -100 -100 -100 -100 -100 -100 -100 -100 -100 -100 -100 -100 -100 -100 -100 -100 -100 -100 -100 -100 -100 -100 -100 -100 -100 -100 -100 -100 -100 -100 -100 -100 -100 -100 -100 -100 -100 -100 -100 -100 -100 -100 -100 -100 -100 -100 -100 -100 -100 -100 -100 -100 -100 -100 -100 -100 -100 -100 -100 -100 -100 -100 -100 -100 -100 -100 -100 -100 -100 -100 -100 -100 -100 -100 -100 -100 -100 -100 -100 -100 -100 -100 -100 -100 -100 -100 -100 -100 -100 -100 -100 -100 -100 -100 -100 -100 -100 -100 -100 -100 -100 -100 -100 -100 -100 -100 -100 -100 -100 -100 -100 -100 -100 -100 -100 -100 -100 -100 -100 -100 -100 -100 -100 -100 -100 -100 -100 -100 -100 -100\n"
     ]
    },
    {
     "name": "stderr",
     "output_type": "stream",
     "text": [
      "07/15/2021 15:14:02 - INFO - __main__ -   *** Example ***\n",
      "07/15/2021 15:14:02 - INFO - __main__ -   guid: train-4\n",
      "07/15/2021 15:14:02 - INFO - __main__ -   tokens: [CLS] re ##qui ##sit ##ion id : 282 ##39 ##7 work area : software - design and development expected travel : 0 - 10 % career status : professional employment type : regular full time company description sap started in 1972 as a team of five colleagues with a desire to do something new . together , they changed enterprise software and rein ##vent ##ed how business was done . today , as a market leader in enterprise application software , we remain true to our roots . that s why we engineer solutions to fuel innovation , foster equality and spread opportunity for our employees and customers across borders and cultures . sap values the entrepreneur ##ial spirit , foster ##ing creativity and building lasting relationships with our employees . we know that a diverse and inclusive workforce keeps us competitive and provides opportunities for all . we believe that together we can transform industries , grow economics , lift up societies and sustain our environment . because it s the best - run businesses that make the world run better and improve people s lives . sap innovations help more than 400 , 000 customers worldwide work together more efficiently and use business insight more effectively . originally known for leadership in enterprise resource planning ( er ##p ) software , sap has evolved to become a market leader in end - to - end business application software and related services for database , analytics , intelligent technologies , and experience management . as a cloud company with 200 million users and more than 100 , 000 employees worldwide , we are purpose - driven and future - focused , with a highly collaborative team et ##hic and commitment to personal development . whether connecting global industries , people , or platforms , we help ensure every challenge gets the solution it deserves . at sap , we build breakthrough ##s , together . job title , summary & role information user experience designer - senior ( m / f / d ) this challenging opportunity is perfect for a mobile user experience designer with mobile business skills , an open mind and willingness to join a start - up like team . in the role , you will create conceptual wire ##frame ##s , story ##boards , click - through prototypes , and user flow diagrams to art ##iculate on design direction . you will also effectively communicate design decisions to colleagues , cross - functional team members , and management . you will also design and implement elegant and streamlined software ui process flow on complex functional ##ities . [SEP]\n",
      "07/15/2021 15:14:02 - INFO - __main__ -   valid_mask: 1 1 0 0 0 1 1 1 0 0 1 1 1 1 1 1 1 1 1 1 1 1 1 1 1 1 1 1 1 1 1 1 1 1 1 1 1 1 1 1 1 1 1 1 1 1 1 1 1 1 1 1 1 1 1 1 1 1 1 1 1 1 1 0 0 1 1 1 1 1 1 1 1 1 1 1 1 1 1 1 1 1 1 1 1 1 1 1 1 1 1 1 1 1 1 1 1 1 1 1 1 1 1 1 1 1 1 1 1 1 1 1 1 1 1 1 1 0 1 1 1 0 1 1 1 1 1 1 1 1 1 1 1 1 1 1 1 1 1 1 1 1 1 1 1 1 1 1 1 1 1 1 1 1 1 1 1 1 1 1 1 1 1 1 1 1 1 1 1 1 1 1 1 1 1 1 1 1 1 1 1 1 1 1 1 1 1 1 1 1 1 1 1 1 0 0 1 1 1 1 1 1 1 1 1 1 1 1 1 1 1 1 1 1 1 1 1 1 1 0 1 1 1 1 1 1 1 1 1 1 1 1 1 1 1 1 1 1 1 1 1 1 1 1 1 1 1 1 1 1 1 1 1 1 1 1 1 1 1 1 1 1 1 1 1 1 1 0 0 1 1 1 1 1 1 1 1 1 1 1 1 1 1 1 1 1 1 1 0 1 1 1 1 1 1 1 1 1 1 1 1 1 1 1 1 1 1 1 1 1 1 1 1 1 1 1 1 1 1 1 1 1 0 1 1 1 1 1 1 1 1 1 1 1 1 1 1 1 1 1 1 1 1 1 1 1 1 1 1 1 1 1 1 1 1 1 1 1 1 1 1 1 1 1 1 1 1 1 1 1 1 1 1 1 1 1 1 1 1 1 1 1 1 1 0 0 1 1 0 1 1 1 1 1 1 1 1 1 1 1 1 0 1 1 1 1 1 1 1 1 1 1 1 1 1 1 1 1 1 1 1 1 1 1 1 1 1 1 1 1 1 1 1 1 1 1 1 1 1 1 1 0 1 1 0 0 0 0 0 0 0 0 0 0 0 0 0 0 0 0 0 0 0 0 0 0 0 0 0 0 0 0 0 0 0 0 0 0 0 0 0 0 0 0 0 0 0 0 0 0 0 0 0 0 0 0 0 0 0 0 0 0 0 0 0 0 0 0 0 0 0 0\n",
      "07/15/2021 15:14:02 - INFO - __main__ -   input_ids: 101 2128 15549 28032 3258 8909 1024 26267 23499 2581 2147 2181 1024 4007 1011 2640 1998 2458 3517 3604 1024 1014 1011 2184 1003 2476 3570 1024 2658 6107 2828 1024 3180 2440 2051 2194 6412 20066 2318 1999 3285 2004 1037 2136 1997 2274 8628 2007 1037 4792 2000 2079 2242 2047 1012 2362 1010 2027 2904 6960 4007 1998 27788 15338 2098 2129 2449 2001 2589 1012 2651 1010 2004 1037 3006 3003 1999 6960 4646 4007 1010 2057 3961 2995 2000 2256 6147 1012 2008 1055 2339 2057 3992 7300 2000 4762 8144 1010 6469 9945 1998 3659 4495 2005 2256 5126 1998 6304 2408 6645 1998 8578 1012 20066 5300 1996 10670 4818 4382 1010 6469 2075 14842 1998 2311 9879 6550 2007 2256 5126 1012 2057 2113 2008 1037 7578 1998 18678 14877 7906 2149 6975 1998 3640 6695 2005 2035 1012 2057 2903 2008 2362 2057 2064 10938 6088 1010 4982 5543 1010 6336 2039 8384 1998 15770 2256 4044 1012 2138 2009 1055 1996 2190 1011 2448 5661 2008 2191 1996 2088 2448 2488 1998 5335 2111 1055 3268 1012 20066 15463 2393 2062 2084 4278 1010 2199 6304 4969 2147 2362 2062 18228 1998 2224 2449 12369 2062 6464 1012 2761 2124 2005 4105 1999 6960 7692 4041 1006 9413 2361 1007 4007 1010 20066 2038 7964 2000 2468 1037 3006 3003 1999 2203 1011 2000 1011 2203 2449 4646 4007 1998 3141 2578 2005 7809 1010 25095 1010 9414 6786 1010 1998 3325 2968 1012 2004 1037 6112 2194 2007 3263 2454 5198 1998 2062 2084 2531 1010 2199 5126 4969 1010 2057 2024 3800 1011 5533 1998 2925 1011 4208 1010 2007 1037 3811 12317 2136 3802 16066 1998 8426 2000 3167 2458 1012 3251 7176 3795 6088 1010 2111 1010 2030 7248 1010 2057 2393 5676 2296 4119 4152 1996 5576 2009 17210 1012 2012 20066 1010 2057 3857 12687 2015 1010 2362 1012 3105 2516 1010 12654 1004 2535 2592 5310 3325 5859 1011 3026 1006 1049 1013 1042 1013 1040 1007 2023 10368 4495 2003 3819 2005 1037 4684 5310 3325 5859 2007 4684 2449 4813 1010 2019 2330 2568 1998 19732 2000 3693 1037 2707 1011 2039 2066 2136 1012 1999 1996 2535 1010 2017 2097 3443 17158 7318 15643 2015 1010 2466 15271 1010 11562 1011 2083 19599 1010 1998 5310 4834 26309 2000 2396 24153 2006 2640 3257 1012 2017 2097 2036 6464 10639 2640 6567 2000 8628 1010 2892 1011 8360 2136 2372 1010 1998 2968 1012 2017 2097 2036 2640 1998 10408 11552 1998 29445 4007 21318 2832 4834 2006 3375 8360 6447 1012 102 0 0 0 0 0 0 0 0 0 0 0 0 0 0 0 0 0 0 0 0 0 0 0 0 0 0 0 0 0 0 0 0 0 0 0 0 0 0 0 0 0 0 0 0 0 0 0 0 0 0 0 0 0 0 0 0 0 0 0 0 0 0 0 0 0 0 0 0\n",
      "07/15/2021 15:14:02 - INFO - __main__ -   input_mask: 1 1 1 1 1 1 1 1 1 1 1 1 1 1 1 1 1 1 1 1 1 1 1 1 1 1 1 1 1 1 1 1 1 1 1 1 1 1 1 1 1 1 1 1 1 1 1 1 1 1 1 1 1 1 1 1 1 1 1 1 1 1 1 1 1 1 1 1 1 1 1 1 1 1 1 1 1 1 1 1 1 1 1 1 1 1 1 1 1 1 1 1 1 1 1 1 1 1 1 1 1 1 1 1 1 1 1 1 1 1 1 1 1 1 1 1 1 1 1 1 1 1 1 1 1 1 1 1 1 1 1 1 1 1 1 1 1 1 1 1 1 1 1 1 1 1 1 1 1 1 1 1 1 1 1 1 1 1 1 1 1 1 1 1 1 1 1 1 1 1 1 1 1 1 1 1 1 1 1 1 1 1 1 1 1 1 1 1 1 1 1 1 1 1 1 1 1 1 1 1 1 1 1 1 1 1 1 1 1 1 1 1 1 1 1 1 1 1 1 1 1 1 1 1 1 1 1 1 1 1 1 1 1 1 1 1 1 1 1 1 1 1 1 1 1 1 1 1 1 1 1 1 1 1 1 1 1 1 1 1 1 1 1 1 1 1 1 1 1 1 1 1 1 1 1 1 1 1 1 1 1 1 1 1 1 1 1 1 1 1 1 1 1 1 1 1 1 1 1 1 1 1 1 1 1 1 1 1 1 1 1 1 1 1 1 1 1 1 1 1 1 1 1 1 1 1 1 1 1 1 1 1 1 1 1 1 1 1 1 1 1 1 1 1 1 1 1 1 1 1 1 1 1 1 1 1 1 1 1 1 1 1 1 1 1 1 1 1 1 1 1 1 1 1 1 1 1 1 1 1 1 1 1 1 1 1 1 1 1 1 1 1 1 1 1 1 1 1 1 1 1 1 1 1 1 1 1 1 1 1 1 1 1 1 1 1 1 1 1 1 1 1 1 1 1 1 1 1 1 1 1 1 1 1 1 1 1 1 1 1 1 1 1 1 0 0 0 0 0 0 0 0 0 0 0 0 0 0 0 0 0 0 0 0 0 0 0 0 0 0 0 0 0 0 0 0 0 0 0 0 0 0 0 0 0 0 0 0 0 0 0 0 0 0 0 0 0 0 0 0 0 0 0 0 0 0 0 0 0 0 0 0\n",
      "07/15/2021 15:14:02 - INFO - __main__ -   segment_ids: 0 0 0 0 0 0 0 0 0 0 0 0 0 0 0 0 0 0 0 0 0 0 0 0 0 0 0 0 0 0 0 0 0 0 0 0 0 0 0 0 0 0 0 0 0 0 0 0 0 0 0 0 0 0 0 0 0 0 0 0 0 0 0 0 0 0 0 0 0 0 0 0 0 0 0 0 0 0 0 0 0 0 0 0 0 0 0 0 0 0 0 0 0 0 0 0 0 0 0 0 0 0 0 0 0 0 0 0 0 0 0 0 0 0 0 0 0 0 0 0 0 0 0 0 0 0 0 0 0 0 0 0 0 0 0 0 0 0 0 0 0 0 0 0 0 0 0 0 0 0 0 0 0 0 0 0 0 0 0 0 0 0 0 0 0 0 0 0 0 0 0 0 0 0 0 0 0 0 0 0 0 0 0 0 0 0 0 0 0 0 0 0 0 0 0 0 0 0 0 0 0 0 0 0 0 0 0 0 0 0 0 0 0 0 0 0 0 0 0 0 0 0 0 0 0 0 0 0 0 0 0 0 0 0 0 0 0 0 0 0 0 0 0 0 0 0 0 0 0 0 0 0 0 0 0 0 0 0 0 0 0 0 0 0 0 0 0 0 0 0 0 0 0 0 0 0 0 0 0 0 0 0 0 0 0 0 0 0 0 0 0 0 0 0 0 0 0 0 0 0 0 0 0 0 0 0 0 0 0 0 0 0 0 0 0 0 0 0 0 0 0 0 0 0 0 0 0 0 0 0 0 0 0 0 0 0 0 0 0 0 0 0 0 0 0 0 0 0 0 0 0 0 0 0 0 0 0 0 0 0 0 0 0 0 0 0 0 0 0 0 0 0 0 0 0 0 0 0 0 0 0 0 0 0 0 0 0 0 0 0 0 0 0 0 0 0 0 0 0 0 0 0 0 0 0 0 0 0 0 0 0 0 0 0 0 0 0 0 0 0 0 0 0 0 0 0 0 0 0 0 0 0 0 0 0 0 0 0 0 0 0 0 0 0 0 0 0 0 0 0 0 0 0 0 0 0 0 0 0 0 0 0 0 0 0 0 0 0 0 0 0 0 0 0 0 0 0 0 0 0 0 0 0 0 0 0 0 0 0 0 0 0 0 0 0 0 0 0 0 0 0 0 0 0 0 0 0 0 0 0 0 0\n"
     ]
    },
    {
     "name": "stderr",
     "output_type": "stream",
     "text": [
      "07/15/2021 15:14:02 - INFO - __main__ -   label_ids: -100 0 0 0 0 0 0 0 0 0 0 0 0 0 0 0 0 0 0 0 0 0 0 0 0 0 0 0 0 0 0 0 0 0 0 0 0 0 0 0 0 0 0 0 0 0 0 0 0 0 0 0 0 0 0 0 0 0 0 0 0 0 0 0 0 0 0 0 0 0 0 0 0 0 0 0 0 0 0 0 0 0 0 0 0 0 0 0 0 0 0 0 0 0 0 0 0 0 0 0 0 0 0 0 0 0 0 0 0 0 0 0 0 0 0 0 0 0 0 0 0 0 0 0 0 0 0 0 0 0 0 0 0 0 0 0 0 0 0 0 0 0 0 0 0 0 0 0 0 0 0 0 0 0 0 0 0 0 0 0 0 0 0 0 0 0 0 0 0 0 0 0 0 0 0 0 0 0 0 0 0 0 0 0 0 0 0 0 0 0 0 0 0 0 0 0 0 0 0 0 0 0 0 0 0 0 0 0 0 0 0 0 0 0 0 0 0 0 0 0 0 0 0 0 0 0 0 0 0 0 0 0 0 0 0 0 0 0 0 0 0 0 0 0 0 0 0 0 0 0 0 0 0 0 0 0 0 0 0 0 0 0 0 0 0 0 0 0 0 0 0 0 0 0 0 0 0 0 0 0 0 0 0 0 0 0 0 0 0 0 0 0 0 0 0 0 0 0 0 0 0 0 0 0 0 0 0 0 0 0 0 0 0 0 0 0 0 0 0 0 0 0 0 0 0 0 0 0 0 0 0 0 0 0 0 0 0 0 0 0 0 1 2 0 0 0 3 4 0 3 0 0 0 0 0 0 0 0 0 0 0 0 0 0 0 0 0 7 0 7 0 0 0 0 7 0 0 7 8 8 0 0 0 0 0 0 0 0 0 0 3 0 0 0 0 0 0 0 0 0 0 0 0 0 0 0 0 0 7 0 7 0 0 0 7 8 0 0 0 0 0 0 -100 -100 -100 -100 -100 -100 -100 -100 -100 -100 -100 -100 -100 -100 -100 -100 -100 -100 -100 -100 -100 -100 -100 -100 -100 -100 -100 -100 -100 -100 -100 -100 -100 -100 -100 -100 -100 -100 -100 -100 -100 -100 -100 -100 -100 -100 -100 -100 -100 -100 -100 -100 -100 -100 -100 -100 -100 -100 -100 -100 -100 -100 -100 -100 -100 -100 -100 -100 -100 -100 -100 -100 -100 -100 -100 -100 -100 -100 -100 -100 -100 -100 -100 -100 -100 -100 -100 -100 -100 -100\n",
      "07/15/2021 15:14:02 - INFO - __main__ -   start_ids: -100 0 0 0 0 0 0 0 0 0 0 0 0 0 0 0 0 0 0 0 0 0 0 0 0 0 0 0 0 0 0 0 0 0 0 0 0 0 0 0 0 0 0 0 0 0 0 0 0 0 0 0 0 0 0 0 0 0 0 0 0 0 0 0 0 0 0 0 0 0 0 0 0 0 0 0 0 0 0 0 0 0 0 0 0 0 0 0 0 0 0 0 0 0 0 0 0 0 0 0 0 0 0 0 0 0 0 0 0 0 0 0 0 0 0 0 0 0 0 0 0 0 0 0 0 0 0 0 0 0 0 0 0 0 0 0 0 0 0 0 0 0 0 0 0 0 0 0 0 0 0 0 0 0 0 0 0 0 0 0 0 0 0 0 0 0 0 0 0 0 0 0 0 0 0 0 0 0 0 0 0 0 0 0 0 0 0 0 0 0 0 0 0 0 0 0 0 0 0 0 0 0 0 0 0 0 0 0 0 0 0 0 0 0 0 0 0 0 0 0 0 0 0 0 0 0 0 0 0 0 0 0 0 0 0 0 0 0 0 0 0 0 0 0 0 0 0 0 0 0 0 0 0 0 0 0 0 0 0 0 0 0 0 0 0 0 0 0 0 0 0 0 0 0 0 0 0 0 0 0 0 0 0 0 0 0 0 0 0 0 0 0 0 0 0 0 0 0 0 0 0 0 0 0 0 0 0 0 0 0 0 0 0 0 0 0 0 0 0 0 0 0 0 0 0 0 0 0 0 0 0 0 0 0 0 0 0 0 0 0 0 1 0 0 0 0 2 0 0 2 0 0 0 0 0 0 0 0 0 0 0 0 0 0 0 0 0 4 0 4 0 0 0 0 4 0 0 4 0 0 0 0 0 0 0 0 0 0 0 0 2 0 0 0 0 0 0 0 0 0 0 0 0 0 0 0 0 0 4 0 4 0 0 0 4 0 0 0 0 0 0 0 -100 -100 -100 -100 -100 -100 -100 -100 -100 -100 -100 -100 -100 -100 -100 -100 -100 -100 -100 -100 -100 -100 -100 -100 -100 -100 -100 -100 -100 -100 -100 -100 -100 -100 -100 -100 -100 -100 -100 -100 -100 -100 -100 -100 -100 -100 -100 -100 -100 -100 -100 -100 -100 -100 -100 -100 -100 -100 -100 -100 -100 -100 -100 -100 -100 -100 -100 -100 -100 -100 -100 -100 -100 -100 -100 -100 -100 -100 -100 -100 -100 -100 -100 -100 -100 -100 -100 -100 -100 -100\n",
      "07/15/2021 15:14:02 - INFO - __main__ -   end_ids: -100 0 0 0 0 0 0 0 0 0 0 0 0 0 0 0 0 0 0 0 0 0 0 0 0 0 0 0 0 0 0 0 0 0 0 0 0 0 0 0 0 0 0 0 0 0 0 0 0 0 0 0 0 0 0 0 0 0 0 0 0 0 0 0 0 0 0 0 0 0 0 0 0 0 0 0 0 0 0 0 0 0 0 0 0 0 0 0 0 0 0 0 0 0 0 0 0 0 0 0 0 0 0 0 0 0 0 0 0 0 0 0 0 0 0 0 0 0 0 0 0 0 0 0 0 0 0 0 0 0 0 0 0 0 0 0 0 0 0 0 0 0 0 0 0 0 0 0 0 0 0 0 0 0 0 0 0 0 0 0 0 0 0 0 0 0 0 0 0 0 0 0 0 0 0 0 0 0 0 0 0 0 0 0 0 0 0 0 0 0 0 0 0 0 0 0 0 0 0 0 0 0 0 0 0 0 0 0 0 0 0 0 0 0 0 0 0 0 0 0 0 0 0 0 0 0 0 0 0 0 0 0 0 0 0 0 0 0 0 0 0 0 0 0 0 0 0 0 0 0 0 0 0 0 0 0 0 0 0 0 0 0 0 0 0 0 0 0 0 0 0 0 0 0 0 0 0 0 0 0 0 0 0 0 0 0 0 0 0 0 0 0 0 0 0 0 0 0 0 0 0 0 0 0 0 0 0 0 0 0 0 0 0 0 0 0 0 0 0 0 0 0 0 0 0 0 0 0 0 0 0 0 0 0 0 0 0 0 0 0 0 0 1 0 0 0 0 2 0 2 0 0 0 0 0 0 0 0 0 0 0 0 0 0 0 0 0 4 0 4 0 0 0 0 4 0 0 0 0 4 0 0 0 0 0 0 0 0 0 0 2 0 0 0 0 0 0 0 0 0 0 0 0 0 0 0 0 0 4 0 4 0 0 0 0 4 0 0 0 0 0 0 -100 -100 -100 -100 -100 -100 -100 -100 -100 -100 -100 -100 -100 -100 -100 -100 -100 -100 -100 -100 -100 -100 -100 -100 -100 -100 -100 -100 -100 -100 -100 -100 -100 -100 -100 -100 -100 -100 -100 -100 -100 -100 -100 -100 -100 -100 -100 -100 -100 -100 -100 -100 -100 -100 -100 -100 -100 -100 -100 -100 -100 -100 -100 -100 -100 -100 -100 -100 -100 -100 -100 -100 -100 -100 -100 -100 -100 -100 -100 -100 -100 -100 -100 -100 -100 -100 -100 -100 -100 -100\n",
      "07/15/2021 15:14:02 - INFO - __main__ -   *** Example ***\n",
      "07/15/2021 15:14:02 - INFO - __main__ -   guid: train-5\n",
      "07/15/2021 15:14:02 - INFO - __main__ -   tokens: [CLS] you will collaborate with developers , product managers , quality assurance , and solution management to create amazing user interfaces as well as keep up with evolving design trends , technologies and best practices . we are looking for mobile user experience designers who are familiar with state - of - the - art native mobile app design and excellent skills in interaction design . previous experience in design and user experience specifically for mobile devices . experience ( role requirements ) 6 + years of experience in design and user experience specifically for mobile devices experience working in an agile / sc ##rum development process is beneficial experience in visual design with good ground ##ing in ty ##po ##graphy , colors , layout , visual hierarchy and consistency deep knowledge in sketch , adobe x ##d , photos ##hop , illustrator or other visual design and wire - framing tools strong communications skills , with the ability to explain design decisions and processes to anyone in the company simply and clearly including senior manage ##net & board level able to collaborate actively and effectively in multi ##dis ##ci ##plin ##ary , distributed , and international teams fluent english language skills , fluent german is a plus . customer experience at le customers such as consulting , sales , product design or similar procurement knowledge is a plus about the team / brand / line of business the mobile experience & engineering unit will be the central place for sap s mobile app development and everything around mobile technology . our vision is to act as leader for the most innovative mobile user experience in the b ##2 ##b market to fuel our customers limit ##less growth . # sap _ mobile _ budapest # so ##fe ##j ##p what you get from us success is what you make it . at sap , we help you make it your own . a career at sap can open many doors for you . if you re searching for a company that s dedicated to your ideas and individual growth , recognizes you for your unique contributions , fills you with a strong sense of purpose , and provides a fun , flexible and inclusive work environment apply now . sap ' s diversity commitment to harness the power of innovation , sap invest ##s in the development of its diverse employees . we as ##pire to leverage the qualities and appreciate the unique compete ##ncies that each person brings to the company . [SEP]\n",
      "07/15/2021 15:14:02 - INFO - __main__ -   valid_mask: 1 1 1 1 1 1 1 1 1 1 1 1 1 1 1 1 1 1 1 1 1 1 1 1 1 1 1 1 1 1 1 1 1 1 1 1 1 1 1 1 1 1 1 1 1 1 1 1 1 1 1 1 1 1 1 1 1 1 1 1 1 1 1 1 1 1 1 1 1 1 1 1 1 1 1 1 1 1 1 1 1 1 1 1 1 1 1 1 1 1 1 1 1 1 1 1 1 1 1 1 1 1 1 1 0 1 1 1 1 1 1 1 1 1 1 1 0 1 1 0 0 1 1 1 1 1 1 1 1 1 1 1 1 1 1 1 1 0 1 1 0 1 1 1 1 1 1 1 1 1 1 1 1 1 1 1 1 1 1 1 1 1 1 1 1 1 1 1 1 1 1 1 1 1 1 1 0 1 1 1 1 1 1 1 1 1 1 1 0 0 0 0 1 1 1 1 1 1 1 1 1 1 1 1 1 1 1 1 1 1 1 1 1 1 1 1 1 1 1 1 1 1 1 1 1 1 1 1 1 1 1 1 1 1 1 1 1 1 1 1 1 1 1 1 1 1 1 1 1 1 1 1 1 1 1 1 1 1 1 1 1 1 1 1 1 1 1 1 1 1 1 1 1 1 1 1 1 1 0 0 1 1 1 1 1 1 0 1 1 1 1 0 0 0 0 1 1 0 0 0 1 1 1 1 1 1 1 1 1 1 1 1 1 1 1 1 1 1 1 1 1 1 1 1 1 1 1 1 1 1 1 1 1 1 1 1 1 1 1 1 1 1 1 1 1 1 1 1 1 1 1 1 1 1 1 1 1 1 1 1 1 1 1 1 1 1 1 1 1 1 1 1 1 1 1 1 1 1 1 1 1 1 0 1 1 1 1 1 1 1 1 1 1 1 0 1 1 1 1 1 1 1 1 1 1 0 1 1 1 1 1 1 1 1 1 0 1 1 1 1 1 1 1 1 1 0 0 0 0 0 0 0 0 0 0 0 0 0 0 0 0 0 0 0 0 0 0 0 0 0 0 0 0 0 0 0 0 0 0 0 0 0 0 0 0 0 0 0 0 0 0 0 0 0 0 0 0 0 0 0 0 0 0 0 0 0 0 0 0 0 0 0 0 0 0 0 0 0 0 0 0 0 0 0 0 0 0 0 0 0 0 0\n",
      "07/15/2021 15:14:02 - INFO - __main__ -   input_ids: 101 2017 2097 20880 2007 9797 1010 4031 10489 1010 3737 16375 1010 1998 5576 2968 2000 3443 6429 5310 19706 2004 2092 2004 2562 2039 2007 20607 2640 12878 1010 6786 1998 2190 6078 1012 2057 2024 2559 2005 4684 5310 3325 11216 2040 2024 5220 2007 2110 1011 1997 1011 1996 1011 2396 3128 4684 10439 2640 1998 6581 4813 1999 8290 2640 1012 3025 3325 1999 2640 1998 5310 3325 4919 2005 4684 5733 1012 3325 1006 2535 5918 1007 1020 1009 2086 1997 3325 1999 2640 1998 5310 3325 4919 2005 4684 5733 3325 2551 1999 2019 29003 1013 8040 6824 2458 2832 2003 15189 3325 1999 5107 2640 2007 2204 2598 2075 1999 5939 6873 12565 1010 6087 1010 9621 1010 5107 12571 1998 18700 2784 3716 1999 11080 1010 18106 1060 2094 1010 7760 18471 1010 13825 2030 2060 5107 2640 1998 7318 1011 20241 5906 2844 4806 4813 1010 2007 1996 3754 2000 4863 2640 6567 1998 6194 2000 3087 1999 1996 2194 3432 1998 4415 2164 3026 6133 7159 1004 2604 2504 2583 2000 20880 8851 1998 6464 1999 4800 10521 6895 28296 5649 1010 5500 1010 1998 2248 2780 19376 2394 2653 4813 1010 19376 2446 2003 1037 4606 1012 8013 3325 2012 3393 6304 2107 2004 10552 1010 4341 1010 4031 2640 2030 2714 21423 3716 2003 1037 4606 2055 1996 2136 1013 4435 1013 2240 1997 2449 1996 4684 3325 1004 3330 3131 2097 2022 1996 2430 2173 2005 20066 1055 4684 10439 2458 1998 2673 2105 4684 2974 1012 2256 4432 2003 2000 2552 2004 3003 2005 1996 2087 9525 4684 5310 3325 1999 1996 1038 2475 2497 3006 2000 4762 2256 6304 5787 3238 3930 1012 1001 20066 1035 4684 1035 10926 1001 2061 7959 3501 2361 2054 2017 2131 2013 2149 3112 2003 2054 2017 2191 2009 1012 2012 20066 1010 2057 2393 2017 2191 2009 2115 2219 1012 1037 2476 2012 20066 2064 2330 2116 4303 2005 2017 1012 2065 2017 2128 6575 2005 1037 2194 2008 1055 4056 2000 2115 4784 1998 3265 3930 1010 14600 2017 2005 2115 4310 5857 1010 17469 2017 2007 1037 2844 3168 1997 3800 1010 1998 3640 1037 4569 1010 12379 1998 18678 2147 4044 6611 2085 1012 20066 1005 1055 8906 8426 2000 17445 1996 2373 1997 8144 1010 20066 15697 2015 1999 1996 2458 1997 2049 7578 5126 1012 2057 2004 20781 2000 21155 1996 11647 1998 9120 1996 4310 5566 14767 2008 2169 2711 7545 2000 1996 2194 1012 102 0 0 0 0 0 0 0 0 0 0 0 0 0 0 0 0 0 0 0 0 0 0 0 0 0 0 0 0 0 0 0 0 0 0 0 0 0 0 0 0 0 0 0 0 0 0 0 0 0 0 0 0 0 0 0 0 0 0 0 0 0 0 0 0 0 0 0 0 0 0 0 0 0 0 0 0 0 0 0 0 0 0 0 0 0 0 0\n"
     ]
    },
    {
     "name": "stderr",
     "output_type": "stream",
     "text": [
      "07/15/2021 15:14:02 - INFO - __main__ -   input_mask: 1 1 1 1 1 1 1 1 1 1 1 1 1 1 1 1 1 1 1 1 1 1 1 1 1 1 1 1 1 1 1 1 1 1 1 1 1 1 1 1 1 1 1 1 1 1 1 1 1 1 1 1 1 1 1 1 1 1 1 1 1 1 1 1 1 1 1 1 1 1 1 1 1 1 1 1 1 1 1 1 1 1 1 1 1 1 1 1 1 1 1 1 1 1 1 1 1 1 1 1 1 1 1 1 1 1 1 1 1 1 1 1 1 1 1 1 1 1 1 1 1 1 1 1 1 1 1 1 1 1 1 1 1 1 1 1 1 1 1 1 1 1 1 1 1 1 1 1 1 1 1 1 1 1 1 1 1 1 1 1 1 1 1 1 1 1 1 1 1 1 1 1 1 1 1 1 1 1 1 1 1 1 1 1 1 1 1 1 1 1 1 1 1 1 1 1 1 1 1 1 1 1 1 1 1 1 1 1 1 1 1 1 1 1 1 1 1 1 1 1 1 1 1 1 1 1 1 1 1 1 1 1 1 1 1 1 1 1 1 1 1 1 1 1 1 1 1 1 1 1 1 1 1 1 1 1 1 1 1 1 1 1 1 1 1 1 1 1 1 1 1 1 1 1 1 1 1 1 1 1 1 1 1 1 1 1 1 1 1 1 1 1 1 1 1 1 1 1 1 1 1 1 1 1 1 1 1 1 1 1 1 1 1 1 1 1 1 1 1 1 1 1 1 1 1 1 1 1 1 1 1 1 1 1 1 1 1 1 1 1 1 1 1 1 1 1 1 1 1 1 1 1 1 1 1 1 1 1 1 1 1 1 1 1 1 1 1 1 1 1 1 1 1 1 1 1 1 1 1 1 1 1 1 1 1 1 1 1 1 1 1 1 1 1 1 1 1 1 1 1 1 1 1 1 1 1 1 1 1 1 1 1 1 1 1 1 1 1 1 1 1 1 1 1 1 0 0 0 0 0 0 0 0 0 0 0 0 0 0 0 0 0 0 0 0 0 0 0 0 0 0 0 0 0 0 0 0 0 0 0 0 0 0 0 0 0 0 0 0 0 0 0 0 0 0 0 0 0 0 0 0 0 0 0 0 0 0 0 0 0 0 0 0 0 0 0 0 0 0 0 0 0 0 0 0 0 0 0 0 0 0 0\n",
      "07/15/2021 15:14:02 - INFO - __main__ -   segment_ids: 0 0 0 0 0 0 0 0 0 0 0 0 0 0 0 0 0 0 0 0 0 0 0 0 0 0 0 0 0 0 0 0 0 0 0 0 0 0 0 0 0 0 0 0 0 0 0 0 0 0 0 0 0 0 0 0 0 0 0 0 0 0 0 0 0 0 0 0 0 0 0 0 0 0 0 0 0 0 0 0 0 0 0 0 0 0 0 0 0 0 0 0 0 0 0 0 0 0 0 0 0 0 0 0 0 0 0 0 0 0 0 0 0 0 0 0 0 0 0 0 0 0 0 0 0 0 0 0 0 0 0 0 0 0 0 0 0 0 0 0 0 0 0 0 0 0 0 0 0 0 0 0 0 0 0 0 0 0 0 0 0 0 0 0 0 0 0 0 0 0 0 0 0 0 0 0 0 0 0 0 0 0 0 0 0 0 0 0 0 0 0 0 0 0 0 0 0 0 0 0 0 0 0 0 0 0 0 0 0 0 0 0 0 0 0 0 0 0 0 0 0 0 0 0 0 0 0 0 0 0 0 0 0 0 0 0 0 0 0 0 0 0 0 0 0 0 0 0 0 0 0 0 0 0 0 0 0 0 0 0 0 0 0 0 0 0 0 0 0 0 0 0 0 0 0 0 0 0 0 0 0 0 0 0 0 0 0 0 0 0 0 0 0 0 0 0 0 0 0 0 0 0 0 0 0 0 0 0 0 0 0 0 0 0 0 0 0 0 0 0 0 0 0 0 0 0 0 0 0 0 0 0 0 0 0 0 0 0 0 0 0 0 0 0 0 0 0 0 0 0 0 0 0 0 0 0 0 0 0 0 0 0 0 0 0 0 0 0 0 0 0 0 0 0 0 0 0 0 0 0 0 0 0 0 0 0 0 0 0 0 0 0 0 0 0 0 0 0 0 0 0 0 0 0 0 0 0 0 0 0 0 0 0 0 0 0 0 0 0 0 0 0 0 0 0 0 0 0 0 0 0 0 0 0 0 0 0 0 0 0 0 0 0 0 0 0 0 0 0 0 0 0 0 0 0 0 0 0 0 0 0 0 0 0 0 0 0 0 0 0 0 0 0 0 0 0 0 0 0 0 0 0 0 0 0 0 0 0 0 0 0 0 0 0 0 0 0 0 0 0 0 0 0 0 0 0 0 0 0 0 0 0\n",
      "07/15/2021 15:14:02 - INFO - __main__ -   label_ids: -100 0 0 3 0 0 0 0 0 0 0 0 0 0 0 0 0 0 0 0 0 0 0 0 0 0 0 0 0 0 0 0 0 0 0 0 0 0 0 0 0 0 0 0 0 0 0 0 0 0 0 0 0 0 0 0 1 2 2 0 0 0 0 3 0 0 0 0 0 7 0 1 2 0 0 0 0 0 0 0 0 0 0 0 0 0 0 0 0 7 0 1 2 0 0 0 0 0 0 0 0 7 0 7 0 0 0 0 0 0 7 8 0 0 0 0 0 0 0 0 0 0 0 0 0 0 0 0 0 7 0 7 8 0 7 0 7 0 0 7 8 0 7 8 8 0 0 3 0 0 0 0 0 0 0 0 0 0 0 0 0 0 0 0 0 0 0 0 0 0 0 0 0 0 0 3 0 0 0 0 0 0 0 0 0 0 0 0 0 0 0 0 0 0 0 0 0 0 0 0 0 0 0 0 0 1 0 1 0 1 2 0 0 1 0 0 0 0 0 0 0 0 0 0 0 0 0 0 0 0 0 0 0 0 0 0 0 0 0 0 0 0 0 0 0 0 0 0 0 0 0 0 0 0 0 0 0 0 0 0 0 0 0 0 0 0 0 0 0 0 0 0 0 0 0 0 0 0 0 0 0 0 0 0 0 0 0 0 0 0 0 0 0 0 0 0 0 0 0 0 0 0 0 0 0 0 0 0 0 0 0 0 0 0 0 0 0 0 0 0 0 0 0 0 0 0 0 0 0 0 0 0 0 0 0 0 0 0 0 0 0 0 0 0 0 0 0 0 0 0 0 0 0 0 0 0 0 0 0 0 0 0 0 0 0 0 0 0 0 0 0 0 0 0 0 0 0 0 0 0 0 0 0 0 0 0 0 0 0 0 0 0 0 0 0 0 0 0 0 -100 -100 -100 -100 -100 -100 -100 -100 -100 -100 -100 -100 -100 -100 -100 -100 -100 -100 -100 -100 -100 -100 -100 -100 -100 -100 -100 -100 -100 -100 -100 -100 -100 -100 -100 -100 -100 -100 -100 -100 -100 -100 -100 -100 -100 -100 -100 -100 -100 -100 -100 -100 -100 -100 -100 -100 -100 -100 -100 -100 -100 -100 -100 -100 -100 -100 -100 -100 -100 -100 -100 -100 -100 -100 -100 -100 -100 -100 -100 -100 -100 -100 -100 -100 -100 -100 -100 -100 -100 -100 -100 -100 -100 -100 -100 -100 -100 -100 -100 -100 -100 -100 -100 -100 -100 -100 -100 -100 -100 -100 -100 -100 -100\n",
      "07/15/2021 15:14:02 - INFO - __main__ -   start_ids: -100 0 0 2 0 0 0 0 0 0 0 0 0 0 0 0 0 0 0 0 0 0 0 0 0 0 0 0 0 0 0 0 0 0 0 0 0 0 0 0 0 0 0 0 0 0 0 0 0 0 0 0 0 0 0 0 1 0 0 0 0 0 0 2 0 0 0 0 0 4 0 1 0 0 0 0 0 0 0 0 0 0 0 0 0 0 0 0 0 4 0 1 0 0 0 0 0 0 0 0 0 4 0 4 0 0 0 0 0 0 4 0 0 0 0 0 0 0 0 0 0 0 0 0 0 0 0 0 0 4 0 4 0 0 4 0 4 0 0 4 0 0 4 0 0 0 0 2 0 0 0 0 0 0 0 0 0 0 0 0 0 0 0 0 0 0 0 0 0 0 0 0 0 0 0 2 0 0 0 0 0 0 0 0 0 0 0 0 0 0 0 0 0 0 0 0 0 0 0 0 0 0 0 0 0 1 0 1 0 1 0 0 0 1 0 0 0 0 0 0 0 0 0 0 0 0 0 0 0 0 0 0 0 0 0 0 0 0 0 0 0 0 0 0 0 0 0 0 0 0 0 0 0 0 0 0 0 0 0 0 0 0 0 0 0 0 0 0 0 0 0 0 0 0 0 0 0 0 0 0 0 0 0 0 0 0 0 0 0 0 0 0 0 0 0 0 0 0 0 0 0 0 0 0 0 0 0 0 0 0 0 0 0 0 0 0 0 0 0 0 0 0 0 0 0 0 0 0 0 0 0 0 0 0 0 0 0 0 0 0 0 0 0 0 0 0 0 0 0 0 0 0 0 0 0 0 0 0 0 0 0 0 0 0 0 0 0 0 0 0 0 0 0 0 0 0 0 0 0 0 0 0 0 0 0 0 0 0 0 0 0 0 0 0 0 0 0 0 0 -100 -100 -100 -100 -100 -100 -100 -100 -100 -100 -100 -100 -100 -100 -100 -100 -100 -100 -100 -100 -100 -100 -100 -100 -100 -100 -100 -100 -100 -100 -100 -100 -100 -100 -100 -100 -100 -100 -100 -100 -100 -100 -100 -100 -100 -100 -100 -100 -100 -100 -100 -100 -100 -100 -100 -100 -100 -100 -100 -100 -100 -100 -100 -100 -100 -100 -100 -100 -100 -100 -100 -100 -100 -100 -100 -100 -100 -100 -100 -100 -100 -100 -100 -100 -100 -100 -100 -100 -100 -100 -100 -100 -100 -100 -100 -100 -100 -100 -100 -100 -100 -100 -100 -100 -100 -100 -100 -100 -100 -100 -100 -100 -100\n",
      "07/15/2021 15:14:02 - INFO - __main__ -   end_ids: -100 0 0 2 0 0 0 0 0 0 0 0 0 0 0 0 0 0 0 0 0 0 0 0 0 0 0 0 0 0 0 0 0 0 0 0 0 0 0 0 0 0 0 0 0 0 0 0 0 0 0 0 0 0 0 0 0 0 1 0 0 0 0 2 0 0 0 0 0 4 0 0 1 0 0 0 0 0 0 0 0 0 0 0 0 0 0 0 0 4 0 0 1 0 0 0 0 0 0 0 0 4 0 4 0 0 0 0 0 0 0 4 0 0 0 0 0 0 0 0 0 0 0 0 0 0 0 0 0 4 0 0 4 0 4 0 4 0 0 0 4 0 0 0 4 0 0 2 0 0 0 0 0 0 0 0 0 0 0 0 0 0 0 0 0 0 0 0 0 0 0 0 0 0 0 2 0 0 0 0 0 0 0 0 0 0 0 0 0 0 0 0 0 0 0 0 0 0 0 0 0 0 0 0 0 1 0 1 0 0 1 0 0 1 0 0 0 0 0 0 0 0 0 0 0 0 0 0 0 0 0 0 0 0 0 0 0 0 0 0 0 0 0 0 0 0 0 0 0 0 0 0 0 0 0 0 0 0 0 0 0 0 0 0 0 0 0 0 0 0 0 0 0 0 0 0 0 0 0 0 0 0 0 0 0 0 0 0 0 0 0 0 0 0 0 0 0 0 0 0 0 0 0 0 0 0 0 0 0 0 0 0 0 0 0 0 0 0 0 0 0 0 0 0 0 0 0 0 0 0 0 0 0 0 0 0 0 0 0 0 0 0 0 0 0 0 0 0 0 0 0 0 0 0 0 0 0 0 0 0 0 0 0 0 0 0 0 0 0 0 0 0 0 0 0 0 0 0 0 0 0 0 0 0 0 0 0 0 0 0 0 0 0 0 0 0 0 0 0 -100 -100 -100 -100 -100 -100 -100 -100 -100 -100 -100 -100 -100 -100 -100 -100 -100 -100 -100 -100 -100 -100 -100 -100 -100 -100 -100 -100 -100 -100 -100 -100 -100 -100 -100 -100 -100 -100 -100 -100 -100 -100 -100 -100 -100 -100 -100 -100 -100 -100 -100 -100 -100 -100 -100 -100 -100 -100 -100 -100 -100 -100 -100 -100 -100 -100 -100 -100 -100 -100 -100 -100 -100 -100 -100 -100 -100 -100 -100 -100 -100 -100 -100 -100 -100 -100 -100 -100 -100 -100 -100 -100 -100 -100 -100 -100 -100 -100 -100 -100 -100 -100 -100 -100 -100 -100 -100 -100 -100 -100 -100 -100 -100\n",
      "07/15/2021 15:14:10 - INFO - __main__ -   Saving features into cached file ./datasets/cached_train_mlm_model_uncased_tech_line_by_line_512\n",
      "07/15/2021 15:14:11 - INFO - __main__ -   ***** Running training *****\n",
      "07/15/2021 15:14:11 - INFO - __main__ -     Num examples = 394\n",
      "07/15/2021 15:14:11 - INFO - __main__ -     Num Epochs = 100\n",
      "07/15/2021 15:14:11 - INFO - __main__ -     Instantaneous batch size per GPU = 8\n",
      "07/15/2021 15:14:11 - INFO - __main__ -     Total train batch size (w. parallel, distributed & accumulation) = 8\n",
      "07/15/2021 15:14:11 - INFO - __main__ -     Gradient Accumulation steps = 1\n",
      "07/15/2021 15:14:11 - INFO - __main__ -     Total optimization steps = 5000\n",
      "07/15/2021 15:14:11 - INFO - __main__ -     Continuing training from checkpoint, will skip to saved global_step\n",
      "07/15/2021 15:14:11 - INFO - __main__ -     Continuing training from epoch 0\n",
      "07/15/2021 15:14:11 - INFO - __main__ -     Continuing training from global step 0\n",
      "07/15/2021 15:14:11 - INFO - __main__ -     Will skip the first 0 steps in the first epoch\n"
     ]
    },
    {
     "data": {
      "application/vnd.jupyter.widget-view+json": {
       "model_id": "af794f69adc1435684fe648e998fb2ce",
       "version_major": 2,
       "version_minor": 0
      },
      "text/plain": [
       "Epoch:   0%|          | 0/100 [00:00<?, ?it/s]"
      ]
     },
     "metadata": {},
     "output_type": "display_data"
    },
    {
     "data": {
      "application/vnd.jupyter.widget-view+json": {
       "model_id": "a9db827a8e5e4b1884029ed8940bf1e3",
       "version_major": 2,
       "version_minor": 0
      },
      "text/plain": [
       "Iteration:   0%|          | 0/50 [00:00<?, ?it/s]"
      ]
     },
     "metadata": {},
     "output_type": "display_data"
    },
    {
     "name": "stderr",
     "output_type": "stream",
     "text": [
      "07/15/2021 15:15:21 - INFO - __main__ -   Creating features from dataset file at ./datasets\n",
      "07/15/2021 15:15:21 - INFO - __main__ -   Writing example 0 of 94\n",
      "07/15/2021 15:15:21 - INFO - __main__ -   *** Example ***\n",
      "07/15/2021 15:15:21 - INFO - __main__ -   guid: dev-1\n",
      "07/15/2021 15:15:21 - INFO - __main__ -   tokens: [CLS] re ##qui ##sit ##ion id : 277 ##6 ##9 ##7 work area : software - design and development expected travel : 0 - 10 % career status : professional employment type : regular full time company description sap started in 1972 as a team of five colleagues with a desire to do something new . together , they changed enterprise software and rein ##vent ##ed how business was done . today , as a market leader in enterprise application software , we remain true to our roots . that s why we engineer solutions to fuel innovation , foster equality and spread opportunity for our employees and customers across borders and cultures . sap values the entrepreneur ##ial spirit , foster ##ing creativity and building lasting relationships with our employees . we know that a diverse and inclusive workforce keeps us competitive and provides opportunities for all . we believe that together we can transform industries , grow economics , lift up societies and sustain our environment . because it s the best - run businesses that make the world run better and improve people s lives . job title developer java - sap integration role we are looking for developers who can join in our exciting journey of building next generation features . you will have opportunities ts ##o work on cutting edge technologies like micro ##ser ##vic ##e based applications and containers . you will also get to experience leading infrastructure & tools from aw ##s , azure , ali ##cl ##oud and messaging systems like ka ##fk ##a . you will also get exposure to reactive programming , spring reactor and more . design , code and test product features by following agile development practices . work closely with architects within architect community in sap cloud platform integration . demonstrate excellent quality , design , development and delivery skills in sc ##rum teams working in short development and release cycles . support dev ##ops related tasks including delivery , operations and support of the cloud service . drive improvements and innovations in development apply latest cutting - edge cloud technologies . mentor team and showcase good team player skills work with geographically distributed teams seam ##lessly experience full time degree / masters degree ( bt ##ech , mt ##ech , mca ) in computer science or a related subject 3 to 7 years of experience in full stack development having : development experience in java / [SEP]\n",
      "07/15/2021 15:15:21 - INFO - __main__ -   valid_mask: 1 1 0 0 0 1 1 1 0 0 0 1 1 1 1 1 1 1 1 1 1 1 1 1 1 1 1 1 1 1 1 1 1 1 1 1 1 1 1 1 1 1 1 1 1 1 1 1 1 1 1 1 1 1 1 1 1 1 1 1 1 1 1 1 0 0 1 1 1 1 1 1 1 1 1 1 1 1 1 1 1 1 1 1 1 1 1 1 1 1 1 1 1 1 1 1 1 1 1 1 1 1 1 1 1 1 1 1 1 1 1 1 1 1 1 1 1 1 0 1 1 1 0 1 1 1 1 1 1 1 1 1 1 1 1 1 1 1 1 1 1 1 1 1 1 1 1 1 1 1 1 1 1 1 1 1 1 1 1 1 1 1 1 1 1 1 1 1 1 1 1 1 1 1 1 1 1 1 1 1 1 1 1 1 1 1 1 1 1 1 1 1 1 1 1 1 1 1 1 1 1 1 1 1 1 1 1 1 1 1 1 1 1 1 1 1 1 1 1 1 0 1 1 1 1 1 1 1 0 0 0 1 1 1 1 1 1 1 1 1 1 1 1 1 1 1 1 1 0 1 1 1 1 0 0 1 1 1 1 1 0 0 1 1 1 1 1 1 1 1 1 1 1 1 1 1 1 1 1 1 1 1 1 1 1 1 1 1 1 1 1 1 1 1 1 1 1 1 1 1 1 1 1 1 1 1 1 1 1 1 1 1 1 1 1 0 1 1 1 1 1 1 1 1 1 1 1 0 1 1 1 1 1 1 1 1 1 1 1 1 1 1 1 1 1 1 1 1 1 1 1 1 1 1 1 1 1 1 1 1 1 1 1 1 1 1 1 1 1 0 1 1 1 1 1 1 1 1 1 0 1 1 0 1 1 1 1 1 1 1 1 1 1 1 1 1 1 1 1 1 1 1 1 1 1 1 1 1 1 1 1 0 0 0 0 0 0 0 0 0 0 0 0 0 0 0 0 0 0 0 0 0 0 0 0 0 0 0 0 0 0 0 0 0 0 0 0 0 0 0 0 0 0 0 0 0 0 0 0 0 0 0 0 0 0 0 0 0 0 0 0 0 0 0 0 0 0 0 0 0 0 0 0 0 0 0 0 0 0 0 0 0 0 0 0 0 0 0 0 0 0 0 0 0 0 0 0 0 0 0 0 0\n",
      "07/15/2021 15:15:21 - INFO - __main__ -   input_ids: 101 2128 15549 28032 3258 8909 1024 25578 2575 2683 2581 2147 2181 1024 4007 1011 2640 1998 2458 3517 3604 1024 1014 1011 2184 1003 2476 3570 1024 2658 6107 2828 1024 3180 2440 2051 2194 6412 20066 2318 1999 3285 2004 1037 2136 1997 2274 8628 2007 1037 4792 2000 2079 2242 2047 1012 2362 1010 2027 2904 6960 4007 1998 27788 15338 2098 2129 2449 2001 2589 1012 2651 1010 2004 1037 3006 3003 1999 6960 4646 4007 1010 2057 3961 2995 2000 2256 6147 1012 2008 1055 2339 2057 3992 7300 2000 4762 8144 1010 6469 9945 1998 3659 4495 2005 2256 5126 1998 6304 2408 6645 1998 8578 1012 20066 5300 1996 10670 4818 4382 1010 6469 2075 14842 1998 2311 9879 6550 2007 2256 5126 1012 2057 2113 2008 1037 7578 1998 18678 14877 7906 2149 6975 1998 3640 6695 2005 2035 1012 2057 2903 2008 2362 2057 2064 10938 6088 1010 4982 5543 1010 6336 2039 8384 1998 15770 2256 4044 1012 2138 2009 1055 1996 2190 1011 2448 5661 2008 2191 1996 2088 2448 2488 1998 5335 2111 1055 3268 1012 3105 2516 9722 9262 1011 20066 8346 2535 2057 2024 2559 2005 9797 2040 2064 3693 1999 2256 10990 4990 1997 2311 2279 4245 2838 1012 2017 2097 2031 6695 24529 2080 2147 2006 6276 3341 6786 2066 12702 8043 7903 2063 2241 5097 1998 16143 1012 2017 2097 2036 2131 2000 3325 2877 6502 1004 5906 2013 22091 2015 1010 24296 1010 4862 20464 19224 1998 24732 3001 2066 10556 24316 2050 1012 2017 2097 2036 2131 7524 2000 22643 4730 1010 3500 13308 1998 2062 1012 2640 1010 3642 1998 3231 4031 2838 2011 2206 29003 2458 6078 1012 2147 4876 2007 8160 2306 4944 2451 1999 20066 6112 4132 8346 1012 10580 6581 3737 1010 2640 1010 2458 1998 6959 4813 1999 8040 6824 2780 2551 1999 2460 2458 1998 2713 12709 1012 2490 16475 11923 3141 8518 2164 6959 1010 3136 1998 2490 1997 1996 6112 2326 1012 3298 8377 1998 15463 1999 2458 6611 6745 6276 1011 3341 6112 6786 1012 10779 2136 1998 13398 2204 2136 2447 4813 2147 2007 20969 5500 2780 25180 10895 3325 2440 2051 3014 1013 5972 3014 1006 18411 15937 1010 11047 15937 1010 22432 1007 1999 3274 2671 2030 1037 3141 3395 1017 2000 1021 2086 1997 3325 1999 2440 9991 2458 2383 1024 2458 3325 1999 9262 1013 102 0 0 0 0 0 0 0 0 0 0 0 0 0 0 0 0 0 0 0 0 0 0 0 0 0 0 0 0 0 0 0 0 0 0 0 0 0 0 0 0 0 0 0 0 0 0 0 0 0 0 0 0 0 0 0 0 0 0 0 0 0 0 0 0 0 0 0 0 0 0 0 0 0 0 0 0 0 0 0 0 0 0 0 0 0 0 0 0 0 0 0 0 0 0 0 0 0 0 0 0 0\n",
      "07/15/2021 15:15:21 - INFO - __main__ -   input_mask: 1 1 1 1 1 1 1 1 1 1 1 1 1 1 1 1 1 1 1 1 1 1 1 1 1 1 1 1 1 1 1 1 1 1 1 1 1 1 1 1 1 1 1 1 1 1 1 1 1 1 1 1 1 1 1 1 1 1 1 1 1 1 1 1 1 1 1 1 1 1 1 1 1 1 1 1 1 1 1 1 1 1 1 1 1 1 1 1 1 1 1 1 1 1 1 1 1 1 1 1 1 1 1 1 1 1 1 1 1 1 1 1 1 1 1 1 1 1 1 1 1 1 1 1 1 1 1 1 1 1 1 1 1 1 1 1 1 1 1 1 1 1 1 1 1 1 1 1 1 1 1 1 1 1 1 1 1 1 1 1 1 1 1 1 1 1 1 1 1 1 1 1 1 1 1 1 1 1 1 1 1 1 1 1 1 1 1 1 1 1 1 1 1 1 1 1 1 1 1 1 1 1 1 1 1 1 1 1 1 1 1 1 1 1 1 1 1 1 1 1 1 1 1 1 1 1 1 1 1 1 1 1 1 1 1 1 1 1 1 1 1 1 1 1 1 1 1 1 1 1 1 1 1 1 1 1 1 1 1 1 1 1 1 1 1 1 1 1 1 1 1 1 1 1 1 1 1 1 1 1 1 1 1 1 1 1 1 1 1 1 1 1 1 1 1 1 1 1 1 1 1 1 1 1 1 1 1 1 1 1 1 1 1 1 1 1 1 1 1 1 1 1 1 1 1 1 1 1 1 1 1 1 1 1 1 1 1 1 1 1 1 1 1 1 1 1 1 1 1 1 1 1 1 1 1 1 1 1 1 1 1 1 1 1 1 1 1 1 1 1 1 1 1 1 1 1 1 1 1 1 1 1 1 1 1 1 1 1 1 1 1 1 1 1 1 1 1 1 1 1 1 1 1 1 1 1 1 1 1 1 1 0 0 0 0 0 0 0 0 0 0 0 0 0 0 0 0 0 0 0 0 0 0 0 0 0 0 0 0 0 0 0 0 0 0 0 0 0 0 0 0 0 0 0 0 0 0 0 0 0 0 0 0 0 0 0 0 0 0 0 0 0 0 0 0 0 0 0 0 0 0 0 0 0 0 0 0 0 0 0 0 0 0 0 0 0 0 0 0 0 0 0 0 0 0 0 0 0 0 0 0 0\n",
      "07/15/2021 15:15:21 - INFO - __main__ -   segment_ids: 0 0 0 0 0 0 0 0 0 0 0 0 0 0 0 0 0 0 0 0 0 0 0 0 0 0 0 0 0 0 0 0 0 0 0 0 0 0 0 0 0 0 0 0 0 0 0 0 0 0 0 0 0 0 0 0 0 0 0 0 0 0 0 0 0 0 0 0 0 0 0 0 0 0 0 0 0 0 0 0 0 0 0 0 0 0 0 0 0 0 0 0 0 0 0 0 0 0 0 0 0 0 0 0 0 0 0 0 0 0 0 0 0 0 0 0 0 0 0 0 0 0 0 0 0 0 0 0 0 0 0 0 0 0 0 0 0 0 0 0 0 0 0 0 0 0 0 0 0 0 0 0 0 0 0 0 0 0 0 0 0 0 0 0 0 0 0 0 0 0 0 0 0 0 0 0 0 0 0 0 0 0 0 0 0 0 0 0 0 0 0 0 0 0 0 0 0 0 0 0 0 0 0 0 0 0 0 0 0 0 0 0 0 0 0 0 0 0 0 0 0 0 0 0 0 0 0 0 0 0 0 0 0 0 0 0 0 0 0 0 0 0 0 0 0 0 0 0 0 0 0 0 0 0 0 0 0 0 0 0 0 0 0 0 0 0 0 0 0 0 0 0 0 0 0 0 0 0 0 0 0 0 0 0 0 0 0 0 0 0 0 0 0 0 0 0 0 0 0 0 0 0 0 0 0 0 0 0 0 0 0 0 0 0 0 0 0 0 0 0 0 0 0 0 0 0 0 0 0 0 0 0 0 0 0 0 0 0 0 0 0 0 0 0 0 0 0 0 0 0 0 0 0 0 0 0 0 0 0 0 0 0 0 0 0 0 0 0 0 0 0 0 0 0 0 0 0 0 0 0 0 0 0 0 0 0 0 0 0 0 0 0 0 0 0 0 0 0 0 0 0 0 0 0 0 0 0 0 0 0 0 0 0 0 0 0 0 0 0 0 0 0 0 0 0 0 0 0 0 0 0 0 0 0 0 0 0 0 0 0 0 0 0 0 0 0 0 0 0 0 0 0 0 0 0 0 0 0 0 0 0 0 0 0 0 0 0 0 0 0 0 0 0 0 0 0 0 0 0 0 0 0 0 0 0 0 0 0 0 0 0 0 0 0 0 0 0 0 0 0 0 0 0 0 0 0 0 0 0 0 0 0\n"
     ]
    },
    {
     "name": "stderr",
     "output_type": "stream",
     "text": [
      "07/15/2021 15:15:21 - INFO - __main__ -   label_ids: -100 0 0 0 0 0 0 0 0 0 0 0 0 0 0 0 0 0 0 0 0 0 0 0 0 0 0 0 0 0 0 0 0 0 0 0 0 0 0 0 0 0 0 0 0 0 0 0 0 0 0 0 0 0 0 0 0 0 0 0 0 0 0 0 0 0 0 0 0 0 0 0 0 0 0 0 0 0 0 0 0 0 0 0 0 0 0 0 0 0 0 0 0 0 0 0 0 0 0 0 0 0 0 0 0 0 0 0 0 0 0 0 0 0 0 0 0 0 0 0 0 0 0 0 0 0 0 0 0 0 0 0 0 0 0 0 0 0 0 0 0 0 0 0 0 0 0 0 0 0 0 0 0 0 0 0 0 0 0 0 0 0 0 0 0 0 0 0 0 0 0 0 0 0 0 0 0 0 0 0 0 0 7 0 0 0 0 0 0 0 0 0 0 0 0 0 0 0 0 0 0 0 0 0 0 0 0 0 0 0 0 0 0 0 0 0 7 0 0 0 7 0 0 0 0 0 0 0 0 0 0 0 0 7 0 7 0 0 0 0 0 0 7 0 0 0 0 0 0 0 7 8 0 7 8 0 0 0 0 0 0 0 0 0 0 0 0 7 0 0 0 0 0 0 0 0 0 0 0 0 5 6 6 0 0 0 0 0 0 0 7 0 0 0 0 0 0 0 0 0 0 0 0 0 0 0 7 0 0 0 0 0 0 0 0 0 0 0 0 0 0 0 0 0 0 0 0 0 0 0 0 0 0 0 3 0 0 0 0 3 4 0 0 0 0 0 0 0 0 0 0 0 0 9 0 0 0 0 0 0 0 0 0 0 0 0 0 0 0 0 0 0 0 0 0 0 7 8 8 0 0 7 0 0 7 0 -100 -100 -100 -100 -100 -100 -100 -100 -100 -100 -100 -100 -100 -100 -100 -100 -100 -100 -100 -100 -100 -100 -100 -100 -100 -100 -100 -100 -100 -100 -100 -100 -100 -100 -100 -100 -100 -100 -100 -100 -100 -100 -100 -100 -100 -100 -100 -100 -100 -100 -100 -100 -100 -100 -100 -100 -100 -100 -100 -100 -100 -100 -100 -100 -100 -100 -100 -100 -100 -100 -100 -100 -100 -100 -100 -100 -100 -100 -100 -100 -100 -100 -100 -100 -100 -100 -100 -100 -100 -100 -100 -100 -100 -100 -100 -100 -100 -100 -100 -100 -100 -100 -100 -100 -100 -100 -100 -100 -100 -100 -100 -100 -100 -100 -100 -100 -100 -100 -100 -100 -100 -100 -100 -100 -100 -100\n",
      "07/15/2021 15:15:21 - INFO - __main__ -   start_ids: -100 0 0 0 0 0 0 0 0 0 0 0 0 0 0 0 0 0 0 0 0 0 0 0 0 0 0 0 0 0 0 0 0 0 0 0 0 0 0 0 0 0 0 0 0 0 0 0 0 0 0 0 0 0 0 0 0 0 0 0 0 0 0 0 0 0 0 0 0 0 0 0 0 0 0 0 0 0 0 0 0 0 0 0 0 0 0 0 0 0 0 0 0 0 0 0 0 0 0 0 0 0 0 0 0 0 0 0 0 0 0 0 0 0 0 0 0 0 0 0 0 0 0 0 0 0 0 0 0 0 0 0 0 0 0 0 0 0 0 0 0 0 0 0 0 0 0 0 0 0 0 0 0 0 0 0 0 0 0 0 0 0 0 0 0 0 0 0 0 0 0 0 0 0 0 0 0 0 0 0 0 0 4 0 0 0 0 0 0 0 0 0 0 0 0 0 0 0 0 0 0 0 0 0 0 0 0 0 0 0 0 0 0 0 0 0 4 0 0 0 4 0 0 0 0 0 0 0 0 0 0 0 0 4 0 4 0 0 0 0 0 0 4 0 0 0 0 0 0 0 4 0 0 4 0 0 0 0 0 0 0 0 0 0 0 0 0 4 0 0 0 0 0 0 0 0 0 0 0 0 3 0 0 0 0 0 0 0 0 0 4 0 0 0 0 0 0 0 0 0 0 0 0 0 0 0 4 0 0 0 0 0 0 0 0 0 0 0 0 0 0 0 0 0 0 0 0 0 0 0 0 0 0 0 2 0 0 0 0 2 0 0 0 0 0 0 0 0 0 0 0 0 0 5 0 0 0 0 0 0 0 0 0 0 0 0 0 0 0 0 0 0 0 0 0 0 4 0 0 0 0 4 0 0 4 0 -100 -100 -100 -100 -100 -100 -100 -100 -100 -100 -100 -100 -100 -100 -100 -100 -100 -100 -100 -100 -100 -100 -100 -100 -100 -100 -100 -100 -100 -100 -100 -100 -100 -100 -100 -100 -100 -100 -100 -100 -100 -100 -100 -100 -100 -100 -100 -100 -100 -100 -100 -100 -100 -100 -100 -100 -100 -100 -100 -100 -100 -100 -100 -100 -100 -100 -100 -100 -100 -100 -100 -100 -100 -100 -100 -100 -100 -100 -100 -100 -100 -100 -100 -100 -100 -100 -100 -100 -100 -100 -100 -100 -100 -100 -100 -100 -100 -100 -100 -100 -100 -100 -100 -100 -100 -100 -100 -100 -100 -100 -100 -100 -100 -100 -100 -100 -100 -100 -100 -100 -100 -100 -100 -100 -100 -100\n",
      "07/15/2021 15:15:21 - INFO - __main__ -   end_ids: -100 0 0 0 0 0 0 0 0 0 0 0 0 0 0 0 0 0 0 0 0 0 0 0 0 0 0 0 0 0 0 0 0 0 0 0 0 0 0 0 0 0 0 0 0 0 0 0 0 0 0 0 0 0 0 0 0 0 0 0 0 0 0 0 0 0 0 0 0 0 0 0 0 0 0 0 0 0 0 0 0 0 0 0 0 0 0 0 0 0 0 0 0 0 0 0 0 0 0 0 0 0 0 0 0 0 0 0 0 0 0 0 0 0 0 0 0 0 0 0 0 0 0 0 0 0 0 0 0 0 0 0 0 0 0 0 0 0 0 0 0 0 0 0 0 0 0 0 0 0 0 0 0 0 0 0 0 0 0 0 0 0 0 0 0 0 0 0 0 0 0 0 0 0 0 0 0 0 0 0 0 0 4 0 0 0 0 0 0 0 0 0 0 0 0 0 0 0 0 0 0 0 0 0 0 0 0 0 0 0 0 0 0 0 0 0 4 0 0 0 4 0 0 0 0 0 0 0 0 0 0 0 0 4 0 4 0 0 0 0 0 0 4 0 0 0 0 0 0 0 0 4 0 0 4 0 0 0 0 0 0 0 0 0 0 0 0 4 0 0 0 0 0 0 0 0 0 0 0 0 0 0 3 0 0 0 0 0 0 0 4 0 0 0 0 0 0 0 0 0 0 0 0 0 0 0 4 0 0 0 0 0 0 0 0 0 0 0 0 0 0 0 0 0 0 0 0 0 0 0 0 0 0 0 2 0 0 0 0 0 2 0 0 0 0 0 0 0 0 0 0 0 0 5 0 0 0 0 0 0 0 0 0 0 0 0 0 0 0 0 0 0 0 0 0 0 0 0 4 0 0 4 0 0 4 0 -100 -100 -100 -100 -100 -100 -100 -100 -100 -100 -100 -100 -100 -100 -100 -100 -100 -100 -100 -100 -100 -100 -100 -100 -100 -100 -100 -100 -100 -100 -100 -100 -100 -100 -100 -100 -100 -100 -100 -100 -100 -100 -100 -100 -100 -100 -100 -100 -100 -100 -100 -100 -100 -100 -100 -100 -100 -100 -100 -100 -100 -100 -100 -100 -100 -100 -100 -100 -100 -100 -100 -100 -100 -100 -100 -100 -100 -100 -100 -100 -100 -100 -100 -100 -100 -100 -100 -100 -100 -100 -100 -100 -100 -100 -100 -100 -100 -100 -100 -100 -100 -100 -100 -100 -100 -100 -100 -100 -100 -100 -100 -100 -100 -100 -100 -100 -100 -100 -100 -100 -100 -100 -100 -100 -100 -100\n",
      "07/15/2021 15:15:21 - INFO - __main__ -   *** Example ***\n",
      "07/15/2021 15:15:21 - INFO - __main__ -   guid: dev-2\n",
      "07/15/2021 15:15:21 - INFO - __main__ -   tokens: [CLS] j ##2 ##ee strong grasp on at least one relational database system such as sap hana , oracle , sql server , my ##s ##q ##l , post ##gre ##s ##q ##l , or db ##2 experience of designing systems with h ##ld ( high level design ) and ll ##d ( low level design ) knowledge experience of working in an agile software development environment and teams . understanding and experience of system quality , security , performance , maintain ##ability & ex ##tens ##ibility strong analytical and problem - solving skills preferred protocol / adapt ##er develop ##ement exposure on integration / micro ##ser ##vic ##e domain development about the team sap integration service is an open and modular ipa ##as supporting enterprise - wide integration needs for both sap and non - sap integration scenarios . with more than 10 , 000 customers and counting , it is one of the most successful cloud services from sap # so ##f ##20 ##20 # sap ##bt ##pc ##ore ##care ##ers what you get from us success is what you make it . at sap , we help you make it your own . a career at sap can open many doors for you . if you re searching for a company that s dedicated to your ideas and individual growth , recognizes you for your unique contributions , fills you with a strong sense of purpose , and provides a fun , flexible and inclusive work environment apply now . sap ' s diversity commitment to harness the power of innovation , sap invest ##s in the development of its diverse employees . we as ##pire to leverage the qualities and appreciate the unique compete ##ncies that each person brings to the company . sap is committed to the principles of equal employment opportunity and to providing reasonable accommodations to applicants with physical and / or mental disabilities . if you are in need of accommodation or special assistance to navigate our website or to complete your application , please send an e - mail with your request to recruiting operations team ( americas : careers . north ##ame ##rica @ sap . com or careers . latin ##ame ##rica @ sap . com , ap ##j : careers . ap ##j @ sap . com , em ##ea : careers @ sap . com ) . successful candidates might be required to undergo a background verification with an external vendor . additional locations : [SEP]\n",
      "07/15/2021 15:15:21 - INFO - __main__ -   valid_mask: 1 1 0 0 1 1 1 1 1 1 1 1 1 1 1 1 1 1 1 1 1 1 1 1 0 0 0 1 1 0 0 0 0 1 1 1 0 1 1 1 1 1 1 0 1 1 1 1 1 1 1 0 1 1 1 1 1 1 1 1 1 1 1 1 1 1 1 1 1 1 1 1 1 1 1 1 1 1 1 1 1 1 0 1 1 0 0 1 1 1 1 1 1 1 1 1 1 1 0 1 0 1 1 1 1 1 0 0 0 1 1 1 1 1 1 1 1 1 1 1 1 1 1 0 1 1 1 1 1 1 1 1 1 1 1 1 1 1 1 1 1 1 1 1 0 0 1 1 1 1 1 1 1 1 1 1 1 1 1 1 1 1 1 0 0 0 1 1 0 0 0 0 0 1 1 1 1 1 1 1 1 1 1 1 1 1 1 1 1 1 1 1 1 1 1 1 1 1 1 1 1 1 1 1 1 1 1 1 1 1 1 1 1 1 1 1 1 1 1 1 1 1 1 1 1 1 1 1 1 1 1 1 1 1 1 1 1 1 1 1 1 1 1 1 1 1 1 1 1 1 1 1 1 1 1 0 1 1 1 1 1 1 1 1 1 1 1 0 1 1 1 1 1 1 1 1 1 1 0 1 1 1 1 1 1 1 1 1 0 1 1 1 1 1 1 1 1 1 1 1 1 1 1 1 1 1 1 1 1 1 1 1 1 1 1 1 1 0 0 1 1 1 1 1 1 1 1 1 1 1 1 1 1 1 1 1 1 1 1 1 1 1 1 1 1 1 1 1 1 1 1 1 1 1 1 1 1 1 1 0 0 0 0 0 0 0 0 1 1 0 0 0 0 0 0 0 0 1 1 0 1 1 0 0 0 0 0 0 0 1 1 0 1 1 0 0 0 0 1 1 1 1 1 1 1 1 1 1 1 1 1 1 1 1 1 1 1 1 1 0 0 0 0 0 0 0 0 0 0 0 0 0 0 0 0 0 0 0 0 0 0 0 0 0 0 0 0 0 0 0 0 0 0 0 0 0 0 0 0 0 0 0 0 0 0 0 0 0 0 0 0 0 0 0 0 0 0 0 0 0 0 0 0 0 0 0 0 0 0 0 0 0 0 0 0 0 0 0 0 0 0 0 0 0 0 0 0 0 0 0 0 0\n",
      "07/15/2021 15:15:21 - INFO - __main__ -   input_ids: 101 1046 2475 4402 2844 10616 2006 2012 2560 2028 28771 7809 2291 2107 2004 20066 26048 1010 14721 1010 29296 8241 1010 2026 2015 4160 2140 1010 2695 17603 2015 4160 2140 1010 2030 16962 2475 3325 1997 12697 3001 2007 1044 6392 1006 2152 2504 2640 1007 1998 2222 2094 1006 2659 2504 2640 1007 3716 3325 1997 2551 1999 2019 29003 4007 2458 4044 1998 2780 1012 4824 1998 3325 1997 2291 3737 1010 3036 1010 2836 1010 5441 8010 1004 4654 25808 13464 2844 17826 1998 3291 1011 13729 4813 6871 8778 1013 15581 2121 4503 13665 7524 2006 8346 1013 12702 8043 7903 2063 5884 2458 2055 1996 2136 20066 8346 2326 2003 2019 2330 1998 19160 24531 3022 4637 6960 1011 2898 8346 3791 2005 2119 20066 1998 2512 1011 20066 8346 16820 1012 2007 2062 2084 2184 1010 2199 6304 1998 10320 1010 2009 2003 2028 1997 1996 2087 3144 6112 2578 2013 20066 1001 2061 2546 11387 11387 1001 20066 19279 15042 5686 16302 2545 2054 2017 2131 2013 2149 3112 2003 2054 2017 2191 2009 1012 2012 20066 1010 2057 2393 2017 2191 2009 2115 2219 1012 1037 2476 2012 20066 2064 2330 2116 4303 2005 2017 1012 2065 2017 2128 6575 2005 1037 2194 2008 1055 4056 2000 2115 4784 1998 3265 3930 1010 14600 2017 2005 2115 4310 5857 1010 17469 2017 2007 1037 2844 3168 1997 3800 1010 1998 3640 1037 4569 1010 12379 1998 18678 2147 4044 6611 2085 1012 20066 1005 1055 8906 8426 2000 17445 1996 2373 1997 8144 1010 20066 15697 2015 1999 1996 2458 1997 2049 7578 5126 1012 2057 2004 20781 2000 21155 1996 11647 1998 9120 1996 4310 5566 14767 2008 2169 2711 7545 2000 1996 2194 1012 20066 2003 5462 2000 1996 6481 1997 5020 6107 4495 1998 2000 4346 9608 26167 2000 17362 2007 3558 1998 1013 2030 5177 13597 1012 2065 2017 2024 1999 2342 1997 11366 2030 2569 5375 2000 22149 2256 4037 2030 2000 3143 2115 4646 1010 3531 4604 2019 1041 1011 5653 2007 2115 5227 2000 14357 3136 2136 1006 10925 1024 10922 1012 2167 14074 14735 1030 20066 1012 4012 2030 10922 1012 3763 14074 14735 1030 20066 1012 4012 1010 9706 3501 1024 10922 1012 9706 3501 1030 20066 1012 4012 1010 7861 5243 1024 10922 1030 20066 1012 4012 1007 1012 3144 5347 2453 2022 3223 2000 13595 1037 4281 22616 2007 2019 6327 21431 1012 3176 5269 1024 102 0 0 0 0 0 0 0 0 0 0 0 0 0 0 0 0 0 0 0 0 0 0 0 0 0 0 0 0 0 0 0 0 0 0 0 0 0 0 0 0 0 0 0 0 0 0 0 0 0 0 0 0 0 0 0 0 0 0 0 0 0 0 0 0 0 0 0 0 0 0 0 0 0 0 0 0 0 0 0 0 0 0 0 0 0 0 0 0 0 0 0 0 0\n"
     ]
    },
    {
     "name": "stderr",
     "output_type": "stream",
     "text": [
      "07/15/2021 15:15:21 - INFO - __main__ -   input_mask: 1 1 1 1 1 1 1 1 1 1 1 1 1 1 1 1 1 1 1 1 1 1 1 1 1 1 1 1 1 1 1 1 1 1 1 1 1 1 1 1 1 1 1 1 1 1 1 1 1 1 1 1 1 1 1 1 1 1 1 1 1 1 1 1 1 1 1 1 1 1 1 1 1 1 1 1 1 1 1 1 1 1 1 1 1 1 1 1 1 1 1 1 1 1 1 1 1 1 1 1 1 1 1 1 1 1 1 1 1 1 1 1 1 1 1 1 1 1 1 1 1 1 1 1 1 1 1 1 1 1 1 1 1 1 1 1 1 1 1 1 1 1 1 1 1 1 1 1 1 1 1 1 1 1 1 1 1 1 1 1 1 1 1 1 1 1 1 1 1 1 1 1 1 1 1 1 1 1 1 1 1 1 1 1 1 1 1 1 1 1 1 1 1 1 1 1 1 1 1 1 1 1 1 1 1 1 1 1 1 1 1 1 1 1 1 1 1 1 1 1 1 1 1 1 1 1 1 1 1 1 1 1 1 1 1 1 1 1 1 1 1 1 1 1 1 1 1 1 1 1 1 1 1 1 1 1 1 1 1 1 1 1 1 1 1 1 1 1 1 1 1 1 1 1 1 1 1 1 1 1 1 1 1 1 1 1 1 1 1 1 1 1 1 1 1 1 1 1 1 1 1 1 1 1 1 1 1 1 1 1 1 1 1 1 1 1 1 1 1 1 1 1 1 1 1 1 1 1 1 1 1 1 1 1 1 1 1 1 1 1 1 1 1 1 1 1 1 1 1 1 1 1 1 1 1 1 1 1 1 1 1 1 1 1 1 1 1 1 1 1 1 1 1 1 1 1 1 1 1 1 1 1 1 1 1 1 1 1 1 1 1 1 1 1 1 1 1 1 1 1 1 1 1 1 1 1 1 1 1 1 1 1 1 1 1 1 1 1 1 0 0 0 0 0 0 0 0 0 0 0 0 0 0 0 0 0 0 0 0 0 0 0 0 0 0 0 0 0 0 0 0 0 0 0 0 0 0 0 0 0 0 0 0 0 0 0 0 0 0 0 0 0 0 0 0 0 0 0 0 0 0 0 0 0 0 0 0 0 0 0 0 0 0 0 0 0 0 0 0 0 0 0 0 0 0 0 0 0 0 0 0 0\n",
      "07/15/2021 15:15:21 - INFO - __main__ -   segment_ids: 0 0 0 0 0 0 0 0 0 0 0 0 0 0 0 0 0 0 0 0 0 0 0 0 0 0 0 0 0 0 0 0 0 0 0 0 0 0 0 0 0 0 0 0 0 0 0 0 0 0 0 0 0 0 0 0 0 0 0 0 0 0 0 0 0 0 0 0 0 0 0 0 0 0 0 0 0 0 0 0 0 0 0 0 0 0 0 0 0 0 0 0 0 0 0 0 0 0 0 0 0 0 0 0 0 0 0 0 0 0 0 0 0 0 0 0 0 0 0 0 0 0 0 0 0 0 0 0 0 0 0 0 0 0 0 0 0 0 0 0 0 0 0 0 0 0 0 0 0 0 0 0 0 0 0 0 0 0 0 0 0 0 0 0 0 0 0 0 0 0 0 0 0 0 0 0 0 0 0 0 0 0 0 0 0 0 0 0 0 0 0 0 0 0 0 0 0 0 0 0 0 0 0 0 0 0 0 0 0 0 0 0 0 0 0 0 0 0 0 0 0 0 0 0 0 0 0 0 0 0 0 0 0 0 0 0 0 0 0 0 0 0 0 0 0 0 0 0 0 0 0 0 0 0 0 0 0 0 0 0 0 0 0 0 0 0 0 0 0 0 0 0 0 0 0 0 0 0 0 0 0 0 0 0 0 0 0 0 0 0 0 0 0 0 0 0 0 0 0 0 0 0 0 0 0 0 0 0 0 0 0 0 0 0 0 0 0 0 0 0 0 0 0 0 0 0 0 0 0 0 0 0 0 0 0 0 0 0 0 0 0 0 0 0 0 0 0 0 0 0 0 0 0 0 0 0 0 0 0 0 0 0 0 0 0 0 0 0 0 0 0 0 0 0 0 0 0 0 0 0 0 0 0 0 0 0 0 0 0 0 0 0 0 0 0 0 0 0 0 0 0 0 0 0 0 0 0 0 0 0 0 0 0 0 0 0 0 0 0 0 0 0 0 0 0 0 0 0 0 0 0 0 0 0 0 0 0 0 0 0 0 0 0 0 0 0 0 0 0 0 0 0 0 0 0 0 0 0 0 0 0 0 0 0 0 0 0 0 0 0 0 0 0 0 0 0 0 0 0 0 0 0 0 0 0 0 0 0 0 0 0 0 0 0 0 0 0 0 0 0 0 0 0 0 0 0 0 0 0 0 0 0\n",
      "07/15/2021 15:15:21 - INFO - __main__ -   label_ids: -100 7 0 0 0 0 0 0 7 8 8 0 0 0 0 0 7 0 7 8 0 7 0 7 0 0 7 0 0 0 0 0 7 8 8 8 8 0 0 7 8 8 8 8 0 0 0 0 0 0 0 7 0 0 0 0 0 0 0 0 0 0 0 0 0 0 0 0 0 0 0 0 0 3 0 3 4 4 0 0 0 0 7 8 0 0 0 0 7 0 0 0 0 0 0 0 0 0 0 0 0 0 0 0 0 0 0 0 0 0 0 0 0 0 0 0 0 0 0 0 0 0 0 0 0 0 0 0 0 0 0 0 0 0 0 0 0 0 0 0 0 0 0 0 0 0 0 0 0 0 0 0 0 0 0 0 0 0 0 0 0 0 0 0 0 0 0 0 0 0 0 0 0 0 0 0 0 0 0 0 0 0 0 0 0 0 0 0 0 0 0 0 0 0 0 0 0 0 0 0 0 0 0 0 0 0 0 0 0 0 0 0 0 0 0 0 0 0 0 0 0 0 0 0 0 0 0 0 0 0 0 0 0 0 0 0 0 0 0 0 0 0 0 0 0 0 0 0 0 0 0 0 0 0 0 0 0 0 0 0 0 0 0 0 0 0 0 0 0 0 0 0 0 0 0 0 0 0 0 0 0 0 0 0 0 0 0 0 0 0 0 0 0 0 0 0 0 0 0 0 0 0 0 0 0 0 0 0 0 0 0 0 0 0 0 0 0 0 0 0 0 0 0 0 0 0 0 0 0 0 0 0 0 0 0 0 0 0 0 0 0 0 0 0 0 0 0 0 0 0 0 0 -100 -100 -100 -100 -100 -100 -100 -100 -100 -100 -100 -100 -100 -100 -100 -100 -100 -100 -100 -100 -100 -100 -100 -100 -100 -100 -100 -100 -100 -100 -100 -100 -100 -100 -100 -100 -100 -100 -100 -100 -100 -100 -100 -100 -100 -100 -100 -100 -100 -100 -100 -100 -100 -100 -100 -100 -100 -100 -100 -100 -100 -100 -100 -100 -100 -100 -100 -100 -100 -100 -100 -100 -100 -100 -100 -100 -100 -100 -100 -100 -100 -100 -100 -100 -100 -100 -100 -100 -100 -100 -100 -100 -100 -100 -100 -100 -100 -100 -100 -100 -100 -100 -100 -100 -100 -100 -100 -100 -100 -100 -100 -100 -100 -100 -100 -100 -100 -100 -100 -100 -100 -100 -100 -100 -100 -100 -100 -100 -100 -100 -100 -100 -100 -100 -100 -100 -100 -100 -100 -100 -100 -100 -100 -100 -100 -100 -100 -100 -100 -100 -100 -100 -100 -100 -100 -100 -100 -100 -100 -100\n",
      "07/15/2021 15:15:21 - INFO - __main__ -   start_ids: -100 4 0 0 0 0 0 0 4 0 0 0 0 0 0 0 4 0 4 0 0 4 0 4 0 0 4 0 0 0 0 0 4 0 0 0 0 0 0 4 0 0 0 0 0 0 0 0 0 0 0 4 0 0 0 0 0 0 0 0 0 0 0 0 0 0 0 0 0 0 0 0 0 2 0 2 0 0 0 0 0 0 4 0 0 0 0 0 4 0 0 0 0 0 0 0 0 0 0 0 0 0 0 0 0 0 0 0 0 0 0 0 0 0 0 0 0 0 0 0 0 0 0 0 0 0 0 0 0 0 0 0 0 0 0 0 0 0 0 0 0 0 0 0 0 0 0 0 0 0 0 0 0 0 0 0 0 0 0 0 0 0 0 0 0 0 0 0 0 0 0 0 0 0 0 0 0 0 0 0 0 0 0 0 0 0 0 0 0 0 0 0 0 0 0 0 0 0 0 0 0 0 0 0 0 0 0 0 0 0 0 0 0 0 0 0 0 0 0 0 0 0 0 0 0 0 0 0 0 0 0 0 0 0 0 0 0 0 0 0 0 0 0 0 0 0 0 0 0 0 0 0 0 0 0 0 0 0 0 0 0 0 0 0 0 0 0 0 0 0 0 0 0 0 0 0 0 0 0 0 0 0 0 0 0 0 0 0 0 0 0 0 0 0 0 0 0 0 0 0 0 0 0 0 0 0 0 0 0 0 0 0 0 0 0 0 0 0 0 0 0 0 0 0 0 0 0 0 0 0 0 0 0 0 0 0 0 0 0 0 0 0 0 0 0 0 0 0 0 0 0 0 -100 -100 -100 -100 -100 -100 -100 -100 -100 -100 -100 -100 -100 -100 -100 -100 -100 -100 -100 -100 -100 -100 -100 -100 -100 -100 -100 -100 -100 -100 -100 -100 -100 -100 -100 -100 -100 -100 -100 -100 -100 -100 -100 -100 -100 -100 -100 -100 -100 -100 -100 -100 -100 -100 -100 -100 -100 -100 -100 -100 -100 -100 -100 -100 -100 -100 -100 -100 -100 -100 -100 -100 -100 -100 -100 -100 -100 -100 -100 -100 -100 -100 -100 -100 -100 -100 -100 -100 -100 -100 -100 -100 -100 -100 -100 -100 -100 -100 -100 -100 -100 -100 -100 -100 -100 -100 -100 -100 -100 -100 -100 -100 -100 -100 -100 -100 -100 -100 -100 -100 -100 -100 -100 -100 -100 -100 -100 -100 -100 -100 -100 -100 -100 -100 -100 -100 -100 -100 -100 -100 -100 -100 -100 -100 -100 -100 -100 -100 -100 -100 -100 -100 -100 -100 -100 -100 -100 -100 -100 -100\n",
      "07/15/2021 15:15:21 - INFO - __main__ -   end_ids: -100 4 0 0 0 0 0 0 0 0 4 0 0 0 0 0 4 0 0 4 0 4 0 4 0 0 4 0 0 0 0 0 0 0 0 0 4 0 0 0 0 0 0 4 0 0 0 0 0 0 0 4 0 0 0 0 0 0 0 0 0 0 0 0 0 0 0 0 0 0 0 0 0 2 0 0 0 2 0 0 0 0 0 4 0 0 0 0 4 0 0 0 0 0 0 0 0 0 0 0 0 0 0 0 0 0 0 0 0 0 0 0 0 0 0 0 0 0 0 0 0 0 0 0 0 0 0 0 0 0 0 0 0 0 0 0 0 0 0 0 0 0 0 0 0 0 0 0 0 0 0 0 0 0 0 0 0 0 0 0 0 0 0 0 0 0 0 0 0 0 0 0 0 0 0 0 0 0 0 0 0 0 0 0 0 0 0 0 0 0 0 0 0 0 0 0 0 0 0 0 0 0 0 0 0 0 0 0 0 0 0 0 0 0 0 0 0 0 0 0 0 0 0 0 0 0 0 0 0 0 0 0 0 0 0 0 0 0 0 0 0 0 0 0 0 0 0 0 0 0 0 0 0 0 0 0 0 0 0 0 0 0 0 0 0 0 0 0 0 0 0 0 0 0 0 0 0 0 0 0 0 0 0 0 0 0 0 0 0 0 0 0 0 0 0 0 0 0 0 0 0 0 0 0 0 0 0 0 0 0 0 0 0 0 0 0 0 0 0 0 0 0 0 0 0 0 0 0 0 0 0 0 0 0 0 0 0 0 0 0 0 0 0 0 0 0 0 0 0 0 0 0 -100 -100 -100 -100 -100 -100 -100 -100 -100 -100 -100 -100 -100 -100 -100 -100 -100 -100 -100 -100 -100 -100 -100 -100 -100 -100 -100 -100 -100 -100 -100 -100 -100 -100 -100 -100 -100 -100 -100 -100 -100 -100 -100 -100 -100 -100 -100 -100 -100 -100 -100 -100 -100 -100 -100 -100 -100 -100 -100 -100 -100 -100 -100 -100 -100 -100 -100 -100 -100 -100 -100 -100 -100 -100 -100 -100 -100 -100 -100 -100 -100 -100 -100 -100 -100 -100 -100 -100 -100 -100 -100 -100 -100 -100 -100 -100 -100 -100 -100 -100 -100 -100 -100 -100 -100 -100 -100 -100 -100 -100 -100 -100 -100 -100 -100 -100 -100 -100 -100 -100 -100 -100 -100 -100 -100 -100 -100 -100 -100 -100 -100 -100 -100 -100 -100 -100 -100 -100 -100 -100 -100 -100 -100 -100 -100 -100 -100 -100 -100 -100 -100 -100 -100 -100 -100 -100 -100 -100 -100 -100\n",
      "07/15/2021 15:15:21 - INFO - __main__ -   *** Example ***\n",
      "07/15/2021 15:15:21 - INFO - __main__ -   guid: dev-3\n",
      "07/15/2021 15:15:21 - INFO - __main__ -   tokens: [CLS] re ##qui ##sit ##ion id : 272 ##14 ##0 work area : software - design and development expected travel : 0 - 10 % career status : professional employment type : regular full time company description sap started in 1972 as a team of five colleagues with a desire to do something new . together , they changed enterprise software and rein ##vent ##ed how business was done . today , as a market leader in enterprise application software , we remain true to our roots . that s why we engineer solutions to fuel innovation , foster equality and spread opportunity for our employees and customers across borders and cultures . sap values the entrepreneur ##ial spirit , foster ##ing creativity and building lasting relationships with our employees . we know that a diverse and inclusive workforce keeps us competitive and provides opportunities for all . we believe that together we can transform industries , grow economics , lift up societies and sustain our environment . because it s the best - run businesses that make the world run better and improve people s lives . the development center of sap in bulgaria is technology - focused and plays key role in the defining and developing of the sap cloud platform . with its more than 106 ##0 professionals , sap labs bulgaria also has strong contributions towards life - cycle management , user interface & user experience across the broader portfolio of sap products . for its 21st year history , the company has established itself as a preferred employer in the it sector in bulgaria . about the team sap hana cloud serves as a cloud - native portfolio of database offerings and sap hana cloud infrastructure ( our dev ##ops team ) is developing and running its cutting - edge ku ##ber ##net ##es based infrastructure on the major cloud providers . we are a diverse team doing agile software development on a global scale . we value life - long learning , innovation , and continuous improvement . our work environment is defined by trust , open ##ness , and ag ##ility . we take joint responsibility and support each other . we enjoy pushing beyond the limits of what s currently possible , which also requires close collaboration with our cloud technology partners . in the past year alone , the thousands of instances we are managing have reached a footprint of several hundreds of ter ##aby ##tes main memory and storage in data centers worldwide . we are using state - of - the - art technologies . [SEP]\n"
     ]
    },
    {
     "name": "stderr",
     "output_type": "stream",
     "text": [
      "07/15/2021 15:15:21 - INFO - __main__ -   valid_mask: 1 1 0 0 0 1 1 1 0 0 1 1 1 1 1 1 1 1 1 1 1 1 1 1 1 1 1 1 1 1 1 1 1 1 1 1 1 1 1 1 1 1 1 1 1 1 1 1 1 1 1 1 1 1 1 1 1 1 1 1 1 1 1 0 0 1 1 1 1 1 1 1 1 1 1 1 1 1 1 1 1 1 1 1 1 1 1 1 1 1 1 1 1 1 1 1 1 1 1 1 1 1 1 1 1 1 1 1 1 1 1 1 1 1 1 1 1 0 1 1 1 0 1 1 1 1 1 1 1 1 1 1 1 1 1 1 1 1 1 1 1 1 1 1 1 1 1 1 1 1 1 1 1 1 1 1 1 1 1 1 1 1 1 1 1 1 1 1 1 1 1 1 1 1 1 1 1 1 1 1 1 1 1 1 1 1 1 1 1 1 1 1 1 1 1 1 1 1 1 1 1 1 1 1 1 1 1 1 1 1 1 1 1 1 1 1 1 1 1 0 1 1 1 1 1 1 1 1 1 1 1 1 1 1 1 1 1 1 1 1 1 1 1 1 1 1 1 1 1 1 1 1 1 1 1 1 1 1 1 1 1 1 1 1 1 1 1 1 1 1 1 1 1 1 1 1 1 1 1 1 1 1 1 1 1 1 1 1 1 1 1 1 1 1 0 1 1 1 1 1 1 1 1 1 1 1 0 0 0 1 1 1 1 1 1 1 1 1 1 1 1 1 1 1 1 1 1 1 1 1 1 1 1 1 1 1 1 1 1 1 1 1 1 1 1 1 1 1 1 1 1 1 1 0 1 1 1 0 1 1 1 1 1 1 1 1 1 1 1 1 1 1 1 1 1 1 1 1 1 1 1 1 1 1 1 1 1 1 1 1 1 1 1 1 1 1 1 1 1 1 1 1 1 1 1 1 1 1 1 1 1 1 1 0 0 1 1 1 1 1 1 1 1 1 1 1 1 1 1 1 1 1 1 1 1 1 1 0 0 0 0 0 0 0 0 0 0 0 0 0 0 0 0 0 0 0 0 0 0 0 0 0 0 0 0 0 0 0 0 0 0 0 0 0 0 0 0 0 0 0 0 0 0 0 0 0 0 0 0 0 0 0 0 0 0 0 0 0 0 0 0 0 0 0 0 0 0 0 0 0 0 0\n",
      "07/15/2021 15:15:21 - INFO - __main__ -   input_ids: 101 2128 15549 28032 3258 8909 1024 24231 16932 2692 2147 2181 1024 4007 1011 2640 1998 2458 3517 3604 1024 1014 1011 2184 1003 2476 3570 1024 2658 6107 2828 1024 3180 2440 2051 2194 6412 20066 2318 1999 3285 2004 1037 2136 1997 2274 8628 2007 1037 4792 2000 2079 2242 2047 1012 2362 1010 2027 2904 6960 4007 1998 27788 15338 2098 2129 2449 2001 2589 1012 2651 1010 2004 1037 3006 3003 1999 6960 4646 4007 1010 2057 3961 2995 2000 2256 6147 1012 2008 1055 2339 2057 3992 7300 2000 4762 8144 1010 6469 9945 1998 3659 4495 2005 2256 5126 1998 6304 2408 6645 1998 8578 1012 20066 5300 1996 10670 4818 4382 1010 6469 2075 14842 1998 2311 9879 6550 2007 2256 5126 1012 2057 2113 2008 1037 7578 1998 18678 14877 7906 2149 6975 1998 3640 6695 2005 2035 1012 2057 2903 2008 2362 2057 2064 10938 6088 1010 4982 5543 1010 6336 2039 8384 1998 15770 2256 4044 1012 2138 2009 1055 1996 2190 1011 2448 5661 2008 2191 1996 2088 2448 2488 1998 5335 2111 1055 3268 1012 1996 2458 2415 1997 20066 1999 8063 2003 2974 1011 4208 1998 3248 3145 2535 1999 1996 12854 1998 4975 1997 1996 20066 6112 4132 1012 2007 2049 2062 2084 10114 2692 8390 1010 20066 13625 8063 2036 2038 2844 5857 2875 2166 1011 5402 2968 1010 5310 8278 1004 5310 3325 2408 1996 12368 11103 1997 20066 3688 1012 2005 2049 7398 2095 2381 1010 1996 2194 2038 2511 2993 2004 1037 6871 11194 1999 1996 2009 4753 1999 8063 1012 2055 1996 2136 20066 26048 6112 4240 2004 1037 6112 1011 3128 11103 1997 7809 14927 1998 20066 26048 6112 6502 1006 2256 16475 11923 2136 1007 2003 4975 1998 2770 2049 6276 1011 3341 13970 5677 7159 2229 2241 6502 2006 1996 2350 6112 11670 1012 2057 2024 1037 7578 2136 2725 29003 4007 2458 2006 1037 3795 4094 1012 2057 3643 2166 1011 2146 4083 1010 8144 1010 1998 7142 7620 1012 2256 2147 4044 2003 4225 2011 3404 1010 2330 2791 1010 1998 12943 15148 1012 2057 2202 4101 5368 1998 2490 2169 2060 1012 2057 5959 6183 3458 1996 6537 1997 2054 1055 2747 2825 1010 2029 2036 5942 2485 5792 2007 2256 6112 2974 5826 1012 1999 1996 2627 2095 2894 1010 1996 5190 1997 12107 2057 2024 6605 2031 2584 1037 24319 1997 2195 5606 1997 28774 21275 4570 2364 3638 1998 5527 1999 2951 6401 4969 1012 2057 2024 2478 2110 1011 1997 1011 1996 1011 2396 6786 1012 102 0 0 0 0 0 0 0 0 0 0 0 0 0 0 0 0 0 0 0 0 0 0 0 0 0 0 0 0 0 0 0 0 0 0 0 0 0 0 0 0 0 0 0 0 0 0 0 0 0 0 0 0 0 0 0 0 0 0 0 0 0 0 0 0 0 0 0 0 0 0 0 0 0 0 0\n",
      "07/15/2021 15:15:21 - INFO - __main__ -   input_mask: 1 1 1 1 1 1 1 1 1 1 1 1 1 1 1 1 1 1 1 1 1 1 1 1 1 1 1 1 1 1 1 1 1 1 1 1 1 1 1 1 1 1 1 1 1 1 1 1 1 1 1 1 1 1 1 1 1 1 1 1 1 1 1 1 1 1 1 1 1 1 1 1 1 1 1 1 1 1 1 1 1 1 1 1 1 1 1 1 1 1 1 1 1 1 1 1 1 1 1 1 1 1 1 1 1 1 1 1 1 1 1 1 1 1 1 1 1 1 1 1 1 1 1 1 1 1 1 1 1 1 1 1 1 1 1 1 1 1 1 1 1 1 1 1 1 1 1 1 1 1 1 1 1 1 1 1 1 1 1 1 1 1 1 1 1 1 1 1 1 1 1 1 1 1 1 1 1 1 1 1 1 1 1 1 1 1 1 1 1 1 1 1 1 1 1 1 1 1 1 1 1 1 1 1 1 1 1 1 1 1 1 1 1 1 1 1 1 1 1 1 1 1 1 1 1 1 1 1 1 1 1 1 1 1 1 1 1 1 1 1 1 1 1 1 1 1 1 1 1 1 1 1 1 1 1 1 1 1 1 1 1 1 1 1 1 1 1 1 1 1 1 1 1 1 1 1 1 1 1 1 1 1 1 1 1 1 1 1 1 1 1 1 1 1 1 1 1 1 1 1 1 1 1 1 1 1 1 1 1 1 1 1 1 1 1 1 1 1 1 1 1 1 1 1 1 1 1 1 1 1 1 1 1 1 1 1 1 1 1 1 1 1 1 1 1 1 1 1 1 1 1 1 1 1 1 1 1 1 1 1 1 1 1 1 1 1 1 1 1 1 1 1 1 1 1 1 1 1 1 1 1 1 1 1 1 1 1 1 1 1 1 1 1 1 1 1 1 1 1 1 1 1 1 1 1 1 1 1 1 1 1 1 1 1 1 1 1 1 1 1 1 1 1 1 1 1 1 1 1 1 1 1 1 1 1 1 1 0 0 0 0 0 0 0 0 0 0 0 0 0 0 0 0 0 0 0 0 0 0 0 0 0 0 0 0 0 0 0 0 0 0 0 0 0 0 0 0 0 0 0 0 0 0 0 0 0 0 0 0 0 0 0 0 0 0 0 0 0 0 0 0 0 0 0 0 0 0 0 0 0 0 0\n",
      "07/15/2021 15:15:21 - INFO - __main__ -   segment_ids: 0 0 0 0 0 0 0 0 0 0 0 0 0 0 0 0 0 0 0 0 0 0 0 0 0 0 0 0 0 0 0 0 0 0 0 0 0 0 0 0 0 0 0 0 0 0 0 0 0 0 0 0 0 0 0 0 0 0 0 0 0 0 0 0 0 0 0 0 0 0 0 0 0 0 0 0 0 0 0 0 0 0 0 0 0 0 0 0 0 0 0 0 0 0 0 0 0 0 0 0 0 0 0 0 0 0 0 0 0 0 0 0 0 0 0 0 0 0 0 0 0 0 0 0 0 0 0 0 0 0 0 0 0 0 0 0 0 0 0 0 0 0 0 0 0 0 0 0 0 0 0 0 0 0 0 0 0 0 0 0 0 0 0 0 0 0 0 0 0 0 0 0 0 0 0 0 0 0 0 0 0 0 0 0 0 0 0 0 0 0 0 0 0 0 0 0 0 0 0 0 0 0 0 0 0 0 0 0 0 0 0 0 0 0 0 0 0 0 0 0 0 0 0 0 0 0 0 0 0 0 0 0 0 0 0 0 0 0 0 0 0 0 0 0 0 0 0 0 0 0 0 0 0 0 0 0 0 0 0 0 0 0 0 0 0 0 0 0 0 0 0 0 0 0 0 0 0 0 0 0 0 0 0 0 0 0 0 0 0 0 0 0 0 0 0 0 0 0 0 0 0 0 0 0 0 0 0 0 0 0 0 0 0 0 0 0 0 0 0 0 0 0 0 0 0 0 0 0 0 0 0 0 0 0 0 0 0 0 0 0 0 0 0 0 0 0 0 0 0 0 0 0 0 0 0 0 0 0 0 0 0 0 0 0 0 0 0 0 0 0 0 0 0 0 0 0 0 0 0 0 0 0 0 0 0 0 0 0 0 0 0 0 0 0 0 0 0 0 0 0 0 0 0 0 0 0 0 0 0 0 0 0 0 0 0 0 0 0 0 0 0 0 0 0 0 0 0 0 0 0 0 0 0 0 0 0 0 0 0 0 0 0 0 0 0 0 0 0 0 0 0 0 0 0 0 0 0 0 0 0 0 0 0 0 0 0 0 0 0 0 0 0 0 0 0 0 0 0 0 0 0 0 0 0 0 0 0 0 0 0 0 0 0 0 0 0 0 0 0 0 0 0 0 0 0 0 0 0 0 0 0 0\n",
      "07/15/2021 15:15:21 - INFO - __main__ -   label_ids: -100 0 0 0 0 0 0 0 0 0 0 0 0 0 0 0 0 0 0 0 0 0 0 0 0 0 0 0 0 0 0 0 0 0 0 0 0 0 0 0 0 0 0 0 0 0 0 0 0 0 0 0 0 0 0 0 0 0 0 0 0 0 0 0 0 0 0 0 0 0 0 0 0 0 0 0 0 0 0 0 0 0 0 0 0 0 0 0 0 0 0 0 0 0 0 0 0 0 0 0 0 0 0 0 0 0 0 0 0 0 0 0 0 0 0 0 0 0 0 0 0 0 0 0 0 0 0 0 0 0 0 0 0 0 0 0 0 0 0 0 0 0 0 0 0 0 0 0 0 0 0 0 0 0 0 0 0 0 0 0 0 0 0 0 0 0 0 0 0 0 0 0 0 0 0 0 0 0 0 0 0 0 0 0 0 0 0 0 0 0 0 0 0 0 0 0 0 0 0 0 0 0 0 0 0 0 0 0 0 0 0 0 0 0 0 0 0 0 0 0 0 0 0 0 0 0 0 0 0 0 0 0 0 0 0 0 0 0 0 0 0 0 0 0 0 0 0 0 0 0 0 0 0 0 0 0 0 0 0 0 0 0 0 0 0 0 0 0 0 0 0 0 0 0 0 0 0 0 0 0 0 0 0 0 0 0 0 0 0 0 0 0 0 0 7 0 0 0 0 0 0 0 0 0 0 0 0 0 0 7 8 8 0 0 0 0 0 0 0 0 0 0 0 0 0 0 0 0 0 0 0 0 0 0 0 0 0 0 0 0 0 0 0 0 0 0 0 0 0 0 0 0 0 0 0 0 0 0 0 0 0 0 0 0 0 0 0 0 0 0 0 0 0 0 0 0 0 0 0 0 0 0 0 0 0 0 0 0 0 0 0 0 0 0 0 0 0 0 0 0 0 0 0 0 0 0 0 0 0 0 0 0 0 0 0 0 0 0 -100 -100 -100 -100 -100 -100 -100 -100 -100 -100 -100 -100 -100 -100 -100 -100 -100 -100 -100 -100 -100 -100 -100 -100 -100 -100 -100 -100 -100 -100 -100 -100 -100 -100 -100 -100 -100 -100 -100 -100 -100 -100 -100 -100 -100 -100 -100 -100 -100 -100 -100 -100 -100 -100 -100 -100 -100 -100 -100 -100 -100 -100 -100 -100 -100 -100 -100 -100 -100 -100 -100 -100 -100 -100 -100 -100 -100 -100 -100 -100 -100 -100 -100 -100 -100 -100 -100 -100 -100 -100 -100 -100 -100 -100\n",
      "07/15/2021 15:15:21 - INFO - __main__ -   start_ids: -100 0 0 0 0 0 0 0 0 0 0 0 0 0 0 0 0 0 0 0 0 0 0 0 0 0 0 0 0 0 0 0 0 0 0 0 0 0 0 0 0 0 0 0 0 0 0 0 0 0 0 0 0 0 0 0 0 0 0 0 0 0 0 0 0 0 0 0 0 0 0 0 0 0 0 0 0 0 0 0 0 0 0 0 0 0 0 0 0 0 0 0 0 0 0 0 0 0 0 0 0 0 0 0 0 0 0 0 0 0 0 0 0 0 0 0 0 0 0 0 0 0 0 0 0 0 0 0 0 0 0 0 0 0 0 0 0 0 0 0 0 0 0 0 0 0 0 0 0 0 0 0 0 0 0 0 0 0 0 0 0 0 0 0 0 0 0 0 0 0 0 0 0 0 0 0 0 0 0 0 0 0 0 0 0 0 0 0 0 0 0 0 0 0 0 0 0 0 0 0 0 0 0 0 0 0 0 0 0 0 0 0 0 0 0 0 0 0 0 0 0 0 0 0 0 0 0 0 0 0 0 0 0 0 0 0 0 0 0 0 0 0 0 0 0 0 0 0 0 0 0 0 0 0 0 0 0 0 0 0 0 0 0 0 0 0 0 0 0 0 0 0 0 0 0 0 0 0 0 0 0 0 0 0 0 0 0 0 0 0 0 0 0 0 4 0 0 0 0 0 0 0 0 0 0 0 0 0 0 4 0 0 0 0 0 0 0 0 0 0 0 0 0 0 0 0 0 0 0 0 0 0 0 0 0 0 0 0 0 0 0 0 0 0 0 0 0 0 0 0 0 0 0 0 0 0 0 0 0 0 0 0 0 0 0 0 0 0 0 0 0 0 0 0 0 0 0 0 0 0 0 0 0 0 0 0 0 0 0 0 0 0 0 0 0 0 0 0 0 0 0 0 0 0 0 0 0 0 0 0 0 0 0 0 0 0 0 0 -100 -100 -100 -100 -100 -100 -100 -100 -100 -100 -100 -100 -100 -100 -100 -100 -100 -100 -100 -100 -100 -100 -100 -100 -100 -100 -100 -100 -100 -100 -100 -100 -100 -100 -100 -100 -100 -100 -100 -100 -100 -100 -100 -100 -100 -100 -100 -100 -100 -100 -100 -100 -100 -100 -100 -100 -100 -100 -100 -100 -100 -100 -100 -100 -100 -100 -100 -100 -100 -100 -100 -100 -100 -100 -100 -100 -100 -100 -100 -100 -100 -100 -100 -100 -100 -100 -100 -100 -100 -100 -100 -100 -100 -100\n"
     ]
    },
    {
     "name": "stderr",
     "output_type": "stream",
     "text": [
      "07/15/2021 15:15:21 - INFO - __main__ -   end_ids: -100 0 0 0 0 0 0 0 0 0 0 0 0 0 0 0 0 0 0 0 0 0 0 0 0 0 0 0 0 0 0 0 0 0 0 0 0 0 0 0 0 0 0 0 0 0 0 0 0 0 0 0 0 0 0 0 0 0 0 0 0 0 0 0 0 0 0 0 0 0 0 0 0 0 0 0 0 0 0 0 0 0 0 0 0 0 0 0 0 0 0 0 0 0 0 0 0 0 0 0 0 0 0 0 0 0 0 0 0 0 0 0 0 0 0 0 0 0 0 0 0 0 0 0 0 0 0 0 0 0 0 0 0 0 0 0 0 0 0 0 0 0 0 0 0 0 0 0 0 0 0 0 0 0 0 0 0 0 0 0 0 0 0 0 0 0 0 0 0 0 0 0 0 0 0 0 0 0 0 0 0 0 0 0 0 0 0 0 0 0 0 0 0 0 0 0 0 0 0 0 0 0 0 0 0 0 0 0 0 0 0 0 0 0 0 0 0 0 0 0 0 0 0 0 0 0 0 0 0 0 0 0 0 0 0 0 0 0 0 0 0 0 0 0 0 0 0 0 0 0 0 0 0 0 0 0 0 0 0 0 0 0 0 0 0 0 0 0 0 0 0 0 0 0 0 0 0 0 0 0 0 0 0 0 0 0 0 0 0 0 0 0 0 0 4 0 0 0 0 0 0 0 0 0 0 0 0 0 0 0 0 4 0 0 0 0 0 0 0 0 0 0 0 0 0 0 0 0 0 0 0 0 0 0 0 0 0 0 0 0 0 0 0 0 0 0 0 0 0 0 0 0 0 0 0 0 0 0 0 0 0 0 0 0 0 0 0 0 0 0 0 0 0 0 0 0 0 0 0 0 0 0 0 0 0 0 0 0 0 0 0 0 0 0 0 0 0 0 0 0 0 0 0 0 0 0 0 0 0 0 0 0 0 0 0 0 0 0 -100 -100 -100 -100 -100 -100 -100 -100 -100 -100 -100 -100 -100 -100 -100 -100 -100 -100 -100 -100 -100 -100 -100 -100 -100 -100 -100 -100 -100 -100 -100 -100 -100 -100 -100 -100 -100 -100 -100 -100 -100 -100 -100 -100 -100 -100 -100 -100 -100 -100 -100 -100 -100 -100 -100 -100 -100 -100 -100 -100 -100 -100 -100 -100 -100 -100 -100 -100 -100 -100 -100 -100 -100 -100 -100 -100 -100 -100 -100 -100 -100 -100 -100 -100 -100 -100 -100 -100 -100 -100 -100 -100 -100 -100\n",
      "07/15/2021 15:15:21 - INFO - __main__ -   *** Example ***\n",
      "07/15/2021 15:15:21 - INFO - __main__ -   guid: dev-4\n",
      "07/15/2021 15:15:21 - INFO - __main__ -   tokens: [CLS] the role as a development expert and cloud engineer you will join an agile team of 4 to 6 team members and share with them responsibility for 1 or more micro ##ser ##vic ##es , from architecture and implementation through to deployment and operation . our teams are empowered and self - organizing . you will contribute to , for example , landscape deployment on different hyper ##sca ##lers , providing monitoring / ob ##ser ##va ##bility , enhancing our ci / cd pipeline or the availability , scala ##bility , and reliability of our services . you will participate in the design , implementation , and high - quality delivery of the solution . you may have to react on incidents and their root cause analysis . role requirements you will need : very good degree in computer science , inform ##atics , business inform ##atics or related areas profound , hands - on experience with ku ##ber ##net ##es ( especially patterns , custom resources , networking ) , prom ##eth ##eus , dock ##er , gi ##t , jenkins profound , hands - on experience with the cloud offerings of the major hyper ##sca ##lers and their cloud infrastructure profound , hands - on experience with cloud - native software development profound , hands - on experience in one or more of the following programming languages : python , go ##lang , gr ##oo ##vy very good language skills in english we are looking for a very good team player with extraordinary soft skills . experience in other programming languages is a plus . work experience 7 + years in software development 3 + years in cloud - native service development and ku ##ber ##net ##es what we offer : development - we believe every employee is a talent and we want to reach your full potential . employees have the freedom to explore diverse career paths in a variety of positions in our offices around the world diversity - we have a diverse and inclusive culture that is critical to making sap both a great place to work and a successful company . plus , we have a tremendous amount of respect for others balance and rewards - sap em ##power ##s you to have a work / life balance that enables you to perform at your best innovation - we anti ##ci ##pate and explore emerging technology trends and value your creativity sustainability and cs ##r - our vision is to help the world run better and improve people s lives # sap ##hana ##world ##care ##ers # ku ##ber ##net ##es [SEP]\n",
      "07/15/2021 15:15:21 - INFO - __main__ -   valid_mask: 1 1 1 1 1 1 1 1 1 1 1 1 1 1 1 1 1 1 1 1 1 1 1 1 1 1 1 1 1 1 1 1 0 0 0 1 1 1 1 1 1 1 1 1 1 1 1 1 1 1 1 1 1 1 1 1 1 1 1 1 1 1 1 1 1 1 1 1 0 0 1 1 1 1 1 0 0 0 1 1 1 1 1 1 1 1 1 1 1 1 0 1 1 1 1 1 1 1 1 1 1 1 1 1 1 1 1 1 1 1 1 1 1 1 1 1 1 1 1 1 1 1 1 1 1 1 1 1 1 1 1 1 1 1 1 1 1 1 1 1 1 1 1 0 1 1 1 0 1 1 1 1 1 1 1 1 1 1 1 0 0 0 1 1 1 1 1 1 1 1 1 1 1 0 0 1 1 0 1 1 0 1 1 1 1 1 1 1 1 1 1 1 1 1 1 1 1 0 0 1 1 1 1 1 1 1 1 1 1 1 1 1 1 1 1 1 1 1 1 1 1 1 1 1 1 1 1 1 1 1 1 1 1 1 0 1 1 0 0 1 1 1 1 1 1 1 1 1 1 1 1 1 1 1 1 1 1 1 1 1 1 1 1 1 1 1 1 1 1 1 1 1 1 1 1 1 1 1 1 1 1 1 1 1 1 1 1 0 0 0 1 1 1 1 1 0 1 1 1 1 1 1 1 1 1 1 1 1 1 1 1 1 1 1 1 1 1 1 1 1 1 1 1 1 1 1 1 1 1 1 1 1 1 0 1 1 1 1 1 1 1 1 1 1 1 1 1 1 1 1 1 1 1 1 1 1 1 1 1 1 1 1 1 1 1 1 1 1 1 1 1 1 1 1 1 0 0 1 1 1 1 1 1 1 1 1 1 1 1 1 1 1 1 1 1 1 1 0 0 1 1 1 1 1 1 1 1 1 1 1 1 0 0 1 1 1 1 1 1 1 1 1 1 1 1 1 1 1 1 0 0 0 0 1 1 0 0 0 1 0 0 0 0 0 0 0 0 0 0 0 0 0 0 0 0 0 0 0 0 0 0 0 0 0 0 0 0 0 0 0 0 0 0 0 0 0 0 0 0 0 0 0 0 0 0 0 0 0 0 0 0 0 0 0 0 0 0 0 0 0 0 0 0 0 0 0 0 0 0 0 0 0\n",
      "07/15/2021 15:15:21 - INFO - __main__ -   input_ids: 101 1996 2535 2004 1037 2458 6739 1998 6112 3992 2017 2097 3693 2019 29003 2136 1997 1018 2000 1020 2136 2372 1998 3745 2007 2068 5368 2005 1015 2030 2062 12702 8043 7903 2229 1010 2013 4294 1998 7375 2083 2000 10813 1998 3169 1012 2256 2780 2024 26480 1998 2969 1011 10863 1012 2017 2097 9002 2000 1010 2005 2742 1010 5957 10813 2006 2367 23760 15782 12910 1010 4346 8822 1013 27885 8043 3567 8553 1010 20226 2256 25022 1013 3729 13117 2030 1996 11343 1010 26743 8553 1010 1998 15258 1997 2256 2578 1012 2017 2097 5589 1999 1996 2640 1010 7375 1010 1998 2152 1011 3737 6959 1997 1996 5576 1012 2017 2089 2031 2000 10509 2006 10444 1998 2037 7117 3426 4106 1012 2535 5918 2017 2097 2342 1024 2200 2204 3014 1999 3274 2671 1010 12367 17592 1010 2449 12367 17592 2030 3141 2752 13769 1010 2398 1011 2006 3325 2007 13970 5677 7159 2229 1006 2926 7060 1010 7661 4219 1010 14048 1007 1010 20877 11031 10600 1010 8946 2121 1010 21025 2102 1010 11098 13769 1010 2398 1011 2006 3325 2007 1996 6112 14927 1997 1996 2350 23760 15782 12910 1998 2037 6112 6502 13769 1010 2398 1011 2006 3325 2007 6112 1011 3128 4007 2458 13769 1010 2398 1011 2006 3325 1999 2028 2030 2062 1997 1996 2206 4730 4155 1024 18750 1010 2175 25023 1010 24665 9541 10736 2200 2204 2653 4813 1999 2394 2057 2024 2559 2005 1037 2200 2204 2136 2447 2007 9313 3730 4813 1012 3325 1999 2060 4730 4155 2003 1037 4606 1012 2147 3325 1021 1009 2086 1999 4007 2458 1017 1009 2086 1999 6112 1011 3128 2326 2458 1998 13970 5677 7159 2229 2054 2057 3749 1024 2458 1011 2057 2903 2296 7904 2003 1037 5848 1998 2057 2215 2000 3362 2115 2440 4022 1012 5126 2031 1996 4071 2000 8849 7578 2476 10425 1999 1037 3528 1997 4460 1999 2256 4822 2105 1996 2088 8906 1011 2057 2031 1037 7578 1998 18678 3226 2008 2003 4187 2000 2437 20066 2119 1037 2307 2173 2000 2147 1998 1037 3144 2194 1012 4606 1010 2057 2031 1037 14388 3815 1997 4847 2005 2500 5703 1998 19054 1011 20066 7861 11452 2015 2017 2000 2031 1037 2147 1013 2166 5703 2008 12939 2017 2000 4685 2012 2115 2190 8144 1011 2057 3424 6895 17585 1998 8849 8361 2974 12878 1998 3643 2115 14842 15169 1998 20116 2099 1011 2256 4432 2003 2000 2393 1996 2088 2448 2488 1998 5335 2111 1055 3268 1001 20066 15788 11108 16302 2545 1001 13970 5677 7159 2229 102 0 0 0 0 0 0 0 0 0 0 0 0 0 0 0 0 0 0 0 0 0 0 0 0 0 0 0 0 0 0 0 0 0 0 0 0 0 0 0 0 0 0 0 0 0 0 0 0 0 0 0 0 0 0 0 0 0 0 0 0 0 0 0 0 0 0 0 0 0 0 0 0 0\n",
      "07/15/2021 15:15:21 - INFO - __main__ -   input_mask: 1 1 1 1 1 1 1 1 1 1 1 1 1 1 1 1 1 1 1 1 1 1 1 1 1 1 1 1 1 1 1 1 1 1 1 1 1 1 1 1 1 1 1 1 1 1 1 1 1 1 1 1 1 1 1 1 1 1 1 1 1 1 1 1 1 1 1 1 1 1 1 1 1 1 1 1 1 1 1 1 1 1 1 1 1 1 1 1 1 1 1 1 1 1 1 1 1 1 1 1 1 1 1 1 1 1 1 1 1 1 1 1 1 1 1 1 1 1 1 1 1 1 1 1 1 1 1 1 1 1 1 1 1 1 1 1 1 1 1 1 1 1 1 1 1 1 1 1 1 1 1 1 1 1 1 1 1 1 1 1 1 1 1 1 1 1 1 1 1 1 1 1 1 1 1 1 1 1 1 1 1 1 1 1 1 1 1 1 1 1 1 1 1 1 1 1 1 1 1 1 1 1 1 1 1 1 1 1 1 1 1 1 1 1 1 1 1 1 1 1 1 1 1 1 1 1 1 1 1 1 1 1 1 1 1 1 1 1 1 1 1 1 1 1 1 1 1 1 1 1 1 1 1 1 1 1 1 1 1 1 1 1 1 1 1 1 1 1 1 1 1 1 1 1 1 1 1 1 1 1 1 1 1 1 1 1 1 1 1 1 1 1 1 1 1 1 1 1 1 1 1 1 1 1 1 1 1 1 1 1 1 1 1 1 1 1 1 1 1 1 1 1 1 1 1 1 1 1 1 1 1 1 1 1 1 1 1 1 1 1 1 1 1 1 1 1 1 1 1 1 1 1 1 1 1 1 1 1 1 1 1 1 1 1 1 1 1 1 1 1 1 1 1 1 1 1 1 1 1 1 1 1 1 1 1 1 1 1 1 1 1 1 1 1 1 1 1 1 1 1 1 1 1 1 1 1 1 1 1 1 1 1 1 1 1 1 1 1 1 1 1 1 1 1 1 1 1 1 1 1 1 1 1 1 1 1 1 1 1 0 0 0 0 0 0 0 0 0 0 0 0 0 0 0 0 0 0 0 0 0 0 0 0 0 0 0 0 0 0 0 0 0 0 0 0 0 0 0 0 0 0 0 0 0 0 0 0 0 0 0 0 0 0 0 0 0 0 0 0 0 0 0 0 0 0 0 0 0 0 0 0 0\n"
     ]
    },
    {
     "name": "stderr",
     "output_type": "stream",
     "text": [
      "07/15/2021 15:15:21 - INFO - __main__ -   segment_ids: 0 0 0 0 0 0 0 0 0 0 0 0 0 0 0 0 0 0 0 0 0 0 0 0 0 0 0 0 0 0 0 0 0 0 0 0 0 0 0 0 0 0 0 0 0 0 0 0 0 0 0 0 0 0 0 0 0 0 0 0 0 0 0 0 0 0 0 0 0 0 0 0 0 0 0 0 0 0 0 0 0 0 0 0 0 0 0 0 0 0 0 0 0 0 0 0 0 0 0 0 0 0 0 0 0 0 0 0 0 0 0 0 0 0 0 0 0 0 0 0 0 0 0 0 0 0 0 0 0 0 0 0 0 0 0 0 0 0 0 0 0 0 0 0 0 0 0 0 0 0 0 0 0 0 0 0 0 0 0 0 0 0 0 0 0 0 0 0 0 0 0 0 0 0 0 0 0 0 0 0 0 0 0 0 0 0 0 0 0 0 0 0 0 0 0 0 0 0 0 0 0 0 0 0 0 0 0 0 0 0 0 0 0 0 0 0 0 0 0 0 0 0 0 0 0 0 0 0 0 0 0 0 0 0 0 0 0 0 0 0 0 0 0 0 0 0 0 0 0 0 0 0 0 0 0 0 0 0 0 0 0 0 0 0 0 0 0 0 0 0 0 0 0 0 0 0 0 0 0 0 0 0 0 0 0 0 0 0 0 0 0 0 0 0 0 0 0 0 0 0 0 0 0 0 0 0 0 0 0 0 0 0 0 0 0 0 0 0 0 0 0 0 0 0 0 0 0 0 0 0 0 0 0 0 0 0 0 0 0 0 0 0 0 0 0 0 0 0 0 0 0 0 0 0 0 0 0 0 0 0 0 0 0 0 0 0 0 0 0 0 0 0 0 0 0 0 0 0 0 0 0 0 0 0 0 0 0 0 0 0 0 0 0 0 0 0 0 0 0 0 0 0 0 0 0 0 0 0 0 0 0 0 0 0 0 0 0 0 0 0 0 0 0 0 0 0 0 0 0 0 0 0 0 0 0 0 0 0 0 0 0 0 0 0 0 0 0 0 0 0 0 0 0 0 0 0 0 0 0 0 0 0 0 0 0 0 0 0 0 0 0 0 0 0 0 0 0 0 0 0 0 0 0 0 0 0 0 0 0 0 0 0 0 0 0 0 0 0 0 0 0 0 0 0 0 0 0 0 0 0 0 0\n",
      "07/15/2021 15:15:21 - INFO - __main__ -   label_ids: -100 0 0 0 0 0 0 0 0 0 0 0 0 0 0 0 0 0 0 0 0 0 0 0 0 0 0 0 0 0 0 0 0 0 0 0 0 0 0 0 0 0 0 0 0 0 0 0 0 0 0 0 0 0 0 0 0 0 0 0 7 8 0 0 0 0 0 0 0 0 0 0 0 7 8 8 8 0 0 0 0 0 0 0 0 0 0 0 0 0 0 0 0 0 7 0 7 0 0 0 0 0 0 0 0 0 0 0 0 0 0 0 0 0 0 0 3 4 4 0 0 0 0 0 0 0 0 0 0 0 0 0 0 0 0 0 0 0 0 0 0 0 0 0 0 0 0 7 0 0 0 0 0 0 0 7 0 0 7 0 7 0 7 0 7 0 0 0 0 0 0 0 0 0 0 0 0 0 7 0 0 7 8 0 0 0 0 0 0 0 0 0 0 7 8 0 0 0 0 0 0 0 0 0 0 0 0 0 0 0 0 7 0 7 0 7 0 0 0 0 0 0 0 0 0 0 0 0 0 3 4 0 0 3 0 0 0 0 0 7 0 0 0 0 0 0 0 0 0 0 0 7 8 0 0 0 0 0 0 0 7 8 0 7 0 0 0 0 0 0 0 0 0 0 0 0 0 0 0 0 0 0 0 0 0 0 0 0 0 0 0 0 0 0 0 0 0 0 0 0 0 0 0 0 0 0 0 0 0 0 0 0 0 0 0 0 0 0 0 0 0 0 0 0 0 0 0 0 0 0 0 0 0 0 0 0 0 0 0 0 0 0 0 0 0 0 0 0 0 0 0 0 0 0 0 0 0 0 0 0 0 0 0 0 0 0 0 0 0 0 0 0 0 0 0 0 0 0 0 0 0 0 0 0 0 0 0 0 0 0 0 0 0 0 0 0 0 -100 -100 -100 -100 -100 -100 -100 -100 -100 -100 -100 -100 -100 -100 -100 -100 -100 -100 -100 -100 -100 -100 -100 -100 -100 -100 -100 -100 -100 -100 -100 -100 -100 -100 -100 -100 -100 -100 -100 -100 -100 -100 -100 -100 -100 -100 -100 -100 -100 -100 -100 -100 -100 -100 -100 -100 -100 -100 -100 -100 -100 -100 -100 -100 -100 -100 -100 -100 -100 -100 -100 -100 -100 -100 -100 -100 -100 -100 -100 -100 -100 -100 -100 -100 -100 -100 -100 -100 -100 -100 -100 -100 -100 -100 -100 -100 -100 -100 -100 -100 -100 -100 -100 -100 -100 -100 -100 -100 -100 -100 -100 -100 -100 -100 -100\n",
      "07/15/2021 15:15:21 - INFO - __main__ -   start_ids: -100 0 0 0 0 0 0 0 0 0 0 0 0 0 0 0 0 0 0 0 0 0 0 0 0 0 0 0 0 0 0 0 0 0 0 0 0 0 0 0 0 0 0 0 0 0 0 0 0 0 0 0 0 0 0 0 0 0 0 0 4 0 0 0 0 0 0 0 0 0 0 0 0 4 0 0 0 0 0 0 0 0 0 0 0 0 0 0 0 0 0 0 0 0 4 0 4 0 0 0 0 0 0 0 0 0 0 0 0 0 0 0 0 0 0 0 2 0 0 0 0 0 0 0 0 0 0 0 0 0 0 0 0 0 0 0 0 0 0 0 0 0 0 0 0 0 0 4 0 0 0 0 0 0 0 4 0 0 4 0 4 0 4 0 4 0 0 0 0 0 0 0 0 0 0 0 0 0 4 0 0 4 0 0 0 0 0 0 0 0 0 0 0 4 0 0 0 0 0 0 0 0 0 0 0 0 0 0 0 0 0 4 0 4 0 4 0 0 0 0 0 0 0 0 0 0 0 0 0 2 0 0 0 2 0 0 0 0 0 4 0 0 0 0 0 0 0 0 0 0 0 4 0 0 0 0 0 0 0 0 4 0 0 4 0 0 0 0 0 0 0 0 0 0 0 0 0 0 0 0 0 0 0 0 0 0 0 0 0 0 0 0 0 0 0 0 0 0 0 0 0 0 0 0 0 0 0 0 0 0 0 0 0 0 0 0 0 0 0 0 0 0 0 0 0 0 0 0 0 0 0 0 0 0 0 0 0 0 0 0 0 0 0 0 0 0 0 0 0 0 0 0 0 0 0 0 0 0 0 0 0 0 0 0 0 0 0 0 0 0 0 0 0 0 0 0 0 0 0 0 0 0 0 0 0 0 0 0 0 0 0 0 0 0 0 0 0 -100 -100 -100 -100 -100 -100 -100 -100 -100 -100 -100 -100 -100 -100 -100 -100 -100 -100 -100 -100 -100 -100 -100 -100 -100 -100 -100 -100 -100 -100 -100 -100 -100 -100 -100 -100 -100 -100 -100 -100 -100 -100 -100 -100 -100 -100 -100 -100 -100 -100 -100 -100 -100 -100 -100 -100 -100 -100 -100 -100 -100 -100 -100 -100 -100 -100 -100 -100 -100 -100 -100 -100 -100 -100 -100 -100 -100 -100 -100 -100 -100 -100 -100 -100 -100 -100 -100 -100 -100 -100 -100 -100 -100 -100 -100 -100 -100 -100 -100 -100 -100 -100 -100 -100 -100 -100 -100 -100 -100 -100 -100 -100 -100 -100 -100\n",
      "07/15/2021 15:15:21 - INFO - __main__ -   end_ids: -100 0 0 0 0 0 0 0 0 0 0 0 0 0 0 0 0 0 0 0 0 0 0 0 0 0 0 0 0 0 0 0 0 0 0 0 0 0 0 0 0 0 0 0 0 0 0 0 0 0 0 0 0 0 0 0 0 0 0 0 0 4 0 0 0 0 0 0 0 0 0 0 0 0 0 0 4 0 0 0 0 0 0 0 0 0 0 0 0 0 0 0 0 0 4 0 4 0 0 0 0 0 0 0 0 0 0 0 0 0 0 0 0 0 0 0 0 0 2 0 0 0 0 0 0 0 0 0 0 0 0 0 0 0 0 0 0 0 0 0 0 0 0 0 0 0 0 4 0 0 0 0 0 0 0 4 0 0 4 0 4 0 4 0 4 0 0 0 0 0 0 0 0 0 0 0 0 0 4 0 0 0 4 0 0 0 0 0 0 0 0 0 0 0 4 0 0 0 0 0 0 0 0 0 0 0 0 0 0 0 0 4 0 4 0 4 0 0 0 0 0 0 0 0 0 0 0 0 0 0 2 0 0 2 0 0 0 0 0 4 0 0 0 0 0 0 0 0 0 0 0 0 4 0 0 0 0 0 0 0 0 4 0 4 0 0 0 0 0 0 0 0 0 0 0 0 0 0 0 0 0 0 0 0 0 0 0 0 0 0 0 0 0 0 0 0 0 0 0 0 0 0 0 0 0 0 0 0 0 0 0 0 0 0 0 0 0 0 0 0 0 0 0 0 0 0 0 0 0 0 0 0 0 0 0 0 0 0 0 0 0 0 0 0 0 0 0 0 0 0 0 0 0 0 0 0 0 0 0 0 0 0 0 0 0 0 0 0 0 0 0 0 0 0 0 0 0 0 0 0 0 0 0 0 0 0 0 0 0 0 0 0 0 0 0 0 0 -100 -100 -100 -100 -100 -100 -100 -100 -100 -100 -100 -100 -100 -100 -100 -100 -100 -100 -100 -100 -100 -100 -100 -100 -100 -100 -100 -100 -100 -100 -100 -100 -100 -100 -100 -100 -100 -100 -100 -100 -100 -100 -100 -100 -100 -100 -100 -100 -100 -100 -100 -100 -100 -100 -100 -100 -100 -100 -100 -100 -100 -100 -100 -100 -100 -100 -100 -100 -100 -100 -100 -100 -100 -100 -100 -100 -100 -100 -100 -100 -100 -100 -100 -100 -100 -100 -100 -100 -100 -100 -100 -100 -100 -100 -100 -100 -100 -100 -100 -100 -100 -100 -100 -100 -100 -100 -100 -100 -100 -100 -100 -100 -100 -100 -100\n",
      "07/15/2021 15:15:21 - INFO - __main__ -   *** Example ***\n",
      "07/15/2021 15:15:21 - INFO - __main__ -   guid: dev-5\n",
      "07/15/2021 15:15:21 - INFO - __main__ -   tokens: [CLS] # cloud ##nat ##ive what you get from us success is what you make it . at sap , we help you make it your own . a career at sap can open many doors for you . if you re searching for a company that s dedicated to your ideas and individual growth , recognizes you for your unique contributions , fills you with a strong sense of purpose , and provides a fun , flexible and inclusive work environment apply now . sap ' s diversity commitment to harness the power of innovation , sap invest ##s in the development of its diverse employees . we as ##pire to leverage the qualities and appreciate the unique compete ##ncies that each person brings to the company . sap is committed to the principles of equal employment opportunity and to providing reasonable accommodations to applicants with physical and / or mental disabilities . if you are in need of accommodation or special assistance to navigate our website or to complete your application , please send an e - mail with your request to recruiting operations team ( americas : careers . north ##ame ##rica @ sap . com or careers . latin ##ame ##rica @ sap . com , ap ##j : careers . ap ##j @ sap . com , em ##ea : careers @ sap . com ) . successful candidates might be required to undergo a background verification with an external vendor . additional locations : [SEP]\n",
      "07/15/2021 15:15:21 - INFO - __main__ -   valid_mask: 1 1 1 0 0 1 1 1 1 1 1 1 1 1 1 1 1 1 1 1 1 1 1 1 1 1 1 1 1 1 1 1 1 1 1 1 1 1 1 1 1 1 1 1 1 1 1 1 1 1 1 1 1 1 1 1 1 1 1 1 1 1 1 1 1 1 1 1 1 1 1 1 1 1 1 1 1 1 1 1 1 1 1 1 1 1 1 0 1 1 1 1 1 1 1 1 1 1 1 0 1 1 1 1 1 1 1 1 1 1 0 1 1 1 1 1 1 1 1 1 0 1 1 1 1 1 1 1 1 1 1 1 1 1 1 1 1 1 1 1 1 1 1 1 1 1 1 1 1 0 0 1 1 1 1 1 1 1 1 1 1 1 1 1 1 1 1 1 1 1 1 1 1 1 1 1 1 1 1 1 1 1 1 1 1 1 1 1 1 1 1 0 0 0 0 0 0 0 0 1 1 0 0 0 0 0 0 0 0 1 1 0 1 1 0 0 0 0 0 0 0 1 1 0 1 1 0 0 0 0 1 1 1 1 1 1 1 1 1 1 1 1 1 1 1 1 1 1 1 1 1 0 0 0 0 0 0 0 0 0 0 0 0 0 0 0 0 0 0 0 0 0 0 0 0 0 0 0 0 0 0 0 0 0 0 0 0 0 0 0 0 0 0 0 0 0 0 0 0 0 0 0 0 0 0 0 0 0 0 0 0 0 0 0 0 0 0 0 0 0 0 0 0 0 0 0 0 0 0 0 0 0 0 0 0 0 0 0 0 0 0 0 0 0 0 0 0 0 0 0 0 0 0 0 0 0 0 0 0 0 0 0 0 0 0 0 0 0 0 0 0 0 0 0 0 0 0 0 0 0 0 0 0 0 0 0 0 0 0 0 0 0 0 0 0 0 0 0 0 0 0 0 0 0 0 0 0 0 0 0 0 0 0 0 0 0 0 0 0 0 0 0 0 0 0 0 0 0 0 0 0 0 0 0 0 0 0 0 0 0 0 0 0 0 0 0 0 0 0 0 0 0 0 0 0 0 0 0 0 0 0 0 0 0 0 0 0 0 0 0 0 0 0 0 0 0 0 0 0 0 0 0 0 0 0 0 0 0 0 0 0 0 0 0 0 0 0 0 0 0 0 0 0 0 0 0 0 0 0 0 0 0\n",
      "07/15/2021 15:15:21 - INFO - __main__ -   input_ids: 101 1001 6112 19833 3512 2054 2017 2131 2013 2149 3112 2003 2054 2017 2191 2009 1012 2012 20066 1010 2057 2393 2017 2191 2009 2115 2219 1012 1037 2476 2012 20066 2064 2330 2116 4303 2005 2017 1012 2065 2017 2128 6575 2005 1037 2194 2008 1055 4056 2000 2115 4784 1998 3265 3930 1010 14600 2017 2005 2115 4310 5857 1010 17469 2017 2007 1037 2844 3168 1997 3800 1010 1998 3640 1037 4569 1010 12379 1998 18678 2147 4044 6611 2085 1012 20066 1005 1055 8906 8426 2000 17445 1996 2373 1997 8144 1010 20066 15697 2015 1999 1996 2458 1997 2049 7578 5126 1012 2057 2004 20781 2000 21155 1996 11647 1998 9120 1996 4310 5566 14767 2008 2169 2711 7545 2000 1996 2194 1012 20066 2003 5462 2000 1996 6481 1997 5020 6107 4495 1998 2000 4346 9608 26167 2000 17362 2007 3558 1998 1013 2030 5177 13597 1012 2065 2017 2024 1999 2342 1997 11366 2030 2569 5375 2000 22149 2256 4037 2030 2000 3143 2115 4646 1010 3531 4604 2019 1041 1011 5653 2007 2115 5227 2000 14357 3136 2136 1006 10925 1024 10922 1012 2167 14074 14735 1030 20066 1012 4012 2030 10922 1012 3763 14074 14735 1030 20066 1012 4012 1010 9706 3501 1024 10922 1012 9706 3501 1030 20066 1012 4012 1010 7861 5243 1024 10922 1030 20066 1012 4012 1007 1012 3144 5347 2453 2022 3223 2000 13595 1037 4281 22616 2007 2019 6327 21431 1012 3176 5269 1024 102 0 0 0 0 0 0 0 0 0 0 0 0 0 0 0 0 0 0 0 0 0 0 0 0 0 0 0 0 0 0 0 0 0 0 0 0 0 0 0 0 0 0 0 0 0 0 0 0 0 0 0 0 0 0 0 0 0 0 0 0 0 0 0 0 0 0 0 0 0 0 0 0 0 0 0 0 0 0 0 0 0 0 0 0 0 0 0 0 0 0 0 0 0 0 0 0 0 0 0 0 0 0 0 0 0 0 0 0 0 0 0 0 0 0 0 0 0 0 0 0 0 0 0 0 0 0 0 0 0 0 0 0 0 0 0 0 0 0 0 0 0 0 0 0 0 0 0 0 0 0 0 0 0 0 0 0 0 0 0 0 0 0 0 0 0 0 0 0 0 0 0 0 0 0 0 0 0 0 0 0 0 0 0 0 0 0 0 0 0 0 0 0 0 0 0 0 0 0 0 0 0 0 0 0 0 0 0 0 0 0 0 0 0 0 0 0 0 0 0 0 0 0 0 0 0 0 0 0 0 0 0 0 0 0 0 0 0 0 0 0 0 0 0 0 0 0 0 0 0 0 0 0 0 0 0 0 0 0 0 0 0\n"
     ]
    },
    {
     "name": "stderr",
     "output_type": "stream",
     "text": [
      "07/15/2021 15:15:21 - INFO - __main__ -   input_mask: 1 1 1 1 1 1 1 1 1 1 1 1 1 1 1 1 1 1 1 1 1 1 1 1 1 1 1 1 1 1 1 1 1 1 1 1 1 1 1 1 1 1 1 1 1 1 1 1 1 1 1 1 1 1 1 1 1 1 1 1 1 1 1 1 1 1 1 1 1 1 1 1 1 1 1 1 1 1 1 1 1 1 1 1 1 1 1 1 1 1 1 1 1 1 1 1 1 1 1 1 1 1 1 1 1 1 1 1 1 1 1 1 1 1 1 1 1 1 1 1 1 1 1 1 1 1 1 1 1 1 1 1 1 1 1 1 1 1 1 1 1 1 1 1 1 1 1 1 1 1 1 1 1 1 1 1 1 1 1 1 1 1 1 1 1 1 1 1 1 1 1 1 1 1 1 1 1 1 1 1 1 1 1 1 1 1 1 1 1 1 1 1 1 1 1 1 1 1 1 1 1 1 1 1 1 1 1 1 1 1 1 1 1 1 1 1 1 1 1 1 1 1 1 1 1 1 1 1 1 1 1 1 1 1 1 1 1 1 1 1 1 1 1 1 1 1 1 1 1 1 1 0 0 0 0 0 0 0 0 0 0 0 0 0 0 0 0 0 0 0 0 0 0 0 0 0 0 0 0 0 0 0 0 0 0 0 0 0 0 0 0 0 0 0 0 0 0 0 0 0 0 0 0 0 0 0 0 0 0 0 0 0 0 0 0 0 0 0 0 0 0 0 0 0 0 0 0 0 0 0 0 0 0 0 0 0 0 0 0 0 0 0 0 0 0 0 0 0 0 0 0 0 0 0 0 0 0 0 0 0 0 0 0 0 0 0 0 0 0 0 0 0 0 0 0 0 0 0 0 0 0 0 0 0 0 0 0 0 0 0 0 0 0 0 0 0 0 0 0 0 0 0 0 0 0 0 0 0 0 0 0 0 0 0 0 0 0 0 0 0 0 0 0 0 0 0 0 0 0 0 0 0 0 0 0 0 0 0 0 0 0 0 0 0 0 0 0 0 0 0 0 0 0 0 0 0 0 0 0 0 0 0 0 0 0 0 0 0 0 0 0 0 0 0 0 0 0 0 0 0 0 0 0 0 0 0 0 0 0 0 0 0 0 0 0 0 0 0 0 0 0 0 0 0 0 0 0 0 0 0 0 0\n",
      "07/15/2021 15:15:21 - INFO - __main__ -   segment_ids: 0 0 0 0 0 0 0 0 0 0 0 0 0 0 0 0 0 0 0 0 0 0 0 0 0 0 0 0 0 0 0 0 0 0 0 0 0 0 0 0 0 0 0 0 0 0 0 0 0 0 0 0 0 0 0 0 0 0 0 0 0 0 0 0 0 0 0 0 0 0 0 0 0 0 0 0 0 0 0 0 0 0 0 0 0 0 0 0 0 0 0 0 0 0 0 0 0 0 0 0 0 0 0 0 0 0 0 0 0 0 0 0 0 0 0 0 0 0 0 0 0 0 0 0 0 0 0 0 0 0 0 0 0 0 0 0 0 0 0 0 0 0 0 0 0 0 0 0 0 0 0 0 0 0 0 0 0 0 0 0 0 0 0 0 0 0 0 0 0 0 0 0 0 0 0 0 0 0 0 0 0 0 0 0 0 0 0 0 0 0 0 0 0 0 0 0 0 0 0 0 0 0 0 0 0 0 0 0 0 0 0 0 0 0 0 0 0 0 0 0 0 0 0 0 0 0 0 0 0 0 0 0 0 0 0 0 0 0 0 0 0 0 0 0 0 0 0 0 0 0 0 0 0 0 0 0 0 0 0 0 0 0 0 0 0 0 0 0 0 0 0 0 0 0 0 0 0 0 0 0 0 0 0 0 0 0 0 0 0 0 0 0 0 0 0 0 0 0 0 0 0 0 0 0 0 0 0 0 0 0 0 0 0 0 0 0 0 0 0 0 0 0 0 0 0 0 0 0 0 0 0 0 0 0 0 0 0 0 0 0 0 0 0 0 0 0 0 0 0 0 0 0 0 0 0 0 0 0 0 0 0 0 0 0 0 0 0 0 0 0 0 0 0 0 0 0 0 0 0 0 0 0 0 0 0 0 0 0 0 0 0 0 0 0 0 0 0 0 0 0 0 0 0 0 0 0 0 0 0 0 0 0 0 0 0 0 0 0 0 0 0 0 0 0 0 0 0 0 0 0 0 0 0 0 0 0 0 0 0 0 0 0 0 0 0 0 0 0 0 0 0 0 0 0 0 0 0 0 0 0 0 0 0 0 0 0 0 0 0 0 0 0 0 0 0 0 0 0 0 0 0 0 0 0 0 0 0 0 0 0 0 0 0 0 0 0 0 0 0 0 0 0 0 0 0 0 0 0 0 0 0 0\n",
      "07/15/2021 15:15:21 - INFO - __main__ -   label_ids: -100 0 0 0 0 0 0 0 0 0 0 0 0 0 0 0 0 0 0 0 0 0 0 0 0 0 0 0 0 0 0 0 0 0 0 0 0 0 0 0 0 0 0 0 0 0 0 0 0 0 0 0 0 0 0 0 0 0 0 0 0 0 0 0 0 0 0 0 0 0 0 0 0 0 0 0 0 0 0 0 0 0 0 0 0 0 0 0 0 0 0 0 0 0 0 0 0 0 0 0 0 0 0 0 0 0 0 0 0 0 0 0 0 0 0 0 0 0 0 0 0 0 0 0 0 0 0 0 0 0 0 0 0 0 0 0 0 0 0 0 0 0 0 0 0 0 0 0 0 0 0 0 0 0 0 0 0 0 0 0 0 0 0 0 0 0 0 0 0 0 0 0 0 0 0 0 0 0 0 0 0 0 0 0 0 0 0 0 0 0 0 0 0 0 0 0 0 0 0 0 0 0 0 0 0 0 0 0 0 0 0 0 0 -100 -100 -100 -100 -100 -100 -100 -100 -100 -100 -100 -100 -100 -100 -100 -100 -100 -100 -100 -100 -100 -100 -100 -100 -100 -100 -100 -100 -100 -100 -100 -100 -100 -100 -100 -100 -100 -100 -100 -100 -100 -100 -100 -100 -100 -100 -100 -100 -100 -100 -100 -100 -100 -100 -100 -100 -100 -100 -100 -100 -100 -100 -100 -100 -100 -100 -100 -100 -100 -100 -100 -100 -100 -100 -100 -100 -100 -100 -100 -100 -100 -100 -100 -100 -100 -100 -100 -100 -100 -100 -100 -100 -100 -100 -100 -100 -100 -100 -100 -100 -100 -100 -100 -100 -100 -100 -100 -100 -100 -100 -100 -100 -100 -100 -100 -100 -100 -100 -100 -100 -100 -100 -100 -100 -100 -100 -100 -100 -100 -100 -100 -100 -100 -100 -100 -100 -100 -100 -100 -100 -100 -100 -100 -100 -100 -100 -100 -100 -100 -100 -100 -100 -100 -100 -100 -100 -100 -100 -100 -100 -100 -100 -100 -100 -100 -100 -100 -100 -100 -100 -100 -100 -100 -100 -100 -100 -100 -100 -100 -100 -100 -100 -100 -100 -100 -100 -100 -100 -100 -100 -100 -100 -100 -100 -100 -100 -100 -100 -100 -100 -100 -100 -100 -100 -100 -100 -100 -100 -100 -100 -100 -100 -100 -100 -100 -100 -100 -100 -100 -100 -100 -100 -100 -100 -100 -100 -100 -100 -100 -100 -100 -100 -100 -100 -100 -100 -100 -100 -100 -100 -100 -100 -100 -100 -100 -100 -100 -100 -100 -100 -100 -100 -100 -100 -100 -100 -100 -100 -100 -100 -100 -100 -100 -100 -100 -100 -100 -100 -100 -100 -100 -100 -100 -100 -100 -100 -100 -100 -100 -100 -100 -100 -100 -100 -100 -100 -100 -100 -100 -100 -100 -100 -100 -100 -100 -100 -100 -100 -100\n",
      "07/15/2021 15:15:21 - INFO - __main__ -   start_ids: -100 0 0 0 0 0 0 0 0 0 0 0 0 0 0 0 0 0 0 0 0 0 0 0 0 0 0 0 0 0 0 0 0 0 0 0 0 0 0 0 0 0 0 0 0 0 0 0 0 0 0 0 0 0 0 0 0 0 0 0 0 0 0 0 0 0 0 0 0 0 0 0 0 0 0 0 0 0 0 0 0 0 0 0 0 0 0 0 0 0 0 0 0 0 0 0 0 0 0 0 0 0 0 0 0 0 0 0 0 0 0 0 0 0 0 0 0 0 0 0 0 0 0 0 0 0 0 0 0 0 0 0 0 0 0 0 0 0 0 0 0 0 0 0 0 0 0 0 0 0 0 0 0 0 0 0 0 0 0 0 0 0 0 0 0 0 0 0 0 0 0 0 0 0 0 0 0 0 0 0 0 0 0 0 0 0 0 0 0 0 0 0 0 0 0 0 0 0 0 0 0 0 0 0 0 0 0 0 0 0 0 0 0 -100 -100 -100 -100 -100 -100 -100 -100 -100 -100 -100 -100 -100 -100 -100 -100 -100 -100 -100 -100 -100 -100 -100 -100 -100 -100 -100 -100 -100 -100 -100 -100 -100 -100 -100 -100 -100 -100 -100 -100 -100 -100 -100 -100 -100 -100 -100 -100 -100 -100 -100 -100 -100 -100 -100 -100 -100 -100 -100 -100 -100 -100 -100 -100 -100 -100 -100 -100 -100 -100 -100 -100 -100 -100 -100 -100 -100 -100 -100 -100 -100 -100 -100 -100 -100 -100 -100 -100 -100 -100 -100 -100 -100 -100 -100 -100 -100 -100 -100 -100 -100 -100 -100 -100 -100 -100 -100 -100 -100 -100 -100 -100 -100 -100 -100 -100 -100 -100 -100 -100 -100 -100 -100 -100 -100 -100 -100 -100 -100 -100 -100 -100 -100 -100 -100 -100 -100 -100 -100 -100 -100 -100 -100 -100 -100 -100 -100 -100 -100 -100 -100 -100 -100 -100 -100 -100 -100 -100 -100 -100 -100 -100 -100 -100 -100 -100 -100 -100 -100 -100 -100 -100 -100 -100 -100 -100 -100 -100 -100 -100 -100 -100 -100 -100 -100 -100 -100 -100 -100 -100 -100 -100 -100 -100 -100 -100 -100 -100 -100 -100 -100 -100 -100 -100 -100 -100 -100 -100 -100 -100 -100 -100 -100 -100 -100 -100 -100 -100 -100 -100 -100 -100 -100 -100 -100 -100 -100 -100 -100 -100 -100 -100 -100 -100 -100 -100 -100 -100 -100 -100 -100 -100 -100 -100 -100 -100 -100 -100 -100 -100 -100 -100 -100 -100 -100 -100 -100 -100 -100 -100 -100 -100 -100 -100 -100 -100 -100 -100 -100 -100 -100 -100 -100 -100 -100 -100 -100 -100 -100 -100 -100 -100 -100 -100 -100 -100 -100 -100 -100 -100 -100 -100 -100 -100 -100 -100 -100 -100 -100\n",
      "07/15/2021 15:15:21 - INFO - __main__ -   end_ids: -100 0 0 0 0 0 0 0 0 0 0 0 0 0 0 0 0 0 0 0 0 0 0 0 0 0 0 0 0 0 0 0 0 0 0 0 0 0 0 0 0 0 0 0 0 0 0 0 0 0 0 0 0 0 0 0 0 0 0 0 0 0 0 0 0 0 0 0 0 0 0 0 0 0 0 0 0 0 0 0 0 0 0 0 0 0 0 0 0 0 0 0 0 0 0 0 0 0 0 0 0 0 0 0 0 0 0 0 0 0 0 0 0 0 0 0 0 0 0 0 0 0 0 0 0 0 0 0 0 0 0 0 0 0 0 0 0 0 0 0 0 0 0 0 0 0 0 0 0 0 0 0 0 0 0 0 0 0 0 0 0 0 0 0 0 0 0 0 0 0 0 0 0 0 0 0 0 0 0 0 0 0 0 0 0 0 0 0 0 0 0 0 0 0 0 0 0 0 0 0 0 0 0 0 0 0 0 0 0 0 0 0 0 -100 -100 -100 -100 -100 -100 -100 -100 -100 -100 -100 -100 -100 -100 -100 -100 -100 -100 -100 -100 -100 -100 -100 -100 -100 -100 -100 -100 -100 -100 -100 -100 -100 -100 -100 -100 -100 -100 -100 -100 -100 -100 -100 -100 -100 -100 -100 -100 -100 -100 -100 -100 -100 -100 -100 -100 -100 -100 -100 -100 -100 -100 -100 -100 -100 -100 -100 -100 -100 -100 -100 -100 -100 -100 -100 -100 -100 -100 -100 -100 -100 -100 -100 -100 -100 -100 -100 -100 -100 -100 -100 -100 -100 -100 -100 -100 -100 -100 -100 -100 -100 -100 -100 -100 -100 -100 -100 -100 -100 -100 -100 -100 -100 -100 -100 -100 -100 -100 -100 -100 -100 -100 -100 -100 -100 -100 -100 -100 -100 -100 -100 -100 -100 -100 -100 -100 -100 -100 -100 -100 -100 -100 -100 -100 -100 -100 -100 -100 -100 -100 -100 -100 -100 -100 -100 -100 -100 -100 -100 -100 -100 -100 -100 -100 -100 -100 -100 -100 -100 -100 -100 -100 -100 -100 -100 -100 -100 -100 -100 -100 -100 -100 -100 -100 -100 -100 -100 -100 -100 -100 -100 -100 -100 -100 -100 -100 -100 -100 -100 -100 -100 -100 -100 -100 -100 -100 -100 -100 -100 -100 -100 -100 -100 -100 -100 -100 -100 -100 -100 -100 -100 -100 -100 -100 -100 -100 -100 -100 -100 -100 -100 -100 -100 -100 -100 -100 -100 -100 -100 -100 -100 -100 -100 -100 -100 -100 -100 -100 -100 -100 -100 -100 -100 -100 -100 -100 -100 -100 -100 -100 -100 -100 -100 -100 -100 -100 -100 -100 -100 -100 -100 -100 -100 -100 -100 -100 -100 -100 -100 -100 -100 -100 -100 -100 -100 -100 -100 -100 -100 -100 -100 -100 -100 -100 -100 -100 -100 -100 -100\n",
      "07/15/2021 15:15:23 - INFO - __main__ -   Saving features into cached file ./datasets/cached_dev_mlm_model_uncased_tech_line_by_line_512\n"
     ]
    },
    {
     "name": "stderr",
     "output_type": "stream",
     "text": [
      "07/15/2021 15:15:23 - INFO - __main__ -   ***** Running evaluation 25 *****\n",
      "07/15/2021 15:15:23 - INFO - __main__ -     Num examples = 94\n",
      "07/15/2021 15:15:23 - INFO - __main__ -     Batch size = 16\n"
     ]
    },
    {
     "data": {
      "application/vnd.jupyter.widget-view+json": {
       "model_id": "e3648d6ead00499d83a0b41a9d3ac639",
       "version_major": 2,
       "version_minor": 0
      },
      "text/plain": [
       "Evaluating:   0%|          | 0/6 [00:00<?, ?it/s]"
      ]
     },
     "metadata": {},
     "output_type": "display_data"
    },
    {
     "name": "stderr",
     "output_type": "stream",
     "text": [
      "07/15/2021 15:15:29 - INFO - __main__ -   ***** Eval results 25 *****\n",
      "07/15/2021 15:15:29 - INFO - __main__ -   f1 = 0\n",
      "07/15/2021 15:15:29 - INFO - __main__ -   loss = 878.9679209391276\n",
      "07/15/2021 15:15:29 - INFO - __main__ -   report =                precision    recall  f1-score   support\n",
      "\n",
      "        POWER    0.00000   0.00000   0.00000       162\n",
      "         TECH    0.00000   0.00000   0.00000       453\n",
      "          SAP    0.00000   0.00000   0.00000        14\n",
      "         FUNC    0.00000   0.00000   0.00000        31\n",
      "QUALIFICATION    0.00000   0.00000   0.00000        18\n",
      "\n",
      "    micro avg    0.00000   0.00000   0.00000       678\n",
      "    macro avg    0.00000   0.00000   0.00000       678\n",
      "\n",
      "07/15/2021 15:15:29 - INFO - __main__ -   tech_f1 = 0\n",
      "07/15/2021 15:16:13 - INFO - __main__ -   Loading features from cached file ./datasets/cached_dev_mlm_model_uncased_tech_line_by_line_512\n",
      "07/15/2021 15:16:13 - INFO - __main__ -   ***** Running evaluation 50 *****\n",
      "07/15/2021 15:16:13 - INFO - __main__ -     Num examples = 94\n",
      "07/15/2021 15:16:13 - INFO - __main__ -     Batch size = 16\n"
     ]
    },
    {
     "data": {
      "application/vnd.jupyter.widget-view+json": {
       "model_id": "e1db76d77efc437eb3cc732241fd09f8",
       "version_major": 2,
       "version_minor": 0
      },
      "text/plain": [
       "Evaluating:   0%|          | 0/6 [00:00<?, ?it/s]"
      ]
     },
     "metadata": {},
     "output_type": "display_data"
    },
    {
     "name": "stderr",
     "output_type": "stream",
     "text": [
      "07/15/2021 15:16:19 - INFO - __main__ -   ***** Eval results 50 *****\n",
      "07/15/2021 15:16:19 - INFO - __main__ -   f1 = 0.3130990415335463\n",
      "07/15/2021 15:16:19 - INFO - __main__ -   loss = 583.127207438151\n",
      "07/15/2021 15:16:19 - INFO - __main__ -   report =                precision    recall  f1-score   support\n",
      "\n",
      "        POWER    0.00000   0.00000   0.00000       162\n",
      "         TECH    0.56322   0.32450   0.41176       453\n",
      "          SAP    0.00000   0.00000   0.00000        14\n",
      "         FUNC    0.00000   0.00000   0.00000        31\n",
      "QUALIFICATION    0.00000   0.00000   0.00000        18\n",
      "\n",
      "    micro avg    0.56322   0.21681   0.31310       678\n",
      "    macro avg    0.37631   0.21681   0.27512       678\n",
      "\n",
      "07/15/2021 15:16:19 - INFO - __main__ -   tech_f1 = 0.4117647058823529\n",
      "07/15/2021 15:16:19 - INFO - transformers.configuration_utils -   Configuration saved in ./model_crf_uncased_tech/best_checkpoint/config.json\n",
      "07/15/2021 15:16:19 - INFO - transformers.modeling_utils -   Model weights saved in ./model_crf_uncased_tech/best_checkpoint/pytorch_model.bin\n",
      "07/15/2021 15:16:19 - INFO - __main__ -   Saving model checkpoint to ./model_crf_uncased_tech/best_checkpoint\n",
      "07/15/2021 15:16:20 - INFO - __main__ -   Saving optimizer and scheduler states to ./model_crf_uncased_tech/best_checkpoint\n"
     ]
    },
    {
     "data": {
      "application/vnd.jupyter.widget-view+json": {
       "model_id": "97724b29ef344b478f1e6613f98b2eef",
       "version_major": 2,
       "version_minor": 0
      },
      "text/plain": [
       "Iteration:   0%|          | 0/50 [00:00<?, ?it/s]"
      ]
     },
     "metadata": {},
     "output_type": "display_data"
    },
    {
     "name": "stderr",
     "output_type": "stream",
     "text": [
      "07/15/2021 15:17:05 - INFO - __main__ -   Loading features from cached file ./datasets/cached_dev_mlm_model_uncased_tech_line_by_line_512\n",
      "07/15/2021 15:17:05 - INFO - __main__ -   ***** Running evaluation 75 *****\n",
      "07/15/2021 15:17:05 - INFO - __main__ -     Num examples = 94\n",
      "07/15/2021 15:17:05 - INFO - __main__ -     Batch size = 16\n"
     ]
    },
    {
     "data": {
      "application/vnd.jupyter.widget-view+json": {
       "model_id": "e9e66aa0d3b742e48f2c22222401e7d5",
       "version_major": 2,
       "version_minor": 0
      },
      "text/plain": [
       "Evaluating:   0%|          | 0/6 [00:00<?, ?it/s]"
      ]
     },
     "metadata": {},
     "output_type": "display_data"
    },
    {
     "name": "stderr",
     "output_type": "stream",
     "text": [
      "07/15/2021 15:17:10 - INFO - __main__ -   ***** Eval results 75 *****\n",
      "07/15/2021 15:17:10 - INFO - __main__ -   f1 = 0.4840370751802266\n",
      "07/15/2021 15:17:10 - INFO - __main__ -   loss = 443.4645538330078\n",
      "07/15/2021 15:17:10 - INFO - __main__ -   report =                precision    recall  f1-score   support\n",
      "\n",
      "        POWER    0.71875   0.14198   0.23711       162\n",
      "         TECH    0.81226   0.46799   0.59384       453\n",
      "          SAP    0.00000   0.00000   0.00000        14\n",
      "         FUNC    0.00000   0.00000   0.00000        31\n",
      "QUALIFICATION    0.00000   0.00000   0.00000        18\n",
      "\n",
      "    micro avg    0.80205   0.34661   0.48404       678\n",
      "    macro avg    0.71444   0.34661   0.45342       678\n",
      "\n",
      "07/15/2021 15:17:10 - INFO - __main__ -   tech_f1 = 0.5938375350140056\n",
      "07/15/2021 15:17:10 - INFO - transformers.configuration_utils -   Configuration saved in ./model_crf_uncased_tech/best_checkpoint/config.json\n",
      "07/15/2021 15:17:13 - INFO - transformers.modeling_utils -   Model weights saved in ./model_crf_uncased_tech/best_checkpoint/pytorch_model.bin\n",
      "07/15/2021 15:17:13 - INFO - __main__ -   Saving model checkpoint to ./model_crf_uncased_tech/best_checkpoint\n",
      "07/15/2021 15:17:19 - INFO - __main__ -   Saving optimizer and scheduler states to ./model_crf_uncased_tech/best_checkpoint\n",
      "07/15/2021 15:18:02 - INFO - __main__ -   Loading features from cached file ./datasets/cached_dev_mlm_model_uncased_tech_line_by_line_512\n",
      "07/15/2021 15:18:02 - INFO - __main__ -   ***** Running evaluation 100 *****\n",
      "07/15/2021 15:18:02 - INFO - __main__ -     Num examples = 94\n",
      "07/15/2021 15:18:02 - INFO - __main__ -     Batch size = 16\n"
     ]
    },
    {
     "data": {
      "application/vnd.jupyter.widget-view+json": {
       "model_id": "521f903fd2854ba99fe5a2aebaeee55e",
       "version_major": 2,
       "version_minor": 0
      },
      "text/plain": [
       "Evaluating:   0%|          | 0/6 [00:00<?, ?it/s]"
      ]
     },
     "metadata": {},
     "output_type": "display_data"
    },
    {
     "name": "stderr",
     "output_type": "stream",
     "text": [
      "07/15/2021 15:18:08 - INFO - __main__ -   ***** Eval results 100 *****\n",
      "07/15/2021 15:18:08 - INFO - __main__ -   f1 = 0.5430140329469189\n",
      "07/15/2021 15:18:08 - INFO - __main__ -   loss = 444.39964803059894\n",
      "07/15/2021 15:18:08 - INFO - __main__ -   report =                precision    recall  f1-score   support\n",
      "\n",
      "        POWER    0.39130   0.66667   0.49315       162\n",
      "         TECH    0.48946   0.71744   0.58192       453\n",
      "          SAP    0.00000   0.00000   0.00000        14\n",
      "         FUNC    1.00000   0.03226   0.06250        31\n",
      "QUALIFICATION    0.55000   0.61111   0.57895        18\n",
      "\n",
      "    micro avg    0.46306   0.65634   0.54301       678\n",
      "    macro avg    0.48085   0.65634   0.52486       678\n",
      "\n",
      "07/15/2021 15:18:08 - INFO - __main__ -   tech_f1 = 0.5819158460161146\n"
     ]
    },
    {
     "data": {
      "application/vnd.jupyter.widget-view+json": {
       "model_id": "50bfb12a3cb541e48213bdd97aca2dfd",
       "version_major": 2,
       "version_minor": 0
      },
      "text/plain": [
       "Iteration:   0%|          | 0/50 [00:00<?, ?it/s]"
      ]
     },
     "metadata": {},
     "output_type": "display_data"
    },
    {
     "name": "stderr",
     "output_type": "stream",
     "text": [
      "07/15/2021 15:18:53 - INFO - __main__ -   Loading features from cached file ./datasets/cached_dev_mlm_model_uncased_tech_line_by_line_512\n",
      "07/15/2021 15:18:53 - INFO - __main__ -   ***** Running evaluation 125 *****\n",
      "07/15/2021 15:18:53 - INFO - __main__ -     Num examples = 94\n",
      "07/15/2021 15:18:53 - INFO - __main__ -     Batch size = 16\n"
     ]
    },
    {
     "data": {
      "application/vnd.jupyter.widget-view+json": {
       "model_id": "c565a368a3da41cda3dd6015ad105a3c",
       "version_major": 2,
       "version_minor": 0
      },
      "text/plain": [
       "Evaluating:   0%|          | 0/6 [00:00<?, ?it/s]"
      ]
     },
     "metadata": {},
     "output_type": "display_data"
    },
    {
     "name": "stderr",
     "output_type": "stream",
     "text": [
      "07/15/2021 15:18:59 - INFO - __main__ -   ***** Eval results 125 *****\n",
      "07/15/2021 15:18:59 - INFO - __main__ -   f1 = 0.602919708029197\n",
      "07/15/2021 15:18:59 - INFO - __main__ -   loss = 364.1466369628906\n",
      "07/15/2021 15:18:59 - INFO - __main__ -   report =                precision    recall  f1-score   support\n",
      "\n",
      "        POWER    0.47826   0.61111   0.53659       162\n",
      "         TECH    0.67824   0.64680   0.66215       453\n",
      "          SAP    0.00000   0.00000   0.00000        14\n",
      "         FUNC    0.26471   0.29032   0.27692        31\n",
      "QUALIFICATION    0.63158   0.66667   0.64865        18\n",
      "\n",
      "    micro avg    0.59682   0.60914   0.60292       678\n",
      "    macro avg    0.59631   0.60914   0.60050       678\n",
      "\n",
      "07/15/2021 15:18:59 - INFO - __main__ -   tech_f1 = 0.6621468926553672\n",
      "07/15/2021 15:18:59 - INFO - transformers.configuration_utils -   Configuration saved in ./model_crf_uncased_tech/best_checkpoint/config.json\n",
      "07/15/2021 15:19:01 - INFO - transformers.modeling_utils -   Model weights saved in ./model_crf_uncased_tech/best_checkpoint/pytorch_model.bin\n",
      "07/15/2021 15:19:01 - INFO - __main__ -   Saving model checkpoint to ./model_crf_uncased_tech/best_checkpoint\n",
      "07/15/2021 15:19:07 - INFO - __main__ -   Saving optimizer and scheduler states to ./model_crf_uncased_tech/best_checkpoint\n",
      "07/15/2021 15:19:51 - INFO - __main__ -   Loading features from cached file ./datasets/cached_dev_mlm_model_uncased_tech_line_by_line_512\n",
      "07/15/2021 15:19:51 - INFO - __main__ -   ***** Running evaluation 150 *****\n",
      "07/15/2021 15:19:51 - INFO - __main__ -     Num examples = 94\n",
      "07/15/2021 15:19:51 - INFO - __main__ -     Batch size = 16\n"
     ]
    },
    {
     "data": {
      "application/vnd.jupyter.widget-view+json": {
       "model_id": "cf93ae866fa343d4805150f6e3c35ea9",
       "version_major": 2,
       "version_minor": 0
      },
      "text/plain": [
       "Evaluating:   0%|          | 0/6 [00:00<?, ?it/s]"
      ]
     },
     "metadata": {},
     "output_type": "display_data"
    },
    {
     "name": "stderr",
     "output_type": "stream",
     "text": [
      "07/15/2021 15:19:57 - INFO - __main__ -   ***** Eval results 150 *****\n",
      "07/15/2021 15:19:57 - INFO - __main__ -   f1 = 0.5719895287958114\n",
      "07/15/2021 15:19:57 - INFO - __main__ -   loss = 381.24401601155597\n",
      "07/15/2021 15:19:57 - INFO - __main__ -   report =                precision    recall  f1-score   support\n",
      "\n",
      "        POWER    0.54305   0.50617   0.52396       162\n",
      "         TECH    0.52932   0.73731   0.61624       453\n",
      "          SAP    0.00000   0.00000   0.00000        14\n",
      "         FUNC    0.23077   0.29032   0.25714        31\n",
      "QUALIFICATION    0.41379   0.66667   0.51064        18\n",
      "\n",
      "    micro avg    0.51412   0.64454   0.57199       678\n",
      "    macro avg    0.50495   0.64454   0.56224       678\n",
      "\n",
      "07/15/2021 15:19:57 - INFO - __main__ -   tech_f1 = 0.6162361623616236\n"
     ]
    },
    {
     "data": {
      "application/vnd.jupyter.widget-view+json": {
       "model_id": "816cc4558b5e43c587def7cb57873b9d",
       "version_major": 2,
       "version_minor": 0
      },
      "text/plain": [
       "Iteration:   0%|          | 0/50 [00:00<?, ?it/s]"
      ]
     },
     "metadata": {},
     "output_type": "display_data"
    },
    {
     "name": "stderr",
     "output_type": "stream",
     "text": [
      "07/15/2021 15:20:42 - INFO - __main__ -   Loading features from cached file ./datasets/cached_dev_mlm_model_uncased_tech_line_by_line_512\n",
      "07/15/2021 15:20:42 - INFO - __main__ -   ***** Running evaluation 175 *****\n",
      "07/15/2021 15:20:42 - INFO - __main__ -     Num examples = 94\n",
      "07/15/2021 15:20:42 - INFO - __main__ -     Batch size = 16\n"
     ]
    },
    {
     "data": {
      "application/vnd.jupyter.widget-view+json": {
       "model_id": "1996abd527c347e49509b00a9e4f19bc",
       "version_major": 2,
       "version_minor": 0
      },
      "text/plain": [
       "Evaluating:   0%|          | 0/6 [00:00<?, ?it/s]"
      ]
     },
     "metadata": {},
     "output_type": "display_data"
    },
    {
     "name": "stderr",
     "output_type": "stream",
     "text": [
      "07/15/2021 15:20:47 - INFO - __main__ -   ***** Eval results 175 *****\n",
      "07/15/2021 15:20:47 - INFO - __main__ -   f1 = 0.6038233355306527\n",
      "07/15/2021 15:20:47 - INFO - __main__ -   loss = 380.48458099365234\n",
      "07/15/2021 15:20:47 - INFO - __main__ -   report =                precision    recall  f1-score   support\n",
      "\n",
      "        POWER    0.39922   0.63580   0.49048       162\n",
      "         TECH    0.63148   0.72627   0.67556       453\n",
      "          SAP    0.14286   0.14286   0.14286        14\n",
      "         FUNC    0.45000   0.29032   0.35294        31\n",
      "QUALIFICATION    0.57692   0.83333   0.68182        18\n",
      "\n",
      "    micro avg    0.54589   0.67552   0.60382       678\n",
      "    macro avg    0.55615   0.67552   0.60575       678\n",
      "\n",
      "07/15/2021 15:20:48 - INFO - __main__ -   tech_f1 = 0.6755646817248461\n",
      "07/15/2021 15:20:48 - INFO - transformers.configuration_utils -   Configuration saved in ./model_crf_uncased_tech/best_checkpoint/config.json\n",
      "07/15/2021 15:20:50 - INFO - transformers.modeling_utils -   Model weights saved in ./model_crf_uncased_tech/best_checkpoint/pytorch_model.bin\n",
      "07/15/2021 15:20:50 - INFO - __main__ -   Saving model checkpoint to ./model_crf_uncased_tech/best_checkpoint\n",
      "07/15/2021 15:20:56 - INFO - __main__ -   Saving optimizer and scheduler states to ./model_crf_uncased_tech/best_checkpoint\n",
      "07/15/2021 15:21:40 - INFO - __main__ -   Loading features from cached file ./datasets/cached_dev_mlm_model_uncased_tech_line_by_line_512\n",
      "07/15/2021 15:21:40 - INFO - __main__ -   ***** Running evaluation 200 *****\n",
      "07/15/2021 15:21:40 - INFO - __main__ -     Num examples = 94\n",
      "07/15/2021 15:21:40 - INFO - __main__ -     Batch size = 16\n"
     ]
    },
    {
     "data": {
      "application/vnd.jupyter.widget-view+json": {
       "model_id": "1a4a97ccef8d4d108a79eaf7df9d2706",
       "version_major": 2,
       "version_minor": 0
      },
      "text/plain": [
       "Evaluating:   0%|          | 0/6 [00:00<?, ?it/s]"
      ]
     },
     "metadata": {},
     "output_type": "display_data"
    },
    {
     "name": "stderr",
     "output_type": "stream",
     "text": [
      "07/15/2021 15:21:46 - INFO - __main__ -   ***** Eval results 200 *****\n",
      "07/15/2021 15:21:46 - INFO - __main__ -   f1 = 0.6240822320117475\n",
      "07/15/2021 15:21:46 - INFO - __main__ -   loss = 349.58958435058594\n",
      "07/15/2021 15:21:46 - INFO - __main__ -   report =                precision    recall  f1-score   support\n",
      "\n",
      "        POWER    0.61935   0.59259   0.60568       162\n",
      "         TECH    0.62302   0.69316   0.65622       453\n",
      "          SAP    0.00000   0.00000   0.00000        14\n",
      "         FUNC    0.50000   0.12903   0.20513        31\n",
      "QUALIFICATION    0.64706   0.61111   0.62857        18\n",
      "\n",
      "    micro avg    0.62135   0.62684   0.62408       678\n",
      "    macro avg    0.60429   0.62684   0.60923       678\n",
      "\n",
      "07/15/2021 15:21:46 - INFO - __main__ -   tech_f1 = 0.6562173458725183\n"
     ]
    },
    {
     "data": {
      "application/vnd.jupyter.widget-view+json": {
       "model_id": "dfb230eb49ff4051ad98114455c02031",
       "version_major": 2,
       "version_minor": 0
      },
      "text/plain": [
       "Iteration:   0%|          | 0/50 [00:00<?, ?it/s]"
      ]
     },
     "metadata": {},
     "output_type": "display_data"
    },
    {
     "name": "stderr",
     "output_type": "stream",
     "text": [
      "07/15/2021 15:22:30 - INFO - __main__ -   Loading features from cached file ./datasets/cached_dev_mlm_model_uncased_tech_line_by_line_512\n",
      "07/15/2021 15:22:30 - INFO - __main__ -   ***** Running evaluation 225 *****\n",
      "07/15/2021 15:22:30 - INFO - __main__ -     Num examples = 94\n",
      "07/15/2021 15:22:30 - INFO - __main__ -     Batch size = 16\n"
     ]
    },
    {
     "data": {
      "application/vnd.jupyter.widget-view+json": {
       "model_id": "df4509f0e84f42369ce1684ef0c8b90f",
       "version_major": 2,
       "version_minor": 0
      },
      "text/plain": [
       "Evaluating:   0%|          | 0/6 [00:00<?, ?it/s]"
      ]
     },
     "metadata": {},
     "output_type": "display_data"
    },
    {
     "name": "stderr",
     "output_type": "stream",
     "text": [
      "07/15/2021 15:22:36 - INFO - __main__ -   ***** Eval results 225 *****\n",
      "07/15/2021 15:22:36 - INFO - __main__ -   f1 = 0.627094972067039\n",
      "07/15/2021 15:22:36 - INFO - __main__ -   loss = 385.033208211263\n",
      "07/15/2021 15:22:36 - INFO - __main__ -   report =                precision    recall  f1-score   support\n",
      "\n",
      "        POWER    0.62745   0.59259   0.60952       162\n",
      "         TECH    0.63148   0.72627   0.67556       453\n",
      "          SAP    0.14286   0.07143   0.09524        14\n",
      "         FUNC    0.27660   0.41935   0.33333        31\n",
      "QUALIFICATION    0.38462   0.55556   0.45455        18\n",
      "\n",
      "    micro avg    0.59549   0.66224   0.62709       678\n",
      "    macro avg    0.59765   0.66224   0.62629       678\n",
      "\n",
      "07/15/2021 15:22:36 - INFO - __main__ -   tech_f1 = 0.6755646817248461\n",
      "07/15/2021 15:23:20 - INFO - __main__ -   Loading features from cached file ./datasets/cached_dev_mlm_model_uncased_tech_line_by_line_512\n",
      "07/15/2021 15:23:20 - INFO - __main__ -   ***** Running evaluation 250 *****\n",
      "07/15/2021 15:23:20 - INFO - __main__ -     Num examples = 94\n",
      "07/15/2021 15:23:20 - INFO - __main__ -     Batch size = 16\n"
     ]
    },
    {
     "data": {
      "application/vnd.jupyter.widget-view+json": {
       "model_id": "ef2ad5dd9fc44c32bbff3e7ead00d4bf",
       "version_major": 2,
       "version_minor": 0
      },
      "text/plain": [
       "Evaluating:   0%|          | 0/6 [00:00<?, ?it/s]"
      ]
     },
     "metadata": {},
     "output_type": "display_data"
    },
    {
     "name": "stderr",
     "output_type": "stream",
     "text": [
      "07/15/2021 15:23:26 - INFO - __main__ -   ***** Eval results 250 *****\n",
      "07/15/2021 15:23:26 - INFO - __main__ -   f1 = 0.5952380952380951\n",
      "07/15/2021 15:23:26 - INFO - __main__ -   loss = 425.4892272949219\n",
      "07/15/2021 15:23:26 - INFO - __main__ -   report =                precision    recall  f1-score   support\n",
      "\n",
      "        POWER    0.58580   0.61111   0.59819       162\n",
      "         TECH    0.56027   0.72848   0.63340       453\n",
      "          SAP    0.06977   0.21429   0.10526        14\n",
      "         FUNC    0.25000   0.09677   0.13953        31\n",
      "QUALIFICATION    0.71429   0.83333   0.76923        18\n",
      "\n",
      "    micro avg    0.53957   0.66372   0.59524       678\n",
      "    macro avg    0.54615   0.66372   0.59510       678\n",
      "\n",
      "07/15/2021 15:23:26 - INFO - __main__ -   tech_f1 = 0.6333973128598848\n"
     ]
    },
    {
     "data": {
      "application/vnd.jupyter.widget-view+json": {
       "model_id": "2d0a7d259bd04c2fa1274ec4d72db1b4",
       "version_major": 2,
       "version_minor": 0
      },
      "text/plain": [
       "Iteration:   0%|          | 0/50 [00:00<?, ?it/s]"
      ]
     },
     "metadata": {},
     "output_type": "display_data"
    },
    {
     "name": "stderr",
     "output_type": "stream",
     "text": [
      "07/15/2021 15:24:10 - INFO - __main__ -   Loading features from cached file ./datasets/cached_dev_mlm_model_uncased_tech_line_by_line_512\n",
      "07/15/2021 15:24:10 - INFO - __main__ -   ***** Running evaluation 275 *****\n",
      "07/15/2021 15:24:10 - INFO - __main__ -     Num examples = 94\n",
      "07/15/2021 15:24:10 - INFO - __main__ -     Batch size = 16\n"
     ]
    },
    {
     "data": {
      "application/vnd.jupyter.widget-view+json": {
       "model_id": "ba22fef6465545bfbf4ea92df158e4b2",
       "version_major": 2,
       "version_minor": 0
      },
      "text/plain": [
       "Evaluating:   0%|          | 0/6 [00:00<?, ?it/s]"
      ]
     },
     "metadata": {},
     "output_type": "display_data"
    },
    {
     "name": "stderr",
     "output_type": "stream",
     "text": [
      "07/15/2021 15:24:16 - INFO - __main__ -   ***** Eval results 275 *****\n",
      "07/15/2021 15:24:16 - INFO - __main__ -   f1 = 0.6206896551724137\n",
      "07/15/2021 15:24:16 - INFO - __main__ -   loss = 448.79099527994794\n",
      "07/15/2021 15:24:16 - INFO - __main__ -   report =                precision    recall  f1-score   support\n",
      "\n",
      "        POWER    0.47737   0.71605   0.57284       162\n",
      "         TECH    0.62407   0.74393   0.67875       453\n",
      "          SAP    0.06250   0.07143   0.06667        14\n",
      "         FUNC    0.23077   0.29032   0.25714        31\n",
      "QUALIFICATION    0.66667   0.77778   0.71795        18\n",
      "\n",
      "    micro avg    0.55530   0.70354   0.62069       678\n",
      "    macro avg    0.56057   0.70354   0.62257       678\n",
      "\n",
      "07/15/2021 15:24:16 - INFO - __main__ -   tech_f1 = 0.6787512588116817\n",
      "07/15/2021 15:24:16 - INFO - transformers.configuration_utils -   Configuration saved in ./model_crf_uncased_tech/best_checkpoint/config.json\n",
      "07/15/2021 15:24:18 - INFO - transformers.modeling_utils -   Model weights saved in ./model_crf_uncased_tech/best_checkpoint/pytorch_model.bin\n",
      "07/15/2021 15:24:18 - INFO - __main__ -   Saving model checkpoint to ./model_crf_uncased_tech/best_checkpoint\n",
      "07/15/2021 15:24:24 - INFO - __main__ -   Saving optimizer and scheduler states to ./model_crf_uncased_tech/best_checkpoint\n",
      "07/15/2021 15:25:08 - INFO - __main__ -   Loading features from cached file ./datasets/cached_dev_mlm_model_uncased_tech_line_by_line_512\n",
      "07/15/2021 15:25:08 - INFO - __main__ -   ***** Running evaluation 300 *****\n",
      "07/15/2021 15:25:08 - INFO - __main__ -     Num examples = 94\n",
      "07/15/2021 15:25:08 - INFO - __main__ -     Batch size = 16\n"
     ]
    },
    {
     "data": {
      "application/vnd.jupyter.widget-view+json": {
       "model_id": "343dc2e6fd6a45018b4250fad736f6d7",
       "version_major": 2,
       "version_minor": 0
      },
      "text/plain": [
       "Evaluating:   0%|          | 0/6 [00:00<?, ?it/s]"
      ]
     },
     "metadata": {},
     "output_type": "display_data"
    },
    {
     "name": "stderr",
     "output_type": "stream",
     "text": [
      "07/15/2021 15:25:14 - INFO - __main__ -   ***** Eval results 300 *****\n",
      "07/15/2021 15:25:14 - INFO - __main__ -   f1 = 0.6279234585400426\n",
      "07/15/2021 15:25:14 - INFO - __main__ -   loss = 439.6785354614258\n",
      "07/15/2021 15:25:14 - INFO - __main__ -   report =                precision    recall  f1-score   support\n",
      "\n",
      "        POWER    0.56044   0.62963   0.59302       162\n",
      "         TECH    0.67089   0.70199   0.68608       453\n",
      "          SAP    0.11538   0.21429   0.15000        14\n",
      "         FUNC    0.40909   0.29032   0.33962        31\n",
      "QUALIFICATION    0.37931   0.61111   0.46809        18\n",
      "\n",
      "    micro avg    0.60437   0.65339   0.62792       678\n",
      "    macro avg    0.61331   0.65339   0.63115       678\n",
      "\n",
      "07/15/2021 15:25:14 - INFO - __main__ -   tech_f1 = 0.6860841423948221\n",
      "07/15/2021 15:25:14 - INFO - transformers.configuration_utils -   Configuration saved in ./model_crf_uncased_tech/best_checkpoint/config.json\n",
      "07/15/2021 15:25:16 - INFO - transformers.modeling_utils -   Model weights saved in ./model_crf_uncased_tech/best_checkpoint/pytorch_model.bin\n",
      "07/15/2021 15:25:16 - INFO - __main__ -   Saving model checkpoint to ./model_crf_uncased_tech/best_checkpoint\n",
      "07/15/2021 15:25:22 - INFO - __main__ -   Saving optimizer and scheduler states to ./model_crf_uncased_tech/best_checkpoint\n"
     ]
    },
    {
     "data": {
      "application/vnd.jupyter.widget-view+json": {
       "model_id": "ee834bee338a4327a04bdd4c69baba92",
       "version_major": 2,
       "version_minor": 0
      },
      "text/plain": [
       "Iteration:   0%|          | 0/50 [00:00<?, ?it/s]"
      ]
     },
     "metadata": {},
     "output_type": "display_data"
    },
    {
     "name": "stderr",
     "output_type": "stream",
     "text": [
      "07/15/2021 15:26:07 - INFO - __main__ -   Loading features from cached file ./datasets/cached_dev_mlm_model_uncased_tech_line_by_line_512\n",
      "07/15/2021 15:26:07 - INFO - __main__ -   ***** Running evaluation 325 *****\n",
      "07/15/2021 15:26:07 - INFO - __main__ -     Num examples = 94\n",
      "07/15/2021 15:26:07 - INFO - __main__ -     Batch size = 16\n"
     ]
    },
    {
     "data": {
      "application/vnd.jupyter.widget-view+json": {
       "model_id": "33e519cba1194a2ca8930c34eac52606",
       "version_major": 2,
       "version_minor": 0
      },
      "text/plain": [
       "Evaluating:   0%|          | 0/6 [00:00<?, ?it/s]"
      ]
     },
     "metadata": {},
     "output_type": "display_data"
    },
    {
     "name": "stderr",
     "output_type": "stream",
     "text": [
      "07/15/2021 15:26:13 - INFO - __main__ -   ***** Eval results 325 *****\n",
      "07/15/2021 15:26:13 - INFO - __main__ -   f1 = 0.6164772727272728\n",
      "07/15/2021 15:26:13 - INFO - __main__ -   loss = 505.95301818847656\n",
      "07/15/2021 15:26:13 - INFO - __main__ -   report =                precision    recall  f1-score   support\n",
      "\n",
      "        POWER    0.50754   0.62346   0.55956       162\n",
      "         TECH    0.68514   0.68212   0.68363       453\n",
      "          SAP    0.09375   0.21429   0.13043        14\n",
      "         FUNC    0.33333   0.32258   0.32787        31\n",
      "QUALIFICATION    0.61111   0.61111   0.61111        18\n",
      "\n",
      "    micro avg    0.59452   0.64012   0.61648       678\n",
      "    macro avg    0.61244   0.64012   0.62437       678\n",
      "\n",
      "07/15/2021 15:26:13 - INFO - __main__ -   tech_f1 = 0.6836283185840708\n",
      "07/15/2021 15:26:58 - INFO - __main__ -   Loading features from cached file ./datasets/cached_dev_mlm_model_uncased_tech_line_by_line_512\n",
      "07/15/2021 15:26:58 - INFO - __main__ -   ***** Running evaluation 350 *****\n",
      "07/15/2021 15:26:58 - INFO - __main__ -     Num examples = 94\n",
      "07/15/2021 15:26:58 - INFO - __main__ -     Batch size = 16\n"
     ]
    },
    {
     "data": {
      "application/vnd.jupyter.widget-view+json": {
       "model_id": "d55b3a9743774a0289b70f68756132cf",
       "version_major": 2,
       "version_minor": 0
      },
      "text/plain": [
       "Evaluating:   0%|          | 0/6 [00:00<?, ?it/s]"
      ]
     },
     "metadata": {},
     "output_type": "display_data"
    },
    {
     "name": "stderr",
     "output_type": "stream",
     "text": [
      "07/15/2021 15:27:04 - INFO - __main__ -   ***** Eval results 350 *****\n",
      "07/15/2021 15:27:04 - INFO - __main__ -   f1 = 0.6176668914362778\n",
      "07/15/2021 15:27:04 - INFO - __main__ -   loss = 505.8860727945964\n",
      "07/15/2021 15:27:04 - INFO - __main__ -   report =                precision    recall  f1-score   support\n",
      "\n",
      "        POWER    0.52525   0.64198   0.57778       162\n",
      "         TECH    0.65805   0.73068   0.69247       453\n",
      "          SAP    0.06250   0.21429   0.09677        14\n",
      "         FUNC    0.30769   0.25806   0.28070        31\n",
      "QUALIFICATION    0.40000   0.66667   0.50000        18\n",
      "\n",
      "    micro avg    0.56894   0.67552   0.61767       678\n",
      "    macro avg    0.59115   0.67552   0.62883       678\n",
      "\n",
      "07/15/2021 15:27:04 - INFO - __main__ -   tech_f1 = 0.6924686192468619\n",
      "07/15/2021 15:27:04 - INFO - transformers.configuration_utils -   Configuration saved in ./model_crf_uncased_tech/best_checkpoint/config.json\n",
      "07/15/2021 15:27:07 - INFO - transformers.modeling_utils -   Model weights saved in ./model_crf_uncased_tech/best_checkpoint/pytorch_model.bin\n",
      "07/15/2021 15:27:07 - INFO - __main__ -   Saving model checkpoint to ./model_crf_uncased_tech/best_checkpoint\n",
      "07/15/2021 15:27:13 - INFO - __main__ -   Saving optimizer and scheduler states to ./model_crf_uncased_tech/best_checkpoint\n"
     ]
    },
    {
     "data": {
      "application/vnd.jupyter.widget-view+json": {
       "model_id": "5518ddabfd3d41ac9db4c8478a5c9ffb",
       "version_major": 2,
       "version_minor": 0
      },
      "text/plain": [
       "Iteration:   0%|          | 0/50 [00:00<?, ?it/s]"
      ]
     },
     "metadata": {},
     "output_type": "display_data"
    },
    {
     "name": "stderr",
     "output_type": "stream",
     "text": [
      "07/15/2021 15:27:58 - INFO - __main__ -   Loading features from cached file ./datasets/cached_dev_mlm_model_uncased_tech_line_by_line_512\n",
      "07/15/2021 15:27:58 - INFO - __main__ -   ***** Running evaluation 375 *****\n",
      "07/15/2021 15:27:58 - INFO - __main__ -     Num examples = 94\n",
      "07/15/2021 15:27:58 - INFO - __main__ -     Batch size = 16\n"
     ]
    },
    {
     "data": {
      "application/vnd.jupyter.widget-view+json": {
       "model_id": "ea2545d40b7b4410a5e657e1492ce640",
       "version_major": 2,
       "version_minor": 0
      },
      "text/plain": [
       "Evaluating:   0%|          | 0/6 [00:00<?, ?it/s]"
      ]
     },
     "metadata": {},
     "output_type": "display_data"
    },
    {
     "name": "stderr",
     "output_type": "stream",
     "text": [
      "07/15/2021 15:28:04 - INFO - __main__ -   ***** Eval results 375 *****\n",
      "07/15/2021 15:28:04 - INFO - __main__ -   f1 = 0.632752613240418\n",
      "07/15/2021 15:28:04 - INFO - __main__ -   loss = 474.9809265136719\n",
      "07/15/2021 15:28:04 - INFO - __main__ -   report =                precision    recall  f1-score   support\n",
      "\n",
      "        POWER    0.56442   0.56790   0.56615       162\n",
      "         TECH    0.64571   0.74834   0.69325       453\n",
      "          SAP    0.08333   0.07143   0.07692        14\n",
      "         FUNC    0.26471   0.29032   0.27692        31\n",
      "QUALIFICATION    0.56522   0.72222   0.63415        18\n",
      "\n",
      "    micro avg    0.59974   0.66962   0.63275       678\n",
      "    macro avg    0.59512   0.66962   0.62955       678\n",
      "\n",
      "07/15/2021 15:28:04 - INFO - __main__ -   tech_f1 = 0.6932515337423313\n",
      "07/15/2021 15:28:04 - INFO - transformers.configuration_utils -   Configuration saved in ./model_crf_uncased_tech/best_checkpoint/config.json\n",
      "07/15/2021 15:28:07 - INFO - transformers.modeling_utils -   Model weights saved in ./model_crf_uncased_tech/best_checkpoint/pytorch_model.bin\n",
      "07/15/2021 15:28:07 - INFO - __main__ -   Saving model checkpoint to ./model_crf_uncased_tech/best_checkpoint\n",
      "07/15/2021 15:28:12 - INFO - __main__ -   Saving optimizer and scheduler states to ./model_crf_uncased_tech/best_checkpoint\n",
      "07/15/2021 15:28:55 - INFO - __main__ -   Loading features from cached file ./datasets/cached_dev_mlm_model_uncased_tech_line_by_line_512\n",
      "07/15/2021 15:28:55 - INFO - __main__ -   ***** Running evaluation 400 *****\n",
      "07/15/2021 15:28:55 - INFO - __main__ -     Num examples = 94\n",
      "07/15/2021 15:28:55 - INFO - __main__ -     Batch size = 16\n"
     ]
    },
    {
     "data": {
      "application/vnd.jupyter.widget-view+json": {
       "model_id": "479832c2aa0645e583d2cee41c42a522",
       "version_major": 2,
       "version_minor": 0
      },
      "text/plain": [
       "Evaluating:   0%|          | 0/6 [00:00<?, ?it/s]"
      ]
     },
     "metadata": {},
     "output_type": "display_data"
    },
    {
     "name": "stderr",
     "output_type": "stream",
     "text": [
      "07/15/2021 15:29:01 - INFO - __main__ -   ***** Eval results 400 *****\n",
      "07/15/2021 15:29:01 - INFO - __main__ -   f1 = 0.6045883940620782\n",
      "07/15/2021 15:29:01 - INFO - __main__ -   loss = 584.2332051595052\n",
      "07/15/2021 15:29:01 - INFO - __main__ -   report =                precision    recall  f1-score   support\n",
      "\n",
      "        POWER    0.54386   0.57407   0.55856       162\n",
      "         TECH    0.64567   0.72406   0.68262       453\n",
      "          SAP    0.10000   0.28571   0.14815        14\n",
      "         FUNC    0.18182   0.32258   0.23256        31\n",
      "QUALIFICATION    0.43333   0.72222   0.54167        18\n",
      "\n",
      "    micro avg    0.55721   0.66077   0.60459       678\n",
      "    macro avg    0.58323   0.66077   0.61762       678\n",
      "\n",
      "07/15/2021 15:29:01 - INFO - __main__ -   tech_f1 = 0.6826222684703435\n"
     ]
    },
    {
     "data": {
      "application/vnd.jupyter.widget-view+json": {
       "model_id": "327f55196930443fb5d93e1e9807ac37",
       "version_major": 2,
       "version_minor": 0
      },
      "text/plain": [
       "Iteration:   0%|          | 0/50 [00:00<?, ?it/s]"
      ]
     },
     "metadata": {},
     "output_type": "display_data"
    },
    {
     "name": "stderr",
     "output_type": "stream",
     "text": [
      "07/15/2021 15:29:46 - INFO - __main__ -   Loading features from cached file ./datasets/cached_dev_mlm_model_uncased_tech_line_by_line_512\n",
      "07/15/2021 15:29:46 - INFO - __main__ -   ***** Running evaluation 425 *****\n",
      "07/15/2021 15:29:46 - INFO - __main__ -     Num examples = 94\n",
      "07/15/2021 15:29:46 - INFO - __main__ -     Batch size = 16\n"
     ]
    },
    {
     "data": {
      "application/vnd.jupyter.widget-view+json": {
       "model_id": "c612b4a3b2274bbcb4005edfca359c72",
       "version_major": 2,
       "version_minor": 0
      },
      "text/plain": [
       "Evaluating:   0%|          | 0/6 [00:00<?, ?it/s]"
      ]
     },
     "metadata": {},
     "output_type": "display_data"
    },
    {
     "name": "stderr",
     "output_type": "stream",
     "text": [
      "07/15/2021 15:29:52 - INFO - __main__ -   ***** Eval results 425 *****\n",
      "07/15/2021 15:29:52 - INFO - __main__ -   f1 = 0.605529332434255\n",
      "07/15/2021 15:29:52 - INFO - __main__ -   loss = 563.7613474527994\n",
      "07/15/2021 15:29:52 - INFO - __main__ -   report =                precision    recall  f1-score   support\n",
      "\n",
      "        POWER    0.56354   0.62963   0.59475       162\n",
      "         TECH    0.60329   0.72848   0.66000       453\n",
      "          SAP    0.08696   0.14286   0.10811        14\n",
      "         FUNC    0.25000   0.19355   0.21818        31\n",
      "QUALIFICATION    0.30000   0.50000   0.37500        18\n",
      "\n",
      "    micro avg    0.55776   0.66224   0.60553       678\n",
      "    macro avg    0.55892   0.66224   0.60525       678\n",
      "\n",
      "07/15/2021 15:29:52 - INFO - __main__ -   tech_f1 = 0.6599999999999999\n",
      "07/15/2021 15:30:35 - INFO - __main__ -   Loading features from cached file ./datasets/cached_dev_mlm_model_uncased_tech_line_by_line_512\n",
      "07/15/2021 15:30:35 - INFO - __main__ -   ***** Running evaluation 450 *****\n",
      "07/15/2021 15:30:35 - INFO - __main__ -     Num examples = 94\n",
      "07/15/2021 15:30:35 - INFO - __main__ -     Batch size = 16\n"
     ]
    },
    {
     "data": {
      "application/vnd.jupyter.widget-view+json": {
       "model_id": "ca51765a49c94cfa86100f3e819937d9",
       "version_major": 2,
       "version_minor": 0
      },
      "text/plain": [
       "Evaluating:   0%|          | 0/6 [00:00<?, ?it/s]"
      ]
     },
     "metadata": {},
     "output_type": "display_data"
    },
    {
     "name": "stderr",
     "output_type": "stream",
     "text": [
      "07/15/2021 15:30:41 - INFO - __main__ -   ***** Eval results 450 *****\n",
      "07/15/2021 15:30:41 - INFO - __main__ -   f1 = 0.604810996563574\n",
      "07/15/2021 15:30:41 - INFO - __main__ -   loss = 560.7957255045573\n",
      "07/15/2021 15:30:41 - INFO - __main__ -   report =                precision    recall  f1-score   support\n",
      "\n",
      "        POWER    0.50000   0.59259   0.54237       162\n",
      "         TECH    0.64930   0.71523   0.68067       453\n",
      "          SAP    0.06667   0.14286   0.09091        14\n",
      "         FUNC    0.26923   0.22581   0.24561        31\n",
      "QUALIFICATION    0.36667   0.61111   0.45833        18\n",
      "\n",
      "    micro avg    0.56628   0.64897   0.60481       678\n",
      "    macro avg    0.57671   0.64897   0.60965       678\n",
      "\n",
      "07/15/2021 15:30:41 - INFO - __main__ -   tech_f1 = 0.680672268907563\n"
     ]
    },
    {
     "data": {
      "application/vnd.jupyter.widget-view+json": {
       "model_id": "8c0f9c099e894e06a80e7e42bae3a5cf",
       "version_major": 2,
       "version_minor": 0
      },
      "text/plain": [
       "Iteration:   0%|          | 0/50 [00:00<?, ?it/s]"
      ]
     },
     "metadata": {},
     "output_type": "display_data"
    },
    {
     "name": "stderr",
     "output_type": "stream",
     "text": [
      "07/15/2021 15:31:26 - INFO - __main__ -   Loading features from cached file ./datasets/cached_dev_mlm_model_uncased_tech_line_by_line_512\n",
      "07/15/2021 15:31:26 - INFO - __main__ -   ***** Running evaluation 475 *****\n",
      "07/15/2021 15:31:26 - INFO - __main__ -     Num examples = 94\n",
      "07/15/2021 15:31:26 - INFO - __main__ -     Batch size = 16\n"
     ]
    },
    {
     "data": {
      "application/vnd.jupyter.widget-view+json": {
       "model_id": "7222db9afa274ab79a6b2e03ce584a09",
       "version_major": 2,
       "version_minor": 0
      },
      "text/plain": [
       "Evaluating:   0%|          | 0/6 [00:00<?, ?it/s]"
      ]
     },
     "metadata": {},
     "output_type": "display_data"
    },
    {
     "name": "stderr",
     "output_type": "stream",
     "text": [
      "07/15/2021 15:31:32 - INFO - __main__ -   ***** Eval results 475 *****\n",
      "07/15/2021 15:31:32 - INFO - __main__ -   f1 = 0.6469248291571754\n",
      "07/15/2021 15:31:32 - INFO - __main__ -   loss = 498.46385955810547\n",
      "07/15/2021 15:31:32 - INFO - __main__ -   report =                precision    recall  f1-score   support\n",
      "\n",
      "        POWER    0.62000   0.57407   0.59615       162\n",
      "         TECH    0.71991   0.68653   0.70282       453\n",
      "          SAP    0.16667   0.14286   0.15385        14\n",
      "         FUNC    0.28000   0.22581   0.25000        31\n",
      "QUALIFICATION    0.65000   0.72222   0.68421        18\n",
      "\n",
      "    micro avg    0.66667   0.62832   0.64692       678\n",
      "    macro avg    0.66264   0.62832   0.64480       678\n",
      "\n",
      "07/15/2021 15:31:32 - INFO - __main__ -   tech_f1 = 0.7028248587570621\n",
      "07/15/2021 15:31:32 - INFO - transformers.configuration_utils -   Configuration saved in ./model_crf_uncased_tech/best_checkpoint/config.json\n",
      "07/15/2021 15:31:34 - INFO - transformers.modeling_utils -   Model weights saved in ./model_crf_uncased_tech/best_checkpoint/pytorch_model.bin\n",
      "07/15/2021 15:31:34 - INFO - __main__ -   Saving model checkpoint to ./model_crf_uncased_tech/best_checkpoint\n",
      "07/15/2021 15:31:40 - INFO - __main__ -   Saving optimizer and scheduler states to ./model_crf_uncased_tech/best_checkpoint\n",
      "07/15/2021 15:32:23 - INFO - __main__ -   Loading features from cached file ./datasets/cached_dev_mlm_model_uncased_tech_line_by_line_512\n",
      "07/15/2021 15:32:23 - INFO - __main__ -   ***** Running evaluation 500 *****\n",
      "07/15/2021 15:32:23 - INFO - __main__ -     Num examples = 94\n",
      "07/15/2021 15:32:23 - INFO - __main__ -     Batch size = 16\n"
     ]
    },
    {
     "data": {
      "application/vnd.jupyter.widget-view+json": {
       "model_id": "414139f682f04113ba7962c3ef5ea9c8",
       "version_major": 2,
       "version_minor": 0
      },
      "text/plain": [
       "Evaluating:   0%|          | 0/6 [00:00<?, ?it/s]"
      ]
     },
     "metadata": {},
     "output_type": "display_data"
    },
    {
     "name": "stderr",
     "output_type": "stream",
     "text": [
      "07/15/2021 15:32:29 - INFO - __main__ -   ***** Eval results 500 *****\n",
      "07/15/2021 15:32:29 - INFO - __main__ -   f1 = 0.615916955017301\n",
      "07/15/2021 15:32:29 - INFO - __main__ -   loss = 579.2406107584635\n",
      "07/15/2021 15:32:29 - INFO - __main__ -   report =                precision    recall  f1-score   support\n",
      "\n",
      "        POWER    0.48325   0.62346   0.54447       162\n",
      "         TECH    0.67373   0.70199   0.68757       453\n",
      "          SAP    0.08000   0.14286   0.10256        14\n",
      "         FUNC    0.32432   0.38710   0.35294        31\n",
      "QUALIFICATION    0.50000   0.66667   0.57143        18\n",
      "\n",
      "    micro avg    0.58018   0.65634   0.61592       678\n",
      "    macro avg    0.59537   0.65634   0.62291       678\n",
      "\n",
      "07/15/2021 15:32:29 - INFO - __main__ -   tech_f1 = 0.6875675675675675\n"
     ]
    },
    {
     "data": {
      "application/vnd.jupyter.widget-view+json": {
       "model_id": "e5d8c3495b6a4b2ebe23258364e36f33",
       "version_major": 2,
       "version_minor": 0
      },
      "text/plain": [
       "Iteration:   0%|          | 0/50 [00:00<?, ?it/s]"
      ]
     },
     "metadata": {},
     "output_type": "display_data"
    },
    {
     "name": "stderr",
     "output_type": "stream",
     "text": [
      "07/15/2021 15:33:15 - INFO - __main__ -   Loading features from cached file ./datasets/cached_dev_mlm_model_uncased_tech_line_by_line_512\n",
      "07/15/2021 15:33:15 - INFO - __main__ -   ***** Running evaluation 525 *****\n",
      "07/15/2021 15:33:15 - INFO - __main__ -     Num examples = 94\n",
      "07/15/2021 15:33:15 - INFO - __main__ -     Batch size = 16\n"
     ]
    },
    {
     "data": {
      "application/vnd.jupyter.widget-view+json": {
       "model_id": "94b4cac21f384be8b8c6828fc3d3b241",
       "version_major": 2,
       "version_minor": 0
      },
      "text/plain": [
       "Evaluating:   0%|          | 0/6 [00:00<?, ?it/s]"
      ]
     },
     "metadata": {},
     "output_type": "display_data"
    },
    {
     "name": "stderr",
     "output_type": "stream",
     "text": [
      "07/15/2021 15:33:20 - INFO - __main__ -   ***** Eval results 525 *****\n",
      "07/15/2021 15:33:20 - INFO - __main__ -   f1 = 0.6213314244810307\n",
      "07/15/2021 15:33:20 - INFO - __main__ -   loss = 597.8402353922526\n",
      "07/15/2021 15:33:20 - INFO - __main__ -   report =                precision    recall  f1-score   support\n",
      "\n",
      "        POWER    0.46479   0.61111   0.52800       162\n",
      "         TECH    0.73397   0.68212   0.70709       453\n",
      "          SAP    0.05882   0.07143   0.06452        14\n",
      "         FUNC    0.30000   0.38710   0.33803        31\n",
      "QUALIFICATION    0.46429   0.72222   0.56522        18\n",
      "\n",
      "    micro avg    0.60362   0.64012   0.62133       678\n",
      "    macro avg    0.62871   0.64012   0.63039       678\n",
      "\n",
      "07/15/2021 15:33:20 - INFO - __main__ -   tech_f1 = 0.7070938215102974\n",
      "07/15/2021 15:33:20 - INFO - transformers.configuration_utils -   Configuration saved in ./model_crf_uncased_tech/best_checkpoint/config.json\n",
      "07/15/2021 15:33:23 - INFO - transformers.modeling_utils -   Model weights saved in ./model_crf_uncased_tech/best_checkpoint/pytorch_model.bin\n",
      "07/15/2021 15:33:23 - INFO - __main__ -   Saving model checkpoint to ./model_crf_uncased_tech/best_checkpoint\n",
      "07/15/2021 15:33:29 - INFO - __main__ -   Saving optimizer and scheduler states to ./model_crf_uncased_tech/best_checkpoint\n",
      "07/15/2021 15:34:12 - INFO - __main__ -   Loading features from cached file ./datasets/cached_dev_mlm_model_uncased_tech_line_by_line_512\n",
      "07/15/2021 15:34:12 - INFO - __main__ -   ***** Running evaluation 550 *****\n",
      "07/15/2021 15:34:12 - INFO - __main__ -     Num examples = 94\n",
      "07/15/2021 15:34:12 - INFO - __main__ -     Batch size = 16\n"
     ]
    },
    {
     "data": {
      "application/vnd.jupyter.widget-view+json": {
       "model_id": "eff221381a64449c91db01cda9417cfa",
       "version_major": 2,
       "version_minor": 0
      },
      "text/plain": [
       "Evaluating:   0%|          | 0/6 [00:00<?, ?it/s]"
      ]
     },
     "metadata": {},
     "output_type": "display_data"
    },
    {
     "name": "stderr",
     "output_type": "stream",
     "text": [
      "07/15/2021 15:34:18 - INFO - __main__ -   ***** Eval results 550 *****\n",
      "07/15/2021 15:34:18 - INFO - __main__ -   f1 = 0.6566265060240964\n",
      "07/15/2021 15:34:18 - INFO - __main__ -   loss = 504.33475494384766\n",
      "07/15/2021 15:34:18 - INFO - __main__ -   report =                precision    recall  f1-score   support\n",
      "\n",
      "        POWER    0.56627   0.58025   0.57317       162\n",
      "         TECH    0.73853   0.71082   0.72441       453\n",
      "          SAP    0.11111   0.07143   0.08696        14\n",
      "         FUNC    0.40000   0.25806   0.31373        31\n",
      "QUALIFICATION    0.57895   0.61111   0.59459        18\n",
      "\n",
      "    micro avg    0.67077   0.64307   0.65663       678\n",
      "    macro avg    0.66470   0.64307   0.65289       678\n",
      "\n",
      "07/15/2021 15:34:18 - INFO - __main__ -   tech_f1 = 0.7244094488188976\n",
      "07/15/2021 15:34:18 - INFO - transformers.configuration_utils -   Configuration saved in ./model_crf_uncased_tech/best_checkpoint/config.json\n",
      "07/15/2021 15:34:20 - INFO - transformers.modeling_utils -   Model weights saved in ./model_crf_uncased_tech/best_checkpoint/pytorch_model.bin\n",
      "07/15/2021 15:34:20 - INFO - __main__ -   Saving model checkpoint to ./model_crf_uncased_tech/best_checkpoint\n",
      "07/15/2021 15:34:27 - INFO - __main__ -   Saving optimizer and scheduler states to ./model_crf_uncased_tech/best_checkpoint\n"
     ]
    },
    {
     "data": {
      "application/vnd.jupyter.widget-view+json": {
       "model_id": "00a83705b6804cef8f7f4020d63e9b15",
       "version_major": 2,
       "version_minor": 0
      },
      "text/plain": [
       "Iteration:   0%|          | 0/50 [00:00<?, ?it/s]"
      ]
     },
     "metadata": {},
     "output_type": "display_data"
    },
    {
     "name": "stderr",
     "output_type": "stream",
     "text": [
      "07/15/2021 15:35:11 - INFO - __main__ -   Loading features from cached file ./datasets/cached_dev_mlm_model_uncased_tech_line_by_line_512\n",
      "07/15/2021 15:35:11 - INFO - __main__ -   ***** Running evaluation 575 *****\n",
      "07/15/2021 15:35:11 - INFO - __main__ -     Num examples = 94\n",
      "07/15/2021 15:35:11 - INFO - __main__ -     Batch size = 16\n"
     ]
    },
    {
     "data": {
      "application/vnd.jupyter.widget-view+json": {
       "model_id": "925e08a5b2634e1ca4e589ed24a1c30d",
       "version_major": 2,
       "version_minor": 0
      },
      "text/plain": [
       "Evaluating:   0%|          | 0/6 [00:00<?, ?it/s]"
      ]
     },
     "metadata": {},
     "output_type": "display_data"
    },
    {
     "name": "stderr",
     "output_type": "stream",
     "text": [
      "07/15/2021 15:35:17 - INFO - __main__ -   ***** Eval results 575 *****\n",
      "07/15/2021 15:35:17 - INFO - __main__ -   f1 = 0.6137281292059219\n",
      "07/15/2021 15:35:17 - INFO - __main__ -   loss = 634.3732299804688\n",
      "07/15/2021 15:35:17 - INFO - __main__ -   report =                precision    recall  f1-score   support\n",
      "\n",
      "        POWER    0.46789   0.62963   0.53684       162\n",
      "         TECH    0.64188   0.72406   0.68050       453\n",
      "          SAP    0.08696   0.14286   0.10811        14\n",
      "         FUNC    0.32353   0.35484   0.33846        31\n",
      "QUALIFICATION    0.59091   0.72222   0.65000        18\n",
      "\n",
      "    micro avg    0.56436   0.67257   0.61373       678\n",
      "    macro avg    0.57294   0.67257   0.61791       678\n",
      "\n",
      "07/15/2021 15:35:17 - INFO - __main__ -   tech_f1 = 0.6804979253112033\n",
      "07/15/2021 15:36:01 - INFO - __main__ -   Loading features from cached file ./datasets/cached_dev_mlm_model_uncased_tech_line_by_line_512\n",
      "07/15/2021 15:36:01 - INFO - __main__ -   ***** Running evaluation 600 *****\n",
      "07/15/2021 15:36:01 - INFO - __main__ -     Num examples = 94\n",
      "07/15/2021 15:36:01 - INFO - __main__ -     Batch size = 16\n"
     ]
    },
    {
     "data": {
      "application/vnd.jupyter.widget-view+json": {
       "model_id": "390a0732d9564102aeeef942822b0db0",
       "version_major": 2,
       "version_minor": 0
      },
      "text/plain": [
       "Evaluating:   0%|          | 0/6 [00:00<?, ?it/s]"
      ]
     },
     "metadata": {},
     "output_type": "display_data"
    },
    {
     "name": "stderr",
     "output_type": "stream",
     "text": [
      "07/15/2021 15:36:07 - INFO - __main__ -   ***** Eval results 600 *****\n",
      "07/15/2021 15:36:07 - INFO - __main__ -   f1 = 0.6269113149847095\n",
      "07/15/2021 15:36:07 - INFO - __main__ -   loss = 585.4084014892578\n",
      "07/15/2021 15:36:07 - INFO - __main__ -   report =                precision    recall  f1-score   support\n",
      "\n",
      "        POWER    0.60784   0.57407   0.59048       162\n",
      "         TECH    0.73697   0.65563   0.69393       453\n",
      "          SAP    0.05000   0.07143   0.05882        14\n",
      "         FUNC    0.23333   0.22581   0.22951        31\n",
      "QUALIFICATION    0.50000   0.66667   0.57143        18\n",
      "\n",
      "    micro avg    0.65079   0.60472   0.62691       678\n",
      "    macro avg    0.66261   0.60472   0.63161       678\n",
      "\n",
      "07/15/2021 15:36:07 - INFO - __main__ -   tech_f1 = 0.6939252336448598\n"
     ]
    },
    {
     "data": {
      "application/vnd.jupyter.widget-view+json": {
       "model_id": "6f5254a071364e00b58574b5a2a7614f",
       "version_major": 2,
       "version_minor": 0
      },
      "text/plain": [
       "Iteration:   0%|          | 0/50 [00:00<?, ?it/s]"
      ]
     },
     "metadata": {},
     "output_type": "display_data"
    },
    {
     "name": "stderr",
     "output_type": "stream",
     "text": [
      "07/15/2021 15:36:51 - INFO - __main__ -   Loading features from cached file ./datasets/cached_dev_mlm_model_uncased_tech_line_by_line_512\n",
      "07/15/2021 15:36:51 - INFO - __main__ -   ***** Running evaluation 625 *****\n",
      "07/15/2021 15:36:51 - INFO - __main__ -     Num examples = 94\n",
      "07/15/2021 15:36:51 - INFO - __main__ -     Batch size = 16\n"
     ]
    },
    {
     "data": {
      "application/vnd.jupyter.widget-view+json": {
       "model_id": "63b6b14d75f140a7a72b1ceff3291b4a",
       "version_major": 2,
       "version_minor": 0
      },
      "text/plain": [
       "Evaluating:   0%|          | 0/6 [00:00<?, ?it/s]"
      ]
     },
     "metadata": {},
     "output_type": "display_data"
    },
    {
     "name": "stderr",
     "output_type": "stream",
     "text": [
      "07/15/2021 15:36:57 - INFO - __main__ -   ***** Eval results 625 *****\n",
      "07/15/2021 15:36:57 - INFO - __main__ -   f1 = 0.6132075471698114\n",
      "07/15/2021 15:36:57 - INFO - __main__ -   loss = 604.9981791178385\n",
      "07/15/2021 15:36:57 - INFO - __main__ -   report =                precision    recall  f1-score   support\n",
      "\n",
      "        POWER    0.42857   0.64815   0.51597       162\n",
      "         TECH    0.66734   0.72627   0.69556       453\n",
      "          SAP    0.11765   0.14286   0.12903        14\n",
      "         FUNC    0.23077   0.19355   0.21053        31\n",
      "QUALIFICATION    0.52000   0.72222   0.60465        18\n",
      "\n",
      "    micro avg    0.56452   0.67109   0.61321       678\n",
      "    macro avg    0.57507   0.67109   0.61636       678\n",
      "\n",
      "07/15/2021 15:36:57 - INFO - __main__ -   tech_f1 = 0.6955602536997886\n",
      "07/15/2021 15:37:41 - INFO - __main__ -   Loading features from cached file ./datasets/cached_dev_mlm_model_uncased_tech_line_by_line_512\n",
      "07/15/2021 15:37:41 - INFO - __main__ -   ***** Running evaluation 650 *****\n",
      "07/15/2021 15:37:41 - INFO - __main__ -     Num examples = 94\n",
      "07/15/2021 15:37:41 - INFO - __main__ -     Batch size = 16\n"
     ]
    },
    {
     "data": {
      "application/vnd.jupyter.widget-view+json": {
       "model_id": "80b0ac4049af463c8d10a072cef2966c",
       "version_major": 2,
       "version_minor": 0
      },
      "text/plain": [
       "Evaluating:   0%|          | 0/6 [00:00<?, ?it/s]"
      ]
     },
     "metadata": {},
     "output_type": "display_data"
    },
    {
     "name": "stderr",
     "output_type": "stream",
     "text": [
      "07/15/2021 15:37:47 - INFO - __main__ -   ***** Eval results 650 *****\n",
      "07/15/2021 15:37:47 - INFO - __main__ -   f1 = 0.646031746031746\n",
      "07/15/2021 15:37:47 - INFO - __main__ -   loss = 544.8032099405924\n",
      "07/15/2021 15:37:47 - INFO - __main__ -   report =                precision    recall  f1-score   support\n",
      "\n",
      "        POWER    0.66418   0.54938   0.60135       162\n",
      "         TECH    0.77003   0.65784   0.70952       453\n",
      "          SAP    0.05556   0.07143   0.06250        14\n",
      "         FUNC    0.20000   0.16129   0.17857        31\n",
      "QUALIFICATION    0.77778   0.77778   0.77778        18\n",
      "\n",
      "    micro avg    0.69931   0.60029   0.64603       678\n",
      "    macro avg    0.70412   0.60029   0.64785       678\n",
      "\n",
      "07/15/2021 15:37:47 - INFO - __main__ -   tech_f1 = 0.7095238095238094\n"
     ]
    },
    {
     "data": {
      "application/vnd.jupyter.widget-view+json": {
       "model_id": "72e5530f25364f2b9aee14317a5c788e",
       "version_major": 2,
       "version_minor": 0
      },
      "text/plain": [
       "Iteration:   0%|          | 0/50 [00:00<?, ?it/s]"
      ]
     },
     "metadata": {},
     "output_type": "display_data"
    },
    {
     "name": "stderr",
     "output_type": "stream",
     "text": [
      "07/15/2021 15:38:33 - INFO - __main__ -   Loading features from cached file ./datasets/cached_dev_mlm_model_uncased_tech_line_by_line_512\n",
      "07/15/2021 15:38:33 - INFO - __main__ -   ***** Running evaluation 675 *****\n",
      "07/15/2021 15:38:33 - INFO - __main__ -     Num examples = 94\n",
      "07/15/2021 15:38:33 - INFO - __main__ -     Batch size = 16\n"
     ]
    },
    {
     "data": {
      "application/vnd.jupyter.widget-view+json": {
       "model_id": "39f9e8909aeb47bcbd48edba46348d4e",
       "version_major": 2,
       "version_minor": 0
      },
      "text/plain": [
       "Evaluating:   0%|          | 0/6 [00:00<?, ?it/s]"
      ]
     },
     "metadata": {},
     "output_type": "display_data"
    },
    {
     "name": "stderr",
     "output_type": "stream",
     "text": [
      "07/15/2021 15:38:39 - INFO - __main__ -   ***** Eval results 675 *****\n",
      "07/15/2021 15:38:39 - INFO - __main__ -   f1 = 0.6279069767441862\n",
      "07/15/2021 15:38:39 - INFO - __main__ -   loss = 579.9301554361979\n",
      "07/15/2021 15:38:39 - INFO - __main__ -   report =                precision    recall  f1-score   support\n",
      "\n",
      "        POWER    0.53191   0.61728   0.57143       162\n",
      "         TECH    0.65175   0.73951   0.69286       453\n",
      "          SAP    0.10526   0.14286   0.12121        14\n",
      "         FUNC    0.21053   0.25806   0.23188        31\n",
      "QUALIFICATION    0.56000   0.77778   0.65116        18\n",
      "\n",
      "    micro avg    0.58546   0.67699   0.62791       678\n",
      "    macro avg    0.58922   0.67699   0.62986       678\n",
      "\n",
      "07/15/2021 15:38:39 - INFO - __main__ -   tech_f1 = 0.6928645294725957\n",
      "07/15/2021 15:39:22 - INFO - __main__ -   Loading features from cached file ./datasets/cached_dev_mlm_model_uncased_tech_line_by_line_512\n",
      "07/15/2021 15:39:22 - INFO - __main__ -   ***** Running evaluation 700 *****\n",
      "07/15/2021 15:39:22 - INFO - __main__ -     Num examples = 94\n",
      "07/15/2021 15:39:22 - INFO - __main__ -     Batch size = 16\n"
     ]
    },
    {
     "data": {
      "application/vnd.jupyter.widget-view+json": {
       "model_id": "5dca62a0b6274d0ea79212b6212a9a43",
       "version_major": 2,
       "version_minor": 0
      },
      "text/plain": [
       "Evaluating:   0%|          | 0/6 [00:00<?, ?it/s]"
      ]
     },
     "metadata": {},
     "output_type": "display_data"
    },
    {
     "name": "stderr",
     "output_type": "stream",
     "text": [
      "07/15/2021 15:39:28 - INFO - __main__ -   ***** Eval results 700 *****\n",
      "07/15/2021 15:39:28 - INFO - __main__ -   f1 = 0.6361071932299013\n",
      "07/15/2021 15:39:28 - INFO - __main__ -   loss = 611.8644561767578\n",
      "07/15/2021 15:39:28 - INFO - __main__ -   report =                precision    recall  f1-score   support\n",
      "\n",
      "        POWER    0.55172   0.59259   0.57143       162\n",
      "         TECH    0.65878   0.73731   0.69583       453\n",
      "          SAP    0.11111   0.07143   0.08696        14\n",
      "         FUNC    0.29630   0.25806   0.27586        31\n",
      "QUALIFICATION    0.52174   0.66667   0.58537        18\n",
      "\n",
      "    micro avg    0.60946   0.66519   0.63611       678\n",
      "    macro avg    0.60168   0.66519   0.63140       678\n",
      "\n",
      "07/15/2021 15:39:28 - INFO - __main__ -   tech_f1 = 0.6958333333333333\n"
     ]
    },
    {
     "data": {
      "application/vnd.jupyter.widget-view+json": {
       "model_id": "55e8e60ca0d44b43ab662b254f75ccfe",
       "version_major": 2,
       "version_minor": 0
      },
      "text/plain": [
       "Iteration:   0%|          | 0/50 [00:00<?, ?it/s]"
      ]
     },
     "metadata": {},
     "output_type": "display_data"
    },
    {
     "name": "stderr",
     "output_type": "stream",
     "text": [
      "07/15/2021 15:40:12 - INFO - __main__ -   Loading features from cached file ./datasets/cached_dev_mlm_model_uncased_tech_line_by_line_512\n",
      "07/15/2021 15:40:12 - INFO - __main__ -   ***** Running evaluation 725 *****\n",
      "07/15/2021 15:40:12 - INFO - __main__ -     Num examples = 94\n",
      "07/15/2021 15:40:12 - INFO - __main__ -     Batch size = 16\n"
     ]
    },
    {
     "data": {
      "application/vnd.jupyter.widget-view+json": {
       "model_id": "afe4fa8ce2a54be3b3af6d494a6b2d18",
       "version_major": 2,
       "version_minor": 0
      },
      "text/plain": [
       "Evaluating:   0%|          | 0/6 [00:00<?, ?it/s]"
      ]
     },
     "metadata": {},
     "output_type": "display_data"
    },
    {
     "name": "stderr",
     "output_type": "stream",
     "text": [
      "07/15/2021 15:40:18 - INFO - __main__ -   ***** Eval results 725 *****\n",
      "07/15/2021 15:40:18 - INFO - __main__ -   f1 = 0.6479087452471484\n",
      "07/15/2021 15:40:18 - INFO - __main__ -   loss = 623.3305613199869\n",
      "07/15/2021 15:40:18 - INFO - __main__ -   report =                precision    recall  f1-score   support\n",
      "\n",
      "        POWER    0.57516   0.54321   0.55873       162\n",
      "         TECH    0.74353   0.69757   0.71982       453\n",
      "          SAP    0.09091   0.07143   0.08000        14\n",
      "         FUNC    0.32000   0.25806   0.28571        31\n",
      "QUALIFICATION    0.56522   0.72222   0.63415        18\n",
      "\n",
      "    micro avg    0.66876   0.62832   0.64791       678\n",
      "    macro avg    0.66573   0.62832   0.64599       678\n",
      "\n",
      "07/15/2021 15:40:18 - INFO - __main__ -   tech_f1 = 0.7198177676537585\n",
      "07/15/2021 15:41:02 - INFO - __main__ -   Loading features from cached file ./datasets/cached_dev_mlm_model_uncased_tech_line_by_line_512\n",
      "07/15/2021 15:41:02 - INFO - __main__ -   ***** Running evaluation 750 *****\n",
      "07/15/2021 15:41:02 - INFO - __main__ -     Num examples = 94\n",
      "07/15/2021 15:41:02 - INFO - __main__ -     Batch size = 16\n"
     ]
    },
    {
     "data": {
      "application/vnd.jupyter.widget-view+json": {
       "model_id": "78392c5837554daf9cfc1ee563abeaab",
       "version_major": 2,
       "version_minor": 0
      },
      "text/plain": [
       "Evaluating:   0%|          | 0/6 [00:00<?, ?it/s]"
      ]
     },
     "metadata": {},
     "output_type": "display_data"
    },
    {
     "name": "stderr",
     "output_type": "stream",
     "text": [
      "07/15/2021 15:41:08 - INFO - __main__ -   ***** Eval results 750 *****\n",
      "07/15/2021 15:41:08 - INFO - __main__ -   f1 = 0.631578947368421\n",
      "07/15/2021 15:41:08 - INFO - __main__ -   loss = 592.5466512044271\n",
      "07/15/2021 15:41:08 - INFO - __main__ -   report =                precision    recall  f1-score   support\n",
      "\n",
      "        POWER    0.55056   0.60494   0.57647       162\n",
      "         TECH    0.65619   0.73731   0.69439       453\n",
      "          SAP    0.08333   0.14286   0.10526        14\n",
      "         FUNC    0.29032   0.29032   0.29032        31\n",
      "QUALIFICATION    0.54167   0.72222   0.61905        18\n",
      "\n",
      "    micro avg    0.59530   0.67257   0.63158       678\n",
      "    macro avg    0.59935   0.67257   0.63357       678\n",
      "\n",
      "07/15/2021 15:41:08 - INFO - __main__ -   tech_f1 = 0.6943866943866944\n"
     ]
    },
    {
     "data": {
      "application/vnd.jupyter.widget-view+json": {
       "model_id": "4232a5643c2d466a958d0b83d2e8ff56",
       "version_major": 2,
       "version_minor": 0
      },
      "text/plain": [
       "Iteration:   0%|          | 0/50 [00:00<?, ?it/s]"
      ]
     },
     "metadata": {},
     "output_type": "display_data"
    },
    {
     "name": "stderr",
     "output_type": "stream",
     "text": [
      "07/15/2021 15:41:53 - INFO - __main__ -   Loading features from cached file ./datasets/cached_dev_mlm_model_uncased_tech_line_by_line_512\n",
      "07/15/2021 15:41:53 - INFO - __main__ -   ***** Running evaluation 775 *****\n",
      "07/15/2021 15:41:53 - INFO - __main__ -     Num examples = 94\n",
      "07/15/2021 15:41:53 - INFO - __main__ -     Batch size = 16\n"
     ]
    },
    {
     "data": {
      "application/vnd.jupyter.widget-view+json": {
       "model_id": "84d8cedbb3c241299092422c0776607e",
       "version_major": 2,
       "version_minor": 0
      },
      "text/plain": [
       "Evaluating:   0%|          | 0/6 [00:00<?, ?it/s]"
      ]
     },
     "metadata": {},
     "output_type": "display_data"
    },
    {
     "name": "stderr",
     "output_type": "stream",
     "text": [
      "07/15/2021 15:41:59 - INFO - __main__ -   ***** Eval results 775 *****\n",
      "07/15/2021 15:41:59 - INFO - __main__ -   f1 = 0.6230440967283072\n",
      "07/15/2021 15:41:59 - INFO - __main__ -   loss = 679.599365234375\n",
      "07/15/2021 15:41:59 - INFO - __main__ -   report =                precision    recall  f1-score   support\n",
      "\n",
      "        POWER    0.61486   0.56173   0.58710       162\n",
      "         TECH    0.65385   0.71302   0.68215       453\n",
      "          SAP    0.05714   0.14286   0.08163        14\n",
      "         FUNC    0.24242   0.25806   0.25000        31\n",
      "QUALIFICATION    0.77778   0.77778   0.77778        18\n",
      "\n",
      "    micro avg    0.60165   0.64602   0.62304       678\n",
      "    macro avg    0.61669   0.64602   0.62982       678\n",
      "\n",
      "07/15/2021 15:41:59 - INFO - __main__ -   tech_f1 = 0.6821541710665259\n",
      "07/15/2021 15:42:42 - INFO - __main__ -   Loading features from cached file ./datasets/cached_dev_mlm_model_uncased_tech_line_by_line_512\n",
      "07/15/2021 15:42:42 - INFO - __main__ -   ***** Running evaluation 800 *****\n",
      "07/15/2021 15:42:42 - INFO - __main__ -     Num examples = 94\n",
      "07/15/2021 15:42:42 - INFO - __main__ -     Batch size = 16\n"
     ]
    },
    {
     "data": {
      "application/vnd.jupyter.widget-view+json": {
       "model_id": "a52e923b22974ced87b73340c77ad802",
       "version_major": 2,
       "version_minor": 0
      },
      "text/plain": [
       "Evaluating:   0%|          | 0/6 [00:00<?, ?it/s]"
      ]
     },
     "metadata": {},
     "output_type": "display_data"
    },
    {
     "name": "stderr",
     "output_type": "stream",
     "text": [
      "07/15/2021 15:42:48 - INFO - __main__ -   ***** Eval results 800 *****\n",
      "07/15/2021 15:42:48 - INFO - __main__ -   f1 = 0.624540778839089\n",
      "07/15/2021 15:42:48 - INFO - __main__ -   loss = 690.9961293538412\n",
      "07/15/2021 15:42:48 - INFO - __main__ -   report =                precision    recall  f1-score   support\n",
      "\n",
      "        POWER    0.60759   0.59259   0.60000       162\n",
      "         TECH    0.68421   0.68874   0.68647       453\n",
      "          SAP    0.06667   0.07143   0.06897        14\n",
      "         FUNC    0.18750   0.19355   0.19048        31\n",
      "QUALIFICATION    0.45455   0.55556   0.50000        18\n",
      "\n",
      "    micro avg    0.62225   0.62684   0.62454       678\n",
      "    macro avg    0.62434   0.62684   0.62543       678\n",
      "\n",
      "07/15/2021 15:42:48 - INFO - __main__ -   tech_f1 = 0.6864686468646866\n"
     ]
    },
    {
     "data": {
      "application/vnd.jupyter.widget-view+json": {
       "model_id": "e9b4218e53c84d21afa1fe45921b5401",
       "version_major": 2,
       "version_minor": 0
      },
      "text/plain": [
       "Iteration:   0%|          | 0/50 [00:00<?, ?it/s]"
      ]
     },
     "metadata": {},
     "output_type": "display_data"
    },
    {
     "name": "stderr",
     "output_type": "stream",
     "text": [
      "07/15/2021 15:43:33 - INFO - __main__ -   Loading features from cached file ./datasets/cached_dev_mlm_model_uncased_tech_line_by_line_512\n",
      "07/15/2021 15:43:33 - INFO - __main__ -   ***** Running evaluation 825 *****\n",
      "07/15/2021 15:43:33 - INFO - __main__ -     Num examples = 94\n",
      "07/15/2021 15:43:33 - INFO - __main__ -     Batch size = 16\n"
     ]
    },
    {
     "data": {
      "application/vnd.jupyter.widget-view+json": {
       "model_id": "6ed01399f9d843ba881fa44663687b4b",
       "version_major": 2,
       "version_minor": 0
      },
      "text/plain": [
       "Evaluating:   0%|          | 0/6 [00:00<?, ?it/s]"
      ]
     },
     "metadata": {},
     "output_type": "display_data"
    },
    {
     "name": "stderr",
     "output_type": "stream",
     "text": [
      "07/15/2021 15:43:39 - INFO - __main__ -   ***** Eval results 825 *****\n",
      "07/15/2021 15:43:39 - INFO - __main__ -   f1 = 0.6241352805534205\n",
      "07/15/2021 15:43:39 - INFO - __main__ -   loss = 663.6228383382162\n",
      "07/15/2021 15:43:39 - INFO - __main__ -   report =                precision    recall  f1-score   support\n",
      "\n",
      "        POWER    0.60000   0.55556   0.57692       162\n",
      "         TECH    0.73020   0.65121   0.68845       453\n",
      "          SAP    0.07692   0.07143   0.07407        14\n",
      "         FUNC    0.20000   0.22581   0.21212        31\n",
      "QUALIFICATION    0.61905   0.72222   0.66667        18\n",
      "\n",
      "    micro avg    0.65169   0.59882   0.62414       678\n",
      "    macro avg    0.65841   0.59882   0.62676       678\n",
      "\n",
      "07/15/2021 15:43:39 - INFO - __main__ -   tech_f1 = 0.6884480746791132\n",
      "07/15/2021 15:44:23 - INFO - __main__ -   Loading features from cached file ./datasets/cached_dev_mlm_model_uncased_tech_line_by_line_512\n",
      "07/15/2021 15:44:23 - INFO - __main__ -   ***** Running evaluation 850 *****\n",
      "07/15/2021 15:44:23 - INFO - __main__ -     Num examples = 94\n",
      "07/15/2021 15:44:23 - INFO - __main__ -     Batch size = 16\n"
     ]
    },
    {
     "data": {
      "application/vnd.jupyter.widget-view+json": {
       "model_id": "6ea813ffb5cd4459af135baeafb2fb49",
       "version_major": 2,
       "version_minor": 0
      },
      "text/plain": [
       "Evaluating:   0%|          | 0/6 [00:00<?, ?it/s]"
      ]
     },
     "metadata": {},
     "output_type": "display_data"
    },
    {
     "name": "stderr",
     "output_type": "stream",
     "text": [
      "07/15/2021 15:44:28 - INFO - __main__ -   ***** Eval results 850 *****\n",
      "07/15/2021 15:44:28 - INFO - __main__ -   f1 = 0.6311728395061729\n",
      "07/15/2021 15:44:28 - INFO - __main__ -   loss = 651.3614196777344\n",
      "07/15/2021 15:44:28 - INFO - __main__ -   report =                precision    recall  f1-score   support\n",
      "\n",
      "        POWER    0.66667   0.53086   0.59107       162\n",
      "         TECH    0.71163   0.67550   0.69309       453\n",
      "          SAP    0.07692   0.07143   0.07407        14\n",
      "         FUNC    0.23077   0.19355   0.21053        31\n",
      "QUALIFICATION    0.50000   0.55556   0.52632        18\n",
      "\n",
      "    micro avg    0.66181   0.60324   0.63117       678\n",
      "    macro avg    0.66017   0.60324   0.62944       678\n",
      "\n",
      "07/15/2021 15:44:28 - INFO - __main__ -   tech_f1 = 0.6930917327293318\n"
     ]
    },
    {
     "data": {
      "application/vnd.jupyter.widget-view+json": {
       "model_id": "8bdc734c992b42bcab2366aa5ecc2b53",
       "version_major": 2,
       "version_minor": 0
      },
      "text/plain": [
       "Iteration:   0%|          | 0/50 [00:00<?, ?it/s]"
      ]
     },
     "metadata": {},
     "output_type": "display_data"
    },
    {
     "name": "stderr",
     "output_type": "stream",
     "text": [
      "07/15/2021 15:45:13 - INFO - __main__ -   Loading features from cached file ./datasets/cached_dev_mlm_model_uncased_tech_line_by_line_512\n",
      "07/15/2021 15:45:13 - INFO - __main__ -   ***** Running evaluation 875 *****\n",
      "07/15/2021 15:45:13 - INFO - __main__ -     Num examples = 94\n",
      "07/15/2021 15:45:13 - INFO - __main__ -     Batch size = 16\n"
     ]
    },
    {
     "data": {
      "application/vnd.jupyter.widget-view+json": {
       "model_id": "65337228d65f443db65998ea54e6adf9",
       "version_major": 2,
       "version_minor": 0
      },
      "text/plain": [
       "Evaluating:   0%|          | 0/6 [00:00<?, ?it/s]"
      ]
     },
     "metadata": {},
     "output_type": "display_data"
    },
    {
     "name": "stderr",
     "output_type": "stream",
     "text": [
      "07/15/2021 15:45:18 - INFO - __main__ -   ***** Eval results 875 *****\n",
      "07/15/2021 15:45:18 - INFO - __main__ -   f1 = 0.6325515280739161\n",
      "07/15/2021 15:45:18 - INFO - __main__ -   loss = 713.0926666259766\n",
      "07/15/2021 15:45:18 - INFO - __main__ -   report =                precision    recall  f1-score   support\n",
      "\n",
      "        POWER    0.65441   0.54938   0.59732       162\n",
      "         TECH    0.64865   0.74172   0.69207       453\n",
      "          SAP    0.04545   0.07143   0.05556        14\n",
      "         FUNC    0.23529   0.25806   0.24615        31\n",
      "QUALIFICATION    0.57895   0.61111   0.59459        18\n",
      "\n",
      "    micro avg    0.61043   0.65634   0.63255       678\n",
      "    macro avg    0.61682   0.65634   0.63331       678\n",
      "\n",
      "07/15/2021 15:45:18 - INFO - __main__ -   tech_f1 = 0.6920700308959835\n",
      "07/15/2021 15:46:02 - INFO - __main__ -   Loading features from cached file ./datasets/cached_dev_mlm_model_uncased_tech_line_by_line_512\n",
      "07/15/2021 15:46:02 - INFO - __main__ -   ***** Running evaluation 900 *****\n",
      "07/15/2021 15:46:02 - INFO - __main__ -     Num examples = 94\n",
      "07/15/2021 15:46:02 - INFO - __main__ -     Batch size = 16\n"
     ]
    },
    {
     "data": {
      "application/vnd.jupyter.widget-view+json": {
       "model_id": "89ab8dbe67f848249b113b81e5453986",
       "version_major": 2,
       "version_minor": 0
      },
      "text/plain": [
       "Evaluating:   0%|          | 0/6 [00:00<?, ?it/s]"
      ]
     },
     "metadata": {},
     "output_type": "display_data"
    },
    {
     "name": "stderr",
     "output_type": "stream",
     "text": [
      "07/15/2021 15:46:08 - INFO - __main__ -   ***** Eval results 900 *****\n",
      "07/15/2021 15:46:08 - INFO - __main__ -   f1 = 0.6415094339622641\n",
      "07/15/2021 15:46:08 - INFO - __main__ -   loss = 657.92236328125\n",
      "07/15/2021 15:46:08 - INFO - __main__ -   report =                precision    recall  f1-score   support\n",
      "\n",
      "        POWER    0.65185   0.54321   0.59259       162\n",
      "         TECH    0.69604   0.69757   0.69680       453\n",
      "          SAP    0.10000   0.07143   0.08333        14\n",
      "         FUNC    0.22222   0.19355   0.20690        31\n",
      "QUALIFICATION    0.66667   0.77778   0.71795        18\n",
      "\n",
      "    micro avg    0.65688   0.62684   0.64151       678\n",
      "    macro avg    0.65073   0.62684   0.63740       678\n",
      "\n",
      "07/15/2021 15:46:08 - INFO - __main__ -   tech_f1 = 0.6968026460859977\n"
     ]
    },
    {
     "data": {
      "application/vnd.jupyter.widget-view+json": {
       "model_id": "eccbb6b4ed7f43008276e3dd4d3e0b8a",
       "version_major": 2,
       "version_minor": 0
      },
      "text/plain": [
       "Iteration:   0%|          | 0/50 [00:00<?, ?it/s]"
      ]
     },
     "metadata": {},
     "output_type": "display_data"
    },
    {
     "name": "stderr",
     "output_type": "stream",
     "text": [
      "07/15/2021 15:46:53 - INFO - __main__ -   Loading features from cached file ./datasets/cached_dev_mlm_model_uncased_tech_line_by_line_512\n",
      "07/15/2021 15:46:53 - INFO - __main__ -   ***** Running evaluation 925 *****\n",
      "07/15/2021 15:46:53 - INFO - __main__ -     Num examples = 94\n",
      "07/15/2021 15:46:53 - INFO - __main__ -     Batch size = 16\n"
     ]
    },
    {
     "data": {
      "application/vnd.jupyter.widget-view+json": {
       "model_id": "4d62542ac4304bcc87303f7b363679e3",
       "version_major": 2,
       "version_minor": 0
      },
      "text/plain": [
       "Evaluating:   0%|          | 0/6 [00:00<?, ?it/s]"
      ]
     },
     "metadata": {},
     "output_type": "display_data"
    },
    {
     "name": "stderr",
     "output_type": "stream",
     "text": [
      "07/15/2021 15:46:59 - INFO - __main__ -   ***** Eval results 925 *****\n",
      "07/15/2021 15:46:59 - INFO - __main__ -   f1 = 0.6360520904729268\n",
      "07/15/2021 15:46:59 - INFO - __main__ -   loss = 685.1658782958984\n",
      "07/15/2021 15:46:59 - INFO - __main__ -   report =                precision    recall  f1-score   support\n",
      "\n",
      "        POWER    0.54891   0.62346   0.58382       162\n",
      "         TECH    0.64751   0.74614   0.69333       453\n",
      "          SAP    0.07407   0.14286   0.09756        14\n",
      "         FUNC    0.33333   0.25806   0.29091        31\n",
      "QUALIFICATION    0.62500   0.83333   0.71429        18\n",
      "\n",
      "    micro avg    0.59411   0.68437   0.63605       678\n",
      "    macro avg    0.59715   0.68437   0.63702       678\n",
      "\n",
      "07/15/2021 15:46:59 - INFO - __main__ -   tech_f1 = 0.6933333333333335\n",
      "07/15/2021 15:47:43 - INFO - __main__ -   Loading features from cached file ./datasets/cached_dev_mlm_model_uncased_tech_line_by_line_512\n",
      "07/15/2021 15:47:43 - INFO - __main__ -   ***** Running evaluation 950 *****\n",
      "07/15/2021 15:47:43 - INFO - __main__ -     Num examples = 94\n",
      "07/15/2021 15:47:43 - INFO - __main__ -     Batch size = 16\n"
     ]
    },
    {
     "data": {
      "application/vnd.jupyter.widget-view+json": {
       "model_id": "b54789b1ab054b98ae74900d9a1184d8",
       "version_major": 2,
       "version_minor": 0
      },
      "text/plain": [
       "Evaluating:   0%|          | 0/6 [00:00<?, ?it/s]"
      ]
     },
     "metadata": {},
     "output_type": "display_data"
    },
    {
     "name": "stderr",
     "output_type": "stream",
     "text": [
      "07/15/2021 15:47:49 - INFO - __main__ -   ***** Eval results 950 *****\n",
      "07/15/2021 15:47:49 - INFO - __main__ -   f1 = 0.6290322580645161\n",
      "07/15/2021 15:47:49 - INFO - __main__ -   loss = 779.7979736328125\n",
      "07/15/2021 15:47:49 - INFO - __main__ -   report =                precision    recall  f1-score   support\n",
      "\n",
      "        POWER    0.54651   0.58025   0.56287       162\n",
      "         TECH    0.72158   0.68653   0.70362       453\n",
      "          SAP    0.04000   0.07143   0.05128        14\n",
      "         FUNC    0.30303   0.32258   0.31250        31\n",
      "QUALIFICATION    0.52000   0.72222   0.60465        18\n",
      "\n",
      "    micro avg    0.62536   0.63274   0.62903       678\n",
      "    macro avg    0.64119   0.63274   0.63601       678\n",
      "\n",
      "07/15/2021 15:47:49 - INFO - __main__ -   tech_f1 = 0.7036199095022625\n"
     ]
    },
    {
     "data": {
      "application/vnd.jupyter.widget-view+json": {
       "model_id": "35a91d93327c40feb542160d720c35ef",
       "version_major": 2,
       "version_minor": 0
      },
      "text/plain": [
       "Iteration:   0%|          | 0/50 [00:00<?, ?it/s]"
      ]
     },
     "metadata": {},
     "output_type": "display_data"
    },
    {
     "name": "stderr",
     "output_type": "stream",
     "text": [
      "07/15/2021 15:48:34 - INFO - __main__ -   Loading features from cached file ./datasets/cached_dev_mlm_model_uncased_tech_line_by_line_512\n",
      "07/15/2021 15:48:34 - INFO - __main__ -   ***** Running evaluation 975 *****\n",
      "07/15/2021 15:48:34 - INFO - __main__ -     Num examples = 94\n",
      "07/15/2021 15:48:34 - INFO - __main__ -     Batch size = 16\n"
     ]
    },
    {
     "data": {
      "application/vnd.jupyter.widget-view+json": {
       "model_id": "b4e383d8a9e44ab5b1eb487f273eb492",
       "version_major": 2,
       "version_minor": 0
      },
      "text/plain": [
       "Evaluating:   0%|          | 0/6 [00:00<?, ?it/s]"
      ]
     },
     "metadata": {},
     "output_type": "display_data"
    },
    {
     "name": "stderr",
     "output_type": "stream",
     "text": [
      "07/15/2021 15:48:39 - INFO - __main__ -   ***** Eval results 975 *****\n",
      "07/15/2021 15:48:39 - INFO - __main__ -   f1 = 0.629292221443588\n",
      "07/15/2021 15:48:39 - INFO - __main__ -   loss = 787.423329671224\n",
      "07/15/2021 15:48:39 - INFO - __main__ -   report =                precision    recall  f1-score   support\n",
      "\n",
      "        POWER    0.61111   0.54321   0.57516       162\n",
      "         TECH    0.65497   0.74172   0.69565       453\n",
      "          SAP    0.07692   0.14286   0.10000        14\n",
      "         FUNC    0.26190   0.35484   0.30137        31\n",
      "QUALIFICATION    0.50000   0.66667   0.57143        18\n",
      "\n",
      "    micro avg    0.59947   0.66224   0.62929       678\n",
      "    macro avg    0.61047   0.66224   0.63324       678\n",
      "\n",
      "07/15/2021 15:48:39 - INFO - __main__ -   tech_f1 = 0.6956521739130435\n",
      "07/15/2021 15:49:23 - INFO - __main__ -   Loading features from cached file ./datasets/cached_dev_mlm_model_uncased_tech_line_by_line_512\n",
      "07/15/2021 15:49:23 - INFO - __main__ -   ***** Running evaluation 1000 *****\n",
      "07/15/2021 15:49:23 - INFO - __main__ -     Num examples = 94\n",
      "07/15/2021 15:49:23 - INFO - __main__ -     Batch size = 16\n"
     ]
    },
    {
     "data": {
      "application/vnd.jupyter.widget-view+json": {
       "model_id": "4a8317ed999546838937e324b85d44f0",
       "version_major": 2,
       "version_minor": 0
      },
      "text/plain": [
       "Evaluating:   0%|          | 0/6 [00:00<?, ?it/s]"
      ]
     },
     "metadata": {},
     "output_type": "display_data"
    },
    {
     "name": "stderr",
     "output_type": "stream",
     "text": [
      "07/15/2021 15:49:28 - INFO - __main__ -   ***** Eval results 1000 *****\n",
      "07/15/2021 15:49:28 - INFO - __main__ -   f1 = 0.6398831263696129\n",
      "07/15/2021 15:49:28 - INFO - __main__ -   loss = 686.5714670817057\n",
      "07/15/2021 15:49:28 - INFO - __main__ -   report =                precision    recall  f1-score   support\n",
      "\n",
      "        POWER    0.56497   0.61728   0.58997       162\n",
      "         TECH    0.69912   0.69757   0.69834       453\n",
      "          SAP    0.07692   0.07143   0.07407        14\n",
      "         FUNC    0.25000   0.25806   0.25397        31\n",
      "QUALIFICATION    0.76471   0.72222   0.74286        18\n",
      "\n",
      "    micro avg    0.63386   0.64602   0.63988       678\n",
      "    macro avg    0.63542   0.64602   0.64042       678\n",
      "\n",
      "07/15/2021 15:49:28 - INFO - __main__ -   tech_f1 = 0.6983425414364641\n"
     ]
    },
    {
     "data": {
      "application/vnd.jupyter.widget-view+json": {
       "model_id": "1235c026b242421c91b4e7379e3c9439",
       "version_major": 2,
       "version_minor": 0
      },
      "text/plain": [
       "Iteration:   0%|          | 0/50 [00:00<?, ?it/s]"
      ]
     },
     "metadata": {},
     "output_type": "display_data"
    },
    {
     "name": "stderr",
     "output_type": "stream",
     "text": [
      "07/15/2021 15:50:14 - INFO - __main__ -   Loading features from cached file ./datasets/cached_dev_mlm_model_uncased_tech_line_by_line_512\n",
      "07/15/2021 15:50:14 - INFO - __main__ -   ***** Running evaluation 1025 *****\n",
      "07/15/2021 15:50:14 - INFO - __main__ -     Num examples = 94\n",
      "07/15/2021 15:50:14 - INFO - __main__ -     Batch size = 16\n"
     ]
    },
    {
     "data": {
      "application/vnd.jupyter.widget-view+json": {
       "model_id": "6ae913cdafff4736958848b11a916b24",
       "version_major": 2,
       "version_minor": 0
      },
      "text/plain": [
       "Evaluating:   0%|          | 0/6 [00:00<?, ?it/s]"
      ]
     },
     "metadata": {},
     "output_type": "display_data"
    },
    {
     "name": "stderr",
     "output_type": "stream",
     "text": [
      "07/15/2021 15:50:20 - INFO - __main__ -   ***** Eval results 1025 *****\n",
      "07/15/2021 15:50:20 - INFO - __main__ -   f1 = 0.6273653566229984\n",
      "07/15/2021 15:50:20 - INFO - __main__ -   loss = 682.1291453043619\n",
      "07/15/2021 15:50:20 - INFO - __main__ -   report =                precision    recall  f1-score   support\n",
      "\n",
      "        POWER    0.57558   0.61111   0.59281       162\n",
      "         TECH    0.67609   0.68653   0.68127       453\n",
      "          SAP    0.10000   0.07143   0.08333        14\n",
      "         FUNC    0.25714   0.29032   0.27273        31\n",
      "QUALIFICATION    0.57895   0.61111   0.59459        18\n",
      "\n",
      "    micro avg    0.61925   0.63569   0.62737       678\n",
      "    macro avg    0.61844   0.63569   0.62681       678\n",
      "\n",
      "07/15/2021 15:50:20 - INFO - __main__ -   tech_f1 = 0.6812705366922234\n",
      "07/15/2021 15:51:03 - INFO - __main__ -   Loading features from cached file ./datasets/cached_dev_mlm_model_uncased_tech_line_by_line_512\n",
      "07/15/2021 15:51:03 - INFO - __main__ -   ***** Running evaluation 1050 *****\n",
      "07/15/2021 15:51:03 - INFO - __main__ -     Num examples = 94\n",
      "07/15/2021 15:51:03 - INFO - __main__ -     Batch size = 16\n"
     ]
    },
    {
     "data": {
      "application/vnd.jupyter.widget-view+json": {
       "model_id": "f56d9a2c8ac143678d46719e5d979292",
       "version_major": 2,
       "version_minor": 0
      },
      "text/plain": [
       "Evaluating:   0%|          | 0/6 [00:00<?, ?it/s]"
      ]
     },
     "metadata": {},
     "output_type": "display_data"
    },
    {
     "name": "stderr",
     "output_type": "stream",
     "text": [
      "07/15/2021 15:51:09 - INFO - __main__ -   ***** Eval results 1050 *****\n",
      "07/15/2021 15:51:09 - INFO - __main__ -   f1 = 0.6368305209097579\n",
      "07/15/2021 15:51:09 - INFO - __main__ -   loss = 682.6150410970052\n",
      "07/15/2021 15:51:09 - INFO - __main__ -   report =                precision    recall  f1-score   support\n",
      "\n",
      "        POWER    0.59748   0.58642   0.59190       162\n",
      "         TECH    0.69690   0.69536   0.69613       453\n",
      "          SAP    0.05556   0.07143   0.06250        14\n",
      "         FUNC    0.27273   0.29032   0.28125        31\n",
      "QUALIFICATION    0.60870   0.77778   0.68293        18\n",
      "\n",
      "    micro avg    0.63358   0.64012   0.63683       678\n",
      "    macro avg    0.63817   0.64012   0.63882       678\n",
      "\n",
      "07/15/2021 15:51:09 - INFO - __main__ -   tech_f1 = 0.6961325966850828\n"
     ]
    },
    {
     "data": {
      "application/vnd.jupyter.widget-view+json": {
       "model_id": "83a16b827728485a993bb3f11b8b07f8",
       "version_major": 2,
       "version_minor": 0
      },
      "text/plain": [
       "Iteration:   0%|          | 0/50 [00:00<?, ?it/s]"
      ]
     },
     "metadata": {},
     "output_type": "display_data"
    },
    {
     "name": "stderr",
     "output_type": "stream",
     "text": [
      "07/15/2021 15:51:54 - INFO - __main__ -   Loading features from cached file ./datasets/cached_dev_mlm_model_uncased_tech_line_by_line_512\n",
      "07/15/2021 15:51:54 - INFO - __main__ -   ***** Running evaluation 1075 *****\n",
      "07/15/2021 15:51:54 - INFO - __main__ -     Num examples = 94\n",
      "07/15/2021 15:51:54 - INFO - __main__ -     Batch size = 16\n"
     ]
    },
    {
     "data": {
      "application/vnd.jupyter.widget-view+json": {
       "model_id": "a627d960525741edad0c6ac21b0a43b9",
       "version_major": 2,
       "version_minor": 0
      },
      "text/plain": [
       "Evaluating:   0%|          | 0/6 [00:00<?, ?it/s]"
      ]
     },
     "metadata": {},
     "output_type": "display_data"
    },
    {
     "name": "stderr",
     "output_type": "stream",
     "text": [
      "07/15/2021 15:52:00 - INFO - __main__ -   ***** Eval results 1075 *****\n",
      "07/15/2021 15:52:00 - INFO - __main__ -   f1 = 0.629757785467128\n",
      "07/15/2021 15:52:00 - INFO - __main__ -   loss = 759.9173940022787\n",
      "07/15/2021 15:52:00 - INFO - __main__ -   report =                precision    recall  f1-score   support\n",
      "\n",
      "        POWER    0.57669   0.58025   0.57846       162\n",
      "         TECH    0.64491   0.74172   0.68994       453\n",
      "          SAP    0.11111   0.14286   0.12500        14\n",
      "         FUNC    0.25641   0.32258   0.28571        31\n",
      "QUALIFICATION    0.50000   0.72222   0.59091        18\n",
      "\n",
      "    micro avg    0.59322   0.67109   0.62976       678\n",
      "    macro avg    0.59598   0.67109   0.63053       678\n",
      "\n",
      "07/15/2021 15:52:00 - INFO - __main__ -   tech_f1 = 0.6899383983572897\n",
      "07/15/2021 15:52:44 - INFO - __main__ -   Loading features from cached file ./datasets/cached_dev_mlm_model_uncased_tech_line_by_line_512\n",
      "07/15/2021 15:52:44 - INFO - __main__ -   ***** Running evaluation 1100 *****\n",
      "07/15/2021 15:52:44 - INFO - __main__ -     Num examples = 94\n",
      "07/15/2021 15:52:44 - INFO - __main__ -     Batch size = 16\n"
     ]
    },
    {
     "data": {
      "application/vnd.jupyter.widget-view+json": {
       "model_id": "b420917df51d44bd869084f2b73abbba",
       "version_major": 2,
       "version_minor": 0
      },
      "text/plain": [
       "Evaluating:   0%|          | 0/6 [00:00<?, ?it/s]"
      ]
     },
     "metadata": {},
     "output_type": "display_data"
    },
    {
     "name": "stderr",
     "output_type": "stream",
     "text": [
      "07/15/2021 15:52:50 - INFO - __main__ -   ***** Eval results 1100 *****\n",
      "07/15/2021 15:52:50 - INFO - __main__ -   f1 = 0.6368960468521231\n",
      "07/15/2021 15:52:50 - INFO - __main__ -   loss = 686.1112162272135\n",
      "07/15/2021 15:52:50 - INFO - __main__ -   report =                precision    recall  f1-score   support\n",
      "\n",
      "        POWER    0.58491   0.57407   0.57944       162\n",
      "         TECH    0.69890   0.70199   0.70044       453\n",
      "          SAP    0.04762   0.07143   0.05714        14\n",
      "         FUNC    0.30000   0.29032   0.29508        31\n",
      "QUALIFICATION    0.60870   0.77778   0.68293        18\n",
      "\n",
      "    micro avg    0.63227   0.64159   0.63690       678\n",
      "    macro avg    0.63758   0.64159   0.63925       678\n",
      "\n",
      "07/15/2021 15:52:50 - INFO - __main__ -   tech_f1 = 0.7004405286343612\n"
     ]
    },
    {
     "data": {
      "application/vnd.jupyter.widget-view+json": {
       "model_id": "4c2493d6211d468c8135e3edb24af967",
       "version_major": 2,
       "version_minor": 0
      },
      "text/plain": [
       "Iteration:   0%|          | 0/50 [00:00<?, ?it/s]"
      ]
     },
     "metadata": {},
     "output_type": "display_data"
    },
    {
     "name": "stderr",
     "output_type": "stream",
     "text": [
      "07/15/2021 15:53:34 - INFO - __main__ -   Loading features from cached file ./datasets/cached_dev_mlm_model_uncased_tech_line_by_line_512\n",
      "07/15/2021 15:53:34 - INFO - __main__ -   ***** Running evaluation 1125 *****\n",
      "07/15/2021 15:53:34 - INFO - __main__ -     Num examples = 94\n",
      "07/15/2021 15:53:34 - INFO - __main__ -     Batch size = 16\n"
     ]
    },
    {
     "data": {
      "application/vnd.jupyter.widget-view+json": {
       "model_id": "f7c0cb3edd26431290158cc00894a103",
       "version_major": 2,
       "version_minor": 0
      },
      "text/plain": [
       "Evaluating:   0%|          | 0/6 [00:00<?, ?it/s]"
      ]
     },
     "metadata": {},
     "output_type": "display_data"
    },
    {
     "name": "stderr",
     "output_type": "stream",
     "text": [
      "07/15/2021 15:53:40 - INFO - __main__ -   ***** Eval results 1125 *****\n",
      "07/15/2021 15:53:40 - INFO - __main__ -   f1 = 0.6294642857142857\n",
      "07/15/2021 15:53:40 - INFO - __main__ -   loss = 818.0813802083334\n",
      "07/15/2021 15:53:40 - INFO - __main__ -   report =                precision    recall  f1-score   support\n",
      "\n",
      "        POWER    0.63359   0.51235   0.56655       162\n",
      "         TECH    0.70067   0.69757   0.69912       453\n",
      "          SAP    0.04348   0.07143   0.05405        14\n",
      "         FUNC    0.28947   0.35484   0.31884        31\n",
      "QUALIFICATION    0.52174   0.66667   0.58537        18\n",
      "\n",
      "    micro avg    0.63514   0.62389   0.62946       678\n",
      "    macro avg    0.64752   0.62389   0.63371       678\n",
      "\n",
      "07/15/2021 15:53:40 - INFO - __main__ -   tech_f1 = 0.6991150442477877\n",
      "07/15/2021 15:54:24 - INFO - __main__ -   Loading features from cached file ./datasets/cached_dev_mlm_model_uncased_tech_line_by_line_512\n",
      "07/15/2021 15:54:24 - INFO - __main__ -   ***** Running evaluation 1150 *****\n",
      "07/15/2021 15:54:24 - INFO - __main__ -     Num examples = 94\n",
      "07/15/2021 15:54:24 - INFO - __main__ -     Batch size = 16\n"
     ]
    },
    {
     "data": {
      "application/vnd.jupyter.widget-view+json": {
       "model_id": "f83a7cf7592b4a28bbb2919950c5ee8c",
       "version_major": 2,
       "version_minor": 0
      },
      "text/plain": [
       "Evaluating:   0%|          | 0/6 [00:00<?, ?it/s]"
      ]
     },
     "metadata": {},
     "output_type": "display_data"
    },
    {
     "name": "stderr",
     "output_type": "stream",
     "text": [
      "07/15/2021 15:54:30 - INFO - __main__ -   ***** Eval results 1150 *****\n",
      "07/15/2021 15:54:30 - INFO - __main__ -   f1 = 0.6314305849189571\n",
      "07/15/2021 15:54:30 - INFO - __main__ -   loss = 763.0078887939453\n",
      "07/15/2021 15:54:30 - INFO - __main__ -   report =                precision    recall  f1-score   support\n",
      "\n",
      "        POWER    0.53226   0.61111   0.56897       162\n",
      "         TECH    0.66465   0.72627   0.69409       453\n",
      "          SAP    0.07143   0.07143   0.07143        14\n",
      "         FUNC    0.34783   0.25806   0.29630        31\n",
      "QUALIFICATION    0.47826   0.61111   0.53659        18\n",
      "\n",
      "    micro avg    0.60459   0.66077   0.63143       678\n",
      "    macro avg    0.60133   0.66077   0.62897       678\n",
      "\n",
      "07/15/2021 15:54:30 - INFO - __main__ -   tech_f1 = 0.6940928270042194\n"
     ]
    },
    {
     "data": {
      "application/vnd.jupyter.widget-view+json": {
       "model_id": "5928dd970b6148349d9ca66985f107df",
       "version_major": 2,
       "version_minor": 0
      },
      "text/plain": [
       "Iteration:   0%|          | 0/50 [00:00<?, ?it/s]"
      ]
     },
     "metadata": {},
     "output_type": "display_data"
    },
    {
     "name": "stderr",
     "output_type": "stream",
     "text": [
      "07/15/2021 15:55:15 - INFO - __main__ -   Loading features from cached file ./datasets/cached_dev_mlm_model_uncased_tech_line_by_line_512\n",
      "07/15/2021 15:55:15 - INFO - __main__ -   ***** Running evaluation 1175 *****\n",
      "07/15/2021 15:55:15 - INFO - __main__ -     Num examples = 94\n",
      "07/15/2021 15:55:15 - INFO - __main__ -     Batch size = 16\n"
     ]
    },
    {
     "data": {
      "application/vnd.jupyter.widget-view+json": {
       "model_id": "7d8cafdbb690470592e381010fb2fa40",
       "version_major": 2,
       "version_minor": 0
      },
      "text/plain": [
       "Evaluating:   0%|          | 0/6 [00:00<?, ?it/s]"
      ]
     },
     "metadata": {},
     "output_type": "display_data"
    },
    {
     "name": "stderr",
     "output_type": "stream",
     "text": [
      "07/15/2021 15:55:21 - INFO - __main__ -   ***** Eval results 1175 *****\n",
      "07/15/2021 15:55:21 - INFO - __main__ -   f1 = 0.6349670811997074\n",
      "07/15/2021 15:55:21 - INFO - __main__ -   loss = 750.5471700032552\n",
      "07/15/2021 15:55:21 - INFO - __main__ -   report =                precision    recall  f1-score   support\n",
      "\n",
      "        POWER    0.61333   0.56790   0.58974       162\n",
      "         TECH    0.68750   0.70419   0.69575       453\n",
      "          SAP    0.11765   0.14286   0.12903        14\n",
      "         FUNC    0.28125   0.29032   0.28571        31\n",
      "QUALIFICATION    0.46154   0.66667   0.54545        18\n",
      "\n",
      "    micro avg    0.62990   0.64012   0.63497       678\n",
      "    macro avg    0.63344   0.64012   0.63598       678\n",
      "\n",
      "07/15/2021 15:55:21 - INFO - __main__ -   tech_f1 = 0.6957470010905126\n",
      "07/15/2021 15:56:05 - INFO - __main__ -   Loading features from cached file ./datasets/cached_dev_mlm_model_uncased_tech_line_by_line_512\n",
      "07/15/2021 15:56:05 - INFO - __main__ -   ***** Running evaluation 1200 *****\n",
      "07/15/2021 15:56:05 - INFO - __main__ -     Num examples = 94\n",
      "07/15/2021 15:56:05 - INFO - __main__ -     Batch size = 16\n"
     ]
    },
    {
     "data": {
      "application/vnd.jupyter.widget-view+json": {
       "model_id": "42841f0f966a46f6aada3f9b88d7f955",
       "version_major": 2,
       "version_minor": 0
      },
      "text/plain": [
       "Evaluating:   0%|          | 0/6 [00:00<?, ?it/s]"
      ]
     },
     "metadata": {},
     "output_type": "display_data"
    },
    {
     "name": "stderr",
     "output_type": "stream",
     "text": [
      "07/15/2021 15:56:10 - INFO - __main__ -   ***** Eval results 1200 *****\n",
      "07/15/2021 15:56:10 - INFO - __main__ -   f1 = 0.6283185840707964\n",
      "07/15/2021 15:56:10 - INFO - __main__ -   loss = 768.3598175048828\n",
      "07/15/2021 15:56:10 - INFO - __main__ -   report =                precision    recall  f1-score   support\n",
      "\n",
      "        POWER    0.60390   0.57407   0.58861       162\n",
      "         TECH    0.67679   0.68874   0.68271       453\n",
      "          SAP    0.08333   0.07143   0.07692        14\n",
      "         FUNC    0.28571   0.25806   0.27119        31\n",
      "QUALIFICATION    0.52174   0.66667   0.58537        18\n",
      "\n",
      "    micro avg    0.62832   0.62832   0.62832       678\n",
      "    macro avg    0.62512   0.62832   0.62632       678\n",
      "\n",
      "07/15/2021 15:56:10 - INFO - __main__ -   tech_f1 = 0.6827133479212254\n"
     ]
    },
    {
     "data": {
      "application/vnd.jupyter.widget-view+json": {
       "model_id": "d4d69b4583384f43bb9390bd5632726b",
       "version_major": 2,
       "version_minor": 0
      },
      "text/plain": [
       "Iteration:   0%|          | 0/50 [00:00<?, ?it/s]"
      ]
     },
     "metadata": {},
     "output_type": "display_data"
    },
    {
     "name": "stderr",
     "output_type": "stream",
     "text": [
      "07/15/2021 15:56:56 - INFO - __main__ -   Loading features from cached file ./datasets/cached_dev_mlm_model_uncased_tech_line_by_line_512\n",
      "07/15/2021 15:56:56 - INFO - __main__ -   ***** Running evaluation 1225 *****\n",
      "07/15/2021 15:56:56 - INFO - __main__ -     Num examples = 94\n",
      "07/15/2021 15:56:56 - INFO - __main__ -     Batch size = 16\n"
     ]
    },
    {
     "data": {
      "application/vnd.jupyter.widget-view+json": {
       "model_id": "97f6c857e7734385a4fd3b20204b87a4",
       "version_major": 2,
       "version_minor": 0
      },
      "text/plain": [
       "Evaluating:   0%|          | 0/6 [00:00<?, ?it/s]"
      ]
     },
     "metadata": {},
     "output_type": "display_data"
    },
    {
     "name": "stderr",
     "output_type": "stream",
     "text": [
      "07/15/2021 15:57:01 - INFO - __main__ -   ***** Eval results 1225 *****\n",
      "07/15/2021 15:57:01 - INFO - __main__ -   f1 = 0.6407185628742517\n",
      "07/15/2021 15:57:01 - INFO - __main__ -   loss = 798.8847351074219\n",
      "07/15/2021 15:57:01 - INFO - __main__ -   report =                precision    recall  f1-score   support\n",
      "\n",
      "        POWER    0.64925   0.53704   0.58784       162\n",
      "         TECH    0.70861   0.70861   0.70861       453\n",
      "          SAP    0.07143   0.07143   0.07143        14\n",
      "         FUNC    0.23529   0.25806   0.24615        31\n",
      "QUALIFICATION    0.47826   0.61111   0.53659        18\n",
      "\n",
      "    micro avg    0.65046   0.63127   0.64072       678\n",
      "    macro avg    0.65351   0.63127   0.64088       678\n",
      "\n",
      "07/15/2021 15:57:01 - INFO - __main__ -   tech_f1 = 0.7086092715231789\n",
      "07/15/2021 15:57:45 - INFO - __main__ -   Loading features from cached file ./datasets/cached_dev_mlm_model_uncased_tech_line_by_line_512\n",
      "07/15/2021 15:57:45 - INFO - __main__ -   ***** Running evaluation 1250 *****\n",
      "07/15/2021 15:57:45 - INFO - __main__ -     Num examples = 94\n",
      "07/15/2021 15:57:45 - INFO - __main__ -     Batch size = 16\n"
     ]
    },
    {
     "data": {
      "application/vnd.jupyter.widget-view+json": {
       "model_id": "e7e2b5c8505f4224b867801949ae93b0",
       "version_major": 2,
       "version_minor": 0
      },
      "text/plain": [
       "Evaluating:   0%|          | 0/6 [00:00<?, ?it/s]"
      ]
     },
     "metadata": {},
     "output_type": "display_data"
    },
    {
     "name": "stderr",
     "output_type": "stream",
     "text": [
      "07/15/2021 15:57:50 - INFO - __main__ -   ***** Eval results 1250 *****\n",
      "07/15/2021 15:57:50 - INFO - __main__ -   f1 = 0.6495224099926525\n",
      "07/15/2021 15:57:50 - INFO - __main__ -   loss = 732.1487325032552\n",
      "07/15/2021 15:57:50 - INFO - __main__ -   report =                precision    recall  f1-score   support\n",
      "\n",
      "        POWER    0.63571   0.54938   0.58940       162\n",
      "         TECH    0.70576   0.73068   0.71800       453\n",
      "          SAP    0.05263   0.07143   0.06061        14\n",
      "         FUNC    0.27273   0.29032   0.28125        31\n",
      "QUALIFICATION    0.54545   0.66667   0.60000        18\n",
      "\n",
      "    micro avg    0.64714   0.65192   0.64952       678\n",
      "    macro avg    0.65148   0.65192   0.65060       678\n",
      "\n",
      "07/15/2021 15:57:50 - INFO - __main__ -   tech_f1 = 0.7180043383947939\n"
     ]
    },
    {
     "data": {
      "application/vnd.jupyter.widget-view+json": {
       "model_id": "8e5c511ece174c8b879ea0d9ac00035d",
       "version_major": 2,
       "version_minor": 0
      },
      "text/plain": [
       "Iteration:   0%|          | 0/50 [00:00<?, ?it/s]"
      ]
     },
     "metadata": {},
     "output_type": "display_data"
    },
    {
     "name": "stderr",
     "output_type": "stream",
     "text": [
      "07/15/2021 15:58:35 - INFO - __main__ -   Loading features from cached file ./datasets/cached_dev_mlm_model_uncased_tech_line_by_line_512\n",
      "07/15/2021 15:58:35 - INFO - __main__ -   ***** Running evaluation 1275 *****\n",
      "07/15/2021 15:58:35 - INFO - __main__ -     Num examples = 94\n",
      "07/15/2021 15:58:35 - INFO - __main__ -     Batch size = 16\n"
     ]
    },
    {
     "data": {
      "application/vnd.jupyter.widget-view+json": {
       "model_id": "1b6075ce3fcc4d8ba90c26b7ec1b7fc8",
       "version_major": 2,
       "version_minor": 0
      },
      "text/plain": [
       "Evaluating:   0%|          | 0/6 [00:00<?, ?it/s]"
      ]
     },
     "metadata": {},
     "output_type": "display_data"
    },
    {
     "name": "stderr",
     "output_type": "stream",
     "text": [
      "07/15/2021 15:58:41 - INFO - __main__ -   ***** Eval results 1275 *****\n",
      "07/15/2021 15:58:41 - INFO - __main__ -   f1 = 0.6223826714801444\n",
      "07/15/2021 15:58:41 - INFO - __main__ -   loss = 804.7150573730469\n",
      "07/15/2021 15:58:41 - INFO - __main__ -   report =                precision    recall  f1-score   support\n",
      "\n",
      "        POWER    0.50262   0.59259   0.54391       162\n",
      "         TECH    0.71396   0.68874   0.70112       453\n",
      "          SAP    0.12500   0.14286   0.13333        14\n",
      "         FUNC    0.25000   0.32258   0.28169        31\n",
      "QUALIFICATION    0.47826   0.61111   0.53659        18\n",
      "\n",
      "    micro avg    0.60962   0.63569   0.62238       678\n",
      "    macro avg    0.62383   0.63569   0.62829       678\n",
      "\n",
      "07/15/2021 15:58:41 - INFO - __main__ -   tech_f1 = 0.701123595505618\n",
      "07/15/2021 15:59:25 - INFO - __main__ -   Loading features from cached file ./datasets/cached_dev_mlm_model_uncased_tech_line_by_line_512\n",
      "07/15/2021 15:59:25 - INFO - __main__ -   ***** Running evaluation 1300 *****\n",
      "07/15/2021 15:59:25 - INFO - __main__ -     Num examples = 94\n",
      "07/15/2021 15:59:25 - INFO - __main__ -     Batch size = 16\n"
     ]
    },
    {
     "data": {
      "application/vnd.jupyter.widget-view+json": {
       "model_id": "4dedc361ecbc439fb9f6526474e9129c",
       "version_major": 2,
       "version_minor": 0
      },
      "text/plain": [
       "Evaluating:   0%|          | 0/6 [00:00<?, ?it/s]"
      ]
     },
     "metadata": {},
     "output_type": "display_data"
    },
    {
     "name": "stderr",
     "output_type": "stream",
     "text": [
      "07/15/2021 15:59:31 - INFO - __main__ -   ***** Eval results 1300 *****\n",
      "07/15/2021 15:59:31 - INFO - __main__ -   f1 = 0.6403445800430725\n",
      "07/15/2021 15:59:31 - INFO - __main__ -   loss = 759.8767801920573\n",
      "07/15/2021 15:59:31 - INFO - __main__ -   report =                precision    recall  f1-score   support\n",
      "\n",
      "        POWER    0.62319   0.53086   0.57333       162\n",
      "         TECH    0.67535   0.74393   0.70798       453\n",
      "          SAP    0.13043   0.21429   0.16216        14\n",
      "         FUNC    0.21622   0.25806   0.23529        31\n",
      "QUALIFICATION    0.66667   0.66667   0.66667        18\n",
      "\n",
      "    micro avg    0.62378   0.65782   0.64034       678\n",
      "    macro avg    0.63041   0.65782   0.64183       678\n",
      "\n",
      "07/15/2021 15:59:31 - INFO - __main__ -   tech_f1 = 0.7079831932773111\n"
     ]
    },
    {
     "data": {
      "application/vnd.jupyter.widget-view+json": {
       "model_id": "27415e9f479343b0ae8caca4f7d79656",
       "version_major": 2,
       "version_minor": 0
      },
      "text/plain": [
       "Iteration:   0%|          | 0/50 [00:00<?, ?it/s]"
      ]
     },
     "metadata": {},
     "output_type": "display_data"
    },
    {
     "name": "stderr",
     "output_type": "stream",
     "text": [
      "07/15/2021 16:00:16 - INFO - __main__ -   Loading features from cached file ./datasets/cached_dev_mlm_model_uncased_tech_line_by_line_512\n",
      "07/15/2021 16:00:16 - INFO - __main__ -   ***** Running evaluation 1325 *****\n",
      "07/15/2021 16:00:16 - INFO - __main__ -     Num examples = 94\n",
      "07/15/2021 16:00:16 - INFO - __main__ -     Batch size = 16\n"
     ]
    },
    {
     "data": {
      "application/vnd.jupyter.widget-view+json": {
       "model_id": "282c55ed84b34c578986f871560c0722",
       "version_major": 2,
       "version_minor": 0
      },
      "text/plain": [
       "Evaluating:   0%|          | 0/6 [00:00<?, ?it/s]"
      ]
     },
     "metadata": {},
     "output_type": "display_data"
    },
    {
     "name": "stderr",
     "output_type": "stream",
     "text": [
      "07/15/2021 16:00:22 - INFO - __main__ -   ***** Eval results 1325 *****\n",
      "07/15/2021 16:00:22 - INFO - __main__ -   f1 = 0.6269545793000745\n",
      "07/15/2021 16:00:22 - INFO - __main__ -   loss = 779.4699300130209\n",
      "07/15/2021 16:00:22 - INFO - __main__ -   report =                precision    recall  f1-score   support\n",
      "\n",
      "        POWER    0.60403   0.55556   0.57878       162\n",
      "         TECH    0.72028   0.68212   0.70068       453\n",
      "          SAP    0.09524   0.14286   0.11429        14\n",
      "         FUNC    0.19149   0.29032   0.23077        31\n",
      "QUALIFICATION    0.57895   0.61111   0.59459        18\n",
      "\n",
      "    micro avg    0.63308   0.62094   0.62695       678\n",
      "    macro avg    0.65167   0.62094   0.63514       678\n",
      "\n",
      "07/15/2021 16:00:22 - INFO - __main__ -   tech_f1 = 0.7006802721088436\n",
      "07/15/2021 16:01:05 - INFO - __main__ -   Loading features from cached file ./datasets/cached_dev_mlm_model_uncased_tech_line_by_line_512\n",
      "07/15/2021 16:01:05 - INFO - __main__ -   ***** Running evaluation 1350 *****\n",
      "07/15/2021 16:01:05 - INFO - __main__ -     Num examples = 94\n",
      "07/15/2021 16:01:05 - INFO - __main__ -     Batch size = 16\n"
     ]
    },
    {
     "data": {
      "application/vnd.jupyter.widget-view+json": {
       "model_id": "6513eb9d5562490d974977a3687076e8",
       "version_major": 2,
       "version_minor": 0
      },
      "text/plain": [
       "Evaluating:   0%|          | 0/6 [00:00<?, ?it/s]"
      ]
     },
     "metadata": {},
     "output_type": "display_data"
    },
    {
     "name": "stderr",
     "output_type": "stream",
     "text": [
      "07/15/2021 16:01:11 - INFO - __main__ -   ***** Eval results 1350 *****\n",
      "07/15/2021 16:01:11 - INFO - __main__ -   f1 = 0.645367412140575\n",
      "07/15/2021 16:01:11 - INFO - __main__ -   loss = 743.9996795654297\n",
      "07/15/2021 16:01:11 - INFO - __main__ -   report =                precision    recall  f1-score   support\n",
      "\n",
      "        POWER    0.69748   0.51235   0.59075       162\n",
      "         TECH    0.76410   0.65784   0.70700       453\n",
      "          SAP    0.14286   0.14286   0.14286        14\n",
      "         FUNC    0.29032   0.29032   0.29032        31\n",
      "QUALIFICATION    0.60000   0.66667   0.63158        18\n",
      "\n",
      "    micro avg    0.70383   0.59587   0.64537       678\n",
      "    macro avg    0.70934   0.59587   0.64652       678\n",
      "\n",
      "07/15/2021 16:01:11 - INFO - __main__ -   tech_f1 = 0.7069988137603795\n"
     ]
    },
    {
     "data": {
      "application/vnd.jupyter.widget-view+json": {
       "model_id": "aa936f78f5ad40ee9880626b46b89d6b",
       "version_major": 2,
       "version_minor": 0
      },
      "text/plain": [
       "Iteration:   0%|          | 0/50 [00:00<?, ?it/s]"
      ]
     },
     "metadata": {},
     "output_type": "display_data"
    },
    {
     "name": "stderr",
     "output_type": "stream",
     "text": [
      "07/15/2021 16:01:55 - INFO - __main__ -   Loading features from cached file ./datasets/cached_dev_mlm_model_uncased_tech_line_by_line_512\n",
      "07/15/2021 16:01:55 - INFO - __main__ -   ***** Running evaluation 1375 *****\n",
      "07/15/2021 16:01:55 - INFO - __main__ -     Num examples = 94\n",
      "07/15/2021 16:01:55 - INFO - __main__ -     Batch size = 16\n"
     ]
    },
    {
     "data": {
      "application/vnd.jupyter.widget-view+json": {
       "model_id": "7e1df6427abb49fe9b0a99e419e0ab8e",
       "version_major": 2,
       "version_minor": 0
      },
      "text/plain": [
       "Evaluating:   0%|          | 0/6 [00:00<?, ?it/s]"
      ]
     },
     "metadata": {},
     "output_type": "display_data"
    },
    {
     "name": "stderr",
     "output_type": "stream",
     "text": [
      "07/15/2021 16:02:01 - INFO - __main__ -   ***** Eval results 1375 *****\n",
      "07/15/2021 16:02:01 - INFO - __main__ -   f1 = 0.6403508771929824\n",
      "07/15/2021 16:02:01 - INFO - __main__ -   loss = 808.9385325113932\n",
      "07/15/2021 16:02:01 - INFO - __main__ -   report =                precision    recall  f1-score   support\n",
      "\n",
      "        POWER    0.58642   0.58642   0.58642       162\n",
      "         TECH    0.70460   0.71082   0.70769       453\n",
      "          SAP    0.14286   0.14286   0.14286        14\n",
      "         FUNC    0.18421   0.22581   0.20290        31\n",
      "QUALIFICATION    0.63158   0.66667   0.64865        18\n",
      "\n",
      "    micro avg    0.63478   0.64602   0.64035       678\n",
      "    macro avg    0.63903   0.64602   0.64240       678\n",
      "\n",
      "07/15/2021 16:02:01 - INFO - __main__ -   tech_f1 = 0.7076923076923076\n",
      "07/15/2021 16:02:45 - INFO - __main__ -   Loading features from cached file ./datasets/cached_dev_mlm_model_uncased_tech_line_by_line_512\n",
      "07/15/2021 16:02:45 - INFO - __main__ -   ***** Running evaluation 1400 *****\n",
      "07/15/2021 16:02:45 - INFO - __main__ -     Num examples = 94\n",
      "07/15/2021 16:02:45 - INFO - __main__ -     Batch size = 16\n"
     ]
    },
    {
     "data": {
      "application/vnd.jupyter.widget-view+json": {
       "model_id": "082ac1bdcd46457b843c1ab51da2b88f",
       "version_major": 2,
       "version_minor": 0
      },
      "text/plain": [
       "Evaluating:   0%|          | 0/6 [00:00<?, ?it/s]"
      ]
     },
     "metadata": {},
     "output_type": "display_data"
    },
    {
     "name": "stderr",
     "output_type": "stream",
     "text": [
      "07/15/2021 16:02:51 - INFO - __main__ -   ***** Eval results 1400 *****\n",
      "07/15/2021 16:02:51 - INFO - __main__ -   f1 = 0.6476190476190476\n",
      "07/15/2021 16:02:51 - INFO - __main__ -   loss = 819.1409606933594\n",
      "07/15/2021 16:02:51 - INFO - __main__ -   report =                precision    recall  f1-score   support\n",
      "\n",
      "        POWER    0.57485   0.59259   0.58359       162\n",
      "         TECH    0.71491   0.71965   0.71727       453\n",
      "          SAP    0.14286   0.14286   0.14286        14\n",
      "         FUNC    0.21429   0.19355   0.20339        31\n",
      "QUALIFICATION    0.54545   0.66667   0.60000        18\n",
      "\n",
      "    micro avg    0.64338   0.65192   0.64762       678\n",
      "    macro avg    0.64224   0.65192   0.64686       678\n",
      "\n",
      "07/15/2021 16:02:51 - INFO - __main__ -   tech_f1 = 0.7172717271727173\n"
     ]
    },
    {
     "data": {
      "application/vnd.jupyter.widget-view+json": {
       "model_id": "5a02cd1a05df44f0bbcd61facec7f9b4",
       "version_major": 2,
       "version_minor": 0
      },
      "text/plain": [
       "Iteration:   0%|          | 0/50 [00:00<?, ?it/s]"
      ]
     },
     "metadata": {},
     "output_type": "display_data"
    },
    {
     "name": "stderr",
     "output_type": "stream",
     "text": [
      "07/15/2021 16:03:36 - INFO - __main__ -   Loading features from cached file ./datasets/cached_dev_mlm_model_uncased_tech_line_by_line_512\n",
      "07/15/2021 16:03:36 - INFO - __main__ -   ***** Running evaluation 1425 *****\n",
      "07/15/2021 16:03:36 - INFO - __main__ -     Num examples = 94\n",
      "07/15/2021 16:03:36 - INFO - __main__ -     Batch size = 16\n"
     ]
    },
    {
     "data": {
      "application/vnd.jupyter.widget-view+json": {
       "model_id": "2326e469c4f64a3a8af734670202d5c5",
       "version_major": 2,
       "version_minor": 0
      },
      "text/plain": [
       "Evaluating:   0%|          | 0/6 [00:00<?, ?it/s]"
      ]
     },
     "metadata": {},
     "output_type": "display_data"
    },
    {
     "name": "stderr",
     "output_type": "stream",
     "text": [
      "07/15/2021 16:03:42 - INFO - __main__ -   ***** Eval results 1425 *****\n",
      "07/15/2021 16:03:42 - INFO - __main__ -   f1 = 0.6250866250866252\n",
      "07/15/2021 16:03:42 - INFO - __main__ -   loss = 905.5524597167969\n",
      "07/15/2021 16:03:42 - INFO - __main__ -   report =                precision    recall  f1-score   support\n",
      "\n",
      "        POWER    0.58442   0.55556   0.56962       162\n",
      "         TECH    0.64695   0.74834   0.69396       453\n",
      "          SAP    0.03333   0.07143   0.04545        14\n",
      "         FUNC    0.24242   0.25806   0.25000        31\n",
      "QUALIFICATION    0.54167   0.72222   0.61905        18\n",
      "\n",
      "    micro avg    0.58954   0.66519   0.62509       678\n",
      "    macro avg    0.59804   0.66519   0.62857       678\n",
      "\n",
      "07/15/2021 16:03:42 - INFO - __main__ -   tech_f1 = 0.6939611054247697\n",
      "07/15/2021 16:04:25 - INFO - __main__ -   Loading features from cached file ./datasets/cached_dev_mlm_model_uncased_tech_line_by_line_512\n",
      "07/15/2021 16:04:25 - INFO - __main__ -   ***** Running evaluation 1450 *****\n",
      "07/15/2021 16:04:25 - INFO - __main__ -     Num examples = 94\n",
      "07/15/2021 16:04:25 - INFO - __main__ -     Batch size = 16\n"
     ]
    },
    {
     "data": {
      "application/vnd.jupyter.widget-view+json": {
       "model_id": "5c5b930c5d6d40aba8c35e84515fb048",
       "version_major": 2,
       "version_minor": 0
      },
      "text/plain": [
       "Evaluating:   0%|          | 0/6 [00:00<?, ?it/s]"
      ]
     },
     "metadata": {},
     "output_type": "display_data"
    },
    {
     "name": "stderr",
     "output_type": "stream",
     "text": [
      "07/15/2021 16:04:31 - INFO - __main__ -   ***** Eval results 1450 *****\n",
      "07/15/2021 16:04:31 - INFO - __main__ -   f1 = 0.6188835286009648\n",
      "07/15/2021 16:04:31 - INFO - __main__ -   loss = 927.7136027018229\n",
      "07/15/2021 16:04:31 - INFO - __main__ -   report =                precision    recall  f1-score   support\n",
      "\n",
      "        POWER    0.50000   0.59259   0.54237       162\n",
      "         TECH    0.66869   0.73068   0.69831       453\n",
      "          SAP    0.04167   0.07143   0.05263        14\n",
      "         FUNC    0.18605   0.25806   0.21622        31\n",
      "QUALIFICATION    0.68421   0.72222   0.70270        18\n",
      "\n",
      "    micro avg    0.58085   0.66224   0.61888       678\n",
      "    macro avg    0.59378   0.66224   0.62579       678\n",
      "\n",
      "07/15/2021 16:04:31 - INFO - __main__ -   tech_f1 = 0.6983122362869197\n"
     ]
    },
    {
     "data": {
      "application/vnd.jupyter.widget-view+json": {
       "model_id": "b7f38cd12a1f456286cd8a3e3d8a5fee",
       "version_major": 2,
       "version_minor": 0
      },
      "text/plain": [
       "Iteration:   0%|          | 0/50 [00:00<?, ?it/s]"
      ]
     },
     "metadata": {},
     "output_type": "display_data"
    },
    {
     "name": "stderr",
     "output_type": "stream",
     "text": [
      "07/15/2021 16:05:16 - INFO - __main__ -   Loading features from cached file ./datasets/cached_dev_mlm_model_uncased_tech_line_by_line_512\n",
      "07/15/2021 16:05:16 - INFO - __main__ -   ***** Running evaluation 1475 *****\n",
      "07/15/2021 16:05:16 - INFO - __main__ -     Num examples = 94\n",
      "07/15/2021 16:05:16 - INFO - __main__ -     Batch size = 16\n"
     ]
    },
    {
     "data": {
      "application/vnd.jupyter.widget-view+json": {
       "model_id": "1f151920780542189227e21283abc78a",
       "version_major": 2,
       "version_minor": 0
      },
      "text/plain": [
       "Evaluating:   0%|          | 0/6 [00:00<?, ?it/s]"
      ]
     },
     "metadata": {},
     "output_type": "display_data"
    },
    {
     "name": "stderr",
     "output_type": "stream",
     "text": [
      "07/15/2021 16:05:22 - INFO - __main__ -   ***** Eval results 1475 *****\n",
      "07/15/2021 16:05:22 - INFO - __main__ -   f1 = 0.6403641881638846\n",
      "07/15/2021 16:05:22 - INFO - __main__ -   loss = 821.0942026774088\n",
      "07/15/2021 16:05:22 - INFO - __main__ -   report =                precision    recall  f1-score   support\n",
      "\n",
      "        POWER    0.63043   0.53704   0.58000       162\n",
      "         TECH    0.73872   0.68653   0.71167       453\n",
      "          SAP    0.07407   0.14286   0.09756        14\n",
      "         FUNC    0.28571   0.32258   0.30303        31\n",
      "QUALIFICATION    0.63158   0.66667   0.64865        18\n",
      "\n",
      "    micro avg    0.65938   0.62242   0.64036       678\n",
      "    macro avg    0.67556   0.62242   0.64717       678\n",
      "\n",
      "07/15/2021 16:05:22 - INFO - __main__ -   tech_f1 = 0.7116704805491991\n",
      "07/15/2021 16:06:05 - INFO - __main__ -   Loading features from cached file ./datasets/cached_dev_mlm_model_uncased_tech_line_by_line_512\n",
      "07/15/2021 16:06:05 - INFO - __main__ -   ***** Running evaluation 1500 *****\n",
      "07/15/2021 16:06:05 - INFO - __main__ -     Num examples = 94\n",
      "07/15/2021 16:06:05 - INFO - __main__ -     Batch size = 16\n"
     ]
    },
    {
     "data": {
      "application/vnd.jupyter.widget-view+json": {
       "model_id": "ebd0371334834b5789968d8b4c92c21b",
       "version_major": 2,
       "version_minor": 0
      },
      "text/plain": [
       "Evaluating:   0%|          | 0/6 [00:00<?, ?it/s]"
      ]
     },
     "metadata": {},
     "output_type": "display_data"
    },
    {
     "name": "stderr",
     "output_type": "stream",
     "text": [
      "07/15/2021 16:06:11 - INFO - __main__ -   ***** Eval results 1500 *****\n",
      "07/15/2021 16:06:11 - INFO - __main__ -   f1 = 0.630258302583026\n",
      "07/15/2021 16:06:11 - INFO - __main__ -   loss = 863.0449879964193\n",
      "07/15/2021 16:06:11 - INFO - __main__ -   report =                precision    recall  f1-score   support\n",
      "\n",
      "        POWER    0.66400   0.51235   0.57840       162\n",
      "         TECH    0.66806   0.70640   0.68670       453\n",
      "          SAP    0.10000   0.14286   0.11765        14\n",
      "         FUNC    0.30303   0.32258   0.31250        31\n",
      "QUALIFICATION    0.60000   0.66667   0.63158        18\n",
      "\n",
      "    micro avg    0.63072   0.62979   0.63026       678\n",
      "    macro avg    0.63686   0.62979   0.63050       678\n",
      "\n",
      "07/15/2021 16:06:11 - INFO - __main__ -   tech_f1 = 0.6866952789699571\n"
     ]
    },
    {
     "data": {
      "application/vnd.jupyter.widget-view+json": {
       "model_id": "fd124923935f4a258c2924d6061d7051",
       "version_major": 2,
       "version_minor": 0
      },
      "text/plain": [
       "Iteration:   0%|          | 0/50 [00:00<?, ?it/s]"
      ]
     },
     "metadata": {},
     "output_type": "display_data"
    },
    {
     "name": "stderr",
     "output_type": "stream",
     "text": [
      "07/15/2021 16:06:55 - INFO - __main__ -   Loading features from cached file ./datasets/cached_dev_mlm_model_uncased_tech_line_by_line_512\n",
      "07/15/2021 16:06:56 - INFO - __main__ -   ***** Running evaluation 1525 *****\n",
      "07/15/2021 16:06:56 - INFO - __main__ -     Num examples = 94\n",
      "07/15/2021 16:06:56 - INFO - __main__ -     Batch size = 16\n"
     ]
    },
    {
     "data": {
      "application/vnd.jupyter.widget-view+json": {
       "model_id": "af3012b175264ab890259cfba914c1fd",
       "version_major": 2,
       "version_minor": 0
      },
      "text/plain": [
       "Evaluating:   0%|          | 0/6 [00:00<?, ?it/s]"
      ]
     },
     "metadata": {},
     "output_type": "display_data"
    },
    {
     "name": "stderr",
     "output_type": "stream",
     "text": [
      "07/15/2021 16:07:01 - INFO - __main__ -   ***** Eval results 1525 *****\n",
      "07/15/2021 16:07:01 - INFO - __main__ -   f1 = 0.6111111111111112\n",
      "07/15/2021 16:07:01 - INFO - __main__ -   loss = 920.4629109700521\n",
      "07/15/2021 16:07:01 - INFO - __main__ -   report =                precision    recall  f1-score   support\n",
      "\n",
      "        POWER    0.53488   0.56790   0.55090       162\n",
      "         TECH    0.64803   0.69095   0.66880       453\n",
      "          SAP    0.05882   0.07143   0.06452        14\n",
      "         FUNC    0.28571   0.32258   0.30303        31\n",
      "QUALIFICATION    0.68421   0.72222   0.70270        18\n",
      "\n",
      "    micro avg    0.59091   0.63274   0.61111       678\n",
      "    macro avg    0.59323   0.63274   0.61233       678\n",
      "\n",
      "07/15/2021 16:07:01 - INFO - __main__ -   tech_f1 = 0.6688034188034189\n",
      "07/15/2021 16:07:46 - INFO - __main__ -   Loading features from cached file ./datasets/cached_dev_mlm_model_uncased_tech_line_by_line_512\n",
      "07/15/2021 16:07:46 - INFO - __main__ -   ***** Running evaluation 1550 *****\n",
      "07/15/2021 16:07:46 - INFO - __main__ -     Num examples = 94\n",
      "07/15/2021 16:07:46 - INFO - __main__ -     Batch size = 16\n"
     ]
    },
    {
     "data": {
      "application/vnd.jupyter.widget-view+json": {
       "model_id": "ff4d9f221d2341a885054e3a6844742e",
       "version_major": 2,
       "version_minor": 0
      },
      "text/plain": [
       "Evaluating:   0%|          | 0/6 [00:00<?, ?it/s]"
      ]
     },
     "metadata": {},
     "output_type": "display_data"
    },
    {
     "name": "stderr",
     "output_type": "stream",
     "text": [
      "07/15/2021 16:07:52 - INFO - __main__ -   ***** Eval results 1550 *****\n",
      "07/15/2021 16:07:52 - INFO - __main__ -   f1 = 0.6256335988414192\n",
      "07/15/2021 16:07:52 - INFO - __main__ -   loss = 917.7992299397787\n",
      "07/15/2021 16:07:52 - INFO - __main__ -   report =                precision    recall  f1-score   support\n",
      "\n",
      "        POWER    0.61314   0.51852   0.56187       162\n",
      "         TECH    0.65070   0.71965   0.68344       453\n",
      "          SAP    0.11765   0.14286   0.12903        14\n",
      "         FUNC    0.25000   0.22581   0.23729        31\n",
      "QUALIFICATION    0.65000   0.72222   0.68421        18\n",
      "\n",
      "    micro avg    0.61451   0.63717   0.62563       678\n",
      "    macro avg    0.61238   0.63717   0.62256       678\n",
      "\n",
      "07/15/2021 16:07:52 - INFO - __main__ -   tech_f1 = 0.6834381551362684\n"
     ]
    },
    {
     "data": {
      "application/vnd.jupyter.widget-view+json": {
       "model_id": "7f19440676134b5e992b64aa6438c06e",
       "version_major": 2,
       "version_minor": 0
      },
      "text/plain": [
       "Iteration:   0%|          | 0/50 [00:00<?, ?it/s]"
      ]
     },
     "metadata": {},
     "output_type": "display_data"
    },
    {
     "name": "stderr",
     "output_type": "stream",
     "text": [
      "07/15/2021 16:08:36 - INFO - __main__ -   Loading features from cached file ./datasets/cached_dev_mlm_model_uncased_tech_line_by_line_512\n",
      "07/15/2021 16:08:36 - INFO - __main__ -   ***** Running evaluation 1575 *****\n",
      "07/15/2021 16:08:36 - INFO - __main__ -     Num examples = 94\n",
      "07/15/2021 16:08:36 - INFO - __main__ -     Batch size = 16\n"
     ]
    },
    {
     "data": {
      "application/vnd.jupyter.widget-view+json": {
       "model_id": "3571743290cd4054a8ff1c96962a76c9",
       "version_major": 2,
       "version_minor": 0
      },
      "text/plain": [
       "Evaluating:   0%|          | 0/6 [00:00<?, ?it/s]"
      ]
     },
     "metadata": {},
     "output_type": "display_data"
    },
    {
     "name": "stderr",
     "output_type": "stream",
     "text": [
      "07/15/2021 16:08:42 - INFO - __main__ -   ***** Eval results 1575 *****\n",
      "07/15/2021 16:08:42 - INFO - __main__ -   f1 = 0.6285714285714286\n",
      "07/15/2021 16:08:42 - INFO - __main__ -   loss = 883.5702311197916\n",
      "07/15/2021 16:08:42 - INFO - __main__ -   report =                precision    recall  f1-score   support\n",
      "\n",
      "        POWER    0.58170   0.54938   0.56508       162\n",
      "         TECH    0.70044   0.70199   0.70121       453\n",
      "          SAP    0.11538   0.21429   0.15000        14\n",
      "         FUNC    0.24242   0.25806   0.25000        31\n",
      "QUALIFICATION    0.52381   0.61111   0.56410        18\n",
      "\n",
      "    micro avg    0.62445   0.63274   0.62857       678\n",
      "    macro avg    0.63436   0.63274   0.63303       678\n",
      "\n",
      "07/15/2021 16:08:42 - INFO - __main__ -   tech_f1 = 0.7012127894156561\n",
      "07/15/2021 16:09:26 - INFO - __main__ -   Loading features from cached file ./datasets/cached_dev_mlm_model_uncased_tech_line_by_line_512\n",
      "07/15/2021 16:09:26 - INFO - __main__ -   ***** Running evaluation 1600 *****\n",
      "07/15/2021 16:09:26 - INFO - __main__ -     Num examples = 94\n",
      "07/15/2021 16:09:26 - INFO - __main__ -     Batch size = 16\n"
     ]
    },
    {
     "data": {
      "application/vnd.jupyter.widget-view+json": {
       "model_id": "8a5e022014a64c5691336df06a60994f",
       "version_major": 2,
       "version_minor": 0
      },
      "text/plain": [
       "Evaluating:   0%|          | 0/6 [00:00<?, ?it/s]"
      ]
     },
     "metadata": {},
     "output_type": "display_data"
    },
    {
     "name": "stderr",
     "output_type": "stream",
     "text": [
      "07/15/2021 16:09:32 - INFO - __main__ -   ***** Eval results 1600 *****\n",
      "07/15/2021 16:09:32 - INFO - __main__ -   f1 = 0.6427503736920777\n",
      "07/15/2021 16:09:32 - INFO - __main__ -   loss = 866.6531270345052\n",
      "07/15/2021 16:09:32 - INFO - __main__ -   report =                precision    recall  f1-score   support\n",
      "\n",
      "        POWER    0.66154   0.53086   0.58904       162\n",
      "         TECH    0.70153   0.71082   0.70614       453\n",
      "          SAP    0.14286   0.21429   0.17143        14\n",
      "         FUNC    0.23529   0.25806   0.24615        31\n",
      "QUALIFICATION    0.68750   0.61111   0.64706        18\n",
      "\n",
      "    micro avg    0.65152   0.63422   0.64275       678\n",
      "    macro avg    0.65875   0.63422   0.64452       678\n",
      "\n",
      "07/15/2021 16:09:32 - INFO - __main__ -   tech_f1 = 0.706140350877193\n"
     ]
    },
    {
     "data": {
      "application/vnd.jupyter.widget-view+json": {
       "model_id": "87af87b33e54433c8a7457586da504e8",
       "version_major": 2,
       "version_minor": 0
      },
      "text/plain": [
       "Iteration:   0%|          | 0/50 [00:00<?, ?it/s]"
      ]
     },
     "metadata": {},
     "output_type": "display_data"
    },
    {
     "name": "stderr",
     "output_type": "stream",
     "text": [
      "07/15/2021 16:10:17 - INFO - __main__ -   Loading features from cached file ./datasets/cached_dev_mlm_model_uncased_tech_line_by_line_512\n",
      "07/15/2021 16:10:17 - INFO - __main__ -   ***** Running evaluation 1625 *****\n",
      "07/15/2021 16:10:17 - INFO - __main__ -     Num examples = 94\n",
      "07/15/2021 16:10:17 - INFO - __main__ -     Batch size = 16\n"
     ]
    },
    {
     "data": {
      "application/vnd.jupyter.widget-view+json": {
       "model_id": "7264a42007814eb3a0e3ac085a0990c7",
       "version_major": 2,
       "version_minor": 0
      },
      "text/plain": [
       "Evaluating:   0%|          | 0/6 [00:00<?, ?it/s]"
      ]
     },
     "metadata": {},
     "output_type": "display_data"
    },
    {
     "name": "stderr",
     "output_type": "stream",
     "text": [
      "07/15/2021 16:10:23 - INFO - __main__ -   ***** Eval results 1625 *****\n",
      "07/15/2021 16:10:23 - INFO - __main__ -   f1 = 0.6202812731310141\n",
      "07/15/2021 16:10:23 - INFO - __main__ -   loss = 865.9913991292318\n",
      "07/15/2021 16:10:23 - INFO - __main__ -   report =                precision    recall  f1-score   support\n",
      "\n",
      "        POWER    0.55056   0.60494   0.57647       162\n",
      "         TECH    0.70588   0.66225   0.68337       453\n",
      "          SAP    0.17647   0.21429   0.19355        14\n",
      "         FUNC    0.23333   0.22581   0.22951        31\n",
      "QUALIFICATION    0.47826   0.61111   0.53659        18\n",
      "\n",
      "    micro avg    0.62259   0.61799   0.62028       678\n",
      "    macro avg    0.63019   0.61799   0.62307       678\n",
      "\n",
      "07/15/2021 16:10:23 - INFO - __main__ -   tech_f1 = 0.6833712984054671\n",
      "07/15/2021 16:11:07 - INFO - __main__ -   Loading features from cached file ./datasets/cached_dev_mlm_model_uncased_tech_line_by_line_512\n",
      "07/15/2021 16:11:07 - INFO - __main__ -   ***** Running evaluation 1650 *****\n",
      "07/15/2021 16:11:07 - INFO - __main__ -     Num examples = 94\n",
      "07/15/2021 16:11:07 - INFO - __main__ -     Batch size = 16\n"
     ]
    },
    {
     "data": {
      "application/vnd.jupyter.widget-view+json": {
       "model_id": "954bac7b2ade4e1ab1ef1783154785f2",
       "version_major": 2,
       "version_minor": 0
      },
      "text/plain": [
       "Evaluating:   0%|          | 0/6 [00:00<?, ?it/s]"
      ]
     },
     "metadata": {},
     "output_type": "display_data"
    },
    {
     "name": "stderr",
     "output_type": "stream",
     "text": [
      "07/15/2021 16:11:12 - INFO - __main__ -   ***** Eval results 1650 *****\n",
      "07/15/2021 16:11:12 - INFO - __main__ -   f1 = 0.6266094420600858\n",
      "07/15/2021 16:11:12 - INFO - __main__ -   loss = 951.6303100585938\n",
      "07/15/2021 16:11:12 - INFO - __main__ -   report =                precision    recall  f1-score   support\n",
      "\n",
      "        POWER    0.56250   0.61111   0.58580       162\n",
      "         TECH    0.68831   0.70199   0.69508       453\n",
      "          SAP    0.08333   0.07143   0.07692        14\n",
      "         FUNC    0.19149   0.29032   0.23077        31\n",
      "QUALIFICATION    0.47826   0.61111   0.53659        18\n",
      "\n",
      "    micro avg    0.60833   0.64602   0.62661       678\n",
      "    macro avg    0.61747   0.64602   0.63077       678\n",
      "\n",
      "07/15/2021 16:11:12 - INFO - __main__ -   tech_f1 = 0.6950819672131148\n"
     ]
    },
    {
     "data": {
      "application/vnd.jupyter.widget-view+json": {
       "model_id": "ce49a388542844f08199a0af7233af94",
       "version_major": 2,
       "version_minor": 0
      },
      "text/plain": [
       "Iteration:   0%|          | 0/50 [00:00<?, ?it/s]"
      ]
     },
     "metadata": {},
     "output_type": "display_data"
    },
    {
     "name": "stderr",
     "output_type": "stream",
     "text": [
      "07/15/2021 16:11:57 - INFO - __main__ -   Loading features from cached file ./datasets/cached_dev_mlm_model_uncased_tech_line_by_line_512\n",
      "07/15/2021 16:11:57 - INFO - __main__ -   ***** Running evaluation 1675 *****\n",
      "07/15/2021 16:11:57 - INFO - __main__ -     Num examples = 94\n",
      "07/15/2021 16:11:57 - INFO - __main__ -     Batch size = 16\n"
     ]
    },
    {
     "data": {
      "application/vnd.jupyter.widget-view+json": {
       "model_id": "2ba86b2b24cf4f438bd147af6b963702",
       "version_major": 2,
       "version_minor": 0
      },
      "text/plain": [
       "Evaluating:   0%|          | 0/6 [00:00<?, ?it/s]"
      ]
     },
     "metadata": {},
     "output_type": "display_data"
    },
    {
     "name": "stderr",
     "output_type": "stream",
     "text": [
      "07/15/2021 16:12:03 - INFO - __main__ -   ***** Eval results 1675 *****\n",
      "07/15/2021 16:12:03 - INFO - __main__ -   f1 = 0.6147651006711409\n",
      "07/15/2021 16:12:03 - INFO - __main__ -   loss = 1021.3249918619791\n",
      "07/15/2021 16:12:03 - INFO - __main__ -   report =                precision    recall  f1-score   support\n",
      "\n",
      "        POWER    0.50732   0.64198   0.56676       162\n",
      "         TECH    0.65538   0.72627   0.68901       453\n",
      "          SAP    0.07895   0.21429   0.11538        14\n",
      "         FUNC    0.25581   0.35484   0.29730        31\n",
      "QUALIFICATION    0.45833   0.61111   0.52381        18\n",
      "\n",
      "    micro avg    0.56404   0.67552   0.61477       678\n",
      "    macro avg    0.58460   0.67552   0.62566       678\n",
      "\n",
      "07/15/2021 16:12:03 - INFO - __main__ -   tech_f1 = 0.6890052356020943\n",
      "07/15/2021 16:12:47 - INFO - __main__ -   Loading features from cached file ./datasets/cached_dev_mlm_model_uncased_tech_line_by_line_512\n",
      "07/15/2021 16:12:47 - INFO - __main__ -   ***** Running evaluation 1700 *****\n",
      "07/15/2021 16:12:47 - INFO - __main__ -     Num examples = 94\n",
      "07/15/2021 16:12:47 - INFO - __main__ -     Batch size = 16\n"
     ]
    },
    {
     "data": {
      "application/vnd.jupyter.widget-view+json": {
       "model_id": "7aa8f4307cfc45f3aebfc9e4a5aebd28",
       "version_major": 2,
       "version_minor": 0
      },
      "text/plain": [
       "Evaluating:   0%|          | 0/6 [00:00<?, ?it/s]"
      ]
     },
     "metadata": {},
     "output_type": "display_data"
    },
    {
     "name": "stderr",
     "output_type": "stream",
     "text": [
      "07/15/2021 16:12:52 - INFO - __main__ -   ***** Eval results 1700 *****\n",
      "07/15/2021 16:12:52 - INFO - __main__ -   f1 = 0.6307692307692307\n",
      "07/15/2021 16:12:52 - INFO - __main__ -   loss = 978.807118733724\n",
      "07/15/2021 16:12:52 - INFO - __main__ -   report =                precision    recall  f1-score   support\n",
      "\n",
      "        POWER    0.59006   0.58642   0.58824       162\n",
      "         TECH    0.66534   0.73731   0.69948       453\n",
      "          SAP    0.06667   0.14286   0.09091        14\n",
      "         FUNC    0.25000   0.29032   0.26866        31\n",
      "QUALIFICATION    0.47826   0.61111   0.53659        18\n",
      "\n",
      "    micro avg    0.59973   0.66519   0.63077       678\n",
      "    macro avg    0.61103   0.66519   0.63631       678\n",
      "\n",
      "07/15/2021 16:12:52 - INFO - __main__ -   tech_f1 = 0.6994764397905758\n"
     ]
    },
    {
     "data": {
      "application/vnd.jupyter.widget-view+json": {
       "model_id": "47d5baf335f7470cbe194bd2985c2862",
       "version_major": 2,
       "version_minor": 0
      },
      "text/plain": [
       "Iteration:   0%|          | 0/50 [00:00<?, ?it/s]"
      ]
     },
     "metadata": {},
     "output_type": "display_data"
    },
    {
     "name": "stderr",
     "output_type": "stream",
     "text": [
      "07/15/2021 16:13:38 - INFO - __main__ -   Loading features from cached file ./datasets/cached_dev_mlm_model_uncased_tech_line_by_line_512\n",
      "07/15/2021 16:13:38 - INFO - __main__ -   ***** Running evaluation 1725 *****\n",
      "07/15/2021 16:13:38 - INFO - __main__ -     Num examples = 94\n",
      "07/15/2021 16:13:38 - INFO - __main__ -     Batch size = 16\n"
     ]
    },
    {
     "data": {
      "application/vnd.jupyter.widget-view+json": {
       "model_id": "51f3109ca7db483b99af2992951c1581",
       "version_major": 2,
       "version_minor": 0
      },
      "text/plain": [
       "Evaluating:   0%|          | 0/6 [00:00<?, ?it/s]"
      ]
     },
     "metadata": {},
     "output_type": "display_data"
    },
    {
     "name": "stderr",
     "output_type": "stream",
     "text": [
      "07/15/2021 16:13:44 - INFO - __main__ -   ***** Eval results 1725 *****\n",
      "07/15/2021 16:13:44 - INFO - __main__ -   f1 = 0.6345323741007195\n",
      "07/15/2021 16:13:44 - INFO - __main__ -   loss = 935.7667236328125\n",
      "07/15/2021 16:13:44 - INFO - __main__ -   report =                precision    recall  f1-score   support\n",
      "\n",
      "        POWER    0.57558   0.61111   0.59281       162\n",
      "         TECH    0.70330   0.70640   0.70485       453\n",
      "          SAP    0.05556   0.14286   0.08000        14\n",
      "         FUNC    0.31034   0.29032   0.30000        31\n",
      "QUALIFICATION    0.55000   0.61111   0.57895        18\n",
      "\n",
      "    micro avg    0.61938   0.65044   0.63453       678\n",
      "    macro avg    0.63737   0.65044   0.64332       678\n",
      "\n",
      "07/15/2021 16:13:44 - INFO - __main__ -   tech_f1 = 0.7048458149779735\n",
      "07/15/2021 16:14:27 - INFO - __main__ -   Loading features from cached file ./datasets/cached_dev_mlm_model_uncased_tech_line_by_line_512\n",
      "07/15/2021 16:14:27 - INFO - __main__ -   ***** Running evaluation 1750 *****\n",
      "07/15/2021 16:14:27 - INFO - __main__ -     Num examples = 94\n",
      "07/15/2021 16:14:27 - INFO - __main__ -     Batch size = 16\n"
     ]
    },
    {
     "data": {
      "application/vnd.jupyter.widget-view+json": {
       "model_id": "415e31936d9f404da868d51e41c939b1",
       "version_major": 2,
       "version_minor": 0
      },
      "text/plain": [
       "Evaluating:   0%|          | 0/6 [00:00<?, ?it/s]"
      ]
     },
     "metadata": {},
     "output_type": "display_data"
    },
    {
     "name": "stderr",
     "output_type": "stream",
     "text": [
      "07/15/2021 16:14:33 - INFO - __main__ -   ***** Eval results 1750 *****\n",
      "07/15/2021 16:14:33 - INFO - __main__ -   f1 = 0.65\n",
      "07/15/2021 16:14:33 - INFO - __main__ -   loss = 905.944569905599\n",
      "07/15/2021 16:14:33 - INFO - __main__ -   report =                precision    recall  f1-score   support\n",
      "\n",
      "        POWER    0.62838   0.57407   0.60000       162\n",
      "         TECH    0.72874   0.69978   0.71396       453\n",
      "          SAP    0.09091   0.07143   0.08000        14\n",
      "         FUNC    0.25000   0.22581   0.23729        31\n",
      "QUALIFICATION    0.55000   0.61111   0.57895        18\n",
      "\n",
      "    micro avg    0.66822   0.63274   0.65000       678\n",
      "    macro avg    0.66495   0.63274   0.64826       678\n",
      "\n",
      "07/15/2021 16:14:33 - INFO - __main__ -   tech_f1 = 0.713963963963964\n"
     ]
    },
    {
     "data": {
      "application/vnd.jupyter.widget-view+json": {
       "model_id": "cdcd26a7aa9e4c6b864e7c0c1c6404ab",
       "version_major": 2,
       "version_minor": 0
      },
      "text/plain": [
       "Iteration:   0%|          | 0/50 [00:00<?, ?it/s]"
      ]
     },
     "metadata": {},
     "output_type": "display_data"
    },
    {
     "name": "stderr",
     "output_type": "stream",
     "text": [
      "07/15/2021 16:15:19 - INFO - __main__ -   Loading features from cached file ./datasets/cached_dev_mlm_model_uncased_tech_line_by_line_512\n",
      "07/15/2021 16:15:19 - INFO - __main__ -   ***** Running evaluation 1775 *****\n",
      "07/15/2021 16:15:19 - INFO - __main__ -     Num examples = 94\n",
      "07/15/2021 16:15:19 - INFO - __main__ -     Batch size = 16\n"
     ]
    },
    {
     "data": {
      "application/vnd.jupyter.widget-view+json": {
       "model_id": "2f69d66ae5884a279bfe6f1d2b2f3315",
       "version_major": 2,
       "version_minor": 0
      },
      "text/plain": [
       "Evaluating:   0%|          | 0/6 [00:00<?, ?it/s]"
      ]
     },
     "metadata": {},
     "output_type": "display_data"
    },
    {
     "name": "stderr",
     "output_type": "stream",
     "text": [
      "07/15/2021 16:15:24 - INFO - __main__ -   ***** Eval results 1775 *****\n",
      "07/15/2021 16:15:24 - INFO - __main__ -   f1 = 0.6420118343195266\n",
      "07/15/2021 16:15:24 - INFO - __main__ -   loss = 894.5561167399088\n",
      "07/15/2021 16:15:24 - INFO - __main__ -   report =                precision    recall  f1-score   support\n",
      "\n",
      "        POWER    0.59877   0.59877   0.59877       162\n",
      "         TECH    0.71236   0.69978   0.70601       453\n",
      "          SAP    0.11111   0.14286   0.12500        14\n",
      "         FUNC    0.25926   0.22581   0.24138        31\n",
      "QUALIFICATION    0.50000   0.61111   0.55000        18\n",
      "\n",
      "    micro avg    0.64392   0.64012   0.64201       678\n",
      "    macro avg    0.64645   0.64012   0.64300       678\n",
      "\n",
      "07/15/2021 16:15:24 - INFO - __main__ -   tech_f1 = 0.7060133630289532\n",
      "07/15/2021 16:16:08 - INFO - __main__ -   Loading features from cached file ./datasets/cached_dev_mlm_model_uncased_tech_line_by_line_512\n",
      "07/15/2021 16:16:08 - INFO - __main__ -   ***** Running evaluation 1800 *****\n",
      "07/15/2021 16:16:08 - INFO - __main__ -     Num examples = 94\n",
      "07/15/2021 16:16:08 - INFO - __main__ -     Batch size = 16\n"
     ]
    },
    {
     "data": {
      "application/vnd.jupyter.widget-view+json": {
       "model_id": "07973084d38846b4bbf871fe8d94f5d7",
       "version_major": 2,
       "version_minor": 0
      },
      "text/plain": [
       "Evaluating:   0%|          | 0/6 [00:00<?, ?it/s]"
      ]
     },
     "metadata": {},
     "output_type": "display_data"
    },
    {
     "name": "stderr",
     "output_type": "stream",
     "text": [
      "07/15/2021 16:16:14 - INFO - __main__ -   ***** Eval results 1800 *****\n",
      "07/15/2021 16:16:14 - INFO - __main__ -   f1 = 0.637233259749816\n",
      "07/15/2021 16:16:14 - INFO - __main__ -   loss = 948.2129618326823\n",
      "07/15/2021 16:16:14 - INFO - __main__ -   report =                precision    recall  f1-score   support\n",
      "\n",
      "        POWER    0.62162   0.56790   0.59355       162\n",
      "         TECH    0.68308   0.70419   0.69348       453\n",
      "          SAP    0.11111   0.14286   0.12500        14\n",
      "         FUNC    0.36000   0.29032   0.32143        31\n",
      "QUALIFICATION    0.47826   0.61111   0.53659        18\n",
      "\n",
      "    micro avg    0.63583   0.63864   0.63723       678\n",
      "    macro avg    0.63638   0.63864   0.63669       678\n",
      "\n",
      "07/15/2021 16:16:14 - INFO - __main__ -   tech_f1 = 0.6934782608695653\n"
     ]
    },
    {
     "data": {
      "application/vnd.jupyter.widget-view+json": {
       "model_id": "9762db1dd53f4f279f289713a72b0cc9",
       "version_major": 2,
       "version_minor": 0
      },
      "text/plain": [
       "Iteration:   0%|          | 0/50 [00:00<?, ?it/s]"
      ]
     },
     "metadata": {},
     "output_type": "display_data"
    },
    {
     "name": "stderr",
     "output_type": "stream",
     "text": [
      "07/15/2021 16:16:58 - INFO - __main__ -   Loading features from cached file ./datasets/cached_dev_mlm_model_uncased_tech_line_by_line_512\n",
      "07/15/2021 16:16:58 - INFO - __main__ -   ***** Running evaluation 1825 *****\n",
      "07/15/2021 16:16:58 - INFO - __main__ -     Num examples = 94\n",
      "07/15/2021 16:16:58 - INFO - __main__ -     Batch size = 16\n"
     ]
    },
    {
     "data": {
      "application/vnd.jupyter.widget-view+json": {
       "model_id": "0339fc632394464fa6b3bfb4425369f1",
       "version_major": 2,
       "version_minor": 0
      },
      "text/plain": [
       "Evaluating:   0%|          | 0/6 [00:00<?, ?it/s]"
      ]
     },
     "metadata": {},
     "output_type": "display_data"
    },
    {
     "name": "stderr",
     "output_type": "stream",
     "text": [
      "07/15/2021 16:17:04 - INFO - __main__ -   ***** Eval results 1825 *****\n",
      "07/15/2021 16:17:04 - INFO - __main__ -   f1 = 0.6354466858789626\n",
      "07/15/2021 16:17:04 - INFO - __main__ -   loss = 931.6964823404948\n",
      "07/15/2021 16:17:04 - INFO - __main__ -   report =                precision    recall  f1-score   support\n",
      "\n",
      "        POWER    0.58025   0.58025   0.58025       162\n",
      "         TECH    0.68790   0.71523   0.70130       453\n",
      "          SAP    0.11111   0.14286   0.12500        14\n",
      "         FUNC    0.27273   0.29032   0.28125        31\n",
      "QUALIFICATION    0.46154   0.66667   0.54545        18\n",
      "\n",
      "    micro avg    0.62113   0.65044   0.63545       678\n",
      "    macro avg    0.62527   0.65044   0.63713       678\n",
      "\n",
      "07/15/2021 16:17:04 - INFO - __main__ -   tech_f1 = 0.7012987012987012\n",
      "07/15/2021 16:17:49 - INFO - __main__ -   Loading features from cached file ./datasets/cached_dev_mlm_model_uncased_tech_line_by_line_512\n",
      "07/15/2021 16:17:49 - INFO - __main__ -   ***** Running evaluation 1850 *****\n",
      "07/15/2021 16:17:49 - INFO - __main__ -     Num examples = 94\n",
      "07/15/2021 16:17:49 - INFO - __main__ -     Batch size = 16\n"
     ]
    },
    {
     "data": {
      "application/vnd.jupyter.widget-view+json": {
       "model_id": "11e5ee0386d2427d982016949a120f52",
       "version_major": 2,
       "version_minor": 0
      },
      "text/plain": [
       "Evaluating:   0%|          | 0/6 [00:00<?, ?it/s]"
      ]
     },
     "metadata": {},
     "output_type": "display_data"
    },
    {
     "name": "stderr",
     "output_type": "stream",
     "text": [
      "07/15/2021 16:17:54 - INFO - __main__ -   ***** Eval results 1850 *****\n",
      "07/15/2021 16:17:54 - INFO - __main__ -   f1 = 0.6467589220684632\n",
      "07/15/2021 16:17:54 - INFO - __main__ -   loss = 918.5257568359375\n",
      "07/15/2021 16:17:54 - INFO - __main__ -   report =                precision    recall  f1-score   support\n",
      "\n",
      "        POWER    0.58333   0.60494   0.59394       162\n",
      "         TECH    0.70870   0.71965   0.71413       453\n",
      "          SAP    0.10526   0.14286   0.12121        14\n",
      "         FUNC    0.28000   0.22581   0.25000        31\n",
      "QUALIFICATION    0.47826   0.61111   0.53659        18\n",
      "\n",
      "    micro avg    0.63885   0.65487   0.64676       678\n",
      "    macro avg    0.64056   0.65487   0.64723       678\n",
      "\n",
      "07/15/2021 16:17:54 - INFO - __main__ -   tech_f1 = 0.7141292442497261\n"
     ]
    },
    {
     "data": {
      "application/vnd.jupyter.widget-view+json": {
       "model_id": "42e4e481da91454bba5d8d427d315306",
       "version_major": 2,
       "version_minor": 0
      },
      "text/plain": [
       "Iteration:   0%|          | 0/50 [00:00<?, ?it/s]"
      ]
     },
     "metadata": {},
     "output_type": "display_data"
    },
    {
     "name": "stderr",
     "output_type": "stream",
     "text": [
      "07/15/2021 16:18:40 - INFO - __main__ -   Loading features from cached file ./datasets/cached_dev_mlm_model_uncased_tech_line_by_line_512\n",
      "07/15/2021 16:18:40 - INFO - __main__ -   ***** Running evaluation 1875 *****\n",
      "07/15/2021 16:18:40 - INFO - __main__ -     Num examples = 94\n",
      "07/15/2021 16:18:40 - INFO - __main__ -     Batch size = 16\n"
     ]
    },
    {
     "data": {
      "application/vnd.jupyter.widget-view+json": {
       "model_id": "6e0c128117a1420dafa996c93e9a0809",
       "version_major": 2,
       "version_minor": 0
      },
      "text/plain": [
       "Evaluating:   0%|          | 0/6 [00:00<?, ?it/s]"
      ]
     },
     "metadata": {},
     "output_type": "display_data"
    },
    {
     "name": "stderr",
     "output_type": "stream",
     "text": [
      "07/15/2021 16:18:46 - INFO - __main__ -   ***** Eval results 1875 *****\n",
      "07/15/2021 16:18:46 - INFO - __main__ -   f1 = 0.6489859594383774\n",
      "07/15/2021 16:18:46 - INFO - __main__ -   loss = 913.1649932861328\n",
      "07/15/2021 16:18:46 - INFO - __main__ -   report =                precision    recall  f1-score   support\n",
      "\n",
      "        POWER    0.67647   0.56790   0.61745       162\n",
      "         TECH    0.74083   0.66887   0.70302       453\n",
      "          SAP    0.11111   0.14286   0.12500        14\n",
      "         FUNC    0.40000   0.25806   0.31373        31\n",
      "QUALIFICATION    0.52381   0.61111   0.56410        18\n",
      "\n",
      "    micro avg    0.68874   0.61357   0.64899       678\n",
      "    macro avg    0.69110   0.61357   0.64915       678\n",
      "\n",
      "07/15/2021 16:18:46 - INFO - __main__ -   tech_f1 = 0.7030162412993038\n",
      "07/15/2021 16:19:29 - INFO - __main__ -   Loading features from cached file ./datasets/cached_dev_mlm_model_uncased_tech_line_by_line_512\n",
      "07/15/2021 16:19:29 - INFO - __main__ -   ***** Running evaluation 1900 *****\n",
      "07/15/2021 16:19:29 - INFO - __main__ -     Num examples = 94\n",
      "07/15/2021 16:19:29 - INFO - __main__ -     Batch size = 16\n"
     ]
    },
    {
     "data": {
      "application/vnd.jupyter.widget-view+json": {
       "model_id": "dfcf5347680d4b90831cf0e1d5e81205",
       "version_major": 2,
       "version_minor": 0
      },
      "text/plain": [
       "Evaluating:   0%|          | 0/6 [00:00<?, ?it/s]"
      ]
     },
     "metadata": {},
     "output_type": "display_data"
    },
    {
     "name": "stderr",
     "output_type": "stream",
     "text": [
      "07/15/2021 16:19:35 - INFO - __main__ -   ***** Eval results 1900 *****\n",
      "07/15/2021 16:19:35 - INFO - __main__ -   f1 = 0.6487272727272727\n",
      "07/15/2021 16:19:35 - INFO - __main__ -   loss = 895.4985605875651\n",
      "07/15/2021 16:19:35 - INFO - __main__ -   report =                precision    recall  f1-score   support\n",
      "\n",
      "        POWER    0.63889   0.56790   0.60131       162\n",
      "         TECH    0.68802   0.73510   0.71078       453\n",
      "          SAP    0.12500   0.14286   0.13333        14\n",
      "         FUNC    0.26667   0.25806   0.26230        31\n",
      "QUALIFICATION    0.47826   0.61111   0.53659        18\n",
      "\n",
      "    micro avg    0.63989   0.65782   0.64873       678\n",
      "    macro avg    0.63982   0.65782   0.64757       678\n",
      "\n",
      "07/15/2021 16:19:35 - INFO - __main__ -   tech_f1 = 0.7107790821771611\n"
     ]
    },
    {
     "data": {
      "application/vnd.jupyter.widget-view+json": {
       "model_id": "0f16d9b208b1467fb9a9588dd8cd584f",
       "version_major": 2,
       "version_minor": 0
      },
      "text/plain": [
       "Iteration:   0%|          | 0/50 [00:00<?, ?it/s]"
      ]
     },
     "metadata": {},
     "output_type": "display_data"
    },
    {
     "name": "stderr",
     "output_type": "stream",
     "text": [
      "07/15/2021 16:20:19 - INFO - __main__ -   Loading features from cached file ./datasets/cached_dev_mlm_model_uncased_tech_line_by_line_512\n",
      "07/15/2021 16:20:19 - INFO - __main__ -   ***** Running evaluation 1925 *****\n",
      "07/15/2021 16:20:19 - INFO - __main__ -     Num examples = 94\n",
      "07/15/2021 16:20:19 - INFO - __main__ -     Batch size = 16\n"
     ]
    },
    {
     "data": {
      "application/vnd.jupyter.widget-view+json": {
       "model_id": "9cab25960a694c78a85cf5cd60085376",
       "version_major": 2,
       "version_minor": 0
      },
      "text/plain": [
       "Evaluating:   0%|          | 0/6 [00:00<?, ?it/s]"
      ]
     },
     "metadata": {},
     "output_type": "display_data"
    },
    {
     "name": "stderr",
     "output_type": "stream",
     "text": [
      "07/15/2021 16:20:25 - INFO - __main__ -   ***** Eval results 1925 *****\n",
      "07/15/2021 16:20:25 - INFO - __main__ -   f1 = 0.6431199411331862\n",
      "07/15/2021 16:20:25 - INFO - __main__ -   loss = 832.644785563151\n",
      "07/15/2021 16:20:25 - INFO - __main__ -   report =                precision    recall  f1-score   support\n",
      "\n",
      "        POWER    0.62838   0.57407   0.60000       162\n",
      "         TECH    0.70678   0.71302   0.70989       453\n",
      "          SAP    0.10526   0.14286   0.12121        14\n",
      "         FUNC    0.22857   0.25806   0.24242        31\n",
      "QUALIFICATION    0.50000   0.61111   0.55000        18\n",
      "\n",
      "    micro avg    0.64170   0.64454   0.64312       678\n",
      "    macro avg    0.64827   0.64454   0.64586       678\n",
      "\n",
      "07/15/2021 16:20:25 - INFO - __main__ -   tech_f1 = 0.7098901098901099\n",
      "07/15/2021 16:21:09 - INFO - __main__ -   Loading features from cached file ./datasets/cached_dev_mlm_model_uncased_tech_line_by_line_512\n",
      "07/15/2021 16:21:09 - INFO - __main__ -   ***** Running evaluation 1950 *****\n",
      "07/15/2021 16:21:09 - INFO - __main__ -     Num examples = 94\n",
      "07/15/2021 16:21:09 - INFO - __main__ -     Batch size = 16\n"
     ]
    },
    {
     "data": {
      "application/vnd.jupyter.widget-view+json": {
       "model_id": "431471b4e01d457594b862e96f9e182f",
       "version_major": 2,
       "version_minor": 0
      },
      "text/plain": [
       "Evaluating:   0%|          | 0/6 [00:00<?, ?it/s]"
      ]
     },
     "metadata": {},
     "output_type": "display_data"
    },
    {
     "name": "stderr",
     "output_type": "stream",
     "text": [
      "07/15/2021 16:21:15 - INFO - __main__ -   ***** Eval results 1950 *****\n",
      "07/15/2021 16:21:15 - INFO - __main__ -   f1 = 0.6249110320284696\n",
      "07/15/2021 16:21:15 - INFO - __main__ -   loss = 885.8508707682291\n",
      "07/15/2021 16:21:15 - INFO - __main__ -   report =                precision    recall  f1-score   support\n",
      "\n",
      "        POWER    0.55758   0.56790   0.56269       162\n",
      "         TECH    0.68125   0.72185   0.70096       453\n",
      "          SAP    0.09091   0.14286   0.11111        14\n",
      "         FUNC    0.17949   0.22581   0.20000        31\n",
      "QUALIFICATION    0.52381   0.61111   0.56410        18\n",
      "\n",
      "    micro avg    0.60385   0.64749   0.62491       678\n",
      "    macro avg    0.61239   0.64749   0.62921       678\n",
      "\n",
      "07/15/2021 16:21:15 - INFO - __main__ -   tech_f1 = 0.7009646302250805\n"
     ]
    },
    {
     "data": {
      "application/vnd.jupyter.widget-view+json": {
       "model_id": "1ccbd8833d784b9285fdc8e97778ca3e",
       "version_major": 2,
       "version_minor": 0
      },
      "text/plain": [
       "Iteration:   0%|          | 0/50 [00:00<?, ?it/s]"
      ]
     },
     "metadata": {},
     "output_type": "display_data"
    },
    {
     "name": "stderr",
     "output_type": "stream",
     "text": [
      "07/15/2021 16:22:00 - INFO - __main__ -   Loading features from cached file ./datasets/cached_dev_mlm_model_uncased_tech_line_by_line_512\n",
      "07/15/2021 16:22:00 - INFO - __main__ -   ***** Running evaluation 1975 *****\n",
      "07/15/2021 16:22:00 - INFO - __main__ -     Num examples = 94\n",
      "07/15/2021 16:22:00 - INFO - __main__ -     Batch size = 16\n"
     ]
    },
    {
     "data": {
      "application/vnd.jupyter.widget-view+json": {
       "model_id": "d919b6263b58451ba3d1a2482d27f458",
       "version_major": 2,
       "version_minor": 0
      },
      "text/plain": [
       "Evaluating:   0%|          | 0/6 [00:00<?, ?it/s]"
      ]
     },
     "metadata": {},
     "output_type": "display_data"
    },
    {
     "name": "stderr",
     "output_type": "stream",
     "text": [
      "07/15/2021 16:22:05 - INFO - __main__ -   ***** Eval results 1975 *****\n",
      "07/15/2021 16:22:05 - INFO - __main__ -   f1 = 0.6394052044609666\n",
      "07/15/2021 16:22:05 - INFO - __main__ -   loss = 909.3686676025391\n",
      "07/15/2021 16:22:05 - INFO - __main__ -   report =                precision    recall  f1-score   support\n",
      "\n",
      "        POWER    0.64286   0.55556   0.59603       162\n",
      "         TECH    0.72336   0.70419   0.71365       453\n",
      "          SAP    0.05263   0.07143   0.06061        14\n",
      "         FUNC    0.19565   0.29032   0.23377        31\n",
      "QUALIFICATION    0.52381   0.61111   0.56410        18\n",
      "\n",
      "    micro avg    0.64468   0.63422   0.63941       678\n",
      "    macro avg    0.66085   0.63422   0.64615       678\n",
      "\n",
      "07/15/2021 16:22:05 - INFO - __main__ -   tech_f1 = 0.7136465324384786\n",
      "07/15/2021 16:22:50 - INFO - __main__ -   Loading features from cached file ./datasets/cached_dev_mlm_model_uncased_tech_line_by_line_512\n",
      "07/15/2021 16:22:50 - INFO - __main__ -   ***** Running evaluation 2000 *****\n",
      "07/15/2021 16:22:50 - INFO - __main__ -     Num examples = 94\n",
      "07/15/2021 16:22:50 - INFO - __main__ -     Batch size = 16\n"
     ]
    },
    {
     "data": {
      "application/vnd.jupyter.widget-view+json": {
       "model_id": "ebd78bcbe10b4dcdbe0e188750918cc0",
       "version_major": 2,
       "version_minor": 0
      },
      "text/plain": [
       "Evaluating:   0%|          | 0/6 [00:00<?, ?it/s]"
      ]
     },
     "metadata": {},
     "output_type": "display_data"
    },
    {
     "name": "stderr",
     "output_type": "stream",
     "text": [
      "07/15/2021 16:22:56 - INFO - __main__ -   ***** Eval results 2000 *****\n",
      "07/15/2021 16:22:56 - INFO - __main__ -   f1 = 0.6413199426111909\n",
      "07/15/2021 16:22:56 - INFO - __main__ -   loss = 930.4459330240885\n",
      "07/15/2021 16:22:56 - INFO - __main__ -   report =                precision    recall  f1-score   support\n",
      "\n",
      "        POWER    0.58182   0.59259   0.58716       162\n",
      "         TECH    0.69936   0.72406   0.71150       453\n",
      "          SAP    0.10000   0.14286   0.11765        14\n",
      "         FUNC    0.24390   0.32258   0.27778        31\n",
      "QUALIFICATION    0.52381   0.61111   0.56410        18\n",
      "\n",
      "    micro avg    0.62430   0.65929   0.64132       678\n",
      "    macro avg    0.63341   0.65929   0.64578       678\n",
      "\n",
      "07/15/2021 16:22:56 - INFO - __main__ -   tech_f1 = 0.7114967462039046\n"
     ]
    },
    {
     "data": {
      "application/vnd.jupyter.widget-view+json": {
       "model_id": "8955ef1f02f0415db0671258604605d7",
       "version_major": 2,
       "version_minor": 0
      },
      "text/plain": [
       "Iteration:   0%|          | 0/50 [00:00<?, ?it/s]"
      ]
     },
     "metadata": {},
     "output_type": "display_data"
    },
    {
     "name": "stderr",
     "output_type": "stream",
     "text": [
      "07/15/2021 16:23:41 - INFO - __main__ -   Loading features from cached file ./datasets/cached_dev_mlm_model_uncased_tech_line_by_line_512\n",
      "07/15/2021 16:23:41 - INFO - __main__ -   ***** Running evaluation 2025 *****\n",
      "07/15/2021 16:23:41 - INFO - __main__ -     Num examples = 94\n",
      "07/15/2021 16:23:41 - INFO - __main__ -     Batch size = 16\n"
     ]
    },
    {
     "data": {
      "application/vnd.jupyter.widget-view+json": {
       "model_id": "b21277f5fd24434e980e8c3ecedb8aa5",
       "version_major": 2,
       "version_minor": 0
      },
      "text/plain": [
       "Evaluating:   0%|          | 0/6 [00:00<?, ?it/s]"
      ]
     },
     "metadata": {},
     "output_type": "display_data"
    },
    {
     "name": "stderr",
     "output_type": "stream",
     "text": [
      "07/15/2021 16:23:46 - INFO - __main__ -   ***** Eval results 2025 *****\n",
      "07/15/2021 16:23:46 - INFO - __main__ -   f1 = 0.6460875807609475\n",
      "07/15/2021 16:23:46 - INFO - __main__ -   loss = 899.1594543457031\n",
      "07/15/2021 16:23:46 - INFO - __main__ -   report =                precision    recall  f1-score   support\n",
      "\n",
      "        POWER    0.60127   0.58642   0.59375       162\n",
      "         TECH    0.68313   0.73289   0.70714       453\n",
      "          SAP    0.11111   0.14286   0.12500        14\n",
      "         FUNC    0.29032   0.29032   0.29032        31\n",
      "QUALIFICATION    0.54545   0.66667   0.60000        18\n",
      "\n",
      "    micro avg    0.62937   0.66372   0.64609       678\n",
      "    macro avg    0.63014   0.66372   0.64612       678\n",
      "\n",
      "07/15/2021 16:23:46 - INFO - __main__ -   tech_f1 = 0.7071352502662407\n",
      "07/15/2021 16:24:30 - INFO - __main__ -   Loading features from cached file ./datasets/cached_dev_mlm_model_uncased_tech_line_by_line_512\n",
      "07/15/2021 16:24:30 - INFO - __main__ -   ***** Running evaluation 2050 *****\n",
      "07/15/2021 16:24:30 - INFO - __main__ -     Num examples = 94\n",
      "07/15/2021 16:24:30 - INFO - __main__ -     Batch size = 16\n"
     ]
    },
    {
     "data": {
      "application/vnd.jupyter.widget-view+json": {
       "model_id": "4d18947d7bef4c298240d184208ab07b",
       "version_major": 2,
       "version_minor": 0
      },
      "text/plain": [
       "Evaluating:   0%|          | 0/6 [00:00<?, ?it/s]"
      ]
     },
     "metadata": {},
     "output_type": "display_data"
    },
    {
     "name": "stderr",
     "output_type": "stream",
     "text": [
      "07/15/2021 16:24:36 - INFO - __main__ -   ***** Eval results 2050 *****\n",
      "07/15/2021 16:24:36 - INFO - __main__ -   f1 = 0.6553505535055351\n",
      "07/15/2021 16:24:36 - INFO - __main__ -   loss = 936.5941518147787\n",
      "07/15/2021 16:24:36 - INFO - __main__ -   report =                precision    recall  f1-score   support\n",
      "\n",
      "        POWER    0.65468   0.56173   0.60465       162\n",
      "         TECH    0.72026   0.72185   0.72106       453\n",
      "          SAP    0.08696   0.14286   0.10811        14\n",
      "         FUNC    0.26190   0.35484   0.30137        31\n",
      "QUALIFICATION    0.68421   0.72222   0.70270        18\n",
      "\n",
      "    micro avg    0.65583   0.65487   0.65535       678\n",
      "    macro avg    0.66960   0.65487   0.66091       678\n",
      "\n",
      "07/15/2021 16:24:36 - INFO - __main__ -   tech_f1 = 0.721058434399118\n"
     ]
    },
    {
     "data": {
      "application/vnd.jupyter.widget-view+json": {
       "model_id": "8e929343c51e4c6b935d1aef1365ff1e",
       "version_major": 2,
       "version_minor": 0
      },
      "text/plain": [
       "Iteration:   0%|          | 0/50 [00:00<?, ?it/s]"
      ]
     },
     "metadata": {},
     "output_type": "display_data"
    },
    {
     "name": "stderr",
     "output_type": "stream",
     "text": [
      "07/15/2021 16:25:21 - INFO - __main__ -   Loading features from cached file ./datasets/cached_dev_mlm_model_uncased_tech_line_by_line_512\n",
      "07/15/2021 16:25:21 - INFO - __main__ -   ***** Running evaluation 2075 *****\n",
      "07/15/2021 16:25:21 - INFO - __main__ -     Num examples = 94\n",
      "07/15/2021 16:25:21 - INFO - __main__ -     Batch size = 16\n"
     ]
    },
    {
     "data": {
      "application/vnd.jupyter.widget-view+json": {
       "model_id": "f88c9f1340db4d1ca4eabdb3d72abc38",
       "version_major": 2,
       "version_minor": 0
      },
      "text/plain": [
       "Evaluating:   0%|          | 0/6 [00:00<?, ?it/s]"
      ]
     },
     "metadata": {},
     "output_type": "display_data"
    },
    {
     "name": "stderr",
     "output_type": "stream",
     "text": [
      "07/15/2021 16:25:27 - INFO - __main__ -   ***** Eval results 2075 *****\n",
      "07/15/2021 16:25:27 - INFO - __main__ -   f1 = 0.6437414030261348\n",
      "07/15/2021 16:25:27 - INFO - __main__ -   loss = 988.4258524576823\n",
      "07/15/2021 16:25:27 - INFO - __main__ -   report =                precision    recall  f1-score   support\n",
      "\n",
      "        POWER    0.60510   0.58642   0.59561       162\n",
      "         TECH    0.64444   0.76821   0.70091       453\n",
      "          SAP    0.09091   0.14286   0.11111        14\n",
      "         FUNC    0.27778   0.32258   0.29851        31\n",
      "QUALIFICATION    0.61905   0.72222   0.66667        18\n",
      "\n",
      "    micro avg    0.60309   0.69027   0.64374       678\n",
      "    macro avg    0.60617   0.69027   0.64426       678\n",
      "\n",
      "07/15/2021 16:25:27 - INFO - __main__ -   tech_f1 = 0.7009063444108762\n",
      "07/15/2021 16:26:10 - INFO - __main__ -   Loading features from cached file ./datasets/cached_dev_mlm_model_uncased_tech_line_by_line_512\n",
      "07/15/2021 16:26:10 - INFO - __main__ -   ***** Running evaluation 2100 *****\n",
      "07/15/2021 16:26:10 - INFO - __main__ -     Num examples = 94\n",
      "07/15/2021 16:26:10 - INFO - __main__ -     Batch size = 16\n"
     ]
    },
    {
     "data": {
      "application/vnd.jupyter.widget-view+json": {
       "model_id": "dedfde36a4af485dba02add220520d2b",
       "version_major": 2,
       "version_minor": 0
      },
      "text/plain": [
       "Evaluating:   0%|          | 0/6 [00:00<?, ?it/s]"
      ]
     },
     "metadata": {},
     "output_type": "display_data"
    },
    {
     "name": "stderr",
     "output_type": "stream",
     "text": [
      "07/15/2021 16:26:16 - INFO - __main__ -   ***** Eval results 2100 *****\n",
      "07/15/2021 16:26:16 - INFO - __main__ -   f1 = 0.6606741573033708\n",
      "07/15/2021 16:26:16 - INFO - __main__ -   loss = 905.3014221191406\n",
      "07/15/2021 16:26:16 - INFO - __main__ -   report =                precision    recall  f1-score   support\n",
      "\n",
      "        POWER    0.66197   0.58025   0.61842       162\n",
      "         TECH    0.72383   0.71744   0.72062       453\n",
      "          SAP    0.12500   0.14286   0.13333        14\n",
      "         FUNC    0.28571   0.25806   0.27119        31\n",
      "QUALIFICATION    0.54545   0.66667   0.60000        18\n",
      "\n",
      "    micro avg    0.67123   0.65044   0.66067       678\n",
      "    macro avg    0.67192   0.65044   0.66032       678\n",
      "\n",
      "07/15/2021 16:26:16 - INFO - __main__ -   tech_f1 = 0.7206208425720622\n"
     ]
    },
    {
     "data": {
      "application/vnd.jupyter.widget-view+json": {
       "model_id": "c889a9d96b7a45858cefdbb60370c54c",
       "version_major": 2,
       "version_minor": 0
      },
      "text/plain": [
       "Iteration:   0%|          | 0/50 [00:00<?, ?it/s]"
      ]
     },
     "metadata": {},
     "output_type": "display_data"
    },
    {
     "name": "stderr",
     "output_type": "stream",
     "text": [
      "07/15/2021 16:27:01 - INFO - __main__ -   Loading features from cached file ./datasets/cached_dev_mlm_model_uncased_tech_line_by_line_512\n",
      "07/15/2021 16:27:01 - INFO - __main__ -   ***** Running evaluation 2125 *****\n",
      "07/15/2021 16:27:01 - INFO - __main__ -     Num examples = 94\n",
      "07/15/2021 16:27:02 - INFO - __main__ -     Batch size = 16\n"
     ]
    },
    {
     "data": {
      "application/vnd.jupyter.widget-view+json": {
       "model_id": "3b43ddb1e62344abbc9d9eb32478333e",
       "version_major": 2,
       "version_minor": 0
      },
      "text/plain": [
       "Evaluating:   0%|          | 0/6 [00:00<?, ?it/s]"
      ]
     },
     "metadata": {},
     "output_type": "display_data"
    },
    {
     "name": "stderr",
     "output_type": "stream",
     "text": [
      "07/15/2021 16:27:07 - INFO - __main__ -   ***** Eval results 2125 *****\n",
      "07/15/2021 16:27:07 - INFO - __main__ -   f1 = 0.6583760058522313\n",
      "07/15/2021 16:27:07 - INFO - __main__ -   loss = 933.2477315266927\n",
      "07/15/2021 16:27:07 - INFO - __main__ -   report =                precision    recall  f1-score   support\n",
      "\n",
      "        POWER    0.64828   0.58025   0.61238       162\n",
      "         TECH    0.71002   0.73510   0.72234       453\n",
      "          SAP    0.11765   0.14286   0.12903        14\n",
      "         FUNC    0.26471   0.29032   0.27692        31\n",
      "QUALIFICATION    0.50000   0.66667   0.57143        18\n",
      "\n",
      "    micro avg    0.65312   0.66372   0.65838       678\n",
      "    macro avg    0.65710   0.66372   0.65944       678\n",
      "\n",
      "07/15/2021 16:27:07 - INFO - __main__ -   tech_f1 = 0.7223427331887201\n",
      "07/15/2021 16:27:51 - INFO - __main__ -   Loading features from cached file ./datasets/cached_dev_mlm_model_uncased_tech_line_by_line_512\n",
      "07/15/2021 16:27:51 - INFO - __main__ -   ***** Running evaluation 2150 *****\n",
      "07/15/2021 16:27:51 - INFO - __main__ -     Num examples = 94\n",
      "07/15/2021 16:27:51 - INFO - __main__ -     Batch size = 16\n"
     ]
    },
    {
     "data": {
      "application/vnd.jupyter.widget-view+json": {
       "model_id": "4543a0a3410145bfabf73dd2db80148f",
       "version_major": 2,
       "version_minor": 0
      },
      "text/plain": [
       "Evaluating:   0%|          | 0/6 [00:00<?, ?it/s]"
      ]
     },
     "metadata": {},
     "output_type": "display_data"
    },
    {
     "name": "stderr",
     "output_type": "stream",
     "text": [
      "07/15/2021 16:27:57 - INFO - __main__ -   ***** Eval results 2150 *****\n",
      "07/15/2021 16:27:57 - INFO - __main__ -   f1 = 0.650991917707568\n",
      "07/15/2021 16:27:57 - INFO - __main__ -   loss = 951.7321116129557\n",
      "07/15/2021 16:27:57 - INFO - __main__ -   report =                precision    recall  f1-score   support\n",
      "\n",
      "        POWER    0.65942   0.56173   0.60667       162\n",
      "         TECH    0.69038   0.72848   0.70892       453\n",
      "          SAP    0.06250   0.07143   0.06667        14\n",
      "         FUNC    0.28571   0.25806   0.27119        31\n",
      "QUALIFICATION    0.56522   0.72222   0.63415        18\n",
      "\n",
      "    micro avg    0.64861   0.65339   0.65099       678\n",
      "    macro avg    0.64819   0.65339   0.64922       678\n",
      "\n",
      "07/15/2021 16:27:57 - INFO - __main__ -   tech_f1 = 0.7089151450053705\n"
     ]
    },
    {
     "data": {
      "application/vnd.jupyter.widget-view+json": {
       "model_id": "a9a4080ba5844f398f2b5b55cd34f50e",
       "version_major": 2,
       "version_minor": 0
      },
      "text/plain": [
       "Iteration:   0%|          | 0/50 [00:00<?, ?it/s]"
      ]
     },
     "metadata": {},
     "output_type": "display_data"
    },
    {
     "name": "stderr",
     "output_type": "stream",
     "text": [
      "07/15/2021 16:28:41 - INFO - __main__ -   Loading features from cached file ./datasets/cached_dev_mlm_model_uncased_tech_line_by_line_512\n",
      "07/15/2021 16:28:41 - INFO - __main__ -   ***** Running evaluation 2175 *****\n",
      "07/15/2021 16:28:41 - INFO - __main__ -     Num examples = 94\n",
      "07/15/2021 16:28:41 - INFO - __main__ -     Batch size = 16\n"
     ]
    },
    {
     "data": {
      "application/vnd.jupyter.widget-view+json": {
       "model_id": "043498413b0c4d519e53a7d9151522d4",
       "version_major": 2,
       "version_minor": 0
      },
      "text/plain": [
       "Evaluating:   0%|          | 0/6 [00:00<?, ?it/s]"
      ]
     },
     "metadata": {},
     "output_type": "display_data"
    },
    {
     "name": "stderr",
     "output_type": "stream",
     "text": [
      "07/15/2021 16:28:47 - INFO - __main__ -   ***** Eval results 2175 *****\n",
      "07/15/2021 16:28:47 - INFO - __main__ -   f1 = 0.6388489208633094\n",
      "07/15/2021 16:28:47 - INFO - __main__ -   loss = 953.8851013183594\n",
      "07/15/2021 16:28:47 - INFO - __main__ -   report =                precision    recall  f1-score   support\n",
      "\n",
      "        POWER    0.62416   0.57407   0.59807       162\n",
      "         TECH    0.68607   0.72848   0.70664       453\n",
      "          SAP    0.05000   0.07143   0.05882        14\n",
      "         FUNC    0.20513   0.25806   0.22857        31\n",
      "QUALIFICATION    0.52174   0.66667   0.58537        18\n",
      "\n",
      "    micro avg    0.62360   0.65487   0.63885       678\n",
      "    macro avg    0.63179   0.65487   0.64224       678\n",
      "\n",
      "07/15/2021 16:28:47 - INFO - __main__ -   tech_f1 = 0.7066381156316915\n",
      "07/15/2021 16:29:31 - INFO - __main__ -   Loading features from cached file ./datasets/cached_dev_mlm_model_uncased_tech_line_by_line_512\n",
      "07/15/2021 16:29:31 - INFO - __main__ -   ***** Running evaluation 2200 *****\n",
      "07/15/2021 16:29:31 - INFO - __main__ -     Num examples = 94\n",
      "07/15/2021 16:29:31 - INFO - __main__ -     Batch size = 16\n"
     ]
    },
    {
     "data": {
      "application/vnd.jupyter.widget-view+json": {
       "model_id": "04971dc04667443fbbe65183a5601237",
       "version_major": 2,
       "version_minor": 0
      },
      "text/plain": [
       "Evaluating:   0%|          | 0/6 [00:00<?, ?it/s]"
      ]
     },
     "metadata": {},
     "output_type": "display_data"
    },
    {
     "name": "stderr",
     "output_type": "stream",
     "text": [
      "07/15/2021 16:29:37 - INFO - __main__ -   ***** Eval results 2200 *****\n",
      "07/15/2021 16:29:37 - INFO - __main__ -   f1 = 0.6490066225165563\n",
      "07/15/2021 16:29:37 - INFO - __main__ -   loss = 971.9986114501953\n",
      "07/15/2021 16:29:37 - INFO - __main__ -   report =                precision    recall  f1-score   support\n",
      "\n",
      "        POWER    0.60510   0.58642   0.59561       162\n",
      "         TECH    0.71840   0.71523   0.71681       453\n",
      "          SAP    0.05263   0.07143   0.06061        14\n",
      "         FUNC    0.25806   0.25806   0.25806        31\n",
      "QUALIFICATION    0.56522   0.72222   0.63415        18\n",
      "\n",
      "    micro avg    0.64758   0.65044   0.64901       678\n",
      "    macro avg    0.65247   0.65044   0.65113       678\n",
      "\n",
      "07/15/2021 16:29:37 - INFO - __main__ -   tech_f1 = 0.7168141592920354\n"
     ]
    },
    {
     "data": {
      "application/vnd.jupyter.widget-view+json": {
       "model_id": "bb36ac085b784f4fa12eee85c358d3e8",
       "version_major": 2,
       "version_minor": 0
      },
      "text/plain": [
       "Iteration:   0%|          | 0/50 [00:00<?, ?it/s]"
      ]
     },
     "metadata": {},
     "output_type": "display_data"
    },
    {
     "name": "stderr",
     "output_type": "stream",
     "text": [
      "07/15/2021 16:30:22 - INFO - __main__ -   Loading features from cached file ./datasets/cached_dev_mlm_model_uncased_tech_line_by_line_512\n",
      "07/15/2021 16:30:22 - INFO - __main__ -   ***** Running evaluation 2225 *****\n",
      "07/15/2021 16:30:22 - INFO - __main__ -     Num examples = 94\n",
      "07/15/2021 16:30:22 - INFO - __main__ -     Batch size = 16\n"
     ]
    },
    {
     "data": {
      "application/vnd.jupyter.widget-view+json": {
       "model_id": "c163217d9f824cf28ea4273bdff573d2",
       "version_major": 2,
       "version_minor": 0
      },
      "text/plain": [
       "Evaluating:   0%|          | 0/6 [00:00<?, ?it/s]"
      ]
     },
     "metadata": {},
     "output_type": "display_data"
    },
    {
     "name": "stderr",
     "output_type": "stream",
     "text": [
      "07/15/2021 16:30:28 - INFO - __main__ -   ***** Eval results 2225 *****\n",
      "07/15/2021 16:30:28 - INFO - __main__ -   f1 = 0.6456808199121523\n",
      "07/15/2021 16:30:28 - INFO - __main__ -   loss = 1014.5361480712891\n",
      "07/15/2021 16:30:28 - INFO - __main__ -   report =                precision    recall  f1-score   support\n",
      "\n",
      "        POWER    0.59236   0.57407   0.58307       162\n",
      "         TECH    0.71053   0.71523   0.71287       453\n",
      "          SAP    0.04545   0.07143   0.05556        14\n",
      "         FUNC    0.33333   0.32258   0.32787        31\n",
      "QUALIFICATION    0.56522   0.72222   0.63415        18\n",
      "\n",
      "    micro avg    0.64099   0.65044   0.64568       678\n",
      "    macro avg    0.64745   0.65044   0.64859       678\n",
      "\n",
      "07/15/2021 16:30:28 - INFO - __main__ -   tech_f1 = 0.7128712871287128\n",
      "07/15/2021 16:31:11 - INFO - __main__ -   Loading features from cached file ./datasets/cached_dev_mlm_model_uncased_tech_line_by_line_512\n",
      "07/15/2021 16:31:11 - INFO - __main__ -   ***** Running evaluation 2250 *****\n",
      "07/15/2021 16:31:11 - INFO - __main__ -     Num examples = 94\n",
      "07/15/2021 16:31:11 - INFO - __main__ -     Batch size = 16\n"
     ]
    },
    {
     "data": {
      "application/vnd.jupyter.widget-view+json": {
       "model_id": "509645488c0f4963bc28e98389561e8e",
       "version_major": 2,
       "version_minor": 0
      },
      "text/plain": [
       "Evaluating:   0%|          | 0/6 [00:00<?, ?it/s]"
      ]
     },
     "metadata": {},
     "output_type": "display_data"
    },
    {
     "name": "stderr",
     "output_type": "stream",
     "text": [
      "07/15/2021 16:31:17 - INFO - __main__ -   ***** Eval results 2250 *****\n",
      "07/15/2021 16:31:17 - INFO - __main__ -   f1 = 0.6404084609773887\n",
      "07/15/2021 16:31:17 - INFO - __main__ -   loss = 941.952870686849\n",
      "07/15/2021 16:31:17 - INFO - __main__ -   report =                precision    recall  f1-score   support\n",
      "\n",
      "        POWER    0.62585   0.56790   0.59547       162\n",
      "         TECH    0.69083   0.71523   0.70282       453\n",
      "          SAP    0.05000   0.07143   0.05882        14\n",
      "         FUNC    0.29412   0.32258   0.30769        31\n",
      "QUALIFICATION    0.52174   0.66667   0.58537        18\n",
      "\n",
      "    micro avg    0.63348   0.64749   0.64041       678\n",
      "    macro avg    0.63944   0.64749   0.64269       678\n",
      "\n",
      "07/15/2021 16:31:17 - INFO - __main__ -   tech_f1 = 0.702819956616052\n"
     ]
    },
    {
     "data": {
      "application/vnd.jupyter.widget-view+json": {
       "model_id": "211bd3bace5a4a9bbb204f1f671b60e6",
       "version_major": 2,
       "version_minor": 0
      },
      "text/plain": [
       "Iteration:   0%|          | 0/50 [00:00<?, ?it/s]"
      ]
     },
     "metadata": {},
     "output_type": "display_data"
    },
    {
     "name": "stderr",
     "output_type": "stream",
     "text": [
      "07/15/2021 16:32:02 - INFO - __main__ -   Loading features from cached file ./datasets/cached_dev_mlm_model_uncased_tech_line_by_line_512\n",
      "07/15/2021 16:32:02 - INFO - __main__ -   ***** Running evaluation 2275 *****\n",
      "07/15/2021 16:32:02 - INFO - __main__ -     Num examples = 94\n",
      "07/15/2021 16:32:02 - INFO - __main__ -     Batch size = 16\n"
     ]
    },
    {
     "data": {
      "application/vnd.jupyter.widget-view+json": {
       "model_id": "5c5ce53dd925498795f07b20807777fb",
       "version_major": 2,
       "version_minor": 0
      },
      "text/plain": [
       "Evaluating:   0%|          | 0/6 [00:00<?, ?it/s]"
      ]
     },
     "metadata": {},
     "output_type": "display_data"
    },
    {
     "name": "stderr",
     "output_type": "stream",
     "text": [
      "07/15/2021 16:32:08 - INFO - __main__ -   ***** Eval results 2275 *****\n",
      "07/15/2021 16:32:08 - INFO - __main__ -   f1 = 0.6286509040333796\n",
      "07/15/2021 16:32:08 - INFO - __main__ -   loss = 991.7630513509115\n",
      "07/15/2021 16:32:08 - INFO - __main__ -   report =                precision    recall  f1-score   support\n",
      "\n",
      "        POWER    0.56287   0.58025   0.57143       162\n",
      "         TECH    0.66135   0.73289   0.69529       453\n",
      "          SAP    0.08333   0.14286   0.10526        14\n",
      "         FUNC    0.27273   0.38710   0.32000        31\n",
      "QUALIFICATION    0.52174   0.66667   0.58537        18\n",
      "\n",
      "    micro avg    0.59474   0.66667   0.62865       678\n",
      "    macro avg    0.60441   0.66667   0.63343       678\n",
      "\n",
      "07/15/2021 16:32:08 - INFO - __main__ -   tech_f1 = 0.6952879581151832\n",
      "07/15/2021 16:32:51 - INFO - __main__ -   Loading features from cached file ./datasets/cached_dev_mlm_model_uncased_tech_line_by_line_512\n",
      "07/15/2021 16:32:51 - INFO - __main__ -   ***** Running evaluation 2300 *****\n",
      "07/15/2021 16:32:51 - INFO - __main__ -     Num examples = 94\n",
      "07/15/2021 16:32:51 - INFO - __main__ -     Batch size = 16\n"
     ]
    },
    {
     "data": {
      "application/vnd.jupyter.widget-view+json": {
       "model_id": "2ec1970f947e469eabc5e20027383bae",
       "version_major": 2,
       "version_minor": 0
      },
      "text/plain": [
       "Evaluating:   0%|          | 0/6 [00:00<?, ?it/s]"
      ]
     },
     "metadata": {},
     "output_type": "display_data"
    },
    {
     "name": "stderr",
     "output_type": "stream",
     "text": [
      "07/15/2021 16:32:57 - INFO - __main__ -   ***** Eval results 2300 *****\n",
      "07/15/2021 16:32:57 - INFO - __main__ -   f1 = 0.6485693323550991\n",
      "07/15/2021 16:32:57 - INFO - __main__ -   loss = 917.0948079427084\n",
      "07/15/2021 16:32:57 - INFO - __main__ -   report =                precision    recall  f1-score   support\n",
      "\n",
      "        POWER    0.60265   0.56173   0.58147       162\n",
      "         TECH    0.71648   0.71965   0.71806       453\n",
      "          SAP    0.10526   0.14286   0.12121        14\n",
      "         FUNC    0.32432   0.38710   0.35294        31\n",
      "QUALIFICATION    0.47826   0.61111   0.53659        18\n",
      "\n",
      "    micro avg    0.64526   0.65192   0.64857       678\n",
      "    macro avg    0.65241   0.65192   0.65159       678\n",
      "\n",
      "07/15/2021 16:32:57 - INFO - __main__ -   tech_f1 = 0.7180616740088106\n"
     ]
    },
    {
     "data": {
      "application/vnd.jupyter.widget-view+json": {
       "model_id": "e8a83b4b8108416caf3bfba38ab08610",
       "version_major": 2,
       "version_minor": 0
      },
      "text/plain": [
       "Iteration:   0%|          | 0/50 [00:00<?, ?it/s]"
      ]
     },
     "metadata": {},
     "output_type": "display_data"
    },
    {
     "name": "stderr",
     "output_type": "stream",
     "text": [
      "07/15/2021 16:33:42 - INFO - __main__ -   Loading features from cached file ./datasets/cached_dev_mlm_model_uncased_tech_line_by_line_512\n",
      "07/15/2021 16:33:42 - INFO - __main__ -   ***** Running evaluation 2325 *****\n",
      "07/15/2021 16:33:42 - INFO - __main__ -     Num examples = 94\n",
      "07/15/2021 16:33:42 - INFO - __main__ -     Batch size = 16\n"
     ]
    },
    {
     "data": {
      "application/vnd.jupyter.widget-view+json": {
       "model_id": "1882fbd39df74f0f8870401c92feff19",
       "version_major": 2,
       "version_minor": 0
      },
      "text/plain": [
       "Evaluating:   0%|          | 0/6 [00:00<?, ?it/s]"
      ]
     },
     "metadata": {},
     "output_type": "display_data"
    },
    {
     "name": "stderr",
     "output_type": "stream",
     "text": [
      "07/15/2021 16:33:48 - INFO - __main__ -   ***** Eval results 2325 *****\n",
      "07/15/2021 16:33:48 - INFO - __main__ -   f1 = 0.6533333333333333\n",
      "07/15/2021 16:33:48 - INFO - __main__ -   loss = 1010.9431660970052\n",
      "07/15/2021 16:33:48 - INFO - __main__ -   report =                precision    recall  f1-score   support\n",
      "\n",
      "        POWER    0.59236   0.57407   0.58307       162\n",
      "         TECH    0.72606   0.71965   0.72284       453\n",
      "          SAP    0.09091   0.07143   0.08000        14\n",
      "         FUNC    0.31250   0.32258   0.31746        31\n",
      "QUALIFICATION    0.47826   0.61111   0.53659        18\n",
      "\n",
      "    micro avg    0.65625   0.65044   0.65333       678\n",
      "    macro avg    0.65551   0.65044   0.65269       678\n",
      "\n",
      "07/15/2021 16:33:48 - INFO - __main__ -   tech_f1 = 0.7228381374722838\n",
      "07/15/2021 16:34:32 - INFO - __main__ -   Loading features from cached file ./datasets/cached_dev_mlm_model_uncased_tech_line_by_line_512\n",
      "07/15/2021 16:34:32 - INFO - __main__ -   ***** Running evaluation 2350 *****\n",
      "07/15/2021 16:34:32 - INFO - __main__ -     Num examples = 94\n",
      "07/15/2021 16:34:32 - INFO - __main__ -     Batch size = 16\n"
     ]
    },
    {
     "data": {
      "application/vnd.jupyter.widget-view+json": {
       "model_id": "7f4f42d736c148cf965a5e959a6021d5",
       "version_major": 2,
       "version_minor": 0
      },
      "text/plain": [
       "Evaluating:   0%|          | 0/6 [00:00<?, ?it/s]"
      ]
     },
     "metadata": {},
     "output_type": "display_data"
    },
    {
     "name": "stderr",
     "output_type": "stream",
     "text": [
      "07/15/2021 16:34:37 - INFO - __main__ -   ***** Eval results 2350 *****\n",
      "07/15/2021 16:34:37 - INFO - __main__ -   f1 = 0.6350106307583274\n",
      "07/15/2021 16:34:37 - INFO - __main__ -   loss = 1040.6211446126301\n",
      "07/15/2021 16:34:37 - INFO - __main__ -   report =                precision    recall  f1-score   support\n",
      "\n",
      "        POWER    0.55357   0.57407   0.56364       162\n",
      "         TECH    0.69182   0.72848   0.70968       453\n",
      "          SAP    0.10000   0.14286   0.11765        14\n",
      "         FUNC    0.26667   0.38710   0.31579        31\n",
      "QUALIFICATION    0.47826   0.61111   0.53659        18\n",
      "\n",
      "    micro avg    0.61119   0.66077   0.63501       678\n",
      "    macro avg    0.62146   0.66077   0.63995       678\n",
      "\n",
      "07/15/2021 16:34:37 - INFO - __main__ -   tech_f1 = 0.7096774193548386\n"
     ]
    },
    {
     "data": {
      "application/vnd.jupyter.widget-view+json": {
       "model_id": "1550e66779be446bb42897880015c70d",
       "version_major": 2,
       "version_minor": 0
      },
      "text/plain": [
       "Iteration:   0%|          | 0/50 [00:00<?, ?it/s]"
      ]
     },
     "metadata": {},
     "output_type": "display_data"
    },
    {
     "name": "stderr",
     "output_type": "stream",
     "text": [
      "07/15/2021 16:35:23 - INFO - __main__ -   Loading features from cached file ./datasets/cached_dev_mlm_model_uncased_tech_line_by_line_512\n",
      "07/15/2021 16:35:23 - INFO - __main__ -   ***** Running evaluation 2375 *****\n",
      "07/15/2021 16:35:23 - INFO - __main__ -     Num examples = 94\n",
      "07/15/2021 16:35:23 - INFO - __main__ -     Batch size = 16\n"
     ]
    },
    {
     "data": {
      "application/vnd.jupyter.widget-view+json": {
       "model_id": "90a5d93a1c244a009e98d542f5c94fb7",
       "version_major": 2,
       "version_minor": 0
      },
      "text/plain": [
       "Evaluating:   0%|          | 0/6 [00:00<?, ?it/s]"
      ]
     },
     "metadata": {},
     "output_type": "display_data"
    },
    {
     "name": "stderr",
     "output_type": "stream",
     "text": [
      "07/15/2021 16:35:28 - INFO - __main__ -   ***** Eval results 2375 *****\n",
      "07/15/2021 16:35:28 - INFO - __main__ -   f1 = 0.6372980910425845\n",
      "07/15/2021 16:35:28 - INFO - __main__ -   loss = 999.9276326497396\n",
      "07/15/2021 16:35:28 - INFO - __main__ -   report =                precision    recall  f1-score   support\n",
      "\n",
      "        POWER    0.56024   0.57407   0.56707       162\n",
      "         TECH    0.72603   0.70199   0.71380       453\n",
      "          SAP    0.10000   0.14286   0.11765        14\n",
      "         FUNC    0.27027   0.32258   0.29412        31\n",
      "QUALIFICATION    0.47826   0.61111   0.53659        18\n",
      "\n",
      "    micro avg    0.63450   0.64012   0.63730       678\n",
      "    macro avg    0.64607   0.64012   0.64254       678\n",
      "\n",
      "07/15/2021 16:35:28 - INFO - __main__ -   tech_f1 = 0.7138047138047139\n",
      "07/15/2021 16:36:12 - INFO - __main__ -   Loading features from cached file ./datasets/cached_dev_mlm_model_uncased_tech_line_by_line_512\n",
      "07/15/2021 16:36:12 - INFO - __main__ -   ***** Running evaluation 2400 *****\n",
      "07/15/2021 16:36:12 - INFO - __main__ -     Num examples = 94\n",
      "07/15/2021 16:36:12 - INFO - __main__ -     Batch size = 16\n"
     ]
    },
    {
     "data": {
      "application/vnd.jupyter.widget-view+json": {
       "model_id": "cdb6955cc3504692b6badbd5948f7396",
       "version_major": 2,
       "version_minor": 0
      },
      "text/plain": [
       "Evaluating:   0%|          | 0/6 [00:00<?, ?it/s]"
      ]
     },
     "metadata": {},
     "output_type": "display_data"
    },
    {
     "name": "stderr",
     "output_type": "stream",
     "text": [
      "07/15/2021 16:36:18 - INFO - __main__ -   ***** Eval results 2400 *****\n",
      "07/15/2021 16:36:18 - INFO - __main__ -   f1 = 0.6447848285922684\n",
      "07/15/2021 16:36:18 - INFO - __main__ -   loss = 1058.4845886230469\n",
      "07/15/2021 16:36:18 - INFO - __main__ -   report =                precision    recall  f1-score   support\n",
      "\n",
      "        POWER    0.54857   0.59259   0.56973       162\n",
      "         TECH    0.72460   0.70861   0.71652       453\n",
      "          SAP    0.11111   0.14286   0.12500        14\n",
      "         FUNC    0.35294   0.38710   0.36923        31\n",
      "QUALIFICATION    0.47826   0.61111   0.53659        18\n",
      "\n",
      "    micro avg    0.63781   0.65192   0.64478       678\n",
      "    macro avg    0.64634   0.65192   0.64858       678\n",
      "\n",
      "07/15/2021 16:36:18 - INFO - __main__ -   tech_f1 = 0.7165178571428571\n"
     ]
    },
    {
     "data": {
      "application/vnd.jupyter.widget-view+json": {
       "model_id": "bf7a2a79b7484e319a624d96f68394d7",
       "version_major": 2,
       "version_minor": 0
      },
      "text/plain": [
       "Iteration:   0%|          | 0/50 [00:00<?, ?it/s]"
      ]
     },
     "metadata": {},
     "output_type": "display_data"
    },
    {
     "name": "stderr",
     "output_type": "stream",
     "text": [
      "07/15/2021 16:37:03 - INFO - __main__ -   Loading features from cached file ./datasets/cached_dev_mlm_model_uncased_tech_line_by_line_512\n",
      "07/15/2021 16:37:03 - INFO - __main__ -   ***** Running evaluation 2425 *****\n",
      "07/15/2021 16:37:03 - INFO - __main__ -     Num examples = 94\n",
      "07/15/2021 16:37:03 - INFO - __main__ -     Batch size = 16\n"
     ]
    },
    {
     "data": {
      "application/vnd.jupyter.widget-view+json": {
       "model_id": "19b9c03776de4baebd1125f9b3bd7169",
       "version_major": 2,
       "version_minor": 0
      },
      "text/plain": [
       "Evaluating:   0%|          | 0/6 [00:00<?, ?it/s]"
      ]
     },
     "metadata": {},
     "output_type": "display_data"
    },
    {
     "name": "stderr",
     "output_type": "stream",
     "text": [
      "07/15/2021 16:37:08 - INFO - __main__ -   ***** Eval results 2425 *****\n",
      "07/15/2021 16:37:08 - INFO - __main__ -   f1 = 0.6394052044609666\n",
      "07/15/2021 16:37:08 - INFO - __main__ -   loss = 1099.4891764322917\n",
      "07/15/2021 16:37:08 - INFO - __main__ -   report =                precision    recall  f1-score   support\n",
      "\n",
      "        POWER    0.61594   0.52469   0.56667       162\n",
      "         TECH    0.72851   0.71082   0.71955       453\n",
      "          SAP    0.05882   0.07143   0.06452        14\n",
      "         FUNC    0.23404   0.35484   0.28205        31\n",
      "QUALIFICATION    0.47826   0.61111   0.53659        18\n",
      "\n",
      "    micro avg    0.64468   0.63422   0.63941       678\n",
      "    macro avg    0.65853   0.63422   0.64464       678\n",
      "\n",
      "07/15/2021 16:37:08 - INFO - __main__ -   tech_f1 = 0.7195530726256982\n",
      "07/15/2021 16:37:52 - INFO - __main__ -   Loading features from cached file ./datasets/cached_dev_mlm_model_uncased_tech_line_by_line_512\n",
      "07/15/2021 16:37:52 - INFO - __main__ -   ***** Running evaluation 2450 *****\n",
      "07/15/2021 16:37:52 - INFO - __main__ -     Num examples = 94\n",
      "07/15/2021 16:37:52 - INFO - __main__ -     Batch size = 16\n"
     ]
    },
    {
     "data": {
      "application/vnd.jupyter.widget-view+json": {
       "model_id": "bfee991a241c40fcbd96601b309cad12",
       "version_major": 2,
       "version_minor": 0
      },
      "text/plain": [
       "Evaluating:   0%|          | 0/6 [00:00<?, ?it/s]"
      ]
     },
     "metadata": {},
     "output_type": "display_data"
    },
    {
     "name": "stderr",
     "output_type": "stream",
     "text": [
      "07/15/2021 16:37:58 - INFO - __main__ -   ***** Eval results 2450 *****\n",
      "07/15/2021 16:37:58 - INFO - __main__ -   f1 = 0.6488095238095237\n",
      "07/15/2021 16:37:58 - INFO - __main__ -   loss = 1012.6717631022135\n",
      "07/15/2021 16:37:58 - INFO - __main__ -   report =                precision    recall  f1-score   support\n",
      "\n",
      "        POWER    0.57229   0.58642   0.57927       162\n",
      "         TECH    0.73611   0.70199   0.71864       453\n",
      "          SAP    0.06250   0.07143   0.06667        14\n",
      "         FUNC    0.30303   0.32258   0.31250        31\n",
      "QUALIFICATION    0.63158   0.66667   0.64865        18\n",
      "\n",
      "    micro avg    0.65465   0.64307   0.64881       678\n",
      "    macro avg    0.66048   0.64307   0.65145       678\n",
      "\n",
      "07/15/2021 16:37:58 - INFO - __main__ -   tech_f1 = 0.7186440677966103\n"
     ]
    },
    {
     "data": {
      "application/vnd.jupyter.widget-view+json": {
       "model_id": "3d40d4d7196b4a6e9a0fa75ac404f3ad",
       "version_major": 2,
       "version_minor": 0
      },
      "text/plain": [
       "Iteration:   0%|          | 0/50 [00:00<?, ?it/s]"
      ]
     },
     "metadata": {},
     "output_type": "display_data"
    },
    {
     "name": "stderr",
     "output_type": "stream",
     "text": [
      "07/15/2021 16:38:43 - INFO - __main__ -   Loading features from cached file ./datasets/cached_dev_mlm_model_uncased_tech_line_by_line_512\n",
      "07/15/2021 16:38:43 - INFO - __main__ -   ***** Running evaluation 2475 *****\n",
      "07/15/2021 16:38:43 - INFO - __main__ -     Num examples = 94\n",
      "07/15/2021 16:38:43 - INFO - __main__ -     Batch size = 16\n"
     ]
    },
    {
     "data": {
      "application/vnd.jupyter.widget-view+json": {
       "model_id": "23a19cf60e02496b8aa1336753367aa0",
       "version_major": 2,
       "version_minor": 0
      },
      "text/plain": [
       "Evaluating:   0%|          | 0/6 [00:00<?, ?it/s]"
      ]
     },
     "metadata": {},
     "output_type": "display_data"
    },
    {
     "name": "stderr",
     "output_type": "stream",
     "text": [
      "07/15/2021 16:38:48 - INFO - __main__ -   ***** Eval results 2475 *****\n",
      "07/15/2021 16:38:48 - INFO - __main__ -   f1 = 0.654434250764526\n",
      "07/15/2021 16:38:48 - INFO - __main__ -   loss = 1030.4244791666667\n",
      "07/15/2021 16:38:48 - INFO - __main__ -   report =                precision    recall  f1-score   support\n",
      "\n",
      "        POWER    0.61745   0.56790   0.59164       162\n",
      "         TECH    0.75481   0.69316   0.72267       453\n",
      "          SAP    0.07692   0.07143   0.07407        14\n",
      "         FUNC    0.32258   0.32258   0.32258        31\n",
      "QUALIFICATION    0.52381   0.61111   0.56410        18\n",
      "\n",
      "    micro avg    0.67937   0.63127   0.65443       678\n",
      "    macro avg    0.68209   0.63127   0.65547       678\n",
      "\n",
      "07/15/2021 16:38:48 - INFO - __main__ -   tech_f1 = 0.7226697353279631\n",
      "07/15/2021 16:39:33 - INFO - __main__ -   Loading features from cached file ./datasets/cached_dev_mlm_model_uncased_tech_line_by_line_512\n",
      "07/15/2021 16:39:33 - INFO - __main__ -   ***** Running evaluation 2500 *****\n",
      "07/15/2021 16:39:33 - INFO - __main__ -     Num examples = 94\n",
      "07/15/2021 16:39:33 - INFO - __main__ -     Batch size = 16\n"
     ]
    },
    {
     "data": {
      "application/vnd.jupyter.widget-view+json": {
       "model_id": "ba98b1426f2c4fedb9eabda184d104c2",
       "version_major": 2,
       "version_minor": 0
      },
      "text/plain": [
       "Evaluating:   0%|          | 0/6 [00:00<?, ?it/s]"
      ]
     },
     "metadata": {},
     "output_type": "display_data"
    },
    {
     "name": "stderr",
     "output_type": "stream",
     "text": [
      "07/15/2021 16:39:39 - INFO - __main__ -   ***** Eval results 2500 *****\n",
      "07/15/2021 16:39:39 - INFO - __main__ -   f1 = 0.6414814814814815\n",
      "07/15/2021 16:39:39 - INFO - __main__ -   loss = 1036.9407196044922\n",
      "07/15/2021 16:39:39 - INFO - __main__ -   report =                precision    recall  f1-score   support\n",
      "\n",
      "        POWER    0.61486   0.56173   0.58710       162\n",
      "         TECH    0.70889   0.70419   0.70653       453\n",
      "          SAP    0.10000   0.07143   0.08333        14\n",
      "         FUNC    0.26829   0.35484   0.30556        31\n",
      "QUALIFICATION    0.47826   0.61111   0.53659        18\n",
      "\n",
      "    micro avg    0.64435   0.63864   0.64148       678\n",
      "    macro avg    0.64758   0.63864   0.64228       678\n",
      "\n",
      "07/15/2021 16:39:39 - INFO - __main__ -   tech_f1 = 0.7065337763012182\n"
     ]
    },
    {
     "data": {
      "application/vnd.jupyter.widget-view+json": {
       "model_id": "ccc32cc3b32443648a90849d3799f1b1",
       "version_major": 2,
       "version_minor": 0
      },
      "text/plain": [
       "Iteration:   0%|          | 0/50 [00:00<?, ?it/s]"
      ]
     },
     "metadata": {},
     "output_type": "display_data"
    },
    {
     "name": "stderr",
     "output_type": "stream",
     "text": [
      "07/15/2021 16:40:23 - INFO - __main__ -   Loading features from cached file ./datasets/cached_dev_mlm_model_uncased_tech_line_by_line_512\n",
      "07/15/2021 16:40:23 - INFO - __main__ -   ***** Running evaluation 2525 *****\n",
      "07/15/2021 16:40:23 - INFO - __main__ -     Num examples = 94\n",
      "07/15/2021 16:40:23 - INFO - __main__ -     Batch size = 16\n"
     ]
    },
    {
     "data": {
      "application/vnd.jupyter.widget-view+json": {
       "model_id": "606f6f23dc80474bbc977a9a2efcace8",
       "version_major": 2,
       "version_minor": 0
      },
      "text/plain": [
       "Evaluating:   0%|          | 0/6 [00:00<?, ?it/s]"
      ]
     },
     "metadata": {},
     "output_type": "display_data"
    },
    {
     "name": "stderr",
     "output_type": "stream",
     "text": [
      "07/15/2021 16:40:29 - INFO - __main__ -   ***** Eval results 2525 *****\n",
      "07/15/2021 16:40:29 - INFO - __main__ -   f1 = 0.6494845360824744\n",
      "07/15/2021 16:40:29 - INFO - __main__ -   loss = 1070.0298461914062\n",
      "07/15/2021 16:40:29 - INFO - __main__ -   report =                precision    recall  f1-score   support\n",
      "\n",
      "        POWER    0.64085   0.56173   0.59868       162\n",
      "         TECH    0.69280   0.72185   0.70703       453\n",
      "          SAP    0.14286   0.14286   0.14286        14\n",
      "         FUNC    0.37037   0.32258   0.34483        31\n",
      "QUALIFICATION    0.44000   0.61111   0.51163        18\n",
      "\n",
      "    micro avg    0.64853   0.65044   0.64948       678\n",
      "    macro avg    0.64757   0.65044   0.64774       678\n",
      "\n",
      "07/15/2021 16:40:29 - INFO - __main__ -   tech_f1 = 0.7070270270270269\n",
      "07/15/2021 16:41:13 - INFO - __main__ -   Loading features from cached file ./datasets/cached_dev_mlm_model_uncased_tech_line_by_line_512\n",
      "07/15/2021 16:41:13 - INFO - __main__ -   ***** Running evaluation 2550 *****\n",
      "07/15/2021 16:41:13 - INFO - __main__ -     Num examples = 94\n",
      "07/15/2021 16:41:13 - INFO - __main__ -     Batch size = 16\n"
     ]
    },
    {
     "data": {
      "application/vnd.jupyter.widget-view+json": {
       "model_id": "3d8fe97c430b4c59aa6a80e24f93db6e",
       "version_major": 2,
       "version_minor": 0
      },
      "text/plain": [
       "Evaluating:   0%|          | 0/6 [00:00<?, ?it/s]"
      ]
     },
     "metadata": {},
     "output_type": "display_data"
    },
    {
     "name": "stderr",
     "output_type": "stream",
     "text": [
      "07/15/2021 16:41:19 - INFO - __main__ -   ***** Eval results 2550 *****\n",
      "07/15/2021 16:41:19 - INFO - __main__ -   f1 = 0.6585551330798479\n",
      "07/15/2021 16:41:19 - INFO - __main__ -   loss = 1016.2306365966797\n",
      "07/15/2021 16:41:19 - INFO - __main__ -   report =                precision    recall  f1-score   support\n",
      "\n",
      "        POWER    0.63265   0.57407   0.60194       162\n",
      "         TECH    0.75118   0.69978   0.72457       453\n",
      "          SAP    0.10526   0.14286   0.12121        14\n",
      "         FUNC    0.34483   0.32258   0.33333        31\n",
      "QUALIFICATION    0.55000   0.61111   0.57895        18\n",
      "\n",
      "    micro avg    0.67975   0.63864   0.65856       678\n",
      "    macro avg    0.68560   0.63864   0.66106       678\n",
      "\n",
      "07/15/2021 16:41:19 - INFO - __main__ -   tech_f1 = 0.7245714285714286\n",
      "07/15/2021 16:41:19 - INFO - transformers.configuration_utils -   Configuration saved in ./model_crf_uncased_tech/best_checkpoint/config.json\n",
      "07/15/2021 16:41:22 - INFO - transformers.modeling_utils -   Model weights saved in ./model_crf_uncased_tech/best_checkpoint/pytorch_model.bin\n",
      "07/15/2021 16:41:22 - INFO - __main__ -   Saving model checkpoint to ./model_crf_uncased_tech/best_checkpoint\n",
      "07/15/2021 16:41:27 - INFO - __main__ -   Saving optimizer and scheduler states to ./model_crf_uncased_tech/best_checkpoint\n"
     ]
    },
    {
     "data": {
      "application/vnd.jupyter.widget-view+json": {
       "model_id": "78d8d9d3df9241c5862e9e85fda0c5e2",
       "version_major": 2,
       "version_minor": 0
      },
      "text/plain": [
       "Iteration:   0%|          | 0/50 [00:00<?, ?it/s]"
      ]
     },
     "metadata": {},
     "output_type": "display_data"
    },
    {
     "name": "stderr",
     "output_type": "stream",
     "text": [
      "07/15/2021 16:42:12 - INFO - __main__ -   Loading features from cached file ./datasets/cached_dev_mlm_model_uncased_tech_line_by_line_512\n",
      "07/15/2021 16:42:12 - INFO - __main__ -   ***** Running evaluation 2575 *****\n",
      "07/15/2021 16:42:12 - INFO - __main__ -     Num examples = 94\n",
      "07/15/2021 16:42:12 - INFO - __main__ -     Batch size = 16\n"
     ]
    },
    {
     "data": {
      "application/vnd.jupyter.widget-view+json": {
       "model_id": "477f0183c6b94930b6c0e5a55e940510",
       "version_major": 2,
       "version_minor": 0
      },
      "text/plain": [
       "Evaluating:   0%|          | 0/6 [00:00<?, ?it/s]"
      ]
     },
     "metadata": {},
     "output_type": "display_data"
    },
    {
     "name": "stderr",
     "output_type": "stream",
     "text": [
      "07/15/2021 16:42:18 - INFO - __main__ -   ***** Eval results 2575 *****\n",
      "07/15/2021 16:42:18 - INFO - __main__ -   f1 = 0.6601208459214503\n",
      "07/15/2021 16:42:18 - INFO - __main__ -   loss = 1048.2989196777344\n",
      "07/15/2021 16:42:18 - INFO - __main__ -   report =                precision    recall  f1-score   support\n",
      "\n",
      "        POWER    0.65926   0.54938   0.59933       162\n",
      "         TECH    0.73198   0.71744   0.72464       453\n",
      "          SAP    0.11111   0.14286   0.12500        14\n",
      "         FUNC    0.37037   0.32258   0.34483        31\n",
      "QUALIFICATION    0.50000   0.61111   0.55000        18\n",
      "\n",
      "    micro avg    0.67647   0.64454   0.66012       678\n",
      "    macro avg    0.67909   0.64454   0.66031       678\n",
      "\n",
      "07/15/2021 16:42:18 - INFO - __main__ -   tech_f1 = 0.7246376811594202\n",
      "07/15/2021 16:42:18 - INFO - transformers.configuration_utils -   Configuration saved in ./model_crf_uncased_tech/best_checkpoint/config.json\n",
      "07/15/2021 16:42:21 - INFO - transformers.modeling_utils -   Model weights saved in ./model_crf_uncased_tech/best_checkpoint/pytorch_model.bin\n",
      "07/15/2021 16:42:21 - INFO - __main__ -   Saving model checkpoint to ./model_crf_uncased_tech/best_checkpoint\n",
      "07/15/2021 16:42:27 - INFO - __main__ -   Saving optimizer and scheduler states to ./model_crf_uncased_tech/best_checkpoint\n",
      "07/15/2021 16:43:11 - INFO - __main__ -   Loading features from cached file ./datasets/cached_dev_mlm_model_uncased_tech_line_by_line_512\n",
      "07/15/2021 16:43:11 - INFO - __main__ -   ***** Running evaluation 2600 *****\n",
      "07/15/2021 16:43:11 - INFO - __main__ -     Num examples = 94\n",
      "07/15/2021 16:43:11 - INFO - __main__ -     Batch size = 16\n"
     ]
    },
    {
     "data": {
      "application/vnd.jupyter.widget-view+json": {
       "model_id": "70edf563bcbc4238b0a6d39292bba70e",
       "version_major": 2,
       "version_minor": 0
      },
      "text/plain": [
       "Evaluating:   0%|          | 0/6 [00:00<?, ?it/s]"
      ]
     },
     "metadata": {},
     "output_type": "display_data"
    },
    {
     "name": "stderr",
     "output_type": "stream",
     "text": [
      "07/15/2021 16:43:17 - INFO - __main__ -   ***** Eval results 2600 *****\n",
      "07/15/2021 16:43:17 - INFO - __main__ -   f1 = 0.6456241032998564\n",
      "07/15/2021 16:43:17 - INFO - __main__ -   loss = 1048.9597829182942\n",
      "07/15/2021 16:43:17 - INFO - __main__ -   report =                precision    recall  f1-score   support\n",
      "\n",
      "        POWER    0.56707   0.57407   0.57055       162\n",
      "         TECH    0.69979   0.73068   0.71490       453\n",
      "          SAP    0.13043   0.21429   0.16216        14\n",
      "         FUNC    0.34375   0.35484   0.34921        31\n",
      "QUALIFICATION    0.50000   0.66667   0.57143        18\n",
      "\n",
      "    micro avg    0.62849   0.66372   0.64562       678\n",
      "    macro avg    0.63474   0.66372   0.64847       678\n",
      "\n",
      "07/15/2021 16:43:17 - INFO - __main__ -   tech_f1 = 0.7149028077753778\n"
     ]
    },
    {
     "data": {
      "application/vnd.jupyter.widget-view+json": {
       "model_id": "64c19154b2c94adabb1a22ea0daacba8",
       "version_major": 2,
       "version_minor": 0
      },
      "text/plain": [
       "Iteration:   0%|          | 0/50 [00:00<?, ?it/s]"
      ]
     },
     "metadata": {},
     "output_type": "display_data"
    },
    {
     "name": "stderr",
     "output_type": "stream",
     "text": [
      "07/15/2021 16:44:02 - INFO - __main__ -   Loading features from cached file ./datasets/cached_dev_mlm_model_uncased_tech_line_by_line_512\n",
      "07/15/2021 16:44:02 - INFO - __main__ -   ***** Running evaluation 2625 *****\n",
      "07/15/2021 16:44:02 - INFO - __main__ -     Num examples = 94\n",
      "07/15/2021 16:44:02 - INFO - __main__ -     Batch size = 16\n"
     ]
    },
    {
     "data": {
      "application/vnd.jupyter.widget-view+json": {
       "model_id": "d6470dddcabc44c4bf32fac1c851bc18",
       "version_major": 2,
       "version_minor": 0
      },
      "text/plain": [
       "Evaluating:   0%|          | 0/6 [00:00<?, ?it/s]"
      ]
     },
     "metadata": {},
     "output_type": "display_data"
    },
    {
     "name": "stderr",
     "output_type": "stream",
     "text": [
      "07/15/2021 16:44:08 - INFO - __main__ -   ***** Eval results 2625 *****\n",
      "07/15/2021 16:44:08 - INFO - __main__ -   f1 = 0.6492753623188405\n",
      "07/15/2021 16:44:08 - INFO - __main__ -   loss = 1074.8215433756511\n",
      "07/15/2021 16:44:08 - INFO - __main__ -   report =                precision    recall  f1-score   support\n",
      "\n",
      "        POWER    0.56364   0.57407   0.56881       162\n",
      "         TECH    0.72247   0.72406   0.72326       453\n",
      "          SAP    0.10000   0.14286   0.11765        14\n",
      "         FUNC    0.28571   0.38710   0.32877        31\n",
      "QUALIFICATION    0.61905   0.72222   0.66667        18\n",
      "\n",
      "    micro avg    0.63818   0.66077   0.64928       678\n",
      "    macro avg    0.64895   0.66077   0.65431       678\n",
      "\n",
      "07/15/2021 16:44:08 - INFO - __main__ -   tech_f1 = 0.7232635060639471\n",
      "07/15/2021 16:44:52 - INFO - __main__ -   Loading features from cached file ./datasets/cached_dev_mlm_model_uncased_tech_line_by_line_512\n",
      "07/15/2021 16:44:52 - INFO - __main__ -   ***** Running evaluation 2650 *****\n",
      "07/15/2021 16:44:52 - INFO - __main__ -     Num examples = 94\n",
      "07/15/2021 16:44:52 - INFO - __main__ -     Batch size = 16\n"
     ]
    },
    {
     "data": {
      "application/vnd.jupyter.widget-view+json": {
       "model_id": "e8982a190364450caa2c38d21fd65c31",
       "version_major": 2,
       "version_minor": 0
      },
      "text/plain": [
       "Evaluating:   0%|          | 0/6 [00:00<?, ?it/s]"
      ]
     },
     "metadata": {},
     "output_type": "display_data"
    },
    {
     "name": "stderr",
     "output_type": "stream",
     "text": [
      "07/15/2021 16:44:58 - INFO - __main__ -   ***** Eval results 2650 *****\n",
      "07/15/2021 16:44:58 - INFO - __main__ -   f1 = 0.6490566037735849\n",
      "07/15/2021 16:44:58 - INFO - __main__ -   loss = 1044.757044474284\n",
      "07/15/2021 16:44:58 - INFO - __main__ -   report =                precision    recall  f1-score   support\n",
      "\n",
      "        POWER    0.63971   0.53704   0.58389       162\n",
      "         TECH    0.72936   0.70199   0.71541       453\n",
      "          SAP    0.09091   0.14286   0.11111        14\n",
      "         FUNC    0.36667   0.35484   0.36066        31\n",
      "QUALIFICATION    0.52174   0.66667   0.58537        18\n",
      "\n",
      "    micro avg    0.66461   0.63422   0.64906       678\n",
      "    macro avg    0.67266   0.63422   0.65183       678\n",
      "\n",
      "07/15/2021 16:44:58 - INFO - __main__ -   tech_f1 = 0.7154105736782902\n"
     ]
    },
    {
     "data": {
      "application/vnd.jupyter.widget-view+json": {
       "model_id": "3c1a44d1574241cfaa2d58e4e3407470",
       "version_major": 2,
       "version_minor": 0
      },
      "text/plain": [
       "Iteration:   0%|          | 0/50 [00:00<?, ?it/s]"
      ]
     },
     "metadata": {},
     "output_type": "display_data"
    },
    {
     "name": "stderr",
     "output_type": "stream",
     "text": [
      "07/15/2021 16:45:43 - INFO - __main__ -   Loading features from cached file ./datasets/cached_dev_mlm_model_uncased_tech_line_by_line_512\n",
      "07/15/2021 16:45:43 - INFO - __main__ -   ***** Running evaluation 2675 *****\n",
      "07/15/2021 16:45:43 - INFO - __main__ -     Num examples = 94\n",
      "07/15/2021 16:45:43 - INFO - __main__ -     Batch size = 16\n"
     ]
    },
    {
     "data": {
      "application/vnd.jupyter.widget-view+json": {
       "model_id": "e42ae2ef06b04d35bea7ebb925006e14",
       "version_major": 2,
       "version_minor": 0
      },
      "text/plain": [
       "Evaluating:   0%|          | 0/6 [00:00<?, ?it/s]"
      ]
     },
     "metadata": {},
     "output_type": "display_data"
    },
    {
     "name": "stderr",
     "output_type": "stream",
     "text": [
      "07/15/2021 16:45:49 - INFO - __main__ -   ***** Eval results 2675 *****\n",
      "07/15/2021 16:45:49 - INFO - __main__ -   f1 = 0.6451149425287356\n",
      "07/15/2021 16:45:49 - INFO - __main__ -   loss = 1107.6145731608074\n",
      "07/15/2021 16:45:49 - INFO - __main__ -   report =                precision    recall  f1-score   support\n",
      "\n",
      "        POWER    0.57692   0.55556   0.56604       162\n",
      "         TECH    0.70253   0.73510   0.71845       453\n",
      "          SAP    0.08696   0.14286   0.10811        14\n",
      "         FUNC    0.31579   0.38710   0.34783        31\n",
      "QUALIFICATION    0.52174   0.66667   0.58537        18\n",
      "\n",
      "    micro avg    0.62885   0.66224   0.64511       678\n",
      "    macro avg    0.63733   0.66224   0.64895       678\n",
      "\n",
      "07/15/2021 16:45:49 - INFO - __main__ -   tech_f1 = 0.7184466019417476\n",
      "07/15/2021 16:46:33 - INFO - __main__ -   Loading features from cached file ./datasets/cached_dev_mlm_model_uncased_tech_line_by_line_512\n",
      "07/15/2021 16:46:33 - INFO - __main__ -   ***** Running evaluation 2700 *****\n",
      "07/15/2021 16:46:33 - INFO - __main__ -     Num examples = 94\n",
      "07/15/2021 16:46:33 - INFO - __main__ -     Batch size = 16\n"
     ]
    },
    {
     "data": {
      "application/vnd.jupyter.widget-view+json": {
       "model_id": "d9606bbfb82a4d00b3abb25658796983",
       "version_major": 2,
       "version_minor": 0
      },
      "text/plain": [
       "Evaluating:   0%|          | 0/6 [00:00<?, ?it/s]"
      ]
     },
     "metadata": {},
     "output_type": "display_data"
    },
    {
     "name": "stderr",
     "output_type": "stream",
     "text": [
      "07/15/2021 16:46:39 - INFO - __main__ -   ***** Eval results 2700 *****\n",
      "07/15/2021 16:46:39 - INFO - __main__ -   f1 = 0.6513693560325685\n",
      "07/15/2021 16:46:39 - INFO - __main__ -   loss = 1081.4852803548176\n",
      "07/15/2021 16:46:39 - INFO - __main__ -   report =                precision    recall  f1-score   support\n",
      "\n",
      "        POWER    0.55488   0.56173   0.55828       162\n",
      "         TECH    0.73138   0.71523   0.72321       453\n",
      "          SAP    0.11765   0.14286   0.12903        14\n",
      "         FUNC    0.42308   0.35484   0.38596        31\n",
      "QUALIFICATION    0.52174   0.66667   0.58537        18\n",
      "\n",
      "    micro avg    0.65379   0.64897   0.65137       678\n",
      "    macro avg    0.65687   0.64897   0.65246       678\n",
      "\n",
      "07/15/2021 16:46:39 - INFO - __main__ -   tech_f1 = 0.7232142857142857\n"
     ]
    },
    {
     "data": {
      "application/vnd.jupyter.widget-view+json": {
       "model_id": "9052c74fd2804da9b866cb005360730e",
       "version_major": 2,
       "version_minor": 0
      },
      "text/plain": [
       "Iteration:   0%|          | 0/50 [00:00<?, ?it/s]"
      ]
     },
     "metadata": {},
     "output_type": "display_data"
    },
    {
     "name": "stderr",
     "output_type": "stream",
     "text": [
      "07/15/2021 16:47:24 - INFO - __main__ -   Loading features from cached file ./datasets/cached_dev_mlm_model_uncased_tech_line_by_line_512\n",
      "07/15/2021 16:47:24 - INFO - __main__ -   ***** Running evaluation 2725 *****\n",
      "07/15/2021 16:47:24 - INFO - __main__ -     Num examples = 94\n",
      "07/15/2021 16:47:24 - INFO - __main__ -     Batch size = 16\n"
     ]
    },
    {
     "data": {
      "application/vnd.jupyter.widget-view+json": {
       "model_id": "3f9ffac521534793afca1a675bd0d860",
       "version_major": 2,
       "version_minor": 0
      },
      "text/plain": [
       "Evaluating:   0%|          | 0/6 [00:00<?, ?it/s]"
      ]
     },
     "metadata": {},
     "output_type": "display_data"
    },
    {
     "name": "stderr",
     "output_type": "stream",
     "text": [
      "07/15/2021 16:47:30 - INFO - __main__ -   ***** Eval results 2725 *****\n",
      "07/15/2021 16:47:30 - INFO - __main__ -   f1 = 0.6423357664233577\n",
      "07/15/2021 16:47:30 - INFO - __main__ -   loss = 1156.7954813639324\n",
      "07/15/2021 16:47:30 - INFO - __main__ -   report =                precision    recall  f1-score   support\n",
      "\n",
      "        POWER    0.58861   0.57407   0.58125       162\n",
      "         TECH    0.69762   0.71302   0.70524       453\n",
      "          SAP    0.09091   0.14286   0.11111        14\n",
      "         FUNC    0.38462   0.32258   0.35088        31\n",
      "QUALIFICATION    0.52174   0.66667   0.58537        18\n",
      "\n",
      "    micro avg    0.63584   0.64897   0.64234       678\n",
      "    macro avg    0.64007   0.64897   0.64396       678\n",
      "\n",
      "07/15/2021 16:47:30 - INFO - __main__ -   tech_f1 = 0.7052401746724891\n",
      "07/15/2021 16:48:14 - INFO - __main__ -   Loading features from cached file ./datasets/cached_dev_mlm_model_uncased_tech_line_by_line_512\n",
      "07/15/2021 16:48:14 - INFO - __main__ -   ***** Running evaluation 2750 *****\n",
      "07/15/2021 16:48:14 - INFO - __main__ -     Num examples = 94\n",
      "07/15/2021 16:48:14 - INFO - __main__ -     Batch size = 16\n"
     ]
    },
    {
     "data": {
      "application/vnd.jupyter.widget-view+json": {
       "model_id": "56b69353d2a543058df34d4cffd4a9c1",
       "version_major": 2,
       "version_minor": 0
      },
      "text/plain": [
       "Evaluating:   0%|          | 0/6 [00:00<?, ?it/s]"
      ]
     },
     "metadata": {},
     "output_type": "display_data"
    },
    {
     "name": "stderr",
     "output_type": "stream",
     "text": [
      "07/15/2021 16:48:19 - INFO - __main__ -   ***** Eval results 2750 *****\n",
      "07/15/2021 16:48:19 - INFO - __main__ -   f1 = 0.6387049300956585\n",
      "07/15/2021 16:48:19 - INFO - __main__ -   loss = 1117.9729105631511\n",
      "07/15/2021 16:48:19 - INFO - __main__ -   report =                precision    recall  f1-score   support\n",
      "\n",
      "        POWER    0.60403   0.55556   0.57878       162\n",
      "         TECH    0.70264   0.70419   0.70342       453\n",
      "          SAP    0.08696   0.14286   0.10811        14\n",
      "         FUNC    0.32353   0.35484   0.33846        31\n",
      "QUALIFICATION    0.57143   0.66667   0.61538        18\n",
      "\n",
      "    micro avg    0.63730   0.64012   0.63870       678\n",
      "    macro avg    0.64555   0.64012   0.64232       678\n",
      "\n",
      "07/15/2021 16:48:19 - INFO - __main__ -   tech_f1 = 0.7034178610804851\n"
     ]
    },
    {
     "data": {
      "application/vnd.jupyter.widget-view+json": {
       "model_id": "09cd5907556e4c9380e4de8f0853e67c",
       "version_major": 2,
       "version_minor": 0
      },
      "text/plain": [
       "Iteration:   0%|          | 0/50 [00:00<?, ?it/s]"
      ]
     },
     "metadata": {},
     "output_type": "display_data"
    },
    {
     "name": "stderr",
     "output_type": "stream",
     "text": [
      "07/15/2021 16:49:04 - INFO - __main__ -   Loading features from cached file ./datasets/cached_dev_mlm_model_uncased_tech_line_by_line_512\n",
      "07/15/2021 16:49:04 - INFO - __main__ -   ***** Running evaluation 2775 *****\n",
      "07/15/2021 16:49:04 - INFO - __main__ -     Num examples = 94\n",
      "07/15/2021 16:49:04 - INFO - __main__ -     Batch size = 16\n"
     ]
    },
    {
     "data": {
      "application/vnd.jupyter.widget-view+json": {
       "model_id": "97528158559442869c145795649ecfd7",
       "version_major": 2,
       "version_minor": 0
      },
      "text/plain": [
       "Evaluating:   0%|          | 0/6 [00:00<?, ?it/s]"
      ]
     },
     "metadata": {},
     "output_type": "display_data"
    },
    {
     "name": "stderr",
     "output_type": "stream",
     "text": [
      "07/15/2021 16:49:10 - INFO - __main__ -   ***** Eval results 2775 *****\n",
      "07/15/2021 16:49:10 - INFO - __main__ -   f1 = 0.638109305760709\n",
      "07/15/2021 16:49:10 - INFO - __main__ -   loss = 1115.6668294270833\n",
      "07/15/2021 16:49:10 - INFO - __main__ -   report =                precision    recall  f1-score   support\n",
      "\n",
      "        POWER    0.60265   0.56173   0.58147       162\n",
      "         TECH    0.71719   0.69978   0.70838       453\n",
      "          SAP    0.08696   0.14286   0.10811        14\n",
      "         FUNC    0.28205   0.35484   0.31429        31\n",
      "QUALIFICATION    0.52381   0.61111   0.56410        18\n",
      "\n",
      "    micro avg    0.63905   0.63717   0.63811       678\n",
      "    macro avg    0.65178   0.63717   0.64381       678\n",
      "\n",
      "07/15/2021 16:49:10 - INFO - __main__ -   tech_f1 = 0.7083798882681565\n",
      "07/15/2021 16:49:53 - INFO - __main__ -   Loading features from cached file ./datasets/cached_dev_mlm_model_uncased_tech_line_by_line_512\n",
      "07/15/2021 16:49:53 - INFO - __main__ -   ***** Running evaluation 2800 *****\n",
      "07/15/2021 16:49:53 - INFO - __main__ -     Num examples = 94\n",
      "07/15/2021 16:49:53 - INFO - __main__ -     Batch size = 16\n"
     ]
    },
    {
     "data": {
      "application/vnd.jupyter.widget-view+json": {
       "model_id": "efc40923fa904342aaf0c426d8f335ac",
       "version_major": 2,
       "version_minor": 0
      },
      "text/plain": [
       "Evaluating:   0%|          | 0/6 [00:00<?, ?it/s]"
      ]
     },
     "metadata": {},
     "output_type": "display_data"
    },
    {
     "name": "stderr",
     "output_type": "stream",
     "text": [
      "07/15/2021 16:49:59 - INFO - __main__ -   ***** Eval results 2800 *****\n",
      "07/15/2021 16:49:59 - INFO - __main__ -   f1 = 0.6415094339622642\n",
      "07/15/2021 16:49:59 - INFO - __main__ -   loss = 1068.6177164713542\n",
      "07/15/2021 16:49:59 - INFO - __main__ -   report =                precision    recall  f1-score   support\n",
      "\n",
      "        POWER    0.60811   0.55556   0.58065       162\n",
      "         TECH    0.69639   0.72406   0.70996       453\n",
      "          SAP    0.08333   0.14286   0.10526        14\n",
      "         FUNC    0.29412   0.32258   0.30769        31\n",
      "QUALIFICATION    0.52174   0.66667   0.58537        18\n",
      "\n",
      "    micro avg    0.63143   0.65192   0.64151       678\n",
      "    macro avg    0.63961   0.65192   0.64487       678\n",
      "\n",
      "07/15/2021 16:49:59 - INFO - __main__ -   tech_f1 = 0.70995670995671\n"
     ]
    },
    {
     "data": {
      "application/vnd.jupyter.widget-view+json": {
       "model_id": "5bc46a07e33c4b58a798d57ac27957a9",
       "version_major": 2,
       "version_minor": 0
      },
      "text/plain": [
       "Iteration:   0%|          | 0/50 [00:00<?, ?it/s]"
      ]
     },
     "metadata": {},
     "output_type": "display_data"
    },
    {
     "name": "stderr",
     "output_type": "stream",
     "text": [
      "07/15/2021 16:50:43 - INFO - __main__ -   Loading features from cached file ./datasets/cached_dev_mlm_model_uncased_tech_line_by_line_512\n",
      "07/15/2021 16:50:43 - INFO - __main__ -   ***** Running evaluation 2825 *****\n",
      "07/15/2021 16:50:43 - INFO - __main__ -     Num examples = 94\n",
      "07/15/2021 16:50:43 - INFO - __main__ -     Batch size = 16\n"
     ]
    },
    {
     "data": {
      "application/vnd.jupyter.widget-view+json": {
       "model_id": "acfd1817674640a39177e636bd6d9d68",
       "version_major": 2,
       "version_minor": 0
      },
      "text/plain": [
       "Evaluating:   0%|          | 0/6 [00:00<?, ?it/s]"
      ]
     },
     "metadata": {},
     "output_type": "display_data"
    },
    {
     "name": "stderr",
     "output_type": "stream",
     "text": [
      "07/15/2021 16:50:49 - INFO - __main__ -   ***** Eval results 2825 *****\n",
      "07/15/2021 16:50:49 - INFO - __main__ -   f1 = 0.6363636363636364\n",
      "07/15/2021 16:50:49 - INFO - __main__ -   loss = 1113.9166666666667\n",
      "07/15/2021 16:50:49 - INFO - __main__ -   report =                precision    recall  f1-score   support\n",
      "\n",
      "        POWER    0.56875   0.56173   0.56522       162\n",
      "         TECH    0.68238   0.73510   0.70776       453\n",
      "          SAP    0.08696   0.14286   0.10811        14\n",
      "         FUNC    0.27778   0.32258   0.29851        31\n",
      "QUALIFICATION    0.52174   0.66667   0.58537        18\n",
      "\n",
      "    micro avg    0.61370   0.66077   0.63636       678\n",
      "    macro avg    0.62017   0.66077   0.63936       678\n",
      "\n",
      "07/15/2021 16:50:49 - INFO - __main__ -   tech_f1 = 0.7077577045696067\n",
      "07/15/2021 16:51:34 - INFO - __main__ -   Loading features from cached file ./datasets/cached_dev_mlm_model_uncased_tech_line_by_line_512\n",
      "07/15/2021 16:51:34 - INFO - __main__ -   ***** Running evaluation 2850 *****\n",
      "07/15/2021 16:51:34 - INFO - __main__ -     Num examples = 94\n",
      "07/15/2021 16:51:34 - INFO - __main__ -     Batch size = 16\n"
     ]
    },
    {
     "data": {
      "application/vnd.jupyter.widget-view+json": {
       "model_id": "565a41dc6bdf4347bb686ee53e0f0060",
       "version_major": 2,
       "version_minor": 0
      },
      "text/plain": [
       "Evaluating:   0%|          | 0/6 [00:00<?, ?it/s]"
      ]
     },
     "metadata": {},
     "output_type": "display_data"
    },
    {
     "name": "stderr",
     "output_type": "stream",
     "text": [
      "07/15/2021 16:51:39 - INFO - __main__ -   ***** Eval results 2850 *****\n",
      "07/15/2021 16:51:39 - INFO - __main__ -   f1 = 0.6444605358435916\n",
      "07/15/2021 16:51:39 - INFO - __main__ -   loss = 1115.1371154785156\n",
      "07/15/2021 16:51:39 - INFO - __main__ -   report =                precision    recall  f1-score   support\n",
      "\n",
      "        POWER    0.59477   0.56173   0.57778       162\n",
      "         TECH    0.70513   0.72848   0.71661       453\n",
      "          SAP    0.08333   0.14286   0.10526        14\n",
      "         FUNC    0.28571   0.32258   0.30303        31\n",
      "QUALIFICATION    0.52174   0.66667   0.58537        18\n",
      "\n",
      "    micro avg    0.63300   0.65634   0.64446       678\n",
      "    macro avg    0.64187   0.65634   0.64842       678\n",
      "\n",
      "07/15/2021 16:51:39 - INFO - __main__ -   tech_f1 = 0.7166123778501629\n"
     ]
    },
    {
     "data": {
      "application/vnd.jupyter.widget-view+json": {
       "model_id": "ae291655081e413c88783a9ab22122d7",
       "version_major": 2,
       "version_minor": 0
      },
      "text/plain": [
       "Iteration:   0%|          | 0/50 [00:00<?, ?it/s]"
      ]
     },
     "metadata": {},
     "output_type": "display_data"
    },
    {
     "name": "stderr",
     "output_type": "stream",
     "text": [
      "07/15/2021 16:52:24 - INFO - __main__ -   Loading features from cached file ./datasets/cached_dev_mlm_model_uncased_tech_line_by_line_512\n",
      "07/15/2021 16:52:24 - INFO - __main__ -   ***** Running evaluation 2875 *****\n",
      "07/15/2021 16:52:24 - INFO - __main__ -     Num examples = 94\n",
      "07/15/2021 16:52:24 - INFO - __main__ -     Batch size = 16\n"
     ]
    },
    {
     "data": {
      "application/vnd.jupyter.widget-view+json": {
       "model_id": "c3b294a01c44432789c720a0e19ad1d2",
       "version_major": 2,
       "version_minor": 0
      },
      "text/plain": [
       "Evaluating:   0%|          | 0/6 [00:00<?, ?it/s]"
      ]
     },
     "metadata": {},
     "output_type": "display_data"
    },
    {
     "name": "stderr",
     "output_type": "stream",
     "text": [
      "07/15/2021 16:52:30 - INFO - __main__ -   ***** Eval results 2875 *****\n",
      "07/15/2021 16:52:30 - INFO - __main__ -   f1 = 0.6554989075018209\n",
      "07/15/2021 16:52:30 - INFO - __main__ -   loss = 1079.3033142089844\n",
      "07/15/2021 16:52:30 - INFO - __main__ -   report =                precision    recall  f1-score   support\n",
      "\n",
      "        POWER    0.60811   0.55556   0.58065       162\n",
      "         TECH    0.71489   0.74172   0.72806       453\n",
      "          SAP    0.09091   0.14286   0.11111        14\n",
      "         FUNC    0.31250   0.32258   0.31746        31\n",
      "QUALIFICATION    0.52174   0.66667   0.58537        18\n",
      "\n",
      "    micro avg    0.64748   0.66372   0.65550       678\n",
      "    macro avg    0.65297   0.66372   0.65754       678\n",
      "\n",
      "07/15/2021 16:52:30 - INFO - __main__ -   tech_f1 = 0.7280606717226435\n",
      "07/15/2021 16:52:30 - INFO - transformers.configuration_utils -   Configuration saved in ./model_crf_uncased_tech/best_checkpoint/config.json\n",
      "07/15/2021 16:52:33 - INFO - transformers.modeling_utils -   Model weights saved in ./model_crf_uncased_tech/best_checkpoint/pytorch_model.bin\n",
      "07/15/2021 16:52:33 - INFO - __main__ -   Saving model checkpoint to ./model_crf_uncased_tech/best_checkpoint\n",
      "07/15/2021 16:52:39 - INFO - __main__ -   Saving optimizer and scheduler states to ./model_crf_uncased_tech/best_checkpoint\n",
      "07/15/2021 16:53:23 - INFO - __main__ -   Loading features from cached file ./datasets/cached_dev_mlm_model_uncased_tech_line_by_line_512\n",
      "07/15/2021 16:53:23 - INFO - __main__ -   ***** Running evaluation 2900 *****\n",
      "07/15/2021 16:53:23 - INFO - __main__ -     Num examples = 94\n",
      "07/15/2021 16:53:23 - INFO - __main__ -     Batch size = 16\n"
     ]
    },
    {
     "data": {
      "application/vnd.jupyter.widget-view+json": {
       "model_id": "26d9fea1f79443c8937d3b76cfb514de",
       "version_major": 2,
       "version_minor": 0
      },
      "text/plain": [
       "Evaluating:   0%|          | 0/6 [00:00<?, ?it/s]"
      ]
     },
     "metadata": {},
     "output_type": "display_data"
    },
    {
     "name": "stderr",
     "output_type": "stream",
     "text": [
      "07/15/2021 16:53:29 - INFO - __main__ -   ***** Eval results 2900 *****\n",
      "07/15/2021 16:53:29 - INFO - __main__ -   f1 = 0.640222686151705\n",
      "07/15/2021 16:53:29 - INFO - __main__ -   loss = 1039.6207885742188\n",
      "07/15/2021 16:53:29 - INFO - __main__ -   report =                precision    recall  f1-score   support\n",
      "\n",
      "        POWER    0.54190   0.59877   0.56891       162\n",
      "         TECH    0.68485   0.74834   0.71519       453\n",
      "          SAP    0.08696   0.14286   0.10811        14\n",
      "         FUNC    0.25641   0.32258   0.28571        31\n",
      "QUALIFICATION    0.52174   0.66667   0.58537        18\n",
      "\n",
      "    micro avg    0.60606   0.67847   0.64022       678\n",
      "    macro avg    0.61443   0.67847   0.64462       678\n",
      "\n",
      "07/15/2021 16:53:29 - INFO - __main__ -   tech_f1 = 0.7151898734177216\n"
     ]
    },
    {
     "data": {
      "application/vnd.jupyter.widget-view+json": {
       "model_id": "c67403bbe1154658a938970b62759b20",
       "version_major": 2,
       "version_minor": 0
      },
      "text/plain": [
       "Iteration:   0%|          | 0/50 [00:00<?, ?it/s]"
      ]
     },
     "metadata": {},
     "output_type": "display_data"
    },
    {
     "name": "stderr",
     "output_type": "stream",
     "text": [
      "07/15/2021 16:54:14 - INFO - __main__ -   Loading features from cached file ./datasets/cached_dev_mlm_model_uncased_tech_line_by_line_512\n",
      "07/15/2021 16:54:14 - INFO - __main__ -   ***** Running evaluation 2925 *****\n",
      "07/15/2021 16:54:14 - INFO - __main__ -     Num examples = 94\n",
      "07/15/2021 16:54:14 - INFO - __main__ -     Batch size = 16\n"
     ]
    },
    {
     "data": {
      "application/vnd.jupyter.widget-view+json": {
       "model_id": "5693d48751194dc4a78fba02f23e46a0",
       "version_major": 2,
       "version_minor": 0
      },
      "text/plain": [
       "Evaluating:   0%|          | 0/6 [00:00<?, ?it/s]"
      ]
     },
     "metadata": {},
     "output_type": "display_data"
    },
    {
     "name": "stderr",
     "output_type": "stream",
     "text": [
      "07/15/2021 16:54:20 - INFO - __main__ -   ***** Eval results 2925 *****\n",
      "07/15/2021 16:54:20 - INFO - __main__ -   f1 = 0.647887323943662\n",
      "07/15/2021 16:54:20 - INFO - __main__ -   loss = 988.1608072916666\n",
      "07/15/2021 16:54:20 - INFO - __main__ -   report =                precision    recall  f1-score   support\n",
      "\n",
      "        POWER    0.60000   0.57407   0.58675       162\n",
      "         TECH    0.72893   0.70640   0.71749       453\n",
      "          SAP    0.08696   0.14286   0.10811        14\n",
      "         FUNC    0.32258   0.32258   0.32258        31\n",
      "QUALIFICATION    0.52174   0.66667   0.58537        18\n",
      "\n",
      "    micro avg    0.65127   0.64454   0.64789       678\n",
      "    macro avg    0.66079   0.64454   0.65210       678\n",
      "\n",
      "07/15/2021 16:54:20 - INFO - __main__ -   tech_f1 = 0.7174887892376681\n",
      "07/15/2021 16:55:03 - INFO - __main__ -   Loading features from cached file ./datasets/cached_dev_mlm_model_uncased_tech_line_by_line_512\n",
      "07/15/2021 16:55:03 - INFO - __main__ -   ***** Running evaluation 2950 *****\n",
      "07/15/2021 16:55:03 - INFO - __main__ -     Num examples = 94\n",
      "07/15/2021 16:55:03 - INFO - __main__ -     Batch size = 16\n"
     ]
    },
    {
     "data": {
      "application/vnd.jupyter.widget-view+json": {
       "model_id": "d83e3c235f3a477db8cdad5b1df57bef",
       "version_major": 2,
       "version_minor": 0
      },
      "text/plain": [
       "Evaluating:   0%|          | 0/6 [00:00<?, ?it/s]"
      ]
     },
     "metadata": {},
     "output_type": "display_data"
    },
    {
     "name": "stderr",
     "output_type": "stream",
     "text": [
      "07/15/2021 16:55:09 - INFO - __main__ -   ***** Eval results 2950 *****\n",
      "07/15/2021 16:55:09 - INFO - __main__ -   f1 = 0.6476608187134503\n",
      "07/15/2021 16:55:09 - INFO - __main__ -   loss = 999.6207885742188\n",
      "07/15/2021 16:55:09 - INFO - __main__ -   report =                precision    recall  f1-score   support\n",
      "\n",
      "        POWER    0.60135   0.54938   0.57419       162\n",
      "         TECH    0.71274   0.72848   0.72052       453\n",
      "          SAP    0.09091   0.14286   0.11111        14\n",
      "         FUNC    0.29412   0.32258   0.30769        31\n",
      "QUALIFICATION    0.52174   0.66667   0.58537        18\n",
      "\n",
      "    micro avg    0.64203   0.65339   0.64766       678\n",
      "    macro avg    0.64908   0.65339   0.65051       678\n",
      "\n",
      "07/15/2021 16:55:09 - INFO - __main__ -   tech_f1 = 0.7205240174672488\n"
     ]
    },
    {
     "data": {
      "application/vnd.jupyter.widget-view+json": {
       "model_id": "dee21eeef1ed4f868ed642922c0e51d8",
       "version_major": 2,
       "version_minor": 0
      },
      "text/plain": [
       "Iteration:   0%|          | 0/50 [00:00<?, ?it/s]"
      ]
     },
     "metadata": {},
     "output_type": "display_data"
    },
    {
     "name": "stderr",
     "output_type": "stream",
     "text": [
      "07/15/2021 16:55:54 - INFO - __main__ -   Loading features from cached file ./datasets/cached_dev_mlm_model_uncased_tech_line_by_line_512\n",
      "07/15/2021 16:55:54 - INFO - __main__ -   ***** Running evaluation 2975 *****\n",
      "07/15/2021 16:55:54 - INFO - __main__ -     Num examples = 94\n",
      "07/15/2021 16:55:54 - INFO - __main__ -     Batch size = 16\n"
     ]
    },
    {
     "data": {
      "application/vnd.jupyter.widget-view+json": {
       "model_id": "c878502933dc4941a3861bcbefdbc2a4",
       "version_major": 2,
       "version_minor": 0
      },
      "text/plain": [
       "Evaluating:   0%|          | 0/6 [00:00<?, ?it/s]"
      ]
     },
     "metadata": {},
     "output_type": "display_data"
    },
    {
     "name": "stderr",
     "output_type": "stream",
     "text": [
      "07/15/2021 16:56:00 - INFO - __main__ -   ***** Eval results 2975 *****\n",
      "07/15/2021 16:56:00 - INFO - __main__ -   f1 = 0.6425531914893617\n",
      "07/15/2021 16:56:00 - INFO - __main__ -   loss = 1060.3489074707031\n",
      "07/15/2021 16:56:00 - INFO - __main__ -   report =                precision    recall  f1-score   support\n",
      "\n",
      "        POWER    0.61074   0.56173   0.58521       162\n",
      "         TECH    0.68623   0.74834   0.71595       453\n",
      "          SAP    0.07692   0.14286   0.10000        14\n",
      "         FUNC    0.22500   0.29032   0.25352        31\n",
      "QUALIFICATION    0.52174   0.66667   0.58537        18\n",
      "\n",
      "    micro avg    0.61885   0.66814   0.64255       678\n",
      "    macro avg    0.63016   0.66814   0.64738       678\n",
      "\n",
      "07/15/2021 16:56:00 - INFO - __main__ -   tech_f1 = 0.7159450897571278\n",
      "07/15/2021 16:56:43 - INFO - __main__ -   Loading features from cached file ./datasets/cached_dev_mlm_model_uncased_tech_line_by_line_512\n",
      "07/15/2021 16:56:43 - INFO - __main__ -   ***** Running evaluation 3000 *****\n",
      "07/15/2021 16:56:43 - INFO - __main__ -     Num examples = 94\n",
      "07/15/2021 16:56:43 - INFO - __main__ -     Batch size = 16\n"
     ]
    },
    {
     "data": {
      "application/vnd.jupyter.widget-view+json": {
       "model_id": "c6a9e10c5b494db6bd17f90bd44a5e30",
       "version_major": 2,
       "version_minor": 0
      },
      "text/plain": [
       "Evaluating:   0%|          | 0/6 [00:00<?, ?it/s]"
      ]
     },
     "metadata": {},
     "output_type": "display_data"
    },
    {
     "name": "stderr",
     "output_type": "stream",
     "text": [
      "07/15/2021 16:56:49 - INFO - __main__ -   ***** Eval results 3000 *****\n",
      "07/15/2021 16:56:49 - INFO - __main__ -   f1 = 0.6425406203840472\n",
      "07/15/2021 16:56:49 - INFO - __main__ -   loss = 1024.255615234375\n",
      "07/15/2021 16:56:49 - INFO - __main__ -   report =                precision    recall  f1-score   support\n",
      "\n",
      "        POWER    0.62937   0.55556   0.59016       162\n",
      "         TECH    0.71492   0.70861   0.71175       453\n",
      "          SAP    0.08000   0.14286   0.10256        14\n",
      "         FUNC    0.27778   0.32258   0.29851        31\n",
      "QUALIFICATION    0.52174   0.66667   0.58537        18\n",
      "\n",
      "    micro avg    0.64349   0.64159   0.64254       678\n",
      "    macro avg    0.65625   0.64159   0.64787       678\n",
      "\n",
      "07/15/2021 16:56:49 - INFO - __main__ -   tech_f1 = 0.711751662971175\n"
     ]
    },
    {
     "data": {
      "application/vnd.jupyter.widget-view+json": {
       "model_id": "f9ed19532deb4f5dad85e66b51494028",
       "version_major": 2,
       "version_minor": 0
      },
      "text/plain": [
       "Iteration:   0%|          | 0/50 [00:00<?, ?it/s]"
      ]
     },
     "metadata": {},
     "output_type": "display_data"
    },
    {
     "name": "stderr",
     "output_type": "stream",
     "text": [
      "07/15/2021 16:57:34 - INFO - __main__ -   Loading features from cached file ./datasets/cached_dev_mlm_model_uncased_tech_line_by_line_512\n",
      "07/15/2021 16:57:34 - INFO - __main__ -   ***** Running evaluation 3025 *****\n",
      "07/15/2021 16:57:34 - INFO - __main__ -     Num examples = 94\n",
      "07/15/2021 16:57:34 - INFO - __main__ -     Batch size = 16\n"
     ]
    },
    {
     "data": {
      "application/vnd.jupyter.widget-view+json": {
       "model_id": "3ac804d090d54ef696277754cc0c4e05",
       "version_major": 2,
       "version_minor": 0
      },
      "text/plain": [
       "Evaluating:   0%|          | 0/6 [00:00<?, ?it/s]"
      ]
     },
     "metadata": {},
     "output_type": "display_data"
    },
    {
     "name": "stderr",
     "output_type": "stream",
     "text": [
      "07/15/2021 16:57:39 - INFO - __main__ -   ***** Eval results 3025 *****\n",
      "07/15/2021 16:57:39 - INFO - __main__ -   f1 = 0.6394052044609666\n",
      "07/15/2021 16:57:39 - INFO - __main__ -   loss = 1010.5799051920573\n",
      "07/15/2021 16:57:39 - INFO - __main__ -   report =                precision    recall  f1-score   support\n",
      "\n",
      "        POWER    0.60959   0.54938   0.57792       162\n",
      "         TECH    0.71882   0.69978   0.70917       453\n",
      "          SAP    0.08000   0.14286   0.10256        14\n",
      "         FUNC    0.31250   0.32258   0.31746        31\n",
      "QUALIFICATION    0.52174   0.66667   0.58537        18\n",
      "\n",
      "    micro avg    0.64468   0.63422   0.63941       678\n",
      "    macro avg    0.65572   0.63422   0.64409       678\n",
      "\n",
      "07/15/2021 16:57:39 - INFO - __main__ -   tech_f1 = 0.70917225950783\n",
      "07/15/2021 16:58:23 - INFO - __main__ -   Loading features from cached file ./datasets/cached_dev_mlm_model_uncased_tech_line_by_line_512\n",
      "07/15/2021 16:58:23 - INFO - __main__ -   ***** Running evaluation 3050 *****\n",
      "07/15/2021 16:58:23 - INFO - __main__ -     Num examples = 94\n",
      "07/15/2021 16:58:23 - INFO - __main__ -     Batch size = 16\n"
     ]
    },
    {
     "data": {
      "application/vnd.jupyter.widget-view+json": {
       "model_id": "aec4fcb447854d5e8aee132a02c82a6a",
       "version_major": 2,
       "version_minor": 0
      },
      "text/plain": [
       "Evaluating:   0%|          | 0/6 [00:00<?, ?it/s]"
      ]
     },
     "metadata": {},
     "output_type": "display_data"
    },
    {
     "name": "stderr",
     "output_type": "stream",
     "text": [
      "07/15/2021 16:58:29 - INFO - __main__ -   ***** Eval results 3050 *****\n",
      "07/15/2021 16:58:29 - INFO - __main__ -   f1 = 0.6402985074626866\n",
      "07/15/2021 16:58:29 - INFO - __main__ -   loss = 1012.1912434895834\n",
      "07/15/2021 16:58:29 - INFO - __main__ -   report =                precision    recall  f1-score   support\n",
      "\n",
      "        POWER    0.62238   0.54938   0.58361       162\n",
      "         TECH    0.71655   0.69757   0.70694       453\n",
      "          SAP    0.08696   0.14286   0.10811        14\n",
      "         FUNC    0.30303   0.32258   0.31250        31\n",
      "QUALIFICATION    0.54545   0.66667   0.60000        18\n",
      "\n",
      "    micro avg    0.64804   0.63274   0.64030       678\n",
      "    macro avg    0.65760   0.63274   0.64423       678\n",
      "\n",
      "07/15/2021 16:58:29 - INFO - __main__ -   tech_f1 = 0.7069351230425056\n"
     ]
    },
    {
     "data": {
      "application/vnd.jupyter.widget-view+json": {
       "model_id": "14351a5aa2d340a9896cf99da27ac4c1",
       "version_major": 2,
       "version_minor": 0
      },
      "text/plain": [
       "Iteration:   0%|          | 0/50 [00:00<?, ?it/s]"
      ]
     },
     "metadata": {},
     "output_type": "display_data"
    },
    {
     "name": "stderr",
     "output_type": "stream",
     "text": [
      "07/15/2021 16:59:13 - INFO - __main__ -   Loading features from cached file ./datasets/cached_dev_mlm_model_uncased_tech_line_by_line_512\n",
      "07/15/2021 16:59:13 - INFO - __main__ -   ***** Running evaluation 3075 *****\n",
      "07/15/2021 16:59:13 - INFO - __main__ -     Num examples = 94\n",
      "07/15/2021 16:59:13 - INFO - __main__ -     Batch size = 16\n"
     ]
    },
    {
     "data": {
      "application/vnd.jupyter.widget-view+json": {
       "model_id": "5cfc86c37bc54f78ae4e7e65c417ef81",
       "version_major": 2,
       "version_minor": 0
      },
      "text/plain": [
       "Evaluating:   0%|          | 0/6 [00:00<?, ?it/s]"
      ]
     },
     "metadata": {},
     "output_type": "display_data"
    },
    {
     "name": "stderr",
     "output_type": "stream",
     "text": [
      "07/15/2021 16:59:19 - INFO - __main__ -   ***** Eval results 3075 *****\n",
      "07/15/2021 16:59:19 - INFO - __main__ -   f1 = 0.6447848285922684\n",
      "07/15/2021 16:59:19 - INFO - __main__ -   loss = 1027.1562805175781\n",
      "07/15/2021 16:59:19 - INFO - __main__ -   report =                precision    recall  f1-score   support\n",
      "\n",
      "        POWER    0.60526   0.56790   0.58599       162\n",
      "         TECH    0.70870   0.71965   0.71413       453\n",
      "          SAP    0.09524   0.14286   0.11429        14\n",
      "         FUNC    0.26316   0.32258   0.28986        31\n",
      "QUALIFICATION    0.54545   0.66667   0.60000        18\n",
      "\n",
      "    micro avg    0.63781   0.65192   0.64478       678\n",
      "    macro avg    0.64661   0.65192   0.64870       678\n",
      "\n",
      "07/15/2021 16:59:19 - INFO - __main__ -   tech_f1 = 0.7141292442497261\n",
      "07/15/2021 17:00:03 - INFO - __main__ -   Loading features from cached file ./datasets/cached_dev_mlm_model_uncased_tech_line_by_line_512\n",
      "07/15/2021 17:00:03 - INFO - __main__ -   ***** Running evaluation 3100 *****\n",
      "07/15/2021 17:00:03 - INFO - __main__ -     Num examples = 94\n",
      "07/15/2021 17:00:03 - INFO - __main__ -     Batch size = 16\n"
     ]
    },
    {
     "data": {
      "application/vnd.jupyter.widget-view+json": {
       "model_id": "6ed19f7392b445dfa97c0bec20b38aa2",
       "version_major": 2,
       "version_minor": 0
      },
      "text/plain": [
       "Evaluating:   0%|          | 0/6 [00:00<?, ?it/s]"
      ]
     },
     "metadata": {},
     "output_type": "display_data"
    },
    {
     "name": "stderr",
     "output_type": "stream",
     "text": [
      "07/15/2021 17:00:09 - INFO - __main__ -   ***** Eval results 3100 *****\n",
      "07/15/2021 17:00:09 - INFO - __main__ -   f1 = 0.6413743736578382\n",
      "07/15/2021 17:00:09 - INFO - __main__ -   loss = 1074.6351725260417\n",
      "07/15/2021 17:00:09 - INFO - __main__ -   report =                precision    recall  f1-score   support\n",
      "\n",
      "        POWER    0.57962   0.56173   0.57053       162\n",
      "         TECH    0.70638   0.73289   0.71939       453\n",
      "          SAP    0.08696   0.14286   0.10811        14\n",
      "         FUNC    0.24390   0.32258   0.27778        31\n",
      "QUALIFICATION    0.46429   0.72222   0.56522        18\n",
      "\n",
      "    micro avg    0.62309   0.66077   0.64137       678\n",
      "    macro avg    0.63573   0.66077   0.64692       678\n",
      "\n",
      "07/15/2021 17:00:09 - INFO - __main__ -   tech_f1 = 0.7193932827735644\n"
     ]
    },
    {
     "data": {
      "application/vnd.jupyter.widget-view+json": {
       "model_id": "3478fd70841842c2b927e87bfb718c57",
       "version_major": 2,
       "version_minor": 0
      },
      "text/plain": [
       "Iteration:   0%|          | 0/50 [00:00<?, ?it/s]"
      ]
     },
     "metadata": {},
     "output_type": "display_data"
    },
    {
     "name": "stderr",
     "output_type": "stream",
     "text": [
      "07/15/2021 17:00:54 - INFO - __main__ -   Loading features from cached file ./datasets/cached_dev_mlm_model_uncased_tech_line_by_line_512\n",
      "07/15/2021 17:00:54 - INFO - __main__ -   ***** Running evaluation 3125 *****\n",
      "07/15/2021 17:00:54 - INFO - __main__ -     Num examples = 94\n",
      "07/15/2021 17:00:54 - INFO - __main__ -     Batch size = 16\n"
     ]
    },
    {
     "data": {
      "application/vnd.jupyter.widget-view+json": {
       "model_id": "e33ddad4a04a427c99601cbd3a259f89",
       "version_major": 2,
       "version_minor": 0
      },
      "text/plain": [
       "Evaluating:   0%|          | 0/6 [00:00<?, ?it/s]"
      ]
     },
     "metadata": {},
     "output_type": "display_data"
    },
    {
     "name": "stderr",
     "output_type": "stream",
     "text": [
      "07/15/2021 17:01:00 - INFO - __main__ -   ***** Eval results 3125 *****\n",
      "07/15/2021 17:01:00 - INFO - __main__ -   f1 = 0.6403508771929824\n",
      "07/15/2021 17:01:00 - INFO - __main__ -   loss = 1026.8942769368489\n",
      "07/15/2021 17:01:00 - INFO - __main__ -   report =                precision    recall  f1-score   support\n",
      "\n",
      "        POWER    0.59060   0.54321   0.56592       162\n",
      "         TECH    0.71586   0.71744   0.71665       453\n",
      "          SAP    0.08696   0.14286   0.10811        14\n",
      "         FUNC    0.27027   0.32258   0.29412        31\n",
      "QUALIFICATION    0.48148   0.72222   0.57778        18\n",
      "\n",
      "    micro avg    0.63478   0.64602   0.64035       678\n",
      "    macro avg    0.64635   0.64602   0.64506       678\n",
      "\n",
      "07/15/2021 17:01:00 - INFO - __main__ -   tech_f1 = 0.7166482910694597\n",
      "07/15/2021 17:01:44 - INFO - __main__ -   Loading features from cached file ./datasets/cached_dev_mlm_model_uncased_tech_line_by_line_512\n",
      "07/15/2021 17:01:44 - INFO - __main__ -   ***** Running evaluation 3150 *****\n",
      "07/15/2021 17:01:44 - INFO - __main__ -     Num examples = 94\n",
      "07/15/2021 17:01:44 - INFO - __main__ -     Batch size = 16\n"
     ]
    },
    {
     "data": {
      "application/vnd.jupyter.widget-view+json": {
       "model_id": "d203f4bcedd14406875fda8a2c9e7e0a",
       "version_major": 2,
       "version_minor": 0
      },
      "text/plain": [
       "Evaluating:   0%|          | 0/6 [00:00<?, ?it/s]"
      ]
     },
     "metadata": {},
     "output_type": "display_data"
    },
    {
     "name": "stderr",
     "output_type": "stream",
     "text": [
      "07/15/2021 17:01:50 - INFO - __main__ -   ***** Eval results 3150 *****\n",
      "07/15/2021 17:01:50 - INFO - __main__ -   f1 = 0.6402349486049927\n",
      "07/15/2021 17:01:50 - INFO - __main__ -   loss = 1056.8545837402344\n",
      "07/15/2021 17:01:50 - INFO - __main__ -   report =                precision    recall  f1-score   support\n",
      "\n",
      "        POWER    0.57325   0.55556   0.56426       162\n",
      "         TECH    0.72460   0.70861   0.71652       453\n",
      "          SAP    0.08696   0.14286   0.10811        14\n",
      "         FUNC    0.31429   0.35484   0.33333        31\n",
      "QUALIFICATION    0.46154   0.66667   0.54545        18\n",
      "\n",
      "    micro avg    0.63743   0.64307   0.64023       678\n",
      "    macro avg    0.64953   0.64307   0.64551       678\n",
      "\n",
      "07/15/2021 17:01:50 - INFO - __main__ -   tech_f1 = 0.7165178571428571\n"
     ]
    },
    {
     "data": {
      "application/vnd.jupyter.widget-view+json": {
       "model_id": "4daaf57ba648441aad30a9066d003885",
       "version_major": 2,
       "version_minor": 0
      },
      "text/plain": [
       "Iteration:   0%|          | 0/50 [00:00<?, ?it/s]"
      ]
     },
     "metadata": {},
     "output_type": "display_data"
    },
    {
     "name": "stderr",
     "output_type": "stream",
     "text": [
      "07/15/2021 17:02:35 - INFO - __main__ -   Loading features from cached file ./datasets/cached_dev_mlm_model_uncased_tech_line_by_line_512\n",
      "07/15/2021 17:02:35 - INFO - __main__ -   ***** Running evaluation 3175 *****\n",
      "07/15/2021 17:02:35 - INFO - __main__ -     Num examples = 94\n",
      "07/15/2021 17:02:35 - INFO - __main__ -     Batch size = 16\n"
     ]
    },
    {
     "data": {
      "application/vnd.jupyter.widget-view+json": {
       "model_id": "bb93c6c820504db2bc7792c5fd5feae6",
       "version_major": 2,
       "version_minor": 0
      },
      "text/plain": [
       "Evaluating:   0%|          | 0/6 [00:00<?, ?it/s]"
      ]
     },
     "metadata": {},
     "output_type": "display_data"
    },
    {
     "name": "stderr",
     "output_type": "stream",
     "text": [
      "07/15/2021 17:02:40 - INFO - __main__ -   ***** Eval results 3175 *****\n",
      "07/15/2021 17:02:40 - INFO - __main__ -   f1 = 0.636237897648686\n",
      "07/15/2021 17:02:40 - INFO - __main__ -   loss = 1100.3311462402344\n",
      "07/15/2021 17:02:40 - INFO - __main__ -   report =                precision    recall  f1-score   support\n",
      "\n",
      "        POWER    0.54545   0.59259   0.56805       162\n",
      "         TECH    0.67129   0.74834   0.70772       453\n",
      "          SAP    0.08696   0.14286   0.10811        14\n",
      "         FUNC    0.27027   0.32258   0.29412        31\n",
      "QUALIFICATION    0.48148   0.72222   0.57778        18\n",
      "\n",
      "    micro avg    0.59896   0.67847   0.63624       678\n",
      "    macro avg    0.60578   0.67847   0.63961       678\n",
      "\n",
      "07/15/2021 17:02:40 - INFO - __main__ -   tech_f1 = 0.7077244258872651\n",
      "07/15/2021 17:03:25 - INFO - __main__ -   Loading features from cached file ./datasets/cached_dev_mlm_model_uncased_tech_line_by_line_512\n",
      "07/15/2021 17:03:25 - INFO - __main__ -   ***** Running evaluation 3200 *****\n",
      "07/15/2021 17:03:25 - INFO - __main__ -     Num examples = 94\n",
      "07/15/2021 17:03:25 - INFO - __main__ -     Batch size = 16\n"
     ]
    },
    {
     "data": {
      "application/vnd.jupyter.widget-view+json": {
       "model_id": "bccf29298c2347d99e7d4ffd24cfefb5",
       "version_major": 2,
       "version_minor": 0
      },
      "text/plain": [
       "Evaluating:   0%|          | 0/6 [00:00<?, ?it/s]"
      ]
     },
     "metadata": {},
     "output_type": "display_data"
    },
    {
     "name": "stderr",
     "output_type": "stream",
     "text": [
      "07/15/2021 17:03:31 - INFO - __main__ -   ***** Eval results 3200 *****\n",
      "07/15/2021 17:03:31 - INFO - __main__ -   f1 = 0.6523031203566122\n",
      "07/15/2021 17:03:31 - INFO - __main__ -   loss = 1054.0574951171875\n",
      "07/15/2021 17:03:31 - INFO - __main__ -   report =                precision    recall  f1-score   support\n",
      "\n",
      "        POWER    0.64085   0.56173   0.59868       162\n",
      "         TECH    0.71744   0.71744   0.71744       453\n",
      "          SAP    0.10000   0.14286   0.11765        14\n",
      "         FUNC    0.31034   0.29032   0.30000        31\n",
      "QUALIFICATION    0.50000   0.66667   0.57143        18\n",
      "\n",
      "    micro avg    0.65719   0.64749   0.65230       678\n",
      "    macro avg    0.66200   0.64749   0.65372       678\n",
      "\n",
      "07/15/2021 17:03:31 - INFO - __main__ -   tech_f1 = 0.717439293598234\n"
     ]
    },
    {
     "data": {
      "application/vnd.jupyter.widget-view+json": {
       "model_id": "78423436071b46e9904dc2a1eaf46460",
       "version_major": 2,
       "version_minor": 0
      },
      "text/plain": [
       "Iteration:   0%|          | 0/50 [00:00<?, ?it/s]"
      ]
     },
     "metadata": {},
     "output_type": "display_data"
    },
    {
     "name": "stderr",
     "output_type": "stream",
     "text": [
      "07/15/2021 17:04:15 - INFO - __main__ -   Loading features from cached file ./datasets/cached_dev_mlm_model_uncased_tech_line_by_line_512\n",
      "07/15/2021 17:04:15 - INFO - __main__ -   ***** Running evaluation 3225 *****\n",
      "07/15/2021 17:04:15 - INFO - __main__ -     Num examples = 94\n",
      "07/15/2021 17:04:15 - INFO - __main__ -     Batch size = 16\n"
     ]
    },
    {
     "data": {
      "application/vnd.jupyter.widget-view+json": {
       "model_id": "ae613543d1d04a8abac30dd7584c7bd9",
       "version_major": 2,
       "version_minor": 0
      },
      "text/plain": [
       "Evaluating:   0%|          | 0/6 [00:00<?, ?it/s]"
      ]
     },
     "metadata": {},
     "output_type": "display_data"
    },
    {
     "name": "stderr",
     "output_type": "stream",
     "text": [
      "07/15/2021 17:04:21 - INFO - __main__ -   ***** Eval results 3225 *****\n",
      "07/15/2021 17:04:21 - INFO - __main__ -   f1 = 0.6428049671292915\n",
      "07/15/2021 17:04:21 - INFO - __main__ -   loss = 1040.7349650065105\n",
      "07/15/2021 17:04:21 - INFO - __main__ -   report =                precision    recall  f1-score   support\n",
      "\n",
      "        POWER    0.60645   0.58025   0.59306       162\n",
      "         TECH    0.69935   0.70861   0.70395       453\n",
      "          SAP    0.10000   0.14286   0.11765        14\n",
      "         FUNC    0.33333   0.35484   0.34375        31\n",
      "QUALIFICATION    0.50000   0.66667   0.57143        18\n",
      "\n",
      "    micro avg    0.63676   0.64897   0.64280       678\n",
      "    macro avg    0.64275   0.64897   0.64536       678\n",
      "\n",
      "07/15/2021 17:04:21 - INFO - __main__ -   tech_f1 = 0.7039473684210525\n",
      "07/15/2021 17:05:06 - INFO - __main__ -   Loading features from cached file ./datasets/cached_dev_mlm_model_uncased_tech_line_by_line_512\n",
      "07/15/2021 17:05:06 - INFO - __main__ -   ***** Running evaluation 3250 *****\n",
      "07/15/2021 17:05:06 - INFO - __main__ -     Num examples = 94\n",
      "07/15/2021 17:05:06 - INFO - __main__ -     Batch size = 16\n"
     ]
    },
    {
     "data": {
      "application/vnd.jupyter.widget-view+json": {
       "model_id": "34f6975f3c724f42bcf24d4cf54946bc",
       "version_major": 2,
       "version_minor": 0
      },
      "text/plain": [
       "Evaluating:   0%|          | 0/6 [00:00<?, ?it/s]"
      ]
     },
     "metadata": {},
     "output_type": "display_data"
    },
    {
     "name": "stderr",
     "output_type": "stream",
     "text": [
      "07/15/2021 17:05:12 - INFO - __main__ -   ***** Eval results 3250 *****\n",
      "07/15/2021 17:05:12 - INFO - __main__ -   f1 = 0.6294200848656294\n",
      "07/15/2021 17:05:12 - INFO - __main__ -   loss = 1101.4442647298176\n",
      "07/15/2021 17:05:12 - INFO - __main__ -   report =                precision    recall  f1-score   support\n",
      "\n",
      "        POWER    0.53977   0.58642   0.56213       162\n",
      "         TECH    0.68710   0.71744   0.70194       453\n",
      "          SAP    0.08696   0.14286   0.10811        14\n",
      "         FUNC    0.28947   0.35484   0.31884        31\n",
      "QUALIFICATION    0.46154   0.66667   0.54545        18\n",
      "\n",
      "    micro avg    0.60462   0.65634   0.62942       678\n",
      "    macro avg    0.61534   0.65634   0.63460       678\n",
      "\n",
      "07/15/2021 17:05:12 - INFO - __main__ -   tech_f1 = 0.7019438444924406\n"
     ]
    },
    {
     "data": {
      "application/vnd.jupyter.widget-view+json": {
       "model_id": "1a11e95cf55a4736b1f7ea51a8a1c5f7",
       "version_major": 2,
       "version_minor": 0
      },
      "text/plain": [
       "Iteration:   0%|          | 0/50 [00:00<?, ?it/s]"
      ]
     },
     "metadata": {},
     "output_type": "display_data"
    },
    {
     "name": "stderr",
     "output_type": "stream",
     "text": [
      "07/15/2021 17:05:56 - INFO - __main__ -   Loading features from cached file ./datasets/cached_dev_mlm_model_uncased_tech_line_by_line_512\n",
      "07/15/2021 17:05:56 - INFO - __main__ -   ***** Running evaluation 3275 *****\n",
      "07/15/2021 17:05:56 - INFO - __main__ -     Num examples = 94\n",
      "07/15/2021 17:05:56 - INFO - __main__ -     Batch size = 16\n"
     ]
    },
    {
     "data": {
      "application/vnd.jupyter.widget-view+json": {
       "model_id": "6306c5b5e9d446bf8f39412af26860ce",
       "version_major": 2,
       "version_minor": 0
      },
      "text/plain": [
       "Evaluating:   0%|          | 0/6 [00:00<?, ?it/s]"
      ]
     },
     "metadata": {},
     "output_type": "display_data"
    },
    {
     "name": "stderr",
     "output_type": "stream",
     "text": [
      "07/15/2021 17:06:02 - INFO - __main__ -   ***** Eval results 3275 *****\n",
      "07/15/2021 17:06:02 - INFO - __main__ -   f1 = 0.6497093023255814\n",
      "07/15/2021 17:06:02 - INFO - __main__ -   loss = 1063.9475351969402\n",
      "07/15/2021 17:06:02 - INFO - __main__ -   report =                precision    recall  f1-score   support\n",
      "\n",
      "        POWER    0.57229   0.58642   0.57927       162\n",
      "         TECH    0.71868   0.72185   0.72026       453\n",
      "          SAP    0.10526   0.14286   0.12121        14\n",
      "         FUNC    0.33333   0.35484   0.34375        31\n",
      "QUALIFICATION    0.48000   0.66667   0.55814        18\n",
      "\n",
      "    micro avg    0.64040   0.65929   0.64971       678\n",
      "    macro avg    0.64708   0.65929   0.65269       678\n",
      "\n",
      "07/15/2021 17:06:02 - INFO - __main__ -   tech_f1 = 0.7202643171806168\n",
      "07/15/2021 17:06:46 - INFO - __main__ -   Loading features from cached file ./datasets/cached_dev_mlm_model_uncased_tech_line_by_line_512\n",
      "07/15/2021 17:06:46 - INFO - __main__ -   ***** Running evaluation 3300 *****\n",
      "07/15/2021 17:06:46 - INFO - __main__ -     Num examples = 94\n",
      "07/15/2021 17:06:46 - INFO - __main__ -     Batch size = 16\n"
     ]
    },
    {
     "data": {
      "application/vnd.jupyter.widget-view+json": {
       "model_id": "93d366ad39894494b062cc9c063e4c25",
       "version_major": 2,
       "version_minor": 0
      },
      "text/plain": [
       "Evaluating:   0%|          | 0/6 [00:00<?, ?it/s]"
      ]
     },
     "metadata": {},
     "output_type": "display_data"
    },
    {
     "name": "stderr",
     "output_type": "stream",
     "text": [
      "07/15/2021 17:06:52 - INFO - __main__ -   ***** Eval results 3300 *****\n",
      "07/15/2021 17:06:52 - INFO - __main__ -   f1 = 0.6372688477951636\n",
      "07/15/2021 17:06:52 - INFO - __main__ -   loss = 1118.9765116373699\n",
      "07/15/2021 17:06:52 - INFO - __main__ -   report =                precision    recall  f1-score   support\n",
      "\n",
      "        POWER    0.56790   0.56790   0.56790       162\n",
      "         TECH    0.69456   0.73289   0.71321       453\n",
      "          SAP    0.07407   0.14286   0.09756        14\n",
      "         FUNC    0.27778   0.32258   0.29851        31\n",
      "QUALIFICATION    0.48000   0.66667   0.55814        18\n",
      "\n",
      "    micro avg    0.61538   0.66077   0.63727       678\n",
      "    macro avg    0.62673   0.66077   0.64270       678\n",
      "\n",
      "07/15/2021 17:06:52 - INFO - __main__ -   tech_f1 = 0.7132116004296456\n"
     ]
    },
    {
     "data": {
      "application/vnd.jupyter.widget-view+json": {
       "model_id": "85798a412da8480da239366c4324de5e",
       "version_major": 2,
       "version_minor": 0
      },
      "text/plain": [
       "Iteration:   0%|          | 0/50 [00:00<?, ?it/s]"
      ]
     },
     "metadata": {},
     "output_type": "display_data"
    },
    {
     "name": "stderr",
     "output_type": "stream",
     "text": [
      "07/15/2021 17:07:37 - INFO - __main__ -   Loading features from cached file ./datasets/cached_dev_mlm_model_uncased_tech_line_by_line_512\n",
      "07/15/2021 17:07:37 - INFO - __main__ -   ***** Running evaluation 3325 *****\n",
      "07/15/2021 17:07:37 - INFO - __main__ -     Num examples = 94\n",
      "07/15/2021 17:07:37 - INFO - __main__ -     Batch size = 16\n"
     ]
    },
    {
     "data": {
      "application/vnd.jupyter.widget-view+json": {
       "model_id": "e16237dc4357484da58bdddfd5b165d2",
       "version_major": 2,
       "version_minor": 0
      },
      "text/plain": [
       "Evaluating:   0%|          | 0/6 [00:00<?, ?it/s]"
      ]
     },
     "metadata": {},
     "output_type": "display_data"
    },
    {
     "name": "stderr",
     "output_type": "stream",
     "text": [
      "07/15/2021 17:07:43 - INFO - __main__ -   ***** Eval results 3325 *****\n",
      "07/15/2021 17:07:43 - INFO - __main__ -   f1 = 0.652014652014652\n",
      "07/15/2021 17:07:43 - INFO - __main__ -   loss = 1057.8072408040364\n",
      "07/15/2021 17:07:43 - INFO - __main__ -   report =                precision    recall  f1-score   support\n",
      "\n",
      "        POWER    0.63889   0.56790   0.60131       162\n",
      "         TECH    0.69427   0.72185   0.70779       453\n",
      "          SAP    0.11111   0.14286   0.12500        14\n",
      "         FUNC    0.33333   0.35484   0.34375        31\n",
      "QUALIFICATION    0.61905   0.72222   0.66667        18\n",
      "\n",
      "    micro avg    0.64774   0.65634   0.65201       678\n",
      "    macro avg    0.65049   0.65634   0.65258       678\n",
      "\n",
      "07/15/2021 17:07:43 - INFO - __main__ -   tech_f1 = 0.7077922077922078\n",
      "07/15/2021 17:08:26 - INFO - __main__ -   Loading features from cached file ./datasets/cached_dev_mlm_model_uncased_tech_line_by_line_512\n",
      "07/15/2021 17:08:26 - INFO - __main__ -   ***** Running evaluation 3350 *****\n",
      "07/15/2021 17:08:26 - INFO - __main__ -     Num examples = 94\n",
      "07/15/2021 17:08:26 - INFO - __main__ -     Batch size = 16\n"
     ]
    },
    {
     "data": {
      "application/vnd.jupyter.widget-view+json": {
       "model_id": "8f8cd42e69a8429b9fc029bbef0c4e7e",
       "version_major": 2,
       "version_minor": 0
      },
      "text/plain": [
       "Evaluating:   0%|          | 0/6 [00:00<?, ?it/s]"
      ]
     },
     "metadata": {},
     "output_type": "display_data"
    },
    {
     "name": "stderr",
     "output_type": "stream",
     "text": [
      "07/15/2021 17:08:32 - INFO - __main__ -   ***** Eval results 3350 *****\n",
      "07/15/2021 17:08:32 - INFO - __main__ -   f1 = 0.6508279337652988\n",
      "07/15/2021 17:08:32 - INFO - __main__ -   loss = 1058.1777750651042\n",
      "07/15/2021 17:08:32 - INFO - __main__ -   report =                precision    recall  f1-score   support\n",
      "\n",
      "        POWER    0.59494   0.58025   0.58750       162\n",
      "         TECH    0.69958   0.73510   0.71690       453\n",
      "          SAP    0.10526   0.14286   0.12121        14\n",
      "         FUNC    0.29412   0.32258   0.30769        31\n",
      "QUALIFICATION    0.54167   0.72222   0.61905        18\n",
      "\n",
      "    micro avg    0.63572   0.66667   0.65083       678\n",
      "    macro avg    0.63957   0.66667   0.65237       678\n",
      "\n",
      "07/15/2021 17:08:32 - INFO - __main__ -   tech_f1 = 0.7168998923573734\n"
     ]
    },
    {
     "data": {
      "application/vnd.jupyter.widget-view+json": {
       "model_id": "a1065ffd5a8644cb9142d2181165fe66",
       "version_major": 2,
       "version_minor": 0
      },
      "text/plain": [
       "Iteration:   0%|          | 0/50 [00:00<?, ?it/s]"
      ]
     },
     "metadata": {},
     "output_type": "display_data"
    },
    {
     "name": "stderr",
     "output_type": "stream",
     "text": [
      "07/15/2021 17:09:18 - INFO - __main__ -   Loading features from cached file ./datasets/cached_dev_mlm_model_uncased_tech_line_by_line_512\n",
      "07/15/2021 17:09:18 - INFO - __main__ -   ***** Running evaluation 3375 *****\n",
      "07/15/2021 17:09:18 - INFO - __main__ -     Num examples = 94\n",
      "07/15/2021 17:09:18 - INFO - __main__ -     Batch size = 16\n"
     ]
    },
    {
     "data": {
      "application/vnd.jupyter.widget-view+json": {
       "model_id": "e229ebff858348bc829dedbf954a94c2",
       "version_major": 2,
       "version_minor": 0
      },
      "text/plain": [
       "Evaluating:   0%|          | 0/6 [00:00<?, ?it/s]"
      ]
     },
     "metadata": {},
     "output_type": "display_data"
    },
    {
     "name": "stderr",
     "output_type": "stream",
     "text": [
      "07/15/2021 17:09:23 - INFO - __main__ -   ***** Eval results 3375 *****\n",
      "07/15/2021 17:09:23 - INFO - __main__ -   f1 = 0.6651718983557549\n",
      "07/15/2021 17:09:23 - INFO - __main__ -   loss = 940.5955403645834\n",
      "07/15/2021 17:09:23 - INFO - __main__ -   report =                precision    recall  f1-score   support\n",
      "\n",
      "        POWER    0.64138   0.57407   0.60586       162\n",
      "         TECH    0.73214   0.72406   0.72808       453\n",
      "          SAP    0.14286   0.14286   0.14286        14\n",
      "         FUNC    0.33333   0.32258   0.32787        31\n",
      "QUALIFICATION    0.52174   0.66667   0.58537        18\n",
      "\n",
      "    micro avg    0.67424   0.65634   0.66517       678\n",
      "    macro avg    0.67447   0.65634   0.66471       678\n",
      "\n",
      "07/15/2021 17:09:23 - INFO - __main__ -   tech_f1 = 0.7280799112097669\n",
      "07/15/2021 17:09:23 - INFO - transformers.configuration_utils -   Configuration saved in ./model_crf_uncased_tech/best_checkpoint/config.json\n",
      "07/15/2021 17:09:26 - INFO - transformers.modeling_utils -   Model weights saved in ./model_crf_uncased_tech/best_checkpoint/pytorch_model.bin\n",
      "07/15/2021 17:09:26 - INFO - __main__ -   Saving model checkpoint to ./model_crf_uncased_tech/best_checkpoint\n",
      "07/15/2021 17:09:32 - INFO - __main__ -   Saving optimizer and scheduler states to ./model_crf_uncased_tech/best_checkpoint\n",
      "07/15/2021 17:10:16 - INFO - __main__ -   Loading features from cached file ./datasets/cached_dev_mlm_model_uncased_tech_line_by_line_512\n",
      "07/15/2021 17:10:16 - INFO - __main__ -   ***** Running evaluation 3400 *****\n",
      "07/15/2021 17:10:16 - INFO - __main__ -     Num examples = 94\n",
      "07/15/2021 17:10:16 - INFO - __main__ -     Batch size = 16\n"
     ]
    },
    {
     "data": {
      "application/vnd.jupyter.widget-view+json": {
       "model_id": "9c3d4edea4a549308577872fcf971ca6",
       "version_major": 2,
       "version_minor": 0
      },
      "text/plain": [
       "Evaluating:   0%|          | 0/6 [00:00<?, ?it/s]"
      ]
     },
     "metadata": {},
     "output_type": "display_data"
    },
    {
     "name": "stderr",
     "output_type": "stream",
     "text": [
      "07/15/2021 17:10:22 - INFO - __main__ -   ***** Eval results 3400 *****\n",
      "07/15/2021 17:10:22 - INFO - __main__ -   f1 = 0.6515901060070671\n",
      "07/15/2021 17:10:22 - INFO - __main__ -   loss = 1050.3136189778645\n",
      "07/15/2021 17:10:22 - INFO - __main__ -   report =                precision    recall  f1-score   support\n",
      "\n",
      "        POWER    0.61538   0.59259   0.60377       162\n",
      "         TECH    0.68064   0.75276   0.71488       453\n",
      "          SAP    0.09091   0.14286   0.11111        14\n",
      "         FUNC    0.29412   0.32258   0.30769        31\n",
      "QUALIFICATION    0.50000   0.66667   0.57143        18\n",
      "\n",
      "    micro avg    0.62551   0.67994   0.65159       678\n",
      "    macro avg    0.63040   0.67994   0.65344       678\n",
      "\n",
      "07/15/2021 17:10:22 - INFO - __main__ -   tech_f1 = 0.7148846960167714\n"
     ]
    },
    {
     "data": {
      "application/vnd.jupyter.widget-view+json": {
       "model_id": "d834b7e3e6d242ffa910be42d2ab4a64",
       "version_major": 2,
       "version_minor": 0
      },
      "text/plain": [
       "Iteration:   0%|          | 0/50 [00:00<?, ?it/s]"
      ]
     },
     "metadata": {},
     "output_type": "display_data"
    },
    {
     "name": "stderr",
     "output_type": "stream",
     "text": [
      "07/15/2021 17:11:08 - INFO - __main__ -   Loading features from cached file ./datasets/cached_dev_mlm_model_uncased_tech_line_by_line_512\n",
      "07/15/2021 17:11:08 - INFO - __main__ -   ***** Running evaluation 3425 *****\n",
      "07/15/2021 17:11:08 - INFO - __main__ -     Num examples = 94\n",
      "07/15/2021 17:11:08 - INFO - __main__ -     Batch size = 16\n"
     ]
    },
    {
     "data": {
      "application/vnd.jupyter.widget-view+json": {
       "model_id": "c485d96f63d3492f891d1380d2db5321",
       "version_major": 2,
       "version_minor": 0
      },
      "text/plain": [
       "Evaluating:   0%|          | 0/6 [00:00<?, ?it/s]"
      ]
     },
     "metadata": {},
     "output_type": "display_data"
    },
    {
     "name": "stderr",
     "output_type": "stream",
     "text": [
      "07/15/2021 17:11:13 - INFO - __main__ -   ***** Eval results 3425 *****\n",
      "07/15/2021 17:11:13 - INFO - __main__ -   f1 = 0.6483754512635379\n",
      "07/15/2021 17:11:13 - INFO - __main__ -   loss = 1036.239990234375\n",
      "07/15/2021 17:11:13 - INFO - __main__ -   report =                precision    recall  f1-score   support\n",
      "\n",
      "        POWER    0.63333   0.58642   0.60897       162\n",
      "         TECH    0.69328   0.72848   0.71044       453\n",
      "          SAP    0.09524   0.14286   0.11429        14\n",
      "         FUNC    0.27027   0.32258   0.29412        31\n",
      "QUALIFICATION    0.52174   0.66667   0.58537        18\n",
      "\n",
      "    micro avg    0.63508   0.66224   0.64838       678\n",
      "    macro avg    0.64271   0.66224   0.65153       678\n",
      "\n",
      "07/15/2021 17:11:13 - INFO - __main__ -   tech_f1 = 0.7104413347685683\n",
      "07/15/2021 17:11:56 - INFO - __main__ -   Loading features from cached file ./datasets/cached_dev_mlm_model_uncased_tech_line_by_line_512\n",
      "07/15/2021 17:11:56 - INFO - __main__ -   ***** Running evaluation 3450 *****\n",
      "07/15/2021 17:11:56 - INFO - __main__ -     Num examples = 94\n",
      "07/15/2021 17:11:56 - INFO - __main__ -     Batch size = 16\n"
     ]
    },
    {
     "data": {
      "application/vnd.jupyter.widget-view+json": {
       "model_id": "dc8ca7d6d3b744a5ade54d049bcf8870",
       "version_major": 2,
       "version_minor": 0
      },
      "text/plain": [
       "Evaluating:   0%|          | 0/6 [00:00<?, ?it/s]"
      ]
     },
     "metadata": {},
     "output_type": "display_data"
    },
    {
     "name": "stderr",
     "output_type": "stream",
     "text": [
      "07/15/2021 17:12:02 - INFO - __main__ -   ***** Eval results 3450 *****\n",
      "07/15/2021 17:12:02 - INFO - __main__ -   f1 = 0.6377622377622378\n",
      "07/15/2021 17:12:02 - INFO - __main__ -   loss = 1104.1759541829426\n",
      "07/15/2021 17:12:02 - INFO - __main__ -   report =                precision    recall  f1-score   support\n",
      "\n",
      "        POWER    0.56140   0.59259   0.57658       162\n",
      "         TECH    0.68293   0.74172   0.71111       453\n",
      "          SAP    0.08333   0.14286   0.10526        14\n",
      "         FUNC    0.25000   0.32258   0.28169        31\n",
      "QUALIFICATION    0.48000   0.66667   0.55814        18\n",
      "\n",
      "    micro avg    0.60638   0.67257   0.63776       678\n",
      "    macro avg    0.61633   0.67257   0.64276       678\n",
      "\n",
      "07/15/2021 17:12:02 - INFO - __main__ -   tech_f1 = 0.7111111111111112\n"
     ]
    },
    {
     "data": {
      "application/vnd.jupyter.widget-view+json": {
       "model_id": "85ae236c61ca4e7a8404338bfba347b0",
       "version_major": 2,
       "version_minor": 0
      },
      "text/plain": [
       "Iteration:   0%|          | 0/50 [00:00<?, ?it/s]"
      ]
     },
     "metadata": {},
     "output_type": "display_data"
    },
    {
     "name": "stderr",
     "output_type": "stream",
     "text": [
      "07/15/2021 17:12:47 - INFO - __main__ -   Loading features from cached file ./datasets/cached_dev_mlm_model_uncased_tech_line_by_line_512\n",
      "07/15/2021 17:12:47 - INFO - __main__ -   ***** Running evaluation 3475 *****\n",
      "07/15/2021 17:12:47 - INFO - __main__ -     Num examples = 94\n",
      "07/15/2021 17:12:47 - INFO - __main__ -     Batch size = 16\n"
     ]
    },
    {
     "data": {
      "application/vnd.jupyter.widget-view+json": {
       "model_id": "d7caf4345ea04c54b9f769ac7bbc1378",
       "version_major": 2,
       "version_minor": 0
      },
      "text/plain": [
       "Evaluating:   0%|          | 0/6 [00:00<?, ?it/s]"
      ]
     },
     "metadata": {},
     "output_type": "display_data"
    },
    {
     "name": "stderr",
     "output_type": "stream",
     "text": [
      "07/15/2021 17:12:53 - INFO - __main__ -   ***** Eval results 3475 *****\n",
      "07/15/2021 17:12:53 - INFO - __main__ -   f1 = 0.6385714285714286\n",
      "07/15/2021 17:12:53 - INFO - __main__ -   loss = 1067.8908386230469\n",
      "07/15/2021 17:12:53 - INFO - __main__ -   report =                precision    recall  f1-score   support\n",
      "\n",
      "        POWER    0.61039   0.58025   0.59494       162\n",
      "         TECH    0.68763   0.72406   0.70538       453\n",
      "          SAP    0.08333   0.14286   0.10526        14\n",
      "         FUNC    0.25581   0.35484   0.29730        31\n",
      "QUALIFICATION    0.50000   0.66667   0.57143        18\n",
      "\n",
      "    micro avg    0.61911   0.65929   0.63857       678\n",
      "    macro avg    0.63197   0.65929   0.64438       678\n",
      "\n",
      "07/15/2021 17:12:53 - INFO - __main__ -   tech_f1 = 0.7053763440860215\n",
      "07/15/2021 17:13:37 - INFO - __main__ -   Loading features from cached file ./datasets/cached_dev_mlm_model_uncased_tech_line_by_line_512\n",
      "07/15/2021 17:13:37 - INFO - __main__ -   ***** Running evaluation 3500 *****\n",
      "07/15/2021 17:13:37 - INFO - __main__ -     Num examples = 94\n",
      "07/15/2021 17:13:37 - INFO - __main__ -     Batch size = 16\n"
     ]
    },
    {
     "data": {
      "application/vnd.jupyter.widget-view+json": {
       "model_id": "c4d12d0277a5496ea9638ac5f3d8e145",
       "version_major": 2,
       "version_minor": 0
      },
      "text/plain": [
       "Evaluating:   0%|          | 0/6 [00:00<?, ?it/s]"
      ]
     },
     "metadata": {},
     "output_type": "display_data"
    },
    {
     "name": "stderr",
     "output_type": "stream",
     "text": [
      "07/15/2021 17:13:42 - INFO - __main__ -   ***** Eval results 3500 *****\n",
      "07/15/2021 17:13:42 - INFO - __main__ -   f1 = 0.6413199426111909\n",
      "07/15/2021 17:13:42 - INFO - __main__ -   loss = 1047.5737711588542\n",
      "07/15/2021 17:13:42 - INFO - __main__ -   report =                precision    recall  f1-score   support\n",
      "\n",
      "        POWER    0.61039   0.58025   0.59494       162\n",
      "         TECH    0.68908   0.72406   0.70614       453\n",
      "          SAP    0.10000   0.14286   0.11765        14\n",
      "         FUNC    0.26190   0.35484   0.30137        31\n",
      "QUALIFICATION    0.50000   0.66667   0.57143        18\n",
      "\n",
      "    micro avg    0.62430   0.65929   0.64132       678\n",
      "    macro avg    0.63356   0.65929   0.64533       678\n",
      "\n",
      "07/15/2021 17:13:42 - INFO - __main__ -   tech_f1 = 0.706135629709365\n"
     ]
    },
    {
     "data": {
      "application/vnd.jupyter.widget-view+json": {
       "model_id": "43070f2847174761a4852dcdd0854034",
       "version_major": 2,
       "version_minor": 0
      },
      "text/plain": [
       "Iteration:   0%|          | 0/50 [00:00<?, ?it/s]"
      ]
     },
     "metadata": {},
     "output_type": "display_data"
    },
    {
     "name": "stderr",
     "output_type": "stream",
     "text": [
      "07/15/2021 17:14:28 - INFO - __main__ -   Loading features from cached file ./datasets/cached_dev_mlm_model_uncased_tech_line_by_line_512\n",
      "07/15/2021 17:14:28 - INFO - __main__ -   ***** Running evaluation 3525 *****\n",
      "07/15/2021 17:14:28 - INFO - __main__ -     Num examples = 94\n",
      "07/15/2021 17:14:28 - INFO - __main__ -     Batch size = 16\n"
     ]
    },
    {
     "data": {
      "application/vnd.jupyter.widget-view+json": {
       "model_id": "9cb92e4ce740401f9ed089ce8a0686bd",
       "version_major": 2,
       "version_minor": 0
      },
      "text/plain": [
       "Evaluating:   0%|          | 0/6 [00:00<?, ?it/s]"
      ]
     },
     "metadata": {},
     "output_type": "display_data"
    },
    {
     "name": "stderr",
     "output_type": "stream",
     "text": [
      "07/15/2021 17:14:34 - INFO - __main__ -   ***** Eval results 3525 *****\n",
      "07/15/2021 17:14:34 - INFO - __main__ -   f1 = 0.6324435318275153\n",
      "07/15/2021 17:14:34 - INFO - __main__ -   loss = 1119.086201985677\n",
      "07/15/2021 17:14:34 - INFO - __main__ -   report =                precision    recall  f1-score   support\n",
      "\n",
      "        POWER    0.54545   0.59259   0.56805       162\n",
      "         TECH    0.66085   0.75276   0.70382       453\n",
      "          SAP    0.08333   0.14286   0.10526        14\n",
      "         FUNC    0.26190   0.35484   0.30137        31\n",
      "QUALIFICATION    0.48000   0.66667   0.55814        18\n",
      "\n",
      "    micro avg    0.59004   0.68142   0.63244       678\n",
      "    macro avg    0.59831   0.68142   0.63675       678\n",
      "\n",
      "07/15/2021 17:14:34 - INFO - __main__ -   tech_f1 = 0.7038183694530443\n",
      "07/15/2021 17:15:18 - INFO - __main__ -   Loading features from cached file ./datasets/cached_dev_mlm_model_uncased_tech_line_by_line_512\n",
      "07/15/2021 17:15:18 - INFO - __main__ -   ***** Running evaluation 3550 *****\n",
      "07/15/2021 17:15:18 - INFO - __main__ -     Num examples = 94\n",
      "07/15/2021 17:15:18 - INFO - __main__ -     Batch size = 16\n"
     ]
    },
    {
     "data": {
      "application/vnd.jupyter.widget-view+json": {
       "model_id": "cdd90b3e40254fd2b7f4535b92990ca8",
       "version_major": 2,
       "version_minor": 0
      },
      "text/plain": [
       "Evaluating:   0%|          | 0/6 [00:00<?, ?it/s]"
      ]
     },
     "metadata": {},
     "output_type": "display_data"
    },
    {
     "name": "stderr",
     "output_type": "stream",
     "text": [
      "07/15/2021 17:15:23 - INFO - __main__ -   ***** Eval results 3550 *****\n",
      "07/15/2021 17:15:23 - INFO - __main__ -   f1 = 0.6417803302225413\n",
      "07/15/2021 17:15:23 - INFO - __main__ -   loss = 1014.4052022298177\n",
      "07/15/2021 17:15:23 - INFO - __main__ -   report =                precision    recall  f1-score   support\n",
      "\n",
      "        POWER    0.59375   0.58642   0.59006       162\n",
      "         TECH    0.69280   0.72185   0.70703       453\n",
      "          SAP    0.11111   0.14286   0.12500        14\n",
      "         FUNC    0.26829   0.35484   0.30556        31\n",
      "QUALIFICATION    0.50000   0.66667   0.57143        18\n",
      "\n",
      "    micro avg    0.62517   0.65929   0.64178       678\n",
      "    macro avg    0.63259   0.65929   0.64511       678\n",
      "\n",
      "07/15/2021 17:15:23 - INFO - __main__ -   tech_f1 = 0.7070270270270269\n"
     ]
    },
    {
     "data": {
      "application/vnd.jupyter.widget-view+json": {
       "model_id": "718e77d002844227a5e8e04c13e1c713",
       "version_major": 2,
       "version_minor": 0
      },
      "text/plain": [
       "Iteration:   0%|          | 0/50 [00:00<?, ?it/s]"
      ]
     },
     "metadata": {},
     "output_type": "display_data"
    },
    {
     "name": "stderr",
     "output_type": "stream",
     "text": [
      "07/15/2021 17:16:08 - INFO - __main__ -   Loading features from cached file ./datasets/cached_dev_mlm_model_uncased_tech_line_by_line_512\n",
      "07/15/2021 17:16:08 - INFO - __main__ -   ***** Running evaluation 3575 *****\n",
      "07/15/2021 17:16:08 - INFO - __main__ -     Num examples = 94\n",
      "07/15/2021 17:16:08 - INFO - __main__ -     Batch size = 16\n"
     ]
    },
    {
     "data": {
      "application/vnd.jupyter.widget-view+json": {
       "model_id": "94926fa1490340728ece2b9eb7b9d42d",
       "version_major": 2,
       "version_minor": 0
      },
      "text/plain": [
       "Evaluating:   0%|          | 0/6 [00:00<?, ?it/s]"
      ]
     },
     "metadata": {},
     "output_type": "display_data"
    },
    {
     "name": "stderr",
     "output_type": "stream",
     "text": [
      "07/15/2021 17:16:14 - INFO - __main__ -   ***** Eval results 3575 *****\n",
      "07/15/2021 17:16:14 - INFO - __main__ -   f1 = 0.6532438478747203\n",
      "07/15/2021 17:16:14 - INFO - __main__ -   loss = 975.3998158772787\n",
      "07/15/2021 17:16:14 - INFO - __main__ -   report =                precision    recall  f1-score   support\n",
      "\n",
      "        POWER    0.63087   0.58025   0.60450       162\n",
      "         TECH    0.72831   0.70419   0.71605       453\n",
      "          SAP    0.12500   0.14286   0.13333        14\n",
      "         FUNC    0.29730   0.35484   0.32353        31\n",
      "QUALIFICATION    0.52174   0.66667   0.58537        18\n",
      "\n",
      "    micro avg    0.66063   0.64602   0.65324       678\n",
      "    macro avg    0.66738   0.64602   0.65595       678\n",
      "\n",
      "07/15/2021 17:16:14 - INFO - __main__ -   tech_f1 = 0.7160493827160493\n",
      "07/15/2021 17:16:58 - INFO - __main__ -   Loading features from cached file ./datasets/cached_dev_mlm_model_uncased_tech_line_by_line_512\n",
      "07/15/2021 17:16:58 - INFO - __main__ -   ***** Running evaluation 3600 *****\n",
      "07/15/2021 17:16:58 - INFO - __main__ -     Num examples = 94\n",
      "07/15/2021 17:16:58 - INFO - __main__ -     Batch size = 16\n"
     ]
    },
    {
     "data": {
      "application/vnd.jupyter.widget-view+json": {
       "model_id": "0d786847ef984c47b2d8e77063f233df",
       "version_major": 2,
       "version_minor": 0
      },
      "text/plain": [
       "Evaluating:   0%|          | 0/6 [00:00<?, ?it/s]"
      ]
     },
     "metadata": {},
     "output_type": "display_data"
    },
    {
     "name": "stderr",
     "output_type": "stream",
     "text": [
      "07/15/2021 17:17:04 - INFO - __main__ -   ***** Eval results 3600 *****\n",
      "07/15/2021 17:17:04 - INFO - __main__ -   f1 = 0.6651549508692365\n",
      "07/15/2021 17:17:04 - INFO - __main__ -   loss = 978.6547444661459\n",
      "07/15/2021 17:17:04 - INFO - __main__ -   report =                precision    recall  f1-score   support\n",
      "\n",
      "        POWER    0.63758   0.58642   0.61093       162\n",
      "         TECH    0.75829   0.70640   0.73143       453\n",
      "          SAP    0.14286   0.14286   0.14286        14\n",
      "         FUNC    0.29730   0.35484   0.32353        31\n",
      "QUALIFICATION    0.52174   0.66667   0.58537        18\n",
      "\n",
      "    micro avg    0.68217   0.64897   0.66515       678\n",
      "    macro avg    0.68939   0.64897   0.66796       678\n",
      "\n",
      "07/15/2021 17:17:04 - INFO - __main__ -   tech_f1 = 0.7314285714285715\n",
      "07/15/2021 17:17:04 - INFO - transformers.configuration_utils -   Configuration saved in ./model_crf_uncased_tech/best_checkpoint/config.json\n",
      "07/15/2021 17:17:07 - INFO - transformers.modeling_utils -   Model weights saved in ./model_crf_uncased_tech/best_checkpoint/pytorch_model.bin\n",
      "07/15/2021 17:17:07 - INFO - __main__ -   Saving model checkpoint to ./model_crf_uncased_tech/best_checkpoint\n",
      "07/15/2021 17:17:12 - INFO - __main__ -   Saving optimizer and scheduler states to ./model_crf_uncased_tech/best_checkpoint\n"
     ]
    },
    {
     "data": {
      "application/vnd.jupyter.widget-view+json": {
       "model_id": "e29512f844a9415da1de03ca340bf242",
       "version_major": 2,
       "version_minor": 0
      },
      "text/plain": [
       "Iteration:   0%|          | 0/50 [00:00<?, ?it/s]"
      ]
     },
     "metadata": {},
     "output_type": "display_data"
    },
    {
     "name": "stderr",
     "output_type": "stream",
     "text": [
      "07/15/2021 17:17:56 - INFO - __main__ -   Loading features from cached file ./datasets/cached_dev_mlm_model_uncased_tech_line_by_line_512\n",
      "07/15/2021 17:17:56 - INFO - __main__ -   ***** Running evaluation 3625 *****\n",
      "07/15/2021 17:17:56 - INFO - __main__ -     Num examples = 94\n",
      "07/15/2021 17:17:56 - INFO - __main__ -     Batch size = 16\n"
     ]
    },
    {
     "data": {
      "application/vnd.jupyter.widget-view+json": {
       "model_id": "ebd354f49b0a424a94cdbe5b25dd33a9",
       "version_major": 2,
       "version_minor": 0
      },
      "text/plain": [
       "Evaluating:   0%|          | 0/6 [00:00<?, ?it/s]"
      ]
     },
     "metadata": {},
     "output_type": "display_data"
    },
    {
     "name": "stderr",
     "output_type": "stream",
     "text": [
      "07/15/2021 17:18:02 - INFO - __main__ -   ***** Eval results 3625 *****\n",
      "07/15/2021 17:18:02 - INFO - __main__ -   f1 = 0.6461988304093567\n",
      "07/15/2021 17:18:02 - INFO - __main__ -   loss = 1012.7129109700521\n",
      "07/15/2021 17:18:02 - INFO - __main__ -   report =                precision    recall  f1-score   support\n",
      "\n",
      "        POWER    0.59494   0.58025   0.58750       162\n",
      "         TECH    0.71778   0.71302   0.71539       453\n",
      "          SAP    0.10526   0.14286   0.12121        14\n",
      "         FUNC    0.27500   0.35484   0.30986        31\n",
      "QUALIFICATION    0.52174   0.66667   0.58537        18\n",
      "\n",
      "    micro avg    0.64058   0.65192   0.64620       678\n",
      "    macro avg    0.65033   0.65192   0.65057       678\n",
      "\n",
      "07/15/2021 17:18:02 - INFO - __main__ -   tech_f1 = 0.715393133997785\n",
      "07/15/2021 17:18:47 - INFO - __main__ -   Loading features from cached file ./datasets/cached_dev_mlm_model_uncased_tech_line_by_line_512\n",
      "07/15/2021 17:18:47 - INFO - __main__ -   ***** Running evaluation 3650 *****\n",
      "07/15/2021 17:18:47 - INFO - __main__ -     Num examples = 94\n",
      "07/15/2021 17:18:47 - INFO - __main__ -     Batch size = 16\n"
     ]
    },
    {
     "data": {
      "application/vnd.jupyter.widget-view+json": {
       "model_id": "b13e88326e904fc8b391391c9e45518b",
       "version_major": 2,
       "version_minor": 0
      },
      "text/plain": [
       "Evaluating:   0%|          | 0/6 [00:00<?, ?it/s]"
      ]
     },
     "metadata": {},
     "output_type": "display_data"
    },
    {
     "name": "stderr",
     "output_type": "stream",
     "text": [
      "07/15/2021 17:18:53 - INFO - __main__ -   ***** Eval results 3650 *****\n",
      "07/15/2021 17:18:53 - INFO - __main__ -   f1 = 0.6471449487554904\n",
      "07/15/2021 17:18:53 - INFO - __main__ -   loss = 990.9812927246094\n",
      "07/15/2021 17:18:53 - INFO - __main__ -   report =                precision    recall  f1-score   support\n",
      "\n",
      "        POWER    0.60000   0.57407   0.58675       162\n",
      "         TECH    0.71145   0.71302   0.71224       453\n",
      "          SAP    0.11111   0.14286   0.12500        14\n",
      "         FUNC    0.28947   0.35484   0.31884        31\n",
      "QUALIFICATION    0.56522   0.72222   0.63415        18\n",
      "\n",
      "    micro avg    0.64244   0.65192   0.64714       678\n",
      "    macro avg    0.64925   0.65192   0.65007       678\n",
      "\n",
      "07/15/2021 17:18:53 - INFO - __main__ -   tech_f1 = 0.7122381477398015\n"
     ]
    },
    {
     "data": {
      "application/vnd.jupyter.widget-view+json": {
       "model_id": "5ff5e12a62d2419188b7be8a4ad53fb8",
       "version_major": 2,
       "version_minor": 0
      },
      "text/plain": [
       "Iteration:   0%|          | 0/50 [00:00<?, ?it/s]"
      ]
     },
     "metadata": {},
     "output_type": "display_data"
    },
    {
     "name": "stderr",
     "output_type": "stream",
     "text": [
      "07/15/2021 17:19:38 - INFO - __main__ -   Loading features from cached file ./datasets/cached_dev_mlm_model_uncased_tech_line_by_line_512\n",
      "07/15/2021 17:19:38 - INFO - __main__ -   ***** Running evaluation 3675 *****\n",
      "07/15/2021 17:19:38 - INFO - __main__ -     Num examples = 94\n",
      "07/15/2021 17:19:38 - INFO - __main__ -     Batch size = 16\n"
     ]
    },
    {
     "data": {
      "application/vnd.jupyter.widget-view+json": {
       "model_id": "65291b285efe42ca9d59d1f89f8b87ca",
       "version_major": 2,
       "version_minor": 0
      },
      "text/plain": [
       "Evaluating:   0%|          | 0/6 [00:00<?, ?it/s]"
      ]
     },
     "metadata": {},
     "output_type": "display_data"
    },
    {
     "name": "stderr",
     "output_type": "stream",
     "text": [
      "07/15/2021 17:19:44 - INFO - __main__ -   ***** Eval results 3675 *****\n",
      "07/15/2021 17:19:44 - INFO - __main__ -   f1 = 0.6446518305814788\n",
      "07/15/2021 17:19:44 - INFO - __main__ -   loss = 1040.2255350748699\n",
      "07/15/2021 17:19:44 - INFO - __main__ -   report =                precision    recall  f1-score   support\n",
      "\n",
      "        POWER    0.59375   0.58642   0.59006       162\n",
      "         TECH    0.70753   0.72627   0.71678       453\n",
      "          SAP    0.10526   0.14286   0.12121        14\n",
      "         FUNC    0.22917   0.35484   0.27848        31\n",
      "QUALIFICATION    0.52174   0.66667   0.58537        18\n",
      "\n",
      "    micro avg    0.62797   0.66224   0.64465       678\n",
      "    macro avg    0.64110   0.66224   0.65067       678\n",
      "\n",
      "07/15/2021 17:19:44 - INFO - __main__ -   tech_f1 = 0.7167755991285404\n",
      "07/15/2021 17:20:27 - INFO - __main__ -   Loading features from cached file ./datasets/cached_dev_mlm_model_uncased_tech_line_by_line_512\n",
      "07/15/2021 17:20:28 - INFO - __main__ -   ***** Running evaluation 3700 *****\n",
      "07/15/2021 17:20:28 - INFO - __main__ -     Num examples = 94\n",
      "07/15/2021 17:20:28 - INFO - __main__ -     Batch size = 16\n"
     ]
    },
    {
     "data": {
      "application/vnd.jupyter.widget-view+json": {
       "model_id": "c62bbf014bb14332a81f058c7659d45d",
       "version_major": 2,
       "version_minor": 0
      },
      "text/plain": [
       "Evaluating:   0%|          | 0/6 [00:00<?, ?it/s]"
      ]
     },
     "metadata": {},
     "output_type": "display_data"
    },
    {
     "name": "stderr",
     "output_type": "stream",
     "text": [
      "07/15/2021 17:20:33 - INFO - __main__ -   ***** Eval results 3700 *****\n",
      "07/15/2021 17:20:33 - INFO - __main__ -   f1 = 0.6515373352855052\n",
      "07/15/2021 17:20:33 - INFO - __main__ -   loss = 980.5294799804688\n",
      "07/15/2021 17:20:33 - INFO - __main__ -   report =                precision    recall  f1-score   support\n",
      "\n",
      "        POWER    0.62252   0.58025   0.60064       162\n",
      "         TECH    0.71429   0.71744   0.71586       453\n",
      "          SAP    0.11765   0.14286   0.12903        14\n",
      "         FUNC    0.26190   0.35484   0.30137        31\n",
      "QUALIFICATION    0.56522   0.72222   0.63415        18\n",
      "\n",
      "    micro avg    0.64680   0.65634   0.65154       678\n",
      "    macro avg    0.65540   0.65634   0.65509       678\n",
      "\n",
      "07/15/2021 17:20:33 - INFO - __main__ -   tech_f1 = 0.7158590308370044\n"
     ]
    },
    {
     "data": {
      "application/vnd.jupyter.widget-view+json": {
       "model_id": "736eee5ba4ef490098e6a622d6421526",
       "version_major": 2,
       "version_minor": 0
      },
      "text/plain": [
       "Iteration:   0%|          | 0/50 [00:00<?, ?it/s]"
      ]
     },
     "metadata": {},
     "output_type": "display_data"
    },
    {
     "name": "stderr",
     "output_type": "stream",
     "text": [
      "07/15/2021 17:21:19 - INFO - __main__ -   Loading features from cached file ./datasets/cached_dev_mlm_model_uncased_tech_line_by_line_512\n",
      "07/15/2021 17:21:19 - INFO - __main__ -   ***** Running evaluation 3725 *****\n",
      "07/15/2021 17:21:19 - INFO - __main__ -     Num examples = 94\n",
      "07/15/2021 17:21:19 - INFO - __main__ -     Batch size = 16\n"
     ]
    },
    {
     "data": {
      "application/vnd.jupyter.widget-view+json": {
       "model_id": "3569e10834dc499da52a4e1a6156f69e",
       "version_major": 2,
       "version_minor": 0
      },
      "text/plain": [
       "Evaluating:   0%|          | 0/6 [00:00<?, ?it/s]"
      ]
     },
     "metadata": {},
     "output_type": "display_data"
    },
    {
     "name": "stderr",
     "output_type": "stream",
     "text": [
      "07/15/2021 17:21:24 - INFO - __main__ -   ***** Eval results 3725 *****\n",
      "07/15/2021 17:21:24 - INFO - __main__ -   f1 = 0.6433076384022425\n",
      "07/15/2021 17:21:24 - INFO - __main__ -   loss = 999.0431518554688\n",
      "07/15/2021 17:21:24 - INFO - __main__ -   report =                precision    recall  f1-score   support\n",
      "\n",
      "        POWER    0.57396   0.59877   0.58610       162\n",
      "         TECH    0.68081   0.74393   0.71097       453\n",
      "          SAP    0.09524   0.14286   0.11429        14\n",
      "         FUNC    0.24390   0.32258   0.27778        31\n",
      "QUALIFICATION    0.56522   0.72222   0.63415        18\n",
      "\n",
      "    micro avg    0.61282   0.67699   0.64331       678\n",
      "    macro avg    0.62014   0.67699   0.64697       678\n",
      "\n",
      "07/15/2021 17:21:24 - INFO - __main__ -   tech_f1 = 0.7109704641350211\n",
      "07/15/2021 17:22:08 - INFO - __main__ -   Loading features from cached file ./datasets/cached_dev_mlm_model_uncased_tech_line_by_line_512\n",
      "07/15/2021 17:22:08 - INFO - __main__ -   ***** Running evaluation 3750 *****\n",
      "07/15/2021 17:22:08 - INFO - __main__ -     Num examples = 94\n",
      "07/15/2021 17:22:08 - INFO - __main__ -     Batch size = 16\n"
     ]
    },
    {
     "data": {
      "application/vnd.jupyter.widget-view+json": {
       "model_id": "b8f9f1201ddd4e738a5d262809063df9",
       "version_major": 2,
       "version_minor": 0
      },
      "text/plain": [
       "Evaluating:   0%|          | 0/6 [00:00<?, ?it/s]"
      ]
     },
     "metadata": {},
     "output_type": "display_data"
    },
    {
     "name": "stderr",
     "output_type": "stream",
     "text": [
      "07/15/2021 17:22:14 - INFO - __main__ -   ***** Eval results 3750 *****\n",
      "07/15/2021 17:22:14 - INFO - __main__ -   f1 = 0.6555716353111433\n",
      "07/15/2021 17:22:14 - INFO - __main__ -   loss = 955.8443501790365\n",
      "07/15/2021 17:22:14 - INFO - __main__ -   report =                precision    recall  f1-score   support\n",
      "\n",
      "        POWER    0.61783   0.59877   0.60815       162\n",
      "         TECH    0.70968   0.72848   0.71895       453\n",
      "          SAP    0.09524   0.14286   0.11429        14\n",
      "         FUNC    0.28205   0.35484   0.31429        31\n",
      "QUALIFICATION    0.59091   0.72222   0.65000        18\n",
      "\n",
      "    micro avg    0.64347   0.66814   0.65557       678\n",
      "    macro avg    0.65234   0.66814   0.65966       678\n",
      "\n",
      "07/15/2021 17:22:14 - INFO - __main__ -   tech_f1 = 0.7189542483660131\n"
     ]
    },
    {
     "data": {
      "application/vnd.jupyter.widget-view+json": {
       "model_id": "4ce9556a89c046adafbae39738326d35",
       "version_major": 2,
       "version_minor": 0
      },
      "text/plain": [
       "Iteration:   0%|          | 0/50 [00:00<?, ?it/s]"
      ]
     },
     "metadata": {},
     "output_type": "display_data"
    },
    {
     "name": "stderr",
     "output_type": "stream",
     "text": [
      "07/15/2021 17:22:59 - INFO - __main__ -   Loading features from cached file ./datasets/cached_dev_mlm_model_uncased_tech_line_by_line_512\n",
      "07/15/2021 17:22:59 - INFO - __main__ -   ***** Running evaluation 3775 *****\n",
      "07/15/2021 17:22:59 - INFO - __main__ -     Num examples = 94\n",
      "07/15/2021 17:22:59 - INFO - __main__ -     Batch size = 16\n"
     ]
    },
    {
     "data": {
      "application/vnd.jupyter.widget-view+json": {
       "model_id": "336fa12e68644e3cb5e224fe1ea148c8",
       "version_major": 2,
       "version_minor": 0
      },
      "text/plain": [
       "Evaluating:   0%|          | 0/6 [00:00<?, ?it/s]"
      ]
     },
     "metadata": {},
     "output_type": "display_data"
    },
    {
     "name": "stderr",
     "output_type": "stream",
     "text": [
      "07/15/2021 17:23:05 - INFO - __main__ -   ***** Eval results 3775 *****\n",
      "07/15/2021 17:23:05 - INFO - __main__ -   f1 = 0.6516690856313497\n",
      "07/15/2021 17:23:05 - INFO - __main__ -   loss = 956.08154296875\n",
      "07/15/2021 17:23:05 - INFO - __main__ -   report =                precision    recall  f1-score   support\n",
      "\n",
      "        POWER    0.62585   0.56790   0.59547       162\n",
      "         TECH    0.71183   0.73068   0.72113       453\n",
      "          SAP    0.08333   0.14286   0.10526        14\n",
      "         FUNC    0.26190   0.35484   0.30137        31\n",
      "QUALIFICATION    0.59091   0.72222   0.65000        18\n",
      "\n",
      "    micro avg    0.64143   0.66224   0.65167       678\n",
      "    macro avg    0.65452   0.66224   0.65731       678\n",
      "\n",
      "07/15/2021 17:23:05 - INFO - __main__ -   tech_f1 = 0.7211328976034856\n",
      "07/15/2021 17:23:48 - INFO - __main__ -   Loading features from cached file ./datasets/cached_dev_mlm_model_uncased_tech_line_by_line_512\n",
      "07/15/2021 17:23:48 - INFO - __main__ -   ***** Running evaluation 3800 *****\n",
      "07/15/2021 17:23:48 - INFO - __main__ -     Num examples = 94\n",
      "07/15/2021 17:23:48 - INFO - __main__ -     Batch size = 16\n"
     ]
    },
    {
     "data": {
      "application/vnd.jupyter.widget-view+json": {
       "model_id": "21f98678e181407da9b0468a3405f284",
       "version_major": 2,
       "version_minor": 0
      },
      "text/plain": [
       "Evaluating:   0%|          | 0/6 [00:00<?, ?it/s]"
      ]
     },
     "metadata": {},
     "output_type": "display_data"
    },
    {
     "name": "stderr",
     "output_type": "stream",
     "text": [
      "07/15/2021 17:23:54 - INFO - __main__ -   ***** Eval results 3800 *****\n",
      "07/15/2021 17:23:54 - INFO - __main__ -   f1 = 0.6440677966101696\n",
      "07/15/2021 17:23:54 - INFO - __main__ -   loss = 1018.9278767903646\n",
      "07/15/2021 17:23:54 - INFO - __main__ -   report =                precision    recall  f1-score   support\n",
      "\n",
      "        POWER    0.59006   0.58642   0.58824       162\n",
      "         TECH    0.69358   0.73951   0.71581       453\n",
      "          SAP    0.07143   0.14286   0.09524        14\n",
      "         FUNC    0.25000   0.35484   0.29333        31\n",
      "QUALIFICATION    0.59091   0.72222   0.65000        18\n",
      "\n",
      "    micro avg    0.61789   0.67257   0.64407       678\n",
      "    macro avg    0.63299   0.67257   0.65145       678\n",
      "\n",
      "07/15/2021 17:23:54 - INFO - __main__ -   tech_f1 = 0.7158119658119658\n"
     ]
    },
    {
     "data": {
      "application/vnd.jupyter.widget-view+json": {
       "model_id": "b81c0c41220c463c88dfdafc2f40b6e9",
       "version_major": 2,
       "version_minor": 0
      },
      "text/plain": [
       "Iteration:   0%|          | 0/50 [00:00<?, ?it/s]"
      ]
     },
     "metadata": {},
     "output_type": "display_data"
    },
    {
     "name": "stderr",
     "output_type": "stream",
     "text": [
      "07/15/2021 17:24:39 - INFO - __main__ -   Loading features from cached file ./datasets/cached_dev_mlm_model_uncased_tech_line_by_line_512\n",
      "07/15/2021 17:24:39 - INFO - __main__ -   ***** Running evaluation 3825 *****\n",
      "07/15/2021 17:24:39 - INFO - __main__ -     Num examples = 94\n",
      "07/15/2021 17:24:39 - INFO - __main__ -     Batch size = 16\n"
     ]
    },
    {
     "data": {
      "application/vnd.jupyter.widget-view+json": {
       "model_id": "7e96c576ac7e469f9e1eabcad2425d8a",
       "version_major": 2,
       "version_minor": 0
      },
      "text/plain": [
       "Evaluating:   0%|          | 0/6 [00:00<?, ?it/s]"
      ]
     },
     "metadata": {},
     "output_type": "display_data"
    },
    {
     "name": "stderr",
     "output_type": "stream",
     "text": [
      "07/15/2021 17:24:45 - INFO - __main__ -   ***** Eval results 3825 *****\n",
      "07/15/2021 17:24:45 - INFO - __main__ -   f1 = 0.6464646464646466\n",
      "07/15/2021 17:24:45 - INFO - __main__ -   loss = 949.1143290201823\n",
      "07/15/2021 17:24:45 - INFO - __main__ -   report =                precision    recall  f1-score   support\n",
      "\n",
      "        POWER    0.58824   0.55556   0.57143       162\n",
      "         TECH    0.71092   0.73289   0.72174       453\n",
      "          SAP    0.08000   0.14286   0.10256        14\n",
      "         FUNC    0.26829   0.35484   0.30556        31\n",
      "QUALIFICATION    0.59091   0.72222   0.65000        18\n",
      "\n",
      "    micro avg    0.63277   0.66077   0.64646       678\n",
      "    macro avg    0.64515   0.66077   0.65211       678\n",
      "\n",
      "07/15/2021 17:24:45 - INFO - __main__ -   tech_f1 = 0.7217391304347827\n",
      "07/15/2021 17:25:29 - INFO - __main__ -   Loading features from cached file ./datasets/cached_dev_mlm_model_uncased_tech_line_by_line_512\n",
      "07/15/2021 17:25:29 - INFO - __main__ -   ***** Running evaluation 3850 *****\n",
      "07/15/2021 17:25:29 - INFO - __main__ -     Num examples = 94\n",
      "07/15/2021 17:25:29 - INFO - __main__ -     Batch size = 16\n"
     ]
    },
    {
     "data": {
      "application/vnd.jupyter.widget-view+json": {
       "model_id": "3789076324b4466baba8b89b25d9a5f7",
       "version_major": 2,
       "version_minor": 0
      },
      "text/plain": [
       "Evaluating:   0%|          | 0/6 [00:00<?, ?it/s]"
      ]
     },
     "metadata": {},
     "output_type": "display_data"
    },
    {
     "name": "stderr",
     "output_type": "stream",
     "text": [
      "07/15/2021 17:25:35 - INFO - __main__ -   ***** Eval results 3850 *****\n",
      "07/15/2021 17:25:35 - INFO - __main__ -   f1 = 0.6533923303834809\n",
      "07/15/2021 17:25:35 - INFO - __main__ -   loss = 911.161387125651\n",
      "07/15/2021 17:25:35 - INFO - __main__ -   report =                precision    recall  f1-score   support\n",
      "\n",
      "        POWER    0.62759   0.56173   0.59283       162\n",
      "         TECH    0.72406   0.72406   0.72406       453\n",
      "          SAP    0.05000   0.07143   0.05882        14\n",
      "         FUNC    0.26316   0.32258   0.28986        31\n",
      "QUALIFICATION    0.59091   0.72222   0.65000        18\n",
      "\n",
      "    micro avg    0.65339   0.65339   0.65339       678\n",
      "    macro avg    0.66248   0.65339   0.65715       678\n",
      "\n",
      "07/15/2021 17:25:35 - INFO - __main__ -   tech_f1 = 0.7240618101545255\n"
     ]
    },
    {
     "data": {
      "application/vnd.jupyter.widget-view+json": {
       "model_id": "268a78ab69e844af98788ffc1de3c233",
       "version_major": 2,
       "version_minor": 0
      },
      "text/plain": [
       "Iteration:   0%|          | 0/50 [00:00<?, ?it/s]"
      ]
     },
     "metadata": {},
     "output_type": "display_data"
    },
    {
     "name": "stderr",
     "output_type": "stream",
     "text": [
      "07/15/2021 17:26:20 - INFO - __main__ -   Loading features from cached file ./datasets/cached_dev_mlm_model_uncased_tech_line_by_line_512\n",
      "07/15/2021 17:26:20 - INFO - __main__ -   ***** Running evaluation 3875 *****\n",
      "07/15/2021 17:26:20 - INFO - __main__ -     Num examples = 94\n",
      "07/15/2021 17:26:20 - INFO - __main__ -     Batch size = 16\n"
     ]
    },
    {
     "data": {
      "application/vnd.jupyter.widget-view+json": {
       "model_id": "10ba2c997dc6451787373cd1ffacbdfc",
       "version_major": 2,
       "version_minor": 0
      },
      "text/plain": [
       "Evaluating:   0%|          | 0/6 [00:00<?, ?it/s]"
      ]
     },
     "metadata": {},
     "output_type": "display_data"
    },
    {
     "name": "stderr",
     "output_type": "stream",
     "text": [
      "07/15/2021 17:26:26 - INFO - __main__ -   ***** Eval results 3875 *****\n",
      "07/15/2021 17:26:26 - INFO - __main__ -   f1 = 0.6516690856313497\n",
      "07/15/2021 17:26:26 - INFO - __main__ -   loss = 957.2599843343099\n",
      "07/15/2021 17:26:26 - INFO - __main__ -   report =                precision    recall  f1-score   support\n",
      "\n",
      "        POWER    0.59868   0.56173   0.57962       162\n",
      "         TECH    0.72234   0.73510   0.72867       453\n",
      "          SAP    0.08333   0.14286   0.10526        14\n",
      "         FUNC    0.24390   0.32258   0.27778        31\n",
      "QUALIFICATION    0.59091   0.72222   0.65000        18\n",
      "\n",
      "    micro avg    0.64143   0.66224   0.65167       678\n",
      "    macro avg    0.65424   0.66224   0.65748       678\n",
      "\n",
      "07/15/2021 17:26:26 - INFO - __main__ -   tech_f1 = 0.7286652078774618\n",
      "07/15/2021 17:27:10 - INFO - __main__ -   Loading features from cached file ./datasets/cached_dev_mlm_model_uncased_tech_line_by_line_512\n",
      "07/15/2021 17:27:10 - INFO - __main__ -   ***** Running evaluation 3900 *****\n",
      "07/15/2021 17:27:10 - INFO - __main__ -     Num examples = 94\n",
      "07/15/2021 17:27:10 - INFO - __main__ -     Batch size = 16\n"
     ]
    },
    {
     "data": {
      "application/vnd.jupyter.widget-view+json": {
       "model_id": "74fc8ebb33d247679399bc57d1301d0c",
       "version_major": 2,
       "version_minor": 0
      },
      "text/plain": [
       "Evaluating:   0%|          | 0/6 [00:00<?, ?it/s]"
      ]
     },
     "metadata": {},
     "output_type": "display_data"
    },
    {
     "name": "stderr",
     "output_type": "stream",
     "text": [
      "07/15/2021 17:27:15 - INFO - __main__ -   ***** Eval results 3900 *****\n",
      "07/15/2021 17:27:15 - INFO - __main__ -   f1 = 0.6554498902706656\n",
      "07/15/2021 17:27:15 - INFO - __main__ -   loss = 962.2240804036459\n",
      "07/15/2021 17:27:15 - INFO - __main__ -   report =                precision    recall  f1-score   support\n",
      "\n",
      "        POWER    0.60000   0.55556   0.57692       162\n",
      "         TECH    0.72078   0.73510   0.72787       453\n",
      "          SAP    0.10000   0.14286   0.11765        14\n",
      "         FUNC    0.28571   0.32258   0.30303        31\n",
      "QUALIFICATION    0.59091   0.72222   0.65000        18\n",
      "\n",
      "    micro avg    0.65022   0.66077   0.65545       678\n",
      "    macro avg    0.65576   0.66077   0.65771       678\n",
      "\n",
      "07/15/2021 17:27:15 - INFO - __main__ -   tech_f1 = 0.7278688524590163\n"
     ]
    },
    {
     "data": {
      "application/vnd.jupyter.widget-view+json": {
       "model_id": "de26892fbc094f08b7ba9e884eeeb3f0",
       "version_major": 2,
       "version_minor": 0
      },
      "text/plain": [
       "Iteration:   0%|          | 0/50 [00:00<?, ?it/s]"
      ]
     },
     "metadata": {},
     "output_type": "display_data"
    },
    {
     "name": "stderr",
     "output_type": "stream",
     "text": [
      "07/15/2021 17:28:00 - INFO - __main__ -   Loading features from cached file ./datasets/cached_dev_mlm_model_uncased_tech_line_by_line_512\n",
      "07/15/2021 17:28:01 - INFO - __main__ -   ***** Running evaluation 3925 *****\n",
      "07/15/2021 17:28:01 - INFO - __main__ -     Num examples = 94\n",
      "07/15/2021 17:28:01 - INFO - __main__ -     Batch size = 16\n"
     ]
    },
    {
     "data": {
      "application/vnd.jupyter.widget-view+json": {
       "model_id": "4e58574eeef74f138566ca3097d0588a",
       "version_major": 2,
       "version_minor": 0
      },
      "text/plain": [
       "Evaluating:   0%|          | 0/6 [00:00<?, ?it/s]"
      ]
     },
     "metadata": {},
     "output_type": "display_data"
    },
    {
     "name": "stderr",
     "output_type": "stream",
     "text": [
      "07/15/2021 17:28:06 - INFO - __main__ -   ***** Eval results 3925 *****\n",
      "07/15/2021 17:28:06 - INFO - __main__ -   f1 = 0.6579520697167756\n",
      "07/15/2021 17:28:06 - INFO - __main__ -   loss = 976.94775390625\n",
      "07/15/2021 17:28:06 - INFO - __main__ -   report =                precision    recall  f1-score   support\n",
      "\n",
      "        POWER    0.60403   0.55556   0.57878       162\n",
      "         TECH    0.72068   0.74614   0.73319       453\n",
      "          SAP    0.10526   0.14286   0.12121        14\n",
      "         FUNC    0.25000   0.32258   0.28169        31\n",
      "QUALIFICATION    0.59091   0.72222   0.65000        18\n",
      "\n",
      "    micro avg    0.64807   0.66814   0.65795       678\n",
      "    macro avg    0.65513   0.66814   0.66081       678\n",
      "\n",
      "07/15/2021 17:28:06 - INFO - __main__ -   tech_f1 = 0.7331887201735359\n",
      "07/15/2021 17:28:06 - INFO - transformers.configuration_utils -   Configuration saved in ./model_crf_uncased_tech/best_checkpoint/config.json\n",
      "07/15/2021 17:28:09 - INFO - transformers.modeling_utils -   Model weights saved in ./model_crf_uncased_tech/best_checkpoint/pytorch_model.bin\n",
      "07/15/2021 17:28:09 - INFO - __main__ -   Saving model checkpoint to ./model_crf_uncased_tech/best_checkpoint\n",
      "07/15/2021 17:28:15 - INFO - __main__ -   Saving optimizer and scheduler states to ./model_crf_uncased_tech/best_checkpoint\n",
      "07/15/2021 17:29:00 - INFO - __main__ -   Loading features from cached file ./datasets/cached_dev_mlm_model_uncased_tech_line_by_line_512\n",
      "07/15/2021 17:29:00 - INFO - __main__ -   ***** Running evaluation 3950 *****\n",
      "07/15/2021 17:29:00 - INFO - __main__ -     Num examples = 94\n",
      "07/15/2021 17:29:00 - INFO - __main__ -     Batch size = 16\n"
     ]
    },
    {
     "data": {
      "application/vnd.jupyter.widget-view+json": {
       "model_id": "65994ecf00ca4b67adad44f405d8b5ee",
       "version_major": 2,
       "version_minor": 0
      },
      "text/plain": [
       "Evaluating:   0%|          | 0/6 [00:00<?, ?it/s]"
      ]
     },
     "metadata": {},
     "output_type": "display_data"
    },
    {
     "name": "stderr",
     "output_type": "stream",
     "text": [
      "07/15/2021 17:29:06 - INFO - __main__ -   ***** Eval results 3950 *****\n",
      "07/15/2021 17:29:06 - INFO - __main__ -   f1 = 0.6534798534798535\n",
      "07/15/2021 17:29:06 - INFO - __main__ -   loss = 948.780995686849\n",
      "07/15/2021 17:29:06 - INFO - __main__ -   report =                precision    recall  f1-score   support\n",
      "\n",
      "        POWER    0.60959   0.54938   0.57792       162\n",
      "         TECH    0.72174   0.73289   0.72727       453\n",
      "          SAP    0.08333   0.14286   0.10526        14\n",
      "         FUNC    0.28571   0.32258   0.30303        31\n",
      "QUALIFICATION    0.59091   0.72222   0.65000        18\n",
      "\n",
      "    micro avg    0.64920   0.65782   0.65348       678\n",
      "    macro avg    0.65835   0.65782   0.65729       678\n",
      "\n",
      "07/15/2021 17:29:06 - INFO - __main__ -   tech_f1 = 0.7272727272727273\n"
     ]
    },
    {
     "data": {
      "application/vnd.jupyter.widget-view+json": {
       "model_id": "7623744b78fa413b9e2a9bc221746c1f",
       "version_major": 2,
       "version_minor": 0
      },
      "text/plain": [
       "Iteration:   0%|          | 0/50 [00:00<?, ?it/s]"
      ]
     },
     "metadata": {},
     "output_type": "display_data"
    },
    {
     "name": "stderr",
     "output_type": "stream",
     "text": [
      "07/15/2021 17:29:50 - INFO - __main__ -   Loading features from cached file ./datasets/cached_dev_mlm_model_uncased_tech_line_by_line_512\n",
      "07/15/2021 17:29:50 - INFO - __main__ -   ***** Running evaluation 3975 *****\n",
      "07/15/2021 17:29:50 - INFO - __main__ -     Num examples = 94\n",
      "07/15/2021 17:29:50 - INFO - __main__ -     Batch size = 16\n"
     ]
    },
    {
     "data": {
      "application/vnd.jupyter.widget-view+json": {
       "model_id": "ff980255c31548b6bc24656107379cd6",
       "version_major": 2,
       "version_minor": 0
      },
      "text/plain": [
       "Evaluating:   0%|          | 0/6 [00:00<?, ?it/s]"
      ]
     },
     "metadata": {},
     "output_type": "display_data"
    },
    {
     "name": "stderr",
     "output_type": "stream",
     "text": [
      "07/15/2021 17:29:56 - INFO - __main__ -   ***** Eval results 3975 *****\n",
      "07/15/2021 17:29:56 - INFO - __main__ -   f1 = 0.658132530120482\n",
      "07/15/2021 17:29:56 - INFO - __main__ -   loss = 933.6282552083334\n",
      "07/15/2021 17:29:56 - INFO - __main__ -   report =                precision    recall  f1-score   support\n",
      "\n",
      "        POWER    0.63121   0.54938   0.58746       162\n",
      "         TECH    0.74032   0.71744   0.72870       453\n",
      "          SAP    0.05882   0.07143   0.06452        14\n",
      "         FUNC    0.30000   0.29032   0.29508        31\n",
      "QUALIFICATION    0.56522   0.72222   0.63415        18\n",
      "\n",
      "    micro avg    0.67231   0.64454   0.65813       678\n",
      "    macro avg    0.67539   0.64454   0.65890       678\n",
      "\n",
      "07/15/2021 17:29:56 - INFO - __main__ -   tech_f1 = 0.7286995515695068\n",
      "07/15/2021 17:30:40 - INFO - __main__ -   Loading features from cached file ./datasets/cached_dev_mlm_model_uncased_tech_line_by_line_512\n",
      "07/15/2021 17:30:40 - INFO - __main__ -   ***** Running evaluation 4000 *****\n",
      "07/15/2021 17:30:40 - INFO - __main__ -     Num examples = 94\n",
      "07/15/2021 17:30:40 - INFO - __main__ -     Batch size = 16\n"
     ]
    },
    {
     "data": {
      "application/vnd.jupyter.widget-view+json": {
       "model_id": "f7dfabfe4b144712aaa646ce69bce53e",
       "version_major": 2,
       "version_minor": 0
      },
      "text/plain": [
       "Evaluating:   0%|          | 0/6 [00:00<?, ?it/s]"
      ]
     },
     "metadata": {},
     "output_type": "display_data"
    },
    {
     "name": "stderr",
     "output_type": "stream",
     "text": [
      "07/15/2021 17:30:46 - INFO - __main__ -   ***** Eval results 4000 *****\n",
      "07/15/2021 17:30:46 - INFO - __main__ -   f1 = 0.6588785046728972\n",
      "07/15/2021 17:30:46 - INFO - __main__ -   loss = 905.2103627522787\n",
      "07/15/2021 17:30:46 - INFO - __main__ -   report =                precision    recall  f1-score   support\n",
      "\n",
      "        POWER    0.62238   0.54938   0.58361       162\n",
      "         TECH    0.76658   0.68874   0.72558       453\n",
      "          SAP    0.12500   0.07143   0.09091        14\n",
      "         FUNC    0.30769   0.25806   0.28070        31\n",
      "QUALIFICATION    0.59091   0.72222   0.65000        18\n",
      "\n",
      "    micro avg    0.69802   0.62389   0.65888       678\n",
      "    macro avg    0.69323   0.62389   0.65621       678\n",
      "\n",
      "07/15/2021 17:30:46 - INFO - __main__ -   tech_f1 = 0.7255813953488371\n"
     ]
    },
    {
     "data": {
      "application/vnd.jupyter.widget-view+json": {
       "model_id": "13846cea436c45259f1974a53e4b64c2",
       "version_major": 2,
       "version_minor": 0
      },
      "text/plain": [
       "Iteration:   0%|          | 0/50 [00:00<?, ?it/s]"
      ]
     },
     "metadata": {},
     "output_type": "display_data"
    },
    {
     "name": "stderr",
     "output_type": "stream",
     "text": [
      "07/15/2021 17:31:31 - INFO - __main__ -   Loading features from cached file ./datasets/cached_dev_mlm_model_uncased_tech_line_by_line_512\n",
      "07/15/2021 17:31:31 - INFO - __main__ -   ***** Running evaluation 4025 *****\n",
      "07/15/2021 17:31:31 - INFO - __main__ -     Num examples = 94\n",
      "07/15/2021 17:31:31 - INFO - __main__ -     Batch size = 16\n"
     ]
    },
    {
     "data": {
      "application/vnd.jupyter.widget-view+json": {
       "model_id": "cced5fea6fb241989d3bd40b055ee08b",
       "version_major": 2,
       "version_minor": 0
      },
      "text/plain": [
       "Evaluating:   0%|          | 0/6 [00:00<?, ?it/s]"
      ]
     },
     "metadata": {},
     "output_type": "display_data"
    },
    {
     "name": "stderr",
     "output_type": "stream",
     "text": [
      "07/15/2021 17:31:36 - INFO - __main__ -   ***** Eval results 4025 *****\n",
      "07/15/2021 17:31:36 - INFO - __main__ -   f1 = 0.6559532505478451\n",
      "07/15/2021 17:31:36 - INFO - __main__ -   loss = 965.7644551595052\n",
      "07/15/2021 17:31:36 - INFO - __main__ -   report =                precision    recall  f1-score   support\n",
      "\n",
      "        POWER    0.59627   0.59259   0.59443       162\n",
      "         TECH    0.72467   0.72627   0.72547       453\n",
      "          SAP    0.05556   0.07143   0.06250        14\n",
      "         FUNC    0.27778   0.32258   0.29851        31\n",
      "QUALIFICATION    0.59091   0.72222   0.65000        18\n",
      "\n",
      "    micro avg    0.64978   0.66224   0.65595       678\n",
      "    macro avg    0.65619   0.66224   0.65894       678\n",
      "\n",
      "07/15/2021 17:31:36 - INFO - __main__ -   tech_f1 = 0.7254685777287762\n",
      "07/15/2021 17:32:20 - INFO - __main__ -   Loading features from cached file ./datasets/cached_dev_mlm_model_uncased_tech_line_by_line_512\n",
      "07/15/2021 17:32:20 - INFO - __main__ -   ***** Running evaluation 4050 *****\n",
      "07/15/2021 17:32:20 - INFO - __main__ -     Num examples = 94\n",
      "07/15/2021 17:32:20 - INFO - __main__ -     Batch size = 16\n"
     ]
    },
    {
     "data": {
      "application/vnd.jupyter.widget-view+json": {
       "model_id": "6cd6a3b019154703838b2d25f1e87937",
       "version_major": 2,
       "version_minor": 0
      },
      "text/plain": [
       "Evaluating:   0%|          | 0/6 [00:00<?, ?it/s]"
      ]
     },
     "metadata": {},
     "output_type": "display_data"
    },
    {
     "name": "stderr",
     "output_type": "stream",
     "text": [
      "07/15/2021 17:32:26 - INFO - __main__ -   ***** Eval results 4050 *****\n",
      "07/15/2021 17:32:26 - INFO - __main__ -   f1 = 0.654219566840926\n",
      "07/15/2021 17:32:26 - INFO - __main__ -   loss = 936.8004506429037\n",
      "07/15/2021 17:32:26 - INFO - __main__ -   report =                precision    recall  f1-score   support\n",
      "\n",
      "        POWER    0.61486   0.56173   0.58710       162\n",
      "         TECH    0.73744   0.71302   0.72503       453\n",
      "          SAP    0.05556   0.07143   0.06250        14\n",
      "         FUNC    0.28571   0.32258   0.30303        31\n",
      "QUALIFICATION    0.59091   0.72222   0.65000        18\n",
      "\n",
      "    micro avg    0.66263   0.64602   0.65422       678\n",
      "    macro avg    0.66953   0.64602   0.65710       678\n",
      "\n",
      "07/15/2021 17:32:26 - INFO - __main__ -   tech_f1 = 0.7250280583613917\n"
     ]
    },
    {
     "data": {
      "application/vnd.jupyter.widget-view+json": {
       "model_id": "3474ab09ef1c4737bae528226183815c",
       "version_major": 2,
       "version_minor": 0
      },
      "text/plain": [
       "Iteration:   0%|          | 0/50 [00:00<?, ?it/s]"
      ]
     },
     "metadata": {},
     "output_type": "display_data"
    },
    {
     "name": "stderr",
     "output_type": "stream",
     "text": [
      "07/15/2021 17:33:11 - INFO - __main__ -   Loading features from cached file ./datasets/cached_dev_mlm_model_uncased_tech_line_by_line_512\n",
      "07/15/2021 17:33:11 - INFO - __main__ -   ***** Running evaluation 4075 *****\n",
      "07/15/2021 17:33:11 - INFO - __main__ -     Num examples = 94\n",
      "07/15/2021 17:33:11 - INFO - __main__ -     Batch size = 16\n"
     ]
    },
    {
     "data": {
      "application/vnd.jupyter.widget-view+json": {
       "model_id": "3ae1e5acac2441959866c6358af5e907",
       "version_major": 2,
       "version_minor": 0
      },
      "text/plain": [
       "Evaluating:   0%|          | 0/6 [00:00<?, ?it/s]"
      ]
     },
     "metadata": {},
     "output_type": "display_data"
    },
    {
     "name": "stderr",
     "output_type": "stream",
     "text": [
      "07/15/2021 17:33:16 - INFO - __main__ -   ***** Eval results 4075 *****\n",
      "07/15/2021 17:33:16 - INFO - __main__ -   f1 = 0.650073206442167\n",
      "07/15/2021 17:33:16 - INFO - __main__ -   loss = 980.8949839274088\n",
      "07/15/2021 17:33:16 - INFO - __main__ -   report =                precision    recall  f1-score   support\n",
      "\n",
      "        POWER    0.62937   0.55556   0.59016       162\n",
      "         TECH    0.71274   0.72848   0.72052       453\n",
      "          SAP    0.04167   0.07143   0.05263        14\n",
      "         FUNC    0.27778   0.32258   0.29851        31\n",
      "QUALIFICATION    0.59091   0.72222   0.65000        18\n",
      "\n",
      "    micro avg    0.64535   0.65487   0.65007       678\n",
      "    macro avg    0.65584   0.65487   0.65442       678\n",
      "\n",
      "07/15/2021 17:33:16 - INFO - __main__ -   tech_f1 = 0.7205240174672488\n",
      "07/15/2021 17:34:00 - INFO - __main__ -   Loading features from cached file ./datasets/cached_dev_mlm_model_uncased_tech_line_by_line_512\n",
      "07/15/2021 17:34:00 - INFO - __main__ -   ***** Running evaluation 4100 *****\n",
      "07/15/2021 17:34:00 - INFO - __main__ -     Num examples = 94\n",
      "07/15/2021 17:34:00 - INFO - __main__ -     Batch size = 16\n"
     ]
    },
    {
     "data": {
      "application/vnd.jupyter.widget-view+json": {
       "model_id": "3548c91a348646d1b334e97d410e77cd",
       "version_major": 2,
       "version_minor": 0
      },
      "text/plain": [
       "Evaluating:   0%|          | 0/6 [00:00<?, ?it/s]"
      ]
     },
     "metadata": {},
     "output_type": "display_data"
    },
    {
     "name": "stderr",
     "output_type": "stream",
     "text": [
      "07/15/2021 17:34:06 - INFO - __main__ -   ***** Eval results 4100 *****\n",
      "07/15/2021 17:34:06 - INFO - __main__ -   f1 = 0.6471877282688093\n",
      "07/15/2021 17:34:06 - INFO - __main__ -   loss = 973.129140218099\n",
      "07/15/2021 17:34:06 - INFO - __main__ -   report =                precision    recall  f1-score   support\n",
      "\n",
      "        POWER    0.62329   0.56173   0.59091       162\n",
      "         TECH    0.70842   0.72406   0.71616       453\n",
      "          SAP    0.04545   0.07143   0.05556        14\n",
      "         FUNC    0.26316   0.32258   0.28986        31\n",
      "QUALIFICATION    0.59091   0.72222   0.65000        18\n",
      "\n",
      "    micro avg    0.64110   0.65339   0.64719       678\n",
      "    macro avg    0.65091   0.65339   0.65134       678\n",
      "\n",
      "07/15/2021 17:34:06 - INFO - __main__ -   tech_f1 = 0.7161572052401747\n"
     ]
    },
    {
     "data": {
      "application/vnd.jupyter.widget-view+json": {
       "model_id": "a7d701a6e0d6469dad779cc65fb0d95d",
       "version_major": 2,
       "version_minor": 0
      },
      "text/plain": [
       "Iteration:   0%|          | 0/50 [00:00<?, ?it/s]"
      ]
     },
     "metadata": {},
     "output_type": "display_data"
    },
    {
     "name": "stderr",
     "output_type": "stream",
     "text": [
      "07/15/2021 17:34:51 - INFO - __main__ -   Loading features from cached file ./datasets/cached_dev_mlm_model_uncased_tech_line_by_line_512\n",
      "07/15/2021 17:34:51 - INFO - __main__ -   ***** Running evaluation 4125 *****\n",
      "07/15/2021 17:34:51 - INFO - __main__ -     Num examples = 94\n",
      "07/15/2021 17:34:51 - INFO - __main__ -     Batch size = 16\n"
     ]
    },
    {
     "data": {
      "application/vnd.jupyter.widget-view+json": {
       "model_id": "85d8be9fca0a4c0783f60425c0db14e4",
       "version_major": 2,
       "version_minor": 0
      },
      "text/plain": [
       "Evaluating:   0%|          | 0/6 [00:00<?, ?it/s]"
      ]
     },
     "metadata": {},
     "output_type": "display_data"
    },
    {
     "name": "stderr",
     "output_type": "stream",
     "text": [
      "07/15/2021 17:34:56 - INFO - __main__ -   ***** Eval results 4125 *****\n",
      "07/15/2021 17:34:56 - INFO - __main__ -   f1 = 0.6555891238670696\n",
      "07/15/2021 17:34:56 - INFO - __main__ -   loss = 932.022450764974\n",
      "07/15/2021 17:34:56 - INFO - __main__ -   report =                precision    recall  f1-score   support\n",
      "\n",
      "        POWER    0.62937   0.55556   0.59016       162\n",
      "         TECH    0.74592   0.70640   0.72562       453\n",
      "          SAP    0.05556   0.07143   0.06250        14\n",
      "         FUNC    0.29412   0.32258   0.30769        31\n",
      "QUALIFICATION    0.59091   0.72222   0.65000        18\n",
      "\n",
      "    micro avg    0.67183   0.64012   0.65559       678\n",
      "    macro avg    0.67904   0.64012   0.65845       678\n",
      "\n",
      "07/15/2021 17:34:56 - INFO - __main__ -   tech_f1 = 0.72562358276644\n",
      "07/15/2021 17:35:40 - INFO - __main__ -   Loading features from cached file ./datasets/cached_dev_mlm_model_uncased_tech_line_by_line_512\n",
      "07/15/2021 17:35:40 - INFO - __main__ -   ***** Running evaluation 4150 *****\n",
      "07/15/2021 17:35:40 - INFO - __main__ -     Num examples = 94\n",
      "07/15/2021 17:35:40 - INFO - __main__ -     Batch size = 16\n"
     ]
    },
    {
     "data": {
      "application/vnd.jupyter.widget-view+json": {
       "model_id": "ea091de86c8342c0bd8cda470b3af682",
       "version_major": 2,
       "version_minor": 0
      },
      "text/plain": [
       "Evaluating:   0%|          | 0/6 [00:00<?, ?it/s]"
      ]
     },
     "metadata": {},
     "output_type": "display_data"
    },
    {
     "name": "stderr",
     "output_type": "stream",
     "text": [
      "07/15/2021 17:35:46 - INFO - __main__ -   ***** Eval results 4150 *****\n",
      "07/15/2021 17:35:46 - INFO - __main__ -   f1 = 0.6580742987111448\n",
      "07/15/2021 17:35:46 - INFO - __main__ -   loss = 936.3517303466797\n",
      "07/15/2021 17:35:46 - INFO - __main__ -   report =                precision    recall  f1-score   support\n",
      "\n",
      "        POWER    0.62937   0.55556   0.59016       162\n",
      "         TECH    0.75117   0.70640   0.72810       453\n",
      "          SAP    0.06250   0.07143   0.06667        14\n",
      "         FUNC    0.29412   0.32258   0.30769        31\n",
      "QUALIFICATION    0.59091   0.72222   0.65000        18\n",
      "\n",
      "    micro avg    0.67707   0.64012   0.65807       678\n",
      "    macro avg    0.68270   0.64012   0.66019       678\n",
      "\n",
      "07/15/2021 17:35:46 - INFO - __main__ -   tech_f1 = 0.7281001137656428\n"
     ]
    },
    {
     "data": {
      "application/vnd.jupyter.widget-view+json": {
       "model_id": "0eb7d34b6abe4a9f9e7e2211d16049cd",
       "version_major": 2,
       "version_minor": 0
      },
      "text/plain": [
       "Iteration:   0%|          | 0/50 [00:00<?, ?it/s]"
      ]
     },
     "metadata": {},
     "output_type": "display_data"
    },
    {
     "name": "stderr",
     "output_type": "stream",
     "text": [
      "07/15/2021 17:36:31 - INFO - __main__ -   Loading features from cached file ./datasets/cached_dev_mlm_model_uncased_tech_line_by_line_512\n",
      "07/15/2021 17:36:31 - INFO - __main__ -   ***** Running evaluation 4175 *****\n",
      "07/15/2021 17:36:31 - INFO - __main__ -     Num examples = 94\n",
      "07/15/2021 17:36:31 - INFO - __main__ -     Batch size = 16\n"
     ]
    },
    {
     "data": {
      "application/vnd.jupyter.widget-view+json": {
       "model_id": "4bb52a91d04f49b78339626873b55c5f",
       "version_major": 2,
       "version_minor": 0
      },
      "text/plain": [
       "Evaluating:   0%|          | 0/6 [00:00<?, ?it/s]"
      ]
     },
     "metadata": {},
     "output_type": "display_data"
    },
    {
     "name": "stderr",
     "output_type": "stream",
     "text": [
      "07/15/2021 17:36:36 - INFO - __main__ -   ***** Eval results 4175 *****\n",
      "07/15/2021 17:36:36 - INFO - __main__ -   f1 = 0.6541916167664671\n",
      "07/15/2021 17:36:36 - INFO - __main__ -   loss = 945.1111806233724\n",
      "07/15/2021 17:36:36 - INFO - __main__ -   report =                precision    recall  f1-score   support\n",
      "\n",
      "        POWER    0.63194   0.56173   0.59477       162\n",
      "         TECH    0.73684   0.71082   0.72360       453\n",
      "          SAP    0.05882   0.07143   0.06452        14\n",
      "         FUNC    0.26316   0.32258   0.28986        31\n",
      "QUALIFICATION    0.59091   0.72222   0.65000        18\n",
      "\n",
      "    micro avg    0.66413   0.64454   0.65419       678\n",
      "    macro avg    0.67225   0.64454   0.65742       678\n",
      "\n",
      "07/15/2021 17:36:36 - INFO - __main__ -   tech_f1 = 0.7235955056179775\n",
      "07/15/2021 17:37:20 - INFO - __main__ -   Loading features from cached file ./datasets/cached_dev_mlm_model_uncased_tech_line_by_line_512\n",
      "07/15/2021 17:37:20 - INFO - __main__ -   ***** Running evaluation 4200 *****\n",
      "07/15/2021 17:37:20 - INFO - __main__ -     Num examples = 94\n",
      "07/15/2021 17:37:20 - INFO - __main__ -     Batch size = 16\n"
     ]
    },
    {
     "data": {
      "application/vnd.jupyter.widget-view+json": {
       "model_id": "926f5cf6966a45399235e9c3d9050416",
       "version_major": 2,
       "version_minor": 0
      },
      "text/plain": [
       "Evaluating:   0%|          | 0/6 [00:00<?, ?it/s]"
      ]
     },
     "metadata": {},
     "output_type": "display_data"
    },
    {
     "name": "stderr",
     "output_type": "stream",
     "text": [
      "07/15/2021 17:37:26 - INFO - __main__ -   ***** Eval results 4200 *****\n",
      "07/15/2021 17:37:26 - INFO - __main__ -   f1 = 0.6480938416422287\n",
      "07/15/2021 17:37:26 - INFO - __main__ -   loss = 1004.5274658203125\n",
      "07/15/2021 17:37:26 - INFO - __main__ -   report =                precision    recall  f1-score   support\n",
      "\n",
      "        POWER    0.60526   0.56790   0.58599       162\n",
      "         TECH    0.72284   0.71965   0.72124       453\n",
      "          SAP    0.04545   0.07143   0.05556        14\n",
      "         FUNC    0.25641   0.32258   0.28571        31\n",
      "QUALIFICATION    0.59091   0.72222   0.65000        18\n",
      "\n",
      "    micro avg    0.64431   0.65192   0.64809       678\n",
      "    macro avg    0.65593   0.65192   0.65337       678\n",
      "\n",
      "07/15/2021 17:37:26 - INFO - __main__ -   tech_f1 = 0.7212389380530974\n"
     ]
    },
    {
     "data": {
      "application/vnd.jupyter.widget-view+json": {
       "model_id": "58ecdb5b605f4e7087f7824e2ea2765b",
       "version_major": 2,
       "version_minor": 0
      },
      "text/plain": [
       "Iteration:   0%|          | 0/50 [00:00<?, ?it/s]"
      ]
     },
     "metadata": {},
     "output_type": "display_data"
    },
    {
     "name": "stderr",
     "output_type": "stream",
     "text": [
      "07/15/2021 17:38:10 - INFO - __main__ -   Loading features from cached file ./datasets/cached_dev_mlm_model_uncased_tech_line_by_line_512\n",
      "07/15/2021 17:38:10 - INFO - __main__ -   ***** Running evaluation 4225 *****\n",
      "07/15/2021 17:38:10 - INFO - __main__ -     Num examples = 94\n",
      "07/15/2021 17:38:10 - INFO - __main__ -     Batch size = 16\n"
     ]
    },
    {
     "data": {
      "application/vnd.jupyter.widget-view+json": {
       "model_id": "9ae36bf34191457997a0ec40d137b1af",
       "version_major": 2,
       "version_minor": 0
      },
      "text/plain": [
       "Evaluating:   0%|          | 0/6 [00:00<?, ?it/s]"
      ]
     },
     "metadata": {},
     "output_type": "display_data"
    },
    {
     "name": "stderr",
     "output_type": "stream",
     "text": [
      "07/15/2021 17:38:16 - INFO - __main__ -   ***** Eval results 4225 *****\n",
      "07/15/2021 17:38:16 - INFO - __main__ -   f1 = 0.650073206442167\n",
      "07/15/2021 17:38:16 - INFO - __main__ -   loss = 1007.6722819010416\n",
      "07/15/2021 17:38:16 - INFO - __main__ -   report =                precision    recall  f1-score   support\n",
      "\n",
      "        POWER    0.62585   0.56790   0.59547       162\n",
      "         TECH    0.71616   0.72406   0.72009       453\n",
      "          SAP    0.04348   0.07143   0.05405        14\n",
      "         FUNC    0.26316   0.32258   0.28986        31\n",
      "QUALIFICATION    0.59091   0.72222   0.65000        18\n",
      "\n",
      "    micro avg    0.64535   0.65487   0.65007       678\n",
      "    macro avg    0.65665   0.65487   0.65503       678\n",
      "\n",
      "07/15/2021 17:38:16 - INFO - __main__ -   tech_f1 = 0.7200878155872668\n",
      "07/15/2021 17:39:01 - INFO - __main__ -   Loading features from cached file ./datasets/cached_dev_mlm_model_uncased_tech_line_by_line_512\n",
      "07/15/2021 17:39:01 - INFO - __main__ -   ***** Running evaluation 4250 *****\n",
      "07/15/2021 17:39:01 - INFO - __main__ -     Num examples = 94\n",
      "07/15/2021 17:39:01 - INFO - __main__ -     Batch size = 16\n"
     ]
    },
    {
     "data": {
      "application/vnd.jupyter.widget-view+json": {
       "model_id": "3f8b71f269f84776a476ebcbbc2f35ce",
       "version_major": 2,
       "version_minor": 0
      },
      "text/plain": [
       "Evaluating:   0%|          | 0/6 [00:00<?, ?it/s]"
      ]
     },
     "metadata": {},
     "output_type": "display_data"
    },
    {
     "name": "stderr",
     "output_type": "stream",
     "text": [
      "07/15/2021 17:39:06 - INFO - __main__ -   ***** Eval results 4250 *****\n",
      "07/15/2021 17:39:06 - INFO - __main__ -   f1 = 0.6581899775617054\n",
      "07/15/2021 17:39:06 - INFO - __main__ -   loss = 948.3341013590494\n",
      "07/15/2021 17:39:06 - INFO - __main__ -   report =                precision    recall  f1-score   support\n",
      "\n",
      "        POWER    0.66667   0.55556   0.60606       162\n",
      "         TECH    0.72768   0.71965   0.72364       453\n",
      "          SAP    0.05000   0.07143   0.05882        14\n",
      "         FUNC    0.29412   0.32258   0.30769        31\n",
      "QUALIFICATION    0.59091   0.72222   0.65000        18\n",
      "\n",
      "    micro avg    0.66768   0.64897   0.65819       678\n",
      "    macro avg    0.67565   0.64897   0.66085       678\n",
      "\n",
      "07/15/2021 17:39:06 - INFO - __main__ -   tech_f1 = 0.7236403995560489\n"
     ]
    },
    {
     "data": {
      "application/vnd.jupyter.widget-view+json": {
       "model_id": "072d576e1ef7472791356302fae4fa4f",
       "version_major": 2,
       "version_minor": 0
      },
      "text/plain": [
       "Iteration:   0%|          | 0/50 [00:00<?, ?it/s]"
      ]
     },
     "metadata": {},
     "output_type": "display_data"
    },
    {
     "name": "stderr",
     "output_type": "stream",
     "text": [
      "07/15/2021 17:39:51 - INFO - __main__ -   Loading features from cached file ./datasets/cached_dev_mlm_model_uncased_tech_line_by_line_512\n",
      "07/15/2021 17:39:51 - INFO - __main__ -   ***** Running evaluation 4275 *****\n",
      "07/15/2021 17:39:51 - INFO - __main__ -     Num examples = 94\n",
      "07/15/2021 17:39:51 - INFO - __main__ -     Batch size = 16\n"
     ]
    },
    {
     "data": {
      "application/vnd.jupyter.widget-view+json": {
       "model_id": "b5ebefc776234b76a2aff0f465e6c026",
       "version_major": 2,
       "version_minor": 0
      },
      "text/plain": [
       "Evaluating:   0%|          | 0/6 [00:00<?, ?it/s]"
      ]
     },
     "metadata": {},
     "output_type": "display_data"
    },
    {
     "name": "stderr",
     "output_type": "stream",
     "text": [
      "07/15/2021 17:39:57 - INFO - __main__ -   ***** Eval results 4275 *****\n",
      "07/15/2021 17:39:57 - INFO - __main__ -   f1 = 0.6620795107033638\n",
      "07/15/2021 17:39:57 - INFO - __main__ -   loss = 931.0315500895182\n",
      "07/15/2021 17:39:57 - INFO - __main__ -   report =                precision    recall  f1-score   support\n",
      "\n",
      "        POWER    0.68182   0.55556   0.61224       162\n",
      "         TECH    0.74246   0.70640   0.72398       453\n",
      "          SAP    0.07143   0.07143   0.07143        14\n",
      "         FUNC    0.29032   0.29032   0.29032        31\n",
      "QUALIFICATION    0.59091   0.72222   0.65000        18\n",
      "\n",
      "    micro avg    0.68730   0.63864   0.66208       678\n",
      "    macro avg    0.68942   0.63864   0.66202       678\n",
      "\n",
      "07/15/2021 17:39:57 - INFO - __main__ -   tech_f1 = 0.7239819004524888\n",
      "07/15/2021 17:40:41 - INFO - __main__ -   Loading features from cached file ./datasets/cached_dev_mlm_model_uncased_tech_line_by_line_512\n",
      "07/15/2021 17:40:41 - INFO - __main__ -   ***** Running evaluation 4300 *****\n",
      "07/15/2021 17:40:41 - INFO - __main__ -     Num examples = 94\n",
      "07/15/2021 17:40:41 - INFO - __main__ -     Batch size = 16\n"
     ]
    },
    {
     "data": {
      "application/vnd.jupyter.widget-view+json": {
       "model_id": "61fbf45a5f8a4f0a8b467a9b1b63d020",
       "version_major": 2,
       "version_minor": 0
      },
      "text/plain": [
       "Evaluating:   0%|          | 0/6 [00:00<?, ?it/s]"
      ]
     },
     "metadata": {},
     "output_type": "display_data"
    },
    {
     "name": "stderr",
     "output_type": "stream",
     "text": [
      "07/15/2021 17:40:47 - INFO - __main__ -   ***** Eval results 4300 *****\n",
      "07/15/2021 17:40:47 - INFO - __main__ -   f1 = 0.6522710349962769\n",
      "07/15/2021 17:40:47 - INFO - __main__ -   loss = 967.4165191650391\n",
      "07/15/2021 17:40:47 - INFO - __main__ -   report =                precision    recall  f1-score   support\n",
      "\n",
      "        POWER    0.63194   0.56173   0.59477       162\n",
      "         TECH    0.72584   0.71302   0.71938       453\n",
      "          SAP    0.05556   0.07143   0.06250        14\n",
      "         FUNC    0.27778   0.32258   0.29851        31\n",
      "QUALIFICATION    0.59091   0.72222   0.65000        18\n",
      "\n",
      "    micro avg    0.65865   0.64602   0.65227       678\n",
      "    macro avg    0.66550   0.64602   0.65495       678\n",
      "\n",
      "07/15/2021 17:40:47 - INFO - __main__ -   tech_f1 = 0.7193763919821826\n"
     ]
    },
    {
     "data": {
      "application/vnd.jupyter.widget-view+json": {
       "model_id": "7965b160a2074a26982232f948704312",
       "version_major": 2,
       "version_minor": 0
      },
      "text/plain": [
       "Iteration:   0%|          | 0/50 [00:00<?, ?it/s]"
      ]
     },
     "metadata": {},
     "output_type": "display_data"
    },
    {
     "name": "stderr",
     "output_type": "stream",
     "text": [
      "07/15/2021 17:41:31 - INFO - __main__ -   Loading features from cached file ./datasets/cached_dev_mlm_model_uncased_tech_line_by_line_512\n",
      "07/15/2021 17:41:31 - INFO - __main__ -   ***** Running evaluation 4325 *****\n",
      "07/15/2021 17:41:31 - INFO - __main__ -     Num examples = 94\n",
      "07/15/2021 17:41:31 - INFO - __main__ -     Batch size = 16\n"
     ]
    },
    {
     "data": {
      "application/vnd.jupyter.widget-view+json": {
       "model_id": "74c3fa6475744b08810ef2ebddb45ef1",
       "version_major": 2,
       "version_minor": 0
      },
      "text/plain": [
       "Evaluating:   0%|          | 0/6 [00:00<?, ?it/s]"
      ]
     },
     "metadata": {},
     "output_type": "display_data"
    },
    {
     "name": "stderr",
     "output_type": "stream",
     "text": [
      "07/15/2021 17:41:37 - INFO - __main__ -   ***** Eval results 4325 *****\n",
      "07/15/2021 17:41:37 - INFO - __main__ -   f1 = 0.6488095238095237\n",
      "07/15/2021 17:41:37 - INFO - __main__ -   loss = 962.8878529866537\n",
      "07/15/2021 17:41:37 - INFO - __main__ -   report =                precision    recall  f1-score   support\n",
      "\n",
      "        POWER    0.59603   0.55556   0.57508       162\n",
      "         TECH    0.73243   0.71302   0.72260       453\n",
      "          SAP    0.06667   0.07143   0.06897        14\n",
      "         FUNC    0.24324   0.29032   0.26471        31\n",
      "QUALIFICATION    0.59091   0.72222   0.65000        18\n",
      "\n",
      "    micro avg    0.65465   0.64307   0.64881       678\n",
      "    macro avg    0.65996   0.64307   0.65099       678\n",
      "\n",
      "07/15/2021 17:41:37 - INFO - __main__ -   tech_f1 = 0.7225950782997763\n",
      "07/15/2021 17:42:22 - INFO - __main__ -   Loading features from cached file ./datasets/cached_dev_mlm_model_uncased_tech_line_by_line_512\n",
      "07/15/2021 17:42:22 - INFO - __main__ -   ***** Running evaluation 4350 *****\n",
      "07/15/2021 17:42:22 - INFO - __main__ -     Num examples = 94\n",
      "07/15/2021 17:42:22 - INFO - __main__ -     Batch size = 16\n"
     ]
    },
    {
     "data": {
      "application/vnd.jupyter.widget-view+json": {
       "model_id": "a19d9839ca024dbd9168273c33b7873a",
       "version_major": 2,
       "version_minor": 0
      },
      "text/plain": [
       "Evaluating:   0%|          | 0/6 [00:00<?, ?it/s]"
      ]
     },
     "metadata": {},
     "output_type": "display_data"
    },
    {
     "name": "stderr",
     "output_type": "stream",
     "text": [
      "07/15/2021 17:42:27 - INFO - __main__ -   ***** Eval results 4350 *****\n",
      "07/15/2021 17:42:27 - INFO - __main__ -   f1 = 0.6473645137342242\n",
      "07/15/2021 17:42:27 - INFO - __main__ -   loss = 969.3851521809896\n",
      "07/15/2021 17:42:27 - INFO - __main__ -   report =                precision    recall  f1-score   support\n",
      "\n",
      "        POWER    0.60131   0.56790   0.58413       162\n",
      "         TECH    0.72789   0.70861   0.71812       453\n",
      "          SAP    0.06667   0.07143   0.06897        14\n",
      "         FUNC    0.23684   0.29032   0.26087        31\n",
      "QUALIFICATION    0.59091   0.72222   0.65000        18\n",
      "\n",
      "    micro avg    0.65172   0.64307   0.64736       678\n",
      "    macro avg    0.65790   0.64307   0.64998       678\n",
      "\n",
      "07/15/2021 17:42:27 - INFO - __main__ -   tech_f1 = 0.7181208053691275\n"
     ]
    },
    {
     "data": {
      "application/vnd.jupyter.widget-view+json": {
       "model_id": "68d4219207c1405fbf21b157ef81903b",
       "version_major": 2,
       "version_minor": 0
      },
      "text/plain": [
       "Iteration:   0%|          | 0/50 [00:00<?, ?it/s]"
      ]
     },
     "metadata": {},
     "output_type": "display_data"
    },
    {
     "name": "stderr",
     "output_type": "stream",
     "text": [
      "07/15/2021 17:43:13 - INFO - __main__ -   Loading features from cached file ./datasets/cached_dev_mlm_model_uncased_tech_line_by_line_512\n",
      "07/15/2021 17:43:13 - INFO - __main__ -   ***** Running evaluation 4375 *****\n",
      "07/15/2021 17:43:13 - INFO - __main__ -     Num examples = 94\n",
      "07/15/2021 17:43:13 - INFO - __main__ -     Batch size = 16\n"
     ]
    },
    {
     "data": {
      "application/vnd.jupyter.widget-view+json": {
       "model_id": "fba52406e1494cf1ba312dd9ab07be83",
       "version_major": 2,
       "version_minor": 0
      },
      "text/plain": [
       "Evaluating:   0%|          | 0/6 [00:00<?, ?it/s]"
      ]
     },
     "metadata": {},
     "output_type": "display_data"
    },
    {
     "name": "stderr",
     "output_type": "stream",
     "text": [
      "07/15/2021 17:43:19 - INFO - __main__ -   ***** Eval results 4375 *****\n",
      "07/15/2021 17:43:19 - INFO - __main__ -   f1 = 0.6506024096385543\n",
      "07/15/2021 17:43:19 - INFO - __main__ -   loss = 961.9197540283203\n",
      "07/15/2021 17:43:19 - INFO - __main__ -   report =                precision    recall  f1-score   support\n",
      "\n",
      "        POWER    0.63380   0.55556   0.59211       162\n",
      "         TECH    0.73165   0.70419   0.71766       453\n",
      "          SAP    0.06667   0.07143   0.06897        14\n",
      "         FUNC    0.25714   0.29032   0.27273        31\n",
      "QUALIFICATION    0.59091   0.72222   0.65000        18\n",
      "\n",
      "    micro avg    0.66462   0.63717   0.65060       678\n",
      "    macro avg    0.66911   0.63717   0.65213       678\n",
      "\n",
      "07/15/2021 17:43:19 - INFO - __main__ -   tech_f1 = 0.7176602924634421\n",
      "07/15/2021 17:44:02 - INFO - __main__ -   Loading features from cached file ./datasets/cached_dev_mlm_model_uncased_tech_line_by_line_512\n",
      "07/15/2021 17:44:02 - INFO - __main__ -   ***** Running evaluation 4400 *****\n",
      "07/15/2021 17:44:02 - INFO - __main__ -     Num examples = 94\n",
      "07/15/2021 17:44:02 - INFO - __main__ -     Batch size = 16\n"
     ]
    },
    {
     "data": {
      "application/vnd.jupyter.widget-view+json": {
       "model_id": "85aebb51c911420d8efc6e2a26549393",
       "version_major": 2,
       "version_minor": 0
      },
      "text/plain": [
       "Evaluating:   0%|          | 0/6 [00:00<?, ?it/s]"
      ]
     },
     "metadata": {},
     "output_type": "display_data"
    },
    {
     "name": "stderr",
     "output_type": "stream",
     "text": [
      "07/15/2021 17:44:07 - INFO - __main__ -   ***** Eval results 4400 *****\n",
      "07/15/2021 17:44:07 - INFO - __main__ -   f1 = 0.6517189835575485\n",
      "07/15/2021 17:44:07 - INFO - __main__ -   loss = 972.2090657552084\n",
      "07/15/2021 17:44:07 - INFO - __main__ -   report =                precision    recall  f1-score   support\n",
      "\n",
      "        POWER    0.63194   0.56173   0.59477       162\n",
      "         TECH    0.72851   0.71082   0.71955       453\n",
      "          SAP    0.07143   0.07143   0.07143        14\n",
      "         FUNC    0.23684   0.29032   0.26087        31\n",
      "QUALIFICATION    0.59091   0.72222   0.65000        18\n",
      "\n",
      "    micro avg    0.66061   0.64307   0.65172       678\n",
      "    macro avg    0.66573   0.64307   0.65354       678\n",
      "\n",
      "07/15/2021 17:44:07 - INFO - __main__ -   tech_f1 = 0.7195530726256982\n"
     ]
    },
    {
     "data": {
      "application/vnd.jupyter.widget-view+json": {
       "model_id": "b1b01a8197974c52aa6f5335deb12054",
       "version_major": 2,
       "version_minor": 0
      },
      "text/plain": [
       "Iteration:   0%|          | 0/50 [00:00<?, ?it/s]"
      ]
     },
     "metadata": {},
     "output_type": "display_data"
    },
    {
     "name": "stderr",
     "output_type": "stream",
     "text": [
      "07/15/2021 17:44:52 - INFO - __main__ -   Loading features from cached file ./datasets/cached_dev_mlm_model_uncased_tech_line_by_line_512\n",
      "07/15/2021 17:44:52 - INFO - __main__ -   ***** Running evaluation 4425 *****\n",
      "07/15/2021 17:44:52 - INFO - __main__ -     Num examples = 94\n",
      "07/15/2021 17:44:52 - INFO - __main__ -     Batch size = 16\n"
     ]
    },
    {
     "data": {
      "application/vnd.jupyter.widget-view+json": {
       "model_id": "739e03281ecd4481a24375b2e0e68e99",
       "version_major": 2,
       "version_minor": 0
      },
      "text/plain": [
       "Evaluating:   0%|          | 0/6 [00:00<?, ?it/s]"
      ]
     },
     "metadata": {},
     "output_type": "display_data"
    },
    {
     "name": "stderr",
     "output_type": "stream",
     "text": [
      "07/15/2021 17:44:58 - INFO - __main__ -   ***** Eval results 4425 *****\n",
      "07/15/2021 17:44:58 - INFO - __main__ -   f1 = 0.6543026706231454\n",
      "07/15/2021 17:44:58 - INFO - __main__ -   loss = 995.6026255289713\n",
      "07/15/2021 17:44:58 - INFO - __main__ -   report =                precision    recall  f1-score   support\n",
      "\n",
      "        POWER    0.62162   0.56790   0.59355       162\n",
      "         TECH    0.72768   0.71965   0.72364       453\n",
      "          SAP    0.07143   0.07143   0.07143        14\n",
      "         FUNC    0.23684   0.29032   0.26087        31\n",
      "QUALIFICATION    0.59091   0.72222   0.65000        18\n",
      "\n",
      "    micro avg    0.65821   0.65044   0.65430       678\n",
      "    macro avg    0.66271   0.65044   0.65597       678\n",
      "\n",
      "07/15/2021 17:44:58 - INFO - __main__ -   tech_f1 = 0.7236403995560489\n",
      "07/15/2021 17:45:42 - INFO - __main__ -   Loading features from cached file ./datasets/cached_dev_mlm_model_uncased_tech_line_by_line_512\n",
      "07/15/2021 17:45:42 - INFO - __main__ -   ***** Running evaluation 4450 *****\n",
      "07/15/2021 17:45:42 - INFO - __main__ -     Num examples = 94\n",
      "07/15/2021 17:45:42 - INFO - __main__ -     Batch size = 16\n"
     ]
    },
    {
     "data": {
      "application/vnd.jupyter.widget-view+json": {
       "model_id": "848e40b0a81f4c4c9b19a8e2385141cc",
       "version_major": 2,
       "version_minor": 0
      },
      "text/plain": [
       "Evaluating:   0%|          | 0/6 [00:00<?, ?it/s]"
      ]
     },
     "metadata": {},
     "output_type": "display_data"
    },
    {
     "name": "stderr",
     "output_type": "stream",
     "text": [
      "07/15/2021 17:45:47 - INFO - __main__ -   ***** Eval results 4450 *****\n",
      "07/15/2021 17:45:47 - INFO - __main__ -   f1 = 0.656649135987979\n",
      "07/15/2021 17:45:47 - INFO - __main__ -   loss = 968.6560770670573\n",
      "07/15/2021 17:45:47 - INFO - __main__ -   report =                precision    recall  f1-score   support\n",
      "\n",
      "        POWER    0.64085   0.56173   0.59868       162\n",
      "         TECH    0.73576   0.71302   0.72422       453\n",
      "          SAP    0.07692   0.07143   0.07407        14\n",
      "         FUNC    0.24324   0.29032   0.26471        31\n",
      "QUALIFICATION    0.59091   0.72222   0.65000        18\n",
      "\n",
      "    micro avg    0.66922   0.64454   0.65665       678\n",
      "    macro avg    0.67311   0.64454   0.65782       678\n",
      "\n",
      "07/15/2021 17:45:47 - INFO - __main__ -   tech_f1 = 0.7242152466367713\n"
     ]
    },
    {
     "data": {
      "application/vnd.jupyter.widget-view+json": {
       "model_id": "060d83414397417ea3d43363e60040aa",
       "version_major": 2,
       "version_minor": 0
      },
      "text/plain": [
       "Iteration:   0%|          | 0/50 [00:00<?, ?it/s]"
      ]
     },
     "metadata": {},
     "output_type": "display_data"
    },
    {
     "name": "stderr",
     "output_type": "stream",
     "text": [
      "07/15/2021 17:46:33 - INFO - __main__ -   Loading features from cached file ./datasets/cached_dev_mlm_model_uncased_tech_line_by_line_512\n",
      "07/15/2021 17:46:33 - INFO - __main__ -   ***** Running evaluation 4475 *****\n",
      "07/15/2021 17:46:33 - INFO - __main__ -     Num examples = 94\n",
      "07/15/2021 17:46:33 - INFO - __main__ -     Batch size = 16\n"
     ]
    },
    {
     "data": {
      "application/vnd.jupyter.widget-view+json": {
       "model_id": "5d8267f9d73d4c01ae8997922d2b53ef",
       "version_major": 2,
       "version_minor": 0
      },
      "text/plain": [
       "Evaluating:   0%|          | 0/6 [00:00<?, ?it/s]"
      ]
     },
     "metadata": {},
     "output_type": "display_data"
    },
    {
     "name": "stderr",
     "output_type": "stream",
     "text": [
      "07/15/2021 17:46:39 - INFO - __main__ -   ***** Eval results 4475 *****\n",
      "07/15/2021 17:46:39 - INFO - __main__ -   f1 = 0.6539868324798829\n",
      "07/15/2021 17:46:39 - INFO - __main__ -   loss = 1030.0215250651042\n",
      "07/15/2021 17:46:39 - INFO - __main__ -   report =                precision    recall  f1-score   support\n",
      "\n",
      "        POWER    0.60645   0.58025   0.59306       162\n",
      "         TECH    0.72368   0.72848   0.72607       453\n",
      "          SAP    0.05882   0.07143   0.06452        14\n",
      "         FUNC    0.23077   0.29032   0.25714        31\n",
      "QUALIFICATION    0.59091   0.72222   0.65000        18\n",
      "\n",
      "    micro avg    0.64877   0.65929   0.65399       678\n",
      "    macro avg    0.65588   0.65929   0.65717       678\n",
      "\n",
      "07/15/2021 17:46:39 - INFO - __main__ -   tech_f1 = 0.7260726072607262\n",
      "07/15/2021 17:47:22 - INFO - __main__ -   Loading features from cached file ./datasets/cached_dev_mlm_model_uncased_tech_line_by_line_512\n",
      "07/15/2021 17:47:22 - INFO - __main__ -   ***** Running evaluation 4500 *****\n",
      "07/15/2021 17:47:22 - INFO - __main__ -     Num examples = 94\n",
      "07/15/2021 17:47:22 - INFO - __main__ -     Batch size = 16\n"
     ]
    },
    {
     "data": {
      "application/vnd.jupyter.widget-view+json": {
       "model_id": "51cb419e77c94c1b8058884414ac4e0d",
       "version_major": 2,
       "version_minor": 0
      },
      "text/plain": [
       "Evaluating:   0%|          | 0/6 [00:00<?, ?it/s]"
      ]
     },
     "metadata": {},
     "output_type": "display_data"
    },
    {
     "name": "stderr",
     "output_type": "stream",
     "text": [
      "07/15/2021 17:47:28 - INFO - __main__ -   ***** Eval results 4500 *****\n",
      "07/15/2021 17:47:28 - INFO - __main__ -   f1 = 0.6552748885586924\n",
      "07/15/2021 17:47:28 - INFO - __main__ -   loss = 1006.0879414876302\n",
      "07/15/2021 17:47:28 - INFO - __main__ -   report =                precision    recall  f1-score   support\n",
      "\n",
      "        POWER    0.62838   0.57407   0.60000       162\n",
      "         TECH    0.72870   0.71744   0.72303       453\n",
      "          SAP    0.06667   0.07143   0.06897        14\n",
      "         FUNC    0.24324   0.29032   0.26471        31\n",
      "QUALIFICATION    0.59091   0.72222   0.65000        18\n",
      "\n",
      "    micro avg    0.66018   0.65044   0.65527       678\n",
      "    macro avg    0.66520   0.65044   0.65723       678\n",
      "\n",
      "07/15/2021 17:47:28 - INFO - __main__ -   tech_f1 = 0.7230255839822024\n"
     ]
    },
    {
     "data": {
      "application/vnd.jupyter.widget-view+json": {
       "model_id": "9b39fed1490041edb02543c1c3af72ee",
       "version_major": 2,
       "version_minor": 0
      },
      "text/plain": [
       "Iteration:   0%|          | 0/50 [00:00<?, ?it/s]"
      ]
     },
     "metadata": {},
     "output_type": "display_data"
    },
    {
     "name": "stderr",
     "output_type": "stream",
     "text": [
      "07/15/2021 17:48:13 - INFO - __main__ -   Loading features from cached file ./datasets/cached_dev_mlm_model_uncased_tech_line_by_line_512\n",
      "07/15/2021 17:48:13 - INFO - __main__ -   ***** Running evaluation 4525 *****\n",
      "07/15/2021 17:48:13 - INFO - __main__ -     Num examples = 94\n",
      "07/15/2021 17:48:13 - INFO - __main__ -     Batch size = 16\n"
     ]
    },
    {
     "data": {
      "application/vnd.jupyter.widget-view+json": {
       "model_id": "a76759a7c7e942a9aa89d3edb22e7fa9",
       "version_major": 2,
       "version_minor": 0
      },
      "text/plain": [
       "Evaluating:   0%|          | 0/6 [00:00<?, ?it/s]"
      ]
     },
     "metadata": {},
     "output_type": "display_data"
    },
    {
     "name": "stderr",
     "output_type": "stream",
     "text": [
      "07/15/2021 17:48:19 - INFO - __main__ -   ***** Eval results 4525 *****\n",
      "07/15/2021 17:48:19 - INFO - __main__ -   f1 = 0.6471877282688093\n",
      "07/15/2021 17:48:19 - INFO - __main__ -   loss = 1041.5228271484375\n",
      "07/15/2021 17:48:19 - INFO - __main__ -   report =                precision    recall  f1-score   support\n",
      "\n",
      "        POWER    0.58974   0.56790   0.57862       162\n",
      "         TECH    0.72088   0.72406   0.72247       453\n",
      "          SAP    0.05000   0.07143   0.05882        14\n",
      "         FUNC    0.23684   0.29032   0.26087        31\n",
      "QUALIFICATION    0.59091   0.72222   0.65000        18\n",
      "\n",
      "    micro avg    0.64110   0.65339   0.64719       678\n",
      "    macro avg    0.65011   0.65339   0.65136       678\n",
      "\n",
      "07/15/2021 17:48:19 - INFO - __main__ -   tech_f1 = 0.722466960352423\n",
      "07/15/2021 17:49:02 - INFO - __main__ -   Loading features from cached file ./datasets/cached_dev_mlm_model_uncased_tech_line_by_line_512\n",
      "07/15/2021 17:49:02 - INFO - __main__ -   ***** Running evaluation 4550 *****\n",
      "07/15/2021 17:49:02 - INFO - __main__ -     Num examples = 94\n",
      "07/15/2021 17:49:02 - INFO - __main__ -     Batch size = 16\n"
     ]
    },
    {
     "data": {
      "application/vnd.jupyter.widget-view+json": {
       "model_id": "a53e5b82776c44ce928f10dabec6573b",
       "version_major": 2,
       "version_minor": 0
      },
      "text/plain": [
       "Evaluating:   0%|          | 0/6 [00:00<?, ?it/s]"
      ]
     },
     "metadata": {},
     "output_type": "display_data"
    },
    {
     "name": "stderr",
     "output_type": "stream",
     "text": [
      "07/15/2021 17:49:08 - INFO - __main__ -   ***** Eval results 4550 *****\n",
      "07/15/2021 17:49:08 - INFO - __main__ -   f1 = 0.6517857142857143\n",
      "07/15/2021 17:49:08 - INFO - __main__ -   loss = 1020.2061462402344\n",
      "07/15/2021 17:49:08 - INFO - __main__ -   report =                precision    recall  f1-score   support\n",
      "\n",
      "        POWER    0.61486   0.56173   0.58710       162\n",
      "         TECH    0.73138   0.71523   0.72321       453\n",
      "          SAP    0.06250   0.07143   0.06667        14\n",
      "         FUNC    0.24324   0.29032   0.26471        31\n",
      "QUALIFICATION    0.59091   0.72222   0.65000        18\n",
      "\n",
      "    micro avg    0.65766   0.64602   0.65179       678\n",
      "    macro avg    0.66368   0.64602   0.65423       678\n",
      "\n",
      "07/15/2021 17:49:08 - INFO - __main__ -   tech_f1 = 0.7232142857142857\n"
     ]
    },
    {
     "data": {
      "application/vnd.jupyter.widget-view+json": {
       "model_id": "7650f480dcb048f2ad68bed9a5767c8a",
       "version_major": 2,
       "version_minor": 0
      },
      "text/plain": [
       "Iteration:   0%|          | 0/50 [00:00<?, ?it/s]"
      ]
     },
     "metadata": {},
     "output_type": "display_data"
    },
    {
     "name": "stderr",
     "output_type": "stream",
     "text": [
      "07/15/2021 17:49:53 - INFO - __main__ -   Loading features from cached file ./datasets/cached_dev_mlm_model_uncased_tech_line_by_line_512\n",
      "07/15/2021 17:49:53 - INFO - __main__ -   ***** Running evaluation 4575 *****\n",
      "07/15/2021 17:49:53 - INFO - __main__ -     Num examples = 94\n",
      "07/15/2021 17:49:53 - INFO - __main__ -     Batch size = 16\n"
     ]
    },
    {
     "data": {
      "application/vnd.jupyter.widget-view+json": {
       "model_id": "5c91c1d1fefd4a1f929b1b2c2b398d0a",
       "version_major": 2,
       "version_minor": 0
      },
      "text/plain": [
       "Evaluating:   0%|          | 0/6 [00:00<?, ?it/s]"
      ]
     },
     "metadata": {},
     "output_type": "display_data"
    },
    {
     "name": "stderr",
     "output_type": "stream",
     "text": [
      "07/15/2021 17:49:59 - INFO - __main__ -   ***** Eval results 4575 *****\n",
      "07/15/2021 17:49:59 - INFO - __main__ -   f1 = 0.6541916167664671\n",
      "07/15/2021 17:49:59 - INFO - __main__ -   loss = 1009.2738850911459\n",
      "07/15/2021 17:49:59 - INFO - __main__ -   report =                precision    recall  f1-score   support\n",
      "\n",
      "        POWER    0.61905   0.56173   0.58900       162\n",
      "         TECH    0.73182   0.71082   0.72116       453\n",
      "          SAP    0.06667   0.07143   0.06897        14\n",
      "         FUNC    0.29412   0.32258   0.30769        31\n",
      "QUALIFICATION    0.59091   0.72222   0.65000        18\n",
      "\n",
      "    micro avg    0.66413   0.64454   0.65419       678\n",
      "    macro avg    0.66738   0.64454   0.65532       678\n",
      "\n",
      "07/15/2021 17:49:59 - INFO - __main__ -   tech_f1 = 0.7211646136618141\n",
      "07/15/2021 17:50:42 - INFO - __main__ -   Loading features from cached file ./datasets/cached_dev_mlm_model_uncased_tech_line_by_line_512\n",
      "07/15/2021 17:50:42 - INFO - __main__ -   ***** Running evaluation 4600 *****\n",
      "07/15/2021 17:50:42 - INFO - __main__ -     Num examples = 94\n",
      "07/15/2021 17:50:42 - INFO - __main__ -     Batch size = 16\n"
     ]
    },
    {
     "data": {
      "application/vnd.jupyter.widget-view+json": {
       "model_id": "f40ddc5069af48ffa26b7a10b729bb66",
       "version_major": 2,
       "version_minor": 0
      },
      "text/plain": [
       "Evaluating:   0%|          | 0/6 [00:00<?, ?it/s]"
      ]
     },
     "metadata": {},
     "output_type": "display_data"
    },
    {
     "name": "stderr",
     "output_type": "stream",
     "text": [
      "07/15/2021 17:50:48 - INFO - __main__ -   ***** Eval results 4600 *****\n",
      "07/15/2021 17:50:48 - INFO - __main__ -   f1 = 0.655223880597015\n",
      "07/15/2021 17:50:48 - INFO - __main__ -   loss = 1018.3235880533854\n",
      "07/15/2021 17:50:48 - INFO - __main__ -   report =                precision    recall  f1-score   support\n",
      "\n",
      "        POWER    0.62585   0.56790   0.59547       162\n",
      "         TECH    0.73077   0.71302   0.72179       453\n",
      "          SAP    0.06667   0.07143   0.06897        14\n",
      "         FUNC    0.27778   0.32258   0.29851        31\n",
      "QUALIFICATION    0.59091   0.72222   0.65000        18\n",
      "\n",
      "    micro avg    0.66314   0.64749   0.65522       678\n",
      "    macro avg    0.66756   0.64749   0.65687       678\n",
      "\n",
      "07/15/2021 17:50:48 - INFO - __main__ -   tech_f1 = 0.7217877094972067\n"
     ]
    },
    {
     "data": {
      "application/vnd.jupyter.widget-view+json": {
       "model_id": "f5d5191b54c34683a8c0e362333a95ff",
       "version_major": 2,
       "version_minor": 0
      },
      "text/plain": [
       "Iteration:   0%|          | 0/50 [00:00<?, ?it/s]"
      ]
     },
     "metadata": {},
     "output_type": "display_data"
    },
    {
     "name": "stderr",
     "output_type": "stream",
     "text": [
      "07/15/2021 17:51:33 - INFO - __main__ -   Loading features from cached file ./datasets/cached_dev_mlm_model_uncased_tech_line_by_line_512\n",
      "07/15/2021 17:51:33 - INFO - __main__ -   ***** Running evaluation 4625 *****\n",
      "07/15/2021 17:51:33 - INFO - __main__ -     Num examples = 94\n",
      "07/15/2021 17:51:33 - INFO - __main__ -     Batch size = 16\n"
     ]
    },
    {
     "data": {
      "application/vnd.jupyter.widget-view+json": {
       "model_id": "6704f3b46657441ba5ad261bfea9fa23",
       "version_major": 2,
       "version_minor": 0
      },
      "text/plain": [
       "Evaluating:   0%|          | 0/6 [00:00<?, ?it/s]"
      ]
     },
     "metadata": {},
     "output_type": "display_data"
    },
    {
     "name": "stderr",
     "output_type": "stream",
     "text": [
      "07/15/2021 17:51:39 - INFO - __main__ -   ***** Eval results 4625 *****\n",
      "07/15/2021 17:51:39 - INFO - __main__ -   f1 = 0.6541916167664671\n",
      "07/15/2021 17:51:39 - INFO - __main__ -   loss = 1013.4679463704427\n",
      "07/15/2021 17:51:39 - INFO - __main__ -   report =                precision    recall  f1-score   support\n",
      "\n",
      "        POWER    0.62585   0.56790   0.59547       162\n",
      "         TECH    0.73121   0.70861   0.71973       453\n",
      "          SAP    0.06667   0.07143   0.06897        14\n",
      "         FUNC    0.28571   0.32258   0.30303        31\n",
      "QUALIFICATION    0.59091   0.72222   0.65000        18\n",
      "\n",
      "    micro avg    0.66413   0.64454   0.65419       678\n",
      "    macro avg    0.66822   0.64454   0.65570       678\n",
      "\n",
      "07/15/2021 17:51:39 - INFO - __main__ -   tech_f1 = 0.7197309417040358\n",
      "07/15/2021 17:52:23 - INFO - __main__ -   Loading features from cached file ./datasets/cached_dev_mlm_model_uncased_tech_line_by_line_512\n",
      "07/15/2021 17:52:23 - INFO - __main__ -   ***** Running evaluation 4650 *****\n",
      "07/15/2021 17:52:23 - INFO - __main__ -     Num examples = 94\n",
      "07/15/2021 17:52:23 - INFO - __main__ -     Batch size = 16\n"
     ]
    },
    {
     "data": {
      "application/vnd.jupyter.widget-view+json": {
       "model_id": "aba3be2ae21b4595a396b5b8b3122fbc",
       "version_major": 2,
       "version_minor": 0
      },
      "text/plain": [
       "Evaluating:   0%|          | 0/6 [00:00<?, ?it/s]"
      ]
     },
     "metadata": {},
     "output_type": "display_data"
    },
    {
     "name": "stderr",
     "output_type": "stream",
     "text": [
      "07/15/2021 17:52:28 - INFO - __main__ -   ***** Eval results 4650 *****\n",
      "07/15/2021 17:52:28 - INFO - __main__ -   f1 = 0.655223880597015\n",
      "07/15/2021 17:52:28 - INFO - __main__ -   loss = 1029.3579508463542\n",
      "07/15/2021 17:52:28 - INFO - __main__ -   report =                precision    recall  f1-score   support\n",
      "\n",
      "        POWER    0.62162   0.56790   0.59355       162\n",
      "         TECH    0.72748   0.71302   0.72018       453\n",
      "          SAP    0.06667   0.07143   0.06897        14\n",
      "         FUNC    0.30303   0.32258   0.31250        31\n",
      "QUALIFICATION    0.59091   0.72222   0.65000        18\n",
      "\n",
      "    micro avg    0.66314   0.64749   0.65522       678\n",
      "    macro avg    0.66551   0.64749   0.65597       678\n",
      "\n",
      "07/15/2021 17:52:28 - INFO - __main__ -   tech_f1 = 0.7201783723522854\n"
     ]
    },
    {
     "data": {
      "application/vnd.jupyter.widget-view+json": {
       "model_id": "ad207bfc23774f4c9695b2ee0a8e3321",
       "version_major": 2,
       "version_minor": 0
      },
      "text/plain": [
       "Iteration:   0%|          | 0/50 [00:00<?, ?it/s]"
      ]
     },
     "metadata": {},
     "output_type": "display_data"
    },
    {
     "name": "stderr",
     "output_type": "stream",
     "text": [
      "07/15/2021 17:53:12 - INFO - __main__ -   Loading features from cached file ./datasets/cached_dev_mlm_model_uncased_tech_line_by_line_512\n",
      "07/15/2021 17:53:12 - INFO - __main__ -   ***** Running evaluation 4675 *****\n",
      "07/15/2021 17:53:12 - INFO - __main__ -     Num examples = 94\n",
      "07/15/2021 17:53:12 - INFO - __main__ -     Batch size = 16\n"
     ]
    },
    {
     "data": {
      "application/vnd.jupyter.widget-view+json": {
       "model_id": "a67a96d303b44b83a0be3b26303da81a",
       "version_major": 2,
       "version_minor": 0
      },
      "text/plain": [
       "Evaluating:   0%|          | 0/6 [00:00<?, ?it/s]"
      ]
     },
     "metadata": {},
     "output_type": "display_data"
    },
    {
     "name": "stderr",
     "output_type": "stream",
     "text": [
      "07/15/2021 17:53:18 - INFO - __main__ -   ***** Eval results 4675 *****\n",
      "07/15/2021 17:53:18 - INFO - __main__ -   f1 = 0.6537023186237846\n",
      "07/15/2021 17:53:18 - INFO - __main__ -   loss = 1020.5103352864584\n",
      "07/15/2021 17:53:18 - INFO - __main__ -   report =                precision    recall  f1-score   support\n",
      "\n",
      "        POWER    0.62759   0.56173   0.59283       162\n",
      "         TECH    0.72851   0.71082   0.71955       453\n",
      "          SAP    0.05882   0.07143   0.06452        14\n",
      "         FUNC    0.30303   0.32258   0.31250        31\n",
      "QUALIFICATION    0.59091   0.72222   0.65000        18\n",
      "\n",
      "    micro avg    0.66313   0.64454   0.65370       678\n",
      "    macro avg    0.66746   0.64454   0.65529       678\n",
      "\n",
      "07/15/2021 17:53:18 - INFO - __main__ -   tech_f1 = 0.7195530726256982\n",
      "07/15/2021 17:54:03 - INFO - __main__ -   Loading features from cached file ./datasets/cached_dev_mlm_model_uncased_tech_line_by_line_512\n",
      "07/15/2021 17:54:03 - INFO - __main__ -   ***** Running evaluation 4700 *****\n",
      "07/15/2021 17:54:03 - INFO - __main__ -     Num examples = 94\n",
      "07/15/2021 17:54:03 - INFO - __main__ -     Batch size = 16\n"
     ]
    },
    {
     "data": {
      "application/vnd.jupyter.widget-view+json": {
       "model_id": "bfdccb057da2452cb212d2a544aa9394",
       "version_major": 2,
       "version_minor": 0
      },
      "text/plain": [
       "Evaluating:   0%|          | 0/6 [00:00<?, ?it/s]"
      ]
     },
     "metadata": {},
     "output_type": "display_data"
    },
    {
     "name": "stderr",
     "output_type": "stream",
     "text": [
      "07/15/2021 17:54:09 - INFO - __main__ -   ***** Eval results 4700 *****\n",
      "07/15/2021 17:54:09 - INFO - __main__ -   f1 = 0.6571213262999246\n",
      "07/15/2021 17:54:09 - INFO - __main__ -   loss = 1000.9753926595052\n",
      "07/15/2021 17:54:09 - INFO - __main__ -   report =                precision    recall  f1-score   support\n",
      "\n",
      "        POWER    0.64085   0.56173   0.59868       162\n",
      "         TECH    0.73288   0.70861   0.72054       453\n",
      "          SAP    0.06250   0.07143   0.06667        14\n",
      "         FUNC    0.32258   0.32258   0.32258        31\n",
      "QUALIFICATION    0.59091   0.72222   0.65000        18\n",
      "\n",
      "    micro avg    0.67180   0.64307   0.65712       678\n",
      "    macro avg    0.67452   0.64307   0.65785       678\n",
      "\n",
      "07/15/2021 17:54:09 - INFO - __main__ -   tech_f1 = 0.7205387205387206\n"
     ]
    },
    {
     "data": {
      "application/vnd.jupyter.widget-view+json": {
       "model_id": "93ea3e8ce68d4e2abae98a442080deae",
       "version_major": 2,
       "version_minor": 0
      },
      "text/plain": [
       "Iteration:   0%|          | 0/50 [00:00<?, ?it/s]"
      ]
     },
     "metadata": {},
     "output_type": "display_data"
    },
    {
     "name": "stderr",
     "output_type": "stream",
     "text": [
      "07/15/2021 17:54:53 - INFO - __main__ -   Loading features from cached file ./datasets/cached_dev_mlm_model_uncased_tech_line_by_line_512\n",
      "07/15/2021 17:54:54 - INFO - __main__ -   ***** Running evaluation 4725 *****\n",
      "07/15/2021 17:54:54 - INFO - __main__ -     Num examples = 94\n",
      "07/15/2021 17:54:54 - INFO - __main__ -     Batch size = 16\n"
     ]
    },
    {
     "data": {
      "application/vnd.jupyter.widget-view+json": {
       "model_id": "0f1e41e5552a4481a75a1961f7193440",
       "version_major": 2,
       "version_minor": 0
      },
      "text/plain": [
       "Evaluating:   0%|          | 0/6 [00:00<?, ?it/s]"
      ]
     },
     "metadata": {},
     "output_type": "display_data"
    },
    {
     "name": "stderr",
     "output_type": "stream",
     "text": [
      "07/15/2021 17:54:59 - INFO - __main__ -   ***** Eval results 4725 *****\n",
      "07/15/2021 17:54:59 - INFO - __main__ -   f1 = 0.660564454614798\n",
      "07/15/2021 17:54:59 - INFO - __main__ -   loss = 983.7260335286459\n",
      "07/15/2021 17:54:59 - INFO - __main__ -   report =                precision    recall  f1-score   support\n",
      "\n",
      "        POWER    0.65000   0.56173   0.60265       162\n",
      "         TECH    0.74533   0.70419   0.72418       453\n",
      "          SAP    0.07692   0.07143   0.07407        14\n",
      "         FUNC    0.30000   0.29032   0.29508        31\n",
      "QUALIFICATION    0.59091   0.72222   0.65000        18\n",
      "\n",
      "    micro avg    0.68404   0.63864   0.66056       678\n",
      "    macro avg    0.68429   0.63864   0.66013       678\n",
      "\n",
      "07/15/2021 17:54:59 - INFO - __main__ -   tech_f1 = 0.7241770715096483\n",
      "07/15/2021 17:55:43 - INFO - __main__ -   Loading features from cached file ./datasets/cached_dev_mlm_model_uncased_tech_line_by_line_512\n",
      "07/15/2021 17:55:43 - INFO - __main__ -   ***** Running evaluation 4750 *****\n",
      "07/15/2021 17:55:43 - INFO - __main__ -     Num examples = 94\n",
      "07/15/2021 17:55:43 - INFO - __main__ -     Batch size = 16\n"
     ]
    },
    {
     "data": {
      "application/vnd.jupyter.widget-view+json": {
       "model_id": "76af0cbbda6d4cd9997ba2eaec9ad847",
       "version_major": 2,
       "version_minor": 0
      },
      "text/plain": [
       "Evaluating:   0%|          | 0/6 [00:00<?, ?it/s]"
      ]
     },
     "metadata": {},
     "output_type": "display_data"
    },
    {
     "name": "stderr",
     "output_type": "stream",
     "text": [
      "07/15/2021 17:55:49 - INFO - __main__ -   ***** Eval results 4750 *****\n",
      "07/15/2021 17:55:49 - INFO - __main__ -   f1 = 0.660105980317941\n",
      "07/15/2021 17:55:49 - INFO - __main__ -   loss = 999.3490905761719\n",
      "07/15/2021 17:55:49 - INFO - __main__ -   report =                precision    recall  f1-score   support\n",
      "\n",
      "        POWER    0.64085   0.56173   0.59868       162\n",
      "         TECH    0.73963   0.70861   0.72379       453\n",
      "          SAP    0.07692   0.07143   0.07407        14\n",
      "         FUNC    0.31250   0.32258   0.31746        31\n",
      "QUALIFICATION    0.59091   0.72222   0.65000        18\n",
      "\n",
      "    micro avg    0.67807   0.64307   0.66011       678\n",
      "    macro avg    0.67887   0.64307   0.65994       678\n",
      "\n",
      "07/15/2021 17:55:49 - INFO - __main__ -   tech_f1 = 0.7237880496054115\n"
     ]
    },
    {
     "data": {
      "application/vnd.jupyter.widget-view+json": {
       "model_id": "d31d30984e924d97920115f59d15e53d",
       "version_major": 2,
       "version_minor": 0
      },
      "text/plain": [
       "Iteration:   0%|          | 0/50 [00:00<?, ?it/s]"
      ]
     },
     "metadata": {},
     "output_type": "display_data"
    },
    {
     "name": "stderr",
     "output_type": "stream",
     "text": [
      "07/15/2021 17:56:34 - INFO - __main__ -   Loading features from cached file ./datasets/cached_dev_mlm_model_uncased_tech_line_by_line_512\n",
      "07/15/2021 17:56:34 - INFO - __main__ -   ***** Running evaluation 4775 *****\n",
      "07/15/2021 17:56:34 - INFO - __main__ -     Num examples = 94\n",
      "07/15/2021 17:56:34 - INFO - __main__ -     Batch size = 16\n"
     ]
    },
    {
     "data": {
      "application/vnd.jupyter.widget-view+json": {
       "model_id": "6236c40d34ee4ca19211ea663f686063",
       "version_major": 2,
       "version_minor": 0
      },
      "text/plain": [
       "Evaluating:   0%|          | 0/6 [00:00<?, ?it/s]"
      ]
     },
     "metadata": {},
     "output_type": "display_data"
    },
    {
     "name": "stderr",
     "output_type": "stream",
     "text": [
      "07/15/2021 17:56:40 - INFO - __main__ -   ***** Eval results 4775 *****\n",
      "07/15/2021 17:56:40 - INFO - __main__ -   f1 = 0.661094224924012\n",
      "07/15/2021 17:56:40 - INFO - __main__ -   loss = 999.1661275227865\n",
      "07/15/2021 17:56:40 - INFO - __main__ -   report =                precision    recall  f1-score   support\n",
      "\n",
      "        POWER    0.64539   0.56173   0.60066       162\n",
      "         TECH    0.73903   0.70640   0.72235       453\n",
      "          SAP    0.07692   0.07143   0.07407        14\n",
      "         FUNC    0.34483   0.32258   0.33333        31\n",
      "QUALIFICATION    0.59091   0.72222   0.65000        18\n",
      "\n",
      "    micro avg    0.68182   0.64159   0.66109       678\n",
      "    macro avg    0.68103   0.64159   0.66018       678\n",
      "\n",
      "07/15/2021 17:56:40 - INFO - __main__ -   tech_f1 = 0.7223476297968398\n",
      "07/15/2021 17:57:24 - INFO - __main__ -   Loading features from cached file ./datasets/cached_dev_mlm_model_uncased_tech_line_by_line_512\n",
      "07/15/2021 17:57:24 - INFO - __main__ -   ***** Running evaluation 4800 *****\n",
      "07/15/2021 17:57:24 - INFO - __main__ -     Num examples = 94\n",
      "07/15/2021 17:57:24 - INFO - __main__ -     Batch size = 16\n"
     ]
    },
    {
     "data": {
      "application/vnd.jupyter.widget-view+json": {
       "model_id": "3d715ce73a2c4726955c4040c02b60b3",
       "version_major": 2,
       "version_minor": 0
      },
      "text/plain": [
       "Evaluating:   0%|          | 0/6 [00:00<?, ?it/s]"
      ]
     },
     "metadata": {},
     "output_type": "display_data"
    },
    {
     "name": "stderr",
     "output_type": "stream",
     "text": [
      "07/15/2021 17:57:29 - INFO - __main__ -   ***** Eval results 4800 *****\n",
      "07/15/2021 17:57:29 - INFO - __main__ -   f1 = 0.6600458365164248\n",
      "07/15/2021 17:57:29 - INFO - __main__ -   loss = 986.5251973470052\n",
      "07/15/2021 17:57:29 - INFO - __main__ -   report =                precision    recall  f1-score   support\n",
      "\n",
      "        POWER    0.65468   0.56173   0.60465       162\n",
      "         TECH    0.74126   0.70199   0.72109       453\n",
      "          SAP    0.08333   0.07143   0.07692        14\n",
      "         FUNC    0.31034   0.29032   0.30000        31\n",
      "QUALIFICATION    0.59091   0.72222   0.65000        18\n",
      "\n",
      "    micro avg    0.68463   0.63717   0.66005       678\n",
      "    macro avg    0.68329   0.63717   0.65883       678\n",
      "\n",
      "07/15/2021 17:57:29 - INFO - __main__ -   tech_f1 = 0.7210884353741497\n"
     ]
    },
    {
     "data": {
      "application/vnd.jupyter.widget-view+json": {
       "model_id": "bb05e4f896c74211ba9f1a7b1115eea6",
       "version_major": 2,
       "version_minor": 0
      },
      "text/plain": [
       "Iteration:   0%|          | 0/50 [00:00<?, ?it/s]"
      ]
     },
     "metadata": {},
     "output_type": "display_data"
    },
    {
     "name": "stderr",
     "output_type": "stream",
     "text": [
      "07/15/2021 17:58:14 - INFO - __main__ -   Loading features from cached file ./datasets/cached_dev_mlm_model_uncased_tech_line_by_line_512\n",
      "07/15/2021 17:58:14 - INFO - __main__ -   ***** Running evaluation 4825 *****\n",
      "07/15/2021 17:58:14 - INFO - __main__ -     Num examples = 94\n",
      "07/15/2021 17:58:14 - INFO - __main__ -     Batch size = 16\n"
     ]
    },
    {
     "data": {
      "application/vnd.jupyter.widget-view+json": {
       "model_id": "25669cfd61444fefaf545496655f17cd",
       "version_major": 2,
       "version_minor": 0
      },
      "text/plain": [
       "Evaluating:   0%|          | 0/6 [00:00<?, ?it/s]"
      ]
     },
     "metadata": {},
     "output_type": "display_data"
    },
    {
     "name": "stderr",
     "output_type": "stream",
     "text": [
      "07/15/2021 17:58:20 - INFO - __main__ -   ***** Eval results 4825 *****\n",
      "07/15/2021 17:58:20 - INFO - __main__ -   f1 = 0.6656441717791411\n",
      "07/15/2021 17:58:20 - INFO - __main__ -   loss = 981.7709655761719\n",
      "07/15/2021 17:58:20 - INFO - __main__ -   report =                precision    recall  f1-score   support\n",
      "\n",
      "        POWER    0.66187   0.56790   0.61130       162\n",
      "         TECH    0.75236   0.70419   0.72748       453\n",
      "          SAP    0.08333   0.07143   0.07692        14\n",
      "         FUNC    0.31034   0.29032   0.30000        31\n",
      "QUALIFICATION    0.59091   0.72222   0.65000        18\n",
      "\n",
      "    micro avg    0.69329   0.64012   0.66564       678\n",
      "    macro avg    0.69243   0.64012   0.66468       678\n",
      "\n",
      "07/15/2021 17:58:20 - INFO - __main__ -   tech_f1 = 0.7274800456100342\n",
      "07/15/2021 17:59:04 - INFO - __main__ -   Loading features from cached file ./datasets/cached_dev_mlm_model_uncased_tech_line_by_line_512\n",
      "07/15/2021 17:59:04 - INFO - __main__ -   ***** Running evaluation 4850 *****\n",
      "07/15/2021 17:59:04 - INFO - __main__ -     Num examples = 94\n",
      "07/15/2021 17:59:04 - INFO - __main__ -     Batch size = 16\n"
     ]
    },
    {
     "data": {
      "application/vnd.jupyter.widget-view+json": {
       "model_id": "905ddbbcfc814bfa841250bd6d83cee0",
       "version_major": 2,
       "version_minor": 0
      },
      "text/plain": [
       "Evaluating:   0%|          | 0/6 [00:00<?, ?it/s]"
      ]
     },
     "metadata": {},
     "output_type": "display_data"
    },
    {
     "name": "stderr",
     "output_type": "stream",
     "text": [
      "07/15/2021 17:59:10 - INFO - __main__ -   ***** Eval results 4850 *****\n",
      "07/15/2021 17:59:10 - INFO - __main__ -   f1 = 0.6580350342726581\n",
      "07/15/2021 17:59:10 - INFO - __main__ -   loss = 989.5425516764323\n",
      "07/15/2021 17:59:10 - INFO - __main__ -   report =                precision    recall  f1-score   support\n",
      "\n",
      "        POWER    0.65000   0.56173   0.60265       162\n",
      "         TECH    0.73953   0.70199   0.72027       453\n",
      "          SAP    0.07143   0.07143   0.07143        14\n",
      "         FUNC    0.31034   0.29032   0.30000        31\n",
      "QUALIFICATION    0.59091   0.72222   0.65000        18\n",
      "\n",
      "    micro avg    0.68031   0.63717   0.65804       678\n",
      "    macro avg    0.68078   0.63717   0.65769       678\n",
      "\n",
      "07/15/2021 17:59:10 - INFO - __main__ -   tech_f1 = 0.7202718006795018\n"
     ]
    },
    {
     "data": {
      "application/vnd.jupyter.widget-view+json": {
       "model_id": "d6a893554bb149ada848558016e0d0ef",
       "version_major": 2,
       "version_minor": 0
      },
      "text/plain": [
       "Iteration:   0%|          | 0/50 [00:00<?, ?it/s]"
      ]
     },
     "metadata": {},
     "output_type": "display_data"
    },
    {
     "name": "stderr",
     "output_type": "stream",
     "text": [
      "07/15/2021 17:59:55 - INFO - __main__ -   Loading features from cached file ./datasets/cached_dev_mlm_model_uncased_tech_line_by_line_512\n",
      "07/15/2021 17:59:55 - INFO - __main__ -   ***** Running evaluation 4875 *****\n",
      "07/15/2021 17:59:55 - INFO - __main__ -     Num examples = 94\n",
      "07/15/2021 17:59:55 - INFO - __main__ -     Batch size = 16\n"
     ]
    },
    {
     "data": {
      "application/vnd.jupyter.widget-view+json": {
       "model_id": "07733cb6c9bc46f78f522a140edc41ef",
       "version_major": 2,
       "version_minor": 0
      },
      "text/plain": [
       "Evaluating:   0%|          | 0/6 [00:00<?, ?it/s]"
      ]
     },
     "metadata": {},
     "output_type": "display_data"
    },
    {
     "name": "stderr",
     "output_type": "stream",
     "text": [
      "07/15/2021 18:00:01 - INFO - __main__ -   ***** Eval results 4875 *****\n",
      "07/15/2021 18:00:01 - INFO - __main__ -   f1 = 0.6585365853658537\n",
      "07/15/2021 18:00:01 - INFO - __main__ -   loss = 989.011973063151\n",
      "07/15/2021 18:00:01 - INFO - __main__ -   report =                precision    recall  f1-score   support\n",
      "\n",
      "        POWER    0.65000   0.56173   0.60265       162\n",
      "         TECH    0.74126   0.70199   0.72109       453\n",
      "          SAP    0.07143   0.07143   0.07143        14\n",
      "         FUNC    0.31034   0.29032   0.30000        31\n",
      "QUALIFICATION    0.59091   0.72222   0.65000        18\n",
      "\n",
      "    micro avg    0.68139   0.63717   0.65854       678\n",
      "    macro avg    0.68193   0.63717   0.65823       678\n",
      "\n",
      "07/15/2021 18:00:01 - INFO - __main__ -   tech_f1 = 0.7210884353741497\n",
      "07/15/2021 18:00:45 - INFO - __main__ -   Loading features from cached file ./datasets/cached_dev_mlm_model_uncased_tech_line_by_line_512\n",
      "07/15/2021 18:00:45 - INFO - __main__ -   ***** Running evaluation 4900 *****\n",
      "07/15/2021 18:00:45 - INFO - __main__ -     Num examples = 94\n",
      "07/15/2021 18:00:45 - INFO - __main__ -     Batch size = 16\n"
     ]
    },
    {
     "data": {
      "application/vnd.jupyter.widget-view+json": {
       "model_id": "fe1051d393ae400f94c87a3da00d2882",
       "version_major": 2,
       "version_minor": 0
      },
      "text/plain": [
       "Evaluating:   0%|          | 0/6 [00:00<?, ?it/s]"
      ]
     },
     "metadata": {},
     "output_type": "display_data"
    },
    {
     "name": "stderr",
     "output_type": "stream",
     "text": [
      "07/15/2021 18:00:51 - INFO - __main__ -   ***** Eval results 4900 *****\n",
      "07/15/2021 18:00:51 - INFO - __main__ -   f1 = 0.6595419847328244\n",
      "07/15/2021 18:00:51 - INFO - __main__ -   loss = 986.7569783528646\n",
      "07/15/2021 18:00:51 - INFO - __main__ -   report =                precision    recall  f1-score   support\n",
      "\n",
      "        POWER    0.64539   0.56173   0.60066       162\n",
      "         TECH    0.74473   0.70199   0.72273       453\n",
      "          SAP    0.07692   0.07143   0.07407        14\n",
      "         FUNC    0.31034   0.29032   0.30000        31\n",
      "QUALIFICATION    0.59091   0.72222   0.65000        18\n",
      "\n",
      "    micro avg    0.68354   0.63717   0.65954       678\n",
      "    macro avg    0.68326   0.63717   0.65891       678\n",
      "\n",
      "07/15/2021 18:00:51 - INFO - __main__ -   tech_f1 = 0.7227272727272728\n"
     ]
    },
    {
     "data": {
      "application/vnd.jupyter.widget-view+json": {
       "model_id": "96cdd696ba3c403daa2c2265672a418a",
       "version_major": 2,
       "version_minor": 0
      },
      "text/plain": [
       "Iteration:   0%|          | 0/50 [00:00<?, ?it/s]"
      ]
     },
     "metadata": {},
     "output_type": "display_data"
    },
    {
     "name": "stderr",
     "output_type": "stream",
     "text": [
      "07/15/2021 18:01:36 - INFO - __main__ -   Loading features from cached file ./datasets/cached_dev_mlm_model_uncased_tech_line_by_line_512\n",
      "07/15/2021 18:01:36 - INFO - __main__ -   ***** Running evaluation 4925 *****\n",
      "07/15/2021 18:01:36 - INFO - __main__ -     Num examples = 94\n",
      "07/15/2021 18:01:36 - INFO - __main__ -     Batch size = 16\n"
     ]
    },
    {
     "data": {
      "application/vnd.jupyter.widget-view+json": {
       "model_id": "27f8c96e4a064487aecf78d956f0cbd6",
       "version_major": 2,
       "version_minor": 0
      },
      "text/plain": [
       "Evaluating:   0%|          | 0/6 [00:00<?, ?it/s]"
      ]
     },
     "metadata": {},
     "output_type": "display_data"
    },
    {
     "name": "stderr",
     "output_type": "stream",
     "text": [
      "07/15/2021 18:01:42 - INFO - __main__ -   ***** Eval results 4925 *****\n",
      "07/15/2021 18:01:42 - INFO - __main__ -   f1 = 0.6585365853658537\n",
      "07/15/2021 18:01:42 - INFO - __main__ -   loss = 990.0632934570312\n",
      "07/15/2021 18:01:42 - INFO - __main__ -   report =                precision    recall  f1-score   support\n",
      "\n",
      "        POWER    0.64539   0.56173   0.60066       162\n",
      "         TECH    0.74126   0.70199   0.72109       453\n",
      "          SAP    0.08333   0.07143   0.07692        14\n",
      "         FUNC    0.30000   0.29032   0.29508        31\n",
      "QUALIFICATION    0.59091   0.72222   0.65000        18\n",
      "\n",
      "    micro avg    0.68139   0.63717   0.65854       678\n",
      "    macro avg    0.68060   0.63717   0.65765       678\n",
      "\n",
      "07/15/2021 18:01:42 - INFO - __main__ -   tech_f1 = 0.7210884353741497\n",
      "07/15/2021 18:02:25 - INFO - __main__ -   Loading features from cached file ./datasets/cached_dev_mlm_model_uncased_tech_line_by_line_512\n",
      "07/15/2021 18:02:25 - INFO - __main__ -   ***** Running evaluation 4950 *****\n",
      "07/15/2021 18:02:25 - INFO - __main__ -     Num examples = 94\n",
      "07/15/2021 18:02:25 - INFO - __main__ -     Batch size = 16\n"
     ]
    },
    {
     "data": {
      "application/vnd.jupyter.widget-view+json": {
       "model_id": "b12469e35ca542f48147c5c08cef4e0a",
       "version_major": 2,
       "version_minor": 0
      },
      "text/plain": [
       "Evaluating:   0%|          | 0/6 [00:00<?, ?it/s]"
      ]
     },
     "metadata": {},
     "output_type": "display_data"
    },
    {
     "name": "stderr",
     "output_type": "stream",
     "text": [
      "07/15/2021 18:02:31 - INFO - __main__ -   ***** Eval results 4950 *****\n",
      "07/15/2021 18:02:31 - INFO - __main__ -   f1 = 0.6585551330798479\n",
      "07/15/2021 18:02:31 - INFO - __main__ -   loss = 994.9023742675781\n",
      "07/15/2021 18:02:31 - INFO - __main__ -   report =                precision    recall  f1-score   support\n",
      "\n",
      "        POWER    0.64539   0.56173   0.60066       162\n",
      "         TECH    0.73782   0.70199   0.71946       453\n",
      "          SAP    0.08333   0.07143   0.07692        14\n",
      "         FUNC    0.32258   0.32258   0.32258        31\n",
      "QUALIFICATION    0.59091   0.72222   0.65000        18\n",
      "\n",
      "    micro avg    0.67975   0.63864   0.65856       678\n",
      "    macro avg    0.67933   0.63864   0.65781       678\n",
      "\n",
      "07/15/2021 18:02:31 - INFO - __main__ -   tech_f1 = 0.7194570135746606\n"
     ]
    },
    {
     "data": {
      "application/vnd.jupyter.widget-view+json": {
       "model_id": "31681e72c5074b28985d765a7be4444c",
       "version_major": 2,
       "version_minor": 0
      },
      "text/plain": [
       "Iteration:   0%|          | 0/50 [00:00<?, ?it/s]"
      ]
     },
     "metadata": {},
     "output_type": "display_data"
    },
    {
     "name": "stderr",
     "output_type": "stream",
     "text": [
      "07/15/2021 18:03:16 - INFO - __main__ -   Loading features from cached file ./datasets/cached_dev_mlm_model_uncased_tech_line_by_line_512\n",
      "07/15/2021 18:03:16 - INFO - __main__ -   ***** Running evaluation 4975 *****\n",
      "07/15/2021 18:03:16 - INFO - __main__ -     Num examples = 94\n",
      "07/15/2021 18:03:16 - INFO - __main__ -     Batch size = 16\n"
     ]
    },
    {
     "data": {
      "application/vnd.jupyter.widget-view+json": {
       "model_id": "90d459f98c314c628ba82976abdb00c3",
       "version_major": 2,
       "version_minor": 0
      },
      "text/plain": [
       "Evaluating:   0%|          | 0/6 [00:00<?, ?it/s]"
      ]
     },
     "metadata": {},
     "output_type": "display_data"
    },
    {
     "name": "stderr",
     "output_type": "stream",
     "text": [
      "07/15/2021 18:03:21 - INFO - __main__ -   ***** Eval results 4975 *****\n",
      "07/15/2021 18:03:21 - INFO - __main__ -   f1 = 0.6570342205323193\n",
      "07/15/2021 18:03:21 - INFO - __main__ -   loss = 995.5543416341146\n",
      "07/15/2021 18:03:21 - INFO - __main__ -   report =                precision    recall  f1-score   support\n",
      "\n",
      "        POWER    0.64286   0.55556   0.59603       162\n",
      "         TECH    0.73782   0.70199   0.71946       453\n",
      "          SAP    0.07692   0.07143   0.07407        14\n",
      "         FUNC    0.32258   0.32258   0.32258        31\n",
      "QUALIFICATION    0.59091   0.72222   0.65000        18\n",
      "\n",
      "    micro avg    0.67818   0.63717   0.65703       678\n",
      "    macro avg    0.67860   0.63717   0.65665       678\n",
      "\n",
      "07/15/2021 18:03:21 - INFO - __main__ -   tech_f1 = 0.7194570135746606\n",
      "07/15/2021 18:04:05 - INFO - __main__ -   Loading features from cached file ./datasets/cached_dev_mlm_model_uncased_tech_line_by_line_512\n",
      "07/15/2021 18:04:05 - INFO - __main__ -   ***** Running evaluation 5000 *****\n",
      "07/15/2021 18:04:05 - INFO - __main__ -     Num examples = 94\n",
      "07/15/2021 18:04:05 - INFO - __main__ -     Batch size = 16\n"
     ]
    },
    {
     "data": {
      "application/vnd.jupyter.widget-view+json": {
       "model_id": "0cb0677a99c7491a8222b36b3b834c8d",
       "version_major": 2,
       "version_minor": 0
      },
      "text/plain": [
       "Evaluating:   0%|          | 0/6 [00:00<?, ?it/s]"
      ]
     },
     "metadata": {},
     "output_type": "display_data"
    },
    {
     "name": "stderr",
     "output_type": "stream",
     "text": [
      "07/15/2021 18:04:11 - INFO - __main__ -   ***** Eval results 5000 *****\n",
      "07/15/2021 18:04:11 - INFO - __main__ -   f1 = 0.6570342205323193\n",
      "07/15/2021 18:04:11 - INFO - __main__ -   loss = 995.1306457519531\n",
      "07/15/2021 18:04:11 - INFO - __main__ -   report =                precision    recall  f1-score   support\n",
      "\n",
      "        POWER    0.64286   0.55556   0.59603       162\n",
      "         TECH    0.73782   0.70199   0.71946       453\n",
      "          SAP    0.07692   0.07143   0.07407        14\n",
      "         FUNC    0.32258   0.32258   0.32258        31\n",
      "QUALIFICATION    0.59091   0.72222   0.65000        18\n",
      "\n",
      "    micro avg    0.67818   0.63717   0.65703       678\n",
      "    macro avg    0.67860   0.63717   0.65665       678\n",
      "\n",
      "07/15/2021 18:04:11 - INFO - __main__ -   tech_f1 = 0.7194570135746606\n",
      "07/15/2021 18:04:11 - INFO - __main__ -    global_step = 5000, average loss = 16.339119779407977\n",
      "07/15/2021 18:04:11 - INFO - __main__ -   Saving model checkpoint to ./model_crf_uncased_tech\n",
      "07/15/2021 18:04:11 - INFO - transformers.configuration_utils -   Configuration saved in ./model_crf_uncased_tech/config.json\n",
      "07/15/2021 18:04:12 - INFO - transformers.modeling_utils -   Model weights saved in ./model_crf_uncased_tech/pytorch_model.bin\n"
     ]
    }
   ],
   "source": [
    "main()"
   ]
  },
  {
   "cell_type": "code",
   "execution_count": null,
   "metadata": {},
   "outputs": [],
   "source": []
  },
  {
   "cell_type": "code",
   "execution_count": null,
   "metadata": {},
   "outputs": [],
   "source": []
  },
  {
   "cell_type": "code",
   "execution_count": 34,
   "metadata": {
    "ExecuteTime": {
     "end_time": "2021-07-15T18:04:12.177830Z",
     "start_time": "2021-07-15T18:04:12.174109Z"
    },
    "colab": {
     "background_save": true
    },
    "id": "uyJTkjIxGbvF"
   },
   "outputs": [],
   "source": [
    "# import pandas as pd\n",
    "\n",
    "# sap_jobs = pd.read_csv('/content/drive/MyDrive/skill scraper/sap_jobs_with_labels.csv', index_col=0)\n",
    "# aws_jobs = pd.read_csv('/content/drive/MyDrive/skill scraper/aws_jobs_with_labels.csv', index_col=0)\n",
    "# ms_jobs = pd.read_csv('/content/drive/MyDrive/skill scraper/ms_jobs_with_labels.csv', index_col=0)\n",
    "# google_jobs = pd.read_csv('/content/drive/MyDrive/skill scraper/google_jobs_with_labels.csv', index_col=0)\n",
    "\n",
    "# sap_jobs['original_index'] =  sap_jobs['company_name']+'_'+sap_jobs.index.astype(str)\n",
    "# aws_jobs['original_index'] = aws_jobs['company_name']+'_'+aws_jobs.index.astype(str)\n",
    "# ms_jobs['original_index'] = ms_jobs['company_name']+'_'+ms_jobs.index.astype(str)\n",
    "# google_jobs['original_index'] = google_jobs['company_name']+'_'+google_jobs.index.astype(str)\n",
    "\n",
    "# jobs = pd.concat([sap_jobs, aws_jobs, ms_jobs, google_jobs], ignore_index=True)\n",
    "\n",
    "# sap_labels = pd.read_csv('/content/drive/MyDrive/skill scraper/sap_job_ground_truth.csv')\n",
    "# sap_labels.dropna(subset=['Requisition ID'], inplace=True)\n",
    "# sap_labels['Requisition ID'] = sap_labels['Requisition ID'].astype('int')\n",
    "# sap_labels.columns = [i.strip() for i in sap_labels.columns]\n",
    "# sap_labels['company'] = 'sap'\n",
    "\n",
    "# aws_labels = pd.read_csv('/content/drive/MyDrive/skill scraper/aws_job_ground_truth.csv')\n",
    "# aws_labels.dropna(subset=['Requisition ID'], inplace=True)\n",
    "# aws_labels['Requisition ID'] = aws_labels['Requisition ID'].astype('int')\n",
    "# aws_labels.columns = [i.strip() for i in aws_labels.columns]\n",
    "# aws_labels['company'] = 'aws'\n",
    "\n",
    "# ms_labels = pd.read_csv('/content/drive/MyDrive/skill scraper/ms_job_ground_truth.csv')\n",
    "# ms_labels.dropna(subset=['Requisition ID'], inplace=True)\n",
    "# ms_labels['Requisition ID'] = ms_labels['Requisition ID'].astype('int')\n",
    "# ms_labels.columns = [i.strip() for i in ms_labels.columns]\n",
    "# ms_labels['company'] = 'microsoft'\n",
    "\n",
    "# google_labels = pd.read_csv('/content/drive/MyDrive/skill scraper/google_job_ground_truth.csv')\n",
    "# google_labels.dropna(subset=['Requisition ID'], inplace=True)\n",
    "# google_labels['Requisition ID'] = google_labels['Requisition ID'].astype('int')\n",
    "# google_labels.columns = [i.strip() for i in google_labels.columns]\n",
    "# google_labels['company'] = 'google'\n",
    "# google_labels = google_labels.merge(google_jobs[['work_area']], how='left', left_on='Requisition ID', right_index=True)\n",
    "\n",
    "# sap_jobs['original_index'] = sap_jobs.index\n",
    "# sap_labels = sap_labels.merge(sap_jobs[['original_index','reference']], left_on = 'Requisition ID', right_on = 'reference')\n",
    "# sap_labels['original_index'] = sap_labels['company']+'_'+sap_labels['original_index'].astype(str)\n",
    "\n",
    "# aws_labels['original_index'] = aws_labels['company']+'_'+aws_labels['Requisition ID'].astype(str)\n",
    "# ms_labels['original_index'] = ms_labels['company']+'_'+ms_labels['Requisition ID'].astype(str)\n",
    "# google_labels['original_index'] = google_labels['company']+'_'+google_labels['Requisition ID'].astype(str)\n",
    "\n",
    "# labels = pd.concat([sap_labels, aws_labels, ms_labels, google_labels], ignore_index=True)\n",
    "\n",
    "# labels.reset_index(inplace=True, drop=True)\n",
    "\n",
    "# labels = labels.merge(jobs[['original_index', 'description_raw']], how='left', left_on='original_index', right_on = 'original_index')\n",
    "\n",
    "# labels['original_index'] = labels['original_index'].str.lower()\n",
    "# jobs['original_index'] = jobs['original_index'].str.lower()\n",
    "\n",
    "# labels.to_csv('/content/drive/MyDrive/skill scraper/total_ground_truth.csv')\n",
    "\n"
   ]
  },
  {
   "cell_type": "code",
   "execution_count": 35,
   "metadata": {
    "ExecuteTime": {
     "end_time": "2021-07-15T18:04:12.335634Z",
     "start_time": "2021-07-15T18:04:12.179579Z"
    },
    "colab": {
     "background_save": true
    },
    "id": "1oqr9nsTg4O1",
    "outputId": "fcbd1dab-a082-420b-c0ae-99398ebc07f5"
   },
   "outputs": [],
   "source": [
    "# labels_result = pd.read_csv(os.path.join(args.output_dir, \"best_checkpoint/labels_comparison.csv\"), index_col=0)\n",
    "\n",
    "# labels_result['precision'].mean(), labels_result['recall'].mean(), labels_result['f1'].mean()"
   ]
  },
  {
   "cell_type": "code",
   "execution_count": 36,
   "metadata": {
    "ExecuteTime": {
     "end_time": "2021-07-15T18:04:12.569924Z",
     "start_time": "2021-07-15T18:04:12.338957Z"
    },
    "colab": {
     "background_save": true
    },
    "id": "PGkCCtgO171u",
    "outputId": "e61e6477-b0d1-4c89-844f-0dd09dbeeb0f"
   },
   "outputs": [],
   "source": [
    "# labels_result.groupby('company')[['precision','recall','f1']].mean()"
   ]
  },
  {
   "cell_type": "code",
   "execution_count": 37,
   "metadata": {
    "ExecuteTime": {
     "end_time": "2021-07-15T18:04:12.700702Z",
     "start_time": "2021-07-15T18:04:12.573285Z"
    },
    "colab": {
     "background_save": true
    },
    "id": "NUEFdTLW1-N9",
    "outputId": "b1ac4ecc-7594-4725-cc74-1603ccc428c6"
   },
   "outputs": [],
   "source": [
    "# labels_result.groupby(['company', 'work_area'])[['precision','recall','f1']].mean()"
   ]
  },
  {
   "cell_type": "code",
   "execution_count": 38,
   "metadata": {
    "ExecuteTime": {
     "end_time": "2021-07-15T18:04:12.833837Z",
     "start_time": "2021-07-15T18:04:12.703877Z"
    },
    "colab": {
     "base_uri": "https://localhost:8080/"
    },
    "executionInfo": {
     "elapsed": 861,
     "status": "ok",
     "timestamp": 1617767876599,
     "user": {
      "displayName": "Shiqi Liang",
      "photoUrl": "",
      "userId": "07861028925154326261"
     },
     "user_tz": -480
    },
    "id": "uGe5GfHX17ue",
    "outputId": "4cedc2d4-c2f1-4754-8f47-8f6432860704"
   },
   "outputs": [],
   "source": [
    "# data = pd.read_csv(os.path.join(args.output_dir, \"best_checkpoint/labels_comparison.csv\"), index_col=0)\n",
    "\n",
    "# data['precision'].mean(), data['recall'].mean(), data['f1'].mean()"
   ]
  },
  {
   "cell_type": "code",
   "execution_count": 39,
   "metadata": {
    "ExecuteTime": {
     "end_time": "2021-07-15T18:04:12.922713Z",
     "start_time": "2021-07-15T18:04:12.837138Z"
    },
    "colab": {
     "base_uri": "https://localhost:8080/",
     "height": 202
    },
    "executionInfo": {
     "elapsed": 896,
     "status": "ok",
     "timestamp": 1617767888182,
     "user": {
      "displayName": "Shiqi Liang",
      "photoUrl": "",
      "userId": "07861028925154326261"
     },
     "user_tz": -480
    },
    "id": "AcS1DXtxesRY",
    "outputId": "28fd71ad-7915-4c6c-d14c-5693509ad832"
   },
   "outputs": [],
   "source": [
    "# data.groupby('company')[['precision','recall','f1']].mean()"
   ]
  },
  {
   "cell_type": "code",
   "execution_count": 40,
   "metadata": {
    "ExecuteTime": {
     "end_time": "2021-07-15T18:04:13.078653Z",
     "start_time": "2021-07-15T18:04:12.925973Z"
    },
    "colab": {
     "base_uri": "https://localhost:8080/",
     "height": 386
    },
    "executionInfo": {
     "elapsed": 1185,
     "status": "ok",
     "timestamp": 1617767909578,
     "user": {
      "displayName": "Shiqi Liang",
      "photoUrl": "",
      "userId": "07861028925154326261"
     },
     "user_tz": -480
    },
    "id": "cD1EtA_jevF2",
    "outputId": "1e98715d-8d26-4903-b569-8145ff11d348"
   },
   "outputs": [],
   "source": [
    "# data.groupby(['company', 'work_area'])[['precision','recall','f1']].mean()"
   ]
  },
  {
   "cell_type": "code",
   "execution_count": null,
   "metadata": {
    "id": "o-Kaj4Yce0Pv"
   },
   "outputs": [],
   "source": []
  }
 ],
 "metadata": {
  "accelerator": "GPU",
  "colab": {
   "authorship_tag": "ABX9TyOkJVRwaFd59YEDRfx5Tw0p",
   "collapsed_sections": [],
   "mount_file_id": "1F3Jd06K-4nAQzHc9LW5BcStr6_2sJgju",
   "name": "doccano train all crf.ipynb",
   "provenance": []
  },
  "kernelspec": {
   "display_name": "Python 3",
   "language": "python",
   "name": "python3"
  },
  "language_info": {
   "codemirror_mode": {
    "name": "ipython",
    "version": 3
   },
   "file_extension": ".py",
   "mimetype": "text/x-python",
   "name": "python",
   "nbconvert_exporter": "python",
   "pygments_lexer": "ipython3",
   "version": "3.8.3"
  },
  "toc": {
   "base_numbering": 1,
   "nav_menu": {},
   "number_sections": true,
   "sideBar": true,
   "skip_h1_title": false,
   "title_cell": "Table of Contents",
   "title_sidebar": "Contents",
   "toc_cell": false,
   "toc_position": {},
   "toc_section_display": true,
   "toc_window_display": false
  },
  "varInspector": {
   "cols": {
    "lenName": 16,
    "lenType": 16,
    "lenVar": 40
   },
   "kernels_config": {
    "python": {
     "delete_cmd_postfix": "",
     "delete_cmd_prefix": "del ",
     "library": "var_list.py",
     "varRefreshCmd": "print(var_dic_list())"
    },
    "r": {
     "delete_cmd_postfix": ") ",
     "delete_cmd_prefix": "rm(",
     "library": "var_list.r",
     "varRefreshCmd": "cat(var_dic_list()) "
    }
   },
   "types_to_exclude": [
    "module",
    "function",
    "builtin_function_or_method",
    "instance",
    "_Feature"
   ],
   "window_display": false
  },
  "widgets": {
   "application/vnd.jupyter.widget-state+json": {
    "07c6257a1a684a70a5f908bfed85e151": {
     "model_module": "@jupyter-widgets/controls",
     "model_name": "HBoxModel",
     "state": {
      "_dom_classes": [],
      "_model_module": "@jupyter-widgets/controls",
      "_model_module_version": "1.5.0",
      "_model_name": "HBoxModel",
      "_view_count": null,
      "_view_module": "@jupyter-widgets/controls",
      "_view_module_version": "1.5.0",
      "_view_name": "HBoxView",
      "box_style": "",
      "children": [
       "IPY_MODEL_567f5318a39045b4a631336251074b0c",
       "IPY_MODEL_730a101e0d934ee1a8d6f59fdc5591af"
      ],
      "layout": "IPY_MODEL_23ca656200bc44d2ad3a3f54ccad23b0"
     }
    },
    "0a37fb1556f644628f436af5f1cbf143": {
     "model_module": "@jupyter-widgets/controls",
     "model_name": "DescriptionStyleModel",
     "state": {
      "_model_module": "@jupyter-widgets/controls",
      "_model_module_version": "1.5.0",
      "_model_name": "DescriptionStyleModel",
      "_view_count": null,
      "_view_module": "@jupyter-widgets/base",
      "_view_module_version": "1.2.0",
      "_view_name": "StyleView",
      "description_width": ""
     }
    },
    "1896eaa685304690b0caf3556a5e8cd7": {
     "model_module": "@jupyter-widgets/base",
     "model_name": "LayoutModel",
     "state": {
      "_model_module": "@jupyter-widgets/base",
      "_model_module_version": "1.2.0",
      "_model_name": "LayoutModel",
      "_view_count": null,
      "_view_module": "@jupyter-widgets/base",
      "_view_module_version": "1.2.0",
      "_view_name": "LayoutView",
      "align_content": null,
      "align_items": null,
      "align_self": null,
      "border": null,
      "bottom": null,
      "display": null,
      "flex": null,
      "flex_flow": null,
      "grid_area": null,
      "grid_auto_columns": null,
      "grid_auto_flow": null,
      "grid_auto_rows": null,
      "grid_column": null,
      "grid_gap": null,
      "grid_row": null,
      "grid_template_areas": null,
      "grid_template_columns": null,
      "grid_template_rows": null,
      "height": null,
      "justify_content": null,
      "justify_items": null,
      "left": null,
      "margin": null,
      "max_height": null,
      "max_width": null,
      "min_height": null,
      "min_width": null,
      "object_fit": null,
      "object_position": null,
      "order": null,
      "overflow": null,
      "overflow_x": null,
      "overflow_y": null,
      "padding": null,
      "right": null,
      "top": null,
      "visibility": null,
      "width": null
     }
    },
    "19085fa2804b440a9ab4b648f9244381": {
     "model_module": "@jupyter-widgets/base",
     "model_name": "LayoutModel",
     "state": {
      "_model_module": "@jupyter-widgets/base",
      "_model_module_version": "1.2.0",
      "_model_name": "LayoutModel",
      "_view_count": null,
      "_view_module": "@jupyter-widgets/base",
      "_view_module_version": "1.2.0",
      "_view_name": "LayoutView",
      "align_content": null,
      "align_items": null,
      "align_self": null,
      "border": null,
      "bottom": null,
      "display": null,
      "flex": null,
      "flex_flow": null,
      "grid_area": null,
      "grid_auto_columns": null,
      "grid_auto_flow": null,
      "grid_auto_rows": null,
      "grid_column": null,
      "grid_gap": null,
      "grid_row": null,
      "grid_template_areas": null,
      "grid_template_columns": null,
      "grid_template_rows": null,
      "height": null,
      "justify_content": null,
      "justify_items": null,
      "left": null,
      "margin": null,
      "max_height": null,
      "max_width": null,
      "min_height": null,
      "min_width": null,
      "object_fit": null,
      "object_position": null,
      "order": null,
      "overflow": null,
      "overflow_x": null,
      "overflow_y": null,
      "padding": null,
      "right": null,
      "top": null,
      "visibility": null,
      "width": null
     }
    },
    "23ca656200bc44d2ad3a3f54ccad23b0": {
     "model_module": "@jupyter-widgets/base",
     "model_name": "LayoutModel",
     "state": {
      "_model_module": "@jupyter-widgets/base",
      "_model_module_version": "1.2.0",
      "_model_name": "LayoutModel",
      "_view_count": null,
      "_view_module": "@jupyter-widgets/base",
      "_view_module_version": "1.2.0",
      "_view_name": "LayoutView",
      "align_content": null,
      "align_items": null,
      "align_self": null,
      "border": null,
      "bottom": null,
      "display": null,
      "flex": null,
      "flex_flow": null,
      "grid_area": null,
      "grid_auto_columns": null,
      "grid_auto_flow": null,
      "grid_auto_rows": null,
      "grid_column": null,
      "grid_gap": null,
      "grid_row": null,
      "grid_template_areas": null,
      "grid_template_columns": null,
      "grid_template_rows": null,
      "height": null,
      "justify_content": null,
      "justify_items": null,
      "left": null,
      "margin": null,
      "max_height": null,
      "max_width": null,
      "min_height": null,
      "min_width": null,
      "object_fit": null,
      "object_position": null,
      "order": null,
      "overflow": null,
      "overflow_x": null,
      "overflow_y": null,
      "padding": null,
      "right": null,
      "top": null,
      "visibility": null,
      "width": null
     }
    },
    "31fa267934ae49849d47a03e2421f8bd": {
     "model_module": "@jupyter-widgets/base",
     "model_name": "LayoutModel",
     "state": {
      "_model_module": "@jupyter-widgets/base",
      "_model_module_version": "1.2.0",
      "_model_name": "LayoutModel",
      "_view_count": null,
      "_view_module": "@jupyter-widgets/base",
      "_view_module_version": "1.2.0",
      "_view_name": "LayoutView",
      "align_content": null,
      "align_items": null,
      "align_self": null,
      "border": null,
      "bottom": null,
      "display": null,
      "flex": null,
      "flex_flow": null,
      "grid_area": null,
      "grid_auto_columns": null,
      "grid_auto_flow": null,
      "grid_auto_rows": null,
      "grid_column": null,
      "grid_gap": null,
      "grid_row": null,
      "grid_template_areas": null,
      "grid_template_columns": null,
      "grid_template_rows": null,
      "height": null,
      "justify_content": null,
      "justify_items": null,
      "left": null,
      "margin": null,
      "max_height": null,
      "max_width": null,
      "min_height": null,
      "min_width": null,
      "object_fit": null,
      "object_position": null,
      "order": null,
      "overflow": null,
      "overflow_x": null,
      "overflow_y": null,
      "padding": null,
      "right": null,
      "top": null,
      "visibility": null,
      "width": null
     }
    },
    "324766d98e7e45ba9c4e7578025a4918": {
     "model_module": "@jupyter-widgets/controls",
     "model_name": "ProgressStyleModel",
     "state": {
      "_model_module": "@jupyter-widgets/controls",
      "_model_module_version": "1.5.0",
      "_model_name": "ProgressStyleModel",
      "_view_count": null,
      "_view_module": "@jupyter-widgets/base",
      "_view_module_version": "1.2.0",
      "_view_name": "StyleView",
      "bar_color": null,
      "description_width": "initial"
     }
    },
    "3ed5458b2ecc4776bf72aee22ea5b95f": {
     "model_module": "@jupyter-widgets/controls",
     "model_name": "DescriptionStyleModel",
     "state": {
      "_model_module": "@jupyter-widgets/controls",
      "_model_module_version": "1.5.0",
      "_model_name": "DescriptionStyleModel",
      "_view_count": null,
      "_view_module": "@jupyter-widgets/base",
      "_view_module_version": "1.2.0",
      "_view_name": "StyleView",
      "description_width": ""
     }
    },
    "48658241ead44816bf7b373473c4eb67": {
     "model_module": "@jupyter-widgets/controls",
     "model_name": "FloatProgressModel",
     "state": {
      "_dom_classes": [],
      "_model_module": "@jupyter-widgets/controls",
      "_model_module_version": "1.5.0",
      "_model_name": "FloatProgressModel",
      "_view_count": null,
      "_view_module": "@jupyter-widgets/controls",
      "_view_module_version": "1.5.0",
      "_view_name": "ProgressView",
      "bar_style": "success",
      "description": "Downloading: 100%",
      "description_tooltip": null,
      "layout": "IPY_MODEL_79f9c1ebbd804fc78c902eb402f924e6",
      "max": 231508,
      "min": 0,
      "orientation": "horizontal",
      "style": "IPY_MODEL_ac364ae850714cefad6f05d90fc2bad2",
      "value": 231508
     }
    },
    "48ece5df98a5432f8cc52c1d468e73bc": {
     "model_module": "@jupyter-widgets/controls",
     "model_name": "DescriptionStyleModel",
     "state": {
      "_model_module": "@jupyter-widgets/controls",
      "_model_module_version": "1.5.0",
      "_model_name": "DescriptionStyleModel",
      "_view_count": null,
      "_view_module": "@jupyter-widgets/base",
      "_view_module_version": "1.2.0",
      "_view_name": "StyleView",
      "description_width": ""
     }
    },
    "4983da4302b84d6189af39a1d4a6241d": {
     "model_module": "@jupyter-widgets/controls",
     "model_name": "HTMLModel",
     "state": {
      "_dom_classes": [],
      "_model_module": "@jupyter-widgets/controls",
      "_model_module_version": "1.5.0",
      "_model_name": "HTMLModel",
      "_view_count": null,
      "_view_module": "@jupyter-widgets/controls",
      "_view_module_version": "1.5.0",
      "_view_name": "HTMLView",
      "description": "",
      "description_tooltip": null,
      "layout": "IPY_MODEL_f64e33ade7834a89ac1d9be801a51e78",
      "placeholder": "​",
      "style": "IPY_MODEL_4fb0ab09d7894b44961bee7306e31053",
      "value": " 28.0/28.0 [00:00&lt;00:00, 119B/s]"
     }
    },
    "4ef5fb14f62242908ae17526459081e4": {
     "model_module": "@jupyter-widgets/base",
     "model_name": "LayoutModel",
     "state": {
      "_model_module": "@jupyter-widgets/base",
      "_model_module_version": "1.2.0",
      "_model_name": "LayoutModel",
      "_view_count": null,
      "_view_module": "@jupyter-widgets/base",
      "_view_module_version": "1.2.0",
      "_view_name": "LayoutView",
      "align_content": null,
      "align_items": null,
      "align_self": null,
      "border": null,
      "bottom": null,
      "display": null,
      "flex": null,
      "flex_flow": null,
      "grid_area": null,
      "grid_auto_columns": null,
      "grid_auto_flow": null,
      "grid_auto_rows": null,
      "grid_column": null,
      "grid_gap": null,
      "grid_row": null,
      "grid_template_areas": null,
      "grid_template_columns": null,
      "grid_template_rows": null,
      "height": null,
      "justify_content": null,
      "justify_items": null,
      "left": null,
      "margin": null,
      "max_height": null,
      "max_width": null,
      "min_height": null,
      "min_width": null,
      "object_fit": null,
      "object_position": null,
      "order": null,
      "overflow": null,
      "overflow_x": null,
      "overflow_y": null,
      "padding": null,
      "right": null,
      "top": null,
      "visibility": null,
      "width": null
     }
    },
    "4fb0ab09d7894b44961bee7306e31053": {
     "model_module": "@jupyter-widgets/controls",
     "model_name": "DescriptionStyleModel",
     "state": {
      "_model_module": "@jupyter-widgets/controls",
      "_model_module_version": "1.5.0",
      "_model_name": "DescriptionStyleModel",
      "_view_count": null,
      "_view_module": "@jupyter-widgets/base",
      "_view_module_version": "1.2.0",
      "_view_name": "StyleView",
      "description_width": ""
     }
    },
    "5067513286af423bbe55ac2311951d4a": {
     "model_module": "@jupyter-widgets/controls",
     "model_name": "FloatProgressModel",
     "state": {
      "_dom_classes": [],
      "_model_module": "@jupyter-widgets/controls",
      "_model_module_version": "1.5.0",
      "_model_name": "FloatProgressModel",
      "_view_count": null,
      "_view_module": "@jupyter-widgets/controls",
      "_view_module_version": "1.5.0",
      "_view_name": "ProgressView",
      "bar_style": "success",
      "description": "Downloading: 100%",
      "description_tooltip": null,
      "layout": "IPY_MODEL_885c959c58e64c36b9a6cb35a86ca611",
      "max": 28,
      "min": 0,
      "orientation": "horizontal",
      "style": "IPY_MODEL_7351191476ef441f94a2dc6d8f4be40e",
      "value": 28
     }
    },
    "53fc50e2dd144370b2949a07960a3639": {
     "model_module": "@jupyter-widgets/controls",
     "model_name": "ProgressStyleModel",
     "state": {
      "_model_module": "@jupyter-widgets/controls",
      "_model_module_version": "1.5.0",
      "_model_name": "ProgressStyleModel",
      "_view_count": null,
      "_view_module": "@jupyter-widgets/base",
      "_view_module_version": "1.2.0",
      "_view_name": "StyleView",
      "bar_color": null,
      "description_width": "initial"
     }
    },
    "567f5318a39045b4a631336251074b0c": {
     "model_module": "@jupyter-widgets/controls",
     "model_name": "FloatProgressModel",
     "state": {
      "_dom_classes": [],
      "_model_module": "@jupyter-widgets/controls",
      "_model_module_version": "1.5.0",
      "_model_name": "FloatProgressModel",
      "_view_count": null,
      "_view_module": "@jupyter-widgets/controls",
      "_view_module_version": "1.5.0",
      "_view_name": "ProgressView",
      "bar_style": "success",
      "description": "Downloading: 100%",
      "description_tooltip": null,
      "layout": "IPY_MODEL_e3654e211b554a429a4bd682091baef7",
      "max": 433,
      "min": 0,
      "orientation": "horizontal",
      "style": "IPY_MODEL_53fc50e2dd144370b2949a07960a3639",
      "value": 433
     }
    },
    "5eb7244064bb401c972a15cc582bf231": {
     "model_module": "@jupyter-widgets/controls",
     "model_name": "FloatProgressModel",
     "state": {
      "_dom_classes": [],
      "_model_module": "@jupyter-widgets/controls",
      "_model_module_version": "1.5.0",
      "_model_name": "FloatProgressModel",
      "_view_count": null,
      "_view_module": "@jupyter-widgets/controls",
      "_view_module_version": "1.5.0",
      "_view_name": "ProgressView",
      "bar_style": "success",
      "description": "Downloading: 100%",
      "description_tooltip": null,
      "layout": "IPY_MODEL_e4918b46010948c78ddcbbff794015e1",
      "max": 466062,
      "min": 0,
      "orientation": "horizontal",
      "style": "IPY_MODEL_ae8427aee6ee44228b88e56b35b49ed4",
      "value": 466062
     }
    },
    "6bbbf02d28124c7c851355aa3eed87d0": {
     "model_module": "@jupyter-widgets/base",
     "model_name": "LayoutModel",
     "state": {
      "_model_module": "@jupyter-widgets/base",
      "_model_module_version": "1.2.0",
      "_model_name": "LayoutModel",
      "_view_count": null,
      "_view_module": "@jupyter-widgets/base",
      "_view_module_version": "1.2.0",
      "_view_name": "LayoutView",
      "align_content": null,
      "align_items": null,
      "align_self": null,
      "border": null,
      "bottom": null,
      "display": null,
      "flex": null,
      "flex_flow": null,
      "grid_area": null,
      "grid_auto_columns": null,
      "grid_auto_flow": null,
      "grid_auto_rows": null,
      "grid_column": null,
      "grid_gap": null,
      "grid_row": null,
      "grid_template_areas": null,
      "grid_template_columns": null,
      "grid_template_rows": null,
      "height": null,
      "justify_content": null,
      "justify_items": null,
      "left": null,
      "margin": null,
      "max_height": null,
      "max_width": null,
      "min_height": null,
      "min_width": null,
      "object_fit": null,
      "object_position": null,
      "order": null,
      "overflow": null,
      "overflow_x": null,
      "overflow_y": null,
      "padding": null,
      "right": null,
      "top": null,
      "visibility": null,
      "width": null
     }
    },
    "730a101e0d934ee1a8d6f59fdc5591af": {
     "model_module": "@jupyter-widgets/controls",
     "model_name": "HTMLModel",
     "state": {
      "_dom_classes": [],
      "_model_module": "@jupyter-widgets/controls",
      "_model_module_version": "1.5.0",
      "_model_name": "HTMLModel",
      "_view_count": null,
      "_view_module": "@jupyter-widgets/controls",
      "_view_module_version": "1.5.0",
      "_view_name": "HTMLView",
      "description": "",
      "description_tooltip": null,
      "layout": "IPY_MODEL_cfe65173cf22446cb8e7fcbc590cdc4e",
      "placeholder": "​",
      "style": "IPY_MODEL_3ed5458b2ecc4776bf72aee22ea5b95f",
      "value": " 433/433 [00:09&lt;00:00, 45.6B/s]"
     }
    },
    "7351191476ef441f94a2dc6d8f4be40e": {
     "model_module": "@jupyter-widgets/controls",
     "model_name": "ProgressStyleModel",
     "state": {
      "_model_module": "@jupyter-widgets/controls",
      "_model_module_version": "1.5.0",
      "_model_name": "ProgressStyleModel",
      "_view_count": null,
      "_view_module": "@jupyter-widgets/base",
      "_view_module_version": "1.2.0",
      "_view_name": "StyleView",
      "bar_color": null,
      "description_width": "initial"
     }
    },
    "79f9c1ebbd804fc78c902eb402f924e6": {
     "model_module": "@jupyter-widgets/base",
     "model_name": "LayoutModel",
     "state": {
      "_model_module": "@jupyter-widgets/base",
      "_model_module_version": "1.2.0",
      "_model_name": "LayoutModel",
      "_view_count": null,
      "_view_module": "@jupyter-widgets/base",
      "_view_module_version": "1.2.0",
      "_view_name": "LayoutView",
      "align_content": null,
      "align_items": null,
      "align_self": null,
      "border": null,
      "bottom": null,
      "display": null,
      "flex": null,
      "flex_flow": null,
      "grid_area": null,
      "grid_auto_columns": null,
      "grid_auto_flow": null,
      "grid_auto_rows": null,
      "grid_column": null,
      "grid_gap": null,
      "grid_row": null,
      "grid_template_areas": null,
      "grid_template_columns": null,
      "grid_template_rows": null,
      "height": null,
      "justify_content": null,
      "justify_items": null,
      "left": null,
      "margin": null,
      "max_height": null,
      "max_width": null,
      "min_height": null,
      "min_width": null,
      "object_fit": null,
      "object_position": null,
      "order": null,
      "overflow": null,
      "overflow_x": null,
      "overflow_y": null,
      "padding": null,
      "right": null,
      "top": null,
      "visibility": null,
      "width": null
     }
    },
    "81aec320465b42af9e1f574f715b1a48": {
     "model_module": "@jupyter-widgets/controls",
     "model_name": "HBoxModel",
     "state": {
      "_dom_classes": [],
      "_model_module": "@jupyter-widgets/controls",
      "_model_module_version": "1.5.0",
      "_model_name": "HBoxModel",
      "_view_count": null,
      "_view_module": "@jupyter-widgets/controls",
      "_view_module_version": "1.5.0",
      "_view_name": "HBoxView",
      "box_style": "",
      "children": [
       "IPY_MODEL_5eb7244064bb401c972a15cc582bf231",
       "IPY_MODEL_b42ca923967b4152a06e1074c2087690"
      ],
      "layout": "IPY_MODEL_6bbbf02d28124c7c851355aa3eed87d0"
     }
    },
    "885c959c58e64c36b9a6cb35a86ca611": {
     "model_module": "@jupyter-widgets/base",
     "model_name": "LayoutModel",
     "state": {
      "_model_module": "@jupyter-widgets/base",
      "_model_module_version": "1.2.0",
      "_model_name": "LayoutModel",
      "_view_count": null,
      "_view_module": "@jupyter-widgets/base",
      "_view_module_version": "1.2.0",
      "_view_name": "LayoutView",
      "align_content": null,
      "align_items": null,
      "align_self": null,
      "border": null,
      "bottom": null,
      "display": null,
      "flex": null,
      "flex_flow": null,
      "grid_area": null,
      "grid_auto_columns": null,
      "grid_auto_flow": null,
      "grid_auto_rows": null,
      "grid_column": null,
      "grid_gap": null,
      "grid_row": null,
      "grid_template_areas": null,
      "grid_template_columns": null,
      "grid_template_rows": null,
      "height": null,
      "justify_content": null,
      "justify_items": null,
      "left": null,
      "margin": null,
      "max_height": null,
      "max_width": null,
      "min_height": null,
      "min_width": null,
      "object_fit": null,
      "object_position": null,
      "order": null,
      "overflow": null,
      "overflow_x": null,
      "overflow_y": null,
      "padding": null,
      "right": null,
      "top": null,
      "visibility": null,
      "width": null
     }
    },
    "a87cb7a61d6e44af906bf2843b193c06": {
     "model_module": "@jupyter-widgets/controls",
     "model_name": "HBoxModel",
     "state": {
      "_dom_classes": [],
      "_model_module": "@jupyter-widgets/controls",
      "_model_module_version": "1.5.0",
      "_model_name": "HBoxModel",
      "_view_count": null,
      "_view_module": "@jupyter-widgets/controls",
      "_view_module_version": "1.5.0",
      "_view_name": "HBoxView",
      "box_style": "",
      "children": [
       "IPY_MODEL_ae356230c29b4585b2bd07a5b9359c50",
       "IPY_MODEL_e713517e4e8d4140b643d9cd50187b75"
      ],
      "layout": "IPY_MODEL_da6175ae962444d1ba2621325ecc2a9b"
     }
    },
    "ac364ae850714cefad6f05d90fc2bad2": {
     "model_module": "@jupyter-widgets/controls",
     "model_name": "ProgressStyleModel",
     "state": {
      "_model_module": "@jupyter-widgets/controls",
      "_model_module_version": "1.5.0",
      "_model_name": "ProgressStyleModel",
      "_view_count": null,
      "_view_module": "@jupyter-widgets/base",
      "_view_module_version": "1.2.0",
      "_view_name": "StyleView",
      "bar_color": null,
      "description_width": "initial"
     }
    },
    "ae356230c29b4585b2bd07a5b9359c50": {
     "model_module": "@jupyter-widgets/controls",
     "model_name": "FloatProgressModel",
     "state": {
      "_dom_classes": [],
      "_model_module": "@jupyter-widgets/controls",
      "_model_module_version": "1.5.0",
      "_model_name": "FloatProgressModel",
      "_view_count": null,
      "_view_module": "@jupyter-widgets/controls",
      "_view_module_version": "1.5.0",
      "_view_name": "ProgressView",
      "bar_style": "success",
      "description": "Downloading: 100%",
      "description_tooltip": null,
      "layout": "IPY_MODEL_31fa267934ae49849d47a03e2421f8bd",
      "max": 440473133,
      "min": 0,
      "orientation": "horizontal",
      "style": "IPY_MODEL_324766d98e7e45ba9c4e7578025a4918",
      "value": 440473133
     }
    },
    "ae8427aee6ee44228b88e56b35b49ed4": {
     "model_module": "@jupyter-widgets/controls",
     "model_name": "ProgressStyleModel",
     "state": {
      "_model_module": "@jupyter-widgets/controls",
      "_model_module_version": "1.5.0",
      "_model_name": "ProgressStyleModel",
      "_view_count": null,
      "_view_module": "@jupyter-widgets/base",
      "_view_module_version": "1.2.0",
      "_view_name": "StyleView",
      "bar_color": null,
      "description_width": "initial"
     }
    },
    "b332e35bdc8a4928b90ca1822e2b5d9d": {
     "model_module": "@jupyter-widgets/controls",
     "model_name": "HBoxModel",
     "state": {
      "_dom_classes": [],
      "_model_module": "@jupyter-widgets/controls",
      "_model_module_version": "1.5.0",
      "_model_name": "HBoxModel",
      "_view_count": null,
      "_view_module": "@jupyter-widgets/controls",
      "_view_module_version": "1.5.0",
      "_view_name": "HBoxView",
      "box_style": "",
      "children": [
       "IPY_MODEL_5067513286af423bbe55ac2311951d4a",
       "IPY_MODEL_4983da4302b84d6189af39a1d4a6241d"
      ],
      "layout": "IPY_MODEL_ef0bc0c72ee446fd8ca54da7f5e2449c"
     }
    },
    "b42ca923967b4152a06e1074c2087690": {
     "model_module": "@jupyter-widgets/controls",
     "model_name": "HTMLModel",
     "state": {
      "_dom_classes": [],
      "_model_module": "@jupyter-widgets/controls",
      "_model_module_version": "1.5.0",
      "_model_name": "HTMLModel",
      "_view_count": null,
      "_view_module": "@jupyter-widgets/controls",
      "_view_module_version": "1.5.0",
      "_view_name": "HTMLView",
      "description": "",
      "description_tooltip": null,
      "layout": "IPY_MODEL_1896eaa685304690b0caf3556a5e8cd7",
      "placeholder": "​",
      "style": "IPY_MODEL_0a37fb1556f644628f436af5f1cbf143",
      "value": " 466k/466k [00:00&lt;00:00, 1.22MB/s]"
     }
    },
    "ca51306da2a04486b35cd4e08d7918b6": {
     "model_module": "@jupyter-widgets/controls",
     "model_name": "HTMLModel",
     "state": {
      "_dom_classes": [],
      "_model_module": "@jupyter-widgets/controls",
      "_model_module_version": "1.5.0",
      "_model_name": "HTMLModel",
      "_view_count": null,
      "_view_module": "@jupyter-widgets/controls",
      "_view_module_version": "1.5.0",
      "_view_name": "HTMLView",
      "description": "",
      "description_tooltip": null,
      "layout": "IPY_MODEL_4ef5fb14f62242908ae17526459081e4",
      "placeholder": "​",
      "style": "IPY_MODEL_48ece5df98a5432f8cc52c1d468e73bc",
      "value": " 232k/232k [00:09&lt;00:00, 24.7kB/s]"
     }
    },
    "cfe65173cf22446cb8e7fcbc590cdc4e": {
     "model_module": "@jupyter-widgets/base",
     "model_name": "LayoutModel",
     "state": {
      "_model_module": "@jupyter-widgets/base",
      "_model_module_version": "1.2.0",
      "_model_name": "LayoutModel",
      "_view_count": null,
      "_view_module": "@jupyter-widgets/base",
      "_view_module_version": "1.2.0",
      "_view_name": "LayoutView",
      "align_content": null,
      "align_items": null,
      "align_self": null,
      "border": null,
      "bottom": null,
      "display": null,
      "flex": null,
      "flex_flow": null,
      "grid_area": null,
      "grid_auto_columns": null,
      "grid_auto_flow": null,
      "grid_auto_rows": null,
      "grid_column": null,
      "grid_gap": null,
      "grid_row": null,
      "grid_template_areas": null,
      "grid_template_columns": null,
      "grid_template_rows": null,
      "height": null,
      "justify_content": null,
      "justify_items": null,
      "left": null,
      "margin": null,
      "max_height": null,
      "max_width": null,
      "min_height": null,
      "min_width": null,
      "object_fit": null,
      "object_position": null,
      "order": null,
      "overflow": null,
      "overflow_x": null,
      "overflow_y": null,
      "padding": null,
      "right": null,
      "top": null,
      "visibility": null,
      "width": null
     }
    },
    "da6175ae962444d1ba2621325ecc2a9b": {
     "model_module": "@jupyter-widgets/base",
     "model_name": "LayoutModel",
     "state": {
      "_model_module": "@jupyter-widgets/base",
      "_model_module_version": "1.2.0",
      "_model_name": "LayoutModel",
      "_view_count": null,
      "_view_module": "@jupyter-widgets/base",
      "_view_module_version": "1.2.0",
      "_view_name": "LayoutView",
      "align_content": null,
      "align_items": null,
      "align_self": null,
      "border": null,
      "bottom": null,
      "display": null,
      "flex": null,
      "flex_flow": null,
      "grid_area": null,
      "grid_auto_columns": null,
      "grid_auto_flow": null,
      "grid_auto_rows": null,
      "grid_column": null,
      "grid_gap": null,
      "grid_row": null,
      "grid_template_areas": null,
      "grid_template_columns": null,
      "grid_template_rows": null,
      "height": null,
      "justify_content": null,
      "justify_items": null,
      "left": null,
      "margin": null,
      "max_height": null,
      "max_width": null,
      "min_height": null,
      "min_width": null,
      "object_fit": null,
      "object_position": null,
      "order": null,
      "overflow": null,
      "overflow_x": null,
      "overflow_y": null,
      "padding": null,
      "right": null,
      "top": null,
      "visibility": null,
      "width": null
     }
    },
    "e3654e211b554a429a4bd682091baef7": {
     "model_module": "@jupyter-widgets/base",
     "model_name": "LayoutModel",
     "state": {
      "_model_module": "@jupyter-widgets/base",
      "_model_module_version": "1.2.0",
      "_model_name": "LayoutModel",
      "_view_count": null,
      "_view_module": "@jupyter-widgets/base",
      "_view_module_version": "1.2.0",
      "_view_name": "LayoutView",
      "align_content": null,
      "align_items": null,
      "align_self": null,
      "border": null,
      "bottom": null,
      "display": null,
      "flex": null,
      "flex_flow": null,
      "grid_area": null,
      "grid_auto_columns": null,
      "grid_auto_flow": null,
      "grid_auto_rows": null,
      "grid_column": null,
      "grid_gap": null,
      "grid_row": null,
      "grid_template_areas": null,
      "grid_template_columns": null,
      "grid_template_rows": null,
      "height": null,
      "justify_content": null,
      "justify_items": null,
      "left": null,
      "margin": null,
      "max_height": null,
      "max_width": null,
      "min_height": null,
      "min_width": null,
      "object_fit": null,
      "object_position": null,
      "order": null,
      "overflow": null,
      "overflow_x": null,
      "overflow_y": null,
      "padding": null,
      "right": null,
      "top": null,
      "visibility": null,
      "width": null
     }
    },
    "e4918b46010948c78ddcbbff794015e1": {
     "model_module": "@jupyter-widgets/base",
     "model_name": "LayoutModel",
     "state": {
      "_model_module": "@jupyter-widgets/base",
      "_model_module_version": "1.2.0",
      "_model_name": "LayoutModel",
      "_view_count": null,
      "_view_module": "@jupyter-widgets/base",
      "_view_module_version": "1.2.0",
      "_view_name": "LayoutView",
      "align_content": null,
      "align_items": null,
      "align_self": null,
      "border": null,
      "bottom": null,
      "display": null,
      "flex": null,
      "flex_flow": null,
      "grid_area": null,
      "grid_auto_columns": null,
      "grid_auto_flow": null,
      "grid_auto_rows": null,
      "grid_column": null,
      "grid_gap": null,
      "grid_row": null,
      "grid_template_areas": null,
      "grid_template_columns": null,
      "grid_template_rows": null,
      "height": null,
      "justify_content": null,
      "justify_items": null,
      "left": null,
      "margin": null,
      "max_height": null,
      "max_width": null,
      "min_height": null,
      "min_width": null,
      "object_fit": null,
      "object_position": null,
      "order": null,
      "overflow": null,
      "overflow_x": null,
      "overflow_y": null,
      "padding": null,
      "right": null,
      "top": null,
      "visibility": null,
      "width": null
     }
    },
    "e625426205f94ca09b225f531d2d13ef": {
     "model_module": "@jupyter-widgets/controls",
     "model_name": "HBoxModel",
     "state": {
      "_dom_classes": [],
      "_model_module": "@jupyter-widgets/controls",
      "_model_module_version": "1.5.0",
      "_model_name": "HBoxModel",
      "_view_count": null,
      "_view_module": "@jupyter-widgets/controls",
      "_view_module_version": "1.5.0",
      "_view_name": "HBoxView",
      "box_style": "",
      "children": [
       "IPY_MODEL_48658241ead44816bf7b373473c4eb67",
       "IPY_MODEL_ca51306da2a04486b35cd4e08d7918b6"
      ],
      "layout": "IPY_MODEL_f21abba49c7a41ee912293699be72372"
     }
    },
    "e713517e4e8d4140b643d9cd50187b75": {
     "model_module": "@jupyter-widgets/controls",
     "model_name": "HTMLModel",
     "state": {
      "_dom_classes": [],
      "_model_module": "@jupyter-widgets/controls",
      "_model_module_version": "1.5.0",
      "_model_name": "HTMLModel",
      "_view_count": null,
      "_view_module": "@jupyter-widgets/controls",
      "_view_module_version": "1.5.0",
      "_view_name": "HTMLView",
      "description": "",
      "description_tooltip": null,
      "layout": "IPY_MODEL_19085fa2804b440a9ab4b648f9244381",
      "placeholder": "​",
      "style": "IPY_MODEL_e7786e7873d14a9abdf9ea65f9aaf0aa",
      "value": " 440M/440M [00:08&lt;00:00, 49.5MB/s]"
     }
    },
    "e7786e7873d14a9abdf9ea65f9aaf0aa": {
     "model_module": "@jupyter-widgets/controls",
     "model_name": "DescriptionStyleModel",
     "state": {
      "_model_module": "@jupyter-widgets/controls",
      "_model_module_version": "1.5.0",
      "_model_name": "DescriptionStyleModel",
      "_view_count": null,
      "_view_module": "@jupyter-widgets/base",
      "_view_module_version": "1.2.0",
      "_view_name": "StyleView",
      "description_width": ""
     }
    },
    "ef0bc0c72ee446fd8ca54da7f5e2449c": {
     "model_module": "@jupyter-widgets/base",
     "model_name": "LayoutModel",
     "state": {
      "_model_module": "@jupyter-widgets/base",
      "_model_module_version": "1.2.0",
      "_model_name": "LayoutModel",
      "_view_count": null,
      "_view_module": "@jupyter-widgets/base",
      "_view_module_version": "1.2.0",
      "_view_name": "LayoutView",
      "align_content": null,
      "align_items": null,
      "align_self": null,
      "border": null,
      "bottom": null,
      "display": null,
      "flex": null,
      "flex_flow": null,
      "grid_area": null,
      "grid_auto_columns": null,
      "grid_auto_flow": null,
      "grid_auto_rows": null,
      "grid_column": null,
      "grid_gap": null,
      "grid_row": null,
      "grid_template_areas": null,
      "grid_template_columns": null,
      "grid_template_rows": null,
      "height": null,
      "justify_content": null,
      "justify_items": null,
      "left": null,
      "margin": null,
      "max_height": null,
      "max_width": null,
      "min_height": null,
      "min_width": null,
      "object_fit": null,
      "object_position": null,
      "order": null,
      "overflow": null,
      "overflow_x": null,
      "overflow_y": null,
      "padding": null,
      "right": null,
      "top": null,
      "visibility": null,
      "width": null
     }
    },
    "f21abba49c7a41ee912293699be72372": {
     "model_module": "@jupyter-widgets/base",
     "model_name": "LayoutModel",
     "state": {
      "_model_module": "@jupyter-widgets/base",
      "_model_module_version": "1.2.0",
      "_model_name": "LayoutModel",
      "_view_count": null,
      "_view_module": "@jupyter-widgets/base",
      "_view_module_version": "1.2.0",
      "_view_name": "LayoutView",
      "align_content": null,
      "align_items": null,
      "align_self": null,
      "border": null,
      "bottom": null,
      "display": null,
      "flex": null,
      "flex_flow": null,
      "grid_area": null,
      "grid_auto_columns": null,
      "grid_auto_flow": null,
      "grid_auto_rows": null,
      "grid_column": null,
      "grid_gap": null,
      "grid_row": null,
      "grid_template_areas": null,
      "grid_template_columns": null,
      "grid_template_rows": null,
      "height": null,
      "justify_content": null,
      "justify_items": null,
      "left": null,
      "margin": null,
      "max_height": null,
      "max_width": null,
      "min_height": null,
      "min_width": null,
      "object_fit": null,
      "object_position": null,
      "order": null,
      "overflow": null,
      "overflow_x": null,
      "overflow_y": null,
      "padding": null,
      "right": null,
      "top": null,
      "visibility": null,
      "width": null
     }
    },
    "f64e33ade7834a89ac1d9be801a51e78": {
     "model_module": "@jupyter-widgets/base",
     "model_name": "LayoutModel",
     "state": {
      "_model_module": "@jupyter-widgets/base",
      "_model_module_version": "1.2.0",
      "_model_name": "LayoutModel",
      "_view_count": null,
      "_view_module": "@jupyter-widgets/base",
      "_view_module_version": "1.2.0",
      "_view_name": "LayoutView",
      "align_content": null,
      "align_items": null,
      "align_self": null,
      "border": null,
      "bottom": null,
      "display": null,
      "flex": null,
      "flex_flow": null,
      "grid_area": null,
      "grid_auto_columns": null,
      "grid_auto_flow": null,
      "grid_auto_rows": null,
      "grid_column": null,
      "grid_gap": null,
      "grid_row": null,
      "grid_template_areas": null,
      "grid_template_columns": null,
      "grid_template_rows": null,
      "height": null,
      "justify_content": null,
      "justify_items": null,
      "left": null,
      "margin": null,
      "max_height": null,
      "max_width": null,
      "min_height": null,
      "min_width": null,
      "object_fit": null,
      "object_position": null,
      "order": null,
      "overflow": null,
      "overflow_x": null,
      "overflow_y": null,
      "padding": null,
      "right": null,
      "top": null,
      "visibility": null,
      "width": null
     }
    }
   }
  }
 },
 "nbformat": 4,
 "nbformat_minor": 1
}
